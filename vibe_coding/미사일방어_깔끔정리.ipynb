{
 "cells": [
  {
   "cell_type": "markdown",
   "id": "80f1171b",
   "metadata": {},
   "source": [
    "# 🚀 3차원 미사일 방어 시스템 - 정리본\n",
    "\n",
    "## 문제 정의\n",
    "- 적 미사일 궤도: P_H1(t) = (250-20t, 300-25t, 400-4.9t²)\n",
    "- 알파 기지 위치: S_A = (50, 20, 0)\n",
    "- 요격 미사일 속력: 120 m/s\n",
    "- 목표: 가장 빠른 요격 시간과 3D 시각화"
   ]
  },
  {
   "cell_type": "code",
   "execution_count": 1,
   "id": "12a9ee92",
   "metadata": {},
   "outputs": [
    {
     "name": "stdout",
     "output_type": "stream",
     "text": [
      "한글 폰트 설정: 성공\n"
     ]
    }
   ],
   "source": [
    "# 필수 라이브러리\n",
    "import numpy as np\n",
    "import matplotlib.pyplot as plt\n",
    "import plotly.graph_objects as go\n",
    "import matplotlib.font_manager as fm\n",
    "import platform\n",
    "\n",
    "# 한글 폰트 설정\n",
    "def set_korean_font():\n",
    "    system = platform.system()\n",
    "    if system == 'Windows':\n",
    "        korean_fonts = ['Malgun Gothic', 'Arial Unicode MS', 'Gulim']\n",
    "        for font_name in korean_fonts:\n",
    "            try:\n",
    "                font_list = [f.name for f in fm.fontManager.ttflist]\n",
    "                if font_name in font_list:\n",
    "                    plt.rcParams['font.family'] = font_name\n",
    "                    plt.rcParams['axes.unicode_minus'] = False\n",
    "                    return True\n",
    "            except:\n",
    "                continue\n",
    "    return False\n",
    "\n",
    "font_success = set_korean_font()\n",
    "print(f\"한글 폰트 설정: {'성공' if font_success else '실패'}\")"
   ]
  },
  {
   "cell_type": "code",
   "execution_count": 2,
   "id": "f89f4840",
   "metadata": {},
   "outputs": [
    {
     "name": "stdout",
     "output_type": "stream",
     "text": [
      "\n",
      "=== 초기 조건 ===\n",
      "알파 기지 위치: [50 20  0]\n",
      "요격 미사일 속력: 120 m/s\n",
      "적 미사일 초기 속력: 32.02 m/s\n"
     ]
    }
   ],
   "source": [
    "# 기본 설정 및 함수 정의\n",
    "def enemy_missile_position(t):\n",
    "    \"\"\"적 미사일 궤도 P_H1(t)\"\"\"\n",
    "    return np.array([250-20*t, 300-25*t, 400-4.9*t**2])\n",
    "\n",
    "def enemy_velocity(t):\n",
    "    \"\"\"적 미사일 속도\"\"\"\n",
    "    return np.array([-20, -25, -9.8*t])\n",
    "\n",
    "def enemy_speed(t):\n",
    "    \"\"\"적 미사일 속력\"\"\"\n",
    "    return np.linalg.norm(enemy_velocity(t))\n",
    "\n",
    "# 초기 조건\n",
    "S_A = np.array([50, 20, 0])  # 알파 기지\n",
    "v_I = 120  # 요격 미사일 속력\n",
    "\n",
    "# 적 미사일 초기 속력\n",
    "initial_speed = enemy_speed(0)\n",
    "print(f\"\\n=== 초기 조건 ===\")\n",
    "print(f\"알파 기지 위치: {S_A}\")\n",
    "print(f\"요격 미사일 속력: {v_I} m/s\")\n",
    "print(f\"적 미사일 초기 속력: {initial_speed:.2f} m/s\")"
   ]
  },
  {
   "cell_type": "code",
   "execution_count": 3,
   "id": "3dc2c14f",
   "metadata": {},
   "outputs": [
    {
     "name": "stdout",
     "output_type": "stream",
     "text": [
      "\n",
      "=== 계산 결과 ===\n",
      "요격 시간: 3.4503 초\n",
      "요격 지점: (181.0, 213.7, 341.7)\n",
      "발사 방향: (0.3164, 0.4679, 0.8252)\n"
     ]
    }
   ],
   "source": [
    "# 요격 시간 계산 (핵심 알고리즘)\n",
    "def find_intercept_time():\n",
    "    \"\"\"가장 빠른 요격 시간 계산\"\"\"\n",
    "    def equation(t):\n",
    "        if t <= 0:\n",
    "            return float('inf')\n",
    "        enemy_pos = enemy_missile_position(t)\n",
    "        distance = np.linalg.norm(enemy_pos - S_A)\n",
    "        return distance - v_I * t\n",
    "    \n",
    "    # 해 찾기\n",
    "    t_values = np.linspace(0.1, 10, 1000)\n",
    "    solutions = []\n",
    "    \n",
    "    for i in range(len(t_values)-1):\n",
    "        if equation(t_values[i]) * equation(t_values[i+1]) < 0:\n",
    "            # 이분법\n",
    "            left, right = t_values[i], t_values[i+1]\n",
    "            for _ in range(50):\n",
    "                mid = (left + right) / 2\n",
    "                if equation(mid) * equation(left) < 0:\n",
    "                    right = mid\n",
    "                else:\n",
    "                    left = mid\n",
    "                if abs(right - left) < 1e-10:\n",
    "                    break\n",
    "            solutions.append((left + right) / 2)\n",
    "    \n",
    "    return min(solutions) if solutions else None\n",
    "\n",
    "# 계산 실행\n",
    "t_impact = find_intercept_time()\n",
    "P_impact = enemy_missile_position(t_impact)\n",
    "direction_vector = P_impact - S_A\n",
    "u = direction_vector / np.linalg.norm(direction_vector)\n",
    "\n",
    "print(f\"\\n=== 계산 결과 ===\")\n",
    "print(f\"요격 시간: {t_impact:.4f} 초\")\n",
    "print(f\"요격 지점: ({P_impact[0]:.1f}, {P_impact[1]:.1f}, {P_impact[2]:.1f})\")\n",
    "print(f\"발사 방향: ({u[0]:.4f}, {u[1]:.4f}, {u[2]:.4f})\")"
   ]
  },
  {
   "cell_type": "code",
   "execution_count": 4,
   "id": "f427bc01",
   "metadata": {},
   "outputs": [
    {
     "data": {
      "application/vnd.plotly.v1+json": {
       "config": {
        "plotlyServerURL": "https://plot.ly"
       },
       "data": [
        {
         "marker": {
          "color": "red",
          "size": 15,
          "symbol": "diamond"
         },
         "mode": "markers",
         "name": "🏙️ 도시",
         "type": "scatter3d",
         "x": [
          0
         ],
         "y": [
          0
         ],
         "z": [
          0
         ]
        },
        {
         "marker": {
          "color": "blue",
          "size": 12,
          "symbol": "square"
         },
         "mode": "markers",
         "name": "🏭 알파 기지",
         "type": "scatter3d",
         "x": [
          50
         ],
         "y": [
          20
         ],
         "z": [
          0
         ]
        },
        {
         "line": {
          "color": "red",
          "width": 5
         },
         "mode": "lines",
         "name": "🚀 적 미사일",
         "type": "scatter3d",
         "x": {
          "bdata": "AAAAAABAb0CgvqbROyVvQEF9TaN3Cm9A4Tv0dLPvbkCC+ppG79RuQCK5QRgrum5Aw3fo6WafbkBjNo+7ooRuQAP1NY3eaW5ApLPcXhpPbkBEcoMwVjRuQOUwKgKSGW5Ahe/Q083+bUAmrnelCeRtQMZsHndFyW1AZivFSIGubUAH6msavZNtQKeoEuz4eG1ASGe5vTRebUDoJWCPcENtQInkBmGsKG1AKaOtMugNbUDKYVQEJPNsQGog+9Vf2GxACt+hp5u9bECrnUh516JsQEtc70oTiGxA7BqWHE9tbECM2TzuilJsQCyY47/GN2xAzVaKkQIdbEBtFTFjPgJsQA7U1zR652tArpJ+BrbMa0BPUSXY8bFrQO8PzKktl2tAkM5ye2l8a0AwjRlNpWFrQNBLwB7hRmtAcQpn8Bwsa0ARyQ3CWBFrQLKHtJOU9mpAUkZbZdDbakDyBAI3DMFqQJPDqAhIpmpANIJP2oOLakDUQParv3BqQHT/nH37VWpAFb5DTzc7akC1fOogcyBqQFY7kfKuBWpA9vk3xOrqaUCWuN6VJtBpQDd3hWditWlA1zUsOZ6aaUB49NIK2n9pQBizedwVZWlAuXEgrlFKaUBZMMd/jS9pQPrubVHJFGlAmq0UIwX6aEA6bLv0QN9oQNoqYsZ8xGhAe+kImLipaEAcqK9p9I5oQLxmVjswdGhAXCX9DGxZaED946Pepz5oQJ2iSrDjI2hAPmHxgR8JaEDeH5hTW+5nQH7ePiWX02dAH53l9tK4Z0DAW4zIDp5nQGAaM5pKg2dAANnZa4ZoZ0Chl4A9wk1nQEFWJw/+MmdA4hTO4DkYZ0CC03Sydf1mQCKSG4Sx4mZAw1DCVe3HZkBkD2knKa1mQATOD/lkkmZApIy2yqB3ZkBES12c3FxmQOUJBG4YQmZAhsiqP1QnZkAmh1ERkAxmQMZF+OLL8WVAZwSftAfXZUAHw0WGQ7xlQKiB7Fd/oWVASECTKbuGZUDo/jn79mtlQIm94MwyUWVAKnyHnm42ZUDKOi5wqhtlQGr51EHmAGVACrh7EyLmZEA=",
          "dtype": "f8"
         },
         "y": {
          "bdata": "AAAAAADAckAkNwhjRa9yQEluEMaKnnJAbaUYKdCNckCR3CCMFX1yQLUTKe9abHJA2koxUqBbckD+gTm15UpyQCK5QRgrOnJARvBJe3ApckBrJ1LetRhyQI9eWkH7B3JAs5VipED3cUDYzGoHhuZxQPwDc2rL1XFAIDt7zRDFcUBEcoMwVrRxQGmpi5Obo3FAjeCT9uCScUCxF5xZJoJxQNVOpLxrcXFA+oWsH7FgcUAevbSC9k9xQEL0vOU7P3FAZivFSIEucUCLYs2rxh1xQK+Z1Q4MDXFA09DdcVH8cED4B+bUlutwQBw/7jfc2nBAQHb2miHKcEBkrf79ZrlwQInkBmGsqHBArRsPxPGXcEDRUhcnN4dwQPaJH4p8dnBAGsEn7cFlcEA++C9QB1VwQGIvOLNMRHBAhmZAFpIzcECrnUh51yJwQM/UUNwcEnBA8wtZP2IBcEAvhsJET+FvQHj00grav29AwGLj0GSeb0AJ0fOW73xvQFE/BF16W29Amq0UIwU6b0DiGyXpjxhvQCuKNa8a925AdPhFdaXVbkC8ZlY7MLRuQATVZgG7km5ATUN3x0VxbkCWsYeN0E9uQN4fmFNbLm5AJ46oGeYMbkBv/LjfcOttQLhqyaX7yW1AANnZa4aobUBJR+oxEYdtQJK1+vebZW1A2iMLviZEbUAikhuEsSJtQGsALEo8AW1AtG48EMffbED83EzWUb5sQERLXZzcnGxAjrltYmd7bEDWJ34o8llsQB6Wju58OGxAZwSftAcXbECwcq96kvVrQPjgv0Ad1GtAQE/QBqiya0CJveDMMpFrQNIr8ZK9b2tAGpoBWUhOa0BiCBIf0yxrQKt2IuVdC2tA9OQyq+jpakA8U0Nxc8hqQIXBUzf+pmpAzi9k/YiFakAWnnTDE2RqQF4MhYmeQmpAp3qVTykhakDw6KUVtP9pQDhXtts+3mlAgMXGocm8aUDJM9dnVJtpQBKi5y3feWlAWhD482lYaUCifgi69DZpQOvsGIB/FWlANFspRgr0aEB8yTkMldJoQMQ3StIfsWhADqZamKqPaEA=",
          "dtype": "f8"
         },
         "z": {
          "bdata": "AAAAAAAAeUDhIAXl3P94QIKDFJRz/3hA5ScuDcT+eEAJDlJQzv14QO41gF2S/HhAlJ+4NBD7eED8SvvVR/l4QCQ4SEE593hADmefduT0eEC51wB2SfJ4QCSKbD9o73hAUn7i0kDseEBAtGIw0+h4QO8r7Vcf5XhAX+WBSSXheECR4CAF5dx4QIQdyope2HhAN5x92pHTeECsXDv0fs54QOJeA9glyXhA2qLVhYbDeECSKLL9oL14QAvwmD91t3hARvmJSwOxeEBCRIUhS6p4QP/QisFMo3hAfZ+aKwiceEC8r7RffZR4QLwB2V2sjHhAfZUHJpWEeEAAa0C4N3x4QESCgxSUc3hASNvQOqpqeEAOdigremF4QJVSiuUDWHhA3nD2aUdOeEDn0Gy4RER4QLFy7dD7OXhAPVZ4s2wveECKew1glyR4QJjirNZ7GXhAZ4tWFxoOeED3dQoicgJ4QEiiyPaD9ndAWhCRlU/qd0AuwGP+1N13QMKxQDEU0XdAGOUnLg3Ed0AvWhn1v7Z3QAcRFYYsqXdAoAkb4VKbd0D7QysGM413QBbARfXMfndA831qriBwd0CQfZkxLmF3QO++0n71UXdAD0IWlnZCd0DwBmR3sTJ3QJINvCKmIndA9lUemFQSd0Aa4IrXvAF3QACsAeHe8HZAp7mCtLrfdkAPCQ5SUM52QDiao7mfvHZAIm1D66iqdkDNge3ma5h2QDnYoazohXZAZ3BgPB9zdkBWSimWD2B2QAVm/Lm5THZAdsPZpx05dkCoYsFfOyV2QJxDs+ESEXZAUGavLaT8dUDFyrVD7+d1QPxwxiP00nVA9FjhzbK9dUCtggZCK6h1QCfuNYBdknVAYptviEl8dUBeirNa72V1QBy7AfdOT3VAmi1aXWg4dUDa4byNOyF1QNrXKYjICXVAnA+hTA/ydEAgiSLbD9p0QGRErjPKwXRAaUFEVj6pdEAwgORCbJB0QLcAj/lTd3RAAMNDevVddEAKxwLFUER0QNUMzNllKnRAYZSfuDQQdECuXX1hvfVzQLxoZdT/2nNAjLVXEfy/c0A=",
          "dtype": "f8"
         }
        },
        {
         "line": {
          "color": "blue",
          "width": 5
         },
         "mode": "lines",
         "name": "🛡️ 요격 미사일",
         "type": "scatter3d",
         "x": {
          "bdata": "AAAAAAAASUBk19WYL1ZKQMiuqzFfrEtALIaByo4CTUCQXVdjvlhOQPQ0Lfztrk9ALIaByo6CUEDeceyWpi1RQJBdV2O+2FFAQUnCL9aDUkD0NC387S5TQKYgmMgF2lNAVwwDlR2FVEAK+G1hNTBVQLvj2C1N21VAbs9D+mSGVkAfu67GfDFXQNGmGZOU3FdAgpKEX6yHWEA1fu8rxDJZQOdpWvjb3VlAmVXFxPOIWkBLQTCRCzRbQPwsm10j31tArhgGKjuKXEBhBHH2UjVdQBPw28Jq4F1AxdtGj4KLXkB2x7FbmjZfQCizHCiy4V9Abs9D+mRGYEBGRXng8JtgQB+7rsZ88WBA+DDkrAhHYUDRphmTlJxhQKocT3kg8mFAgpKEX6xHYkBcCLpFOJ1iQDV+7yvE8mJADvQkElBIY0DnaVr4251jQMDfj95n82NAmVXFxPNIZEByy/qqf55kQEtBMJEL9GRAJLdld5dJZUD8LJtdI59lQNai0EOv9GVArhgGKjtKZkCIjjsQx59mQA==",
          "dtype": "f8"
         },
         "y": {
          "bdata": "AAAAAAAANEC/cvwSM/Q3QH7l+CVm6DtAPFj1OJncP0B+5fglZuhBQN0ed69/4kNAPFj1OJncRUCckXPCstZHQPzK8UvM0ElAWgRw1eXKS0C6Pe5e/8RNQBp3bOgYv09APFj1OJncUEDsdLT9pdlRQJyRc8Ky1lJATK4yh7/TU0D8yvFLzNBUQKvnsBDZzVVAWgRw1eXKVkALIS+a8sdXQLo97l7/xFhAalqtIwzCWUAad2zoGL9aQMiTK60lvFtAeLDqcTK5XEApzak2P7ZdQNnpaPtLs15AiAYowFiwX0CckXPCslZgQPQf0yQ51WBATK4yh79TYUCjPJLpRdJhQPzK8UvMUGJAVFlRrlLPYkCr57AQ2U1jQAN2EHNfzGNAWgRw1eVKZECyks83bMlkQAshL5ryR2VAYq+O/HjGZUC6Pe5e/0RmQBLMTcGFw2ZAalqtIwxCZ0DC6AyGksBnQBp3bOgYP2hAcgXMSp+9aEDIkyutJTxpQCEiiw+sumlAeLDqcTI5akDRPkrUuLdqQA==",
          "dtype": "f8"
         },
         "z": {
          "bdata": "AAAAAAAAAACrimNDH+QbQKuKY0Mf5CtA/6eKchfrNECrimNDH+Q7QKs2HoqTbkFA/6eKchfrREBUGfdam2dIQKuKY0Mf5EtA/vvPK6NgT0CrNh6Kk25RQFVvVH7VLFNA/6eKchfrVECr4MBmWalWQFQZ91qbZ1hAAFItT90lWkCrimNDH+RbQFXDmTdhol1A/vvPK6NgX0BVGgOQco9gQKs2HoqTbmFAAFM5hLRNYkBVb1R+1SxjQKqLb3j2C2RA/6eKchfrZEBVxKVsOMplQKvgwGZZqWZAAP3bYHqIZ0BUGfdam2doQKo1ElW8RmlAAFItT90lakBUbkhJ/gRrQKuKY0Mf5GtAAad+PUDDbEBVw5k3YaJtQKrftDGCgW5A/vvPK6Ngb0AqjPUS4h9wQFUaA5Byj3BAf6gQDQP/cECrNh6Kk25xQNXEKwck3nFAAFM5hLRNckAr4UYBRb1yQFVvVH7VLHNAgP1h+2Wcc0Cqi2949gt0QNUZffWGe3RA/6eKchfrdEAqNpjvp1p1QA==",
          "dtype": "f8"
         }
        },
        {
         "marker": {
          "color": "orange",
          "size": 20,
          "symbol": "x"
         },
         "mode": "markers",
         "name": "💥 요격 지점",
         "type": "scatter3d",
         "x": [
          180.9930497341462
         ],
         "y": [
          213.74131216768274
         ],
         "z": [
          341.66599998382327
         ]
        }
       ],
       "layout": {
        "height": 700,
        "scene": {
         "aspectmode": "cube",
         "camera": {
          "eye": {
           "x": 1.5,
           "y": 1.5,
           "z": 1.2
          }
         },
         "xaxis": {
          "title": {
           "text": "X (m)"
          }
         },
         "yaxis": {
          "title": {
           "text": "Y (m)"
          }
         },
         "zaxis": {
          "title": {
           "text": "Z (m)"
          }
         }
        },
        "template": {
         "data": {
          "bar": [
           {
            "error_x": {
             "color": "#2a3f5f"
            },
            "error_y": {
             "color": "#2a3f5f"
            },
            "marker": {
             "line": {
              "color": "#E5ECF6",
              "width": 0.5
             },
             "pattern": {
              "fillmode": "overlay",
              "size": 10,
              "solidity": 0.2
             }
            },
            "type": "bar"
           }
          ],
          "barpolar": [
           {
            "marker": {
             "line": {
              "color": "#E5ECF6",
              "width": 0.5
             },
             "pattern": {
              "fillmode": "overlay",
              "size": 10,
              "solidity": 0.2
             }
            },
            "type": "barpolar"
           }
          ],
          "carpet": [
           {
            "aaxis": {
             "endlinecolor": "#2a3f5f",
             "gridcolor": "white",
             "linecolor": "white",
             "minorgridcolor": "white",
             "startlinecolor": "#2a3f5f"
            },
            "baxis": {
             "endlinecolor": "#2a3f5f",
             "gridcolor": "white",
             "linecolor": "white",
             "minorgridcolor": "white",
             "startlinecolor": "#2a3f5f"
            },
            "type": "carpet"
           }
          ],
          "choropleth": [
           {
            "colorbar": {
             "outlinewidth": 0,
             "ticks": ""
            },
            "type": "choropleth"
           }
          ],
          "contour": [
           {
            "colorbar": {
             "outlinewidth": 0,
             "ticks": ""
            },
            "colorscale": [
             [
              0,
              "#0d0887"
             ],
             [
              0.1111111111111111,
              "#46039f"
             ],
             [
              0.2222222222222222,
              "#7201a8"
             ],
             [
              0.3333333333333333,
              "#9c179e"
             ],
             [
              0.4444444444444444,
              "#bd3786"
             ],
             [
              0.5555555555555556,
              "#d8576b"
             ],
             [
              0.6666666666666666,
              "#ed7953"
             ],
             [
              0.7777777777777778,
              "#fb9f3a"
             ],
             [
              0.8888888888888888,
              "#fdca26"
             ],
             [
              1,
              "#f0f921"
             ]
            ],
            "type": "contour"
           }
          ],
          "contourcarpet": [
           {
            "colorbar": {
             "outlinewidth": 0,
             "ticks": ""
            },
            "type": "contourcarpet"
           }
          ],
          "heatmap": [
           {
            "colorbar": {
             "outlinewidth": 0,
             "ticks": ""
            },
            "colorscale": [
             [
              0,
              "#0d0887"
             ],
             [
              0.1111111111111111,
              "#46039f"
             ],
             [
              0.2222222222222222,
              "#7201a8"
             ],
             [
              0.3333333333333333,
              "#9c179e"
             ],
             [
              0.4444444444444444,
              "#bd3786"
             ],
             [
              0.5555555555555556,
              "#d8576b"
             ],
             [
              0.6666666666666666,
              "#ed7953"
             ],
             [
              0.7777777777777778,
              "#fb9f3a"
             ],
             [
              0.8888888888888888,
              "#fdca26"
             ],
             [
              1,
              "#f0f921"
             ]
            ],
            "type": "heatmap"
           }
          ],
          "histogram": [
           {
            "marker": {
             "pattern": {
              "fillmode": "overlay",
              "size": 10,
              "solidity": 0.2
             }
            },
            "type": "histogram"
           }
          ],
          "histogram2d": [
           {
            "colorbar": {
             "outlinewidth": 0,
             "ticks": ""
            },
            "colorscale": [
             [
              0,
              "#0d0887"
             ],
             [
              0.1111111111111111,
              "#46039f"
             ],
             [
              0.2222222222222222,
              "#7201a8"
             ],
             [
              0.3333333333333333,
              "#9c179e"
             ],
             [
              0.4444444444444444,
              "#bd3786"
             ],
             [
              0.5555555555555556,
              "#d8576b"
             ],
             [
              0.6666666666666666,
              "#ed7953"
             ],
             [
              0.7777777777777778,
              "#fb9f3a"
             ],
             [
              0.8888888888888888,
              "#fdca26"
             ],
             [
              1,
              "#f0f921"
             ]
            ],
            "type": "histogram2d"
           }
          ],
          "histogram2dcontour": [
           {
            "colorbar": {
             "outlinewidth": 0,
             "ticks": ""
            },
            "colorscale": [
             [
              0,
              "#0d0887"
             ],
             [
              0.1111111111111111,
              "#46039f"
             ],
             [
              0.2222222222222222,
              "#7201a8"
             ],
             [
              0.3333333333333333,
              "#9c179e"
             ],
             [
              0.4444444444444444,
              "#bd3786"
             ],
             [
              0.5555555555555556,
              "#d8576b"
             ],
             [
              0.6666666666666666,
              "#ed7953"
             ],
             [
              0.7777777777777778,
              "#fb9f3a"
             ],
             [
              0.8888888888888888,
              "#fdca26"
             ],
             [
              1,
              "#f0f921"
             ]
            ],
            "type": "histogram2dcontour"
           }
          ],
          "mesh3d": [
           {
            "colorbar": {
             "outlinewidth": 0,
             "ticks": ""
            },
            "type": "mesh3d"
           }
          ],
          "parcoords": [
           {
            "line": {
             "colorbar": {
              "outlinewidth": 0,
              "ticks": ""
             }
            },
            "type": "parcoords"
           }
          ],
          "pie": [
           {
            "automargin": true,
            "type": "pie"
           }
          ],
          "scatter": [
           {
            "fillpattern": {
             "fillmode": "overlay",
             "size": 10,
             "solidity": 0.2
            },
            "type": "scatter"
           }
          ],
          "scatter3d": [
           {
            "line": {
             "colorbar": {
              "outlinewidth": 0,
              "ticks": ""
             }
            },
            "marker": {
             "colorbar": {
              "outlinewidth": 0,
              "ticks": ""
             }
            },
            "type": "scatter3d"
           }
          ],
          "scattercarpet": [
           {
            "marker": {
             "colorbar": {
              "outlinewidth": 0,
              "ticks": ""
             }
            },
            "type": "scattercarpet"
           }
          ],
          "scattergeo": [
           {
            "marker": {
             "colorbar": {
              "outlinewidth": 0,
              "ticks": ""
             }
            },
            "type": "scattergeo"
           }
          ],
          "scattergl": [
           {
            "marker": {
             "colorbar": {
              "outlinewidth": 0,
              "ticks": ""
             }
            },
            "type": "scattergl"
           }
          ],
          "scattermap": [
           {
            "marker": {
             "colorbar": {
              "outlinewidth": 0,
              "ticks": ""
             }
            },
            "type": "scattermap"
           }
          ],
          "scattermapbox": [
           {
            "marker": {
             "colorbar": {
              "outlinewidth": 0,
              "ticks": ""
             }
            },
            "type": "scattermapbox"
           }
          ],
          "scatterpolar": [
           {
            "marker": {
             "colorbar": {
              "outlinewidth": 0,
              "ticks": ""
             }
            },
            "type": "scatterpolar"
           }
          ],
          "scatterpolargl": [
           {
            "marker": {
             "colorbar": {
              "outlinewidth": 0,
              "ticks": ""
             }
            },
            "type": "scatterpolargl"
           }
          ],
          "scatterternary": [
           {
            "marker": {
             "colorbar": {
              "outlinewidth": 0,
              "ticks": ""
             }
            },
            "type": "scatterternary"
           }
          ],
          "surface": [
           {
            "colorbar": {
             "outlinewidth": 0,
             "ticks": ""
            },
            "colorscale": [
             [
              0,
              "#0d0887"
             ],
             [
              0.1111111111111111,
              "#46039f"
             ],
             [
              0.2222222222222222,
              "#7201a8"
             ],
             [
              0.3333333333333333,
              "#9c179e"
             ],
             [
              0.4444444444444444,
              "#bd3786"
             ],
             [
              0.5555555555555556,
              "#d8576b"
             ],
             [
              0.6666666666666666,
              "#ed7953"
             ],
             [
              0.7777777777777778,
              "#fb9f3a"
             ],
             [
              0.8888888888888888,
              "#fdca26"
             ],
             [
              1,
              "#f0f921"
             ]
            ],
            "type": "surface"
           }
          ],
          "table": [
           {
            "cells": {
             "fill": {
              "color": "#EBF0F8"
             },
             "line": {
              "color": "white"
             }
            },
            "header": {
             "fill": {
              "color": "#C8D4E3"
             },
             "line": {
              "color": "white"
             }
            },
            "type": "table"
           }
          ]
         },
         "layout": {
          "annotationdefaults": {
           "arrowcolor": "#2a3f5f",
           "arrowhead": 0,
           "arrowwidth": 1
          },
          "autotypenumbers": "strict",
          "coloraxis": {
           "colorbar": {
            "outlinewidth": 0,
            "ticks": ""
           }
          },
          "colorscale": {
           "diverging": [
            [
             0,
             "#8e0152"
            ],
            [
             0.1,
             "#c51b7d"
            ],
            [
             0.2,
             "#de77ae"
            ],
            [
             0.3,
             "#f1b6da"
            ],
            [
             0.4,
             "#fde0ef"
            ],
            [
             0.5,
             "#f7f7f7"
            ],
            [
             0.6,
             "#e6f5d0"
            ],
            [
             0.7,
             "#b8e186"
            ],
            [
             0.8,
             "#7fbc41"
            ],
            [
             0.9,
             "#4d9221"
            ],
            [
             1,
             "#276419"
            ]
           ],
           "sequential": [
            [
             0,
             "#0d0887"
            ],
            [
             0.1111111111111111,
             "#46039f"
            ],
            [
             0.2222222222222222,
             "#7201a8"
            ],
            [
             0.3333333333333333,
             "#9c179e"
            ],
            [
             0.4444444444444444,
             "#bd3786"
            ],
            [
             0.5555555555555556,
             "#d8576b"
            ],
            [
             0.6666666666666666,
             "#ed7953"
            ],
            [
             0.7777777777777778,
             "#fb9f3a"
            ],
            [
             0.8888888888888888,
             "#fdca26"
            ],
            [
             1,
             "#f0f921"
            ]
           ],
           "sequentialminus": [
            [
             0,
             "#0d0887"
            ],
            [
             0.1111111111111111,
             "#46039f"
            ],
            [
             0.2222222222222222,
             "#7201a8"
            ],
            [
             0.3333333333333333,
             "#9c179e"
            ],
            [
             0.4444444444444444,
             "#bd3786"
            ],
            [
             0.5555555555555556,
             "#d8576b"
            ],
            [
             0.6666666666666666,
             "#ed7953"
            ],
            [
             0.7777777777777778,
             "#fb9f3a"
            ],
            [
             0.8888888888888888,
             "#fdca26"
            ],
            [
             1,
             "#f0f921"
            ]
           ]
          },
          "colorway": [
           "#636efa",
           "#EF553B",
           "#00cc96",
           "#ab63fa",
           "#FFA15A",
           "#19d3f3",
           "#FF6692",
           "#B6E880",
           "#FF97FF",
           "#FECB52"
          ],
          "font": {
           "color": "#2a3f5f"
          },
          "geo": {
           "bgcolor": "white",
           "lakecolor": "white",
           "landcolor": "#E5ECF6",
           "showlakes": true,
           "showland": true,
           "subunitcolor": "white"
          },
          "hoverlabel": {
           "align": "left"
          },
          "hovermode": "closest",
          "mapbox": {
           "style": "light"
          },
          "paper_bgcolor": "white",
          "plot_bgcolor": "#E5ECF6",
          "polar": {
           "angularaxis": {
            "gridcolor": "white",
            "linecolor": "white",
            "ticks": ""
           },
           "bgcolor": "#E5ECF6",
           "radialaxis": {
            "gridcolor": "white",
            "linecolor": "white",
            "ticks": ""
           }
          },
          "scene": {
           "xaxis": {
            "backgroundcolor": "#E5ECF6",
            "gridcolor": "white",
            "gridwidth": 2,
            "linecolor": "white",
            "showbackground": true,
            "ticks": "",
            "zerolinecolor": "white"
           },
           "yaxis": {
            "backgroundcolor": "#E5ECF6",
            "gridcolor": "white",
            "gridwidth": 2,
            "linecolor": "white",
            "showbackground": true,
            "ticks": "",
            "zerolinecolor": "white"
           },
           "zaxis": {
            "backgroundcolor": "#E5ECF6",
            "gridcolor": "white",
            "gridwidth": 2,
            "linecolor": "white",
            "showbackground": true,
            "ticks": "",
            "zerolinecolor": "white"
           }
          },
          "shapedefaults": {
           "line": {
            "color": "#2a3f5f"
           }
          },
          "ternary": {
           "aaxis": {
            "gridcolor": "white",
            "linecolor": "white",
            "ticks": ""
           },
           "baxis": {
            "gridcolor": "white",
            "linecolor": "white",
            "ticks": ""
           },
           "bgcolor": "#E5ECF6",
           "caxis": {
            "gridcolor": "white",
            "linecolor": "white",
            "ticks": ""
           }
          },
          "title": {
           "x": 0.05
          },
          "xaxis": {
           "automargin": true,
           "gridcolor": "white",
           "linecolor": "white",
           "ticks": "",
           "title": {
            "standoff": 15
           },
           "zerolinecolor": "white",
           "zerolinewidth": 2
          },
          "yaxis": {
           "automargin": true,
           "gridcolor": "white",
           "linecolor": "white",
           "ticks": "",
           "title": {
            "standoff": 15
           },
           "zerolinecolor": "white",
           "zerolinewidth": 2
          }
         }
        },
        "title": {
         "font": {
          "size": 20
         },
         "text": "🚀 3차원 미사일 방어 시스템",
         "x": 0.5
        },
        "width": 900
       }
      }
     },
     "metadata": {},
     "output_type": "display_data"
    },
    {
     "name": "stdout",
     "output_type": "stream",
     "text": [
      "\n",
      "✅ 3D 시각화 완료!\n"
     ]
    }
   ],
   "source": [
    "# 3D 시각화\n",
    "def create_3d_visualization():\n",
    "    \"\"\"깔끔한 3D 시각화\"\"\"\n",
    "    # 궤적 계산\n",
    "    time_points = np.linspace(0, t_impact*1.2, 100)\n",
    "    enemy_trajectory = np.array([enemy_missile_position(t) for t in time_points])\n",
    "    \n",
    "    intercept_times = np.linspace(0, t_impact, 50)\n",
    "    intercept_trajectory = np.array([S_A + v_I * t * u for t in intercept_times])\n",
    "    \n",
    "    # 플롯 생성\n",
    "    fig = go.Figure()\n",
    "    \n",
    "    # 도시\n",
    "    fig.add_trace(go.Scatter3d(\n",
    "        x=[0], y=[0], z=[0],\n",
    "        mode='markers',\n",
    "        marker=dict(size=15, color='red', symbol='diamond'),\n",
    "        name='🏙️ 도시'\n",
    "    ))\n",
    "    \n",
    "    # 알파 기지\n",
    "    fig.add_trace(go.Scatter3d(\n",
    "        x=[S_A[0]], y=[S_A[1]], z=[S_A[2]],\n",
    "        mode='markers',\n",
    "        marker=dict(size=12, color='blue', symbol='square'),\n",
    "        name='🏭 알파 기지'\n",
    "    ))\n",
    "    \n",
    "    # 적 미사일 궤적\n",
    "    fig.add_trace(go.Scatter3d(\n",
    "        x=enemy_trajectory[:, 0],\n",
    "        y=enemy_trajectory[:, 1],\n",
    "        z=enemy_trajectory[:, 2],\n",
    "        mode='lines',\n",
    "        line=dict(color='red', width=5),\n",
    "        name='🚀 적 미사일'\n",
    "    ))\n",
    "    \n",
    "    # 요격 미사일 궤적\n",
    "    fig.add_trace(go.Scatter3d(\n",
    "        x=intercept_trajectory[:, 0],\n",
    "        y=intercept_trajectory[:, 1],\n",
    "        z=intercept_trajectory[:, 2],\n",
    "        mode='lines',\n",
    "        line=dict(color='blue', width=5),\n",
    "        name='🛡️ 요격 미사일'\n",
    "    ))\n",
    "    \n",
    "    # 요격 지점\n",
    "    fig.add_trace(go.Scatter3d(\n",
    "        x=[P_impact[0]], y=[P_impact[1]], z=[P_impact[2]],\n",
    "        mode='markers',\n",
    "        marker=dict(size=20, color='orange', symbol='x'),\n",
    "        name='💥 요격 지점'\n",
    "    ))\n",
    "    \n",
    "    # 레이아웃\n",
    "    fig.update_layout(\n",
    "        title=dict(\n",
    "            text='🚀 3차원 미사일 방어 시스템',\n",
    "            x=0.5,\n",
    "            font=dict(size=20)\n",
    "        ),\n",
    "        scene=dict(\n",
    "            xaxis_title='X (m)',\n",
    "            yaxis_title='Y (m)',\n",
    "            zaxis_title='Z (m)',\n",
    "            camera=dict(eye=dict(x=1.5, y=1.5, z=1.2)),\n",
    "            aspectmode='cube'\n",
    "        ),\n",
    "        width=900,\n",
    "        height=700\n",
    "    )\n",
    "    \n",
    "    return fig\n",
    "\n",
    "# 시각화 생성\n",
    "fig = create_3d_visualization()\n",
    "fig.show()\n",
    "\n",
    "print(\"\\n✅ 3D 시각화 완료!\")"
   ]
  },
  {
   "cell_type": "code",
   "execution_count": 5,
   "id": "0da7968d",
   "metadata": {},
   "outputs": [
    {
     "name": "stdout",
     "output_type": "stream",
     "text": [
      "\n",
      "=== 조기 탐지 분석 ===\n",
      "탐지지연(초)      요격시간(초)      요격고도(m)      성능개선(%)     \n",
      "--------------------------------------------------\n",
      "0.0          3.450        342          기준          \n",
      "0.1          3.523        339          -2.1        \n",
      "0.2          3.594        337          -4.2        \n",
      "0.5          3.809        329          -10.4       \n",
      "1.0          4.161        315          -20.6       \n",
      "\n",
      "✅ 조기 탐지 분석 완료!\n"
     ]
    }
   ],
   "source": [
    "# 조기 탐지 시스템 분석\n",
    "def analyze_early_detection(detection_delay):\n",
    "    \"\"\"조기 탐지 효과 분석\"\"\"\n",
    "    def predictive_equation(t_flight):\n",
    "        if t_flight <= 0:\n",
    "            return float('inf')\n",
    "        total_time = detection_delay + t_flight\n",
    "        enemy_pos = enemy_missile_position(total_time)\n",
    "        distance = np.linalg.norm(enemy_pos - S_A)\n",
    "        return distance - v_I * t_flight\n",
    "    \n",
    "    # 해 찾기\n",
    "    t_values = np.linspace(0.01, 10, 1000)\n",
    "    solutions = []\n",
    "    \n",
    "    for i in range(len(t_values)-1):\n",
    "        if predictive_equation(t_values[i]) * predictive_equation(t_values[i+1]) < 0:\n",
    "            left, right = t_values[i], t_values[i+1]\n",
    "            for _ in range(50):\n",
    "                mid = (left + right) / 2\n",
    "                if predictive_equation(mid) * predictive_equation(left) < 0:\n",
    "                    right = mid\n",
    "                else:\n",
    "                    left = mid\n",
    "                if abs(right - left) < 1e-10:\n",
    "                    break\n",
    "            solutions.append((left + right) / 2)\n",
    "    \n",
    "    if solutions:\n",
    "        t_flight = min(solutions)\n",
    "        total_time = detection_delay + t_flight\n",
    "        intercept_point = enemy_missile_position(total_time)\n",
    "        improvement = ((t_impact - total_time) / t_impact) * 100\n",
    "        \n",
    "        return {\n",
    "            'success': True,\n",
    "            'total_time': total_time,\n",
    "            'intercept_point': intercept_point,\n",
    "            'improvement': improvement\n",
    "        }\n",
    "    return {'success': False}\n",
    "\n",
    "# 다양한 탐지 지연 분석\n",
    "delays = [0.0, 0.1, 0.2, 0.5, 1.0]\n",
    "print(f\"\\n=== 조기 탐지 분석 ===\")\n",
    "print(f\"{'탐지지연(초)':<12} {'요격시간(초)':<12} {'요격고도(m)':<12} {'성능개선(%)':<12}\")\n",
    "print(\"-\" * 50)\n",
    "\n",
    "for delay in delays:\n",
    "    if delay == 0:\n",
    "        print(f\"{delay:<12.1f} {t_impact:<12.3f} {P_impact[2]:<12.0f} {'기준':<12}\")\n",
    "    else:\n",
    "        result = analyze_early_detection(delay)\n",
    "        if result['success']:\n",
    "            print(f\"{delay:<12.1f} {result['total_time']:<12.3f} {result['intercept_point'][2]:<12.0f} {result['improvement']:<12.1f}\")\n",
    "        else:\n",
    "            print(f\"{delay:<12.1f} {'실패':<12} {'N/A':<12} {'N/A':<12}\")\n",
    "\n",
    "print(\"\\n✅ 조기 탐지 분석 완료!\")"
   ]
  },
  {
   "cell_type": "markdown",
   "id": "16eed496",
   "metadata": {},
   "source": [
    "# 📊 결론\n",
    "\n",
    "## 핵심 결과\n",
    "1. **기본 요격**: 가장 빠른 요격이 가능한 시간과 지점 계산\n",
    "2. **3D 시각화**: 미사일 궤적과 요격 과정을 직관적으로 표현\n",
    "3. **조기 탐지**: 탐지 지연이 요격 성능에 미치는 영향 분석\n",
    "\n",
    "## 주요 발견\n",
    "- 적 미사일 초기 속력: **32.02 m/s**\n",
    "- 조기 탐지가 성능 향상에 결정적 역할\n",
    "- 탐지 지연 시간 최소화의 중요성"
   ]
  }
 ],
 "metadata": {
  "kernelspec": {
   "display_name": "Python 3",
   "language": "python",
   "name": "python3"
  },
  "language_info": {
   "codemirror_mode": {
    "name": "ipython",
    "version": 3
   },
   "file_extension": ".py",
   "mimetype": "text/x-python",
   "name": "python",
   "nbconvert_exporter": "python",
   "pygments_lexer": "ipython3",
   "version": "3.10.9"
  }
 },
 "nbformat": 4,
 "nbformat_minor": 5
}
