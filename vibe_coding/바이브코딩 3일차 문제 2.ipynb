{
 "cells": [
  {
   "cell_type": "markdown",
   "id": "94427ace",
   "metadata": {},
   "source": [
    "## 바이브코딩을 활용한 3차원 미사일 방어 시스템: 단계별 심화 문제"
   ]
  },
  {
   "cell_type": "markdown",
   "id": "54a7d3a0",
   "metadata": {},
   "source": [
    "### 문제 2단계: 다중 위협 분산 대응\n",
    "#### 상황: \n",
    "위협이 고조되어, 5발의 미사일이 각기 다른 위치에서 도시를 향해 동시다발적으로 날아오고 있습니다. 다행히 우리에겐 2개의 방어 기지가 있습니다. 각 미사일에 대해 더 빨리 요격할 수 있는 기지가 임무를 맡아, 모든 위협을 최대한 신속하게 제거해야 합니다.\n",
    "#### 주어진 조건:\n",
    "- 도시 중심(원점): $(0, 0, 0)$"
   ]
  },
  {
   "cell_type": "markdown",
   "id": "a9c04409",
   "metadata": {},
   "source": [
    "- 요격 기지 위치:\n",
    "    - '알파' 기지 $S_A : (50, 20, 0)$\n",
    "    - '브라보' 기지 $S_B : (-40, -30, 0)$"
   ]
  },
  {
   "cell_type": "markdown",
   "id": "74311c88",
   "metadata": {},
   "source": [
    "- 요격 미사일 속력 : $v_I: 150 m/s$"
   ]
  },
  {
   "cell_type": "markdown",
   "id": "bac78a02",
   "metadata": {},
   "source": [
    "- 적 탄도 미사일 5발 (모두 t=0에 탐지):\n",
    "    - $P_H1(t)=(250−20t,300−25t,400−4.9t^2)$\n",
    "    - $P_H2(t)=(−280+22t,250−20t,380−4.9t^2)$\n",
    "    - $P_H3(t)=(10−5t,−350+30t,420−4.9t^2)$\n",
    "    - $P_H4(t)=(300−25t,−10−2t,350−4.9t^2)$\n",
    "    - $P_H5(t)=(−200+15t,−250+20t,450−4.9t^2)$ "
   ]
  },
  {
   "cell_type": "markdown",
   "id": "9691f7f5",
   "metadata": {},
   "source": [
    "#### 도전 과제:\n",
    "#### 1. 최적 할당 계산:\n",
    "- 5개의 모든 적 미사일($H1 ,..., H5$)에 대하여, '알파' 기지에서 요격했을 때의 시간($t_A$)과 '브라보' 기지에서 요격했을 때의 시간($t_B$)을 각각 계산하세요.\n",
    "- 각 미사일마다$ t_A$와 $t_B$ 를 비교하여 더 작은 값을 갖는 기지에 요격 임무를 할당하세요.\n",
    "- 최종 할당 결과(어떤 기지가 어떤 미사일을 맡는지)와 각 미사일의 최종 요격 시간 및 좌표를 모두 출력하세요.\n",
    "\n",
    "#### 2. 통합 3D 시각화 및 애니메이션:\n",
    "- 5개 미사일의 모든 궤적과 2개의 방어 기지를 3D 공간에 렌더링하세요.\n",
    "- 계산된 할당 결과를 시각적으로 표현하세요. (예: '알파' 기지에서 할당된 목표물까지는 붉은색 선, '브라보' 기지에서는 푸른색 선으로 연결)\n",
    "- 모든 요격 과정을 하나의 통합된 애니메이션으로 구현하세요."
   ]
  },
  {
   "cell_type": "code",
   "execution_count": 1,
   "id": "688fe434",
   "metadata": {},
   "outputs": [
    {
     "name": "stdout",
     "output_type": "stream",
     "text": [
      "한글 폰트 설정 완료: Malgun Gothic\n",
      "🚀 다중 위협 분산 대응 시스템 초기화 완료!\n",
      "한글 폰트 설정: 성공\n"
     ]
    }
   ],
   "source": [
    "# 필수 라이브러리 및 기본 설정\n",
    "import numpy as np\n",
    "import matplotlib.pyplot as plt\n",
    "import plotly.graph_objects as go\n",
    "import plotly.express as px\n",
    "from plotly.subplots import make_subplots\n",
    "import matplotlib.font_manager as fm\n",
    "import platform\n",
    "import pandas as pd\n",
    "\n",
    "# 한글 폰트 설정\n",
    "def set_korean_font():\n",
    "    \"\"\"한글 폰트 설정 함수\"\"\"\n",
    "    system = platform.system()\n",
    "    if system == 'Windows':\n",
    "        korean_fonts = ['Malgun Gothic', 'Arial Unicode MS', 'Gulim', 'Dotum']\n",
    "        for font_name in korean_fonts:\n",
    "            try:\n",
    "                font_list = [f.name for f in fm.fontManager.ttflist]\n",
    "                if font_name in font_list:\n",
    "                    plt.rcParams['font.family'] = font_name\n",
    "                    plt.rcParams['axes.unicode_minus'] = False\n",
    "                    print(f\"한글 폰트 설정 완료: {font_name}\")\n",
    "                    return True\n",
    "            except:\n",
    "                continue\n",
    "    return False\n",
    "\n",
    "font_success = set_korean_font()\n",
    "\n",
    "print(\"🚀 다중 위협 분산 대응 시스템 초기화 완료!\")\n",
    "print(f\"한글 폰트 설정: {'성공' if font_success else '실패'}\")"
   ]
  },
  {
   "cell_type": "code",
   "execution_count": 2,
   "id": "9254a765",
   "metadata": {},
   "outputs": [
    {
     "name": "stdout",
     "output_type": "stream",
     "text": [
      "\n",
      "======================================================================\n",
      "🎯 문제 2단계: 다중 위협 분산 대응 시스템\n",
      "======================================================================\n",
      "\n",
      "📍 방어 기지 정보:\n",
      "   • 알파 기지: [50 20  0]\n",
      "   • 브라보 기지: [-40 -30   0]\n",
      "   • 요격 미사일 속력: 150 m/s\n",
      "\n",
      "🚀 적 미사일 정보:\n",
      "   • H1: 초기위치 (250, 300, 400)\n",
      "   • H2: 초기위치 (-280, 250, 380)\n",
      "   • H3: 초기위치 (10, -350, 420)\n",
      "   • H4: 초기위치 (300, -10, 350)\n",
      "   • H5: 초기위치 (-200, -250, 450)\n",
      "\n",
      "✅ 기본 설정 완료!\n"
     ]
    }
   ],
   "source": [
    "# 기본 설정 및 미사일 궤도 함수 정의\n",
    "print(\"\\n\" + \"=\"*70)\n",
    "print(\"🎯 문제 2단계: 다중 위협 분산 대응 시스템\")\n",
    "print(\"=\"*70)\n",
    "\n",
    "# 기지 위치\n",
    "S_A = np.array([50, 20, 0])    # 알파 기지\n",
    "S_B = np.array([-40, -30, 0])  # 브라보 기지\n",
    "\n",
    "# 요격 미사일 속력 (향상됨)\n",
    "v_I = 150  # m/s\n",
    "\n",
    "print(f\"\\n📍 방어 기지 정보:\")\n",
    "print(f\"   • 알파 기지: {S_A}\")\n",
    "print(f\"   • 브라보 기지: {S_B}\")\n",
    "print(f\"   • 요격 미사일 속력: {v_I} m/s\")\n",
    "\n",
    "# 적 미사일 궤도 함수들\n",
    "def missile_H1(t):\n",
    "    \"\"\"H1: P_H1(t) = (250-20t, 300-25t, 400-4.9t²)\"\"\"\n",
    "    return np.array([250-20*t, 300-25*t, 400-4.9*t**2])\n",
    "\n",
    "def missile_H2(t):\n",
    "    \"\"\"H2: P_H2(t) = (-280+22t, 250-20t, 380-4.9t²)\"\"\"\n",
    "    return np.array([-280+22*t, 250-20*t, 380-4.9*t**2])\n",
    "\n",
    "def missile_H3(t):\n",
    "    \"\"\"H3: P_H3(t) = (10-5t, -350+30t, 420-4.9t²)\"\"\"\n",
    "    return np.array([10-5*t, -350+30*t, 420-4.9*t**2])\n",
    "\n",
    "def missile_H4(t):\n",
    "    \"\"\"H4: P_H4(t) = (300-25t, -10-2t, 350-4.9t²)\"\"\"\n",
    "    return np.array([300-25*t, -10-2*t, 350-4.9*t**2])\n",
    "\n",
    "def missile_H5(t):\n",
    "    \"\"\"H5: P_H5(t) = (-200+15t, -250+20t, 450-4.9t²)\"\"\"\n",
    "    return np.array([-200+15*t, -250+20*t, 450-4.9*t**2])\n",
    "\n",
    "# 미사일 함수 리스트\n",
    "missile_functions = [missile_H1, missile_H2, missile_H3, missile_H4, missile_H5]\n",
    "missile_names = ['H1', 'H2', 'H3', 'H4', 'H5']\n",
    "\n",
    "print(f\"\\n🚀 적 미사일 정보:\")\n",
    "for i, name in enumerate(missile_names):\n",
    "    initial_pos = missile_functions[i](0)\n",
    "    print(f\"   • {name}: 초기위치 ({initial_pos[0]:.0f}, {initial_pos[1]:.0f}, {initial_pos[2]:.0f})\")\n",
    "\n",
    "print(f\"\\n✅ 기본 설정 완료!\")"
   ]
  },
  {
   "cell_type": "code",
   "execution_count": 3,
   "id": "b900a7e9",
   "metadata": {},
   "outputs": [
    {
     "name": "stdout",
     "output_type": "stream",
     "text": [
      "\n",
      "🔧 요격 시간 계산 함수 준비 완료!\n"
     ]
    }
   ],
   "source": [
    "# 요격 시간 계산 함수\n",
    "def calculate_intercept_time(missile_func, base_position):\n",
    "    \"\"\"\n",
    "    특정 기지에서 특정 미사일을 요격하는 최단 시간 계산\n",
    "    \n",
    "    Args:\n",
    "        missile_func: 미사일 궤도 함수\n",
    "        base_position: 기지 위치 [x, y, z]\n",
    "    \n",
    "    Returns:\n",
    "        float: 요격 시간 (None if impossible)\n",
    "    \"\"\"\n",
    "    def equation(t):\n",
    "        if t <= 0:\n",
    "            return float('inf')\n",
    "        missile_pos = missile_func(t)\n",
    "        if missile_pos[2] < 0:  # 미사일이 지면에 닿으면\n",
    "            return float('inf')\n",
    "        distance = np.linalg.norm(missile_pos - base_position)\n",
    "        return distance - v_I * t\n",
    "    \n",
    "    # 해 찾기 (이분법)\n",
    "    t_values = np.linspace(0.01, 15, 1500)\n",
    "    solutions = []\n",
    "    \n",
    "    for i in range(len(t_values)-1):\n",
    "        if equation(t_values[i]) * equation(t_values[i+1]) < 0:\n",
    "            # 이분법으로 정확한 해 구하기\n",
    "            left, right = t_values[i], t_values[i+1]\n",
    "            \n",
    "            for _ in range(50):\n",
    "                mid = (left + right) / 2\n",
    "                if equation(mid) * equation(left) < 0:\n",
    "                    right = mid\n",
    "                else:\n",
    "                    left = mid\n",
    "                if abs(right - left) < 1e-10:\n",
    "                    break\n",
    "            \n",
    "            solution = (left + right) / 2\n",
    "            if abs(equation(solution)) < 1e-6:\n",
    "                solutions.append(solution)\n",
    "    \n",
    "    return min(solutions) if solutions else None\n",
    "\n",
    "print(\"\\n🔧 요격 시간 계산 함수 준비 완료!\")"
   ]
  },
  {
   "cell_type": "code",
   "execution_count": 4,
   "id": "baa79f8a",
   "metadata": {},
   "outputs": [
    {
     "name": "stdout",
     "output_type": "stream",
     "text": [
      "\n",
      "======================================================================\n",
      "📊 1단계: 최적 할당 계산\n",
      "======================================================================\n",
      "\n",
      "미사일    알파기지(초)      브라보기지(초)     할당기지     최종시간(초)     \n",
      "-----------------------------------------------------------------\n",
      "H1     2.916        3.230        알파       2.916       \n",
      "H2     3.051        2.935        브라보      2.935       \n",
      "H3     3.115        2.958        브라보      2.958       \n",
      "H4     2.484        2.760        알파       2.484       \n",
      "H5     3.269        3.006        브라보      3.006       \n",
      "\n",
      "✅ 최적 할당 계산 완료!\n"
     ]
    }
   ],
   "source": [
    "# 1. 최적 할당 계산\n",
    "print(\"\\n\" + \"=\"*70)\n",
    "print(\"📊 1단계: 최적 할당 계산\")\n",
    "print(\"=\"*70)\n",
    "\n",
    "# 모든 미사일에 대해 두 기지의 요격 시간 계산\n",
    "allocation_results = []\n",
    "\n",
    "print(f\"\\n{'미사일':<6} {'알파기지(초)':<12} {'브라보기지(초)':<12} {'할당기지':<8} {'최종시간(초)':<12}\")\n",
    "print(\"-\" * 65)\n",
    "\n",
    "for i, (missile_func, missile_name) in enumerate(zip(missile_functions, missile_names)):\n",
    "    # 알파 기지에서 요격 시간\n",
    "    t_A = calculate_intercept_time(missile_func, S_A)\n",
    "    \n",
    "    # 브라보 기지에서 요격 시간\n",
    "    t_B = calculate_intercept_time(missile_func, S_B)\n",
    "    \n",
    "    # 최적 할당 결정\n",
    "    if t_A is not None and t_B is not None:\n",
    "        if t_A <= t_B:\n",
    "            assigned_base = \"알파\"\n",
    "            assigned_position = S_A\n",
    "            final_time = t_A\n",
    "        else:\n",
    "            assigned_base = \"브라보\"\n",
    "            assigned_position = S_B\n",
    "            final_time = t_B\n",
    "    elif t_A is not None:\n",
    "        assigned_base = \"알파\"\n",
    "        assigned_position = S_A\n",
    "        final_time = t_A\n",
    "    elif t_B is not None:\n",
    "        assigned_base = \"브라보\"\n",
    "        assigned_position = S_B\n",
    "        final_time = t_B\n",
    "    else:\n",
    "        assigned_base = \"불가능\"\n",
    "        assigned_position = None\n",
    "        final_time = None\n",
    "    \n",
    "    # 요격 지점 계산\n",
    "    intercept_point = missile_func(final_time) if final_time else None\n",
    "    \n",
    "    # 결과 저장\n",
    "    result = {\n",
    "        'missile': missile_name,\n",
    "        'missile_func': missile_func,\n",
    "        't_A': t_A,\n",
    "        't_B': t_B,\n",
    "        'assigned_base': assigned_base,\n",
    "        'assigned_position': assigned_position,\n",
    "        'final_time': final_time,\n",
    "        'intercept_point': intercept_point\n",
    "    }\n",
    "    allocation_results.append(result)\n",
    "    \n",
    "    # 결과 출력\n",
    "    t_A_str = f\"{t_A:.3f}\" if t_A else \"불가능\"\n",
    "    t_B_str = f\"{t_B:.3f}\" if t_B else \"불가능\"\n",
    "    final_time_str = f\"{final_time:.3f}\" if final_time else \"불가능\"\n",
    "    \n",
    "    print(f\"{missile_name:<6} {t_A_str:<12} {t_B_str:<12} {assigned_base:<8} {final_time_str:<12}\")\n",
    "\n",
    "print(f\"\\n✅ 최적 할당 계산 완료!\")"
   ]
  },
  {
   "cell_type": "code",
   "execution_count": 5,
   "id": "6c3456f1",
   "metadata": {},
   "outputs": [
    {
     "name": "stdout",
     "output_type": "stream",
     "text": [
      "\n",
      "======================================================================\n",
      "🎯 상세 할당 결과 및 요격 지점\n",
      "======================================================================\n",
      "\n",
      "🚀 미사일 H1:\n",
      "   • 할당 기지: 알파\n",
      "   • 요격 시간: 2.9163 초\n",
      "   • 요격 지점: (191.7, 227.1, 358.3)\n",
      "   • 기지-요격점 거리: 437.4 m\n",
      "   • 이론적 거리: 437.4 m\n",
      "   • 오차: 0.000 m\n",
      "\n",
      "🚀 미사일 H2:\n",
      "   • 할당 기지: 브라보\n",
      "   • 요격 시간: 2.9352 초\n",
      "   • 요격 지점: (-215.4, 191.3, 337.8)\n",
      "   • 기지-요격점 거리: 440.3 m\n",
      "   • 이론적 거리: 440.3 m\n",
      "   • 오차: 0.000 m\n",
      "\n",
      "🚀 미사일 H3:\n",
      "   • 할당 기지: 브라보\n",
      "   • 요격 시간: 2.9584 초\n",
      "   • 요격 지점: (-4.8, -261.2, 377.1)\n",
      "   • 기지-요격점 거리: 443.8 m\n",
      "   • 이론적 거리: 443.8 m\n",
      "   • 오차: 0.000 m\n",
      "\n",
      "🚀 미사일 H4:\n",
      "   • 할당 기지: 알파\n",
      "   • 요격 시간: 2.4836 초\n",
      "   • 요격 지점: (237.9, -15.0, 319.8)\n",
      "   • 기지-요격점 거리: 372.5 m\n",
      "   • 이론적 거리: 372.5 m\n",
      "   • 오차: 0.000 m\n",
      "\n",
      "🚀 미사일 H5:\n",
      "   • 할당 기지: 브라보\n",
      "   • 요격 시간: 3.0064 초\n",
      "   • 요격 지점: (-154.9, -189.9, 405.7)\n",
      "   • 기지-요격점 거리: 451.0 m\n",
      "   • 이론적 거리: 451.0 m\n",
      "   • 오차: 0.000 m\n",
      "\n",
      "📋 할당 요약:\n",
      "   • 알파 기지 담당: H1, H4\n",
      "   • 브라보 기지 담당: H2, H3, H5\n",
      "   • 요격 불가능: 없음\n",
      "\n",
      "✅ 상세 결과 분석 완료!\n"
     ]
    }
   ],
   "source": [
    "# 상세 할당 결과 및 요격 지점 정보\n",
    "print(\"\\n\" + \"=\"*70)\n",
    "print(\"🎯 상세 할당 결과 및 요격 지점\")\n",
    "print(\"=\"*70)\n",
    "\n",
    "for result in allocation_results:\n",
    "    missile = result['missile']\n",
    "    assigned_base = result['assigned_base']\n",
    "    final_time = result['final_time']\n",
    "    intercept_point = result['intercept_point']\n",
    "    \n",
    "    print(f\"\\n🚀 미사일 {missile}:\")\n",
    "    print(f\"   • 할당 기지: {assigned_base}\")\n",
    "    \n",
    "    if final_time and intercept_point is not None:\n",
    "        print(f\"   • 요격 시간: {final_time:.4f} 초\")\n",
    "        print(f\"   • 요격 지점: ({intercept_point[0]:.1f}, {intercept_point[1]:.1f}, {intercept_point[2]:.1f})\")\n",
    "        \n",
    "        # 거리 검증\n",
    "        if assigned_base == \"알파\":\n",
    "            base_pos = S_A\n",
    "        else:\n",
    "            base_pos = S_B\n",
    "            \n",
    "        distance = np.linalg.norm(intercept_point - base_pos)\n",
    "        theoretical_distance = v_I * final_time\n",
    "        error = abs(distance - theoretical_distance)\n",
    "        \n",
    "        print(f\"   • 기지-요격점 거리: {distance:.1f} m\")\n",
    "        print(f\"   • 이론적 거리: {theoretical_distance:.1f} m\")\n",
    "        print(f\"   • 오차: {error:.3f} m\")\n",
    "    else:\n",
    "        print(f\"   • 상태: 요격 불가능\")\n",
    "\n",
    "# 할당 요약\n",
    "alpha_missiles = [r['missile'] for r in allocation_results if r['assigned_base'] == '알파']\n",
    "bravo_missiles = [r['missile'] for r in allocation_results if r['assigned_base'] == '브라보']\n",
    "impossible_missiles = [r['missile'] for r in allocation_results if r['assigned_base'] == '불가능']\n",
    "\n",
    "print(f\"\\n📋 할당 요약:\")\n",
    "print(f\"   • 알파 기지 담당: {', '.join(alpha_missiles) if alpha_missiles else '없음'}\")\n",
    "print(f\"   • 브라보 기지 담당: {', '.join(bravo_missiles) if bravo_missiles else '없음'}\")\n",
    "print(f\"   • 요격 불가능: {', '.join(impossible_missiles) if impossible_missiles else '없음'}\")\n",
    "\n",
    "print(f\"\\n✅ 상세 결과 분석 완료!\")"
   ]
  },
  {
   "cell_type": "code",
   "execution_count": 6,
   "id": "1907fff2",
   "metadata": {},
   "outputs": [
    {
     "name": "stdout",
     "output_type": "stream",
     "text": [
      "\n",
      "======================================================================\n",
      "🌟 2단계: 통합 3D 시각화\n",
      "======================================================================\n"
     ]
    },
    {
     "data": {
      "application/vnd.plotly.v1+json": {
       "config": {
        "plotlyServerURL": "https://plot.ly"
       },
       "data": [
        {
         "hovertemplate": "도시<br>좌표: (0, 0, 0)<extra></extra>",
         "marker": {
          "color": "red",
          "size": 20,
          "symbol": "diamond"
         },
         "mode": "markers",
         "name": "🏙️ 도시",
         "type": "scatter3d",
         "x": [
          0
         ],
         "y": [
          0
         ],
         "z": [
          0
         ]
        },
        {
         "hovertemplate": "알파 기지<br>좌표: (50, 20, 0)<extra></extra>",
         "marker": {
          "color": "blue",
          "size": 15,
          "symbol": "square"
         },
         "mode": "markers",
         "name": "🏭 알파 기지",
         "type": "scatter3d",
         "x": [
          50
         ],
         "y": [
          20
         ],
         "z": [
          0
         ]
        },
        {
         "hovertemplate": "브라보 기지<br>좌표: (-40, -30, 0)<extra></extra>",
         "marker": {
          "color": "cyan",
          "size": 15,
          "symbol": "square"
         },
         "mode": "markers",
         "name": "🏭 브라보 기지",
         "type": "scatter3d",
         "x": [
          -40
         ],
         "y": [
          -30
         ],
         "z": [
          0
         ]
        },
        {
         "hovertemplate": "미사일 H1<br>x: %{x:.1f}<br>y: %{y:.1f}<br>z: %{z:.1f}<extra></extra>",
         "line": {
          "color": "red",
          "width": 4
         },
         "mode": "lines",
         "name": "🚀 미사일 H1",
         "type": "scatter3d",
         "x": {
          "bdata": "AAAAAABAb0D2KL0NQytvQOxRehuGFm9A4Xo3KckBb0DXo/Q2DO1uQM3MsURP2G5Aw/VuUpLDbkC4Hixg1a5uQK5H6W0Ymm5ApHCme1uFbkCamWOJnnBuQI/CIJfhW25AhevdpCRHbkB7FJuyZzJuQHE9WMCqHW5AZmYVzu0IbkBcj9LbMPRtQFK4j+lz321ASOFM97bKbUA+CgoF+rVtQDMzxxI9oW1AKVyEIICMbUAfhUEuw3dtQBWu/jsGY21ACte7SUlObUAAAHlXjDltQPYoNmXPJG1A7FHzchIQbUDherCAVftsQNejbY6Y5mxAzcwqnNvRbEDD9eepHr1sQLgepbdhqGxArkdixaSTbECkcB/T535sQJqZ3OAqamxAkMKZ7m1VbECF61b8sEBsQHsUFAr0K2xAcT3RFzcXbEBnZo4legJsQFyPSzO97WtAUrgIQQDZa0BI4cVOQ8RrQD4Kg1yGr2tAMzNAasmaa0ApXP13DIZrQB+FuoVPcWtAFa53k5Jca0AK1zSh1UdrQAAA8q4YM2tA9iivvFsea0DsUWzKnglrQOJ6Kdjh9GpA16Pm5STgakDNzKPzZ8tqQMP1YAGrtmpAuB4eD+6hakCuR9scMY1qQKRwmCp0eGpAmplVOLdjakCQwhJG+k5qQIbrz1M9OmpAexSNYYAlakBxPUpvwxBqQGdmB30G/GlAXI/EiknnaUBSuIGYjNJpQEjhPqbPvWlAPgr8sxKpaUA0M7nBVZRpQClcds+Yf2lAH4Uz3dtqaUAVrvDqHlZpQArXrfhhQWlAAABrBqUsaUD2KCgU6BdpQOxR5SErA2lA4nqiL27uaEDYo189sdloQM3MHEv0xGhAw/XZWDewaEC5HpdmeptoQK5HVHS9hmhApHARggByaECamc6PQ11oQJDCi52GSGhAhutIq8kzaEB7FAa5DB9oQHE9w8ZPCmhAZ2aA1JL1Z0Bcjz3i1eBnQFK4+u8YzGdASOG3/Vu3Z0A+CnULn6JnQDQzMhnijWdAKVzvJiV5Z0Afhaw0aGRnQBWuaUKrT2dACtcmUO46Z0A=",
          "dtype": "f8"
         },
         "y": {
          "bdata": "AAAAAADAckCaOZboCbNyQDNzLNETpnJAzazCuR2ZckBm5liiJ4xyQAAg74oxf3JAmlmFcztyckAzkxtcRWVyQM3MsURPWHJAZgZILVlLckAAQN4VYz5yQJp5dP5sMXJAM7MK53YkckDN7KDPgBdyQGYmN7iKCnJAAGDNoJT9cUCamWOJnvBxQDPT+XGo43FAzQyQWrLWcUBmRiZDvMlxQACAvCvGvHFAmrlSFNCvcUAz8+j82aJxQM0sf+XjlXFAZmYVzu2IcUAAoKu293txQJrZQZ8Bb3FAMxPYhwticUDNTG5wFVVxQGaGBFkfSHFAAMCaQSk7cUCa+TAqMy5xQDMzxxI9IXFAzWxd+0YUcUBmpvPjUAdxQADgicxa+nBAmhkgtWTtcEAzU7adbuBwQM2MTIZ403BAZ8biboLGcEAAAHlXjLlwQJo5D0CWrHBAM3OlKKCfcEDNrDsRqpJwQGbm0fmzhXBAACBo4r14cECaWf7Kx2twQDOTlLPRXnBAzcwqnNtRcEBnBsGE5URwQABAV23vN3BAmnntVfkqcEAzs4M+Ax5wQM3sGScNEXBAZiawDxcEcEAAwIzwQe5vQDQzucFV1G9AZ6blkmm6b0CaGRJkfaBvQM2MPjWRhm9AAABrBqVsb0A0c5fXuFJvQGfmw6jMOG9AmlnweeAeb0DNzBxL9ARvQABASRwI625ANLN17RvRbkBnJqK+L7duQJqZzo9DnW5AzQz7YFeDbkAAgCcya2luQDTzUwN/T25AZ2aA1JI1bkCa2aylphtuQM1M2Xa6AW5AAMAFSM7nbUA0MzIZ4s1tQGemXur1s21AmhmLuwmabUDOjLeMHYBtQAAA5F0xZm1ANHMQL0VMbUBn5jwAWTJtQJpZadFsGG1AzsyVooD+bEAAQMJzlORsQDSz7kSoymxAZyYbFrywbECamUfnz5ZsQM0MdLjjfGxAAICgifdibEA088xaC0lsQGdm+SsfL2xAmtkl/TIVbEDNTFLORvtrQADAfp9a4WtANDOrcG7Ha0BnptdBgq1rQJoZBBOWk2tAzYww5Kl5a0A=",
          "dtype": "f8"
         },
         "z": {
          "bdata": "AAAAAAAAeUBoWjvt6v94QJ9p7bSr/3hApi0WV0L/eEB9prXTrv54QCPUyyrx/XhAmbZYXAn9eEDeTVxo9/t4QPSZ1k67+nhA2JrHD1X5eECNUC+rxPd4QBG7DSEK9nhAZNpicSX0eECHri6cFvJ4QHo3caHd73hAPHUqgXrteEDOZ1o77ep4QDAPAdA16HhAYWseP1TleEBifLKISOJ4QDJCvawS33hA0rw+q7LbeEBC7DaEKNh4QIHQpTd01HhAkGmLxZXQeEBvt+ctjcx4QB26unBayHhAm3EEjv3DeEDo3cSFdr94QAX/+1fFunhA8dSpBOq1eECuX86L5LB4QDmfae20q3hAlZN7KVumeEDAPARA16B4QLqaAzEpm3hAha15/FCVeEAedWaiTo94QIjxySIiiXhAwSKkfcuCeEDKCPWySnx4QKKjvMKfdXhASvP6rMpueEDB969xy2d4QAix2xCiYHhAHx9+ik5ZeEAGQpfe0FF4QLwZJw0pSnhAQaYtFldCeECW56r5Wjp4QLvdnrc0MnhAsIgJUOQpeEB06OrCaSF4QAf9QhDFGHhAasYROPYPeECdRFc6/QZ4QKB3Exfa/XdAcl9Gzoz0d0AT/O9fFet3QIVNEMxz4XdAxlOnEqjXd0DWDrUzss13QLZ+OS+Sw3dAZqM0BUi5d0DmfKa10653QDQLj0A1pHdAU07upWyZd0BBRsTleY53QP/yEABdg3dAjFTU9BV4d0Dqag7EpGx3QBY2v20JYXdAErbm8UNVd0De6oRQVEl3QHrUmYk6PXdA5XIlnfYwd0AgxieLiCR3QCrOoFPwF3dABIuQ9i0Ld0Cu/PZzQf52QCcj1Msq8XZAb/4n/unjdkCIjvIKf9Z2QHDTM/LpyHZAJ83rsyq7dkCvexpQQa12QAXfv8Ytn3ZALPfbF/CQdkAixG5DiIJ2QOhFeEn2c3ZAfXz4KTpldkDiZ+/kU1Z2QBYIXXpDR3ZAGl1B6gg4dkDuZpw0pCh2QJElblkVGXZABJm2WFwJdkBHwXUyefl1QFmeq+Zr6XVAOzBYdTTZdUA=",
          "dtype": "f8"
         }
        },
        {
         "hovertemplate": "알파 요격<br>목표: H1<br>x: %{x:.1f}<br>y: %{y:.1f}<br>z: %{z:.1f}<extra></extra>",
         "line": {
          "color": "blue",
          "dash": "dash",
          "width": 6
         },
         "mode": "lines",
         "name": "🛡️ 알파 → H1",
         "type": "scatter3d",
         "x": {
          "bdata": "AAAAAAAASUDrRmNvFnJKQNeNxt4s5EtAwtQpTkNWTUCtG429WchOQEwxeBY4HVBAwtQpTkPWUEA4eNuFTo9RQK0bjb1ZSFJAI78+9WQBU0CYYvAscLpTQA4GomR7c1RAhKlTnIYsVUD5TAXUkeVVQG/wtgudnlZA5JNoQ6hXV0BaNxp7sxBYQNDay7K+yVhARn596smCWUC7IS8i1TtaQDDF4Fng9FpApmiSkeutW0AcDETJ9mZcQJKv9QACIF1AB1OnOA3ZXUB99lhwGJJeQPKZCqgjS19AtB7ebxcCYEBv8LYLnV5gQCrCj6ciu2BA5JNoQ6gXYUCgZUHfLXRhQFo3Gnuz0GFAFAnzFjktYkDQ2suyvoliQIuspE5E5mJARn596slCY0AAUFaGT59jQLshLyLV+2NAdvMHvlpYZEAwxeBZ4LRkQOyWufVlEWVApmiSkettZUBhOmstccplQBwMRMn2JmZA190cZXyDZkCSr/UAAuBmQEyBzpyHPGdAB1OnOA2ZZ0DDJIDUkvVnQA==",
          "dtype": "f8"
         },
         "y": {
          "bdata": "AAAAAAAANECuD14r9Dk4QF0fvFboczxAhRcNQe5WQEBdH7xW6HNCQDQna2zikERACi8agtytRkDiNsmX1spIQLo+eK3Q50pAkUYnw8oETUBoTtbYxCFPQCCrQndfn1BACi8agtytUUD2svGMWbxSQOI2yZfWylNAzrqgolPZVEC6Pnit0OdVQKXCT7hN9lZAkUYnw8oEWEB8yv7NRxNZQGhO1tjEIVpAVNKt40EwW0A/VoXuvj5cQCraXPk7TV1AFV40BLlbXkAB4gsPNmpfQPay8YxZPGBA7HRdEpjDYEDiNsmX1kphQNj4NB0V0mFAzrqgolNZYkDEfAwokuBiQLo+eK3QZ2NArwDkMg/vY0Clwk+4TXZkQJyEuz2M/WRAkUYnw8qEZUCHCJNICQxmQHzK/s1Hk2ZAc4xqU4YaZ0BoTtbYxKFnQF4QQl4DKWhAVNKt40GwaEBJlBlpgDdpQD9Whe6+vmlANRjxc/1FakAq2lz5O81qQCCcyH56VGtAFV40BLnba0AMIKCJ92JsQA==",
          "dtype": "f8"
         },
         "z": {
          "bdata": "AAAAAAAAAAD9jh/4S0AdQP2OH/hLQC1APasX+jjwNUD9jh/4S0A9QF65E3svSEJAPasX+jjwRUAdnRt5QphJQP2OH/hLQE1AbsCRuyp0UEBeuRN7L0hSQE6ylTo0HFRAPasX+jjwVUAtpJm5PcRXQB2dG3lCmFlADZadOEdsW0D9jh/4S0BdQOyHobdQFF9AbsCRuyp0YEDmvFIbLV5hQF65E3svSGJA1rXU2jEyY0BOspU6NBxkQMauVpo2BmVAPasX+jjwZUC2p9hZO9pmQC2kmbk9xGdApqBaGUCuaEAdnRt5QphpQJWZ3NhEgmpADZadOEdsa0CFkl6YSVZsQP2OH/hLQG1AdIvgV04qbkDsh6G3UBRvQGaEYhdT/m9AbsCRuyp0cECqPnLrK+lwQOa8UhstXnFAIzszSy7TcUBeuRN7L0hyQJo39KowvXJA1rXU2jEyc0ASNLUKM6dzQE6ylTo0HHRAijB2ajWRdEDGrlaaNgZ1QAEtN8o3e3VAPasX+jjwdUB6KfgpOmV2QA==",
          "dtype": "f8"
         }
        },
        {
         "hovertemplate": "요격점 H1<br>시간: 2.92초<br>좌표: (191.7, 227.1, 358.3)<extra></extra>",
         "marker": {
          "color": "gold",
          "size": 12,
          "symbol": "x"
         },
         "mode": "markers",
         "name": "💥 요격점 H1",
         "type": "scatter3d",
         "x": [
          191.6741735942662
         ],
         "y": [
          227.09271699283272
         ],
         "z": [
          358.3267001825805
         ]
        },
        {
         "hovertemplate": "미사일 H2<br>x: %{x:.1f}<br>y: %{y:.1f}<br>z: %{z:.1f}<extra></extra>",
         "line": {
          "color": "orange",
          "width": 4
         },
         "mode": "lines",
         "name": "🚀 미사일 H2",
         "type": "scatter3d",
         "x": {
          "bdata": "AAAAAACAccAgEcoohXRxwD8ilFEKaXHAXzNeeo9dccB/RCijFFJxwJ5V8suZRnHAvma89B47ccDdd4YdpC9xwP2IUEYpJHHAHZoab64YccA8q+SXMw1xwFy8rsC4AXHAfM146T32cMCb3kISw+pwwLvvDDtI33DA2gDXY83TcMD6EaGMUshwwBoja7XXvHDAOTQ13lyxcMBZRf8G4qVwwHlWyS9nmnDAmGeTWOyOcMC4eF2BcYNwwNeJJ6r2d3DA95rx0ntscMAXrLv7AGFwwDa9hSSGVXDAVs5PTQtKcMB23xl2kD5wwJXw454VM3DAtQGux5oncMDUEnjwHxxwwPQjQhmlEHDAFDUMQioFcMBnjKzVXvNvwKauQCdp3G/A5dDUeHPFb8Ak82jKfa5vwGQV/RuIl2/AozeRbZKAb8DiWSW/nGlvwCJ8uRCnUm/AYZ5NYrE7b8CgwOGzuyRvwN/idQXGDW/AHwUKV9D2bsBeJ56o2t9uwJ1JMvrkyG7A3GvGS++xbsAcjlqd+ZpuwFuw7u4DhG7AmtKCQA5tbsDa9BaSGFZuwBgXq+MiP27AWDk/NS0obsCXW9OGNxFuwNZ9Z9hB+m3AFqD7KUzjbcBVwo97VsxtwJTkI81gtW3A1Aa4HmuebcATKUxwdYdtwFJL4MF/cG3Akm10E4pZbcDQjwhllEJtwBCynLaeK23AT9QwCKkUbcCO9sRZs/1swM4YWau95mzADTvt/MfPbMBMXYFO0rhswIt/FaDcoWzAyqGp8eaKbMAKxD1D8XNswEnm0ZT7XGzAiAhm5gVGbMDIKvo3EC9swAdNjokaGGzARm8i2yQBbMCFkbYsL+prwMWzSn4502vABNbez0O8a8BD+HIhTqVrwIIaB3NYjmvAwjybxGJ3a8ABXy8WbWBrwECBw2d3SWvAgKNXuYEya8C/xesKjBtrwP7nf1yWBGvAPgoUrqDtasB8LKj/qtZqwLxOPFG1v2rA+3DQor+oasA6k2T0yZFqwHq1+EXUemrAuNeMl95jasD4+SDp6ExqwDgctTrzNWrAdz5JjP0easA=",
          "dtype": "f8"
         },
         "y": {
          "bdata": "AAAAAABAb0BR2UCnICtvQKKygU5BFm9A8ovC9WEBb0BDZQOdguxuQJQ+RESj125A5ReF68PCbkA18cWS5K1uQIbKBjoFmW5A16NH4SWEbkAofYiIRm9uQHlWyS9nWm5AyS8K14dFbkAaCUt+qDBuQGviiyXJG25AvLvMzOkGbkAMlQ10CvJtQF1uThsr3W1ArkePwkvIbUD/INBpbLNtQFD6EBGNnm1AoNNRuK2JbUDxrJJfznRtQEKG0wbvX21Ak18Urg9LbUDkOFVVMDZtQDQSlvxQIW1AhevWo3EMbUDWxBdLkvdsQCeeWPKy4mxAeHeZmdPNbEDIUNpA9LhsQBkqG+gUpGxAagNcjzWPbEC63Jw2VnpsQAu23d12ZWxAXI8ehZdQbECtaF8suDtsQP5BoNPYJmxAThvhevkRbECf9CEiGv1rQPDNYsk66GtAQaejcFvTa0CSgOQXfL5rQOJZJb+cqWtAMzNmZr2Ua0CEDKcN3n9rQNXl57T+amtAJb8oXB9Wa0B2mGkDQEFrQMdxqqpgLGtAGEvrUYEXa0BoJCz5oQJrQLn9bKDC7WpACtetR+PYakBbsO7uA8RqQKyJL5Ykr2pA/GJwPUWaakBNPLHkZYVqQJ4V8ouGcGpA7+4yM6dbakBAyHPax0ZqQJChtIHoMWpA4Xr1KAkdakAyVDbQKQhqQIItd3dK82lA1Aa4HmveaUAk4PjFi8lpQHW5OW2stGlAxpJ6FM2faUAXbLu77YppQGhF/GIOdmlAuB49Ci9haUAJ+H2xT0xpQFrRvlhwN2lAqqr//5AiaUD8g0CnsQ1pQExdgU7S+GhAnTbC9fLjaEDuDwOdE89oQD7pQ0Q0umhAj8KE61SlaEDgm8WSdZBoQDF1BjqWe2hAgk5H4bZmaEDSJ4iI11FoQCMByS/4PGhAdNoJ1xgoaEDEs0p+ORNoQBWNiyVa/mdAZmbMzHrpZ0C3Pw10m9RnQAgZThu8v2dAWfKOwtyqZ0Cqy89p/ZVnQPqkEBEegWdAS35RuD5sZ0CcV5JfX1dnQOww0waAQmdAPgoUrqAtZ0A=",
          "dtype": "f8"
         },
         "z": {
          "bdata": "AAAAAADAd0BurBen6r93QLmxXpyqv3dA3w/V3z+/d0Dixnpxqr53QMLWT1HqvXdAfT9Uf/+8d0AVAYj76bt3QIob68WpundA2o593j65d0AHWz9Fqbd3QBCAMProtXdA9v1Q/f2zd0C41KBO6LF3QFYEIO6nr3dA0IzO2zytd0AnbqwXp6p3QFqouaHmp3dAaTv2efukd0BVJ2Kg5aF3QB1s/RSlnndAwQnI1zmbd0BBAMLoo5d3QJ5P60fjk3dA1/dD9fePd0Dt+Mvw4Yt3QN5Sgzqhh3dArAVq0jWDd0BXEYC4n353QN11xezeeXdAQDM6b/N0d0B/Sd4/3W93QJu4sV6candAk4C0yzBld0BnoeaGml93QBcbSJDZWXdApO3Y5+1Td0ANGZmN1013QFOdiIGWR3dAdHqnwypBd0BysPVTlDp3QEw/czLTM3dAAycgX+csd0CWZ/zZ0CV3QAUBCKOPHndAUfNCuiMXd0B4Pq0fjQ93QHziRtPLB3dAXd8P1d//dkAZNQglyfd2QLLjL8OH73ZAKOuGrxvndkB5Sw3qhN52QKcEw3LD1XZAsRaoSdfMdkCYgbxuwMN2QFtFAOJ+unZA+mFzoxKxdkB11xWze6d2QM2l5xC6nXZAAc3ovM2TdkARTRm3tol2QP4lef90f3ZAx1cIlgh1dkBs4sZ6cWp2QO3FtK2vX3ZASwLSLsNUdkCGlx7+q0l2QJyFmhtqPnZAjsxFh/0ydkBebCBBZid2QAllKkmkG3ZAkbZjn7cPdkD1YMxDoAN2QDVkZDZe93VAUcArd/HqdUBKdSIGWt51QB+DSOOX0XVA0emdDqvEdUBfqSKIk7d1QMnB1k9RqnVADzO6ZeScdUAy/czJTI91QDEgD3yKgXVADJyAfJ1zdUDEcCHLhWV1QFie8WdDV3VAyCTxUtZIdUAUBCCMPjp1QD08fhN8K3VAQs0L6Y4cdUAjt8gMdw11QOH5tH40/nRAe5XQPsfudEDyiRtNL990QETXlalsz3RAc30/VH+/dEB+fBhNZ690QGbUIJQkn3RAKoVYKbeOdEA=",
          "dtype": "f8"
         }
        },
        {
         "hovertemplate": "브라보 요격<br>목표: H2<br>x: %{x:.1f}<br>y: %{y:.1f}<br>z: %{z:.1f}<extra></extra>",
         "line": {
          "color": "cyan",
          "dash": "dash",
          "width": 6
         },
         "mode": "lines",
         "name": "🛡️ 브라보 → H2",
         "type": "scatter3d",
         "x": {
          "bdata": "AAAAAAAARMB+7ZNcQcpFwP3aJ7mClEfAe8i7FcReScD6tU9yBSlLwHij485G80zA9pB3K4i9TsA6vwXE5ENQwPq1T3IFKVHAuayZICYOUsB4o+PORvNSwDeaLX1n2FPA9pB3K4i9VMC2h8HZqKJVwHV+C4jJh1bANHVVNupsV8D0a5/kClJYwLJi6ZIrN1nAclkzQUwcWsAxUH3vbAFbwPBGx52N5lvArz0RTK7LXMBuNFv6zrBdwC0rpajvlV7A7SHvVhB7X8BWjJyCGDBgwLaHwdmoomDAFoPmMDkVYcB1fguIyYdhwNR5MN9Z+mHANHVVNupsYsCUcHqNet9iwPRrn+QKUmPAU2fEO5vEY8CyYumSKzdkwBJeDuq7qWTAclkzQUwcZcDRVFiY3I5lwDFQfe9sAWbAkEuiRv1zZsDwRsedjeZmwFBC7PQdWWfArz0RTK7LZ8APOTajPj5owG40W/rOsGjAzi+AUV8jacAtK6Wo75VpwI0myv9/CGrA7SHvVhB7asBNHRSuoO1qwA==",
          "dtype": "f8"
         },
         "y": {
          "bdata": "AAAAAAAAPsBreJUN13s5wNbwKhuu9zTAQWnAKIVzMMBYw6tsuN4nwFxorQ/NrB3AEJQGjFI4B8AwUZsO6tH5P6DyUE0ehRhAeIh9C+FKJUCkl1LwMlMuQGbTk2rCrTNA/Fr+XOsxOECS4mhPFLY8QBO16aAenUBA3vgeGjPfQkCoPFSTRyFFQHCAiQxcY0dAPMS+hXClSUAICPT+hOdLQNJLKXiZKU5Azkev+NY1UECz6Uk14VZRQJiL5HHrd1JAfi1/rvWYU0Bjzxnr/7lUQElxtCcK21VALhNPZBT8VkATtemgHh1YQPhWhN0oPllA3vgeGjNfWkDCmrlWPYBbQKg8VJNHoVxAjN7uz1HCXUBwgIkMXONeQCsRkiQzAmBAHmLfQriSYEARsyxhPSNhQAQEen/Cs2FA9lTHnUdEYkDppRS8zNRiQNz2YdpRZWNAzkev+Nb1Y0DBmPwWXIZkQLPpSTXhFmVApjqXU2anZUCYi+Rx6zdmQIvcMZBwyGZAfi1/rvVYZ0BwfszMeulnQA==",
          "dtype": "f8"
         },
         "z": {
          "bdata": "AAAAAAAAAACCLh/NA5MbQIIuH80DkytA4WLX2UKuNECCLh/NA5M7QBF9M2DiO0FA4WLX2UKuRECxSHtToyBIQIIuH80Dk0tAURTDRmQFT0ARfTNg4jtRQPhvBZ0S9VJA4WLX2UKuVEDJVakWc2dWQLFIe1OjIFhAmjtNkNPZWUCCLh/NA5NbQGgh8Qk0TF1AURTDRmQFX0Cdg8pBSl9gQBF9M2DiO2FAhXacfnoYYkD4bwWdEvViQGxpbruq0WNA4WLX2UKuZEBVXED42oplQMlVqRZzZ2ZAPU8SNQtEZ0CxSHtToyBoQCVC5HE7/WhAmjtNkNPZaUANNbaua7ZqQIIuH80Dk2tA9SeI65tvbEBoIfEJNExtQN0aWijMKG5AURTDRmQFb0DFDSxl/OFvQJ2DykFKX3BAVgD/UJbNcEARfTNg4jtxQMv5Z28uqnFAhXacfnoYckA/89CNxoZyQPhvBZ0S9XJAs+w5rF5jc0BsaW67qtFzQCfmosr2P3RA4WLX2UKudECb3wvpjhx1QA==",
          "dtype": "f8"
         }
        },
        {
         "hovertemplate": "요격점 H2<br>시간: 2.94초<br>좌표: (-215.4, 191.3, 337.8)<extra></extra>",
         "marker": {
          "color": "gold",
          "size": 12,
          "symbol": "x"
         },
         "mode": "markers",
         "name": "💥 요격점 H2",
         "type": "scatter3d",
         "x": [
          -215.42586425699295
         ],
         "y": [
          191.29624023362993
         ],
         "z": [
          337.7848902188308
         ]
        },
        {
         "hovertemplate": "미사일 H3<br>x: %{x:.1f}<br>y: %{y:.1f}<br>z: %{z:.1f}<extra></extra>",
         "line": {
          "color": "green",
          "width": 4
         },
         "mode": "lines",
         "name": "🚀 미사일 H3",
         "type": "scatter3d",
         "x": {
          "bdata": "AAAAAAAAJEAGW+xB2asjQAu22IOyVyNAERHFxYsDI0AXbLEHZa8iQBzHnUk+WyJAIiKKixcHIkAofXbN8LIhQC7YYg/KXiFAMzNPUaMKIUA5jjuTfLYgQD7pJ9VVYiBAREQUFy8OIECUPgGyEHQfQJ/02TXDyx5AqqqyuXUjHkC2YIs9KHsdQMIWZMHa0hxAzcw8RY0qHEDYghXJP4IbQOQ47kzy2RpA7+7G0KQxGkD6pJ9UV4kZQAZbeNgJ4RhAERFRXLw4GEAcxyngbpAXQCh9AmQh6BZAMzPb59M/FkA+6bNrhpcVQEqfjO847xRAVVVlc+tGFEBgCz73nZ4TQGzBFntQ9hJAeHfv/gJOEkCDLciCtaURQI7joAZo/RBAmpl5ihpVEEBMn6QcmlkPQGALViT/CA5AdncHLGS4DECO47gzyWcLQKZPajsuFwpAvLsbQ5PGCEDQJ81K+HUHQOiTflJdJQZAAAAwWsLUBEAWbOFhJ4QDQCzYkmmMMwJAREREcfHiAEC4YOvxrCT/P+A4TgF3g/w/EBGxEEHi+T9A6RMgC0H3P3DBdi/Vn/Q/mJnZPp/+8T+A43ic0rruP+CTPrtmeOk/QEQE2vo15D9A6ZPxHefdP+BJHy9GYtM/QFVV2dy6wT8ASp9clXaavwAofTCCWMi/QDOz2hix1r9A6ZNO+Jrgv+A4zi9k3eW/gIgIEdAf678YbCH5HTHwv+iTvulT0vK/uLtb2olz9b+Q4/jKvxT4v2ALlrv1tfq/MDMzrCtX/b8AW9CcYfj/v2jBtsbLTAHAWFUFv2adAsBA6VO3Ae4DwCh9oq+cPgXAFBHxpzePBsD8pD+g0t8HwOQ4jphtMAnAzMzckAiBCsC0YCuJo9ELwKD0eYE+Ig3AiIjIedlyDsBwHBdydMMPwDDYMrUHihDAJCJaMVUyEcAYbIGtotoRwAy2qCnwghLAAADQpT0rE8D2Sfchi9MTwOqTHp7YexTA3t1FGiYkFcDUJ22Wc8wVwMhxlBLBdBbAvLu7jg4dF8CwBeMKXMUXwKRPCoepbRjAnJkxA/cVGcA=",
          "dtype": "f8"
         },
         "y": {
          "bdata": "AAAAAADgdcARUVy8ONB1wCKiuHhxwHXAM/MUNaqwdcBERHHx4qB1wFWVza0bkXXAZuYpalSBdcB3N4YmjXF1wImI4uLFYXXAmtk+n/5RdcCrKptbN0J1wLx79xdwMnXAzcxT1KgidcDeHbCQ4RJ1wO9uDE0aA3XAAMBoCVPzdMAREcXFi+N0wCJiIYLE03TAM7N9Pv3DdMBEBNr6NbR0wFVVNrdupHTAZqaSc6eUdMB39+4v4IR0wIhIS+wYdXTAmpmnqFFldMCr6gNlilV0wLw7YCHDRXTAzYy83fs1dMDe3RiaNCZ0wO8udVZtFnTAAIDREqYGdMAR0S3P3vZzwCIiiosX53PAM3PmR1DXc8BExEIEicdzwFUVn8DBt3PAZmb7fPqnc8B4t1c5M5hzwIgItPVriHPAmlkQsqR4c8Crqmxu3WhzwLz7yCoWWXPAzUwl505Jc8DenYGjhzlzwO/u3V/AKXPAAEA6HPkZc8ARkZbYMQpzwCLi8pRq+nLAMzNPUaPqcsBEhKsN3NpywFXVB8oUy3LAZiZkhk27csB4d8BChqtywInIHP++m3LAmhl5u/eLcsCratV3MHxywLy7MTRpbHLAzQyO8KFccsDeXeqs2kxywO+uRmkTPXLAAACjJUwtcsARUf/hhB1ywCKiW569DXLAM/O3Wvb9ccBERBQXL+5xwFaVcNNn3nHAZubMj6DOccB4NylM2b5xwIiIhQgSr3HAmtnhxEqfccCqKj6Bg49xwLx7mj28f3HAzcz2+fRvccDeHVO2LWBxwO9ur3JmUHHAAMALL59AccAREWjr1zBxwCJixKcQIXHAM7MgZEkRccBEBH0gggFxwFVV2dy68XDAZqY1mfPhcMB495FVLNJwwIhI7hFlwnDAmplKzp2ycMCr6qaK1qJwwLw7A0cPk3DAzYxfA0iDcMDe3bu/gHNwwO8uGHy5Y3DAAIB0OPJTcMAR0dD0KkRwwCIiLbFjNHDAM3OJbZwkcMBExOUp1RRwwFUVQuYNBXDAzcw8RY3qb8DvbvW9/spvwBERrjZwq2/AM7Nmr+GLb8A=",
          "dtype": "f8"
         },
         "z": {
          "bdata": "AAAAAABAekD3ICVQ6j96QNyDlECpP3pArihO0Tw/ekBuD1ICpT56QBw4oNPhPXpAuKI4RfM8ekBBTxtX2Tt6QLg9SAmUOnpAHW6/WyM5ekBw4IBOhzd6QLCUjOG/NXpA3oriFM0zekD6woLorjF6QAQ9bVxlL3pA+/ihcPAsekDh9iAlUCp6QLM26nmEJ3pAdLj9bo0kekAjfFsEayF6QL+BAzodHnpAScn1D6QaekDBUjKG/xZ6QCYeuZwvE3pAeSuKUzQPekC6eqWqDQt6QOkLC6K7BnpABd+6OT4CekAQ9LRxlf15QAhL+UnB+HlA7eOHwsHzeUDBvmDblu55QILbg5RA6XlAMTrx7b7jeUDO2qjnEd55QFi9qoE52HlA0eH2uzXSeUA3SI2WBsx5QIvwbRGsxXlAzNqYLCa/eUD7Bg7odLh5QBh1zUOYsXlAIyXXP5CqeUAcFyvcXKN5QAJLyRj+m3lA1sCx9XOUeUCYeORyvox5QEhyYZDdhHlA5a0oTtF8eUBwKzqsmXR5QOnqlao2bHlAT+w7SahjeUCkLyyI7lp5QOa0ZmcJUnlAFnzr5vhIeUAzhboGvT95QD/Q08ZVNnlAOF03J8MseUAfLOUnBSN5QPM83cgbGXlAto8fCgcPeUBmJKzrxgR5QAT7gm1b+nhAjxOkj8TveEAJbg9SAuV4QHAKxbQU2nhAxejEt/vOeEAHCQ9bt8N4QDhro55HuHhAVg+CgqyseEBi9aoG5qB4QFsdHiv0lHhAQ4fb79aIeEAYM+NUjnx4QNsgNVoacHhAjFDR/3pjeEAqwrdFsFZ4QLZ16Cu6SXhAMGtjspg8eECYoijZSy94QO4bOKDTIXhAMdeRBzAUeEBi1DUPYQZ4QIATJLdm+HdAjZRc/0Dqd0CHV9/n79t3QG9crHBzzXdARaPDmcu+d0AILCVj+K93QLr20Mz5oHdAWQPH1s+Rd0DlUQeBeoJ3QGDikcv5cndAyLRmtk1jd0AeyYVBdlN3QGIf72xzQ3dAlLeiOEUzd0CzkaCk6yJ3QMCt6LBmEndAugt7XbYBd0A=",
          "dtype": "f8"
         }
        },
        {
         "hovertemplate": "브라보 요격<br>목표: H3<br>x: %{x:.1f}<br>y: %{y:.1f}<br>z: %{z:.1f}<extra></extra>",
         "line": {
          "color": "cyan",
          "dash": "dash",
          "width": 6
         },
         "mode": "lines",
         "name": "🛡️ 브라보 → H3",
         "type": "scatter3d",
         "x": {
          "bdata": "AAAAAAAARMAUskdXB6RDwClkj64OSEPAPRbXBRbsQsBRyB5dHZBCwGZ6ZrQkNELAeiyuCyzYQcCO3vViM3xBwKKQPbo6IEHAt0KFEULEQMDL9MxoSWhAwOCmFMBQDEDA6LG4LrBgP8AQFkjdvqg+wDl614vN8D3AYt5mOtw4PcCKQvbo6oA8wLOmhZf5yDvA3AoVRggRO8AEb6T0Flk6wC3TM6MloTnAVjfDUTTpOMB+m1IAQzE4wKf/4a5ReTfAz2NxXWDBNsD4xwAMbwk2wCEskLp9UTXASpAfaYyZNMBy9K4Xm+EzwJtYPsapKTPAxLzNdLhxMsDtIF0jx7kxwBSF7NHVATHAPel7gORJMMDMmhZe5iMvwBxjNbsDtC3AbitUGCFELMDA83J1PtQqwBK8kdJbZCnAYoSwL3n0J8C0TM+MloQmwAYV7umzFCXAVt0MR9GkI8CopSuk7jQiwPptSgEMxSDAkGzSvFKqHsA4/Q93jcobwNiNTTHI6hjAeB6L6wILFsAgr8ilPSsTwA==",
          "dtype": "f8"
         },
         "y": {
          "bdata": "AAAAAAAAPsDKy/OlElxBwJSX50sluEPAXmPb8TcURsAoL8+XSnBIwPL6wj1dzErAvMa2428oTcCFkqqJgoRPwCgvz5dK8FDADBXJ6lMeUsDy+sI9XUxTwNbgvJBmelTAvMa242+oVcCgrLA2edZWwIWSqomCBFjAanik3IsyWcBPXp4vlWBawDREmIKejlvAGSqS1ae8XMD9D4wosepdwOP1hXu6GF/A5O0/52EjYMDW4LyQZrpgwMnTOTprUWHAvMa242/oYcCuuTONdH9iwKCssDZ5FmPAkp8t4H2tY8CFkqqJgkRkwHiFJzOH22TAanik3ItyZcBcayGGkAlmwE9eni+VoGbAQVEb2Zk3Z8A0RJiCns5nwCc3FSyjZWjAGSqS1af8aMALHQ9/rJNpwP0PjCixKmrA8AIJ0rXBasDj9YV7ulhrwNXoAiW/72vAyNt/zsOGbMC6zvx3yB1twKzBeSHNtG3An7T2ytFLbsCSp3N01uJuwISa8B3beW/AvMa2428IcMA0QHU48lNwwA==",
          "dtype": "f8"
         },
         "z": {
          "bdata": "AAAAAAAAAAAuStGq5cgeQC5K0arlyC5Ao/ccQKwWN0AuStGq5cg+QF3OwoqPPUNAo/ccQKwWR0DoIHf1yO9KQC5K0arlyE5AurkVMAFRUUBdzsKKjz1TQP/ib+UdKlVAo/ccQKwWV0BFDMqaOgNZQOggd/XI71pAizUkUFfcXEAuStGq5cheQGgvvwK6WmBAurkVMAFRYUALRGxdSEdiQF3OwoqPPWNArlgZuNYzZED/4m/lHSplQFFtxhJlIGZAo/ccQKwWZ0D0gXNt8wxoQEUMypo6A2lAlpYgyIH5aUDoIHf1yO9qQDqrzSIQ5mtAizUkUFfcbEDcv3p9ntJtQC5K0arlyG5Af9Qn2Cy/b0BoL78CulpwQJF0apnd1XBAurkVMAFRcUDi/sDGJMxxQAtEbF1IR3JANIkX9GvCckBdzsKKjz1zQIUTbiGzuHNArlgZuNYzdEDXncRO+q50QP/ib+UdKnVAKSgbfEGldUBRbcYSZSB2QHmycamIm3ZAo/ccQKwWd0DLPMjWz5F3QA==",
          "dtype": "f8"
         }
        },
        {
         "hovertemplate": "요격점 H3<br>시간: 2.96초<br>좌표: (-4.8, -261.2, 377.1)<extra></extra>",
         "marker": {
          "color": "gold",
          "size": 12,
          "symbol": "x"
         },
         "mode": "markers",
         "name": "💥 요격점 H3",
         "type": "scatter3d",
         "x": [
          -4.792227354831994
         ],
         "y": [
          -261.24663587100804
         ],
         "z": [
          377.1132419370602
         ]
        },
        {
         "hovertemplate": "미사일 H4<br>x: %{x:.1f}<br>y: %{y:.1f}<br>z: %{z:.1f}<extra></extra>",
         "line": {
          "color": "purple",
          "width": 4
         },
         "mode": "lines",
         "name": "🚀 미사일 H4",
         "type": "scatter3d",
         "x": {
          "bdata": "AAAAAADAckA5Lkkw9rRyQHJckmDsqXJAq4rbkOKeckDkuCTB2JNyQBznbfHOiHJAVRW3IcV9ckCOQwBSu3JyQMdxSYKxZ3JAAKCSsqdcckA5ztvinVFyQHL8JBOURnJAqypuQ4o7ckDkWLdzgDByQByHAKR2JXJAVbVJ1GwackCO45IEYw9yQMcR3DRZBHJAAEAlZU/5cUA5bm6VRe5xQHKct8U743FAq8oA9jHYcUDk+EkmKM1xQBwnk1YewnFAVVXchhS3cUCOgyW3CqxxQMexbucAoXFAAOC3F/eVcUA5DgFI7YpxQHI8Snjjf3FAq2qTqNl0cUDkmNzYz2lxQBzHJQnGXnFAVfVuObxTcUCOI7hpskhxQMdRAZqoPXFAAIBKyp4ycUA5rpP6lCdxQHLc3CqLHHFAqwomW4ERcUDkOG+LdwZxQBxnuLtt+3BAVZUB7GPwcECOw0ocWuVwQMfxk0xQ2nBAACDdfEbPcEA5TiatPMRwQHJ8b90yuXBAq6q4DSmucEDk2AE+H6NwQBwHS24VmHBAVTWUnguNcECOY93OAYJwQMeRJv/3dnBAAMBvL+5rcEA57rhf5GBwQHIcApDaVXBAq0pLwNBKcEDkeJTwxj9wQByn3SC9NHBAVdUmUbMpcECOA3CBqR5wQMcxubGfE3BAAGAC4pUIcEByHJckGPtvQOR4KYUE5W9AVtW75fDOb0DHMU5G3bhvQDmO4KbJom9Aq+pyB7aMb0AcRwVoonZvQI6jl8iOYG9AAAAqKXtKb0ByXLyJZzRvQOS4TupTHm9AVRXhSkAIb0DHcXOrLPJuQDnOBQwZ3G5AqiqYbAXGbkAchyrN8a9uQI7jvC3emW5AAEBPjsqDbkBynOHutm1uQOT4c0+jV25AVlUGsI9BbkDHsZgQfCtuQDkOK3FoFW5Aq2q90VT/bUAcx08yQeltQI4j4pIt021AAIB08xm9bUBy3AZUBqdtQOQ4mbTykG1AVZUrFd96bUDH8b11y2RtQDlOUNa3Tm1Aq6riNqQ4bUAcB3WXkCJtQI5jB/h8DG1AAMCZWGn2bEA=",
          "dtype": "f8"
         },
         "y": {
          "bdata": "AAAAAAAAJMCsib8TQhwkwFgTfyeEOCTAA50+O8ZUJMCvJv5OCHEkwFuwvWJKjSTABzp9doypJMCzwzyKzsUkwF5N/J0Q4iTACte7sVL+JMC2YHvFlBolwGLqOtnWNiXADnT67BhTJcC5/bkAW28lwGWHeRSdiyXAERE5KN+nJcC9mvg7IcQlwGkkuE9j4CXAFK53Y6X8JcDANzd35xgmwGzB9oopNSbAGEu2nmtRJsDE1HWyrW0mwHBeNcbviSbAG+j02TGmJsDHcbTtc8ImwHP7cwG23ibAH4UzFfj6JsDKDvMoOhcnwHaYsjx8MyfAIiJyUL5PJ8DOqzFkAGwnwHo18XdCiCfAJr+wi4SkJ8DRSHCfxsAnwH3SL7MI3SfAKVzvxkr5J8DV5a7ajBUowIBvbu7OMSjALPktAhFOKMDYgu0VU2oowIQMrSmVhijAMJZsPdeiKMDcHyxRGb8owIip62Rb2yjAMzOreJ33KMDfvGqM3xMpwItGKqAhMCnANtDps2NMKcDiWanHpWgpwI7jaNvnhCnAOm0o7ymhKcDm9ucCbL0pwJKApxau2SnAPgpnKvD1KcDpkyY+MhIqwJUd5lF0LirAQaelZbZKKsDtMGV5+GYqwJi6JI06gyrARETkoHyfKsDwzaO0vrsqwJxXY8gA2CrASOEi3EL0KsD0auLvhBArwJ/0oQPHLCvAS35hFwlJK8D3ByErS2UrwKOR4D6NgSvAThugUs+dK8D6pF9mEborwKYuH3pT1ivAUrjejZXyK8D+QZ6h1w4swKrLXbUZKyzAVlUdyVtHLMAB39zcnWMswK1onPDffyzAWfJbBCKcLMAEfBsYZLgswLAF2yum1CzAXI+aP+jwLMAIGVpTKg0twLSiGWdsKS3AYCzZeq5FLcAMtpiO8GEtwLc/WKIyfi3AY8kXtnSaLcAPU9fJtrYtwLrclt340i3AZmZW8TrvLcAS8BUFfQsuwL551Ri/Jy7AagOVLAFELsAWjVRAQ2AuwMIWFFSFfC7AbaDTZ8eYLsAZKpN7CbUuwMWzUo9L0S7AcD0So43tLsA=",
          "dtype": "f8"
         },
         "z": {
          "bdata": "AAAAAADgdUDFQj+38N91QBYL/dzC33VA8Vg5cXbfdUBXLPRzC991QEiFLeWB3nVAxGPlxNnddUDKxxsTE911QFyx0M8t3HVAeCAE+ynbdUAgFbaUB9p1QFKP5pzG2HVAD4+VE2fXdUBXFMP46NV1QCofb0xM1HVAh6+ZDpHSdUBwxUI/t9B1QONgat6+znVA4oEQ7KfMdUBrKDVocsp1QH9U2FIeyHVAHgb6q6vFdUBHPZpzGsN1QPz5uKlqwHVAPDxWTpy9dUAGBHJhr7p1QFtRDOOjt3VAPCQl03m0dUCnfLwxMbF1QJxa0v7JrXVAHb5mOkSqdUApp3nkn6Z1QL8VC/3conVA4QkbhPuedUCNg6l5+5p1QMSCtt3clnVAhgdCsJ+SdUDTEUzxQ451QKuh1KDJiXVADrfbvjCFdUD7UWFLeYB1QHNyZUaje3VAdxjor652dUAFROmHm3F1QB71aM5pbHVAwitngxlndUDx5+OmqmF1QKop3zgdXHVA7/BYOXFWdUC+PVGoplB1QBgQyIW9SnVA/We90bVEdUBtRTGMjz51QGioI7VKOHVA7pCUTOcxdUD//oNSZSt1QJry8cbEJHVAwWveqQUedUByakn7Jxd1QK7uMrsrEHVAdfia6RAJdUDHh4GG1wF1QKSc5pF/+nRACzfKCwnzdED+Viz0c+t0QHv8DEvA43RAgydsEO7bdEAW2ElE/dN0QDQOpubty3RA3cmA97/DdEARC9p2c7t0QNDRsWQIs3RAGR4IwX6qdEDt79yL1qF0QE1HMMUPmXRANyQCbSqQdECshlKDJod0QKxuIQgEfnRANtxu+8J0dEBMzzpdY2t0QOxHhS3lYXRAGEZObEhYdEDOyZUZjU50QA/TWzWzRHRA22Ggv7o6dEAydmO4ozB0QBQQpR9uJnRAgC9l9RkcdEB41KM5pxF0QPr+YOwVB3RAB6+cDWb8c0Cf5Fadl/FzQMKfj5uq5nNAcOBGCJ/bc0CppnzjdNBzQGzyMC0sxXNAu8Nj5cS5c0CUGhUMP65zQPj2RKGaonNA51jzpNeWc0A=",
          "dtype": "f8"
         }
        },
        {
         "hovertemplate": "알파 요격<br>목표: H4<br>x: %{x:.1f}<br>y: %{y:.1f}<br>z: %{z:.1f}<extra></extra>",
         "line": {
          "color": "blue",
          "dash": "dash",
          "width": 6
         },
         "mode": "lines",
         "name": "🛡️ 알파 → H4",
         "type": "scatter3d",
         "x": {
          "bdata": "AAAAAAAASUAWfwmM3epKQCz+Ehi71UxAQn0cpJjATkAs/hIYu1VQQLi9F94pS1FAQn0cpJhAUkDOPCFqBzZTQFn8JTB2K1RA5Lsq9uQgVUBvey+8UxZWQPo6NILCC1dAhfo4SDEBWEAQuj0OoPZYQJx5QtQO7FlAJjlHmn3hWkCy+Etg7NZbQD24UCZbzFxAx3dV7MnBXUBTN1qyOLdeQN72XninrF9ANNsxHwtRYED6OjSCwstgQMCaNuV5RmFAhfo4SDHBYUBLWjur6DtiQBC6PQ6gtmJA1RlAcVcxY0CceULUDqxjQGDZRDfGJmRAJjlHmn2hZEDsmEn9NBxlQLL4S2DslmVAdlhOw6MRZkA9uFAmW4xmQAMYU4kSB2dAx3dV7MmBZ0CN11dPgfxnQFM3WrI4d2hAGJdcFfDxaEDe9l54p2xpQKNWYdte52lAabZjPhZiakAvFmahzdxqQPR1aASFV2tAudVqZzzSa0B/NW3K80xsQEWVby2rx2xACvVxkGJCbUDQVHTzGb1tQA==",
          "dtype": "f8"
         },
         "y": {
          "bdata": "AAAAAAAANECofc1gUEkzQE/7msGgkjJA93hoIvHbMUCe9jWDQSUxQEZ0A+SRbjBA3OOhicRvL0Ar3zxLZQIuQHra1wwGlSxAytVyzqYnK0AZ0Q2QR7opQGjMqFHoTChAt8dDE4nfJkAHw97UKXIlQFa+eZbKBCRAprkUWGuXIkD0tK8ZDCohQIZglbZZeR9AKFfLOZueHEDGTQG93MMZQGREN0Ae6RZAADttw18OFECiMaNGoTMRQIBQspPFsQxAuD0emkj8BkD4Koqgy0YBQHAw7E2dIvc/4BWItUZv5z8AWPnmWSqTP0CAGBehPOa/oGW0fkqJ9r+YRe44IvoAwGBYgjKfrwbAGGsWLBxlDMD0PtWSTA0RwFRInw8L6BPAsFFpjMnCFsAUWzMJiJ0ZwHRk/YVGeBzA2G3HAgVTH8Ccu8i/4RYhwErALf5AhCLAAMWSPKDxI8Cwyfd6/14lwF7OXLlezCbAENPB9705KMDA1yY2HacpwHDci3R8FCvAJOHwstuBLMDU5VXxOu8twA==",
          "dtype": "f8"
         },
         "z": {
          "bdata": "AAAAAAAAAAAGYRCkpBoaQAZhEKSkGipAxEgMe/uTM0AGYRCkpBo6QKQ8iuamUEBAxEgMe/uTQ0DlVI4PUNdGQAZhEKSkGkpAJm2SOPldTUCkPIrmplBQQLRCyzBR8lFAxEgMe/uTU0DUTk3FpTVVQOVUjg9Q11ZA9VrPWfp4WEAGYRCkpBpaQBdnUe5OvFtAJm2SOPldXUA3c9OCo/9eQKQ8iuamUGBArL+qC3whYUC0QsswUfJhQLzF61Umw2JAxEgMe/uTY0DNyyyg0GRkQNROTcWlNWVA3NFt6noGZkDlVI4PUNdmQO3XrjQlqGdA9VrPWfp4aED93e9+z0lpQAZhEKSkGmpADeQwyXnrakAXZ1HuTrxrQB/qcRMkjWxAJm2SOPldbUAu8LJdzi5uQDdz04Kj/25AP/bzp3jQb0CkPIrmplBwQCd+GnkRuXBArL+qC3whcUAwATue5olxQLRCyzBR8nFAOIRbw7tackC8xetVJsNyQEAHfOiQK3NAxEgMe/uTc0BJipwNZvxzQA==",
          "dtype": "f8"
         }
        },
        {
         "hovertemplate": "요격점 H4<br>시간: 2.48초<br>좌표: (237.9, -15.0, 319.8)<extra></extra>",
         "marker": {
          "color": "gold",
          "size": 12,
          "symbol": "x"
         },
         "mode": "markers",
         "name": "💥 요격점 H4",
         "type": "scatter3d",
         "x": [
          237.9094178462401
         ],
         "y": [
          -14.967246572300791
         ],
         "z": [
          319.7749153252084
         ]
        },
        {
         "hovertemplate": "미사일 H5<br>x: %{x:.1f}<br>y: %{y:.1f}<br>z: %{z:.1f}<extra></extra>",
         "line": {
          "color": "brown",
          "width": 4
         },
         "mode": "lines",
         "name": "🚀 미사일 H5",
         "type": "scatter3d",
         "x": {
          "bdata": "AAAAAAAAacDo9BtF9+9owNDpN4ru32jAuN5Tz+XPaMCg028U3b9owInIi1nUr2jAcb2nnsufaMBZssPjwo9owEGn3yi6f2jAKZz7bbFvaMARkRezqF9owPmFM/ifT2jA4XpPPZc/aMDKb2uCji9owLJkh8eFH2jAmlmjDH0PaMCCTr9RdP9nwGpD25Zr72fAUjj322LfZ8A6LRMhWs9nwCIiL2ZRv2fAChdLq0ivZ8DzC2fwP59nwNsAgzU3j2fAw/Weei5/Z8Cr6rq/JW9nwJPf1gQdX2fAe9TySRRPZ8BjyQ6PCz9nwEu+KtQCL2fANLNGGfoeZ8AcqGJe8Q5nwASdfqPo/mbA7JGa6N/uZsDUhrYt195mwLx70nLOzmbApHDut8W+ZsCMZQr9vK5mwHRaJkK0nmbAXE9Ch6uOZsBFRF7Mon5mwC05ehGabmbAFS6WVpFeZsD9IrKbiE5mwOUXzuB/PmbAzQzqJXcuZsC1AQZrbh5mwJ72IbBlDmbAhus99Vz+ZcBu4Fk6VO5lwFbVdX9L3mXAPsqRxELOZcAmv60JOr5lwA60yU4xrmXA9qjlkyieZcDenQHZH45lwMaSHR4XfmXAr4c5Yw5uZcCXfFWoBV5lwH9xce38TWXAZ2aNMvQ9ZcBPW6l36y1lwDdQxbziHWXAH0XhAdoNZcAIOv1G0f1kwPAuGYzI7WTA2CM10b/dZMDAGFEWt81kwKgNbVuuvWTAkAKJoKWtZMB496TlnJ1kwGDswCqUjWTASOHcb4t9ZMAw1vi0gm1kwBnLFPp5XWTAAcAwP3FNZMDptEyEaD1kwNGpaMlfLWTAuZ6EDlcdZMChk6BTTg1kwImIvJhF/WPAcX3Y3TztY8BZcvQiNN1jwEJnEGgrzWPAKlwsrSK9Y8ASUUjyGa1jwPpFZDcRnWPA4jqAfAiNY8DKL5zB/3xjwLIkuAb3bGPAmhnUS+5cY8CCDvCQ5UxjwGoDDNbcPGPAU/gnG9QsY8A77UNgyxxjwCPiX6XCDGPAC9d76rn8YsDzy5cvsexiwNvAs3So3GLAw7XPuZ/MYsA=",
          "dtype": "f8"
         },
         "y": {
          "bdata": "AAAAAABAb8A18c8GnypvwGvinw0+FW/AoNNvFN3/bsDWxD8bfOpuwAu2DyIb1W7AQaffKLq/bsB2mK8vWapuwKyJfzb4lG7A4XpPPZd/bsAXbB9ENmpuwExd70rVVG7Agk6/UXQ/bsC3P49YEypuwO0wX1+yFG7AIiIvZlH/bcBYE/9s8OltwI0Ez3OP1G3Aw/Weei6/bcD45m6BzaltwC7YPohslG3AY8kOjwt/bcCZut6VqmltwM6rrpxJVG3ABJ1+o+g+bcA5jk6qhyltwG9/HrEmFG3ApHDut8X+bMDaYb6+ZOlswA9TjsUD1GzARURezKK+bMB6NS7TQalswLAm/tngk2zA5RfO4H9+bMAaCZ7nHmlswFD6be69U2zAhus99Vw+bMC73A38+yhswPDN3QKbE2zAJr+tCTr+a8BcsH0Q2ehrwJGhTRd402vAxpIdHhe+a8D8g+0ktqhrwDJ1vStVk2vAZ2aNMvR9a8CcV105k2hrwNJILUAyU2vABzr9RtE9a8A9K81NcChrwHIcnVQPE2vAqA1tW679asDd/jxiTehqwBPwDGns0mrASOHcb4u9asB+0qx2KqhqwLPDfH3JkmrA6bRMhGh9asAephyLB2hqwFSX7JGmUmrAioi8mEU9asC/eYyf5CdqwPRqXKaDEmrAKlwsrSL9acBfTfyzwedpwJQ+zLpg0mnAyi+cwf+8acAAIWzInqdpwDUSPM89kmnAawMM1tx8acCg9Nvce2dpwNblq+MaUmnAC9d76rk8acBAyEvxWCdpwHa5G/j3EWnArKrr/pb8aMDhm7sFNudowBaNiwzV0WjATH5bE3S8aMCCbysaE6dowLdg+yCykWjA7FHLJ1F8aMAiQ5su8GZowFg0azWPUWjAjSU7PC48aMDCFgtDzSZowPgH20lsEWjALfmqUAv8Z8Bj6npXquZnwJjbSl5J0WfAzswaZei7Z8AEvuprh6ZnwDmvunImkWfAbqCKecV7Z8CkkVqAZGZnwNmCKocDUWfADnT6jaI7Z8BEZcqUQSZnwHpWmpvgEGfAr0dqon/7ZsA=",
          "dtype": "f8"
         },
         "z": {
          "bdata": "AAAAAAAgfEA1jbma6R98QNM05mqmH3xA2vaFcDYffEBL05irmR58QCTKHhzQHXxAaNsXwtkcfEAUB4Sdtht8QCpNY65mGnxAqa219OkYfECSKHtwQBd8QOO9syFqFXxAn21fCGcTfEDDN34kNxF8QFEcEHbaDnxASBsV/VAMfECoNI25mgl8QHJoeKu3BnxApbbW0qcDfEBBH6gvawB8QEei7MEB/XtAtj+kiWv5e0CO986GqPV7QM/JbLm48XtAerZ9IZzte0COvQG/Uul7QAzf+JHc5HtA8xpjmjnge0BDcUDYadt7QPzhkEtt1ntAH21U9EPRe0CrEovS7ct7QKHSNOZqxntA/6xRL7vAe0DHoeGt3rp7QPmw5GHVtHtAk9paS5+ue0CXHkRqPKh7QAR9oL6soXtA2/VvSPCae0AbibIHB5R7QMQ2aPzwjHtA1/6QJq6Fe0BS4SyGPn57QDjeOxuidntAhvW95dhue0A+J7Pl4mZ7QF9zGxvAXntA6dn2hXBWe0DdWkUm9E17QDr2BvxKRXtAAKw7B3U8e0AwfONHcjN7QMlm/r1CKntAy2uMaeYge0A3i41KXRd7QAzFAWGnDXtAShnprMQDe0Dyh0Mutfl6QAIREeV473pAfbRR0Q/lekBgcgXzedp6QK1KLEq3z3pAYz3G1sfEekCCStOYq7l6QAtyU5BirnpA/bNGveyiekBYEK0fSpd6QB2Hhrd6i3pASxjThH5/ekDiw5KHVXN6QOOJxb//ZnpATWprLX1aekAgZYTQzU16QF16EKnxQHpAA6oPt+gzekAS9IH6siZ6QIpYZ3NQGXpAbNe/IcELekC3cIsFBf55QGwkyh4c8HlAifJ7bQbieUAQ26Dxw9N5QAHeOKtUxXlAWvtDmri2eUAeM8K+76d5QEqFsxj6mHlA3/EXqNeJeUDeeO9siHp5QEcaOmcMa3lAGNb3lmNbeUBTrCj8jUt5QPeczJaLO3lABajjZlwreUB8zW1sABt5QFwNa6d3CnlApWfbF8L5eEBY3L693+h4QHRrFZnQ13hA+RTfqZTGeEA=",
          "dtype": "f8"
         }
        },
        {
         "hovertemplate": "브라보 요격<br>목표: H5<br>x: %{x:.1f}<br>y: %{y:.1f}<br>z: %{z:.1f}<extra></extra>",
         "line": {
          "color": "cyan",
          "dash": "dash",
          "width": 6
         },
         "mode": "lines",
         "name": "🛡️ 브라보 → H5",
         "type": "scatter3d",
         "x": {
          "bdata": "AAAAAAAARMD2N8hZKCxFwOtvkLNQWEbA4adYDXmER8DX3yBnobBIwMwX6cDJ3EnAwk+xGvIIS8C4h3l0GjVMwK6/Qc5CYU3AovcJKGuNTsCYL9KBk7lPwMczze3dclDAwk+xGvIIUcC9a5VHBp9RwLiHeXQaNVLAsqNdoS7LUsCuv0HOQmFTwKjbJftW91PAovcJKGuNVMCeE+5UfyNVwJgv0oGTuVXAlEu2rqdPVsCOZ5rbu+VWwImDfgjQe1fAhJ9iNeQRWMB+u0Zi+KdYwHrXKo8MPlnAdPMOvCDUWcBvD/PoNGpawGor1xVJAFvAZEe7Ql2WW8BgY59vcSxcwFt/g5yFwlzAVJtnyZlYXcBQt0v2re5dwEvTLyPChF7ARO8TUNYaX8BAC/h86rBfwJ4T7lR/I2DAnCFga4luYMCYL9KBk7lgwJY9RJidBGHAlEu2rqdPYcCQWSjFsZphwI5nmtu75WHAjHUM8sUwYsCJg34I0HtiwIaR8B7axmLAhJ9iNeQRY8CBrdRL7lxjwA==",
          "dtype": "f8"
         },
         "y": {
          "bdata": "AAAAAAAAPsB/8kAIoKFAwP/kgRBAQ0LAftfCGODkQ8D9yQMhgIZFwHy8RCkgKEfA/K6FMcDJSMB7ocY5YGtKwPqTB0IADUzAeIZISqCuTcD4eIlSQFBPwLw1ZS3weFDA/K6FMcBJUcA8KKY1kBpSwHuhxjlg61LAuhrnPTC8U8D6kwdCAI1UwDoNKEbQXVXAeIZISqAuVsC5/2hOcP9WwPh4iVJA0FfAOfKpVhChWMB3a8pa4HFZwLfk6l6wQlrA910LY4ATW8A31ytnUORbwHdQTGsgtVzAtslsb/CFXcD2Qo1zwFZewDW8rXeQJ1/AdTXOe2D4X8BaV/c/mGRgwPqTB0IAzWDAmtAXRGg1YcA6DShG0J1hwNpJOEg4BmLAeIZISqBuYsAZw1hMCNdiwLn/aE5wP2PAWjx5UNinY8D4eIlSQBBkwJi1mVSoeGTAOfKpVhDhZMDYLrpYeEllwHdrylrgsWXAGKjaXEgaZsC35OpesIJmwFgh+2AY62bA910LY4BTZ8CXmhtl6LtnwA==",
          "dtype": "f8"
         },
         "z": {
          "bdata": "AAAAAAAAAADKQD9DRo8gQMpAP0NGjzBALuHeZOnWOEDKQD9DRo9AQPwQD9QXs0RALuHeZOnWSEBgsa71uvpMQMpAP0NGj1BA4iinCy+hUkD8EA/UF7NUQBT5dpwAxVZALuHeZOnWWEBIyUYt0uhaQGCxrvW6+lxAeZkWvqMMX0DKQD9DRo9gQNY0c6c6mGFA4iinCy+hYkDvHNtvI6pjQPwQD9QXs2RACQVDOAy8ZUAU+XacAMVmQCLtqgD1zWdALuHeZOnWaEA71RLJ3d9pQEjJRi3S6GpAVL16kcbxa0Bgsa71uvpsQG2l4lmvA25AeZkWvqMMb0DERiURzApwQMpAP0NGj3BAzzpZdcATcUDWNHOnOphxQN0ujdm0HHJA4iinCy+hckDpIsE9qSVzQO8c228jqnNA9hb1oZ0udED8EA/UF7N0QAILKQaSN3VACQVDOAy8dUAP/1xqhkB2QBT5dpwAxXZAG/OQznpJd0Ai7aoA9c13QCnnxDJvUnhALuHeZOnWeEA02/iWY1t5QA==",
          "dtype": "f8"
         }
        },
        {
         "hovertemplate": "요격점 H5<br>시간: 3.01초<br>좌표: (-154.9, -189.9, 405.7)<extra></extra>",
         "marker": {
          "color": "gold",
          "size": 12,
          "symbol": "x"
         },
         "mode": "markers",
         "name": "💥 요격점 H5",
         "type": "scatter3d",
         "x": [
          -154.9040888922289
         ],
         "y": [
          -189.8721185229719
         ],
         "z": [
          405.71181389628464
         ]
        }
       ],
       "layout": {
        "height": 800,
        "legend": {
         "bgcolor": "rgba(255,255,255,0.8)",
         "x": 0.02,
         "y": 0.98
        },
        "scene": {
         "aspectmode": "cube",
         "camera": {
          "eye": {
           "x": 1.8,
           "y": 1.8,
           "z": 1.5
          }
         },
         "xaxis": {
          "title": {
           "text": "X (m)"
          }
         },
         "yaxis": {
          "title": {
           "text": "Y (m)"
          }
         },
         "zaxis": {
          "title": {
           "text": "Z (m)"
          }
         }
        },
        "showlegend": true,
        "template": {
         "data": {
          "bar": [
           {
            "error_x": {
             "color": "#2a3f5f"
            },
            "error_y": {
             "color": "#2a3f5f"
            },
            "marker": {
             "line": {
              "color": "#E5ECF6",
              "width": 0.5
             },
             "pattern": {
              "fillmode": "overlay",
              "size": 10,
              "solidity": 0.2
             }
            },
            "type": "bar"
           }
          ],
          "barpolar": [
           {
            "marker": {
             "line": {
              "color": "#E5ECF6",
              "width": 0.5
             },
             "pattern": {
              "fillmode": "overlay",
              "size": 10,
              "solidity": 0.2
             }
            },
            "type": "barpolar"
           }
          ],
          "carpet": [
           {
            "aaxis": {
             "endlinecolor": "#2a3f5f",
             "gridcolor": "white",
             "linecolor": "white",
             "minorgridcolor": "white",
             "startlinecolor": "#2a3f5f"
            },
            "baxis": {
             "endlinecolor": "#2a3f5f",
             "gridcolor": "white",
             "linecolor": "white",
             "minorgridcolor": "white",
             "startlinecolor": "#2a3f5f"
            },
            "type": "carpet"
           }
          ],
          "choropleth": [
           {
            "colorbar": {
             "outlinewidth": 0,
             "ticks": ""
            },
            "type": "choropleth"
           }
          ],
          "contour": [
           {
            "colorbar": {
             "outlinewidth": 0,
             "ticks": ""
            },
            "colorscale": [
             [
              0,
              "#0d0887"
             ],
             [
              0.1111111111111111,
              "#46039f"
             ],
             [
              0.2222222222222222,
              "#7201a8"
             ],
             [
              0.3333333333333333,
              "#9c179e"
             ],
             [
              0.4444444444444444,
              "#bd3786"
             ],
             [
              0.5555555555555556,
              "#d8576b"
             ],
             [
              0.6666666666666666,
              "#ed7953"
             ],
             [
              0.7777777777777778,
              "#fb9f3a"
             ],
             [
              0.8888888888888888,
              "#fdca26"
             ],
             [
              1,
              "#f0f921"
             ]
            ],
            "type": "contour"
           }
          ],
          "contourcarpet": [
           {
            "colorbar": {
             "outlinewidth": 0,
             "ticks": ""
            },
            "type": "contourcarpet"
           }
          ],
          "heatmap": [
           {
            "colorbar": {
             "outlinewidth": 0,
             "ticks": ""
            },
            "colorscale": [
             [
              0,
              "#0d0887"
             ],
             [
              0.1111111111111111,
              "#46039f"
             ],
             [
              0.2222222222222222,
              "#7201a8"
             ],
             [
              0.3333333333333333,
              "#9c179e"
             ],
             [
              0.4444444444444444,
              "#bd3786"
             ],
             [
              0.5555555555555556,
              "#d8576b"
             ],
             [
              0.6666666666666666,
              "#ed7953"
             ],
             [
              0.7777777777777778,
              "#fb9f3a"
             ],
             [
              0.8888888888888888,
              "#fdca26"
             ],
             [
              1,
              "#f0f921"
             ]
            ],
            "type": "heatmap"
           }
          ],
          "histogram": [
           {
            "marker": {
             "pattern": {
              "fillmode": "overlay",
              "size": 10,
              "solidity": 0.2
             }
            },
            "type": "histogram"
           }
          ],
          "histogram2d": [
           {
            "colorbar": {
             "outlinewidth": 0,
             "ticks": ""
            },
            "colorscale": [
             [
              0,
              "#0d0887"
             ],
             [
              0.1111111111111111,
              "#46039f"
             ],
             [
              0.2222222222222222,
              "#7201a8"
             ],
             [
              0.3333333333333333,
              "#9c179e"
             ],
             [
              0.4444444444444444,
              "#bd3786"
             ],
             [
              0.5555555555555556,
              "#d8576b"
             ],
             [
              0.6666666666666666,
              "#ed7953"
             ],
             [
              0.7777777777777778,
              "#fb9f3a"
             ],
             [
              0.8888888888888888,
              "#fdca26"
             ],
             [
              1,
              "#f0f921"
             ]
            ],
            "type": "histogram2d"
           }
          ],
          "histogram2dcontour": [
           {
            "colorbar": {
             "outlinewidth": 0,
             "ticks": ""
            },
            "colorscale": [
             [
              0,
              "#0d0887"
             ],
             [
              0.1111111111111111,
              "#46039f"
             ],
             [
              0.2222222222222222,
              "#7201a8"
             ],
             [
              0.3333333333333333,
              "#9c179e"
             ],
             [
              0.4444444444444444,
              "#bd3786"
             ],
             [
              0.5555555555555556,
              "#d8576b"
             ],
             [
              0.6666666666666666,
              "#ed7953"
             ],
             [
              0.7777777777777778,
              "#fb9f3a"
             ],
             [
              0.8888888888888888,
              "#fdca26"
             ],
             [
              1,
              "#f0f921"
             ]
            ],
            "type": "histogram2dcontour"
           }
          ],
          "mesh3d": [
           {
            "colorbar": {
             "outlinewidth": 0,
             "ticks": ""
            },
            "type": "mesh3d"
           }
          ],
          "parcoords": [
           {
            "line": {
             "colorbar": {
              "outlinewidth": 0,
              "ticks": ""
             }
            },
            "type": "parcoords"
           }
          ],
          "pie": [
           {
            "automargin": true,
            "type": "pie"
           }
          ],
          "scatter": [
           {
            "fillpattern": {
             "fillmode": "overlay",
             "size": 10,
             "solidity": 0.2
            },
            "type": "scatter"
           }
          ],
          "scatter3d": [
           {
            "line": {
             "colorbar": {
              "outlinewidth": 0,
              "ticks": ""
             }
            },
            "marker": {
             "colorbar": {
              "outlinewidth": 0,
              "ticks": ""
             }
            },
            "type": "scatter3d"
           }
          ],
          "scattercarpet": [
           {
            "marker": {
             "colorbar": {
              "outlinewidth": 0,
              "ticks": ""
             }
            },
            "type": "scattercarpet"
           }
          ],
          "scattergeo": [
           {
            "marker": {
             "colorbar": {
              "outlinewidth": 0,
              "ticks": ""
             }
            },
            "type": "scattergeo"
           }
          ],
          "scattergl": [
           {
            "marker": {
             "colorbar": {
              "outlinewidth": 0,
              "ticks": ""
             }
            },
            "type": "scattergl"
           }
          ],
          "scattermap": [
           {
            "marker": {
             "colorbar": {
              "outlinewidth": 0,
              "ticks": ""
             }
            },
            "type": "scattermap"
           }
          ],
          "scattermapbox": [
           {
            "marker": {
             "colorbar": {
              "outlinewidth": 0,
              "ticks": ""
             }
            },
            "type": "scattermapbox"
           }
          ],
          "scatterpolar": [
           {
            "marker": {
             "colorbar": {
              "outlinewidth": 0,
              "ticks": ""
             }
            },
            "type": "scatterpolar"
           }
          ],
          "scatterpolargl": [
           {
            "marker": {
             "colorbar": {
              "outlinewidth": 0,
              "ticks": ""
             }
            },
            "type": "scatterpolargl"
           }
          ],
          "scatterternary": [
           {
            "marker": {
             "colorbar": {
              "outlinewidth": 0,
              "ticks": ""
             }
            },
            "type": "scatterternary"
           }
          ],
          "surface": [
           {
            "colorbar": {
             "outlinewidth": 0,
             "ticks": ""
            },
            "colorscale": [
             [
              0,
              "#0d0887"
             ],
             [
              0.1111111111111111,
              "#46039f"
             ],
             [
              0.2222222222222222,
              "#7201a8"
             ],
             [
              0.3333333333333333,
              "#9c179e"
             ],
             [
              0.4444444444444444,
              "#bd3786"
             ],
             [
              0.5555555555555556,
              "#d8576b"
             ],
             [
              0.6666666666666666,
              "#ed7953"
             ],
             [
              0.7777777777777778,
              "#fb9f3a"
             ],
             [
              0.8888888888888888,
              "#fdca26"
             ],
             [
              1,
              "#f0f921"
             ]
            ],
            "type": "surface"
           }
          ],
          "table": [
           {
            "cells": {
             "fill": {
              "color": "#EBF0F8"
             },
             "line": {
              "color": "white"
             }
            },
            "header": {
             "fill": {
              "color": "#C8D4E3"
             },
             "line": {
              "color": "white"
             }
            },
            "type": "table"
           }
          ]
         },
         "layout": {
          "annotationdefaults": {
           "arrowcolor": "#2a3f5f",
           "arrowhead": 0,
           "arrowwidth": 1
          },
          "autotypenumbers": "strict",
          "coloraxis": {
           "colorbar": {
            "outlinewidth": 0,
            "ticks": ""
           }
          },
          "colorscale": {
           "diverging": [
            [
             0,
             "#8e0152"
            ],
            [
             0.1,
             "#c51b7d"
            ],
            [
             0.2,
             "#de77ae"
            ],
            [
             0.3,
             "#f1b6da"
            ],
            [
             0.4,
             "#fde0ef"
            ],
            [
             0.5,
             "#f7f7f7"
            ],
            [
             0.6,
             "#e6f5d0"
            ],
            [
             0.7,
             "#b8e186"
            ],
            [
             0.8,
             "#7fbc41"
            ],
            [
             0.9,
             "#4d9221"
            ],
            [
             1,
             "#276419"
            ]
           ],
           "sequential": [
            [
             0,
             "#0d0887"
            ],
            [
             0.1111111111111111,
             "#46039f"
            ],
            [
             0.2222222222222222,
             "#7201a8"
            ],
            [
             0.3333333333333333,
             "#9c179e"
            ],
            [
             0.4444444444444444,
             "#bd3786"
            ],
            [
             0.5555555555555556,
             "#d8576b"
            ],
            [
             0.6666666666666666,
             "#ed7953"
            ],
            [
             0.7777777777777778,
             "#fb9f3a"
            ],
            [
             0.8888888888888888,
             "#fdca26"
            ],
            [
             1,
             "#f0f921"
            ]
           ],
           "sequentialminus": [
            [
             0,
             "#0d0887"
            ],
            [
             0.1111111111111111,
             "#46039f"
            ],
            [
             0.2222222222222222,
             "#7201a8"
            ],
            [
             0.3333333333333333,
             "#9c179e"
            ],
            [
             0.4444444444444444,
             "#bd3786"
            ],
            [
             0.5555555555555556,
             "#d8576b"
            ],
            [
             0.6666666666666666,
             "#ed7953"
            ],
            [
             0.7777777777777778,
             "#fb9f3a"
            ],
            [
             0.8888888888888888,
             "#fdca26"
            ],
            [
             1,
             "#f0f921"
            ]
           ]
          },
          "colorway": [
           "#636efa",
           "#EF553B",
           "#00cc96",
           "#ab63fa",
           "#FFA15A",
           "#19d3f3",
           "#FF6692",
           "#B6E880",
           "#FF97FF",
           "#FECB52"
          ],
          "font": {
           "color": "#2a3f5f"
          },
          "geo": {
           "bgcolor": "white",
           "lakecolor": "white",
           "landcolor": "#E5ECF6",
           "showlakes": true,
           "showland": true,
           "subunitcolor": "white"
          },
          "hoverlabel": {
           "align": "left"
          },
          "hovermode": "closest",
          "mapbox": {
           "style": "light"
          },
          "paper_bgcolor": "white",
          "plot_bgcolor": "#E5ECF6",
          "polar": {
           "angularaxis": {
            "gridcolor": "white",
            "linecolor": "white",
            "ticks": ""
           },
           "bgcolor": "#E5ECF6",
           "radialaxis": {
            "gridcolor": "white",
            "linecolor": "white",
            "ticks": ""
           }
          },
          "scene": {
           "xaxis": {
            "backgroundcolor": "#E5ECF6",
            "gridcolor": "white",
            "gridwidth": 2,
            "linecolor": "white",
            "showbackground": true,
            "ticks": "",
            "zerolinecolor": "white"
           },
           "yaxis": {
            "backgroundcolor": "#E5ECF6",
            "gridcolor": "white",
            "gridwidth": 2,
            "linecolor": "white",
            "showbackground": true,
            "ticks": "",
            "zerolinecolor": "white"
           },
           "zaxis": {
            "backgroundcolor": "#E5ECF6",
            "gridcolor": "white",
            "gridwidth": 2,
            "linecolor": "white",
            "showbackground": true,
            "ticks": "",
            "zerolinecolor": "white"
           }
          },
          "shapedefaults": {
           "line": {
            "color": "#2a3f5f"
           }
          },
          "ternary": {
           "aaxis": {
            "gridcolor": "white",
            "linecolor": "white",
            "ticks": ""
           },
           "baxis": {
            "gridcolor": "white",
            "linecolor": "white",
            "ticks": ""
           },
           "bgcolor": "#E5ECF6",
           "caxis": {
            "gridcolor": "white",
            "linecolor": "white",
            "ticks": ""
           }
          },
          "title": {
           "x": 0.05
          },
          "xaxis": {
           "automargin": true,
           "gridcolor": "white",
           "linecolor": "white",
           "ticks": "",
           "title": {
            "standoff": 15
           },
           "zerolinecolor": "white",
           "zerolinewidth": 2
          },
          "yaxis": {
           "automargin": true,
           "gridcolor": "white",
           "linecolor": "white",
           "ticks": "",
           "title": {
            "standoff": 15
           },
           "zerolinecolor": "white",
           "zerolinewidth": 2
          }
         }
        },
        "title": {
         "font": {
          "color": "darkblue",
          "size": 18
         },
         "text": "🚀 다중 위협 분산 대응 시스템 - 3D 통합 시각화",
         "x": 0.5
        },
        "width": 1100
       }
      }
     },
     "metadata": {},
     "output_type": "display_data"
    },
    {
     "name": "stdout",
     "output_type": "stream",
     "text": [
      "\n",
      "🎨 3D 통합 시각화 완료!\n",
      "   • 5개 미사일 궤적 표시\n",
      "   • 2개 기지 위치 표시\n",
      "   • 최적 할당 경로 표시\n",
      "   • 요격 지점 표시\n"
     ]
    }
   ],
   "source": [
    "# 2. 통합 3D 시각화\n",
    "print(\"\\n\" + \"=\"*70)\n",
    "print(\"🌟 2단계: 통합 3D 시각화\")\n",
    "print(\"=\"*70)\n",
    "\n",
    "def create_comprehensive_3d_visualization():\n",
    "    \"\"\"다중 위협 대응 3D 시각화\"\"\"\n",
    "    fig = go.Figure()\n",
    "    \n",
    "    # 색상 정의\n",
    "    colors = ['red', 'orange', 'green', 'purple', 'brown']\n",
    "    \n",
    "    # 도시 (원점)\n",
    "    fig.add_trace(go.Scatter3d(\n",
    "        x=[0], y=[0], z=[0],\n",
    "        mode='markers',\n",
    "        marker=dict(size=20, color='red', symbol='diamond'),\n",
    "        name='🏙️ 도시',\n",
    "        hovertemplate='도시<br>좌표: (0, 0, 0)<extra></extra>'\n",
    "    ))\n",
    "    \n",
    "    # 알파 기지\n",
    "    fig.add_trace(go.Scatter3d(\n",
    "        x=[S_A[0]], y=[S_A[1]], z=[S_A[2]],\n",
    "        mode='markers',\n",
    "        marker=dict(size=15, color='blue', symbol='square'),\n",
    "        name='🏭 알파 기지',\n",
    "        hovertemplate=f'알파 기지<br>좌표: ({S_A[0]}, {S_A[1]}, {S_A[2]})<extra></extra>'\n",
    "    ))\n",
    "    \n",
    "    # 브라보 기지\n",
    "    fig.add_trace(go.Scatter3d(\n",
    "        x=[S_B[0]], y=[S_B[1]], z=[S_B[2]],\n",
    "        mode='markers',\n",
    "        marker=dict(size=15, color='cyan', symbol='square'),\n",
    "        name='🏭 브라보 기지',\n",
    "        hovertemplate=f'브라보 기지<br>좌표: ({S_B[0]}, {S_B[1]}, {S_B[2]})<extra></extra>'\n",
    "    ))\n",
    "    \n",
    "    # 각 미사일 궤적 및 요격 경로\n",
    "    max_time = 0\n",
    "    for i, result in enumerate(allocation_results):\n",
    "        missile_func = result['missile_func']\n",
    "        missile_name = result['missile']\n",
    "        final_time = result['final_time']\n",
    "        assigned_base = result['assigned_base']\n",
    "        intercept_point = result['intercept_point']\n",
    "        \n",
    "        if final_time:\n",
    "            max_time = max(max_time, final_time)\n",
    "            \n",
    "            # 미사일 궤적\n",
    "            t_range = np.linspace(0, final_time * 1.1, 100)\n",
    "            missile_trajectory = np.array([missile_func(t) for t in t_range])\n",
    "            \n",
    "            # 지면 위만 표시\n",
    "            valid_trajectory = missile_trajectory[missile_trajectory[:, 2] >= 0]\n",
    "            \n",
    "            fig.add_trace(go.Scatter3d(\n",
    "                x=valid_trajectory[:, 0],\n",
    "                y=valid_trajectory[:, 1],\n",
    "                z=valid_trajectory[:, 2],\n",
    "                mode='lines',\n",
    "                line=dict(color=colors[i], width=4),\n",
    "                name=f'🚀 미사일 {missile_name}',\n",
    "                hovertemplate=f'미사일 {missile_name}<br>x: %{{x:.1f}}<br>y: %{{y:.1f}}<br>z: %{{z:.1f}}<extra></extra>'\n",
    "            ))\n",
    "            \n",
    "            # 요격 미사일 궤적\n",
    "            if assigned_base == \"알파\":\n",
    "                base_pos = S_A\n",
    "                intercept_color = 'blue'\n",
    "            else:\n",
    "                base_pos = S_B\n",
    "                intercept_color = 'cyan'\n",
    "            \n",
    "            t_intercept = np.linspace(0, final_time, 50)\n",
    "            direction = (intercept_point - base_pos) / np.linalg.norm(intercept_point - base_pos)\n",
    "            intercept_trajectory = np.array([base_pos + v_I * t * direction for t in t_intercept])\n",
    "            \n",
    "            fig.add_trace(go.Scatter3d(\n",
    "                x=intercept_trajectory[:, 0],\n",
    "                y=intercept_trajectory[:, 1],\n",
    "                z=intercept_trajectory[:, 2],\n",
    "                mode='lines',\n",
    "                line=dict(color=intercept_color, width=6, dash='dash'),\n",
    "                name=f'🛡️ {assigned_base} → {missile_name}',\n",
    "                hovertemplate=f'{assigned_base} 요격<br>목표: {missile_name}<br>x: %{{x:.1f}}<br>y: %{{y:.1f}}<br>z: %{{z:.1f}}<extra></extra>'\n",
    "            ))\n",
    "            \n",
    "            # 요격 지점\n",
    "            fig.add_trace(go.Scatter3d(\n",
    "                x=[intercept_point[0]],\n",
    "                y=[intercept_point[1]],\n",
    "                z=[intercept_point[2]],\n",
    "                mode='markers',\n",
    "                marker=dict(size=12, color='gold', symbol='x'),\n",
    "                name=f'💥 요격점 {missile_name}',\n",
    "                hovertemplate=f'요격점 {missile_name}<br>시간: {final_time:.2f}초<br>좌표: ({intercept_point[0]:.1f}, {intercept_point[1]:.1f}, {intercept_point[2]:.1f})<extra></extra>'\n",
    "            ))\n",
    "    \n",
    "    # 레이아웃 설정\n",
    "    fig.update_layout(\n",
    "        title=dict(\n",
    "            text='🚀 다중 위협 분산 대응 시스템 - 3D 통합 시각화',\n",
    "            x=0.5,\n",
    "            font=dict(size=18, color='darkblue')\n",
    "        ),\n",
    "        scene=dict(\n",
    "            xaxis_title='X (m)',\n",
    "            yaxis_title='Y (m)',\n",
    "            zaxis_title='Z (m)',\n",
    "            camera=dict(eye=dict(x=1.8, y=1.8, z=1.5)),\n",
    "            aspectmode='cube'\n",
    "        ),\n",
    "        width=1100,\n",
    "        height=800,\n",
    "        showlegend=True,\n",
    "        legend=dict(\n",
    "            x=0.02,\n",
    "            y=0.98,\n",
    "            bgcolor='rgba(255,255,255,0.8)'\n",
    "        )\n",
    "    )\n",
    "    \n",
    "    return fig\n",
    "\n",
    "# 3D 시각화 생성 및 표시\n",
    "fig_3d = create_comprehensive_3d_visualization()\n",
    "fig_3d.show()\n",
    "\n",
    "print(f\"\\n🎨 3D 통합 시각화 완료!\")\n",
    "print(f\"   • 5개 미사일 궤적 표시\")\n",
    "print(f\"   • 2개 기지 위치 표시\") \n",
    "print(f\"   • 최적 할당 경로 표시\")\n",
    "print(f\"   • 요격 지점 표시\")"
   ]
  },
  {
   "cell_type": "code",
   "execution_count": 17,
   "id": "b6822218",
   "metadata": {},
   "outputs": [
    {
     "name": "stdout",
     "output_type": "stream",
     "text": [
      "\n",
      "======================================================================\n",
      "🎬 3단계: 자동 재생 Plotly 애니메이션\n",
      "======================================================================\n",
      "🎬 자동 재생 애니메이션 생성 중...\n"
     ]
    },
    {
     "data": {
      "application/vnd.plotly.v1+json": {
       "config": {
        "plotlyServerURL": "https://plot.ly"
       },
       "data": [
        {
         "marker": {
          "color": "red",
          "size": 20,
          "symbol": "diamond"
         },
         "mode": "markers",
         "name": "🏙️ 도시",
         "type": "scatter3d",
         "x": [
          0
         ],
         "y": [
          0
         ],
         "z": [
          0
         ]
        },
        {
         "marker": {
          "color": "blue",
          "size": 15,
          "symbol": "square"
         },
         "mode": "markers",
         "name": "🏭 알파 기지",
         "type": "scatter3d",
         "x": [
          50
         ],
         "y": [
          20
         ],
         "z": [
          0
         ]
        },
        {
         "marker": {
          "color": "cyan",
          "size": 15,
          "symbol": "square"
         },
         "mode": "markers",
         "name": "🏭 브라보 기지",
         "type": "scatter3d",
         "x": [
          -40
         ],
         "y": [
          -30
         ],
         "z": [
          0
         ]
        },
        {
         "line": {
          "color": "red",
          "width": 4
         },
         "marker": {
          "color": "red",
          "size": 3
         },
         "mode": "lines+markers",
         "name": "🚀 H1",
         "type": "scatter3d",
         "x": {
          "bdata": "AAAAAABAb0AAAAAAAEBvQA==",
          "dtype": "f8"
         },
         "y": {
          "bdata": "AAAAAADAckAAAAAAAMByQA==",
          "dtype": "f8"
         },
         "z": {
          "bdata": "AAAAAAAAeUAAAAAAAAB5QA==",
          "dtype": "f8"
         }
        },
        {
         "line": {
          "color": "orange",
          "width": 4
         },
         "marker": {
          "color": "orange",
          "size": 3
         },
         "mode": "lines+markers",
         "name": "🚀 H2",
         "type": "scatter3d",
         "x": {
          "bdata": "AAAAAACAccAAAAAAAIBxwA==",
          "dtype": "f8"
         },
         "y": {
          "bdata": "AAAAAABAb0AAAAAAAEBvQA==",
          "dtype": "f8"
         },
         "z": {
          "bdata": "AAAAAADAd0AAAAAAAMB3QA==",
          "dtype": "f8"
         }
        },
        {
         "line": {
          "color": "green",
          "width": 4
         },
         "marker": {
          "color": "green",
          "size": 3
         },
         "mode": "lines+markers",
         "name": "🚀 H3",
         "type": "scatter3d",
         "x": {
          "bdata": "AAAAAAAAJEAAAAAAAAAkQA==",
          "dtype": "f8"
         },
         "y": {
          "bdata": "AAAAAADgdcAAAAAAAOB1wA==",
          "dtype": "f8"
         },
         "z": {
          "bdata": "AAAAAABAekAAAAAAAEB6QA==",
          "dtype": "f8"
         }
        },
        {
         "line": {
          "color": "purple",
          "width": 4
         },
         "marker": {
          "color": "purple",
          "size": 3
         },
         "mode": "lines+markers",
         "name": "🚀 H4",
         "type": "scatter3d",
         "x": {
          "bdata": "AAAAAADAckAAAAAAAMByQA==",
          "dtype": "f8"
         },
         "y": {
          "bdata": "AAAAAAAAJMAAAAAAAAAkwA==",
          "dtype": "f8"
         },
         "z": {
          "bdata": "AAAAAADgdUAAAAAAAOB1QA==",
          "dtype": "f8"
         }
        },
        {
         "line": {
          "color": "brown",
          "width": 4
         },
         "marker": {
          "color": "brown",
          "size": 3
         },
         "mode": "lines+markers",
         "name": "🚀 H5",
         "type": "scatter3d",
         "x": {
          "bdata": "AAAAAAAAacAAAAAAAABpwA==",
          "dtype": "f8"
         },
         "y": {
          "bdata": "AAAAAABAb8AAAAAAAEBvwA==",
          "dtype": "f8"
         },
         "z": {
          "bdata": "AAAAAAAgfEAAAAAAACB8QA==",
          "dtype": "f8"
         }
        }
       ],
       "frames": [
        {
         "data": [
          {
           "marker": {
            "color": "red",
            "size": 20,
            "symbol": "diamond"
           },
           "mode": "markers",
           "name": "🏙️ 도시",
           "type": "scatter3d",
           "x": [
            0
           ],
           "y": [
            0
           ],
           "z": [
            0
           ]
          },
          {
           "marker": {
            "color": "blue",
            "size": 15,
            "symbol": "square"
           },
           "mode": "markers",
           "name": "🏭 알파 기지",
           "type": "scatter3d",
           "x": [
            50
           ],
           "y": [
            20
           ],
           "z": [
            0
           ]
          },
          {
           "marker": {
            "color": "cyan",
            "size": 15,
            "symbol": "square"
           },
           "mode": "markers",
           "name": "🏭 브라보 기지",
           "type": "scatter3d",
           "x": [
            -40
           ],
           "y": [
            -30
           ],
           "z": [
            0
           ]
          },
          {
           "line": {
            "color": "red",
            "width": 4
           },
           "marker": {
            "color": "red",
            "size": 3
           },
           "mode": "lines+markers",
           "name": "🚀 H1",
           "type": "scatter3d",
           "x": {
            "bdata": "AAAAAABAb0AAAAAAAEBvQA==",
            "dtype": "f8"
           },
           "y": {
            "bdata": "AAAAAADAckAAAAAAAMByQA==",
            "dtype": "f8"
           },
           "z": {
            "bdata": "AAAAAAAAeUAAAAAAAAB5QA==",
            "dtype": "f8"
           }
          },
          {
           "line": {
            "color": "orange",
            "width": 4
           },
           "marker": {
            "color": "orange",
            "size": 3
           },
           "mode": "lines+markers",
           "name": "🚀 H2",
           "type": "scatter3d",
           "x": {
            "bdata": "AAAAAACAccAAAAAAAIBxwA==",
            "dtype": "f8"
           },
           "y": {
            "bdata": "AAAAAABAb0AAAAAAAEBvQA==",
            "dtype": "f8"
           },
           "z": {
            "bdata": "AAAAAADAd0AAAAAAAMB3QA==",
            "dtype": "f8"
           }
          },
          {
           "line": {
            "color": "green",
            "width": 4
           },
           "marker": {
            "color": "green",
            "size": 3
           },
           "mode": "lines+markers",
           "name": "🚀 H3",
           "type": "scatter3d",
           "x": {
            "bdata": "AAAAAAAAJEAAAAAAAAAkQA==",
            "dtype": "f8"
           },
           "y": {
            "bdata": "AAAAAADgdcAAAAAAAOB1wA==",
            "dtype": "f8"
           },
           "z": {
            "bdata": "AAAAAABAekAAAAAAAEB6QA==",
            "dtype": "f8"
           }
          },
          {
           "line": {
            "color": "purple",
            "width": 4
           },
           "marker": {
            "color": "purple",
            "size": 3
           },
           "mode": "lines+markers",
           "name": "🚀 H4",
           "type": "scatter3d",
           "x": {
            "bdata": "AAAAAADAckAAAAAAAMByQA==",
            "dtype": "f8"
           },
           "y": {
            "bdata": "AAAAAAAAJMAAAAAAAAAkwA==",
            "dtype": "f8"
           },
           "z": {
            "bdata": "AAAAAADgdUAAAAAAAOB1QA==",
            "dtype": "f8"
           }
          },
          {
           "line": {
            "color": "brown",
            "width": 4
           },
           "marker": {
            "color": "brown",
            "size": 3
           },
           "mode": "lines+markers",
           "name": "🚀 H5",
           "type": "scatter3d",
           "x": {
            "bdata": "AAAAAAAAacAAAAAAAABpwA==",
            "dtype": "f8"
           },
           "y": {
            "bdata": "AAAAAABAb8AAAAAAAEBvwA==",
            "dtype": "f8"
           },
           "z": {
            "bdata": "AAAAAAAgfEAAAAAAACB8QA==",
            "dtype": "f8"
           }
          }
         ],
         "layout": {
          "title": {
           "text": "🚀 다중 위협 분산 대응 시스템 - 시간: 0.00초"
          }
         },
         "name": "0"
        },
        {
         "data": [
          {
           "marker": {
            "color": "red",
            "size": 20,
            "symbol": "diamond"
           },
           "mode": "markers",
           "name": "🏙️ 도시",
           "type": "scatter3d",
           "x": [
            0
           ],
           "y": [
            0
           ],
           "z": [
            0
           ]
          },
          {
           "marker": {
            "color": "blue",
            "size": 15,
            "symbol": "square"
           },
           "mode": "markers",
           "name": "🏭 알파 기지",
           "type": "scatter3d",
           "x": [
            50
           ],
           "y": [
            20
           ],
           "z": [
            0
           ]
          },
          {
           "marker": {
            "color": "cyan",
            "size": 15,
            "symbol": "square"
           },
           "mode": "markers",
           "name": "🏭 브라보 기지",
           "type": "scatter3d",
           "x": [
            -40
           ],
           "y": [
            -30
           ],
           "z": [
            0
           ]
          },
          {
           "line": {
            "color": "red",
            "width": 4
           },
           "marker": {
            "color": "red",
            "size": 3
           },
           "mode": "lines+markers",
           "name": "🚀 H1",
           "type": "scatter3d",
           "x": {
            "bdata": "AAAAAABAb0BN0LZ2NSVvQA==",
            "dtype": "f8"
           },
           "y": {
            "bdata": "AAAAAADAckAwQjJqQa9yQA==",
            "dtype": "f8"
           },
           "z": {
            "bdata": "AAAAAAAAeUCIh1fU3P94QA==",
            "dtype": "f8"
           }
          },
          {
           "line": {
            "color": "blue",
            "dash": "dash",
            "width": 5
           },
           "marker": {
            "color": "blue",
            "size": 4,
            "symbol": "diamond"
           },
           "mode": "lines+markers",
           "name": "🛡️ 알파→H1",
           "type": "scatter3d",
           "x": {
            "bdata": "AAAAAAAASUAw/RfjTQRKQA==",
            "dtype": "f8"
           },
           "y": {
            "bdata": "AAAAAAAANEDoMM5TAPk2QA==",
            "dtype": "f8"
           },
           "z": {
            "bdata": "AAAAAAAAAADjrrPV9JIUQA==",
            "dtype": "f8"
           }
          },
          {
           "line": {
            "color": "orange",
            "width": 4
           },
           "marker": {
            "color": "orange",
            "size": 3
           },
           "mode": "lines+markers",
           "name": "🚀 H2",
           "type": "scatter3d",
           "x": {
            "bdata": "AAAAAACAccBdvxfOQ3FxwA==",
            "dtype": "f8"
           },
           "y": {
            "bdata": "AAAAAABAb0BN0LZ2NSVvQA==",
            "dtype": "f8"
           },
           "z": {
            "bdata": "AAAAAADAd0CIh1fU3L93QA==",
            "dtype": "f8"
           }
          },
          {
           "line": {
            "color": "cyan",
            "dash": "dash",
            "width": 5
           },
           "marker": {
            "color": "cyan",
            "size": 4,
            "symbol": "diamond"
           },
           "mode": "lines+markers",
           "name": "🛡️ 브라보→H2",
           "type": "scatter3d",
           "x": {
            "bdata": "AAAAAAAARMCBFHAePkBFwA==",
            "dtype": "f8"
           },
           "y": {
            "bdata": "AAAAAAAAPsBd7KlfCtg6wA==",
            "dtype": "f8"
           },
           "z": {
            "bdata": "AAAAAAAAAABt/ld9DUUTQA==",
            "dtype": "f8"
           }
          },
          {
           "line": {
            "color": "green",
            "width": 4
           },
           "marker": {
            "color": "green",
            "size": 3
           },
           "mode": "lines+markers",
           "name": "🚀 H3",
           "type": "scatter3d",
           "x": {
            "bdata": "AAAAAAAAJEAzQdva1ZQjQA==",
            "dtype": "f8"
           },
           "y": {
            "bdata": "AAAAAADgdcA6HAkZ6Mt1wA==",
            "dtype": "f8"
           },
           "z": {
            "bdata": "AAAAAABAekCIh1fU3D96QA==",
            "dtype": "f8"
           }
          },
          {
           "line": {
            "color": "cyan",
            "dash": "dash",
            "width": 5
           },
           "marker": {
            "color": "cyan",
            "size": 4,
            "symbol": "diamond"
           },
           "mode": "lines+markers",
           "name": "🛡️ 브라보→H3",
           "type": "scatter3d",
           "x": {
            "bdata": "AAAAAAAARMCOSmWhO8BDwA==",
            "dtype": "f8"
           },
           "y": {
            "bdata": "AAAAAAAAPsDmnC5h06JAwA==",
            "dtype": "f8"
           },
           "z": {
            "bdata": "AAAAAAAAAACqX2nsHFgVQA==",
            "dtype": "f8"
           }
          },
          {
           "line": {
            "color": "purple",
            "width": 4
           },
           "marker": {
            "color": "purple",
            "size": 3
           },
           "mode": "lines+markers",
           "name": "🚀 H4",
           "type": "scatter3d",
           "x": {
            "bdata": "AAAAAADAckAwQjJqQa9yQA==",
            "dtype": "f8"
           },
           "y": {
            "bdata": "AAAAAAAAJMAfGXWo3SokwA==",
            "dtype": "f8"
           },
           "z": {
            "bdata": "AAAAAADgdUCIh1fU3N91QA==",
            "dtype": "f8"
           }
          },
          {
           "line": {
            "color": "blue",
            "dash": "dash",
            "width": 5
           },
           "marker": {
            "color": "blue",
            "size": 4,
            "symbol": "diamond"
           },
           "mode": "lines+markers",
           "name": "🛡️ 알파→H4",
           "type": "scatter3d",
           "x": {
            "bdata": "AAAAAAAASUDLcwmIZpVKQA==",
            "dtype": "f8"
           },
           "y": {
            "bdata": "AAAAAAAANEBQCrMeH2kzQA==",
            "dtype": "f8"
           },
           "z": {
            "bdata": "AAAAAAAAAAAZ87mpH48VQA==",
            "dtype": "f8"
           }
          },
          {
           "line": {
            "color": "brown",
            "width": 4
           },
           "marker": {
            "color": "brown",
            "size": 3
           },
           "mode": "lines+markers",
           "name": "🚀 H5",
           "type": "scatter3d",
           "x": {
            "bdata": "AAAAAAAAacA6HAkZ6OtowA==",
            "dtype": "f8"
           },
           "y": {
            "bdata": "AAAAAABAb8BN0LZ2NSVvwA==",
            "dtype": "f8"
           },
           "z": {
            "bdata": "AAAAAAAgfECIh1fU3B98QA==",
            "dtype": "f8"
           }
          },
          {
           "line": {
            "color": "cyan",
            "dash": "dash",
            "width": 5
           },
           "marker": {
            "color": "cyan",
            "size": 4,
            "symbol": "diamond"
           },
           "mode": "lines+markers",
           "name": "🛡️ 브라보→H5",
           "type": "scatter3d",
           "x": {
            "bdata": "AAAAAAAARMBdK4yEysxEwA==",
            "dtype": "f8"
           },
           "y": {
            "bdata": "AAAAAAAAPsC54WnH7xxAwA==",
            "dtype": "f8"
           },
           "z": {
            "bdata": "AAAAAAAAAADnjHxCu5gWQA==",
            "dtype": "f8"
           }
          }
         ],
         "layout": {
          "title": {
           "text": "🚀 다중 위협 분산 대응 시스템 - 시간: 0.04초"
          }
         },
         "name": "1"
        },
        {
         "data": [
          {
           "marker": {
            "color": "red",
            "size": 20,
            "symbol": "diamond"
           },
           "mode": "markers",
           "name": "🏙️ 도시",
           "type": "scatter3d",
           "x": [
            0
           ],
           "y": [
            0
           ],
           "z": [
            0
           ]
          },
          {
           "marker": {
            "color": "blue",
            "size": 15,
            "symbol": "square"
           },
           "mode": "markers",
           "name": "🏭 알파 기지",
           "type": "scatter3d",
           "x": [
            50
           ],
           "y": [
            20
           ],
           "z": [
            0
           ]
          },
          {
           "marker": {
            "color": "cyan",
            "size": 15,
            "symbol": "square"
           },
           "mode": "markers",
           "name": "🏭 브라보 기지",
           "type": "scatter3d",
           "x": [
            -40
           ],
           "y": [
            -30
           ],
           "z": [
            0
           ]
          },
          {
           "line": {
            "color": "red",
            "width": 4
           },
           "marker": {
            "color": "red",
            "size": 3
           },
           "mode": "lines+markers",
           "name": "🚀 H1",
           "type": "scatter3d",
           "x": {
            "bdata": "AAAAAABAb0CZoG3tagpvQA==",
            "dtype": "f8"
           },
           "y": {
            "bdata": "AAAAAADAckBghGTUgp5yQA==",
            "dtype": "f8"
           },
           "z": {
            "bdata": "AAAAAAAAeUAfHl5Rc/94QA==",
            "dtype": "f8"
           }
          },
          {
           "line": {
            "color": "blue",
            "dash": "dash",
            "width": 5
           },
           "marker": {
            "color": "blue",
            "size": 4,
            "symbol": "diamond"
           },
           "mode": "lines+markers",
           "name": "🛡️ 알파→H1",
           "type": "scatter3d",
           "x": {
            "bdata": "AAAAAAAASUBh+i/GmwhLQA==",
            "dtype": "f8"
           },
           "y": {
            "bdata": "AAAAAAAANEDPYZynAPI5QA==",
            "dtype": "f8"
           },
           "z": {
            "bdata": "AAAAAAAAAADjrrPV9JIkQA==",
            "dtype": "f8"
           }
          },
          {
           "line": {
            "color": "orange",
            "width": 4
           },
           "marker": {
            "color": "orange",
            "size": 3
           },
           "mode": "lines+markers",
           "name": "🚀 H2",
           "type": "scatter3d",
           "x": {
            "bdata": "AAAAAACAccC7fi+ch2JxwA==",
            "dtype": "f8"
           },
           "y": {
            "bdata": "AAAAAABAb0CZoG3tagpvQA==",
            "dtype": "f8"
           },
           "z": {
            "bdata": "AAAAAADAd0AfHl5Rc793QA==",
            "dtype": "f8"
           }
          },
          {
           "line": {
            "color": "cyan",
            "dash": "dash",
            "width": 5
           },
           "marker": {
            "color": "cyan",
            "size": 4,
            "symbol": "diamond"
           },
           "mode": "lines+markers",
           "name": "🛡️ 브라보→H2",
           "type": "scatter3d",
           "x": {
            "bdata": "AAAAAAAARMACKeA8fIBGwA==",
            "dtype": "f8"
           },
           "y": {
            "bdata": "AAAAAAAAPsC72FO/FLA3wA==",
            "dtype": "f8"
           },
           "z": {
            "bdata": "AAAAAAAAAABt/ld9DUUjQA==",
            "dtype": "f8"
           }
          },
          {
           "line": {
            "color": "green",
            "width": 4
           },
           "marker": {
            "color": "green",
            "size": 3
           },
           "mode": "lines+markers",
           "name": "🚀 H3",
           "type": "scatter3d",
           "x": {
            "bdata": "AAAAAAAAJEBmgra1qykjQA==",
            "dtype": "f8"
           },
           "y": {
            "bdata": "AAAAAADgdcBzOBIy0Ld1wA==",
            "dtype": "f8"
           },
           "z": {
            "bdata": "AAAAAABAekAfHl5Rcz96QA==",
            "dtype": "f8"
           }
          },
          {
           "line": {
            "color": "cyan",
            "dash": "dash",
            "width": 5
           },
           "marker": {
            "color": "cyan",
            "size": 4,
            "symbol": "diamond"
           },
           "mode": "lines+markers",
           "name": "🛡️ 브라보→H3",
           "type": "scatter3d",
           "x": {
            "bdata": "AAAAAAAARMAblcpCd4BDwA==",
            "dtype": "f8"
           },
           "y": {
            "bdata": "AAAAAAAAPsDLOV3CpkVCwA==",
            "dtype": "f8"
           },
           "z": {
            "bdata": "AAAAAAAAAACqX2nsHFglQA==",
            "dtype": "f8"
           }
          },
          {
           "line": {
            "color": "purple",
            "width": 4
           },
           "marker": {
            "color": "purple",
            "size": 3
           },
           "mode": "lines+markers",
           "name": "🚀 H4",
           "type": "scatter3d",
           "x": {
            "bdata": "AAAAAADAckBghGTUgp5yQA==",
            "dtype": "f8"
           },
           "y": {
            "bdata": "AAAAAAAAJMA+MupQu1UkwA==",
            "dtype": "f8"
           },
           "z": {
            "bdata": "AAAAAADgdUAfHl5Rc991QA==",
            "dtype": "f8"
           }
          },
          {
           "line": {
            "color": "blue",
            "dash": "dash",
            "width": 5
           },
           "marker": {
            "color": "blue",
            "size": 4,
            "symbol": "diamond"
           },
           "mode": "lines+markers",
           "name": "🛡️ 알파→H4",
           "type": "scatter3d",
           "x": {
            "bdata": "AAAAAAAASUCW5xIQzSpMQA==",
            "dtype": "f8"
           },
           "y": {
            "bdata": "AAAAAAAANEChFGY9PtIyQA==",
            "dtype": "f8"
           },
           "z": {
            "bdata": "AAAAAAAAAAAZ87mpH48lQA==",
            "dtype": "f8"
           }
          },
          {
           "line": {
            "color": "brown",
            "width": 4
           },
           "marker": {
            "color": "brown",
            "size": 3
           },
           "mode": "lines+markers",
           "name": "🚀 H5",
           "type": "scatter3d",
           "x": {
            "bdata": "AAAAAAAAacBzOBIy0NdowA==",
            "dtype": "f8"
           },
           "y": {
            "bdata": "AAAAAABAb8CZoG3tagpvwA==",
            "dtype": "f8"
           },
           "z": {
            "bdata": "AAAAAAAgfEAfHl5Rcx98QA==",
            "dtype": "f8"
           }
          },
          {
           "line": {
            "color": "cyan",
            "dash": "dash",
            "width": 5
           },
           "marker": {
            "color": "cyan",
            "size": 4,
            "symbol": "diamond"
           },
           "mode": "lines+markers",
           "name": "🛡️ 브라보→H5",
           "type": "scatter3d",
           "x": {
            "bdata": "AAAAAAAARMC7VhgJlZlFwA==",
            "dtype": "f8"
           },
           "y": {
            "bdata": "AAAAAAAAPsBzw9OO3zlBwA==",
            "dtype": "f8"
           },
           "z": {
            "bdata": "AAAAAAAAAADnjHxCu5gmQA==",
            "dtype": "f8"
           }
          }
         ],
         "layout": {
          "title": {
           "text": "🚀 다중 위협 분산 대응 시스템 - 시간: 0.08초"
          }
         },
         "name": "2"
        },
        {
         "data": [
          {
           "marker": {
            "color": "red",
            "size": 20,
            "symbol": "diamond"
           },
           "mode": "markers",
           "name": "🏙️ 도시",
           "type": "scatter3d",
           "x": [
            0
           ],
           "y": [
            0
           ],
           "z": [
            0
           ]
          },
          {
           "marker": {
            "color": "blue",
            "size": 15,
            "symbol": "square"
           },
           "mode": "markers",
           "name": "🏭 알파 기지",
           "type": "scatter3d",
           "x": [
            50
           ],
           "y": [
            20
           ],
           "z": [
            0
           ]
          },
          {
           "marker": {
            "color": "cyan",
            "size": 15,
            "symbol": "square"
           },
           "mode": "markers",
           "name": "🏭 브라보 기지",
           "type": "scatter3d",
           "x": [
            -40
           ],
           "y": [
            -30
           ],
           "z": [
            0
           ]
          },
          {
           "line": {
            "color": "red",
            "width": 4
           },
           "marker": {
            "color": "red",
            "size": 3
           },
           "mode": "lines+markers",
           "name": "🚀 H1",
           "type": "scatter3d",
           "x": {
            "bdata": "AAAAAABAb0DmcCRkoO9uQA==",
            "dtype": "f8"
           },
           "y": {
            "bdata": "AAAAAADAckCQxpY+xI1yQA==",
            "dtype": "f8"
           },
           "z": {
            "bdata": "AAAAAAAAeUDGwxN3w/54QA==",
            "dtype": "f8"
           }
          },
          {
           "line": {
            "color": "blue",
            "dash": "dash",
            "width": 5
           },
           "marker": {
            "color": "blue",
            "size": 4,
            "symbol": "diamond"
           },
           "mode": "lines+markers",
           "name": "🛡️ 알파→H1",
           "type": "scatter3d",
           "x": {
            "bdata": "AAAAAAAASUCR90ep6QxMQA==",
            "dtype": "f8"
           },
           "y": {
            "bdata": "AAAAAAAANEC2kmr7AOs8QA==",
            "dtype": "f8"
           },
           "z": {
            "bdata": "AAAAAAAAAABTho1Ab9wuQA==",
            "dtype": "f8"
           }
          },
          {
           "line": {
            "color": "orange",
            "width": 4
           },
           "marker": {
            "color": "orange",
            "size": 3
           },
           "mode": "lines+markers",
           "name": "🚀 H2",
           "type": "scatter3d",
           "x": {
            "bdata": "AAAAAACAccAYPkdqy1NxwA==",
            "dtype": "f8"
           },
           "y": {
            "bdata": "AAAAAABAb0DmcCRkoO9uQA==",
            "dtype": "f8"
           },
           "z": {
            "bdata": "AAAAAADAd0DGwxN3w753QA==",
            "dtype": "f8"
           }
          },
          {
           "line": {
            "color": "cyan",
            "dash": "dash",
            "width": 5
           },
           "marker": {
            "color": "cyan",
            "size": 4,
            "symbol": "diamond"
           },
           "mode": "lines+markers",
           "name": "🛡️ 브라보→H2",
           "type": "scatter3d",
           "x": {
            "bdata": "AAAAAAAARMCDPVBbusBHwA==",
            "dtype": "f8"
           },
           "y": {
            "bdata": "AAAAAAAAPsAYxf0eH4g0wA==",
            "dtype": "f8"
           },
           "z": {
            "bdata": "AAAAAAAAAACi/QM8lOcsQA==",
            "dtype": "f8"
           }
          },
          {
           "line": {
            "color": "green",
            "width": 4
           },
           "marker": {
            "color": "green",
            "size": 3
           },
           "mode": "lines+markers",
           "name": "🚀 H3",
           "type": "scatter3d",
           "x": {
            "bdata": "AAAAAAAAJECZw5GQgb4iQA==",
            "dtype": "f8"
           },
           "y": {
            "bdata": "AAAAAADgdcCtVBtLuKN1wA==",
            "dtype": "f8"
           },
           "z": {
            "bdata": "AAAAAABAekDGwxN3wz56QA==",
            "dtype": "f8"
           }
          },
          {
           "line": {
            "color": "cyan",
            "dash": "dash",
            "width": 5
           },
           "marker": {
            "color": "cyan",
            "size": 4,
            "symbol": "diamond"
           },
           "mode": "lines+markers",
           "name": "🛡️ 브라보→H3",
           "type": "scatter3d",
           "x": {
            "bdata": "AAAAAAAARMCp3y/kskBDwA==",
            "dtype": "f8"
           },
           "y": {
            "bdata": "AAAAAAAAPsCx1osjeuhDwA==",
            "dtype": "f8"
           },
           "z": {
            "bdata": "AAAAAAAAAAC/B0+xFQIwQA==",
            "dtype": "f8"
           }
          },
          {
           "line": {
            "color": "purple",
            "width": 4
           },
           "marker": {
            "color": "purple",
            "size": 3
           },
           "mode": "lines+markers",
           "name": "🚀 H4",
           "type": "scatter3d",
           "x": {
            "bdata": "AAAAAADAckCQxpY+xI1yQA==",
            "dtype": "f8"
           },
           "y": {
            "bdata": "AAAAAAAAJMBcS1/5mIAkwA==",
            "dtype": "f8"
           },
           "z": {
            "bdata": "AAAAAADgdUDGwxN3w951QA==",
            "dtype": "f8"
           }
          },
          {
           "line": {
            "color": "blue",
            "dash": "dash",
            "width": 5
           },
           "marker": {
            "color": "blue",
            "size": 4,
            "symbol": "diamond"
           },
           "mode": "lines+markers",
           "name": "🛡️ 알파→H4",
           "type": "scatter3d",
           "x": {
            "bdata": "AAAAAAAASUBhWxyYM8BNQA==",
            "dtype": "f8"
           },
           "y": {
            "bdata": "AAAAAAAANEDxHhlcXTsyQA==",
            "dtype": "f8"
           },
           "z": {
            "bdata": "AAAAAAAAAABSdku/VyswQA==",
            "dtype": "f8"
           }
          },
          {
           "line": {
            "color": "brown",
            "width": 4
           },
           "marker": {
            "color": "brown",
            "size": 3
           },
           "mode": "lines+markers",
           "name": "🚀 H5",
           "type": "scatter3d",
           "x": {
            "bdata": "AAAAAAAAacCtVBtLuMNowA==",
            "dtype": "f8"
           },
           "y": {
            "bdata": "AAAAAABAb8DmcCRkoO9uwA==",
            "dtype": "f8"
           },
           "z": {
            "bdata": "AAAAAAAgfEDGwxN3wx58QA==",
            "dtype": "f8"
           }
          },
          {
           "line": {
            "color": "cyan",
            "dash": "dash",
            "width": 5
           },
           "marker": {
            "color": "cyan",
            "size": 4,
            "symbol": "diamond"
           },
           "mode": "lines+markers",
           "name": "🛡️ 브라보→H5",
           "type": "scatter3d",
           "x": {
            "bdata": "AAAAAAAARMAYgqSNX2ZGwA==",
            "dtype": "f8"
           },
           "y": {
            "bdata": "AAAAAAAAPsAspT1Wz1ZCwA==",
            "dtype": "f8"
           },
           "z": {
            "bdata": "AAAAAAAAAACtad1xjPIwQA==",
            "dtype": "f8"
           }
          }
         ],
         "layout": {
          "title": {
           "text": "🚀 다중 위협 분산 대응 시스템 - 시간: 0.13초"
          }
         },
         "name": "3"
        },
        {
         "data": [
          {
           "marker": {
            "color": "red",
            "size": 20,
            "symbol": "diamond"
           },
           "mode": "markers",
           "name": "🏙️ 도시",
           "type": "scatter3d",
           "x": [
            0
           ],
           "y": [
            0
           ],
           "z": [
            0
           ]
          },
          {
           "marker": {
            "color": "blue",
            "size": 15,
            "symbol": "square"
           },
           "mode": "markers",
           "name": "🏭 알파 기지",
           "type": "scatter3d",
           "x": [
            50
           ],
           "y": [
            20
           ],
           "z": [
            0
           ]
          },
          {
           "marker": {
            "color": "cyan",
            "size": 15,
            "symbol": "square"
           },
           "mode": "markers",
           "name": "🏭 브라보 기지",
           "type": "scatter3d",
           "x": [
            -40
           ],
           "y": [
            -30
           ],
           "z": [
            0
           ]
          },
          {
           "line": {
            "color": "red",
            "width": 4
           },
           "marker": {
            "color": "red",
            "size": 3
           },
           "mode": "lines+markers",
           "name": "🚀 H1",
           "type": "scatter3d",
           "x": {
            "bdata": "AAAAAABAb0AzQdva1dRuQA==",
            "dtype": "f8"
           },
           "y": {
            "bdata": "AAAAAADAckDACMmoBX1yQA==",
            "dtype": "f8"
           },
           "z": {
            "bdata": "AAAAAAAAeUB8eHhFzf14QA==",
            "dtype": "f8"
           }
          },
          {
           "line": {
            "color": "blue",
            "dash": "dash",
            "width": 5
           },
           "marker": {
            "color": "blue",
            "size": 4,
            "symbol": "diamond"
           },
           "mode": "lines+markers",
           "name": "🛡️ 알파→H1",
           "type": "scatter3d",
           "x": {
            "bdata": "AAAAAAAASUDC9F+MNxFNQA==",
            "dtype": "f8"
           },
           "y": {
            "bdata": "AAAAAAAANECewzhPAeQ/QA==",
            "dtype": "f8"
           },
           "z": {
            "bdata": "AAAAAAAAAADjrrPV9JI0QA==",
            "dtype": "f8"
           }
          },
          {
           "line": {
            "color": "orange",
            "width": 4
           },
           "marker": {
            "color": "orange",
            "size": 3
           },
           "mode": "lines+markers",
           "name": "🚀 H2",
           "type": "scatter3d",
           "x": {
            "bdata": "AAAAAACAccB2/V44D0VxwA==",
            "dtype": "f8"
           },
           "y": {
            "bdata": "AAAAAABAb0AzQdva1dRuQA==",
            "dtype": "f8"
           },
           "z": {
            "bdata": "AAAAAADAd0B8eHhFzb13QA==",
            "dtype": "f8"
           }
          },
          {
           "line": {
            "color": "cyan",
            "dash": "dash",
            "width": 5
           },
           "marker": {
            "color": "cyan",
            "size": 4,
            "symbol": "diamond"
           },
           "mode": "lines+markers",
           "name": "🛡️ 브라보→H2",
           "type": "scatter3d",
           "x": {
            "bdata": "AAAAAAAARMAEUsB5+ABJwA==",
            "dtype": "f8"
           },
           "y": {
            "bdata": "AAAAAAAAPsB2sad+KWAxwA==",
            "dtype": "f8"
           },
           "z": {
            "bdata": "AAAAAAAAAABt/ld9DUUzQA==",
            "dtype": "f8"
           }
          },
          {
           "line": {
            "color": "green",
            "width": 4
           },
           "marker": {
            "color": "green",
            "size": 3
           },
           "mode": "lines+markers",
           "name": "🚀 H3",
           "type": "scatter3d",
           "x": {
            "bdata": "AAAAAAAAJEDMBG1rV1MiQA==",
            "dtype": "f8"
           },
           "y": {
            "bdata": "AAAAAADgdcDmcCRkoI91wA==",
            "dtype": "f8"
           },
           "z": {
            "bdata": "AAAAAABAekB8eHhFzT16QA==",
            "dtype": "f8"
           }
          },
          {
           "line": {
            "color": "cyan",
            "dash": "dash",
            "width": 5
           },
           "marker": {
            "color": "cyan",
            "size": 4,
            "symbol": "diamond"
           },
           "mode": "lines+markers",
           "name": "🛡️ 브라보→H3",
           "type": "scatter3d",
           "x": {
            "bdata": "AAAAAAAARMA2KpWF7gBDwA==",
            "dtype": "f8"
           },
           "y": {
            "bdata": "AAAAAAAAPsCWc7qETYtFwA==",
            "dtype": "f8"
           },
           "z": {
            "bdata": "AAAAAAAAAACqX2nsHFg1QA==",
            "dtype": "f8"
           }
          },
          {
           "line": {
            "color": "purple",
            "width": 4
           },
           "marker": {
            "color": "purple",
            "size": 3
           },
           "mode": "lines+markers",
           "name": "🚀 H4",
           "type": "scatter3d",
           "x": {
            "bdata": "AAAAAADAckDACMmoBX1yQA==",
            "dtype": "f8"
           },
           "y": {
            "bdata": "AAAAAAAAJMB7ZNShdqskwA==",
            "dtype": "f8"
           },
           "z": {
            "bdata": "AAAAAADgdUB8eHhFzd11QA==",
            "dtype": "f8"
           }
          },
          {
           "line": {
            "color": "blue",
            "dash": "dash",
            "width": 5
           },
           "marker": {
            "color": "blue",
            "size": 4,
            "symbol": "diamond"
           },
           "mode": "lines+markers",
           "name": "🛡️ 알파→H4",
           "type": "scatter3d",
           "x": {
            "bdata": "AAAAAAAASUAszyUgmlVPQA==",
            "dtype": "f8"
           },
           "y": {
            "bdata": "AAAAAAAANEBCKcx6fKQxQA==",
            "dtype": "f8"
           },
           "z": {
            "bdata": "AAAAAAAAAAAZ87mpH481QA==",
            "dtype": "f8"
           }
          },
          {
           "line": {
            "color": "brown",
            "width": 4
           },
           "marker": {
            "color": "brown",
            "size": 3
           },
           "mode": "lines+markers",
           "name": "🚀 H5",
           "type": "scatter3d",
           "x": {
            "bdata": "AAAAAAAAacDmcCRkoK9owA==",
            "dtype": "f8"
           },
           "y": {
            "bdata": "AAAAAABAb8AzQdva1dRuwA==",
            "dtype": "f8"
           },
           "z": {
            "bdata": "AAAAAAAgfEB8eHhFzR18QA==",
            "dtype": "f8"
           }
          },
          {
           "line": {
            "color": "cyan",
            "dash": "dash",
            "width": 5
           },
           "marker": {
            "color": "cyan",
            "size": 4,
            "symbol": "diamond"
           },
           "mode": "lines+markers",
           "name": "🛡️ 브라보→H5",
           "type": "scatter3d",
           "x": {
            "bdata": "AAAAAAAARMB2rTASKjNHwA==",
            "dtype": "f8"
           },
           "y": {
            "bdata": "AAAAAAAAPsDmhqcdv3NDwA==",
            "dtype": "f8"
           },
           "z": {
            "bdata": "AAAAAAAAAADnjHxCu5g2QA==",
            "dtype": "f8"
           }
          }
         ],
         "layout": {
          "title": {
           "text": "🚀 다중 위협 분산 대응 시스템 - 시간: 0.17초"
          }
         },
         "name": "4"
        },
        {
         "data": [
          {
           "marker": {
            "color": "red",
            "size": 20,
            "symbol": "diamond"
           },
           "mode": "markers",
           "name": "🏙️ 도시",
           "type": "scatter3d",
           "x": [
            0
           ],
           "y": [
            0
           ],
           "z": [
            0
           ]
          },
          {
           "marker": {
            "color": "blue",
            "size": 15,
            "symbol": "square"
           },
           "mode": "markers",
           "name": "🏭 알파 기지",
           "type": "scatter3d",
           "x": [
            50
           ],
           "y": [
            20
           ],
           "z": [
            0
           ]
          },
          {
           "marker": {
            "color": "cyan",
            "size": 15,
            "symbol": "square"
           },
           "mode": "markers",
           "name": "🏭 브라보 기지",
           "type": "scatter3d",
           "x": [
            -40
           ],
           "y": [
            -30
           ],
           "z": [
            0
           ]
          },
          {
           "line": {
            "color": "red",
            "width": 4
           },
           "marker": {
            "color": "red",
            "size": 3
           },
           "mode": "lines+markers",
           "name": "🚀 H1",
           "type": "scatter3d",
           "x": {
            "bdata": "AAAAAABAb0CAEZJRC7puQA==",
            "dtype": "f8"
           },
           "y": {
            "bdata": "AAAAAADAckDwSvsSR2xyQA==",
            "dtype": "f8"
           },
           "z": {
            "bdata": "AAAAAAAAeUBCPIy8kPx4QA==",
            "dtype": "f8"
           }
          },
          {
           "line": {
            "color": "blue",
            "dash": "dash",
            "width": 5
           },
           "marker": {
            "color": "blue",
            "size": 4,
            "symbol": "diamond"
           },
           "mode": "lines+markers",
           "name": "🛡️ 알파→H1",
           "type": "scatter3d",
           "x": {
            "bdata": "AAAAAAAASUDy8XdvhRVOQA==",
            "dtype": "f8"
           },
           "y": {
            "bdata": "AAAAAAAANEBDeoPRgG5BQA==",
            "dtype": "f8"
           },
           "z": {
            "bdata": "AAAAAAAAAACbmiALsrc5QA==",
            "dtype": "f8"
           }
          },
          {
           "line": {
            "color": "orange",
            "width": 4
           },
           "marker": {
            "color": "orange",
            "size": 3
           },
           "mode": "lines+markers",
           "name": "🚀 H2",
           "type": "scatter3d",
           "x": {
            "bdata": "AAAAAACAccDTvHYGUzZxwA==",
            "dtype": "f8"
           },
           "y": {
            "bdata": "AAAAAABAb0CAEZJRC7puQA==",
            "dtype": "f8"
           },
           "z": {
            "bdata": "AAAAAADAd0BCPIy8kLx3QA==",
            "dtype": "f8"
           }
          },
          {
           "line": {
            "color": "cyan",
            "dash": "dash",
            "width": 5
           },
           "marker": {
            "color": "cyan",
            "size": 4,
            "symbol": "diamond"
           },
           "mode": "lines+markers",
           "name": "🛡️ 브라보→H2",
           "type": "scatter3d",
           "x": {
            "bdata": "AAAAAAAARMCFZjCYNkFKwA==",
            "dtype": "f8"
           },
           "y": {
            "bdata": "AAAAAAAAPsCmO6O8Z3AswA==",
            "dtype": "f8"
           },
           "z": {
            "bdata": "AAAAAAAAAAAI/q3cUBY4QA==",
            "dtype": "f8"
           }
          },
          {
           "line": {
            "color": "green",
            "width": 4
           },
           "marker": {
            "color": "green",
            "size": 3
           },
           "mode": "lines+markers",
           "name": "🚀 H3",
           "type": "scatter3d",
           "x": {
            "bdata": "AAAAAAAAJED/RUhGLeghQA==",
            "dtype": "f8"
           },
           "y": {
            "bdata": "AAAAAADgdcAgjS19iHt1wA==",
            "dtype": "f8"
           },
           "z": {
            "bdata": "AAAAAABAekBCPIy8kDx6QA==",
            "dtype": "f8"
           }
          },
          {
           "line": {
            "color": "cyan",
            "dash": "dash",
            "width": 5
           },
           "marker": {
            "color": "cyan",
            "size": 4,
            "symbol": "diamond"
           },
           "mode": "lines+markers",
           "name": "🛡️ 브라보→H3",
           "type": "scatter3d",
           "x": {
            "bdata": "AAAAAAAARMDEdPomKsFCwA==",
            "dtype": "f8"
           },
           "y": {
            "bdata": "AAAAAAAAPsB8EOnlIC5HwA==",
            "dtype": "f8"
           },
           "z": {
            "bdata": "AAAAAAAAAACUt4MnJK46QA==",
            "dtype": "f8"
           }
          },
          {
           "line": {
            "color": "purple",
            "width": 4
           },
           "marker": {
            "color": "purple",
            "size": 3
           },
           "mode": "lines+markers",
           "name": "🚀 H4",
           "type": "scatter3d",
           "x": {
            "bdata": "AAAAAADAckDwSvsSR2xyQA==",
            "dtype": "f8"
           },
           "y": {
            "bdata": "AAAAAAAAJMCafUlKVNYkwA==",
            "dtype": "f8"
           },
           "z": {
            "bdata": "AAAAAADgdUBCPIy8kNx1QA==",
            "dtype": "f8"
           }
          },
          {
           "line": {
            "color": "blue",
            "dash": "dash",
            "width": 5
           },
           "marker": {
            "color": "blue",
            "size": 4,
            "symbol": "diamond"
           },
           "mode": "lines+markers",
           "name": "🛡️ 알파→H4",
           "type": "scatter3d",
           "x": {
            "bdata": "AAAAAAAASUB7oRdUgHVQQA==",
            "dtype": "f8"
           },
           "y": {
            "bdata": "AAAAAAAANECSM3+Zmw0xQA==",
            "dtype": "f8"
           },
           "z": {
            "bdata": "AAAAAAAAAADebyiU5/I6QA==",
            "dtype": "f8"
           }
          },
          {
           "line": {
            "color": "brown",
            "width": 4
           },
           "marker": {
            "color": "brown",
            "size": 3
           },
           "mode": "lines+markers",
           "name": "🚀 H5",
           "type": "scatter3d",
           "x": {
            "bdata": "AAAAAAAAacAgjS19iJtowA==",
            "dtype": "f8"
           },
           "y": {
            "bdata": "AAAAAABAb8CAEZJRC7puwA==",
            "dtype": "f8"
           },
           "z": {
            "bdata": "AAAAAAAgfEBCPIy8kBx8QA==",
            "dtype": "f8"
           }
          },
          {
           "line": {
            "color": "cyan",
            "dash": "dash",
            "width": 5
           },
           "marker": {
            "color": "cyan",
            "size": 4,
            "symbol": "diamond"
           },
           "mode": "lines+markers",
           "name": "🛡️ 브라보→H5",
           "type": "scatter3d",
           "x": {
            "bdata": "AAAAAAAARMDT2LyW9P9HwA==",
            "dtype": "f8"
           },
           "y": {
            "bdata": "AAAAAAAAPsCfaBHlrpBEwA==",
            "dtype": "f8"
           },
           "z": {
            "bdata": "AAAAAAAAAAAhsBsT6j48QA==",
            "dtype": "f8"
           }
          }
         ],
         "layout": {
          "title": {
           "text": "🚀 다중 위협 분산 대응 시스템 - 시간: 0.21초"
          }
         },
         "name": "5"
        },
        {
         "data": [
          {
           "marker": {
            "color": "red",
            "size": 20,
            "symbol": "diamond"
           },
           "mode": "markers",
           "name": "🏙️ 도시",
           "type": "scatter3d",
           "x": [
            0
           ],
           "y": [
            0
           ],
           "z": [
            0
           ]
          },
          {
           "marker": {
            "color": "blue",
            "size": 15,
            "symbol": "square"
           },
           "mode": "markers",
           "name": "🏭 알파 기지",
           "type": "scatter3d",
           "x": [
            50
           ],
           "y": [
            20
           ],
           "z": [
            0
           ]
          },
          {
           "marker": {
            "color": "cyan",
            "size": 15,
            "symbol": "square"
           },
           "mode": "markers",
           "name": "🏭 브라보 기지",
           "type": "scatter3d",
           "x": [
            -40
           ],
           "y": [
            -30
           ],
           "z": [
            0
           ]
          },
          {
           "line": {
            "color": "red",
            "width": 4
           },
           "marker": {
            "color": "red",
            "size": 3
           },
           "mode": "lines+markers",
           "name": "🚀 H1",
           "type": "scatter3d",
           "x": {
            "bdata": "AAAAAABAb0DM4UjIQJ9uQA==",
            "dtype": "f8"
           },
           "y": {
            "bdata": "AAAAAADAckAgjS19iFtyQA==",
            "dtype": "f8"
           },
           "z": {
            "bdata": "AAAAAAAAeUAYD0/cDft4QA==",
            "dtype": "f8"
           }
          },
          {
           "line": {
            "color": "blue",
            "dash": "dash",
            "width": 5
           },
           "marker": {
            "color": "blue",
            "size": 4,
            "symbol": "diamond"
           },
           "mode": "lines+markers",
           "name": "🛡️ 알파→H1",
           "type": "scatter3d",
           "x": {
            "bdata": "AAAAAAAASUAj749S0xlPQA==",
            "dtype": "f8"
           },
           "y": {
            "bdata": "AAAAAAAANEC2kmr7AOtCQA==",
            "dtype": "f8"
           },
           "z": {
            "bdata": "AAAAAAAAAABTho1Ab9w+QA==",
            "dtype": "f8"
           }
          },
          {
           "line": {
            "color": "orange",
            "width": 4
           },
           "marker": {
            "color": "orange",
            "size": 3
           },
           "mode": "lines+markers",
           "name": "🚀 H2",
           "type": "scatter3d",
           "x": {
            "bdata": "AAAAAACAccAwfI7UlidxwA==",
            "dtype": "f8"
           },
           "y": {
            "bdata": "AAAAAABAb0DM4UjIQJ9uQA==",
            "dtype": "f8"
           },
           "z": {
            "bdata": "AAAAAADAd0AYD0/cDbt3QA==",
            "dtype": "f8"
           }
          },
          {
           "line": {
            "color": "cyan",
            "dash": "dash",
            "width": 5
           },
           "marker": {
            "color": "cyan",
            "size": 4,
            "symbol": "diamond"
           },
           "mode": "lines+markers",
           "name": "🛡️ 브라보→H2",
           "type": "scatter3d",
           "x": {
            "bdata": "AAAAAAAARMAGe6C2dIFLwA==",
            "dtype": "f8"
           },
           "y": {
            "bdata": "AAAAAAAAPsBiFPd7fCAmwA==",
            "dtype": "f8"
           },
           "z": {
            "bdata": "AAAAAAAAAACi/QM8lOc8QA==",
            "dtype": "f8"
           }
          },
          {
           "line": {
            "color": "green",
            "width": 4
           },
           "marker": {
            "color": "green",
            "size": 3
           },
           "mode": "lines+markers",
           "name": "🚀 H3",
           "type": "scatter3d",
           "x": {
            "bdata": "AAAAAAAAJEAyhyMhA30hQA==",
            "dtype": "f8"
           },
           "y": {
            "bdata": "AAAAAADgdcBZqTaWcGd1wA==",
            "dtype": "f8"
           },
           "z": {
            "bdata": "AAAAAABAekAYD0/cDTt6QA==",
            "dtype": "f8"
           }
          },
          {
           "line": {
            "color": "cyan",
            "dash": "dash",
            "width": 5
           },
           "marker": {
            "color": "cyan",
            "size": 4,
            "symbol": "diamond"
           },
           "mode": "lines+markers",
           "name": "🛡️ 브라보→H3",
           "type": "scatter3d",
           "x": {
            "bdata": "AAAAAAAARMBSv1/IZYFCwA==",
            "dtype": "f8"
           },
           "y": {
            "bdata": "AAAAAAAAPsBirRdH9NBIwA==",
            "dtype": "f8"
           },
           "z": {
            "bdata": "AAAAAAAAAAC/B0+xFQJAQA==",
            "dtype": "f8"
           }
          },
          {
           "line": {
            "color": "purple",
            "width": 4
           },
           "marker": {
            "color": "purple",
            "size": 3
           },
           "mode": "lines+markers",
           "name": "🚀 H4",
           "type": "scatter3d",
           "x": {
            "bdata": "AAAAAADAckAgjS19iFtyQA==",
            "dtype": "f8"
           },
           "y": {
            "bdata": "AAAAAAAAJMC5lr7yMQElwA==",
            "dtype": "f8"
           },
           "z": {
            "bdata": "AAAAAADgdUAYD0/cDdt1QA==",
            "dtype": "f8"
           }
          },
          {
           "line": {
            "color": "blue",
            "dash": "dash",
            "width": 5
           },
           "marker": {
            "color": "blue",
            "size": 4,
            "symbol": "diamond"
           },
           "mode": "lines+markers",
           "name": "🛡️ 알파→H4",
           "type": "scatter3d",
           "x": {
            "bdata": "AAAAAAAASUBhWxyYM0BRQA==",
            "dtype": "f8"
           },
           "y": {
            "bdata": "AAAAAAAANEDiPTK4unYwQA==",
            "dtype": "f8"
           },
           "z": {
            "bdata": "AAAAAAAAAABSdku/VytAQA==",
            "dtype": "f8"
           }
          },
          {
           "line": {
            "color": "brown",
            "width": 4
           },
           "marker": {
            "color": "brown",
            "size": 3
           },
           "mode": "lines+markers",
           "name": "🚀 H5",
           "type": "scatter3d",
           "x": {
            "bdata": "AAAAAAAAacBZqTaWcIdowA==",
            "dtype": "f8"
           },
           "y": {
            "bdata": "AAAAAABAb8DM4UjIQJ9uwA==",
            "dtype": "f8"
           },
           "z": {
            "bdata": "AAAAAAAgfEAYD0/cDRt8QA==",
            "dtype": "f8"
           }
          },
          {
           "line": {
            "color": "cyan",
            "dash": "dash",
            "width": 5
           },
           "marker": {
            "color": "cyan",
            "size": 4,
            "symbol": "diamond"
           },
           "mode": "lines+markers",
           "name": "🛡️ 브라보→H5",
           "type": "scatter3d",
           "x": {
            "bdata": "AAAAAAAARMAwBEkbv8xIwA==",
            "dtype": "f8"
           },
           "y": {
            "bdata": "AAAAAAAAPsBYSnusnq1FwA==",
            "dtype": "f8"
           },
           "z": {
            "bdata": "AAAAAAAAAACtad1xjPJAQA==",
            "dtype": "f8"
           }
          }
         ],
         "layout": {
          "title": {
           "text": "🚀 다중 위협 분산 대응 시스템 - 시간: 0.25초"
          }
         },
         "name": "6"
        },
        {
         "data": [
          {
           "marker": {
            "color": "red",
            "size": 20,
            "symbol": "diamond"
           },
           "mode": "markers",
           "name": "🏙️ 도시",
           "type": "scatter3d",
           "x": [
            0
           ],
           "y": [
            0
           ],
           "z": [
            0
           ]
          },
          {
           "marker": {
            "color": "blue",
            "size": 15,
            "symbol": "square"
           },
           "mode": "markers",
           "name": "🏭 알파 기지",
           "type": "scatter3d",
           "x": [
            50
           ],
           "y": [
            20
           ],
           "z": [
            0
           ]
          },
          {
           "marker": {
            "color": "cyan",
            "size": 15,
            "symbol": "square"
           },
           "mode": "markers",
           "name": "🏭 브라보 기지",
           "type": "scatter3d",
           "x": [
            -40
           ],
           "y": [
            -30
           ],
           "z": [
            0
           ]
          },
          {
           "line": {
            "color": "red",
            "width": 4
           },
           "marker": {
            "color": "red",
            "size": 3
           },
           "mode": "lines+markers",
           "name": "🚀 H1",
           "type": "scatter3d",
           "x": {
            "bdata": "AAAAAABAb0AZsv8+doRuQA==",
            "dtype": "f8"
           },
           "y": {
            "bdata": "AAAAAADAckBQz1/nyUpyQA==",
            "dtype": "f8"
           },
           "z": {
            "bdata": "AAAAAAAAeUD98MCkRPl4QA==",
            "dtype": "f8"
           }
          },
          {
           "line": {
            "color": "blue",
            "dash": "dash",
            "width": 5
           },
           "marker": {
            "color": "blue",
            "size": 4,
            "symbol": "diamond"
           },
           "mode": "lines+markers",
           "name": "🛡️ 알파→H1",
           "type": "scatter3d",
           "x": {
            "bdata": "AAAAAAAASUAq9tOaEA9QQA==",
            "dtype": "f8"
           },
           "y": {
            "bdata": "AAAAAAAANEAqq1ElgWdEQA==",
            "dtype": "f8"
           },
           "z": {
            "bdata": "AAAAAAAAAAAGOf06lgBCQA==",
            "dtype": "f8"
           }
          },
          {
           "line": {
            "color": "orange",
            "width": 4
           },
           "marker": {
            "color": "orange",
            "size": 3
           },
           "mode": "lines+markers",
           "name": "🚀 H2",
           "type": "scatter3d",
           "x": {
            "bdata": "AAAAAACAccCOO6ai2hhxwA==",
            "dtype": "f8"
           },
           "y": {
            "bdata": "AAAAAABAb0AZsv8+doRuQA==",
            "dtype": "f8"
           },
           "z": {
            "bdata": "AAAAAADAd0D98MCkRLl3QA==",
            "dtype": "f8"
           }
          },
          {
           "line": {
            "color": "cyan",
            "dash": "dash",
            "width": 5
           },
           "marker": {
            "color": "cyan",
            "size": 4,
            "symbol": "diamond"
           },
           "mode": "lines+markers",
           "name": "🛡️ 브라보→H2",
           "type": "scatter3d",
           "x": {
            "bdata": "AAAAAAAARMCGjxDVssFMwA==",
            "dtype": "f8"
           },
           "y": {
            "bdata": "AAAAAAAAPsA42pV2IqEfwA==",
            "dtype": "f8"
           },
           "z": {
            "bdata": "AAAAAAAAAACf/qzNa9xAQA==",
            "dtype": "f8"
           }
          },
          {
           "line": {
            "color": "green",
            "width": 4
           },
           "marker": {
            "color": "green",
            "size": 3
           },
           "mode": "lines+markers",
           "name": "🚀 H3",
           "type": "scatter3d",
           "x": {
            "bdata": "AAAAAAAAJEBlyP772BEhQA==",
            "dtype": "f8"
           },
           "y": {
            "bdata": "AAAAAADgdcCTxT+vWFN1wA==",
            "dtype": "f8"
           },
           "z": {
            "bdata": "AAAAAABAekD98MCkRDl6QA==",
            "dtype": "f8"
           }
          },
          {
           "line": {
            "color": "cyan",
            "dash": "dash",
            "width": 5
           },
           "marker": {
            "color": "cyan",
            "size": 4,
            "symbol": "diamond"
           },
           "mode": "lines+markers",
           "name": "🛡️ 브라보→H3",
           "type": "scatter3d",
           "x": {
            "bdata": "AAAAAAAARMDfCcVpoUFCwA==",
            "dtype": "f8"
           },
           "y": {
            "bdata": "AAAAAAAAPsBHSkaox3NKwA==",
            "dtype": "f8"
           },
           "z": {
            "bdata": "AAAAAAAAAAC0M9xOGa1CQA==",
            "dtype": "f8"
           }
          },
          {
           "line": {
            "color": "purple",
            "width": 4
           },
           "marker": {
            "color": "purple",
            "size": 3
           },
           "mode": "lines+markers",
           "name": "🚀 H4",
           "type": "scatter3d",
           "x": {
            "bdata": "AAAAAADAckBQz1/nyUpyQA==",
            "dtype": "f8"
           },
           "y": {
            "bdata": "AAAAAAAAJMDYrzObDywlwA==",
            "dtype": "f8"
           },
           "z": {
            "bdata": "AAAAAADgdUD98MCkRNl1QA==",
            "dtype": "f8"
           }
          },
          {
           "line": {
            "color": "blue",
            "dash": "dash",
            "width": 5
           },
           "marker": {
            "color": "blue",
            "size": 4,
            "symbol": "diamond"
           },
           "mode": "lines+markers",
           "name": "🛡️ 알파→H4",
           "type": "scatter3d",
           "x": {
            "bdata": "AAAAAAAASUBGFSHc5gpSQA==",
            "dtype": "f8"
           },
           "y": {
            "bdata": "AAAAAAAANEBmkMqts78vQA==",
            "dtype": "f8"
           },
           "z": {
            "bdata": "AAAAAAAAAAC1tIK0O91CQA==",
            "dtype": "f8"
           }
          },
          {
           "line": {
            "color": "brown",
            "width": 4
           },
           "marker": {
            "color": "brown",
            "size": 3
           },
           "mode": "lines+markers",
           "name": "🚀 H5",
           "type": "scatter3d",
           "x": {
            "bdata": "AAAAAAAAacCTxT+vWHNowA==",
            "dtype": "f8"
           },
           "y": {
            "bdata": "AAAAAABAb8AZsv8+doRuwA==",
            "dtype": "f8"
           },
           "z": {
            "bdata": "AAAAAAAgfED98MCkRBl8QA==",
            "dtype": "f8"
           }
          },
          {
           "line": {
            "color": "cyan",
            "dash": "dash",
            "width": 5
           },
           "marker": {
            "color": "cyan",
            "size": 4,
            "symbol": "diamond"
           },
           "mode": "lines+markers",
           "name": "🛡️ 브라보→H5",
           "type": "scatter3d",
           "x": {
            "bdata": "AAAAAAAARMCOL9WfiZlJwA==",
            "dtype": "f8"
           },
           "y": {
            "bdata": "AAAAAAAAPsASLOVzjspGwA==",
            "dtype": "f8"
           },
           "z": {
            "bdata": "AAAAAAAAAABK+yzao8VDQA==",
            "dtype": "f8"
           }
          }
         ],
         "layout": {
          "title": {
           "text": "🚀 다중 위협 분산 대응 시스템 - 시간: 0.29초"
          }
         },
         "name": "7"
        },
        {
         "data": [
          {
           "marker": {
            "color": "red",
            "size": 20,
            "symbol": "diamond"
           },
           "mode": "markers",
           "name": "🏙️ 도시",
           "type": "scatter3d",
           "x": [
            0
           ],
           "y": [
            0
           ],
           "z": [
            0
           ]
          },
          {
           "marker": {
            "color": "blue",
            "size": 15,
            "symbol": "square"
           },
           "mode": "markers",
           "name": "🏭 알파 기지",
           "type": "scatter3d",
           "x": [
            50
           ],
           "y": [
            20
           ],
           "z": [
            0
           ]
          },
          {
           "marker": {
            "color": "cyan",
            "size": 15,
            "symbol": "square"
           },
           "mode": "markers",
           "name": "🏭 브라보 기지",
           "type": "scatter3d",
           "x": [
            -40
           ],
           "y": [
            -30
           ],
           "z": [
            0
           ]
          },
          {
           "line": {
            "color": "red",
            "width": 4
           },
           "marker": {
            "color": "red",
            "size": 3
           },
           "mode": "lines+markers",
           "name": "🚀 H1",
           "type": "scatter3d",
           "x": {
            "bdata": "AAAAAABAb0Bmgra1q2luQA==",
            "dtype": "f8"
           },
           "y": {
            "bdata": "AAAAAADAckCAEZJRCzpyQA==",
            "dtype": "f8"
           },
           "z": {
            "bdata": "AAAAAAAAeUDx4eEVNfd4QA==",
            "dtype": "f8"
           }
          },
          {
           "line": {
            "color": "blue",
            "dash": "dash",
            "width": 5
           },
           "marker": {
            "color": "blue",
            "size": 4,
            "symbol": "diamond"
           },
           "mode": "lines+markers",
           "name": "🛡️ 알파→H1",
           "type": "scatter3d",
           "x": {
            "bdata": "AAAAAAAASUDC9F+MN5FQQA==",
            "dtype": "f8"
           },
           "y": {
            "bdata": "AAAAAAAANECewzhPAeRFQA==",
            "dtype": "f8"
           },
           "z": {
            "bdata": "AAAAAAAAAADjrrPV9JJEQA==",
            "dtype": "f8"
           }
          },
          {
           "line": {
            "color": "orange",
            "width": 4
           },
           "marker": {
            "color": "orange",
            "size": 3
           },
           "mode": "lines+markers",
           "name": "🚀 H2",
           "type": "scatter3d",
           "x": {
            "bdata": "AAAAAACAccDr+r1wHgpxwA==",
            "dtype": "f8"
           },
           "y": {
            "bdata": "AAAAAABAb0Bmgra1q2luQA==",
            "dtype": "f8"
           },
           "z": {
            "bdata": "AAAAAADAd0Dx4eEVNbd3QA==",
            "dtype": "f8"
           }
          },
          {
           "line": {
            "color": "cyan",
            "dash": "dash",
            "width": 5
           },
           "marker": {
            "color": "cyan",
            "size": 4,
            "symbol": "diamond"
           },
           "mode": "lines+markers",
           "name": "🛡️ 브라보→H2",
           "type": "scatter3d",
           "x": {
            "bdata": "AAAAAAAARMAIpIDz8AFOwA==",
            "dtype": "f8"
           },
           "y": {
            "bdata": "AAAAAAAAPsCsiz31SwETwA==",
            "dtype": "f8"
           },
           "z": {
            "bdata": "AAAAAAAAAABt/ld9DUVDQA==",
            "dtype": "f8"
           }
          },
          {
           "line": {
            "color": "green",
            "width": 4
           },
           "marker": {
            "color": "green",
            "size": 3
           },
           "mode": "lines+markers",
           "name": "🚀 H3",
           "type": "scatter3d",
           "x": {
            "bdata": "AAAAAAAAJECYCdrWrqYgQA==",
            "dtype": "f8"
           },
           "y": {
            "bdata": "AAAAAADgdcDM4UjIQD91wA==",
            "dtype": "f8"
           },
           "z": {
            "bdata": "AAAAAABAekDx4eEVNTd6QA==",
            "dtype": "f8"
           }
          },
          {
           "line": {
            "color": "cyan",
            "dash": "dash",
            "width": 5
           },
           "marker": {
            "color": "cyan",
            "size": 4,
            "symbol": "diamond"
           },
           "mode": "lines+markers",
           "name": "🛡️ 브라보→H3",
           "type": "scatter3d",
           "x": {
            "bdata": "AAAAAAAARMBtVCoL3QFCwA==",
            "dtype": "f8"
           },
           "y": {
            "bdata": "AAAAAAAAPsAt53QJmxZMwA==",
            "dtype": "f8"
           },
           "z": {
            "bdata": "AAAAAAAAAACqX2nsHFhFQA==",
            "dtype": "f8"
           }
          },
          {
           "line": {
            "color": "purple",
            "width": 4
           },
           "marker": {
            "color": "purple",
            "size": 3
           },
           "mode": "lines+markers",
           "name": "🚀 H4",
           "type": "scatter3d",
           "x": {
            "bdata": "AAAAAADAckCAEZJRCzpyQA==",
            "dtype": "f8"
           },
           "y": {
            "bdata": "AAAAAAAAJMD2yKhD7VYlwA==",
            "dtype": "f8"
           },
           "z": {
            "bdata": "AAAAAADgdUDx4eEVNdd1QA==",
            "dtype": "f8"
           }
          },
          {
           "line": {
            "color": "blue",
            "dash": "dash",
            "width": 5
           },
           "marker": {
            "color": "blue",
            "size": 4,
            "symbol": "diamond"
           },
           "mode": "lines+markers",
           "name": "🛡️ 알파→H4",
           "type": "scatter3d",
           "x": {
            "bdata": "AAAAAAAASUAszyUgmtVSQA==",
            "dtype": "f8"
           },
           "y": {
            "bdata": "AAAAAAAANEAGpTDr8ZEuQA==",
            "dtype": "f8"
           },
           "z": {
            "bdata": "AAAAAAAAAAAZ87mpH49FQA==",
            "dtype": "f8"
           }
          },
          {
           "line": {
            "color": "brown",
            "width": 4
           },
           "marker": {
            "color": "brown",
            "size": 3
           },
           "mode": "lines+markers",
           "name": "🚀 H5",
           "type": "scatter3d",
           "x": {
            "bdata": "AAAAAAAAacDM4UjIQF9owA==",
            "dtype": "f8"
           },
           "y": {
            "bdata": "AAAAAABAb8Bmgra1q2luwA==",
            "dtype": "f8"
           },
           "z": {
            "bdata": "AAAAAAAgfEDx4eEVNRd8QA==",
            "dtype": "f8"
           }
          },
          {
           "line": {
            "color": "cyan",
            "dash": "dash",
            "width": 5
           },
           "marker": {
            "color": "cyan",
            "size": 4,
            "symbol": "diamond"
           },
           "mode": "lines+markers",
           "name": "🛡️ 브라보→H5",
           "type": "scatter3d",
           "x": {
            "bdata": "AAAAAAAARMDrWmEkVGZKwA==",
            "dtype": "f8"
           },
           "y": {
            "bdata": "AAAAAAAAPsDLDU87fudHwA==",
            "dtype": "f8"
           },
           "z": {
            "bdata": "AAAAAAAAAADnjHxCu5hGQA==",
            "dtype": "f8"
           }
          }
         ],
         "layout": {
          "title": {
           "text": "🚀 다중 위협 분산 대응 시스템 - 시간: 0.33초"
          }
         },
         "name": "8"
        },
        {
         "data": [
          {
           "marker": {
            "color": "red",
            "size": 20,
            "symbol": "diamond"
           },
           "mode": "markers",
           "name": "🏙️ 도시",
           "type": "scatter3d",
           "x": [
            0
           ],
           "y": [
            0
           ],
           "z": [
            0
           ]
          },
          {
           "marker": {
            "color": "blue",
            "size": 15,
            "symbol": "square"
           },
           "mode": "markers",
           "name": "🏭 알파 기지",
           "type": "scatter3d",
           "x": [
            50
           ],
           "y": [
            20
           ],
           "z": [
            0
           ]
          },
          {
           "marker": {
            "color": "cyan",
            "size": 15,
            "symbol": "square"
           },
           "mode": "markers",
           "name": "🏭 브라보 기지",
           "type": "scatter3d",
           "x": [
            -40
           ],
           "y": [
            -30
           ],
           "z": [
            0
           ]
          },
          {
           "line": {
            "color": "red",
            "width": 4
           },
           "marker": {
            "color": "red",
            "size": 3
           },
           "mode": "lines+markers",
           "name": "🚀 H1",
           "type": "scatter3d",
           "x": {
            "bdata": "AAAAAABAb0CzUm0s4U5uQA==",
            "dtype": "f8"
           },
           "y": {
            "bdata": "AAAAAADAckCwU8S7TClyQA==",
            "dtype": "f8"
           },
           "z": {
            "bdata": "AAAAAAAAeUD24bEv3/R4QA==",
            "dtype": "f8"
           }
          },
          {
           "line": {
            "color": "blue",
            "dash": "dash",
            "width": 5
           },
           "marker": {
            "color": "blue",
            "size": 4,
            "symbol": "diamond"
           },
           "mode": "lines+markers",
           "name": "🛡️ 알파→H1",
           "type": "scatter3d",
           "x": {
            "bdata": "AAAAAAAASUBa8+t9XhNRQA==",
            "dtype": "f8"
           },
           "y": {
            "bdata": "AAAAAAAANEAS3B95gWBHQA==",
            "dtype": "f8"
           },
           "z": {
            "bdata": "AAAAAAAAAAC/JGpwUyVHQA==",
            "dtype": "f8"
           }
          },
          {
           "line": {
            "color": "orange",
            "width": 4
           },
           "marker": {
            "color": "orange",
            "size": 3
           },
           "mode": "lines+markers",
           "name": "🚀 H2",
           "type": "scatter3d",
           "x": {
            "bdata": "AAAAAACAccBJutU+YvtwwA==",
            "dtype": "f8"
           },
           "y": {
            "bdata": "AAAAAABAb0CzUm0s4U5uQA==",
            "dtype": "f8"
           },
           "z": {
            "bdata": "AAAAAADAd0D24bEv37R3QA==",
            "dtype": "f8"
           }
          },
          {
           "line": {
            "color": "cyan",
            "dash": "dash",
            "width": 5
           },
           "marker": {
            "color": "cyan",
            "size": 4,
            "symbol": "diamond"
           },
           "mode": "lines+markers",
           "name": "🛡️ 브라보→H2",
           "type": "scatter3d",
           "x": {
            "bdata": "AAAAAAAARMCIuPARL0JPwA==",
            "dtype": "f8"
           },
           "y": {
            "bdata": "AAAAAAAAPsCQ9JTP1YX5vw==",
            "dtype": "f8"
           },
           "z": {
            "bdata": "AAAAAAAAAAA6/gItr61FQA==",
            "dtype": "f8"
           }
          },
          {
           "line": {
            "color": "green",
            "width": 4
           },
           "marker": {
            "color": "green",
            "size": 3
           },
           "mode": "lines+markers",
           "name": "🚀 H3",
           "type": "scatter3d",
           "x": {
            "bdata": "AAAAAAAAJEDLSrWxhDsgQA==",
            "dtype": "f8"
           },
           "y": {
            "bdata": "AAAAAADgdcAG/lHhKCt1wA==",
            "dtype": "f8"
           },
           "z": {
            "bdata": "AAAAAABAekD24bEv3zR6QA==",
            "dtype": "f8"
           }
          },
          {
           "line": {
            "color": "cyan",
            "dash": "dash",
            "width": 5
           },
           "marker": {
            "color": "cyan",
            "size": 4,
            "symbol": "diamond"
           },
           "mode": "lines+markers",
           "name": "🛡️ 브라보→H3",
           "type": "scatter3d",
           "x": {
            "bdata": "AAAAAAAARMD6no+sGMJBwA==",
            "dtype": "f8"
           },
           "y": {
            "bdata": "AAAAAAAAPsAShKNqbrlNwA==",
            "dtype": "f8"
           },
           "z": {
            "bdata": "AAAAAAAAAACfi/aJIANIQA==",
            "dtype": "f8"
           }
          },
          {
           "line": {
            "color": "purple",
            "width": 4
           },
           "marker": {
            "color": "purple",
            "size": 3
           },
           "mode": "lines+markers",
           "name": "🚀 H4",
           "type": "scatter3d",
           "x": {
            "bdata": "AAAAAADAckCwU8S7TClyQA==",
            "dtype": "f8"
           },
           "y": {
            "bdata": "AAAAAAAAJMAV4h3syoElwA==",
            "dtype": "f8"
           },
           "z": {
            "bdata": "AAAAAADgdUD24bEv39R1QA==",
            "dtype": "f8"
           }
          },
          {
           "line": {
            "color": "blue",
            "dash": "dash",
            "width": 5
           },
           "marker": {
            "color": "blue",
            "size": 4,
            "symbol": "diamond"
           },
           "mode": "lines+markers",
           "name": "🛡️ 알파→H4",
           "type": "scatter3d",
           "x": {
            "bdata": "AAAAAAAASUARiSpkTaBTQA==",
            "dtype": "f8"
           },
           "y": {
            "bdata": "AAAAAAAANECnuZYoMGQtQA==",
            "dtype": "f8"
           },
           "z": {
            "bdata": "AAAAAAAAAAB7MfGeA0FIQA==",
            "dtype": "f8"
           }
          },
          {
           "line": {
            "color": "brown",
            "width": 4
           },
           "marker": {
            "color": "brown",
            "size": 3
           },
           "mode": "lines+markers",
           "name": "🚀 H5",
           "type": "scatter3d",
           "x": {
            "bdata": "AAAAAAAAacAG/lHhKEtowA==",
            "dtype": "f8"
           },
           "y": {
            "bdata": "AAAAAABAb8CzUm0s4U5uwA==",
            "dtype": "f8"
           },
           "z": {
            "bdata": "AAAAAAAgfED24bEv3xR8QA==",
            "dtype": "f8"
           }
          },
          {
           "line": {
            "color": "cyan",
            "dash": "dash",
            "width": 5
           },
           "marker": {
            "color": "cyan",
            "size": 4,
            "symbol": "diamond"
           },
           "mode": "lines+markers",
           "name": "🛡️ 브라보→H5",
           "type": "scatter3d",
           "x": {
            "bdata": "AAAAAAAARMBIhu2oHjNLwA==",
            "dtype": "f8"
           },
           "y": {
            "bdata": "AAAAAAAAPsCE77gCbgRJwA==",
            "dtype": "f8"
           },
           "z": {
            "bdata": "AAAAAAAAAACEHsyq0mtJQA==",
            "dtype": "f8"
           }
          }
         ],
         "layout": {
          "title": {
           "text": "🚀 다중 위협 분산 대응 시스템 - 시간: 0.38초"
          }
         },
         "name": "9"
        },
        {
         "data": [
          {
           "marker": {
            "color": "red",
            "size": 20,
            "symbol": "diamond"
           },
           "mode": "markers",
           "name": "🏙️ 도시",
           "type": "scatter3d",
           "x": [
            0
           ],
           "y": [
            0
           ],
           "z": [
            0
           ]
          },
          {
           "marker": {
            "color": "blue",
            "size": 15,
            "symbol": "square"
           },
           "mode": "markers",
           "name": "🏭 알파 기지",
           "type": "scatter3d",
           "x": [
            50
           ],
           "y": [
            20
           ],
           "z": [
            0
           ]
          },
          {
           "marker": {
            "color": "cyan",
            "size": 15,
            "symbol": "square"
           },
           "mode": "markers",
           "name": "🏭 브라보 기지",
           "type": "scatter3d",
           "x": [
            -40
           ],
           "y": [
            -30
           ],
           "z": [
            0
           ]
          },
          {
           "line": {
            "color": "red",
            "width": 4
           },
           "marker": {
            "color": "red",
            "size": 3
           },
           "mode": "lines+markers",
           "name": "🚀 H1",
           "type": "scatter3d",
           "x": {
            "bdata": "AAAAAABAb0D/IiSjFjRuQA==",
            "dtype": "f8"
           },
           "y": {
            "bdata": "AAAAAADAckDglfYljhhyQA==",
            "dtype": "f8"
           },
           "z": {
            "bdata": "AAAAAAAAeUAJ8TDyQvJ4QA==",
            "dtype": "f8"
           }
          },
          {
           "line": {
            "color": "blue",
            "dash": "dash",
            "width": 5
           },
           "marker": {
            "color": "blue",
            "size": 4,
            "symbol": "diamond"
           },
           "mode": "lines+markers",
           "name": "🛡️ 알파→H1",
           "type": "scatter3d",
           "x": {
            "bdata": "AAAAAAAASUDy8XdvhZVRQA==",
            "dtype": "f8"
           },
           "y": {
            "bdata": "AAAAAAAANECG9AajAd1IQA==",
            "dtype": "f8"
           },
           "z": {
            "bdata": "AAAAAAAAAACbmiALsrdJQA==",
            "dtype": "f8"
           }
          },
          {
           "line": {
            "color": "orange",
            "width": 4
           },
           "marker": {
            "color": "orange",
            "size": 3
           },
           "mode": "lines+markers",
           "name": "🚀 H2",
           "type": "scatter3d",
           "x": {
            "bdata": "AAAAAACAccCmee0MpuxwwA==",
            "dtype": "f8"
           },
           "y": {
            "bdata": "AAAAAABAb0D/IiSjFjRuQA==",
            "dtype": "f8"
           },
           "z": {
            "bdata": "AAAAAADAd0AJ8TDyQrJ3QA==",
            "dtype": "f8"
           }
          },
          {
           "line": {
            "color": "cyan",
            "dash": "dash",
            "width": 5
           },
           "marker": {
            "color": "cyan",
            "size": 4,
            "symbol": "diamond"
           },
           "mode": "lines+markers",
           "name": "🛡️ 브라보→H2",
           "type": "scatter3d",
           "x": {
            "bdata": "AAAAAAAARMCFZjCYNkFQwA==",
            "dtype": "f8"
           },
           "y": {
            "bdata": "AAAAAAAAPsCgRcw1hPn4Pw==",
            "dtype": "f8"
           },
           "z": {
            "bdata": "AAAAAAAAAAAI/q3cUBZIQA==",
            "dtype": "f8"
           }
          },
          {
           "line": {
            "color": "green",
            "width": 4
           },
           "marker": {
            "color": "green",
            "size": 3
           },
           "mode": "lines+markers",
           "name": "🚀 H3",
           "type": "scatter3d",
           "x": {
            "bdata": "AAAAAAAAJED8FyEZtaAfQA==",
            "dtype": "f8"
           },
           "y": {
            "bdata": "AAAAAADgdcBAGlv6EBd1wA==",
            "dtype": "f8"
           },
           "z": {
            "bdata": "AAAAAABAekAJ8TDyQjJ6QA==",
            "dtype": "f8"
           }
          },
          {
           "line": {
            "color": "cyan",
            "dash": "dash",
            "width": 5
           },
           "marker": {
            "color": "cyan",
            "size": 4,
            "symbol": "diamond"
           },
           "mode": "lines+markers",
           "name": "🛡️ 브라보→H3",
           "type": "scatter3d",
           "x": {
            "bdata": "AAAAAAAARMCI6fRNVIJBwA==",
            "dtype": "f8"
           },
           "y": {
            "bdata": "AAAAAAAAPsD4INLLQVxPwA==",
            "dtype": "f8"
           },
           "z": {
            "bdata": "AAAAAAAAAACUt4MnJK5KQA==",
            "dtype": "f8"
           }
          },
          {
           "line": {
            "color": "purple",
            "width": 4
           },
           "marker": {
            "color": "purple",
            "size": 3
           },
           "mode": "lines+markers",
           "name": "🚀 H4",
           "type": "scatter3d",
           "x": {
            "bdata": "AAAAAADAckDglfYljhhyQA==",
            "dtype": "f8"
           },
           "y": {
            "bdata": "AAAAAAAAJMA0+5KUqKwlwA==",
            "dtype": "f8"
           },
           "z": {
            "bdata": "AAAAAADgdUAJ8TDyQtJ1QA==",
            "dtype": "f8"
           }
          },
          {
           "line": {
            "color": "blue",
            "dash": "dash",
            "width": 5
           },
           "marker": {
            "color": "blue",
            "size": 4,
            "symbol": "diamond"
           },
           "mode": "lines+markers",
           "name": "🛡️ 알파→H4",
           "type": "scatter3d",
           "x": {
            "bdata": "AAAAAAAASUD3Qi+oAGtUQA==",
            "dtype": "f8"
           },
           "y": {
            "bdata": "AAAAAAAANEBIzvxlbjYsQA==",
            "dtype": "f8"
           },
           "z": {
            "bdata": "AAAAAAAAAADebyiU5/JKQA==",
            "dtype": "f8"
           }
          },
          {
           "line": {
            "color": "brown",
            "width": 4
           },
           "marker": {
            "color": "brown",
            "size": 3
           },
           "mode": "lines+markers",
           "name": "🚀 H5",
           "type": "scatter3d",
           "x": {
            "bdata": "AAAAAAAAacBAGlv6EDdowA==",
            "dtype": "f8"
           },
           "y": {
            "bdata": "AAAAAABAb8D/IiSjFjRuwA==",
            "dtype": "f8"
           },
           "z": {
            "bdata": "AAAAAAAgfEAJ8TDyQhJ8QA==",
            "dtype": "f8"
           }
          },
          {
           "line": {
            "color": "cyan",
            "dash": "dash",
            "width": 5
           },
           "marker": {
            "color": "cyan",
            "size": 4,
            "symbol": "diamond"
           },
           "mode": "lines+markers",
           "name": "🛡️ 브라보→H5",
           "type": "scatter3d",
           "x": {
            "bdata": "AAAAAAAARMCmsXkt6f9LwA==",
            "dtype": "f8"
           },
           "y": {
            "bdata": "AAAAAAAAPsA+0SLKXSFKwA==",
            "dtype": "f8"
           },
           "z": {
            "bdata": "AAAAAAAAAAAhsBsT6j5MQA==",
            "dtype": "f8"
           }
          }
         ],
         "layout": {
          "title": {
           "text": "🚀 다중 위협 분산 대응 시스템 - 시간: 0.42초"
          }
         },
         "name": "10"
        },
        {
         "data": [
          {
           "marker": {
            "color": "red",
            "size": 20,
            "symbol": "diamond"
           },
           "mode": "markers",
           "name": "🏙️ 도시",
           "type": "scatter3d",
           "x": [
            0
           ],
           "y": [
            0
           ],
           "z": [
            0
           ]
          },
          {
           "marker": {
            "color": "blue",
            "size": 15,
            "symbol": "square"
           },
           "mode": "markers",
           "name": "🏭 알파 기지",
           "type": "scatter3d",
           "x": [
            50
           ],
           "y": [
            20
           ],
           "z": [
            0
           ]
          },
          {
           "marker": {
            "color": "cyan",
            "size": 15,
            "symbol": "square"
           },
           "mode": "markers",
           "name": "🏭 브라보 기지",
           "type": "scatter3d",
           "x": [
            -40
           ],
           "y": [
            -30
           ],
           "z": [
            0
           ]
          },
          {
           "line": {
            "color": "red",
            "width": 4
           },
           "marker": {
            "color": "red",
            "size": 3
           },
           "mode": "lines+markers",
           "name": "🚀 H1",
           "type": "scatter3d",
           "x": {
            "bdata": "AAAAAABAb0BM89oZTBluQA==",
            "dtype": "f8"
           },
           "y": {
            "bdata": "AAAAAADAckAQ2CiQzwdyQA==",
            "dtype": "f8"
           },
           "z": {
            "bdata": "AAAAAAAAeUAsD19dYO94QA==",
            "dtype": "f8"
           }
          },
          {
           "line": {
            "color": "blue",
            "dash": "dash",
            "width": 5
           },
           "marker": {
            "color": "blue",
            "size": 4,
            "symbol": "diamond"
           },
           "mode": "lines+markers",
           "name": "🛡️ 알파→H1",
           "type": "scatter3d",
           "x": {
            "bdata": "AAAAAAAASUCL8ANhrBdSQA==",
            "dtype": "f8"
           },
           "y": {
            "bdata": "AAAAAAAANED6DO7MgVlKQA==",
            "dtype": "f8"
           },
           "z": {
            "bdata": "AAAAAAAAAAB4ENelEEpMQA==",
            "dtype": "f8"
           }
          },
          {
           "line": {
            "color": "orange",
            "width": 4
           },
           "marker": {
            "color": "orange",
            "size": 3
           },
           "mode": "lines+markers",
           "name": "🚀 H2",
           "type": "scatter3d",
           "x": {
            "bdata": "AAAAAACAccAEOQXb6d1wwA==",
            "dtype": "f8"
           },
           "y": {
            "bdata": "AAAAAABAb0BM89oZTBluQA==",
            "dtype": "f8"
           },
           "z": {
            "bdata": "AAAAAADAd0AsD19dYK93QA==",
            "dtype": "f8"
           }
          },
          {
           "line": {
            "color": "cyan",
            "dash": "dash",
            "width": 5
           },
           "marker": {
            "color": "cyan",
            "size": 4,
            "symbol": "diamond"
           },
           "mode": "lines+markers",
           "name": "🛡️ 브라보→H2",
           "type": "scatter3d",
           "x": {
            "bdata": "AAAAAAAARMDFcGinVeFQwA==",
            "dtype": "f8"
           },
           "y": {
            "bdata": "AAAAAAAAPsDwX8uON94SQA==",
            "dtype": "f8"
           },
           "z": {
            "bdata": "AAAAAAAAAADW/ViM8n5KQA==",
            "dtype": "f8"
           }
          },
          {
           "line": {
            "color": "green",
            "width": 4
           },
           "marker": {
            "color": "green",
            "size": 3
           },
           "mode": "lines+markers",
           "name": "🚀 H3",
           "type": "scatter3d",
           "x": {
            "bdata": "AAAAAAAAJEBimtfOYMoeQA==",
            "dtype": "f8"
           },
           "y": {
            "bdata": "AAAAAADgdcB5NmQT+QJ1wA==",
            "dtype": "f8"
           },
           "z": {
            "bdata": "AAAAAABAekAsD19dYC96QA==",
            "dtype": "f8"
           }
          },
          {
           "line": {
            "color": "cyan",
            "dash": "dash",
            "width": 5
           },
           "marker": {
            "color": "cyan",
            "size": 4,
            "symbol": "diamond"
           },
           "mode": "lines+markers",
           "name": "🛡️ 브라보→H3",
           "type": "scatter3d",
           "x": {
            "bdata": "AAAAAAAARMAWNFrvj0JBwA==",
            "dtype": "f8"
           },
           "y": {
            "bdata": "AAAAAAAAPsDvXoCWin9QwA==",
            "dtype": "f8"
           },
           "z": {
            "bdata": "AAAAAAAAAACK4xDFJ1lNQA==",
            "dtype": "f8"
           }
          },
          {
           "line": {
            "color": "purple",
            "width": 4
           },
           "marker": {
            "color": "purple",
            "size": 3
           },
           "mode": "lines+markers",
           "name": "🚀 H4",
           "type": "scatter3d",
           "x": {
            "bdata": "AAAAAADAckAQ2CiQzwdyQA==",
            "dtype": "f8"
           },
           "y": {
            "bdata": "AAAAAAAAJMBTFAg9htclwA==",
            "dtype": "f8"
           },
           "z": {
            "bdata": "AAAAAADgdUAsD19dYM91QA==",
            "dtype": "f8"
           }
          },
          {
           "line": {
            "color": "blue",
            "dash": "dash",
            "width": 5
           },
           "marker": {
            "color": "blue",
            "size": 4,
            "symbol": "diamond"
           },
           "mode": "lines+markers",
           "name": "🛡️ 알파→H4",
           "type": "scatter3d",
           "x": {
            "bdata": "AAAAAAAASUDc/DPsszVVQA==",
            "dtype": "f8"
           },
           "y": {
            "bdata": "AAAAAAAANEDo4mKjrAgrQA==",
            "dtype": "f8"
           },
           "z": {
            "bdata": "AAAAAAAAAABCrl+Jy6RNQA==",
            "dtype": "f8"
           }
          },
          {
           "line": {
            "color": "brown",
            "width": 4
           },
           "marker": {
            "color": "brown",
            "size": 3
           },
           "mode": "lines+markers",
           "name": "🚀 H5",
           "type": "scatter3d",
           "x": {
            "bdata": "AAAAAAAAacB5NmQT+SJowA==",
            "dtype": "f8"
           },
           "y": {
            "bdata": "AAAAAABAb8BM89oZTBluwA==",
            "dtype": "f8"
           },
           "z": {
            "bdata": "AAAAAAAgfEAsD19dYA98QA==",
            "dtype": "f8"
           }
          },
          {
           "line": {
            "color": "cyan",
            "dash": "dash",
            "width": 5
           },
           "marker": {
            "color": "cyan",
            "size": 4,
            "symbol": "diamond"
           },
           "mode": "lines+markers",
           "name": "🛡️ 브라보→H5",
           "type": "scatter3d",
           "x": {
            "bdata": "AAAAAAAARMAE3QWys8xMwA==",
            "dtype": "f8"
           },
           "y": {
            "bdata": "AAAAAAAAPsD3soyRTT5LwA==",
            "dtype": "f8"
           },
           "z": {
            "bdata": "AAAAAAAAAAC+QWt7ARJPQA==",
            "dtype": "f8"
           }
          }
         ],
         "layout": {
          "title": {
           "text": "🚀 다중 위협 분산 대응 시스템 - 시간: 0.46초"
          }
         },
         "name": "11"
        },
        {
         "data": [
          {
           "marker": {
            "color": "red",
            "size": 20,
            "symbol": "diamond"
           },
           "mode": "markers",
           "name": "🏙️ 도시",
           "type": "scatter3d",
           "x": [
            0
           ],
           "y": [
            0
           ],
           "z": [
            0
           ]
          },
          {
           "marker": {
            "color": "blue",
            "size": 15,
            "symbol": "square"
           },
           "mode": "markers",
           "name": "🏭 알파 기지",
           "type": "scatter3d",
           "x": [
            50
           ],
           "y": [
            20
           ],
           "z": [
            0
           ]
          },
          {
           "marker": {
            "color": "cyan",
            "size": 15,
            "symbol": "square"
           },
           "mode": "markers",
           "name": "🏭 브라보 기지",
           "type": "scatter3d",
           "x": [
            -40
           ],
           "y": [
            -30
           ],
           "z": [
            0
           ]
          },
          {
           "line": {
            "color": "red",
            "width": 4
           },
           "marker": {
            "color": "red",
            "size": 3
           },
           "mode": "lines+markers",
           "name": "🚀 H1",
           "type": "scatter3d",
           "x": {
            "bdata": "AAAAAABAb0CZw5GQgf5tQA==",
            "dtype": "f8"
           },
           "y": {
            "bdata": "AAAAAADAckBAGlv6EPdxQA==",
            "dtype": "f8"
           },
           "z": {
            "bdata": "AAAAAAAAeUBfPDxxN+x4QA==",
            "dtype": "f8"
           }
          },
          {
           "line": {
            "color": "blue",
            "dash": "dash",
            "width": 5
           },
           "marker": {
            "color": "blue",
            "size": 4,
            "symbol": "diamond"
           },
           "mode": "lines+markers",
           "name": "🛡️ 알파→H1",
           "type": "scatter3d",
           "x": {
            "bdata": "AAAAAAAASUAj749S05lSQA==",
            "dtype": "f8"
           },
           "y": {
            "bdata": "AAAAAAAANEBtJdX2AdZLQA==",
            "dtype": "f8"
           },
           "z": {
            "bdata": "AAAAAAAAAABTho1Ab9xOQA==",
            "dtype": "f8"
           }
          },
          {
           "line": {
            "color": "orange",
            "width": 4
           },
           "marker": {
            "color": "orange",
            "size": 3
           },
           "mode": "lines+markers",
           "name": "🚀 H2",
           "type": "scatter3d",
           "x": {
            "bdata": "AAAAAACAccBh+BypLc9wwA==",
            "dtype": "f8"
           },
           "y": {
            "bdata": "AAAAAABAb0CZw5GQgf5tQA==",
            "dtype": "f8"
           },
           "z": {
            "bdata": "AAAAAADAd0BfPDxxN6x3QA==",
            "dtype": "f8"
           }
          },
          {
           "line": {
            "color": "cyan",
            "dash": "dash",
            "width": 5
           },
           "marker": {
            "color": "cyan",
            "size": 4,
            "symbol": "diamond"
           },
           "mode": "lines+markers",
           "name": "🛡️ 브라보→H2",
           "type": "scatter3d",
           "x": {
            "bdata": "AAAAAAAARMAGe6C2dIFRwA==",
            "dtype": "f8"
           },
           "y": {
            "bdata": "AAAAAAAAPsB4riMQDn4fQA==",
            "dtype": "f8"
           },
           "z": {
            "bdata": "AAAAAAAAAACi/QM8lOdMQA==",
            "dtype": "f8"
           }
          },
          {
           "line": {
            "color": "green",
            "width": 4
           },
           "marker": {
            "color": "green",
            "size": 3
           },
           "mode": "lines+markers",
           "name": "🚀 H3",
           "type": "scatter3d",
           "x": {
            "bdata": "AAAAAAAAJEDIHI6EDPQdQA==",
            "dtype": "f8"
           },
           "y": {
            "bdata": "AAAAAADgdcCzUm0s4e50wA==",
            "dtype": "f8"
           },
           "z": {
            "bdata": "AAAAAABAekBfPDxxNyx6QA==",
            "dtype": "f8"
           }
          },
          {
           "line": {
            "color": "cyan",
            "dash": "dash",
            "width": 5
           },
           "marker": {
            "color": "cyan",
            "size": 4,
            "symbol": "diamond"
           },
           "mode": "lines+markers",
           "name": "🛡️ 브라보→H3",
           "type": "scatter3d",
           "x": {
            "bdata": "AAAAAAAARMCjfr+QywJBwA==",
            "dtype": "f8"
           },
           "y": {
            "bdata": "AAAAAAAAPsBirRdH9FBRwA==",
            "dtype": "f8"
           },
           "z": {
            "bdata": "AAAAAAAAAAC/B0+xFQJQQA==",
            "dtype": "f8"
           }
          },
          {
           "line": {
            "color": "purple",
            "width": 4
           },
           "marker": {
            "color": "purple",
            "size": 3
           },
           "mode": "lines+markers",
           "name": "🚀 H4",
           "type": "scatter3d",
           "x": {
            "bdata": "AAAAAADAckBAGlv6EPdxQA==",
            "dtype": "f8"
           },
           "y": {
            "bdata": "AAAAAAAAJMByLX3lYwImwA==",
            "dtype": "f8"
           },
           "z": {
            "bdata": "AAAAAADgdUBfPDxxN8x1QA==",
            "dtype": "f8"
           }
          },
          {
           "line": {
            "color": "blue",
            "dash": "dash",
            "width": 5
           },
           "marker": {
            "color": "blue",
            "size": 4,
            "symbol": "diamond"
           },
           "mode": "lines+markers",
           "name": "🛡️ 알파→H4",
           "type": "scatter3d",
           "x": {
            "bdata": "AAAAAAAASUDCtjgwZwBWQA==",
            "dtype": "f8"
           },
           "y": {
            "bdata": "AAAAAAAANECK98jg6topQA==",
            "dtype": "f8"
           },
           "z": {
            "bdata": "AAAAAAAAAABSdku/VytQQA==",
            "dtype": "f8"
           }
          },
          {
           "line": {
            "color": "brown",
            "width": 4
           },
           "marker": {
            "color": "brown",
            "size": 3
           },
           "mode": "lines+markers",
           "name": "🚀 H5",
           "type": "scatter3d",
           "x": {
            "bdata": "AAAAAAAAacCzUm0s4Q5owA==",
            "dtype": "f8"
           },
           "y": {
            "bdata": "AAAAAABAb8CZw5GQgf5twA==",
            "dtype": "f8"
           },
           "z": {
            "bdata": "AAAAAAAgfEBfPDxxNwx8QA==",
            "dtype": "f8"
           }
          },
          {
           "line": {
            "color": "cyan",
            "dash": "dash",
            "width": 5
           },
           "marker": {
            "color": "cyan",
            "size": 4,
            "symbol": "diamond"
           },
           "mode": "lines+markers",
           "name": "🛡️ 브라보→H5",
           "type": "scatter3d",
           "x": {
            "bdata": "AAAAAAAARMBgCJI2fplNwA==",
            "dtype": "f8"
           },
           "y": {
            "bdata": "AAAAAAAAPsCwlPZYPVtMwA==",
            "dtype": "f8"
           },
           "z": {
            "bdata": "AAAAAAAAAACtad1xjPJQQA==",
            "dtype": "f8"
           }
          }
         ],
         "layout": {
          "title": {
           "text": "🚀 다중 위협 분산 대응 시스템 - 시간: 0.50초"
          }
         },
         "name": "12"
        },
        {
         "data": [
          {
           "marker": {
            "color": "red",
            "size": 20,
            "symbol": "diamond"
           },
           "mode": "markers",
           "name": "🏙️ 도시",
           "type": "scatter3d",
           "x": [
            0
           ],
           "y": [
            0
           ],
           "z": [
            0
           ]
          },
          {
           "marker": {
            "color": "blue",
            "size": 15,
            "symbol": "square"
           },
           "mode": "markers",
           "name": "🏭 알파 기지",
           "type": "scatter3d",
           "x": [
            50
           ],
           "y": [
            20
           ],
           "z": [
            0
           ]
          },
          {
           "marker": {
            "color": "cyan",
            "size": 15,
            "symbol": "square"
           },
           "mode": "markers",
           "name": "🏭 브라보 기지",
           "type": "scatter3d",
           "x": [
            -40
           ],
           "y": [
            -30
           ],
           "z": [
            0
           ]
          },
          {
           "line": {
            "color": "red",
            "width": 4
           },
           "marker": {
            "color": "red",
            "size": 3
           },
           "mode": "lines+markers",
           "name": "🚀 H1",
           "type": "scatter3d",
           "x": {
            "bdata": "AAAAAABAb0Dmk0gHt+NtQA==",
            "dtype": "f8"
           },
           "y": {
            "bdata": "AAAAAADAckBwXI1kUuZxQA==",
            "dtype": "f8"
           },
           "z": {
            "bdata": "AAAAAAAAeUCheMgtyOh4QA==",
            "dtype": "f8"
           }
          },
          {
           "line": {
            "color": "blue",
            "dash": "dash",
            "width": 5
           },
           "marker": {
            "color": "blue",
            "size": 4,
            "symbol": "diamond"
           },
           "mode": "lines+markers",
           "name": "🛡️ 알파→H1",
           "type": "scatter3d",
           "x": {
            "bdata": "AAAAAAAASUC77RtE+htTQA==",
            "dtype": "f8"
           },
           "y": {
            "bdata": "AAAAAAAANEDiPbwgglJNQA==",
            "dtype": "f8"
           },
           "z": {
            "bdata": "AAAAAAAAAAAZ/qHtZrdQQA==",
            "dtype": "f8"
           }
          },
          {
           "line": {
            "color": "orange",
            "width": 4
           },
           "marker": {
            "color": "orange",
            "size": 3
           },
           "mode": "lines+markers",
           "name": "🚀 H2",
           "type": "scatter3d",
           "x": {
            "bdata": "AAAAAACAccC+tzR3ccBwwA==",
            "dtype": "f8"
           },
           "y": {
            "bdata": "AAAAAABAb0Dmk0gHt+NtQA==",
            "dtype": "f8"
           },
           "z": {
            "bdata": "AAAAAADAd0CheMgtyKh3QA==",
            "dtype": "f8"
           }
          },
          {
           "line": {
            "color": "cyan",
            "dash": "dash",
            "width": 5
           },
           "marker": {
            "color": "cyan",
            "size": 4,
            "symbol": "diamond"
           },
           "mode": "lines+markers",
           "name": "🛡️ 브라보→H2",
           "type": "scatter3d",
           "x": {
            "bdata": "AAAAAAAARMBGhdjFkyFSwA==",
            "dtype": "f8"
           },
           "y": {
            "bdata": "AAAAAAAAPsCE/r1I8g4mQA==",
            "dtype": "f8"
           },
           "z": {
            "bdata": "AAAAAAAAAABy/a7rNVBPQA==",
            "dtype": "f8"
           }
          },
          {
           "line": {
            "color": "green",
            "width": 4
           },
           "marker": {
            "color": "green",
            "size": 3
           },
           "mode": "lines+markers",
           "name": "🚀 H3",
           "type": "scatter3d",
           "x": {
            "bdata": "AAAAAAAAJEAun0Q6uB0dQA==",
            "dtype": "f8"
           },
           "y": {
            "bdata": "AAAAAADgdcDsbnZFydp0wA==",
            "dtype": "f8"
           },
           "z": {
            "bdata": "AAAAAABAekCheMgtyCh6QA==",
            "dtype": "f8"
           }
          },
          {
           "line": {
            "color": "cyan",
            "dash": "dash",
            "width": 5
           },
           "marker": {
            "color": "cyan",
            "size": 4,
            "symbol": "diamond"
           },
           "mode": "lines+markers",
           "name": "🛡️ 브라보→H3",
           "type": "scatter3d",
           "x": {
            "bdata": "AAAAAAAARMAxySQyB8NAwA==",
            "dtype": "f8"
           },
           "y": {
            "bdata": "AAAAAAAAPsDV+673XSJSwA==",
            "dtype": "f8"
           },
           "z": {
            "bdata": "AAAAAAAAAAC6nRWAl1dRQA==",
            "dtype": "f8"
           }
          },
          {
           "line": {
            "color": "purple",
            "width": 4
           },
           "marker": {
            "color": "purple",
            "size": 3
           },
           "mode": "lines+markers",
           "name": "🚀 H4",
           "type": "scatter3d",
           "x": {
            "bdata": "AAAAAADAckBwXI1kUuZxQA==",
            "dtype": "f8"
           },
           "y": {
            "bdata": "AAAAAAAAJMCQRvKNQS0mwA==",
            "dtype": "f8"
           },
           "z": {
            "bdata": "AAAAAADgdUCheMgtyMh1QA==",
            "dtype": "f8"
           }
          },
          {
           "line": {
            "color": "blue",
            "dash": "dash",
            "width": 5
           },
           "marker": {
            "color": "blue",
            "size": 4,
            "symbol": "diamond"
           },
           "mode": "lines+markers",
           "name": "🛡️ 알파→H4",
           "type": "scatter3d",
           "x": {
            "bdata": "AAAAAAAASUCocD10GstWQA==",
            "dtype": "f8"
           },
           "y": {
            "bdata": "AAAAAAAANEAqDC8eKa0oQA==",
            "dtype": "f8"
           },
           "z": {
            "bdata": "AAAAAAAAAACEFee5SYRRQA==",
            "dtype": "f8"
           }
          },
          {
           "line": {
            "color": "brown",
            "width": 4
           },
           "marker": {
            "color": "brown",
            "size": 3
           },
           "mode": "lines+markers",
           "name": "🚀 H5",
           "type": "scatter3d",
           "x": {
            "bdata": "AAAAAAAAacDsbnZFyfpnwA==",
            "dtype": "f8"
           },
           "y": {
            "bdata": "AAAAAABAb8Dmk0gHt+NtwA==",
            "dtype": "f8"
           },
           "z": {
            "bdata": "AAAAAAAgfECheMgtyAh8QA==",
            "dtype": "f8"
           }
          },
          {
           "line": {
            "color": "cyan",
            "dash": "dash",
            "width": 5
           },
           "marker": {
            "color": "cyan",
            "size": 4,
            "symbol": "diamond"
           },
           "mode": "lines+markers",
           "name": "🛡️ 브라보→H5",
           "type": "scatter3d",
           "x": {
            "bdata": "AAAAAAAARMC+Mx67SGZOwA==",
            "dtype": "f8"
           },
           "y": {
            "bdata": "AAAAAAAAPsBqdmAgLXhNwA==",
            "dtype": "f8"
           },
           "z": {
            "bdata": "AAAAAAAAAAB8MgUmGFxSQA==",
            "dtype": "f8"
           }
          }
         ],
         "layout": {
          "title": {
           "text": "🚀 다중 위협 분산 대응 시스템 - 시간: 0.54초"
          }
         },
         "name": "13"
        },
        {
         "data": [
          {
           "marker": {
            "color": "red",
            "size": 20,
            "symbol": "diamond"
           },
           "mode": "markers",
           "name": "🏙️ 도시",
           "type": "scatter3d",
           "x": [
            0
           ],
           "y": [
            0
           ],
           "z": [
            0
           ]
          },
          {
           "marker": {
            "color": "blue",
            "size": 15,
            "symbol": "square"
           },
           "mode": "markers",
           "name": "🏭 알파 기지",
           "type": "scatter3d",
           "x": [
            50
           ],
           "y": [
            20
           ],
           "z": [
            0
           ]
          },
          {
           "marker": {
            "color": "cyan",
            "size": 15,
            "symbol": "square"
           },
           "mode": "markers",
           "name": "🏭 브라보 기지",
           "type": "scatter3d",
           "x": [
            -40
           ],
           "y": [
            -30
           ],
           "z": [
            0
           ]
          },
          {
           "line": {
            "color": "red",
            "width": 4
           },
           "marker": {
            "color": "red",
            "size": 3
           },
           "mode": "lines+markers",
           "name": "🚀 H1",
           "type": "scatter3d",
           "x": {
            "bdata": "AAAAAABAb0AyZP997MhtQA==",
            "dtype": "f8"
           },
           "y": {
            "bdata": "AAAAAADAckCgnr/Ok9VxQA==",
            "dtype": "f8"
           },
           "z": {
            "bdata": "AAAAAAAAeUDzwwOTEuV4QA==",
            "dtype": "f8"
           }
          },
          {
           "line": {
            "color": "blue",
            "dash": "dash",
            "width": 5
           },
           "marker": {
            "color": "blue",
            "size": 4,
            "symbol": "diamond"
           },
           "mode": "lines+markers",
           "name": "🛡️ 알파→H1",
           "type": "scatter3d",
           "x": {
            "bdata": "AAAAAAAASUBT7Kc1IZ5TQA==",
            "dtype": "f8"
           },
           "y": {
            "bdata": "AAAAAAAANEBVVqNKAs9OQA==",
            "dtype": "f8"
           },
           "z": {
            "bdata": "AAAAAAAAAAAGOf06lgBSQA==",
            "dtype": "f8"
           }
          },
          {
           "line": {
            "color": "orange",
            "width": 4
           },
           "marker": {
            "color": "orange",
            "size": 3
           },
           "mode": "lines+markers",
           "name": "🚀 H2",
           "type": "scatter3d",
           "x": {
            "bdata": "AAAAAACAccAcd0xFtbFwwA==",
            "dtype": "f8"
           },
           "y": {
            "bdata": "AAAAAABAb0AyZP997MhtQA==",
            "dtype": "f8"
           },
           "z": {
            "bdata": "AAAAAADAd0DzwwOTEqV3QA==",
            "dtype": "f8"
           }
          },
          {
           "line": {
            "color": "cyan",
            "dash": "dash",
            "width": 5
           },
           "marker": {
            "color": "cyan",
            "size": 4,
            "symbol": "diamond"
           },
           "mode": "lines+markers",
           "name": "🛡️ 브라보→H2",
           "type": "scatter3d",
           "x": {
            "bdata": "AAAAAAAARMCGjxDVssFSwA==",
            "dtype": "f8"
           },
           "y": {
            "bdata": "AAAAAAAAPsDIJWqJ3V4sQA==",
            "dtype": "f8"
           },
           "z": {
            "bdata": "AAAAAAAAAACf/qzNa9xQQA==",
            "dtype": "f8"
           }
          },
          {
           "line": {
            "color": "green",
            "width": 4
           },
           "marker": {
            "color": "green",
            "size": 3
           },
           "mode": "lines+markers",
           "name": "🚀 H3",
           "type": "scatter3d",
           "x": {
            "bdata": "AAAAAAAAJECUIfvvY0ccQA==",
            "dtype": "f8"
           },
           "y": {
            "bdata": "AAAAAADgdcAmi39escZ0wA==",
            "dtype": "f8"
           },
           "z": {
            "bdata": "AAAAAABAekDzwwOTEiV6QA==",
            "dtype": "f8"
           }
          },
          {
           "line": {
            "color": "cyan",
            "dash": "dash",
            "width": 5
           },
           "marker": {
            "color": "cyan",
            "size": 4,
            "symbol": "diamond"
           },
           "mode": "lines+markers",
           "name": "🛡️ 브라보→H3",
           "type": "scatter3d",
           "x": {
            "bdata": "AAAAAAAARMC+E4rTQoNAwA==",
            "dtype": "f8"
           },
           "y": {
            "bdata": "AAAAAAAAPsBHSkaox/NSwA==",
            "dtype": "f8"
           },
           "z": {
            "bdata": "AAAAAAAAAAC0M9xOGa1SQA==",
            "dtype": "f8"
           }
          },
          {
           "line": {
            "color": "purple",
            "width": 4
           },
           "marker": {
            "color": "purple",
            "size": 3
           },
           "mode": "lines+markers",
           "name": "🚀 H4",
           "type": "scatter3d",
           "x": {
            "bdata": "AAAAAADAckCgnr/Ok9VxQA==",
            "dtype": "f8"
           },
           "y": {
            "bdata": "AAAAAAAAJMCvX2c2H1gmwA==",
            "dtype": "f8"
           },
           "z": {
            "bdata": "AAAAAADgdUDzwwOTEsV1QA==",
            "dtype": "f8"
           }
          },
          {
           "line": {
            "color": "blue",
            "dash": "dash",
            "width": 5
           },
           "marker": {
            "color": "blue",
            "size": 4,
            "symbol": "diamond"
           },
           "mode": "lines+markers",
           "name": "🛡️ 알파→H4",
           "type": "scatter3d",
           "x": {
            "bdata": "AAAAAAAASUCMKkK4zZVXQA==",
            "dtype": "f8"
           },
           "y": {
            "bdata": "AAAAAAAANEDLIJVbZ38nQA==",
            "dtype": "f8"
           },
           "z": {
            "bdata": "AAAAAAAAAAC1tIK0O91SQA==",
            "dtype": "f8"
           }
          },
          {
           "line": {
            "color": "brown",
            "width": 4
           },
           "marker": {
            "color": "brown",
            "size": 3
           },
           "mode": "lines+markers",
           "name": "🚀 H5",
           "type": "scatter3d",
           "x": {
            "bdata": "AAAAAAAAacAmi39eseZnwA==",
            "dtype": "f8"
           },
           "y": {
            "bdata": "AAAAAABAb8AyZP997MhtwA==",
            "dtype": "f8"
           },
           "z": {
            "bdata": "AAAAAAAgfEDzwwOTEgV8QA==",
            "dtype": "f8"
           }
          },
          {
           "line": {
            "color": "cyan",
            "dash": "dash",
            "width": 5
           },
           "marker": {
            "color": "cyan",
            "size": 4,
            "symbol": "diamond"
           },
           "mode": "lines+markers",
           "name": "🛡️ 브라보→H5",
           "type": "scatter3d",
           "x": {
            "bdata": "AAAAAAAARMAcX6o/EzNPwA==",
            "dtype": "f8"
           },
           "y": {
            "bdata": "AAAAAAAAPsAjWMrnHJVOwA==",
            "dtype": "f8"
           },
           "z": {
            "bdata": "AAAAAAAAAABK+yzao8VTQA==",
            "dtype": "f8"
           }
          }
         ],
         "layout": {
          "title": {
           "text": "🚀 다중 위협 분산 대응 시스템 - 시간: 0.59초"
          }
         },
         "name": "14"
        },
        {
         "data": [
          {
           "marker": {
            "color": "red",
            "size": 20,
            "symbol": "diamond"
           },
           "mode": "markers",
           "name": "🏙️ 도시",
           "type": "scatter3d",
           "x": [
            0
           ],
           "y": [
            0
           ],
           "z": [
            0
           ]
          },
          {
           "marker": {
            "color": "blue",
            "size": 15,
            "symbol": "square"
           },
           "mode": "markers",
           "name": "🏭 알파 기지",
           "type": "scatter3d",
           "x": [
            50
           ],
           "y": [
            20
           ],
           "z": [
            0
           ]
          },
          {
           "marker": {
            "color": "cyan",
            "size": 15,
            "symbol": "square"
           },
           "mode": "markers",
           "name": "🏭 브라보 기지",
           "type": "scatter3d",
           "x": [
            -40
           ],
           "y": [
            -30
           ],
           "z": [
            0
           ]
          },
          {
           "line": {
            "color": "red",
            "width": 4
           },
           "marker": {
            "color": "red",
            "size": 3
           },
           "mode": "lines+markers",
           "name": "🚀 H1",
           "type": "scatter3d",
           "x": {
            "bdata": "AAAAAABAb0B/NLb0Ia5tQA==",
            "dtype": "f8"
           },
           "y": {
            "bdata": "AAAAAADAckDP4PE41cRxQA==",
            "dtype": "f8"
           },
           "z": {
            "bdata": "AAAAAAAAeUBVHu6gFuF4QA==",
            "dtype": "f8"
           }
          },
          {
           "line": {
            "color": "blue",
            "dash": "dash",
            "width": 5
           },
           "marker": {
            "color": "blue",
            "size": 4,
            "symbol": "diamond"
           },
           "mode": "lines+markers",
           "name": "🛡️ 알파→H1",
           "type": "scatter3d",
           "x": {
            "bdata": "AAAAAAAASUDs6jMnSCBUQA==",
            "dtype": "f8"
           },
           "y": {
            "bdata": "AAAAAAAANEBkN0U6wSVQQA==",
            "dtype": "f8"
           },
           "z": {
            "bdata": "AAAAAAAAAAD0c1iIxUlTQA==",
            "dtype": "f8"
           }
          },
          {
           "line": {
            "color": "orange",
            "width": 4
           },
           "marker": {
            "color": "orange",
            "size": 3
           },
           "mode": "lines+markers",
           "name": "🚀 H2",
           "type": "scatter3d",
           "x": {
            "bdata": "AAAAAACAccB5NmQT+aJwwA==",
            "dtype": "f8"
           },
           "y": {
            "bdata": "AAAAAABAb0B/NLb0Ia5tQA==",
            "dtype": "f8"
           },
           "z": {
            "bdata": "AAAAAADAd0BVHu6gFqF3QA==",
            "dtype": "f8"
           }
          },
          {
           "line": {
            "color": "cyan",
            "dash": "dash",
            "width": 5
           },
           "marker": {
            "color": "cyan",
            "size": 4,
            "symbol": "diamond"
           },
           "mode": "lines+markers",
           "name": "🛡️ 브라보→H2",
           "type": "scatter3d",
           "x": {
            "bdata": "AAAAAAAARMDHmUjk0WFTwA==",
            "dtype": "f8"
           },
           "y": {
            "bdata": "AAAAAAAAPsCGJgtlZFcxQA==",
            "dtype": "f8"
           },
           "z": {
            "bdata": "AAAAAAAAAACGfoKlvBBSQA==",
            "dtype": "f8"
           }
          },
          {
           "line": {
            "color": "green",
            "width": 4
           },
           "marker": {
            "color": "green",
            "size": 3
           },
           "mode": "lines+markers",
           "name": "🚀 H3",
           "type": "scatter3d",
           "x": {
            "bdata": "AAAAAAAAJED6o7GlD3EbQA==",
            "dtype": "f8"
           },
           "y": {
            "bdata": "AAAAAADgdcBfp4h3mbJ0wA==",
            "dtype": "f8"
           },
           "z": {
            "bdata": "AAAAAABAekBVHu6gFiF6QA==",
            "dtype": "f8"
           }
          },
          {
           "line": {
            "color": "cyan",
            "dash": "dash",
            "width": 5
           },
           "marker": {
            "color": "cyan",
            "size": 4,
            "symbol": "diamond"
           },
           "mode": "lines+markers",
           "name": "🛡️ 브라보→H3",
           "type": "scatter3d",
           "x": {
            "bdata": "AAAAAAAARMBMXu90fkNAwA==",
            "dtype": "f8"
           },
           "y": {
            "bdata": "AAAAAAAAPsC6mN1YMcVTwA==",
            "dtype": "f8"
           },
           "z": {
            "bdata": "AAAAAAAAAACvyaIdmwJUQA==",
            "dtype": "f8"
           }
          },
          {
           "line": {
            "color": "purple",
            "width": 4
           },
           "marker": {
            "color": "purple",
            "size": 3
           },
           "mode": "lines+markers",
           "name": "🚀 H4",
           "type": "scatter3d",
           "x": {
            "bdata": "AAAAAADAckDP4PE41cRxQA==",
            "dtype": "f8"
           },
           "y": {
            "bdata": "AAAAAAAAJMDOeNze/IImwA==",
            "dtype": "f8"
           },
           "z": {
            "bdata": "AAAAAADgdUBVHu6gFsF1QA==",
            "dtype": "f8"
           }
          },
          {
           "line": {
            "color": "blue",
            "dash": "dash",
            "width": 5
           },
           "marker": {
            "color": "blue",
            "size": 4,
            "symbol": "diamond"
           },
           "mode": "lines+markers",
           "name": "🛡️ 알파→H4",
           "type": "scatter3d",
           "x": {
            "bdata": "AAAAAAAASUBy5Eb8gGBYQA==",
            "dtype": "f8"
           },
           "y": {
            "bdata": "AAAAAAAANEBsNfuYpVEmQA==",
            "dtype": "f8"
           },
           "z": {
            "bdata": "AAAAAAAAAADnUx6vLTZUQA==",
            "dtype": "f8"
           }
          },
          {
           "line": {
            "color": "brown",
            "width": 4
           },
           "marker": {
            "color": "brown",
            "size": 3
           },
           "mode": "lines+markers",
           "name": "🚀 H5",
           "type": "scatter3d",
           "x": {
            "bdata": "AAAAAAAAacBfp4h3mdJnwA==",
            "dtype": "f8"
           },
           "y": {
            "bdata": "AAAAAABAb8B/NLb0Ia5twA==",
            "dtype": "f8"
           },
           "z": {
            "bdata": "AAAAAAAgfEBVHu6gFgF8QA==",
            "dtype": "f8"
           }
          },
          {
           "line": {
            "color": "cyan",
            "dash": "dash",
            "width": 5
           },
           "marker": {
            "color": "cyan",
            "size": 4,
            "symbol": "diamond"
           },
           "mode": "lines+markers",
           "name": "🛡️ 브라보→H5",
           "type": "scatter3d",
           "x": {
            "bdata": "AAAAAAAARMB5ijbE3f9PwA==",
            "dtype": "f8"
           },
           "y": {
            "bdata": "AAAAAAAAPsDcOTSvDLJPwA==",
            "dtype": "f8"
           },
           "z": {
            "bdata": "AAAAAAAAAAAZxFSOLy9VQA==",
            "dtype": "f8"
           }
          }
         ],
         "layout": {
          "title": {
           "text": "🚀 다중 위협 분산 대응 시스템 - 시간: 0.63초"
          }
         },
         "name": "15"
        },
        {
         "data": [
          {
           "marker": {
            "color": "red",
            "size": 20,
            "symbol": "diamond"
           },
           "mode": "markers",
           "name": "🏙️ 도시",
           "type": "scatter3d",
           "x": [
            0
           ],
           "y": [
            0
           ],
           "z": [
            0
           ]
          },
          {
           "marker": {
            "color": "blue",
            "size": 15,
            "symbol": "square"
           },
           "mode": "markers",
           "name": "🏭 알파 기지",
           "type": "scatter3d",
           "x": [
            50
           ],
           "y": [
            20
           ],
           "z": [
            0
           ]
          },
          {
           "marker": {
            "color": "cyan",
            "size": 15,
            "symbol": "square"
           },
           "mode": "markers",
           "name": "🏭 브라보 기지",
           "type": "scatter3d",
           "x": [
            -40
           ],
           "y": [
            -30
           ],
           "z": [
            0
           ]
          },
          {
           "line": {
            "color": "red",
            "width": 4
           },
           "marker": {
            "color": "red",
            "size": 3
           },
           "mode": "lines+markers",
           "name": "🚀 H1",
           "type": "scatter3d",
           "x": {
            "bdata": "AAAAAABAb0DMBG1rV5NtQA==",
            "dtype": "f8"
           },
           "y": {
            "bdata": "AAAAAADAckAAIySjFrRxQA==",
            "dtype": "f8"
           },
           "z": {
            "bdata": "AAAAAAAAeUDGh4dX1Nx4QA==",
            "dtype": "f8"
           }
          },
          {
           "line": {
            "color": "blue",
            "dash": "dash",
            "width": 5
           },
           "marker": {
            "color": "blue",
            "size": 4,
            "symbol": "diamond"
           },
           "mode": "lines+markers",
           "name": "🛡️ 알파→H1",
           "type": "scatter3d",
           "x": {
            "bdata": "AAAAAAAASUCE6b8Yb6JUQA==",
            "dtype": "f8"
           },
           "y": {
            "bdata": "AAAAAAAANECewzhPAeRQQA==",
            "dtype": "f8"
           },
           "z": {
            "bdata": "AAAAAAAAAADjrrPV9JJUQA==",
            "dtype": "f8"
           }
          },
          {
           "line": {
            "color": "orange",
            "width": 4
           },
           "marker": {
            "color": "orange",
            "size": 3
           },
           "mode": "lines+markers",
           "name": "🚀 H2",
           "type": "scatter3d",
           "x": {
            "bdata": "AAAAAACAccDX9XvhPJRwwA==",
            "dtype": "f8"
           },
           "y": {
            "bdata": "AAAAAABAb0DMBG1rV5NtQA==",
            "dtype": "f8"
           },
           "z": {
            "bdata": "AAAAAADAd0DGh4dX1Jx3QA==",
            "dtype": "f8"
           }
          },
          {
           "line": {
            "color": "cyan",
            "dash": "dash",
            "width": 5
           },
           "marker": {
            "color": "cyan",
            "size": 4,
            "symbol": "diamond"
           },
           "mode": "lines+markers",
           "name": "🛡️ 브라보→H2",
           "type": "scatter3d",
           "x": {
            "bdata": "AAAAAAAARMAIpIDz8AFUwA==",
            "dtype": "f8"
           },
           "y": {
            "bdata": "AAAAAAAAPsAqOmEFWn80QA==",
            "dtype": "f8"
           },
           "z": {
            "bdata": "AAAAAAAAAABt/ld9DUVTQA==",
            "dtype": "f8"
           }
          },
          {
           "line": {
            "color": "green",
            "width": 4
           },
           "marker": {
            "color": "green",
            "size": 3
           },
           "mode": "lines+markers",
           "name": "🚀 H3",
           "type": "scatter3d",
           "x": {
            "bdata": "AAAAAAAAJEBgJmhbu5oaQA==",
            "dtype": "f8"
           },
           "y": {
            "bdata": "AAAAAADgdcCZw5GQgZ50wA==",
            "dtype": "f8"
           },
           "z": {
            "bdata": "AAAAAABAekDGh4dX1Bx6QA==",
            "dtype": "f8"
           }
          },
          {
           "line": {
            "color": "cyan",
            "dash": "dash",
            "width": 5
           },
           "marker": {
            "color": "cyan",
            "size": 4,
            "symbol": "diamond"
           },
           "mode": "lines+markers",
           "name": "🛡️ 브라보→H3",
           "type": "scatter3d",
           "x": {
            "bdata": "AAAAAAAARMDZqFQWugNAwA==",
            "dtype": "f8"
           },
           "y": {
            "bdata": "AAAAAAAAPsAt53QJm5ZUwA==",
            "dtype": "f8"
           },
           "z": {
            "bdata": "AAAAAAAAAACqX2nsHFhVQA==",
            "dtype": "f8"
           }
          },
          {
           "line": {
            "color": "purple",
            "width": 4
           },
           "marker": {
            "color": "purple",
            "size": 3
           },
           "mode": "lines+markers",
           "name": "🚀 H4",
           "type": "scatter3d",
           "x": {
            "bdata": "AAAAAADAckAAIySjFrRxQA==",
            "dtype": "f8"
           },
           "y": {
            "bdata": "AAAAAAAAJMDtkVGH2q0mwA==",
            "dtype": "f8"
           },
           "z": {
            "bdata": "AAAAAADgdUDGh4dX1Lx1QA==",
            "dtype": "f8"
           }
          },
          {
           "line": {
            "color": "blue",
            "dash": "dash",
            "width": 5
           },
           "marker": {
            "color": "blue",
            "size": 4,
            "symbol": "diamond"
           },
           "mode": "lines+markers",
           "name": "🛡️ 알파→H4",
           "type": "scatter3d",
           "x": {
            "bdata": "AAAAAAAASUBYnktANCtZQA==",
            "dtype": "f8"
           },
           "y": {
            "bdata": "AAAAAAAANEAMSmHW4yMlQA==",
            "dtype": "f8"
           },
           "z": {
            "bdata": "AAAAAAAAAAAZ87mpH49VQA==",
            "dtype": "f8"
           }
          },
          {
           "line": {
            "color": "brown",
            "width": 4
           },
           "marker": {
            "color": "brown",
            "size": 3
           },
           "mode": "lines+markers",
           "name": "🚀 H5",
           "type": "scatter3d",
           "x": {
            "bdata": "AAAAAAAAacCZw5GQgb5nwA==",
            "dtype": "f8"
           },
           "y": {
            "bdata": "AAAAAABAb8DMBG1rV5NtwA==",
            "dtype": "f8"
           },
           "z": {
            "bdata": "AAAAAAAgfEDGh4dX1Px7QA==",
            "dtype": "f8"
           }
          },
          {
           "line": {
            "color": "cyan",
            "dash": "dash",
            "width": 5
           },
           "marker": {
            "color": "cyan",
            "size": 4,
            "symbol": "diamond"
           },
           "mode": "lines+markers",
           "name": "🛡️ 브라보→H5",
           "type": "scatter3d",
           "x": {
            "bdata": "AAAAAAAARMDrWmEkVGZQwA==",
            "dtype": "f8"
           },
           "y": {
            "bdata": "AAAAAAAAPsDLDU87fmdQwA==",
            "dtype": "f8"
           },
           "z": {
            "bdata": "AAAAAAAAAADnjHxCu5hWQA==",
            "dtype": "f8"
           }
          }
         ],
         "layout": {
          "title": {
           "text": "🚀 다중 위협 분산 대응 시스템 - 시간: 0.67초"
          }
         },
         "name": "16"
        },
        {
         "data": [
          {
           "marker": {
            "color": "red",
            "size": 20,
            "symbol": "diamond"
           },
           "mode": "markers",
           "name": "🏙️ 도시",
           "type": "scatter3d",
           "x": [
            0
           ],
           "y": [
            0
           ],
           "z": [
            0
           ]
          },
          {
           "marker": {
            "color": "blue",
            "size": 15,
            "symbol": "square"
           },
           "mode": "markers",
           "name": "🏭 알파 기지",
           "type": "scatter3d",
           "x": [
            50
           ],
           "y": [
            20
           ],
           "z": [
            0
           ]
          },
          {
           "marker": {
            "color": "cyan",
            "size": 15,
            "symbol": "square"
           },
           "mode": "markers",
           "name": "🏭 브라보 기지",
           "type": "scatter3d",
           "x": [
            -40
           ],
           "y": [
            -30
           ],
           "z": [
            0
           ]
          },
          {
           "line": {
            "color": "red",
            "width": 4
           },
           "marker": {
            "color": "red",
            "size": 3
           },
           "mode": "lines+markers",
           "name": "🚀 H1",
           "type": "scatter3d",
           "x": {
            "bdata": "AAAAAABAb0AZ1SPijHhtQA==",
            "dtype": "f8"
           },
           "y": {
            "bdata": "AAAAAADAckAvZVYNWKNxQA==",
            "dtype": "f8"
           },
           "z": {
            "bdata": "AAAAAAAAeUBGANC2S9h4QA==",
            "dtype": "f8"
           }
          },
          {
           "line": {
            "color": "blue",
            "dash": "dash",
            "width": 5
           },
           "marker": {
            "color": "blue",
            "size": 4,
            "symbol": "diamond"
           },
           "mode": "lines+markers",
           "name": "🛡️ 알파→H1",
           "type": "scatter3d",
           "x": {
            "bdata": "AAAAAAAASUAc6EsKliRVQA==",
            "dtype": "f8"
           },
           "y": {
            "bdata": "AAAAAAAANEDYTyxkQaJRQA==",
            "dtype": "f8"
           },
           "z": {
            "bdata": "AAAAAAAAAADQ6Q4jJNxVQA==",
            "dtype": "f8"
           }
          },
          {
           "line": {
            "color": "orange",
            "width": 4
           },
           "marker": {
            "color": "orange",
            "size": 3
           },
           "mode": "lines+markers",
           "name": "🚀 H2",
           "type": "scatter3d",
           "x": {
            "bdata": "AAAAAACAccA0tZOvgIVwwA==",
            "dtype": "f8"
           },
           "y": {
            "bdata": "AAAAAABAb0AZ1SPijHhtQA==",
            "dtype": "f8"
           },
           "z": {
            "bdata": "AAAAAADAd0BGANC2S5h3QA==",
            "dtype": "f8"
           }
          },
          {
           "line": {
            "color": "cyan",
            "dash": "dash",
            "width": 5
           },
           "marker": {
            "color": "cyan",
            "size": 4,
            "symbol": "diamond"
           },
           "mode": "lines+markers",
           "name": "🛡️ 브라보→H2",
           "type": "scatter3d",
           "x": {
            "bdata": "AAAAAAAARMBIrrgCEKJUwA==",
            "dtype": "f8"
           },
           "y": {
            "bdata": "AAAAAAAAPsDKTbelT6c3QA==",
            "dtype": "f8"
           },
           "z": {
            "bdata": "AAAAAAAAAABTfi1VXnlUQA==",
            "dtype": "f8"
           }
          },
          {
           "line": {
            "color": "green",
            "width": 4
           },
           "marker": {
            "color": "green",
            "size": 3
           },
           "mode": "lines+markers",
           "name": "🚀 H3",
           "type": "scatter3d",
           "x": {
            "bdata": "AAAAAAAAJEDGqB4RZ8QZQA==",
            "dtype": "f8"
           },
           "y": {
            "bdata": "AAAAAADgdcDT35qpaYp0wA==",
            "dtype": "f8"
           },
           "z": {
            "bdata": "AAAAAABAekBGANC2Sxh6QA==",
            "dtype": "f8"
           }
          },
          {
           "line": {
            "color": "cyan",
            "dash": "dash",
            "width": 5
           },
           "marker": {
            "color": "cyan",
            "size": 4,
            "symbol": "diamond"
           },
           "mode": "lines+markers",
           "name": "🛡️ 브라보→H3",
           "type": "scatter3d",
           "x": {
            "bdata": "AAAAAAAARMDO5nNv64c/wA==",
            "dtype": "f8"
           },
           "y": {
            "bdata": "AAAAAAAAPsCgNQy6BGhVwA==",
            "dtype": "f8"
           },
           "z": {
            "bdata": "AAAAAAAAAACk9S+7nq1WQA==",
            "dtype": "f8"
           }
          },
          {
           "line": {
            "color": "purple",
            "width": 4
           },
           "marker": {
            "color": "purple",
            "size": 3
           },
           "mode": "lines+markers",
           "name": "🚀 H4",
           "type": "scatter3d",
           "x": {
            "bdata": "AAAAAADAckAvZVYNWKNxQA==",
            "dtype": "f8"
           },
           "y": {
            "bdata": "AAAAAAAAJMAMq8YvuNgmwA==",
            "dtype": "f8"
           },
           "z": {
            "bdata": "AAAAAADgdUBGANC2S7h1QA==",
            "dtype": "f8"
           }
          },
          {
           "line": {
            "color": "blue",
            "dash": "dash",
            "width": 5
           },
           "marker": {
            "color": "blue",
            "size": 4,
            "symbol": "diamond"
           },
           "mode": "lines+markers",
           "name": "🛡️ 알파→H4",
           "type": "scatter3d",
           "x": {
            "bdata": "AAAAAAAASUA9WFCE5/VZQA==",
            "dtype": "f8"
           },
           "y": {
            "bdata": "AAAAAAAANECuXscTIvYjQA==",
            "dtype": "f8"
           },
           "z": {
            "bdata": "AAAAAAAAAABJklWkEehWQA==",
            "dtype": "f8"
           }
          },
          {
           "line": {
            "color": "brown",
            "width": 4
           },
           "marker": {
            "color": "brown",
            "size": 3
           },
           "mode": "lines+markers",
           "name": "🚀 H5",
           "type": "scatter3d",
           "x": {
            "bdata": "AAAAAAAAacDT35qpaapnwA==",
            "dtype": "f8"
           },
           "y": {
            "bdata": "AAAAAABAb8AZ1SPijHhtwA==",
            "dtype": "f8"
           },
           "z": {
            "bdata": "AAAAAAAgfEBGANC2S/h7QA==",
            "dtype": "f8"
           }
          },
          {
           "line": {
            "color": "cyan",
            "dash": "dash",
            "width": 5
           },
           "marker": {
            "color": "cyan",
            "size": 4,
            "symbol": "diamond"
           },
           "mode": "lines+markers",
           "name": "🛡️ 브라보→H5",
           "type": "scatter3d",
           "x": {
            "bdata": "AAAAAAAARMCacKdmucxQwA==",
            "dtype": "f8"
           },
           "y": {
            "bdata": "AAAAAAAAPsCo/gMf9vVQwA==",
            "dtype": "f8"
           },
           "z": {
            "bdata": "AAAAAAAAAAC1VaT2RgJYQA==",
            "dtype": "f8"
           }
          }
         ],
         "layout": {
          "title": {
           "text": "🚀 다중 위협 분산 대응 시스템 - 시간: 0.71초"
          }
         },
         "name": "17"
        },
        {
         "data": [
          {
           "marker": {
            "color": "red",
            "size": 20,
            "symbol": "diamond"
           },
           "mode": "markers",
           "name": "🏙️ 도시",
           "type": "scatter3d",
           "x": [
            0
           ],
           "y": [
            0
           ],
           "z": [
            0
           ]
          },
          {
           "marker": {
            "color": "blue",
            "size": 15,
            "symbol": "square"
           },
           "mode": "markers",
           "name": "🏭 알파 기지",
           "type": "scatter3d",
           "x": [
            50
           ],
           "y": [
            20
           ],
           "z": [
            0
           ]
          },
          {
           "marker": {
            "color": "cyan",
            "size": 15,
            "symbol": "square"
           },
           "mode": "markers",
           "name": "🏭 브라보 기지",
           "type": "scatter3d",
           "x": [
            -40
           ],
           "y": [
            -30
           ],
           "z": [
            0
           ]
          },
          {
           "line": {
            "color": "red",
            "width": 4
           },
           "marker": {
            "color": "red",
            "size": 3
           },
           "mode": "lines+markers",
           "name": "🚀 H1",
           "type": "scatter3d",
           "x": {
            "bdata": "AAAAAABAb0BlpdpYwl1tQA==",
            "dtype": "f8"
           },
           "y": {
            "bdata": "AAAAAADAckBfp4h3mZJxQA==",
            "dtype": "f8"
           },
           "z": {
            "bdata": "AAAAAAAAeUDWh8e+fNN4QA==",
            "dtype": "f8"
           }
          },
          {
           "line": {
            "color": "blue",
            "dash": "dash",
            "width": 5
           },
           "marker": {
            "color": "blue",
            "size": 4,
            "symbol": "diamond"
           },
           "mode": "lines+markers",
           "name": "🛡️ 알파→H1",
           "type": "scatter3d",
           "x": {
            "bdata": "AAAAAAAASUC05tf7vKZVQA==",
            "dtype": "f8"
           },
           "y": {
            "bdata": "AAAAAAAANEAS3B95gWBSQA==",
            "dtype": "f8"
           },
           "z": {
            "bdata": "AAAAAAAAAAC/JGpwUyVXQA==",
            "dtype": "f8"
           }
          },
          {
           "line": {
            "color": "orange",
            "width": 4
           },
           "marker": {
            "color": "orange",
            "size": 3
           },
           "mode": "lines+markers",
           "name": "🚀 H2",
           "type": "scatter3d",
           "x": {
            "bdata": "AAAAAACAccCRdKt9xHZwwA==",
            "dtype": "f8"
           },
           "y": {
            "bdata": "AAAAAABAb0BlpdpYwl1tQA==",
            "dtype": "f8"
           },
           "z": {
            "bdata": "AAAAAADAd0DWh8e+fJN3QA==",
            "dtype": "f8"
           }
          },
          {
           "line": {
            "color": "cyan",
            "dash": "dash",
            "width": 5
           },
           "marker": {
            "color": "cyan",
            "size": 4,
            "symbol": "diamond"
           },
           "mode": "lines+markers",
           "name": "🛡️ 브라보→H2",
           "type": "scatter3d",
           "x": {
            "bdata": "AAAAAAAARMCIuPARL0JVwA==",
            "dtype": "f8"
           },
           "y": {
            "bdata": "AAAAAAAAPsBuYQ1GRc86QA==",
            "dtype": "f8"
           },
           "z": {
            "bdata": "AAAAAAAAAAA6/gItr61VQA==",
            "dtype": "f8"
           }
          },
          {
           "line": {
            "color": "green",
            "width": 4
           },
           "marker": {
            "color": "green",
            "size": 3
           },
           "mode": "lines+markers",
           "name": "🚀 H3",
           "type": "scatter3d",
           "x": {
            "bdata": "AAAAAAAAJEAsK9XGEu4YQA==",
            "dtype": "f8"
           },
           "y": {
            "bdata": "AAAAAADgdcAM/KPCUXZ0wA==",
            "dtype": "f8"
           },
           "z": {
            "bdata": "AAAAAABAekDWh8e+fBN6QA==",
            "dtype": "f8"
           }
          },
          {
           "line": {
            "color": "cyan",
            "dash": "dash",
            "width": 5
           },
           "marker": {
            "color": "cyan",
            "size": 4,
            "symbol": "diamond"
           },
           "mode": "lines+markers",
           "name": "🛡️ 브라보→H3",
           "type": "scatter3d",
           "x": {
            "bdata": "AAAAAAAARMDqez6yYgg/wA==",
            "dtype": "f8"
           },
           "y": {
            "bdata": "AAAAAAAAPsAShKNqbjlWwA==",
            "dtype": "f8"
           },
           "z": {
            "bdata": "AAAAAAAAAACfi/aJIANYQA==",
            "dtype": "f8"
           }
          },
          {
           "line": {
            "color": "purple",
            "width": 4
           },
           "marker": {
            "color": "purple",
            "size": 3
           },
           "mode": "lines+markers",
           "name": "🚀 H4",
           "type": "scatter3d",
           "x": {
            "bdata": "AAAAAADAckBfp4h3mZJxQA==",
            "dtype": "f8"
           },
           "y": {
            "bdata": "AAAAAAAAJMAqxDvYlQMnwA==",
            "dtype": "f8"
           },
           "z": {
            "bdata": "AAAAAADgdUDWh8e+fLN1QA==",
            "dtype": "f8"
           }
          },
          {
           "line": {
            "color": "blue",
            "dash": "dash",
            "width": 5
           },
           "marker": {
            "color": "blue",
            "size": 4,
            "symbol": "diamond"
           },
           "mode": "lines+markers",
           "name": "🛡️ 알파→H4",
           "type": "scatter3d",
           "x": {
            "bdata": "AAAAAAAASUAiElXImsBaQA==",
            "dtype": "f8"
           },
           "y": {
            "bdata": "AAAAAAAANEBOcy1RYMgiQA==",
            "dtype": "f8"
           },
           "z": {
            "bdata": "AAAAAAAAAAB7MfGeA0FYQA==",
            "dtype": "f8"
           }
          },
          {
           "line": {
            "color": "brown",
            "width": 4
           },
           "marker": {
            "color": "brown",
            "size": 3
           },
           "mode": "lines+markers",
           "name": "🚀 H5",
           "type": "scatter3d",
           "x": {
            "bdata": "AAAAAAAAacAM/KPCUZZnwA==",
            "dtype": "f8"
           },
           "y": {
            "bdata": "AAAAAABAb8BlpdpYwl1twA==",
            "dtype": "f8"
           },
           "z": {
            "bdata": "AAAAAAAgfEDWh8e+fPN7QA==",
            "dtype": "f8"
           }
          },
          {
           "line": {
            "color": "cyan",
            "dash": "dash",
            "width": 5
           },
           "marker": {
            "color": "cyan",
            "size": 4,
            "symbol": "diamond"
           },
           "mode": "lines+markers",
           "name": "🛡️ 브라보→H5",
           "type": "scatter3d",
           "x": {
            "bdata": "AAAAAAAARMBIhu2oHjNRwA==",
            "dtype": "f8"
           },
           "y": {
            "bdata": "AAAAAAAAPsCE77gCboRRwA==",
            "dtype": "f8"
           },
           "z": {
            "bdata": "AAAAAAAAAACEHsyq0mtZQA==",
            "dtype": "f8"
           }
          }
         ],
         "layout": {
          "title": {
           "text": "🚀 다중 위협 분산 대응 시스템 - 시간: 0.75초"
          }
         },
         "name": "18"
        },
        {
         "data": [
          {
           "marker": {
            "color": "red",
            "size": 20,
            "symbol": "diamond"
           },
           "mode": "markers",
           "name": "🏙️ 도시",
           "type": "scatter3d",
           "x": [
            0
           ],
           "y": [
            0
           ],
           "z": [
            0
           ]
          },
          {
           "marker": {
            "color": "blue",
            "size": 15,
            "symbol": "square"
           },
           "mode": "markers",
           "name": "🏭 알파 기지",
           "type": "scatter3d",
           "x": [
            50
           ],
           "y": [
            20
           ],
           "z": [
            0
           ]
          },
          {
           "marker": {
            "color": "cyan",
            "size": 15,
            "symbol": "square"
           },
           "mode": "markers",
           "name": "🏭 브라보 기지",
           "type": "scatter3d",
           "x": [
            -40
           ],
           "y": [
            -30
           ],
           "z": [
            0
           ]
          },
          {
           "line": {
            "color": "red",
            "width": 4
           },
           "marker": {
            "color": "red",
            "size": 3
           },
           "mode": "lines+markers",
           "name": "🚀 H1",
           "type": "scatter3d",
           "x": {
            "bdata": "AAAAAABAb0CydZHP90JtQA==",
            "dtype": "f8"
           },
           "y": {
            "bdata": "AAAAAADAckCP6brh2oFxQA==",
            "dtype": "f8"
           },
           "z": {
            "bdata": "AAAAAAAAeUB2Hm5vZ854QA==",
            "dtype": "f8"
           }
          },
          {
           "line": {
            "color": "blue",
            "dash": "dash",
            "width": 5
           },
           "marker": {
            "color": "blue",
            "size": 4,
            "symbol": "diamond"
           },
           "mode": "lines+markers",
           "name": "🛡️ 알파→H1",
           "type": "scatter3d",
           "x": {
            "bdata": "AAAAAAAASUBM5WPt4yhWQA==",
            "dtype": "f8"
           },
           "y": {
            "bdata": "AAAAAAAANEBMaBOOwR5TQA==",
            "dtype": "f8"
           },
           "z": {
            "bdata": "AAAAAAAAAACtX8W9gm5YQA==",
            "dtype": "f8"
           }
          },
          {
           "line": {
            "color": "orange",
            "width": 4
           },
           "marker": {
            "color": "orange",
            "size": 3
           },
           "mode": "lines+markers",
           "name": "🚀 H2",
           "type": "scatter3d",
           "x": {
            "bdata": "AAAAAACAccDvM8NLCGhwwA==",
            "dtype": "f8"
           },
           "y": {
            "bdata": "AAAAAABAb0CydZHP90JtQA==",
            "dtype": "f8"
           },
           "z": {
            "bdata": "AAAAAADAd0B2Hm5vZ453QA==",
            "dtype": "f8"
           }
          },
          {
           "line": {
            "color": "cyan",
            "dash": "dash",
            "width": 5
           },
           "marker": {
            "color": "cyan",
            "size": 4,
            "symbol": "diamond"
           },
           "mode": "lines+markers",
           "name": "🛡️ 브라보→H2",
           "type": "scatter3d",
           "x": {
            "bdata": "AAAAAAAARMDJwighTuJVwA==",
            "dtype": "f8"
           },
           "y": {
            "bdata": "AAAAAAAAPsAQdWPmOvc9QA==",
            "dtype": "f8"
           },
           "z": {
            "bdata": "AAAAAAAAAAAhftgEAOJWQA==",
            "dtype": "f8"
           }
          },
          {
           "line": {
            "color": "green",
            "width": 4
           },
           "marker": {
            "color": "green",
            "size": 3
           },
           "mode": "lines+markers",
           "name": "🚀 H3",
           "type": "scatter3d",
           "x": {
            "bdata": "AAAAAAAAJECSrYt8vhcYQA==",
            "dtype": "f8"
           },
           "y": {
            "bdata": "AAAAAADgdcBGGK3bOWJ0wA==",
            "dtype": "f8"
           },
           "z": {
            "bdata": "AAAAAABAekB2Hm5vZw56QA==",
            "dtype": "f8"
           }
          },
          {
           "line": {
            "color": "cyan",
            "dash": "dash",
            "width": 5
           },
           "marker": {
            "color": "cyan",
            "size": 4,
            "symbol": "diamond"
           },
           "mode": "lines+markers",
           "name": "🛡️ 브라보→H3",
           "type": "scatter3d",
           "x": {
            "bdata": "AAAAAAAARMAEEQn12Yg+wA==",
            "dtype": "f8"
           },
           "y": {
            "bdata": "AAAAAAAAPsCF0job2ApXwA==",
            "dtype": "f8"
           },
           "z": {
            "bdata": "AAAAAAAAAACZIb1YolhZQA==",
            "dtype": "f8"
           }
          },
          {
           "line": {
            "color": "purple",
            "width": 4
           },
           "marker": {
            "color": "purple",
            "size": 3
           },
           "mode": "lines+markers",
           "name": "🚀 H4",
           "type": "scatter3d",
           "x": {
            "bdata": "AAAAAADAckCP6brh2oFxQA==",
            "dtype": "f8"
           },
           "y": {
            "bdata": "AAAAAAAAJMBJ3bCAcy4nwA==",
            "dtype": "f8"
           },
           "z": {
            "bdata": "AAAAAADgdUB2Hm5vZ651QA==",
            "dtype": "f8"
           }
          },
          {
           "line": {
            "color": "blue",
            "dash": "dash",
            "width": 5
           },
           "marker": {
            "color": "blue",
            "size": 4,
            "symbol": "diamond"
           },
           "mode": "lines+markers",
           "name": "🛡️ 알파→H4",
           "type": "scatter3d",
           "x": {
            "bdata": "AAAAAAAASUAIzFkMTotbQA==",
            "dtype": "f8"
           },
           "y": {
            "bdata": "AAAAAAAANEDvh5OOnpohQA==",
            "dtype": "f8"
           },
           "z": {
            "bdata": "AAAAAAAAAACt0IyZ9ZlZQA==",
            "dtype": "f8"
           }
          },
          {
           "line": {
            "color": "brown",
            "width": 4
           },
           "marker": {
            "color": "brown",
            "size": 3
           },
           "mode": "lines+markers",
           "name": "🚀 H5",
           "type": "scatter3d",
           "x": {
            "bdata": "AAAAAAAAacBGGK3bOYJnwA==",
            "dtype": "f8"
           },
           "y": {
            "bdata": "AAAAAABAb8CydZHP90JtwA==",
            "dtype": "f8"
           },
           "z": {
            "bdata": "AAAAAAAgfEB2Hm5vZ+57QA==",
            "dtype": "f8"
           }
          },
          {
           "line": {
            "color": "cyan",
            "dash": "dash",
            "width": 5
           },
           "marker": {
            "color": "cyan",
            "size": 4,
            "symbol": "diamond"
           },
           "mode": "lines+markers",
           "name": "🛡️ 브라보→H5",
           "type": "scatter3d",
           "x": {
            "bdata": "AAAAAAAARMD3mzPrg5lRwA==",
            "dtype": "f8"
           },
           "y": {
            "bdata": "AAAAAAAAPsBh4G3m5RJSwA==",
            "dtype": "f8"
           },
           "z": {
            "bdata": "AAAAAAAAAABS5/NeXtVaQA==",
            "dtype": "f8"
           }
          }
         ],
         "layout": {
          "title": {
           "text": "🚀 다중 위협 분산 대응 시스템 - 시간: 0.80초"
          }
         },
         "name": "19"
        },
        {
         "data": [
          {
           "marker": {
            "color": "red",
            "size": 20,
            "symbol": "diamond"
           },
           "mode": "markers",
           "name": "🏙️ 도시",
           "type": "scatter3d",
           "x": [
            0
           ],
           "y": [
            0
           ],
           "z": [
            0
           ]
          },
          {
           "marker": {
            "color": "blue",
            "size": 15,
            "symbol": "square"
           },
           "mode": "markers",
           "name": "🏭 알파 기지",
           "type": "scatter3d",
           "x": [
            50
           ],
           "y": [
            20
           ],
           "z": [
            0
           ]
          },
          {
           "marker": {
            "color": "cyan",
            "size": 15,
            "symbol": "square"
           },
           "mode": "markers",
           "name": "🏭 브라보 기지",
           "type": "scatter3d",
           "x": [
            -40
           ],
           "y": [
            -30
           ],
           "z": [
            0
           ]
          },
          {
           "line": {
            "color": "red",
            "width": 4
           },
           "marker": {
            "color": "red",
            "size": 3
           },
           "mode": "lines+markers",
           "name": "🚀 H1",
           "type": "scatter3d",
           "x": {
            "bdata": "AAAAAABAb0D/RUhGLShtQA==",
            "dtype": "f8"
           },
           "y": {
            "bdata": "AAAAAADAckC/K+1LHHFxQA==",
            "dtype": "f8"
           },
           "z": {
            "bdata": "AAAAAAAAeUAlxMPIC8l4QA==",
            "dtype": "f8"
           }
          },
          {
           "line": {
            "color": "blue",
            "dash": "dash",
            "width": 5
           },
           "marker": {
            "color": "blue",
            "size": 4,
            "symbol": "diamond"
           },
           "mode": "lines+markers",
           "name": "🛡️ 알파→H1",
           "type": "scatter3d",
           "x": {
            "bdata": "AAAAAAAASUDl4+/eCqtWQA==",
            "dtype": "f8"
           },
           "y": {
            "bdata": "AAAAAAAANECG9AajAd1TQA==",
            "dtype": "f8"
           },
           "z": {
            "bdata": "AAAAAAAAAACbmiALsrdZQA==",
            "dtype": "f8"
           }
          },
          {
           "line": {
            "color": "orange",
            "width": 4
           },
           "marker": {
            "color": "orange",
            "size": 3
           },
           "mode": "lines+markers",
           "name": "🚀 H2",
           "type": "scatter3d",
           "x": {
            "bdata": "AAAAAACAccBM89oZTFlwwA==",
            "dtype": "f8"
           },
           "y": {
            "bdata": "AAAAAABAb0D/RUhGLShtQA==",
            "dtype": "f8"
           },
           "z": {
            "bdata": "AAAAAADAd0AlxMPIC4l3QA==",
            "dtype": "f8"
           }
          },
          {
           "line": {
            "color": "cyan",
            "dash": "dash",
            "width": 5
           },
           "marker": {
            "color": "cyan",
            "size": 4,
            "symbol": "diamond"
           },
           "mode": "lines+markers",
           "name": "🛡️ 브라보→H2",
           "type": "scatter3d",
           "x": {
            "bdata": "AAAAAAAARMAKzWAwbYJWwA==",
            "dtype": "f8"
           },
           "y": {
            "bdata": "AAAAAAAAPsBaxFxDmI9AQA==",
            "dtype": "f8"
           },
           "z": {
            "bdata": "AAAAAAAAAAAI/q3cUBZYQA==",
            "dtype": "f8"
           }
          },
          {
           "line": {
            "color": "green",
            "width": 4
           },
           "marker": {
            "color": "green",
            "size": 3
           },
           "mode": "lines+markers",
           "name": "🚀 H3",
           "type": "scatter3d",
           "x": {
            "bdata": "AAAAAAAAJED3L0IyakEXQA==",
            "dtype": "f8"
           },
           "y": {
            "bdata": "AAAAAADgdcB/NLb0IU50wA==",
            "dtype": "f8"
           },
           "z": {
            "bdata": "AAAAAABAekAlxMPICwl6QA==",
            "dtype": "f8"
           }
          },
          {
           "line": {
            "color": "cyan",
            "dash": "dash",
            "width": 5
           },
           "marker": {
            "color": "cyan",
            "size": 4,
            "symbol": "diamond"
           },
           "mode": "lines+markers",
           "name": "🛡️ 브라보→H3",
           "type": "scatter3d",
           "x": {
            "bdata": "AAAAAAAARMAgptM3UQk+wA==",
            "dtype": "f8"
           },
           "y": {
            "bdata": "AAAAAAAAPsD4INLLQdxXwA==",
            "dtype": "f8"
           },
           "z": {
            "bdata": "AAAAAAAAAACUt4MnJK5aQA==",
            "dtype": "f8"
           }
          },
          {
           "line": {
            "color": "purple",
            "width": 4
           },
           "marker": {
            "color": "purple",
            "size": 3
           },
           "mode": "lines+markers",
           "name": "🚀 H4",
           "type": "scatter3d",
           "x": {
            "bdata": "AAAAAADAckC/K+1LHHFxQA==",
            "dtype": "f8"
           },
           "y": {
            "bdata": "AAAAAAAAJMBo9iUpUVknwA==",
            "dtype": "f8"
           },
           "z": {
            "bdata": "AAAAAADgdUAlxMPIC6l1QA==",
            "dtype": "f8"
           }
          },
          {
           "line": {
            "color": "blue",
            "dash": "dash",
            "width": 5
           },
           "marker": {
            "color": "blue",
            "size": 4,
            "symbol": "diamond"
           },
           "mode": "lines+markers",
           "name": "🛡️ 알파→H4",
           "type": "scatter3d",
           "x": {
            "bdata": "AAAAAAAASUDuhV5QAVZcQA==",
            "dtype": "f8"
           },
           "y": {
            "bdata": "AAAAAAAANECQnPnL3GwgQA==",
            "dtype": "f8"
           },
           "z": {
            "bdata": "AAAAAAAAAADebyiU5/JaQA==",
            "dtype": "f8"
           }
          },
          {
           "line": {
            "color": "brown",
            "width": 4
           },
           "marker": {
            "color": "brown",
            "size": 3
           },
           "mode": "lines+markers",
           "name": "🚀 H5",
           "type": "scatter3d",
           "x": {
            "bdata": "AAAAAAAAacB/NLb0IW5nwA==",
            "dtype": "f8"
           },
           "y": {
            "bdata": "AAAAAABAb8D/RUhGLShtwA==",
            "dtype": "f8"
           },
           "z": {
            "bdata": "AAAAAAAgfEAlxMPIC+l7QA==",
            "dtype": "f8"
           }
          },
          {
           "line": {
            "color": "cyan",
            "dash": "dash",
            "width": 5
           },
           "marker": {
            "color": "cyan",
            "size": 4,
            "symbol": "diamond"
           },
           "mode": "lines+markers",
           "name": "🛡️ 브라보→H5",
           "type": "scatter3d",
           "x": {
            "bdata": "AAAAAAAARMCmsXkt6f9RwA==",
            "dtype": "f8"
           },
           "y": {
            "bdata": "AAAAAAAAPsA+0SLKXaFSwA==",
            "dtype": "f8"
           },
           "z": {
            "bdata": "AAAAAAAAAAAhsBsT6j5cQA==",
            "dtype": "f8"
           }
          }
         ],
         "layout": {
          "title": {
           "text": "🚀 다중 위협 분산 대응 시스템 - 시간: 0.84초"
          }
         },
         "name": "20"
        },
        {
         "data": [
          {
           "marker": {
            "color": "red",
            "size": 20,
            "symbol": "diamond"
           },
           "mode": "markers",
           "name": "🏙️ 도시",
           "type": "scatter3d",
           "x": [
            0
           ],
           "y": [
            0
           ],
           "z": [
            0
           ]
          },
          {
           "marker": {
            "color": "blue",
            "size": 15,
            "symbol": "square"
           },
           "mode": "markers",
           "name": "🏭 알파 기지",
           "type": "scatter3d",
           "x": [
            50
           ],
           "y": [
            20
           ],
           "z": [
            0
           ]
          },
          {
           "marker": {
            "color": "cyan",
            "size": 15,
            "symbol": "square"
           },
           "mode": "markers",
           "name": "🏭 브라보 기지",
           "type": "scatter3d",
           "x": [
            -40
           ],
           "y": [
            -30
           ],
           "z": [
            0
           ]
          },
          {
           "line": {
            "color": "red",
            "width": 4
           },
           "marker": {
            "color": "red",
            "size": 3
           },
           "mode": "lines+markers",
           "name": "🚀 H1",
           "type": "scatter3d",
           "x": {
            "bdata": "AAAAAABAb0BMFv+8Yg1tQA==",
            "dtype": "f8"
           },
           "y": {
            "bdata": "AAAAAADAckDvbR+2XWBxQA==",
            "dtype": "f8"
           },
           "z": {
            "bdata": "AAAAAAAAeUDjeMjKacN4QA==",
            "dtype": "f8"
           }
          },
          {
           "line": {
            "color": "blue",
            "dash": "dash",
            "width": 5
           },
           "marker": {
            "color": "blue",
            "size": 4,
            "symbol": "diamond"
           },
           "mode": "lines+markers",
           "name": "🛡️ 알파→H1",
           "type": "scatter3d",
           "x": {
            "bdata": "AAAAAAAASUB94nvQMS1XQA==",
            "dtype": "f8"
           },
           "y": {
            "bdata": "AAAAAAAANEDAgPq3QZtUQA==",
            "dtype": "f8"
           },
           "z": {
            "bdata": "AAAAAAAAAACJ1XtY4QBbQA==",
            "dtype": "f8"
           }
          },
          {
           "line": {
            "color": "orange",
            "width": 4
           },
           "marker": {
            "color": "orange",
            "size": 3
           },
           "mode": "lines+markers",
           "name": "🚀 H2",
           "type": "scatter3d",
           "x": {
            "bdata": "AAAAAACAccCqsvLnj0pwwA==",
            "dtype": "f8"
           },
           "y": {
            "bdata": "AAAAAABAb0BMFv+8Yg1tQA==",
            "dtype": "f8"
           },
           "z": {
            "bdata": "AAAAAADAd0DjeMjKaYN3QA==",
            "dtype": "f8"
           }
          },
          {
           "line": {
            "color": "cyan",
            "dash": "dash",
            "width": 5
           },
           "marker": {
            "color": "cyan",
            "size": 4,
            "symbol": "diamond"
           },
           "mode": "lines+markers",
           "name": "🛡️ 브라보→H2",
           "type": "scatter3d",
           "x": {
            "bdata": "AAAAAAAARMBK15g/jCJXwA==",
            "dtype": "f8"
           },
           "y": {
            "bdata": "AAAAAAAAPsAqzocTkyNCQA==",
            "dtype": "f8"
           },
           "z": {
            "bdata": "AAAAAAAAAADufYO0oUpZQA==",
            "dtype": "f8"
           }
          },
          {
           "line": {
            "color": "green",
            "width": 4
           },
           "marker": {
            "color": "green",
            "size": 3
           },
           "mode": "lines+markers",
           "name": "🚀 H3",
           "type": "scatter3d",
           "x": {
            "bdata": "AAAAAAAAJEBesvjnFWsWQA==",
            "dtype": "f8"
           },
           "y": {
            "bdata": "AAAAAADgdcC5UL8NCjp0wA==",
            "dtype": "f8"
           },
           "z": {
            "bdata": "AAAAAABAekDjeMjKaQN6QA==",
            "dtype": "f8"
           }
          },
          {
           "line": {
            "color": "cyan",
            "dash": "dash",
            "width": 5
           },
           "marker": {
            "color": "cyan",
            "size": 4,
            "symbol": "diamond"
           },
           "mode": "lines+markers",
           "name": "🛡️ 브라보→H3",
           "type": "scatter3d",
           "x": {
            "bdata": "AAAAAAAARMA7O556yIk9wA==",
            "dtype": "f8"
           },
           "y": {
            "bdata": "AAAAAAAAPsBrb2l8q61YwA==",
            "dtype": "f8"
           },
           "z": {
            "bdata": "AAAAAAAAAACOTUr2pQNcQA==",
            "dtype": "f8"
           }
          },
          {
           "line": {
            "color": "purple",
            "width": 4
           },
           "marker": {
            "color": "purple",
            "size": 3
           },
           "mode": "lines+markers",
           "name": "🚀 H4",
           "type": "scatter3d",
           "x": {
            "bdata": "AAAAAADAckDvbR+2XWBxQA==",
            "dtype": "f8"
           },
           "y": {
            "bdata": "AAAAAAAAJMCHD5vRLoQnwA==",
            "dtype": "f8"
           },
           "z": {
            "bdata": "AAAAAADgdUDjeMjKaaN1QA==",
            "dtype": "f8"
           }
          },
          {
           "line": {
            "color": "blue",
            "dash": "dash",
            "width": 5
           },
           "marker": {
            "color": "blue",
            "size": 4,
            "symbol": "diamond"
           },
           "mode": "lines+markers",
           "name": "🛡️ 알파→H4",
           "type": "scatter3d",
           "x": {
            "bdata": "AAAAAAAASUDTP2OUtCBdQA==",
            "dtype": "f8"
           },
           "y": {
            "bdata": "AAAAAAAANEBiYr8SNn4eQA==",
            "dtype": "f8"
           },
           "z": {
            "bdata": "AAAAAAAAAAAPD8SO2UtcQA==",
            "dtype": "f8"
           }
          },
          {
           "line": {
            "color": "brown",
            "width": 4
           },
           "marker": {
            "color": "brown",
            "size": 3
           },
           "mode": "lines+markers",
           "name": "🚀 H5",
           "type": "scatter3d",
           "x": {
            "bdata": "AAAAAAAAacC5UL8NClpnwA==",
            "dtype": "f8"
           },
           "y": {
            "bdata": "AAAAAABAb8BMFv+8Yg1twA==",
            "dtype": "f8"
           },
           "z": {
            "bdata": "AAAAAAAgfEDjeMjKaeN7QA==",
            "dtype": "f8"
           }
          },
          {
           "line": {
            "color": "cyan",
            "dash": "dash",
            "width": 5
           },
           "marker": {
            "color": "cyan",
            "size": 4,
            "symbol": "diamond"
           },
           "mode": "lines+markers",
           "name": "🛡️ 브라보→H5",
           "type": "scatter3d",
           "x": {
            "bdata": "AAAAAAAARMBUx79vTmZSwA==",
            "dtype": "f8"
           },
           "y": {
            "bdata": "AAAAAAAAPsAawtet1S9TwA==",
            "dtype": "f8"
           },
           "z": {
            "bdata": "AAAAAAAAAADveEPHdahdQA==",
            "dtype": "f8"
           }
          }
         ],
         "layout": {
          "title": {
           "text": "🚀 다중 위협 분산 대응 시스템 - 시간: 0.88초"
          }
         },
         "name": "21"
        },
        {
         "data": [
          {
           "marker": {
            "color": "red",
            "size": 20,
            "symbol": "diamond"
           },
           "mode": "markers",
           "name": "🏙️ 도시",
           "type": "scatter3d",
           "x": [
            0
           ],
           "y": [
            0
           ],
           "z": [
            0
           ]
          },
          {
           "marker": {
            "color": "blue",
            "size": 15,
            "symbol": "square"
           },
           "mode": "markers",
           "name": "🏭 알파 기지",
           "type": "scatter3d",
           "x": [
            50
           ],
           "y": [
            20
           ],
           "z": [
            0
           ]
          },
          {
           "marker": {
            "color": "cyan",
            "size": 15,
            "symbol": "square"
           },
           "mode": "markers",
           "name": "🏭 브라보 기지",
           "type": "scatter3d",
           "x": [
            -40
           ],
           "y": [
            -30
           ],
           "z": [
            0
           ]
          },
          {
           "line": {
            "color": "red",
            "width": 4
           },
           "marker": {
            "color": "red",
            "size": 3
           },
           "mode": "lines+markers",
           "name": "🚀 H1",
           "type": "scatter3d",
           "x": {
            "bdata": "AAAAAABAb0CY5rUzmPJsQA==",
            "dtype": "f8"
           },
           "y": {
            "bdata": "AAAAAADAckAfsFEgn09xQA==",
            "dtype": "f8"
           },
           "z": {
            "bdata": "AAAAAAAAeUCyPHx1gb14QA==",
            "dtype": "f8"
           }
          },
          {
           "line": {
            "color": "blue",
            "dash": "dash",
            "width": 5
           },
           "marker": {
            "color": "blue",
            "size": 4,
            "symbol": "diamond"
           },
           "mode": "lines+markers",
           "name": "🛡️ 알파→H1",
           "type": "scatter3d",
           "x": {
            "bdata": "AAAAAAAASUAW4QfCWK9XQA==",
            "dtype": "f8"
           },
           "y": {
            "bdata": "AAAAAAAANED6DO7MgVlVQA==",
            "dtype": "f8"
           },
           "z": {
            "bdata": "AAAAAAAAAAB4ENelEEpcQA==",
            "dtype": "f8"
           }
          },
          {
           "line": {
            "color": "orange",
            "width": 4
           },
           "marker": {
            "color": "orange",
            "size": 3
           },
           "mode": "lines+markers",
           "name": "🚀 H2",
           "type": "scatter3d",
           "x": {
            "bdata": "AAAAAACAccAHcgq20ztwwA==",
            "dtype": "f8"
           },
           "y": {
            "bdata": "AAAAAABAb0CY5rUzmPJsQA==",
            "dtype": "f8"
           },
           "z": {
            "bdata": "AAAAAADAd0CyPHx1gX13QA==",
            "dtype": "f8"
           }
          },
          {
           "line": {
            "color": "cyan",
            "dash": "dash",
            "width": 5
           },
           "marker": {
            "color": "cyan",
            "size": 4,
            "symbol": "diamond"
           },
           "mode": "lines+markers",
           "name": "🛡️ 브라보→H2",
           "type": "scatter3d",
           "x": {
            "bdata": "AAAAAAAARMCK4dBOq8JXwA==",
            "dtype": "f8"
           },
           "y": {
            "bdata": "AAAAAAAAPsD817LjjbdDQA==",
            "dtype": "f8"
           },
           "z": {
            "bdata": "AAAAAAAAAADW/ViM8n5aQA==",
            "dtype": "f8"
           }
          },
          {
           "line": {
            "color": "green",
            "width": 4
           },
           "marker": {
            "color": "green",
            "size": 3
           },
           "mode": "lines+markers",
           "name": "🚀 H3",
           "type": "scatter3d",
           "x": {
            "bdata": "AAAAAAAAJEDDNK+dwZQVQA==",
            "dtype": "f8"
           },
           "y": {
            "bdata": "AAAAAADgdcDybMgm8iV0wA==",
            "dtype": "f8"
           },
           "z": {
            "bdata": "AAAAAABAekCyPHx1gf15QA==",
            "dtype": "f8"
           }
          },
          {
           "line": {
            "color": "cyan",
            "dash": "dash",
            "width": 5
           },
           "marker": {
            "color": "cyan",
            "size": 4,
            "symbol": "diamond"
           },
           "mode": "lines+markers",
           "name": "🛡️ 브라보→H3",
           "type": "scatter3d",
           "x": {
            "bdata": "AAAAAAAARMBW0Gi9Pwo9wA==",
            "dtype": "f8"
           },
           "y": {
            "bdata": "AAAAAAAAPsDevQAtFX9ZwA==",
            "dtype": "f8"
           },
           "z": {
            "bdata": "AAAAAAAAAACK4xDFJ1ldQA==",
            "dtype": "f8"
           }
          },
          {
           "line": {
            "color": "purple",
            "width": 4
           },
           "marker": {
            "color": "purple",
            "size": 3
           },
           "mode": "lines+markers",
           "name": "🚀 H4",
           "type": "scatter3d",
           "x": {
            "bdata": "AAAAAADAckAfsFEgn09xQA==",
            "dtype": "f8"
           },
           "y": {
            "bdata": "AAAAAAAAJMCmKBB6DK8nwA==",
            "dtype": "f8"
           },
           "z": {
            "bdata": "AAAAAADgdUCyPHx1gZ11QA==",
            "dtype": "f8"
           }
          },
          {
           "line": {
            "color": "blue",
            "dash": "dash",
            "width": 5
           },
           "marker": {
            "color": "blue",
            "size": 4,
            "symbol": "diamond"
           },
           "mode": "lines+markers",
           "name": "🛡️ 알파→H4",
           "type": "scatter3d",
           "x": {
            "bdata": "AAAAAAAASUC5+WfYZ+tdQA==",
            "dtype": "f8"
           },
           "y": {
            "bdata": "AAAAAAAANECii4uNsiIcQA==",
            "dtype": "f8"
           },
           "z": {
            "bdata": "AAAAAAAAAABCrl+Jy6RdQA==",
            "dtype": "f8"
           }
          },
          {
           "line": {
            "color": "brown",
            "width": 4
           },
           "marker": {
            "color": "brown",
            "size": 3
           },
           "mode": "lines+markers",
           "name": "🚀 H5",
           "type": "scatter3d",
           "x": {
            "bdata": "AAAAAAAAacDybMgm8kVnwA==",
            "dtype": "f8"
           },
           "y": {
            "bdata": "AAAAAABAb8CY5rUzmPJswA==",
            "dtype": "f8"
           },
           "z": {
            "bdata": "AAAAAAAgfECyPHx1gd17QA==",
            "dtype": "f8"
           }
          },
          {
           "line": {
            "color": "cyan",
            "dash": "dash",
            "width": 5
           },
           "marker": {
            "color": "cyan",
            "size": 4,
            "symbol": "diamond"
           },
           "mode": "lines+markers",
           "name": "🛡️ 브라보→H5",
           "type": "scatter3d",
           "x": {
            "bdata": "AAAAAAAARMAE3QWys8xSwA==",
            "dtype": "f8"
           },
           "y": {
            "bdata": "AAAAAAAAPsD3soyRTb5TwA==",
            "dtype": "f8"
           },
           "z": {
            "bdata": "AAAAAAAAAAC+QWt7ARJfQA==",
            "dtype": "f8"
           }
          }
         ],
         "layout": {
          "title": {
           "text": "🚀 다중 위협 분산 대응 시스템 - 시간: 0.92초"
          }
         },
         "name": "22"
        },
        {
         "data": [
          {
           "marker": {
            "color": "red",
            "size": 20,
            "symbol": "diamond"
           },
           "mode": "markers",
           "name": "🏙️ 도시",
           "type": "scatter3d",
           "x": [
            0
           ],
           "y": [
            0
           ],
           "z": [
            0
           ]
          },
          {
           "marker": {
            "color": "blue",
            "size": 15,
            "symbol": "square"
           },
           "mode": "markers",
           "name": "🏭 알파 기지",
           "type": "scatter3d",
           "x": [
            50
           ],
           "y": [
            20
           ],
           "z": [
            0
           ]
          },
          {
           "marker": {
            "color": "cyan",
            "size": 15,
            "symbol": "square"
           },
           "mode": "markers",
           "name": "🏭 브라보 기지",
           "type": "scatter3d",
           "x": [
            -40
           ],
           "y": [
            -30
           ],
           "z": [
            0
           ]
          },
          {
           "line": {
            "color": "red",
            "width": 4
           },
           "marker": {
            "color": "red",
            "size": 3
           },
           "mode": "lines+markers",
           "name": "🚀 H1",
           "type": "scatter3d",
           "x": {
            "bdata": "AAAAAABAb0DltmyqzddsQA==",
            "dtype": "f8"
           },
           "y": {
            "bdata": "AAAAAADAckBP8oOK4D5xQA==",
            "dtype": "f8"
           },
           "z": {
            "bdata": "AAAAAAAAeUCPD9/IUrd4QA==",
            "dtype": "f8"
           }
          },
          {
           "line": {
            "color": "blue",
            "dash": "dash",
            "width": 5
           },
           "marker": {
            "color": "blue",
            "size": 4,
            "symbol": "diamond"
           },
           "mode": "lines+markers",
           "name": "🛡️ 알파→H1",
           "type": "scatter3d",
           "x": {
            "bdata": "AAAAAAAASUCu35OzfzFYQA==",
            "dtype": "f8"
           },
           "y": {
            "bdata": "AAAAAAAANEA0meHhwRdWQA==",
            "dtype": "f8"
           },
           "z": {
            "bdata": "AAAAAAAAAABlSzLzP5NdQA==",
            "dtype": "f8"
           }
          },
          {
           "line": {
            "color": "orange",
            "width": 4
           },
           "marker": {
            "color": "orange",
            "size": 3
           },
           "mode": "lines+markers",
           "name": "🚀 H2",
           "type": "scatter3d",
           "x": {
            "bdata": "AAAAAACAccBkMSKEFy1wwA==",
            "dtype": "f8"
           },
           "y": {
            "bdata": "AAAAAABAb0DltmyqzddsQA==",
            "dtype": "f8"
           },
           "z": {
            "bdata": "AAAAAADAd0CPD9/IUnd3QA==",
            "dtype": "f8"
           }
          },
          {
           "line": {
            "color": "cyan",
            "dash": "dash",
            "width": 5
           },
           "marker": {
            "color": "cyan",
            "size": 4,
            "symbol": "diamond"
           },
           "mode": "lines+markers",
           "name": "🛡️ 브라보→H2",
           "type": "scatter3d",
           "x": {
            "bdata": "AAAAAAAARMDL6wheymJYwA==",
            "dtype": "f8"
           },
           "y": {
            "bdata": "AAAAAAAAPsDO4d2ziEtFQA==",
            "dtype": "f8"
           },
           "z": {
            "bdata": "AAAAAAAAAAC8fS5kQ7NbQA==",
            "dtype": "f8"
           }
          },
          {
           "line": {
            "color": "green",
            "width": 4
           },
           "marker": {
            "color": "green",
            "size": 3
           },
           "mode": "lines+markers",
           "name": "🚀 H3",
           "type": "scatter3d",
           "x": {
            "bdata": "AAAAAAAAJEAqt2VTbb4UQA==",
            "dtype": "f8"
           },
           "y": {
            "bdata": "AAAAAADgdcAsidE/2hF0wA==",
            "dtype": "f8"
           },
           "z": {
            "bdata": "AAAAAABAekCPD9/IUvd5QA==",
            "dtype": "f8"
           }
          },
          {
           "line": {
            "color": "cyan",
            "dash": "dash",
            "width": 5
           },
           "marker": {
            "color": "cyan",
            "size": 4,
            "symbol": "diamond"
           },
           "mode": "lines+markers",
           "name": "🛡️ 브라보→H3",
           "type": "scatter3d",
           "x": {
            "bdata": "AAAAAAAARMByZTMAt4o8wA==",
            "dtype": "f8"
           },
           "y": {
            "bdata": "AAAAAAAAPsBQDJjdflBawA==",
            "dtype": "f8"
           },
           "z": {
            "bdata": "AAAAAAAAAACEedeTqa5eQA==",
            "dtype": "f8"
           }
          },
          {
           "line": {
            "color": "purple",
            "width": 4
           },
           "marker": {
            "color": "purple",
            "size": 3
           },
           "mode": "lines+markers",
           "name": "🚀 H4",
           "type": "scatter3d",
           "x": {
            "bdata": "AAAAAADAckBP8oOK4D5xQA==",
            "dtype": "f8"
           },
           "y": {
            "bdata": "AAAAAAAAJMDEQYUi6tknwA==",
            "dtype": "f8"
           },
           "z": {
            "bdata": "AAAAAADgdUCPD9/IUpd1QA==",
            "dtype": "f8"
           }
          },
          {
           "line": {
            "color": "blue",
            "dash": "dash",
            "width": 5
           },
           "marker": {
            "color": "blue",
            "size": 4,
            "symbol": "diamond"
           },
           "mode": "lines+markers",
           "name": "🛡️ 알파→H4",
           "type": "scatter3d",
           "x": {
            "bdata": "AAAAAAAASUCes2wcG7ZeQA==",
            "dtype": "f8"
           },
           "y": {
            "bdata": "AAAAAAAANEDktFcIL8cZQA==",
            "dtype": "f8"
           },
           "z": {
            "bdata": "AAAAAAAAAABzTfuDvf1eQA==",
            "dtype": "f8"
           }
          },
          {
           "line": {
            "color": "brown",
            "width": 4
           },
           "marker": {
            "color": "brown",
            "size": 3
           },
           "mode": "lines+markers",
           "name": "🚀 H5",
           "type": "scatter3d",
           "x": {
            "bdata": "AAAAAAAAacAsidE/2jFnwA==",
            "dtype": "f8"
           },
           "y": {
            "bdata": "AAAAAABAb8DltmyqzddswA==",
            "dtype": "f8"
           },
           "z": {
            "bdata": "AAAAAAAgfECPD9/IUtd7QA==",
            "dtype": "f8"
           }
          },
          {
           "line": {
            "color": "cyan",
            "dash": "dash",
            "width": 5
           },
           "marker": {
            "color": "cyan",
            "size": 4,
            "symbol": "diamond"
           },
           "mode": "lines+markers",
           "name": "🛡️ 브라보→H5",
           "type": "scatter3d",
           "x": {
            "bdata": "AAAAAAAARMCy8kv0GDNTwA==",
            "dtype": "f8"
           },
           "y": {
            "bdata": "AAAAAAAAPsDUo0F1xUxUwA==",
            "dtype": "f8"
           },
           "z": {
            "bdata": "AAAAAAAAAABGhcmXxj1gQA==",
            "dtype": "f8"
           }
          }
         ],
         "layout": {
          "title": {
           "text": "🚀 다중 위협 분산 대응 시스템 - 시간: 0.96초"
          }
         },
         "name": "23"
        },
        {
         "data": [
          {
           "marker": {
            "color": "red",
            "size": 20,
            "symbol": "diamond"
           },
           "mode": "markers",
           "name": "🏙️ 도시",
           "type": "scatter3d",
           "x": [
            0
           ],
           "y": [
            0
           ],
           "z": [
            0
           ]
          },
          {
           "marker": {
            "color": "blue",
            "size": 15,
            "symbol": "square"
           },
           "mode": "markers",
           "name": "🏭 알파 기지",
           "type": "scatter3d",
           "x": [
            50
           ],
           "y": [
            20
           ],
           "z": [
            0
           ]
          },
          {
           "marker": {
            "color": "cyan",
            "size": 15,
            "symbol": "square"
           },
           "mode": "markers",
           "name": "🏭 브라보 기지",
           "type": "scatter3d",
           "x": [
            -40
           ],
           "y": [
            -30
           ],
           "z": [
            0
           ]
          },
          {
           "line": {
            "color": "red",
            "width": 4
           },
           "marker": {
            "color": "red",
            "size": 3
           },
           "mode": "lines+markers",
           "name": "🚀 H1",
           "type": "scatter3d",
           "x": {
            "bdata": "AAAAAABAb0CZw5GQgf5tQDKHIyEDvWxA",
            "dtype": "f8"
           },
           "y": {
            "bdata": "AAAAAADAckBAGlv6EPdxQH80tvQhLnFA",
            "dtype": "f8"
           },
           "z": {
            "bdata": "AAAAAAAAeUBfPDxxN+x4QH3x8MTdsHhA",
            "dtype": "f8"
           }
          },
          {
           "line": {
            "color": "blue",
            "dash": "dash",
            "width": 5
           },
           "marker": {
            "color": "blue",
            "size": 4,
            "symbol": "diamond"
           },
           "mode": "lines+markers",
           "name": "🛡️ 알파→H1",
           "type": "scatter3d",
           "x": {
            "bdata": "AAAAAAAASUAj749S05lSQEbeH6Wms1hA",
            "dtype": "f8"
           },
           "y": {
            "bdata": "AAAAAAAANEBtJdX2AdZLQG0l1fYB1lZA",
            "dtype": "f8"
           },
           "z": {
            "bdata": "AAAAAAAAAABTho1Ab9xOQFOGjUBv3F5A",
            "dtype": "f8"
           }
          },
          {
           "line": {
            "color": "orange",
            "width": 4
           },
           "marker": {
            "color": "orange",
            "size": 3
           },
           "mode": "lines+markers",
           "name": "🚀 H2",
           "type": "scatter3d",
           "x": {
            "bdata": "AAAAAACAccBh+BypLc9wwMLwOVJbHnDA",
            "dtype": "f8"
           },
           "y": {
            "bdata": "AAAAAABAb0CZw5GQgf5tQDKHIyEDvWxA",
            "dtype": "f8"
           },
           "z": {
            "bdata": "AAAAAADAd0BfPDxxN6x3QH3x8MTdcHdA",
            "dtype": "f8"
           }
          },
          {
           "line": {
            "color": "cyan",
            "dash": "dash",
            "width": 5
           },
           "marker": {
            "color": "cyan",
            "size": 4,
            "symbol": "diamond"
           },
           "mode": "lines+markers",
           "name": "🛡️ 브라보→H2",
           "type": "scatter3d",
           "x": {
            "bdata": "AAAAAAAARMAGe6C2dIFRwAv2QG3pAlnA",
            "dtype": "f8"
           },
           "y": {
            "bdata": "AAAAAAAAPsB4riMQDn4fQJ7rCISD30ZA",
            "dtype": "f8"
           },
           "z": {
            "bdata": "AAAAAAAAAACi/QM8lOdMQKL9AzyU51xA",
            "dtype": "f8"
           }
          },
          {
           "line": {
            "color": "green",
            "width": 4
           },
           "marker": {
            "color": "green",
            "size": 3
           },
           "mode": "lines+markers",
           "name": "🚀 H3",
           "type": "scatter3d",
           "x": {
            "bdata": "AAAAAAAAJEDIHI6EDPQdQJA5HAkZ6BNA",
            "dtype": "f8"
           },
           "y": {
            "bdata": "AAAAAADgdcCzUm0s4e50wGal2ljC/XPA",
            "dtype": "f8"
           },
           "z": {
            "bdata": "AAAAAABAekBfPDxxNyx6QH3x8MTd8HlA",
            "dtype": "f8"
           }
          },
          {
           "line": {
            "color": "cyan",
            "dash": "dash",
            "width": 5
           },
           "marker": {
            "color": "cyan",
            "size": 4,
            "symbol": "diamond"
           },
           "mode": "lines+markers",
           "name": "🛡️ 브라보→H3",
           "type": "scatter3d",
           "x": {
            "bdata": "AAAAAAAARMCjfr+QywJBwIz6/UIuCzzA",
            "dtype": "f8"
           },
           "y": {
            "bdata": "AAAAAAAAPsBirRdH9FBRwMNaL47oIVvA",
            "dtype": "f8"
           },
           "z": {
            "bdata": "AAAAAAAAAAC/B0+xFQJQQL8HT7EVAmBA",
            "dtype": "f8"
           }
          },
          {
           "line": {
            "color": "purple",
            "width": 4
           },
           "marker": {
            "color": "purple",
            "size": 3
           },
           "mode": "lines+markers",
           "name": "🚀 H4",
           "type": "scatter3d",
           "x": {
            "bdata": "AAAAAADAckBAGlv6EPdxQH80tvQhLnFA",
            "dtype": "f8"
           },
           "y": {
            "bdata": "AAAAAAAAJMByLX3lYwImwONa+srHBCjA",
            "dtype": "f8"
           },
           "z": {
            "bdata": "AAAAAADgdUBfPDxxN8x1QH3x8MTdkHVA",
            "dtype": "f8"
           }
          },
          {
           "line": {
            "color": "blue",
            "dash": "dash",
            "width": 5
           },
           "marker": {
            "color": "blue",
            "size": 4,
            "symbol": "diamond"
           },
           "mode": "lines+markers",
           "name": "🛡️ 알파→H4",
           "type": "scatter3d",
           "x": {
            "bdata": "AAAAAAAASUDCtjgwZwBWQINtcWDOgF9A",
            "dtype": "f8"
           },
           "y": {
            "bdata": "AAAAAAAANECK98jg6topQCjeI4OraxdA",
            "dtype": "f8"
           },
           "z": {
            "bdata": "AAAAAAAAAABSdku/VytQQFJ2S79XK2BA",
            "dtype": "f8"
           }
          },
          {
           "line": {
            "color": "brown",
            "width": 4
           },
           "marker": {
            "color": "brown",
            "size": 3
           },
           "mode": "lines+markers",
           "name": "🚀 H5",
           "type": "scatter3d",
           "x": {
            "bdata": "AAAAAAAAacCzUm0s4Q5owGal2ljCHWfA",
            "dtype": "f8"
           },
           "y": {
            "bdata": "AAAAAABAb8CZw5GQgf5twDKHIyEDvWzA",
            "dtype": "f8"
           },
           "z": {
            "bdata": "AAAAAAAgfEBfPDxxNwx8QH3x8MTd0HtA",
            "dtype": "f8"
           }
          },
          {
           "line": {
            "color": "cyan",
            "dash": "dash",
            "width": 5
           },
           "marker": {
            "color": "cyan",
            "size": 4,
            "symbol": "diamond"
           },
           "mode": "lines+markers",
           "name": "🛡️ 브라보→H5",
           "type": "scatter3d",
           "x": {
            "bdata": "AAAAAAAARMBgCJI2fplNwGAIkjZ+mVPA",
            "dtype": "f8"
           },
           "y": {
            "bdata": "AAAAAAAAPsCwlPZYPVtMwLCU9lg921TA",
            "dtype": "f8"
           },
           "z": {
            "bdata": "AAAAAAAAAACtad1xjPJQQK1p3XGM8mBA",
            "dtype": "f8"
           }
          }
         ],
         "layout": {
          "title": {
           "text": "🚀 다중 위협 분산 대응 시스템 - 시간: 1.00초"
          }
         },
         "name": "24"
        },
        {
         "data": [
          {
           "marker": {
            "color": "red",
            "size": 20,
            "symbol": "diamond"
           },
           "mode": "markers",
           "name": "🏙️ 도시",
           "type": "scatter3d",
           "x": [
            0
           ],
           "y": [
            0
           ],
           "z": [
            0
           ]
          },
          {
           "marker": {
            "color": "blue",
            "size": 15,
            "symbol": "square"
           },
           "mode": "markers",
           "name": "🏭 알파 기지",
           "type": "scatter3d",
           "x": [
            50
           ],
           "y": [
            20
           ],
           "z": [
            0
           ]
          },
          {
           "marker": {
            "color": "cyan",
            "size": 15,
            "symbol": "square"
           },
           "mode": "markers",
           "name": "🏭 브라보 기지",
           "type": "scatter3d",
           "x": [
            -40
           ],
           "y": [
            -30
           ],
           "z": [
            0
           ]
          },
          {
           "line": {
            "color": "red",
            "width": 4
           },
           "marker": {
            "color": "red",
            "size": 3
           },
           "mode": "lines+markers",
           "name": "🚀 H1",
           "type": "scatter3d",
           "x": {
            "bdata": "AAAAAABAb0C/K+1LHPFtQH9X2pc4omxA",
            "dtype": "f8"
           },
           "y": {
            "bdata": "AAAAAADAckBYO3Svse5xQK926F5jHXFA",
            "dtype": "f8"
           },
           "z": {
            "bdata": "AAAAAAAAeUCeeGyaiOp4QHrisWkiqnhA",
            "dtype": "f8"
           }
          },
          {
           "line": {
            "color": "blue",
            "dash": "dash",
            "width": 5
           },
           "marker": {
            "color": "blue",
            "size": 4,
            "symbol": "diamond"
           },
           "mode": "lines+markers",
           "name": "🛡️ 알파→H1",
           "type": "scatter3d",
           "x": {
            "bdata": "AAAAAAAASUBv7lXL5tpSQN7cq5bNNVlA",
            "dtype": "f8"
           },
           "y": {
            "bdata": "AAAAAAAANECnscgLQpRMQKexyAtClFdA",
            "dtype": "f8"
           },
           "z": {
            "bdata": "AAAAAAAAAACgYPRGzxJQQKBg9EbPEmBA",
            "dtype": "f8"
           }
          },
          {
           "line": {
            "color": "orange",
            "width": 4
           },
           "marker": {
            "color": "orange",
            "size": 3
           },
           "mode": "lines+markers",
           "name": "🚀 H2",
           "type": "scatter3d",
           "x": {
            "bdata": "AAAAAACAccAQ2CiQz8dwwB+wUSCfD3DA",
            "dtype": "f8"
           },
           "y": {
            "bdata": "AAAAAABAb0C/K+1LHPFtQH9X2pc4omxA",
            "dtype": "f8"
           },
           "z": {
            "bdata": "AAAAAADAd0CeeGyaiKp3QHrisWkiandA",
            "dtype": "f8"
           }
          },
          {
           "line": {
            "color": "cyan",
            "dash": "dash",
            "width": 5
           },
           "marker": {
            "color": "cyan",
            "size": 4,
            "symbol": "diamond"
           },
           "mode": "lines+markers",
           "name": "🛡️ 브라보→H2",
           "type": "scatter3d",
           "x": {
            "bdata": "AAAAAAAARMAmgDw+hNFRwEsAeXwIo1nA",
            "dtype": "f8"
           },
           "y": {
            "bdata": "AAAAAAAAPsDc6meo/OYiQG71M1R+c0hA",
            "dtype": "f8"
           },
           "z": {
            "bdata": "AAAAAAAAAACIfdkT5RtOQIh92RPlG15A",
            "dtype": "f8"
           }
          },
          {
           "line": {
            "color": "green",
            "width": 4
           },
           "marker": {
            "color": "green",
            "size": 3
           },
           "mode": "lines+markers",
           "name": "🚀 H3",
           "type": "scatter3d",
           "x": {
            "bdata": "AAAAAAAAJED7XWlf4ogdQPa70r7EERNA",
            "dtype": "f8"
           },
           "y": {
            "bdata": "AAAAAADgdcDQ4PE41eR0wJ/B43Gq6XPA",
            "dtype": "f8"
           },
           "z": {
            "bdata": "AAAAAABAekCeeGyaiCp6QHrisWki6nlA",
            "dtype": "f8"
           }
          },
          {
           "line": {
            "color": "cyan",
            "dash": "dash",
            "width": 5
           },
           "marker": {
            "color": "cyan",
            "size": 4,
            "symbol": "diamond"
           },
           "mode": "lines+markers",
           "name": "🛡️ 브라보→H3",
           "type": "scatter3d",
           "x": {
            "bdata": "AAAAAAAARMDqI3Jh6eJAwKiPyIWlizvA",
            "dtype": "f8"
           },
           "y": {
            "bdata": "AAAAAAAAPsCaVGMfqblRwDWpxj5S81vA",
            "dtype": "f8"
           },
           "z": {
            "bdata": "AAAAAAAAAAC8UrKY1qxQQLxSspjWrGBA",
            "dtype": "f8"
           }
          },
          {
           "line": {
            "color": "purple",
            "width": 4
           },
           "marker": {
            "color": "purple",
            "size": 3
           },
           "mode": "lines+markers",
           "name": "🚀 H4",
           "type": "scatter3d",
           "x": {
            "bdata": "AAAAAADAckBYO3Svse5xQK926F5jHXFA",
            "dtype": "f8"
           },
           "y": {
            "bdata": "AAAAAAAAJMABure50hcmwAJ0b3OlLyjA",
            "dtype": "f8"
           },
           "z": {
            "bdata": "AAAAAADgdUCeeGyaiMp1QHrisWkiinVA",
            "dtype": "f8"
           }
          },
          {
           "line": {
            "color": "blue",
            "dash": "dash",
            "width": 5
           },
           "marker": {
            "color": "blue",
            "size": 4,
            "symbol": "diamond"
           },
           "mode": "lines+markers",
           "name": "🛡️ 알파→H4",
           "type": "scatter3d",
           "x": {
            "bdata": "AAAAAAAASUC0EzvSwGVWQLQTO9LAJWBA",
            "dtype": "f8"
           },
           "y": {
            "bdata": "AAAAAAAANEDaAXz/CUQpQGoH8P0nEBVA",
            "dtype": "f8"
           },
           "z": {
            "bdata": "AAAAAAAAAADqRZm80NdQQOpFmbzQ12BA",
            "dtype": "f8"
           }
          },
          {
           "line": {
            "color": "brown",
            "width": 4
           },
           "marker": {
            "color": "brown",
            "size": 3
           },
           "mode": "lines+markers",
           "name": "🚀 H5",
           "type": "scatter3d",
           "x": {
            "bdata": "AAAAAAAAacDQ4PE41QRowJ/B43GqCWfA",
            "dtype": "f8"
           },
           "y": {
            "bdata": "AAAAAABAb8C/K+1LHPFtwH9X2pc4omzA",
            "dtype": "f8"
           },
           "z": {
            "bdata": "AAAAAAAgfECeeGyaiAp8QHrisWkiyntA",
            "dtype": "f8"
           }
          },
          {
           "line": {
            "color": "cyan",
            "dash": "dash",
            "width": 5
           },
           "marker": {
            "color": "cyan",
            "size": 4,
            "symbol": "diamond"
           },
           "mode": "lines+markers",
           "name": "🛡️ 브라보→H5",
           "type": "scatter3d",
           "x": {
            "bdata": "AAAAAAAARMAPHth44/9NwA8e2Hjj/1PA",
            "dtype": "f8"
           },
           "y": {
            "bdata": "AAAAAAAAPsCMhas8telMwIyFqzy1aVXA",
            "dtype": "f8"
           },
           "z": {
            "bdata": "AAAAAAAAAAAUTvFLUqdRQBRO8UtSp2FA",
            "dtype": "f8"
           }
          }
         ],
         "layout": {
          "title": {
           "text": "🚀 다중 위협 분산 대응 시스템 - 시간: 1.05초"
          }
         },
         "name": "25"
        },
        {
         "data": [
          {
           "marker": {
            "color": "red",
            "size": 20,
            "symbol": "diamond"
           },
           "mode": "markers",
           "name": "🏙️ 도시",
           "type": "scatter3d",
           "x": [
            0
           ],
           "y": [
            0
           ],
           "z": [
            0
           ]
          },
          {
           "marker": {
            "color": "blue",
            "size": 15,
            "symbol": "square"
           },
           "mode": "markers",
           "name": "🏭 알파 기지",
           "type": "scatter3d",
           "x": [
            50
           ],
           "y": [
            20
           ],
           "z": [
            0
           ]
          },
          {
           "marker": {
            "color": "cyan",
            "size": 15,
            "symbol": "square"
           },
           "mode": "markers",
           "name": "🏭 브라보 기지",
           "type": "scatter3d",
           "x": [
            -40
           ],
           "y": [
            -30
           ],
           "z": [
            0
           ]
          },
          {
           "line": {
            "color": "red",
            "width": 4
           },
           "marker": {
            "color": "red",
            "size": 3
           },
           "mode": "lines+markers",
           "name": "🚀 H1",
           "type": "scatter3d",
           "x": {
            "bdata": "AAAAAABAb0Dmk0gHt+NtQMsnkQ5uh2xA",
            "dtype": "f8"
           },
           "y": {
            "bdata": "AAAAAADAckBwXI1kUuZxQN+4GsmkDHFA",
            "dtype": "f8"
           },
           "z": {
            "bdata": "AAAAAAAAeUCheMgtyOh4QIbiIbcgo3hA",
            "dtype": "f8"
           }
          },
          {
           "line": {
            "color": "blue",
            "dash": "dash",
            "width": 5
           },
           "marker": {
            "color": "blue",
            "size": 4,
            "symbol": "diamond"
           },
           "mode": "lines+markers",
           "name": "🛡️ 알파→H1",
           "type": "scatter3d",
           "x": {
            "bdata": "AAAAAAAASUC77RtE+htTQHbbN4j0t1lA",
            "dtype": "f8"
           },
           "y": {
            "bdata": "AAAAAAAANEDiPbwgglJNQOI9vCCCUlhA",
            "dtype": "f8"
           },
           "z": {
            "bdata": "AAAAAAAAAAAZ/qHtZrdQQBn+oe1mt2BA",
            "dtype": "f8"
           }
          },
          {
           "line": {
            "color": "orange",
            "width": 4
           },
           "marker": {
            "color": "orange",
            "size": 3
           },
           "mode": "lines+markers",
           "name": "🚀 H2",
           "type": "scatter3d",
           "x": {
            "bdata": "AAAAAACAccC+tzR3ccBwwH1vae7iAHDA",
            "dtype": "f8"
           },
           "y": {
            "bdata": "AAAAAABAb0Dmk0gHt+NtQMsnkQ5uh2xA",
            "dtype": "f8"
           },
           "z": {
            "bdata": "AAAAAADAd0CheMgtyKh3QIbiIbcgY3dA",
            "dtype": "f8"
           }
          },
          {
           "line": {
            "color": "cyan",
            "dash": "dash",
            "width": 5
           },
           "marker": {
            "color": "cyan",
            "size": 4,
            "symbol": "diamond"
           },
           "mode": "lines+markers",
           "name": "🛡️ 브라보→H2",
           "type": "scatter3d",
           "x": {
            "bdata": "AAAAAAAARMBGhdjFkyFSwI0KsYsnQ1rA",
            "dtype": "f8"
           },
           "y": {
            "bdata": "AAAAAAAAPsCE/r1I8g4mQEL/XiR5B0pA",
            "dtype": "f8"
           },
           "z": {
            "bdata": "AAAAAAAAAABy/a7rNVBPQHL9rus1UF9A",
            "dtype": "f8"
           }
          },
          {
           "line": {
            "color": "green",
            "width": 4
           },
           "marker": {
            "color": "green",
            "size": 3
           },
           "mode": "lines+markers",
           "name": "🚀 H3",
           "type": "scatter3d",
           "x": {
            "bdata": "AAAAAAAAJEAun0Q6uB0dQFs+iXRwOxJA",
            "dtype": "f8"
           },
           "y": {
            "bdata": "AAAAAADgdcDsbnZFydp0wNjd7IqS1XPA",
            "dtype": "f8"
           },
           "z": {
            "bdata": "AAAAAABAekCheMgtyCh6QIbiIbcg43lA",
            "dtype": "f8"
           }
          },
          {
           "line": {
            "color": "cyan",
            "dash": "dash",
            "width": 5
           },
           "marker": {
            "color": "cyan",
            "size": 4,
            "symbol": "diamond"
           },
           "mode": "lines+markers",
           "name": "🛡️ 브라보→H3",
           "type": "scatter3d",
           "x": {
            "bdata": "AAAAAAAARMAxySQyB8NAwMIkk8gcDDvA",
            "dtype": "f8"
           },
           "y": {
            "bdata": "AAAAAAAAPsDV+673XSJSwKr3Xe+7xFzA",
            "dtype": "f8"
           },
           "z": {
            "bdata": "AAAAAAAAAAC6nRWAl1dRQLqdFYCXV2FA",
            "dtype": "f8"
           }
          },
          {
           "line": {
            "color": "purple",
            "width": 4
           },
           "marker": {
            "color": "purple",
            "size": 3
           },
           "mode": "lines+markers",
           "name": "🚀 H4",
           "type": "scatter3d",
           "x": {
            "bdata": "AAAAAADAckBwXI1kUuZxQN+4GsmkDHFA",
            "dtype": "f8"
           },
           "y": {
            "bdata": "AAAAAAAAJMCQRvKNQS0mwCGN5BuDWijA",
            "dtype": "f8"
           },
           "z": {
            "bdata": "AAAAAADgdUCheMgtyMh1QIbiIbcgg3VA",
            "dtype": "f8"
           }
          },
          {
           "line": {
            "color": "blue",
            "dash": "dash",
            "width": 5
           },
           "marker": {
            "color": "blue",
            "size": 4,
            "symbol": "diamond"
           },
           "mode": "lines+markers",
           "name": "🛡️ 알파→H4",
           "type": "scatter3d",
           "x": {
            "bdata": "AAAAAAAASUCocD10GstWQKhwPXQai2BA",
            "dtype": "f8"
           },
           "y": {
            "bdata": "AAAAAAAANEAqDC8eKa0oQKYwvHiktBJA",
            "dtype": "f8"
           },
           "z": {
            "bdata": "AAAAAAAAAACEFee5SYRRQIQV57lJhGFA",
            "dtype": "f8"
           }
          },
          {
           "line": {
            "color": "brown",
            "width": 4
           },
           "marker": {
            "color": "brown",
            "size": 3
           },
           "mode": "lines+markers",
           "name": "🚀 H5",
           "type": "scatter3d",
           "x": {
            "bdata": "AAAAAAAAacDsbnZFyfpnwNjd7IqS9WbA",
            "dtype": "f8"
           },
           "y": {
            "bdata": "AAAAAABAb8Dmk0gHt+NtwMsnkQ5uh2zA",
            "dtype": "f8"
           },
           "z": {
            "bdata": "AAAAAAAgfECheMgtyAh8QIbiIbcgw3tA",
            "dtype": "f8"
           }
          },
          {
           "line": {
            "color": "cyan",
            "dash": "dash",
            "width": 5
           },
           "marker": {
            "color": "cyan",
            "size": 4,
            "symbol": "diamond"
           },
           "mode": "lines+markers",
           "name": "🛡️ 브라보→H5",
           "type": "scatter3d",
           "x": {
            "bdata": "AAAAAAAARMC+Mx67SGZOwL4zHrtIZlTA",
            "dtype": "f8"
           },
           "y": {
            "bdata": "AAAAAAAAPsBqdmAgLXhNwGp2YCAt+FXA",
            "dtype": "f8"
           },
           "z": {
            "bdata": "AAAAAAAAAAB8MgUmGFxSQHwyBSYYXGJA",
            "dtype": "f8"
           }
          }
         ],
         "layout": {
          "title": {
           "text": "🚀 다중 위협 분산 대응 시스템 - 시간: 1.09초"
          }
         },
         "name": "26"
        },
        {
         "data": [
          {
           "marker": {
            "color": "red",
            "size": 20,
            "symbol": "diamond"
           },
           "mode": "markers",
           "name": "🏙️ 도시",
           "type": "scatter3d",
           "x": [
            0
           ],
           "y": [
            0
           ],
           "z": [
            0
           ]
          },
          {
           "marker": {
            "color": "blue",
            "size": 15,
            "symbol": "square"
           },
           "mode": "markers",
           "name": "🏭 알파 기지",
           "type": "scatter3d",
           "x": [
            50
           ],
           "y": [
            20
           ],
           "z": [
            0
           ]
          },
          {
           "marker": {
            "color": "cyan",
            "size": 15,
            "symbol": "square"
           },
           "mode": "markers",
           "name": "🏭 브라보 기지",
           "type": "scatter3d",
           "x": [
            -40
           ],
           "y": [
            -30
           ],
           "z": [
            0
           ]
          },
          {
           "line": {
            "color": "red",
            "width": 4
           },
           "marker": {
            "color": "red",
            "size": 3
           },
           "mode": "lines+markers",
           "name": "🚀 H1",
           "type": "scatter3d",
           "x": {
            "bdata": "AAAAAABAb0AM/KPCUdZtQBj4R4WjbGxA",
            "dtype": "f8"
           },
           "y": {
            "bdata": "AAAAAADAckCIfaYZ891xQA/7TDPm+3BA",
            "dtype": "f8"
           },
           "z": {
            "bdata": "AAAAAAAAeUBoPFAr9uZ4QKLxQK3Ym3hA",
            "dtype": "f8"
           }
          },
          {
           "line": {
            "color": "blue",
            "dash": "dash",
            "width": 5
           },
           "marker": {
            "color": "blue",
            "size": 4,
            "symbol": "diamond"
           },
           "mode": "lines+markers",
           "name": "🛡️ 알파→H1",
           "type": "scatter3d",
           "x": {
            "bdata": "AAAAAAAASUAH7eG8DV1TQA7aw3kbOlpA",
            "dtype": "f8"
           },
           "y": {
            "bdata": "AAAAAAAANEAcyq81whBOQBzKrzXCEFlA",
            "dtype": "f8"
           },
           "z": {
            "bdata": "AAAAAAAAAACPm0+U/ltRQI+bT5T+W2FA",
            "dtype": "f8"
           }
          },
          {
           "line": {
            "color": "orange",
            "width": 4
           },
           "marker": {
            "color": "orange",
            "size": 3
           },
           "mode": "lines+markers",
           "name": "🚀 H2",
           "type": "scatter3d",
           "x": {
            "bdata": "AAAAAACAccBtl0BeE7lwwLRdAnlN5G/A",
            "dtype": "f8"
           },
           "y": {
            "bdata": "AAAAAABAb0AM/KPCUdZtQBj4R4WjbGxA",
            "dtype": "f8"
           },
           "z": {
            "bdata": "AAAAAADAd0BoPFAr9qZ3QKLxQK3YW3dA",
            "dtype": "f8"
           }
          },
          {
           "line": {
            "color": "cyan",
            "dash": "dash",
            "width": 5
           },
           "marker": {
            "color": "cyan",
            "size": 4,
            "symbol": "diamond"
           },
           "mode": "lines+markers",
           "name": "🛡️ 브라보→H2",
           "type": "scatter3d",
           "x": {
            "bdata": "AAAAAAAARMBminRNo3FSwM0U6ZpG41rA",
            "dtype": "f8"
           },
           "y": {
            "bdata": "AAAAAAAAPsAkEhTp5zYpQBIJivRzm0tA",
            "dtype": "f8"
           },
           "z": {
            "bdata": "AAAAAAAAAACsPsJhQ0JQQKw+wmFDQmBA",
            "dtype": "f8"
           }
          },
          {
           "line": {
            "color": "green",
            "width": 4
           },
           "marker": {
            "color": "green",
            "size": 3
           },
           "mode": "lines+markers",
           "name": "🚀 H3",
           "type": "scatter3d",
           "x": {
            "bdata": "AAAAAAAAJEBg4B8VjrIcQMHAPyocZRFA",
            "dtype": "f8"
           },
           "y": {
            "bdata": "AAAAAADgdcAJ/fpRvdB0wBL69aN6wXPA",
            "dtype": "f8"
           },
           "z": {
            "bdata": "AAAAAABAekBoPFAr9iZ6QKLxQK3Y23lA",
            "dtype": "f8"
           }
          },
          {
           "line": {
            "color": "cyan",
            "dash": "dash",
            "width": 5
           },
           "marker": {
            "color": "cyan",
            "size": 4,
            "symbol": "diamond"
           },
           "mode": "lines+markers",
           "name": "🛡️ 브라보→H3",
           "type": "scatter3d",
           "x": {
            "bdata": "AAAAAAAARMB4btcCJaNAwN65XQuUjDrA",
            "dtype": "f8"
           },
           "y": {
            "bdata": "AAAAAAAAPsAOo/rPEotSwBxG9Z8lll3A",
            "dtype": "f8"
           },
           "z": {
            "bdata": "AAAAAAAAAAC36HhnWAJSQLfoeGdYAmJA",
            "dtype": "f8"
           }
          },
          {
           "line": {
            "color": "purple",
            "width": 4
           },
           "marker": {
            "color": "purple",
            "size": 3
           },
           "mode": "lines+markers",
           "name": "🚀 H4",
           "type": "scatter3d",
           "x": {
            "bdata": "AAAAAADAckCIfaYZ891xQA/7TDPm+3BA",
            "dtype": "f8"
           },
           "y": {
            "bdata": "AAAAAAAAJMAg0yxisEImwECmWcRghSjA",
            "dtype": "f8"
           },
           "z": {
            "bdata": "AAAAAADgdUBoPFAr9sZ1QKLxQK3Ye3VA",
            "dtype": "f8"
           }
          },
          {
           "line": {
            "color": "blue",
            "dash": "dash",
            "width": 5
           },
           "marker": {
            "color": "blue",
            "size": 4,
            "symbol": "diamond"
           },
           "mode": "lines+markers",
           "name": "🛡️ 알파→H4",
           "type": "scatter3d",
           "x": {
            "bdata": "AAAAAAAASUCazT8WdDBXQJrNPxZ08GBA",
            "dtype": "f8"
           },
           "y": {
            "bdata": "AAAAAAAANEB6FuI8SBYoQOpZiPMgWRBA",
            "dtype": "f8"
           },
           "z": {
            "bdata": "AAAAAAAAAAAd5TS3wjBSQB3lNLfCMGJA",
            "dtype": "f8"
           }
          },
          {
           "line": {
            "color": "brown",
            "width": 4
           },
           "marker": {
            "color": "brown",
            "size": 3
           },
           "mode": "lines+markers",
           "name": "🚀 H5",
           "type": "scatter3d",
           "x": {
            "bdata": "AAAAAAAAacAJ/fpRvfBnwBL69aN64WbA",
            "dtype": "f8"
           },
           "y": {
            "bdata": "AAAAAABAb8AM/KPCUdZtwBj4R4WjbGzA",
            "dtype": "f8"
           },
           "z": {
            "bdata": "AAAAAAAgfEBoPFAr9gZ8QKLxQK3Yu3tA",
            "dtype": "f8"
           }
          },
          {
           "line": {
            "color": "cyan",
            "dash": "dash",
            "width": 5
           },
           "marker": {
            "color": "cyan",
            "size": 4,
            "symbol": "diamond"
           },
           "mode": "lines+markers",
           "name": "🛡️ 브라보→H5",
           "type": "scatter3d",
           "x": {
            "bdata": "AAAAAAAARMBtSWT9rcxOwG1JZP2tzFTA",
            "dtype": "f8"
           },
           "y": {
            "bdata": "AAAAAAAAPsBGZxUEpQZOwEZnFQSlhlbA",
            "dtype": "f8"
           },
           "z": {
            "bdata": "AAAAAAAAAADjFhkA3hBTQOMWGQDeEGNA",
            "dtype": "f8"
           }
          }
         ],
         "layout": {
          "title": {
           "text": "🚀 다중 위협 분산 대응 시스템 - 시간: 1.13초"
          }
         },
         "name": "27"
        },
        {
         "data": [
          {
           "marker": {
            "color": "red",
            "size": 20,
            "symbol": "diamond"
           },
           "mode": "markers",
           "name": "🏙️ 도시",
           "type": "scatter3d",
           "x": [
            0
           ],
           "y": [
            0
           ],
           "z": [
            0
           ]
          },
          {
           "marker": {
            "color": "blue",
            "size": 15,
            "symbol": "square"
           },
           "mode": "markers",
           "name": "🏭 알파 기지",
           "type": "scatter3d",
           "x": [
            50
           ],
           "y": [
            20
           ],
           "z": [
            0
           ]
          },
          {
           "marker": {
            "color": "cyan",
            "size": 15,
            "symbol": "square"
           },
           "mode": "markers",
           "name": "🏭 브라보 기지",
           "type": "scatter3d",
           "x": [
            -40
           ],
           "y": [
            -30
           ],
           "z": [
            0
           ]
          },
          {
           "line": {
            "color": "red",
            "width": 4
           },
           "marker": {
            "color": "red",
            "size": 3
           },
           "mode": "lines+markers",
           "name": "🚀 H1",
           "type": "scatter3d",
           "x": {
            "bdata": "AAAAAABAb0AyZP997MhtQGXI/vvYUWxA",
            "dtype": "f8"
           },
           "y": {
            "bdata": "AAAAAADAckCgnr/Ok9VxQD89f50n63BA",
            "dtype": "f8"
           },
           "z": {
            "bdata": "AAAAAAAAeUDzwwOTEuV4QM0PD0xKlHhA",
            "dtype": "f8"
           }
          },
          {
           "line": {
            "color": "blue",
            "dash": "dash",
            "width": 5
           },
           "marker": {
            "color": "blue",
            "size": 4,
            "symbol": "diamond"
           },
           "mode": "lines+markers",
           "name": "🛡️ 알파→H1",
           "type": "scatter3d",
           "x": {
            "bdata": "AAAAAAAASUBT7Kc1IZ5TQKbYT2tCvFpA",
            "dtype": "f8"
           },
           "y": {
            "bdata": "AAAAAAAANEBVVqNKAs9OQFVWo0oCz1lA",
            "dtype": "f8"
           },
           "z": {
            "bdata": "AAAAAAAAAAAGOf06lgBSQAY5/TqWAGJA",
            "dtype": "f8"
           }
          },
          {
           "line": {
            "color": "orange",
            "width": 4
           },
           "marker": {
            "color": "orange",
            "size": 3
           },
           "mode": "lines+markers",
           "name": "🚀 H2",
           "type": "scatter3d",
           "x": {
            "bdata": "AAAAAACAccAcd0xFtbFwwG/cMRXVxm/A",
            "dtype": "f8"
           },
           "y": {
            "bdata": "AAAAAABAb0AyZP997MhtQGXI/vvYUWxA",
            "dtype": "f8"
           },
           "z": {
            "bdata": "AAAAAADAd0DzwwOTEqV3QM0PD0xKVHdA",
            "dtype": "f8"
           }
          },
          {
           "line": {
            "color": "cyan",
            "dash": "dash",
            "width": 5
           },
           "marker": {
            "color": "cyan",
            "size": 4,
            "symbol": "diamond"
           },
           "mode": "lines+markers",
           "name": "🛡️ 브라보→H2",
           "type": "scatter3d",
           "x": {
            "bdata": "AAAAAAAARMCGjxDVssFSwA0fIaplg1vA",
            "dtype": "f8"
           },
           "y": {
            "bdata": "AAAAAAAAPsDIJWqJ3V4sQOQStcRuL01A",
            "dtype": "f8"
           },
           "z": {
            "bdata": "AAAAAAAAAACf/qzNa9xQQJ/+rM1r3GBA",
            "dtype": "f8"
           }
          },
          {
           "line": {
            "color": "green",
            "width": 4
           },
           "marker": {
            "color": "green",
            "size": 3
           },
           "mode": "lines+markers",
           "name": "🚀 H3",
           "type": "scatter3d",
           "x": {
            "bdata": "AAAAAAAAJECUIfvvY0ccQChD9t/HjhBA",
            "dtype": "f8"
           },
           "y": {
            "bdata": "AAAAAADgdcAmi39escZ0wEwW/7xirXPA",
            "dtype": "f8"
           },
           "z": {
            "bdata": "AAAAAABAekDzwwOTEiV6QM0PD0xK1HlA",
            "dtype": "f8"
           }
          },
          {
           "line": {
            "color": "cyan",
            "dash": "dash",
            "width": 5
           },
           "marker": {
            "color": "cyan",
            "size": 4,
            "symbol": "diamond"
           },
           "mode": "lines+markers",
           "name": "🛡️ 브라보→H3",
           "type": "scatter3d",
           "x": {
            "bdata": "AAAAAAAARMC+E4rTQoNAwPlOKE4LDTrA",
            "dtype": "f8"
           },
           "y": {
            "bdata": "AAAAAAAAPsBHSkaox/NSwI6UjFCPZ17A",
            "dtype": "f8"
           },
           "z": {
            "bdata": "AAAAAAAAAAC0M9xOGa1SQLQz3E4ZrWJA",
            "dtype": "f8"
           }
          },
          {
           "line": {
            "color": "purple",
            "width": 4
           },
           "marker": {
            "color": "purple",
            "size": 3
           },
           "mode": "lines+markers",
           "name": "🚀 H4",
           "type": "scatter3d",
           "x": {
            "bdata": "AAAAAADAckCgnr/Ok9VxQD89f50n63BA",
            "dtype": "f8"
           },
           "y": {
            "bdata": "AAAAAAAAJMCvX2c2H1gmwF6/zmw+sCjA",
            "dtype": "f8"
           },
           "z": {
            "bdata": "AAAAAADgdUDzwwOTEsV1QM0PD0xKdHVA",
            "dtype": "f8"
           }
          },
          {
           "line": {
            "color": "blue",
            "dash": "dash",
            "width": 5
           },
           "marker": {
            "color": "blue",
            "size": 4,
            "symbol": "diamond"
           },
           "mode": "lines+markers",
           "name": "🛡️ 알파→H4",
           "type": "scatter3d",
           "x": {
            "bdata": "AAAAAAAASUCMKkK4zZVXQIwqQrjNVWFA",
            "dtype": "f8"
           },
           "y": {
            "bdata": "AAAAAAAANEDLIJVbZ38nQFgGqdw6+wtA",
            "dtype": "f8"
           },
           "z": {
            "bdata": "AAAAAAAAAAC1tIK0O91SQLW0grQ73WJA",
            "dtype": "f8"
           }
          },
          {
           "line": {
            "color": "brown",
            "width": 4
           },
           "marker": {
            "color": "brown",
            "size": 3
           },
           "mode": "lines+markers",
           "name": "🚀 H5",
           "type": "scatter3d",
           "x": {
            "bdata": "AAAAAAAAacAmi39eseZnwEwW/7xizWbA",
            "dtype": "f8"
           },
           "y": {
            "bdata": "AAAAAABAb8AyZP997MhtwGXI/vvYUWzA",
            "dtype": "f8"
           },
           "z": {
            "bdata": "AAAAAAAgfEDzwwOTEgV8QM0PD0xKtHtA",
            "dtype": "f8"
           }
          },
          {
           "line": {
            "color": "cyan",
            "dash": "dash",
            "width": 5
           },
           "marker": {
            "color": "cyan",
            "size": 4,
            "symbol": "diamond"
           },
           "mode": "lines+markers",
           "name": "🛡️ 브라보→H5",
           "type": "scatter3d",
           "x": {
            "bdata": "AAAAAAAARMAcX6o/EzNPwBxfqj8TM1XA",
            "dtype": "f8"
           },
           "y": {
            "bdata": "AAAAAAAAPsAjWMrnHJVOwCNYyuccFVfA",
            "dtype": "f8"
           },
           "z": {
            "bdata": "AAAAAAAAAABK+yzao8VTQEr7LNqjxWNA",
            "dtype": "f8"
           }
          }
         ],
         "layout": {
          "title": {
           "text": "🚀 다중 위협 분산 대응 시스템 - 시간: 1.17초"
          }
         },
         "name": "28"
        },
        {
         "data": [
          {
           "marker": {
            "color": "red",
            "size": 20,
            "symbol": "diamond"
           },
           "mode": "markers",
           "name": "🏙️ 도시",
           "type": "scatter3d",
           "x": [
            0
           ],
           "y": [
            0
           ],
           "z": [
            0
           ]
          },
          {
           "marker": {
            "color": "blue",
            "size": 15,
            "symbol": "square"
           },
           "mode": "markers",
           "name": "🏭 알파 기지",
           "type": "scatter3d",
           "x": [
            50
           ],
           "y": [
            20
           ],
           "z": [
            0
           ]
          },
          {
           "marker": {
            "color": "cyan",
            "size": 15,
            "symbol": "square"
           },
           "mode": "markers",
           "name": "🏭 브라보 기지",
           "type": "scatter3d",
           "x": [
            -40
           ],
           "y": [
            -30
           ],
           "z": [
            0
           ]
          },
          {
           "line": {
            "color": "red",
            "width": 4
           },
           "marker": {
            "color": "red",
            "size": 3
           },
           "mode": "lines+markers",
           "name": "🚀 H1",
           "type": "scatter3d",
           "x": {
            "bdata": "AAAAAABAb0BZzFo5h7ttQLKYtXION2xA",
            "dtype": "f8"
           },
           "y": {
            "bdata": "AAAAAADAckC4v9iDNM1xQG9/sQdp2nBA",
            "dtype": "f8"
           },
           "z": {
            "bdata": "AAAAAAAAeUBCD+NkHeN4QAg9jJN1jHhA",
            "dtype": "f8"
           }
          },
          {
           "line": {
            "color": "blue",
            "dash": "dash",
            "width": 5
           },
           "marker": {
            "color": "blue",
            "size": 4,
            "symbol": "diamond"
           },
           "mode": "lines+markers",
           "name": "🛡️ 알파→H1",
           "type": "scatter3d",
           "x": {
            "bdata": "AAAAAAAASUCf622uNN9TQD7X21xpPltA",
            "dtype": "f8"
           },
           "y": {
            "bdata": "AAAAAAAANECP4pZfQo1PQI/ill9CjVpA",
            "dtype": "f8"
           },
           "z": {
            "bdata": "AAAAAAAAAAB91qrhLaVSQH3WquEtpWJA",
            "dtype": "f8"
           }
          },
          {
           "line": {
            "color": "orange",
            "width": 4
           },
           "marker": {
            "color": "orange",
            "size": 3
           },
           "mode": "lines+markers",
           "name": "🚀 H2",
           "type": "scatter3d",
           "x": {
            "bdata": "AAAAAACAccDKVlgsV6pwwCpbYbFcqW/A",
            "dtype": "f8"
           },
           "y": {
            "bdata": "AAAAAABAb0BZzFo5h7ttQLKYtXION2xA",
            "dtype": "f8"
           },
           "z": {
            "bdata": "AAAAAADAd0BCD+NkHaN3QAg9jJN1THdA",
            "dtype": "f8"
           }
          },
          {
           "line": {
            "color": "cyan",
            "dash": "dash",
            "width": 5
           },
           "marker": {
            "color": "cyan",
            "size": 4,
            "symbol": "diamond"
           },
           "mode": "lines+markers",
           "name": "🛡️ 브라보→H2",
           "type": "scatter3d",
           "x": {
            "bdata": "AAAAAAAARMCmlKxcwhFTwE0pWbmEI1zA",
            "dtype": "f8"
           },
           "y": {
            "bdata": "AAAAAAAAPsBoOcAp04YvQLQc4JRpw05A",
            "dtype": "f8"
           },
           "z": {
            "bdata": "AAAAAAAAAACSvpc5lHZRQJK+lzmUdmFA",
            "dtype": "f8"
           }
          },
          {
           "line": {
            "color": "green",
            "width": 4
           },
           "marker": {
            "color": "green",
            "size": 3
           },
           "mode": "lines+markers",
           "name": "🚀 H3",
           "type": "scatter3d",
           "x": {
            "bdata": "AAAAAAAAJEDHYtbKOdwbQByLWSvncA9A",
            "dtype": "f8"
           },
           "y": {
            "bdata": "AAAAAADgdcBDGQRrpbx0wIUyCNZKmXPA",
            "dtype": "f8"
           },
           "z": {
            "bdata": "AAAAAABAekBCD+NkHSN6QAg9jJN1zHlA",
            "dtype": "f8"
           }
          },
          {
           "line": {
            "color": "cyan",
            "dash": "dash",
            "width": 5
           },
           "marker": {
            "color": "cyan",
            "size": 4,
            "symbol": "diamond"
           },
           "mode": "lines+markers",
           "name": "🛡️ 브라보→H3",
           "type": "scatter3d",
           "x": {
            "bdata": "AAAAAAAARMAFuTykYGNAwBTk8pCCjTnA",
            "dtype": "f8"
           },
           "y": {
            "bdata": "AAAAAAAAPsCA8ZGAfFxTwAHjIwH5OF/A",
            "dtype": "f8"
           },
           "z": {
            "bdata": "AAAAAAAAAACxfj822ldTQLF+PzbaV2NA",
            "dtype": "f8"
           }
          },
          {
           "line": {
            "color": "purple",
            "width": 4
           },
           "marker": {
            "color": "purple",
            "size": 3
           },
           "mode": "lines+markers",
           "name": "🚀 H4",
           "type": "scatter3d",
           "x": {
            "bdata": "AAAAAADAckC4v9iDNM1xQG9/sQdp2nBA",
            "dtype": "f8"
           },
           "y": {
            "bdata": "AAAAAAAAJMA/7KEKjm0mwH3YQxUc2yjA",
            "dtype": "f8"
           },
           "z": {
            "bdata": "AAAAAADgdUBCD+NkHcN1QAg9jJN1bHVA",
            "dtype": "f8"
           }
          },
          {
           "line": {
            "color": "blue",
            "dash": "dash",
            "width": 5
           },
           "marker": {
            "color": "blue",
            "size": 4,
            "symbol": "diamond"
           },
           "mode": "lines+markers",
           "name": "🛡️ 알파→H4",
           "type": "scatter3d",
           "x": {
            "bdata": "AAAAAAAASUB/h0RaJ/tXQH+HRFonu2FA",
            "dtype": "f8"
           },
           "y": {
            "bdata": "AAAAAAAANEAcK0h6hugmQOBYQdIzRAdA",
            "dtype": "f8"
           },
           "z": {
            "bdata": "AAAAAAAAAABOhNCxtIlTQE6E0LG0iWNA",
            "dtype": "f8"
           }
          },
          {
           "line": {
            "color": "brown",
            "width": 4
           },
           "marker": {
            "color": "brown",
            "size": 3
           },
           "mode": "lines+markers",
           "name": "🚀 H5",
           "type": "scatter3d",
           "x": {
            "bdata": "AAAAAAAAacBDGQRrpdxnwIUyCNZKuWbA",
            "dtype": "f8"
           },
           "y": {
            "bdata": "AAAAAABAb8BZzFo5h7ttwLKYtXION2zA",
            "dtype": "f8"
           },
           "z": {
            "bdata": "AAAAAAAgfEBCD+NkHQN8QAg9jJN1rHtA",
            "dtype": "f8"
           }
          },
          {
           "line": {
            "color": "cyan",
            "dash": "dash",
            "width": 5
           },
           "marker": {
            "color": "cyan",
            "size": 4,
            "symbol": "diamond"
           },
           "mode": "lines+markers",
           "name": "🛡️ 브라보→H5",
           "type": "scatter3d",
           "x": {
            "bdata": "AAAAAAAARMDKdPCBeJlPwMp08IF4mVXA",
            "dtype": "f8"
           },
           "y": {
            "bdata": "AAAAAAAAPsD/SH/LlCNPwP9If8uUo1fA",
            "dtype": "f8"
           },
           "z": {
            "bdata": "AAAAAAAAAACx30C0aXpUQLHfQLRpemRA",
            "dtype": "f8"
           }
          }
         ],
         "layout": {
          "title": {
           "text": "🚀 다중 위협 분산 대응 시스템 - 시간: 1.21초"
          }
         },
         "name": "29"
        },
        {
         "data": [
          {
           "marker": {
            "color": "red",
            "size": 20,
            "symbol": "diamond"
           },
           "mode": "markers",
           "name": "🏙️ 도시",
           "type": "scatter3d",
           "x": [
            0
           ],
           "y": [
            0
           ],
           "z": [
            0
           ]
          },
          {
           "marker": {
            "color": "blue",
            "size": 15,
            "symbol": "square"
           },
           "mode": "markers",
           "name": "🏭 알파 기지",
           "type": "scatter3d",
           "x": [
            50
           ],
           "y": [
            20
           ],
           "z": [
            0
           ]
          },
          {
           "marker": {
            "color": "cyan",
            "size": 15,
            "symbol": "square"
           },
           "mode": "markers",
           "name": "🏭 브라보 기지",
           "type": "scatter3d",
           "x": [
            -40
           ],
           "y": [
            -30
           ],
           "z": [
            0
           ]
          },
          {
           "line": {
            "color": "red",
            "width": 4
           },
           "marker": {
            "color": "red",
            "size": 3
           },
           "mode": "lines+markers",
           "name": "🚀 H1",
           "type": "scatter3d",
           "x": {
            "bdata": "AAAAAABAb0B/NLb0Ia5tQP5obOlDHGxA",
            "dtype": "f8"
           },
           "y": {
            "bdata": "AAAAAADAckDP4PE41cRxQJ/B43GqyXBA",
            "dtype": "f8"
           },
           "z": {
            "bdata": "AAAAAAAAeUBVHu6gFuF4QFN5uINahHhA",
            "dtype": "f8"
           }
          },
          {
           "line": {
            "color": "blue",
            "dash": "dash",
            "width": 5
           },
           "marker": {
            "color": "blue",
            "size": 4,
            "symbol": "diamond"
           },
           "mode": "lines+markers",
           "name": "🛡️ 알파→H1",
           "type": "scatter3d",
           "x": {
            "bdata": "AAAAAAAASUDs6jMnSCBUQNjVZ06QwFtA",
            "dtype": "f8"
           },
           "y": {
            "bdata": "AAAAAAAANEBkN0U6wSVQQMluinSCS1tA",
            "dtype": "f8"
           },
           "z": {
            "bdata": "AAAAAAAAAAD0c1iIxUlTQPRzWIjFSWNA",
            "dtype": "f8"
           }
          },
          {
           "line": {
            "color": "orange",
            "width": 4
           },
           "marker": {
            "color": "orange",
            "size": 3
           },
           "mode": "lines+markers",
           "name": "🚀 H2",
           "type": "scatter3d",
           "x": {
            "bdata": "AAAAAACAccB5NmQT+aJwwOXZkE3ki2/A",
            "dtype": "f8"
           },
           "y": {
            "bdata": "AAAAAABAb0B/NLb0Ia5tQP5obOlDHGxA",
            "dtype": "f8"
           },
           "z": {
            "bdata": "AAAAAADAd0BVHu6gFqF3QFN5uINaRHdA",
            "dtype": "f8"
           }
          },
          {
           "line": {
            "color": "cyan",
            "dash": "dash",
            "width": 5
           },
           "marker": {
            "color": "cyan",
            "size": 4,
            "symbol": "diamond"
           },
           "mode": "lines+markers",
           "name": "🛡️ 브라보→H2",
           "type": "scatter3d",
           "x": {
            "bdata": "AAAAAAAARMDHmUjk0WFTwI4zkcijw1zA",
            "dtype": "f8"
           },
           "y": {
            "bdata": "AAAAAAAAPsCGJgtlZFcxQEOThTKyK1BA",
            "dtype": "f8"
           },
           "z": {
            "bdata": "AAAAAAAAAACGfoKlvBBSQIZ+gqW8EGJA",
            "dtype": "f8"
           }
          },
          {
           "line": {
            "color": "green",
            "width": 4
           },
           "marker": {
            "color": "green",
            "size": 3
           },
           "mode": "lines+markers",
           "name": "🚀 H3",
           "type": "scatter3d",
           "x": {
            "bdata": "AAAAAAAAJED6o7GlD3EbQOaPxpY+xA1A",
            "dtype": "f8"
           },
           "y": {
            "bdata": "AAAAAADgdcBfp4h3mbJ0wL9OEe8yhXPA",
            "dtype": "f8"
           },
           "z": {
            "bdata": "AAAAAABAekBVHu6gFiF6QFN5uINaxHlA",
            "dtype": "f8"
           }
          },
          {
           "line": {
            "color": "cyan",
            "dash": "dash",
            "width": 5
           },
           "marker": {
            "color": "cyan",
            "size": 4,
            "symbol": "diamond"
           },
           "mode": "lines+markers",
           "name": "🛡️ 브라보→H3",
           "type": "scatter3d",
           "x": {
            "bdata": "AAAAAAAARMBMXu90fkNAwDB5vdP5DTnA",
            "dtype": "f8"
           },
           "y": {
            "bdata": "AAAAAAAAPsC6mN1YMcVTwLqY3VgxBWDA",
            "dtype": "f8"
           },
           "z": {
            "bdata": "AAAAAAAAAACvyaIdmwJUQK/Joh2bAmRA",
            "dtype": "f8"
           }
          },
          {
           "line": {
            "color": "purple",
            "width": 4
           },
           "marker": {
            "color": "purple",
            "size": 3
           },
           "mode": "lines+markers",
           "name": "🚀 H4",
           "type": "scatter3d",
           "x": {
            "bdata": "AAAAAADAckDP4PE41cRxQJ/B43GqyXBA",
            "dtype": "f8"
           },
           "y": {
            "bdata": "AAAAAAAAJMDOeNze/IImwJzxuL35BSnA",
            "dtype": "f8"
           },
           "z": {
            "bdata": "AAAAAADgdUBVHu6gFsF1QFN5uINaZHVA",
            "dtype": "f8"
           }
          },
          {
           "line": {
            "color": "blue",
            "dash": "dash",
            "width": 5
           },
           "marker": {
            "color": "blue",
            "size": 4,
            "symbol": "diamond"
           },
           "mode": "lines+markers",
           "name": "🛡️ 알파→H4",
           "type": "scatter3d",
           "x": {
            "bdata": "AAAAAAAASUBy5Eb8gGBYQHLkRvyAIGJA",
            "dtype": "f8"
           },
           "y": {
            "bdata": "AAAAAAAANEBsNfuYpVEmQGCr2ccsjQJA",
            "dtype": "f8"
           },
           "z": {
            "bdata": "AAAAAAAAAADnUx6vLTZUQOdTHq8tNmRA",
            "dtype": "f8"
           }
          },
          {
           "line": {
            "color": "brown",
            "width": 4
           },
           "marker": {
            "color": "brown",
            "size": 3
           },
           "mode": "lines+markers",
           "name": "🚀 H5",
           "type": "scatter3d",
           "x": {
            "bdata": "AAAAAAAAacBfp4h3mdJnwL9OEe8ypWbA",
            "dtype": "f8"
           },
           "y": {
            "bdata": "AAAAAABAb8B/NLb0Ia5twP5obOlDHGzA",
            "dtype": "f8"
           },
           "z": {
            "bdata": "AAAAAAAgfEBVHu6gFgF8QFN5uINapHtA",
            "dtype": "f8"
           }
          },
          {
           "line": {
            "color": "cyan",
            "dash": "dash",
            "width": 5
           },
           "marker": {
            "color": "cyan",
            "size": 4,
            "symbol": "diamond"
           },
           "mode": "lines+markers",
           "name": "🛡️ 브라보→H5",
           "type": "scatter3d",
           "x": {
            "bdata": "AAAAAAAARMB5ijbE3f9PwHmKNsTd/1XA",
            "dtype": "f8"
           },
           "y": {
            "bdata": "AAAAAAAAPsDcOTSvDLJPwNw5NK8MMljA",
            "dtype": "f8"
           },
           "z": {
            "bdata": "AAAAAAAAAAAZxFSOLy9VQBnEVI4vL2VA",
            "dtype": "f8"
           }
          }
         ],
         "layout": {
          "title": {
           "text": "🚀 다중 위협 분산 대응 시스템 - 시간: 1.26초"
          }
         },
         "name": "30"
        },
        {
         "data": [
          {
           "marker": {
            "color": "red",
            "size": 20,
            "symbol": "diamond"
           },
           "mode": "markers",
           "name": "🏙️ 도시",
           "type": "scatter3d",
           "x": [
            0
           ],
           "y": [
            0
           ],
           "z": [
            0
           ]
          },
          {
           "marker": {
            "color": "blue",
            "size": 15,
            "symbol": "square"
           },
           "mode": "markers",
           "name": "🏭 알파 기지",
           "type": "scatter3d",
           "x": [
            50
           ],
           "y": [
            20
           ],
           "z": [
            0
           ]
          },
          {
           "marker": {
            "color": "cyan",
            "size": 15,
            "symbol": "square"
           },
           "mode": "markers",
           "name": "🏭 브라보 기지",
           "type": "scatter3d",
           "x": [
            -40
           ],
           "y": [
            -30
           ],
           "z": [
            0
           ]
          },
          {
           "line": {
            "color": "red",
            "width": 4
           },
           "marker": {
            "color": "red",
            "size": 3
           },
           "mode": "lines+markers",
           "name": "🚀 H1",
           "type": "scatter3d",
           "x": {
            "bdata": "AAAAAABAb0CmnBGwvKBtQEs5I2B5AWxA",
            "dtype": "f8"
           },
           "y": {
            "bdata": "AAAAAADAckDoAQvudbxxQM8DFtzruHBA",
            "dtype": "f8"
           },
           "z": {
            "bdata": "AAAAAAAAeUAr8SRH/t54QK3Ekxz5e3hA",
            "dtype": "f8"
           }
          },
          {
           "line": {
            "color": "blue",
            "dash": "dash",
            "width": 5
           },
           "marker": {
            "color": "blue",
            "size": 4,
            "symbol": "diamond"
           },
           "mode": "lines+markers",
           "name": "🛡️ 알파→H1",
           "type": "scatter3d",
           "x": {
            "bdata": "AAAAAAAASUA46vmfW2FUQHDU8z+3QlxA",
            "dtype": "f8"
           },
           "y": {
            "bdata": "AAAAAAAANECC/b5E4YRQQAT7fYnCCVxA",
            "dtype": "f8"
           },
           "z": {
            "bdata": "AAAAAAAAAABsEQYvXe5TQGwRBi9d7mNA",
            "dtype": "f8"
           }
          },
          {
           "line": {
            "color": "orange",
            "width": 4
           },
           "marker": {
            "color": "orange",
            "size": 3
           },
           "mode": "lines+markers",
           "name": "🚀 H2",
           "type": "scatter3d",
           "x": {
            "bdata": "AAAAAACAccAoFnD6mptwwKBYwOlrbm/A",
            "dtype": "f8"
           },
           "y": {
            "bdata": "AAAAAABAb0CmnBGwvKBtQEs5I2B5AWxA",
            "dtype": "f8"
           },
           "z": {
            "bdata": "AAAAAADAd0Ar8SRH/p53QK3Ekxz5O3dA",
            "dtype": "f8"
           }
          },
          {
           "line": {
            "color": "cyan",
            "dash": "dash",
            "width": 5
           },
           "marker": {
            "color": "cyan",
            "size": 4,
            "symbol": "diamond"
           },
           "mode": "lines+markers",
           "name": "🛡️ 브라보→H2",
           "type": "scatter3d",
           "x": {
            "bdata": "AAAAAAAARMDonuRr4bFTwM89ydfCY13A",
            "dtype": "f8"
           },
           "y": {
            "bdata": "AAAAAAAAPsBYMDY1X+syQCwYm5qv9VBA",
            "dtype": "f8"
           },
           "z": {
            "bdata": "AAAAAAAAAAB6Pm0R5apSQHo+bRHlqmJA",
            "dtype": "f8"
           }
          },
          {
           "line": {
            "color": "green",
            "width": 4
           },
           "marker": {
            "color": "green",
            "size": 3
           },
           "mode": "lines+markers",
           "name": "🚀 H3",
           "type": "scatter3d",
           "x": {
            "bdata": "AAAAAAAAJEAs5YyA5QUbQLKUMwKWFwxA",
            "dtype": "f8"
           },
           "y": {
            "bdata": "AAAAAADgdcB8NQ2Ejah0wPhqGggbcXPA",
            "dtype": "f8"
           },
           "z": {
            "bdata": "AAAAAABAekAr8SRH/h56QK3Ekxz5u3lA",
            "dtype": "f8"
           }
          },
          {
           "line": {
            "color": "cyan",
            "dash": "dash",
            "width": 5
           },
           "marker": {
            "color": "cyan",
            "size": 4,
            "symbol": "diamond"
           },
           "mode": "lines+markers",
           "name": "🛡️ 브라보→H3",
           "type": "scatter3d",
           "x": {
            "bdata": "AAAAAAAARMCTA6JFnCNAwEoOiBZxjjjA",
            "dtype": "f8"
           },
           "y": {
            "bdata": "AAAAAAAAPsD0Pykx5i1UwPQ/KTHmbWDA",
            "dtype": "f8"
           },
           "z": {
            "bdata": "AAAAAAAAAACtFAYFXK1UQK0UBgVcrWRA",
            "dtype": "f8"
           }
          },
          {
           "line": {
            "color": "purple",
            "width": 4
           },
           "marker": {
            "color": "purple",
            "size": 3
           },
           "mode": "lines+markers",
           "name": "🚀 H4",
           "type": "scatter3d",
           "x": {
            "bdata": "AAAAAADAckDoAQvudbxxQM8DFtzruHBA",
            "dtype": "f8"
           },
           "y": {
            "bdata": "AAAAAAAAJMBeBReza5gmwLsKLmbXMCnA",
            "dtype": "f8"
           },
           "z": {
            "bdata": "AAAAAADgdUAr8SRH/r51QK3Ekxz5W3VA",
            "dtype": "f8"
           }
          },
          {
           "line": {
            "color": "blue",
            "dash": "dash",
            "width": 5
           },
           "marker": {
            "color": "blue",
            "size": 4,
            "symbol": "diamond"
           },
           "mode": "lines+markers",
           "name": "🛡️ 알파→H4",
           "type": "scatter3d",
           "x": {
            "bdata": "AAAAAAAASUBlQUme2sVYQGVBSZ7ahWJA",
            "dtype": "f8"
           },
           "y": {
            "bdata": "AAAAAAAANEC8P663xLolQMD743pLrPs/",
            "dtype": "f8"
           },
           "z": {
            "bdata": "AAAAAAAAAACAI2yspuJUQIAjbKym4mRA",
            "dtype": "f8"
           }
          },
          {
           "line": {
            "color": "brown",
            "width": 4
           },
           "marker": {
            "color": "brown",
            "size": 3
           },
           "mode": "lines+markers",
           "name": "🚀 H5",
           "type": "scatter3d",
           "x": {
            "bdata": "AAAAAAAAacB8NQ2EjchnwPhqGggbkWbA",
            "dtype": "f8"
           },
           "y": {
            "bdata": "AAAAAABAb8CmnBGwvKBtwEs5I2B5AWzA",
            "dtype": "f8"
           },
           "z": {
            "bdata": "AAAAAAAgfEAr8SRH/v57QK3Ekxz5m3tA",
            "dtype": "f8"
           }
          },
          {
           "line": {
            "color": "cyan",
            "dash": "dash",
            "width": 5
           },
           "marker": {
            "color": "cyan",
            "size": 4,
            "symbol": "diamond"
           },
           "mode": "lines+markers",
           "name": "🛡️ 브라보→H5",
           "type": "scatter3d",
           "x": {
            "bdata": "AAAAAAAARMAUUD6DITNQwCigfAZDZlbA",
            "dtype": "f8"
           },
           "y": {
            "bdata": "AAAAAAAAPsBdlXRJQiBQwLoq6ZKEwFjA",
            "dtype": "f8"
           },
           "z": {
            "bdata": "AAAAAAAAAACBqGho9eNVQIGoaGj142VA",
            "dtype": "f8"
           }
          }
         ],
         "layout": {
          "title": {
           "text": "🚀 다중 위협 분산 대응 시스템 - 시간: 1.30초"
          }
         },
         "name": "31"
        },
        {
         "data": [
          {
           "marker": {
            "color": "red",
            "size": 20,
            "symbol": "diamond"
           },
           "mode": "markers",
           "name": "🏙️ 도시",
           "type": "scatter3d",
           "x": [
            0
           ],
           "y": [
            0
           ],
           "z": [
            0
           ]
          },
          {
           "marker": {
            "color": "blue",
            "size": 15,
            "symbol": "square"
           },
           "mode": "markers",
           "name": "🏭 알파 기지",
           "type": "scatter3d",
           "x": [
            50
           ],
           "y": [
            20
           ],
           "z": [
            0
           ]
          },
          {
           "marker": {
            "color": "cyan",
            "size": 15,
            "symbol": "square"
           },
           "mode": "markers",
           "name": "🏭 브라보 기지",
           "type": "scatter3d",
           "x": [
            -40
           ],
           "y": [
            -30
           ],
           "z": [
            0
           ]
          },
          {
           "line": {
            "color": "red",
            "width": 4
           },
           "marker": {
            "color": "red",
            "size": 3
           },
           "mode": "lines+markers",
           "name": "🚀 H1",
           "type": "scatter3d",
           "x": {
            "bdata": "AAAAAABAb0AzA55HOiJuQGUGPI90BG1AmAna1q7ma0A=",
            "dtype": "f8"
           },
           "y": {
            "bdata": "AAAAAADAckAAwsJsZA1yQP+DhdnIWnFA/0VIRi2ocEA=",
            "dtype": "f8"
           },
           "z": {
            "bdata": "AAAAAAAAeUA7dcpfXvB4QO7UKX95wXhAFx8eXlFzeEA=",
            "dtype": "f8"
           }
          },
          {
           "line": {
            "color": "blue",
            "dash": "dash",
            "width": 5
           },
           "marker": {
            "color": "blue",
            "size": 4,
            "symbol": "diamond"
           },
           "mode": "lines+markers",
           "name": "🛡️ 알파→H1",
           "type": "scatter3d",
           "x": {
            "bdata": "AAAAAAAASUAC8X8QSuxRQAXi/yCUWFdACNN/Md7EXEA=",
            "dtype": "f8"
           },
           "y": {
            "bdata": "AAAAAAAANEDTBKFprNpJQNMEoWms2lRAPYdxngLIXEA=",
            "dtype": "f8"
           },
           "z": {
            "bdata": "AAAAAAAAAACDPprHm25LQIM+msebbltA466z1fSSZEA=",
            "dtype": "f8"
           }
          },
          {
           "line": {
            "color": "orange",
            "width": 4
           },
           "marker": {
            "color": "orange",
            "size": 3
           },
           "mode": "lines+markers",
           "name": "🚀 H2",
           "type": "scatter3d",
           "x": {
            "bdata": "AAAAAACAccCPTv1A0+JwwB6d+oGmRXDAWtfvhfNQb8A=",
            "dtype": "f8"
           },
           "y": {
            "bdata": "AAAAAABAb0AzA55HOiJuQGUGPI90BG1AmAna1q7ma0A=",
            "dtype": "f8"
           },
           "z": {
            "bdata": "AAAAAADAd0A7dcpfXrB3QO7UKX95gXdAFx8eXlEzd0A=",
            "dtype": "f8"
           }
          },
          {
           "line": {
            "color": "cyan",
            "dash": "dash",
            "width": 5
           },
           "marker": {
            "color": "cyan",
            "size": 4,
            "symbol": "diamond"
           },
           "mode": "lines+markers",
           "name": "🛡️ 브라보→H2",
           "type": "scatter3d",
           "x": {
            "bdata": "AAAAAAAARMAFGKv39atQwAowVu/rV1fAEEgB5+EDXsA=",
            "dtype": "f8"
           },
           "y": {
            "bdata": "AAAAAAAAPsAgNrEc4FENQMQmlgM8qkJAFZ2wAq2/UUA=",
            "dtype": "f8"
           },
           "z": {
            "bdata": "AAAAAAAAAACQqMpRZ7FJQJCoylFnsVlAbf5XfQ1FY0A=",
            "dtype": "f8"
           }
          },
          {
           "line": {
            "color": "green",
            "width": 4
           },
           "marker": {
            "color": "green",
            "size": 3
           },
           "mode": "lines+markers",
           "name": "🚀 H3",
           "type": "scatter3d",
           "x": {
            "bdata": "AAAAAAAAJECVGfA80hEfQCoz4HmkIxZAfpmgbe1qCkA=",
            "dtype": "f8"
           },
           "y": {
            "bdata": "AAAAAADgdcBmgra1qwl1wMwEbWtXM3TAMocjIQNdc8A=",
            "dtype": "f8"
           },
           "z": {
            "bdata": "AAAAAABAekA7dcpfXjB6QO7UKX95AXpAFx8eXlGzeUA=",
            "dtype": "f8"
           }
          },
          {
           "line": {
            "color": "cyan",
            "dash": "dash",
            "width": 5
           },
           "marker": {
            "color": "cyan",
            "size": 4,
            "symbol": "diamond"
           },
           "mode": "lines+markers",
           "name": "🛡️ 브라보→H3",
           "type": "scatter3d",
           "x": {
            "bdata": "AAAAAAAARMCRcDhk0VdBwETC4ZBFXz3AZqNSWegOOMA=",
            "dtype": "f8"
           },
           "y": {
            "bdata": "AAAAAAAAPsAemviwvDlQwDs08WF581jALed0CZvWYMA=",
            "dtype": "f8"
           },
           "z": {
            "bdata": "AAAAAAAAAADi1OHle3VMQOLU4eV7dVxAql9p7BxYZUA=",
            "dtype": "f8"
           }
          },
          {
           "line": {
            "color": "purple",
            "width": 4
           },
           "marker": {
            "color": "purple",
            "size": 3
           },
           "mode": "lines+markers",
           "name": "🚀 H4",
           "type": "scatter3d",
           "x": {
            "bdata": "AAAAAADAckAAwsJsZA1yQP+DhdnIWnFA/0VIRi2ocEA=",
            "dtype": "f8"
           },
           "y": {
            "bdata": "AAAAAAAAJMBJYTZaPMklwJHCbLR4kifA2iOjDrVbKcA=",
            "dtype": "f8"
           },
           "z": {
            "bdata": "AAAAAADgdUA7dcpfXtB1QO7UKX95oXVAFx8eXlFTdUA=",
            "dtype": "f8"
           }
          },
          {
           "line": {
            "color": "blue",
            "dash": "dash",
            "width": 5
           },
           "marker": {
            "color": "blue",
            "size": 4,
            "symbol": "diamond"
           },
           "mode": "lines+markers",
           "name": "🛡️ 알파→H4",
           "type": "scatter3d",
           "x": {
            "bdata": "AAAAAAAASUDlvofVIvJUQMp9D6tFZF1AWJ5LQDTrYkA=",
            "dtype": "f8"
           },
           "y": {
            "bdata": "AAAAAAAANEC0huuOQm0rQM4arjsKtR1AwKAUZj0+8j8=",
            "dtype": "f8"
           },
           "z": {
            "bdata": "AAAAAAAAAAAgRE3i1L5MQCBETeLUvlxAGfO5qR+PZUA=",
            "dtype": "f8"
           }
          },
          {
           "line": {
            "color": "brown",
            "width": 4
           },
           "marker": {
            "color": "brown",
            "size": 3
           },
           "mode": "lines+markers",
           "name": "🚀 H5",
           "type": "scatter3d",
           "x": {
            "bdata": "AAAAAAAAacBmgra1qylowMwEbWtXU2fAMocjIQN9ZsA=",
            "dtype": "f8"
           },
           "y": {
            "bdata": "AAAAAABAb8AzA55HOiJuwGUGPI90BG3AmAna1q7ma8A=",
            "dtype": "f8"
           },
           "z": {
            "bdata": "AAAAAAAgfEA7dcpfXhB8QO7UKX954XtAFx8eXlGTe0A=",
            "dtype": "f8"
           }
          },
          {
           "line": {
            "color": "cyan",
            "dash": "dash",
            "width": 5
           },
           "marker": {
            "color": "cyan",
            "size": 4,
            "symbol": "diamond"
           },
           "mode": "lines+markers",
           "name": "🛡️ 브라보→H5",
           "type": "scatter3d",
           "x": {
            "bdata": "AAAAAAAARMCOzoEwcIhMwI7OgTBwiFLA1rXCSKjMVsA=",
            "dtype": "f8"
           },
           "y": {
            "bdata": "AAAAAAAAPsAOvb75Ut9KwA69vvlSX1PAlhuedvxOWcA=",
            "dtype": "f8"
           },
           "z": {
            "bdata": "AAAAAAAAAACJZvut+SBOQIlm+635IF5A54x8QruYZkA=",
            "dtype": "f8"
           }
          }
         ],
         "layout": {
          "title": {
           "text": "🚀 다중 위협 분산 대응 시스템 - 시간: 1.34초"
          }
         },
         "name": "32"
        },
        {
         "data": [
          {
           "marker": {
            "color": "red",
            "size": 20,
            "symbol": "diamond"
           },
           "mode": "markers",
           "name": "🏙️ 도시",
           "type": "scatter3d",
           "x": [
            0
           ],
           "y": [
            0
           ],
           "z": [
            0
           ]
          },
          {
           "marker": {
            "color": "blue",
            "size": 15,
            "symbol": "square"
           },
           "mode": "markers",
           "name": "🏭 알파 기지",
           "type": "scatter3d",
           "x": [
            50
           ],
           "y": [
            20
           ],
           "z": [
            0
           ]
          },
          {
           "marker": {
            "color": "cyan",
            "size": 15,
            "symbol": "square"
           },
           "mode": "markers",
           "name": "🏭 브라보 기지",
           "type": "scatter3d",
           "x": [
            -40
           ],
           "y": [
            -30
           ],
           "z": [
            0
           ]
          },
          {
           "line": {
            "color": "red",
            "width": 4
           },
           "marker": {
            "color": "red",
            "size": 3
           },
           "mode": "lines+markers",
           "name": "🚀 H1",
           "type": "scatter3d",
           "x": {
            "bdata": "AAAAAABAb0BM89oZTBluQJjmtTOY8mxA5dmQTeTLa0A=",
            "dtype": "f8"
           },
           "y": {
            "bdata": "AAAAAADAckAQ2CiQzwdyQB+wUSCfT3FAL4h6sG6XcEA=",
            "dtype": "f8"
           },
           "z": {
            "bdata": "AAAAAAAAeUAsD19dYO94QLI8fHWBvXhAkIhXSGNqeEA=",
            "dtype": "f8"
           }
          },
          {
           "line": {
            "color": "blue",
            "dash": "dash",
            "width": 5
           },
           "marker": {
            "color": "blue",
            "size": 4,
            "symbol": "diamond"
           },
           "mode": "lines+markers",
           "name": "🛡️ 알파→H1",
           "type": "scatter3d",
           "x": {
            "bdata": "AAAAAAAASUCK8ANhrBdSQBXhB8JYr1dAoNELIwVHXUA=",
            "dtype": "f8"
           },
           "y": {
            "bdata": "AAAAAAAANED5DO7MgVlKQPkM7syBWVVAdxNls0KGXUA=",
            "dtype": "f8"
           },
           "z": {
            "bdata": "AAAAAAAAAAB2ENelEEpMQHYQ16UQSlxAWUxhfIw3ZUA=",
            "dtype": "f8"
           }
          },
          {
           "line": {
            "color": "orange",
            "width": 4
           },
           "marker": {
            "color": "orange",
            "size": 3
           },
           "mode": "lines+markers",
           "name": "🚀 H2",
           "type": "scatter3d",
           "x": {
            "bdata": "AAAAAACAccAEOQXb6d1wwAdyCrbTO3DAFVYfInszb8A=",
            "dtype": "f8"
           },
           "y": {
            "bdata": "AAAAAABAb0BM89oZTBluQJjmtTOY8mxA5dmQTeTLa0A=",
            "dtype": "f8"
           },
           "z": {
            "bdata": "AAAAAADAd0AsD19dYK93QLI8fHWBfXdAkIhXSGMqd0A=",
            "dtype": "f8"
           }
          },
          {
           "line": {
            "color": "cyan",
            "dash": "dash",
            "width": 5
           },
           "marker": {
            "color": "cyan",
            "size": 4,
            "symbol": "diamond"
           },
           "mode": "lines+markers",
           "name": "🛡️ 브라보→H2",
           "type": "scatter3d",
           "x": {
            "bdata": "AAAAAAAARMDFcGinVeFQwIrh0E6rwlfAUFI59gCkXsA=",
            "dtype": "f8"
           },
           "y": {
            "bdata": "AAAAAAAAPsDoX8uON94SQPrXsuONt0NA/SHGaqqJUkA=",
            "dtype": "f8"
           },
           "z": {
            "bdata": "AAAAAAAAAADU/ViM8n5KQNT9WIzyflpAYL5C6TXfY0A=",
            "dtype": "f8"
           }
          },
          {
           "line": {
            "color": "green",
            "width": 4
           },
           "marker": {
            "color": "green",
            "size": 3
           },
           "mode": "lines+markers",
           "name": "🚀 H3",
           "type": "scatter3d",
           "x": {
            "bdata": "AAAAAAAAJEBimtfOYMoeQMQ0r53BlBVATJ4N2US+CEA=",
            "dtype": "f8"
           },
           "y": {
            "bdata": "AAAAAADgdcB5NmQT+QJ1wPJsyCbyJXTAbKMsOutIc8A=",
            "dtype": "f8"
           },
           "z": {
            "bdata": "AAAAAABAekAsD19dYC96QLI8fHWB/XlAkIhXSGOqeUA=",
            "dtype": "f8"
           }
          },
          {
           "line": {
            "color": "cyan",
            "dash": "dash",
            "width": 5
           },
           "marker": {
            "color": "cyan",
            "size": 4,
            "symbol": "diamond"
           },
           "mode": "lines+markers",
           "name": "🛡️ 브라보→H3",
           "type": "scatter3d",
           "x": {
            "bdata": "AAAAAAAARMAWNFrvj0JBwFbQaL0/Cj3AgTgdnF+PN8A=",
            "dtype": "f8"
           },
           "y": {
            "bdata": "AAAAAAAAPsDuXoCWin9QwN29AC0Vf1nAZo7A4U8/YcA=",
            "dtype": "f8"
           },
           "z": {
            "bdata": "AAAAAAAAAACI4xDFJ1lNQIjjEMUnWV1Ap6rM090CZkA=",
            "dtype": "f8"
           }
          },
          {
           "line": {
            "color": "purple",
            "width": 4
           },
           "marker": {
            "color": "purple",
            "size": 3
           },
           "mode": "lines+markers",
           "name": "🚀 H4",
           "type": "scatter3d",
           "x": {
            "bdata": "AAAAAADAckAQ2CiQzwdyQB+wUSCfT3FAL4h6sG6XcEA=",
            "dtype": "f8"
           },
           "y": {
            "bdata": "AAAAAAAAJMBTFAg9htclwKYoEHoMryfA+DwYt5KGKcA=",
            "dtype": "f8"
           },
           "z": {
            "bdata": "AAAAAADgdUAsD19dYM91QLI8fHWBnXVAkIhXSGNKdUA=",
            "dtype": "f8"
           }
          },
          {
           "line": {
            "color": "blue",
            "dash": "dash",
            "width": 5
           },
           "marker": {
            "color": "blue",
            "size": 4,
            "symbol": "diamond"
           },
           "mode": "lines+markers",
           "name": "🛡️ 알파→H4",
           "type": "scatter3d",
           "x": {
            "bdata": "AAAAAAAASUDc/DPsszVVQLj5Z9hn611ASvtN4o1QY0A=",
            "dtype": "f8"
           },
           "y": {
            "bdata": "AAAAAAAANEDp4mKjrAgrQKSLi42yIhxAoIuKol6g4T8=",
            "dtype": "f8"
           },
           "z": {
            "bdata": "AAAAAAAAAABArl+Jy6RNQECuX4nLpF1AscIHp5g7ZkA=",
            "dtype": "f8"
           }
          },
          {
           "line": {
            "color": "brown",
            "width": 4
           },
           "marker": {
            "color": "brown",
            "size": 3
           },
           "mode": "lines+markers",
           "name": "🚀 H5",
           "type": "scatter3d",
           "x": {
            "bdata": "AAAAAAAAacB5NmQT+SJowPJsyCbyRWfAbKMsOutoZsA=",
            "dtype": "f8"
           },
           "y": {
            "bdata": "AAAAAABAb8BM89oZTBluwJjmtTOY8mzA5dmQTeTLa8A=",
            "dtype": "f8"
           },
           "z": {
            "bdata": "AAAAAAAgfEAsD19dYA98QLI8fHWB3XtAkIhXSGOKe0A=",
            "dtype": "f8"
           }
          },
          {
           "line": {
            "color": "cyan",
            "dash": "dash",
            "width": 5
           },
           "marker": {
            "color": "cyan",
            "size": 4,
            "symbol": "diamond"
           },
           "mode": "lines+markers",
           "name": "🛡️ 브라보→H5",
           "type": "scatter3d",
           "x": {
            "bdata": "AAAAAAAARMAD3QWys8xMwAPdBbKzzFLAhcsIiw0zV8A=",
            "dtype": "f8"
           },
           "y": {
            "bdata": "AAAAAAAAPsD2soyRTT5LwPayjJFNvlPAcgxTWnTdWcA=",
            "dtype": "f8"
           },
           "z": {
            "bdata": "AAAAAAAAAAC9QWt7ARJPQL1Ba3sBEl9ATnGQHIFNZ0A=",
            "dtype": "f8"
           }
          }
         ],
         "layout": {
          "title": {
           "text": "🚀 다중 위협 분산 대응 시스템 - 시간: 1.38초"
          }
         },
         "name": "33"
        },
        {
         "data": [
          {
           "marker": {
            "color": "red",
            "size": 20,
            "symbol": "diamond"
           },
           "mode": "markers",
           "name": "🏙️ 도시",
           "type": "scatter3d",
           "x": [
            0
           ],
           "y": [
            0
           ],
           "z": [
            0
           ]
          },
          {
           "marker": {
            "color": "blue",
            "size": 15,
            "symbol": "square"
           },
           "mode": "markers",
           "name": "🏭 알파 기지",
           "type": "scatter3d",
           "x": [
            50
           ],
           "y": [
            20
           ],
           "z": [
            0
           ]
          },
          {
           "marker": {
            "color": "cyan",
            "size": 15,
            "symbol": "square"
           },
           "mode": "markers",
           "name": "🏭 브라보 기지",
           "type": "scatter3d",
           "x": [
            -40
           ],
           "y": [
            -30
           ],
           "z": [
            0
           ]
          },
          {
           "line": {
            "color": "red",
            "width": 4
           },
           "marker": {
            "color": "red",
            "size": 3
           },
           "mode": "lines+markers",
           "name": "🚀 H1",
           "type": "scatter3d",
           "x": {
            "bdata": "AAAAAABAb0Bm4xfsXRBuQMzGL9i74GxAMqpHxBmxa0A=",
            "dtype": "f8"
           },
           "y": {
            "bdata": "AAAAAADAckAg7o6zOgJyQD/cHWd1RHFAX8qsGrCGcEA=",
            "dtype": "f8"
           },
           "z": {
            "bdata": "AAAAAAAAeUBYjiOKWu54QGA5jihquXhAGAFA2y5heEA=",
            "dtype": "f8"
           }
          },
          {
           "line": {
            "color": "blue",
            "dash": "dash",
            "width": 5
           },
           "marker": {
            "color": "blue",
            "size": 4,
            "symbol": "diamond"
           },
           "mode": "lines+markers",
           "name": "🛡️ 알파→H1",
           "type": "scatter3d",
           "x": {
            "bdata": "AAAAAAAASUAS8IexDkNSQCXgD2MdBlhAONCXFCzJXUA=",
            "dtype": "f8"
           },
           "y": {
            "bdata": "AAAAAAAANEAgFTswV9hKQCAVOzBX2FVAsJ9YyIJEXkA=",
            "dtype": "f8"
           },
           "z": {
            "bdata": "AAAAAAAAAABq4hOEhSVNQGriE4SFJV1A0OkOIyTcZUA=",
            "dtype": "f8"
           }
          },
          {
           "line": {
            "color": "orange",
            "width": 4
           },
           "marker": {
            "color": "orange",
            "size": 3
           },
           "mode": "lines+markers",
           "name": "🚀 H2",
           "type": "scatter3d",
           "x": {
            "bdata": "AAAAAACAccB4Iw11ANlwwPBGGuoAMnDA0NROvgIWb8A=",
            "dtype": "f8"
           },
           "y": {
            "bdata": "AAAAAABAb0Bm4xfsXRBuQMzGL9i74GxAMqpHxBmxa0A=",
            "dtype": "f8"
           },
           "z": {
            "bdata": "AAAAAADAd0BYjiOKWq53QGA5jihqeXdAGAFA2y4hd0A=",
            "dtype": "f8"
           }
          },
          {
           "line": {
            "color": "cyan",
            "dash": "dash",
            "width": 5
           },
           "marker": {
            "color": "cyan",
            "size": 4,
            "symbol": "diamond"
           },
           "mode": "lines+markers",
           "name": "🛡️ 브라보→H2",
           "type": "scatter3d",
           "x": {
            "bdata": "AAAAAAAARMCFySVXtRZRwAqTS65qLVjAkFxxBSBEX8A=",
            "dtype": "f8"
           },
           "y": {
            "bdata": "AAAAAAAAPsDAJD4PfxMXQDCJz8PfxERA5abb0qdTU0A=",
            "dtype": "f8"
           },
           "z": {
            "bdata": "AAAAAAAAAAAYU+fGfUxLQBhT58Z9TFtAU34tVV55ZEA=",
            "dtype": "f8"
           }
          },
          {
           "line": {
            "color": "green",
            "width": 4
           },
           "marker": {
            "color": "green",
            "size": 3
           },
           "mode": "lines+markers",
           "name": "🚀 H3",
           "type": "scatter3d",
           "x": {
            "bdata": "AAAAAAAAJEAuG79g74IeQF02fsHeBRVAGKN6RJwRB0A=",
            "dtype": "f8"
           },
           "y": {
            "bdata": "AAAAAADgdcCM6hFxRvx0wBnVI+KMGHTApb81U9M0c8A=",
            "dtype": "f8"
           },
           "z": {
            "bdata": "AAAAAABAekBYjiOKWi56QGA5jihq+XlAGAFA2y6heUA=",
            "dtype": "f8"
           }
          },
          {
           "line": {
            "color": "cyan",
            "dash": "dash",
            "width": 5
           },
           "marker": {
            "color": "cyan",
            "size": 4,
            "symbol": "diamond"
           },
           "mode": "lines+markers",
           "name": "🛡️ 브라보→H3",
           "type": "scatter3d",
           "x": {
            "bdata": "AAAAAAAARMCa93t6Ti1BwGne7+k5tTzAnc3n3tYPN8A=",
            "dtype": "f8"
           },
           "y": {
            "bdata": "AAAAAAAAPsDAIwh8WMVQwH9HEPiwClrAoDUMugSoYcA=",
            "dtype": "f8"
           },
           "z": {
            "bdata": "AAAAAAAAAAAv8j+k0zxOQC/yP6TTPF5ApPUvu56tZkA=",
            "dtype": "f8"
           }
          },
          {
           "line": {
            "color": "purple",
            "width": 4
           },
           "marker": {
            "color": "purple",
            "size": 3
           },
           "mode": "lines+markers",
           "name": "🚀 H4",
           "type": "scatter3d",
           "x": {
            "bdata": "AAAAAADAckAg7o6zOgJyQD/cHWd1RHFAX8qsGrCGcEA=",
            "dtype": "f8"
           },
           "y": {
            "bdata": "AAAAAAAAJMBdx9kf0OUlwLqOsz+gyyfAF1aNX3CxKcA=",
            "dtype": "f8"
           },
           "z": {
            "bdata": "AAAAAADgdUBYjiOKWs51QGA5jihqmXVAGAFA2y5BdUA=",
            "dtype": "f8"
           }
          },
          {
           "line": {
            "color": "blue",
            "dash": "dash",
            "width": 5
           },
           "marker": {
            "color": "blue",
            "size": 4,
            "symbol": "diamond"
           },
           "mode": "lines+markers",
           "name": "🛡️ 알파→H4",
           "type": "scatter3d",
           "x": {
            "bdata": "AAAAAAAASUDTOuACRXlVQKZ1wAWKcl5APVhQhOe1Y0A=",
            "dtype": "f8"
           },
           "y": {
            "bdata": "AAAAAAAANEAfP9q3FqQqQHz8aN9akBpAAKRCcdi7o78=",
            "dtype": "f8"
           },
           "z": {
            "bdata": "AAAAAAAAAABhGHIwwopOQGEYcjDCil5ASZJVpBHoZkA=",
            "dtype": "f8"
           }
          },
          {
           "line": {
            "color": "brown",
            "width": 4
           },
           "marker": {
            "color": "brown",
            "size": 3
           },
           "mode": "lines+markers",
           "name": "🚀 H5",
           "type": "scatter3d",
           "x": {
            "bdata": "AAAAAAAAacCM6hFxRhxowBnVI+KMOGfApb81U9NUZsA=",
            "dtype": "f8"
           },
           "y": {
            "bdata": "AAAAAABAb8Bm4xfsXRBuwMzGL9i74GzAMqpHxBmxa8A=",
            "dtype": "f8"
           },
           "z": {
            "bdata": "AAAAAAAgfEBYjiOKWg58QGA5jihq2XtAGAFA2y6Be0A=",
            "dtype": "f8"
           }
          },
          {
           "line": {
            "color": "cyan",
            "dash": "dash",
            "width": 5
           },
           "marker": {
            "color": "cyan",
            "size": 4,
            "symbol": "diamond"
           },
           "mode": "lines+markers",
           "name": "🛡️ 브라보→H5",
           "type": "scatter3d",
           "x": {
            "bdata": "AAAAAAAARMB464kz9xBNwHjriTP3EFPANOFOzXKZV8A=",
            "dtype": "f8"
           },
           "y": {
            "bdata": "AAAAAAAAPsDeqFopSJ1LwN6oWilIHVTAT/0HPuxrWsA=",
            "dtype": "f8"
           },
           "z": {
            "bdata": "AAAAAAAAAAB4jm2khAFQQHiObaSEAWBAtVWk9kYCaEA=",
            "dtype": "f8"
           }
          }
         ],
         "layout": {
          "title": {
           "text": "🚀 다중 위협 분산 대응 시스템 - 시간: 1.42초"
          }
         },
         "name": "34"
        },
        {
         "data": [
          {
           "marker": {
            "color": "red",
            "size": 20,
            "symbol": "diamond"
           },
           "mode": "markers",
           "name": "🏙️ 도시",
           "type": "scatter3d",
           "x": [
            0
           ],
           "y": [
            0
           ],
           "z": [
            0
           ]
          },
          {
           "marker": {
            "color": "blue",
            "size": 15,
            "symbol": "square"
           },
           "mode": "markers",
           "name": "🏭 알파 기지",
           "type": "scatter3d",
           "x": [
            50
           ],
           "y": [
            20
           ],
           "z": [
            0
           ]
          },
          {
           "marker": {
            "color": "cyan",
            "size": 15,
            "symbol": "square"
           },
           "mode": "markers",
           "name": "🏭 브라보 기지",
           "type": "scatter3d",
           "x": [
            -40
           ],
           "y": [
            -30
           ],
           "z": [
            0
           ]
          },
          {
           "line": {
            "color": "red",
            "width": 4
           },
           "marker": {
            "color": "red",
            "size": 3
           },
           "mode": "lines+markers",
           "name": "🚀 H1",
           "type": "scatter3d",
           "x": {
            "bdata": "AAAAAABAb0B/01S+bwduQP+mqXzfzmxAfnr+Ok+Wa0A=",
            "dtype": "f8"
           },
           "y": {
            "bdata": "AAAAAADAckAwBPXWpfxxQF8I6q1LOXFAjwzfhPF1cEA=",
            "dtype": "f8"
           },
           "z": {
            "bdata": "AAAAAAAAeUC+8hfmTO14QPnKX5gztXhAsYjXFrRXeEA=",
            "dtype": "f8"
           }
          },
          {
           "line": {
            "color": "blue",
            "dash": "dash",
            "width": 5
           },
           "marker": {
            "color": "blue",
            "size": 4,
            "symbol": "diamond"
           },
           "mode": "lines+markers",
           "name": "🛡️ 알파→H1",
           "type": "scatter3d",
           "x": {
            "bdata": "AAAAAAAASUCb7wsCcW5SQDbfFwTiXFhA0M4jBlNLXkA=",
            "dtype": "f8"
           },
           "y": {
            "bdata": "AAAAAAAANEBIHYiTLFdLQEgdiJMsV1ZA6ytM3cICX0A=",
            "dtype": "f8"
           },
           "z": {
            "bdata": "AAAAAAAAAABhtFBi+gBOQGG0UGL6AF5ASIe8ybuAZkA=",
            "dtype": "f8"
           }
          },
          {
           "line": {
            "color": "orange",
            "width": 4
           },
           "marker": {
            "color": "orange",
            "size": 3
           },
           "mode": "lines+markers",
           "name": "🚀 H2",
           "type": "scatter3d",
           "x": {
            "bdata": "AAAAAACAccDsDRUPF9RwwNkbKh4uKHDAi1N+Wor4bsA=",
            "dtype": "f8"
           },
           "y": {
            "bdata": "AAAAAABAb0B/01S+bwduQP+mqXzfzmxAfnr+Ok+Wa0A=",
            "dtype": "f8"
           },
           "z": {
            "bdata": "AAAAAADAd0C+8hfmTK13QPnKX5gzdXdAsYjXFrQXd0A=",
            "dtype": "f8"
           }
          },
          {
           "line": {
            "color": "cyan",
            "dash": "dash",
            "width": 5
           },
           "marker": {
            "color": "cyan",
            "size": 4,
            "symbol": "diamond"
           },
           "mode": "lines+markers",
           "name": "🛡️ 브라보→H2",
           "type": "scatter3d",
           "x": {
            "bdata": "AAAAAAAARMBGIuMGFUxRwIxExg0qmFjA0WapFD/kX8A=",
            "dtype": "f8"
           },
           "y": {
            "bdata": "AAAAAAAAPsCo6bCPxkgbQGo67KMx0kVAzivxOqUdVEA=",
            "dtype": "f8"
           },
           "z": {
            "bdata": "AAAAAAAAAABgqHUBCRpMQGCodQEJGlxARz4YwYYTZUA=",
            "dtype": "f8"
           }
          },
          {
           "line": {
            "color": "green",
            "width": 4
           },
           "marker": {
            "color": "green",
            "size": 3
           },
           "mode": "lines+markers",
           "name": "🚀 H3",
           "type": "scatter3d",
           "x": {
            "bdata": "AAAAAAAAJED7m6byfTseQPY3TeX7dhRA4qfnr/NkBUA=",
            "dtype": "f8"
           },
           "y": {
            "bdata": "AAAAAADgdcCgnr/Ok/V0wD89f50nC3TA39s+bLsgc8A=",
            "dtype": "f8"
           },
           "z": {
            "bdata": "AAAAAABAekC+8hfmTC16QPnKX5gz9XlAsYjXFrSXeUA=",
            "dtype": "f8"
           }
          },
          {
           "line": {
            "color": "cyan",
            "dash": "dash",
            "width": 5
           },
           "marker": {
            "color": "cyan",
            "size": 4,
            "symbol": "diamond"
           },
           "mode": "lines+markers",
           "name": "🛡️ 브라보→H3",
           "type": "scatter3d",
           "x": {
            "bdata": "AAAAAAAARMAeu50FDRhBwHrsdhY0YDzAt2KyIU6QNsA=",
            "dtype": "f8"
           },
           "y": {
            "bdata": "AAAAAAAAPsCR6I9hJgtRwCLRH8NMllrA2dxXkrkQYsA=",
            "dtype": "f8"
           },
           "z": {
            "bdata": "AAAAAAAAAADZAG+DfyBPQNkAb4N/IF9AokCTol9YZ0A=",
            "dtype": "f8"
           }
          },
          {
           "line": {
            "color": "purple",
            "width": 4
           },
           "marker": {
            "color": "purple",
            "size": 3
           },
           "mode": "lines+markers",
           "name": "🚀 H4",
           "type": "scatter3d",
           "x": {
            "bdata": "AAAAAADAckAwBPXWpfxxQF8I6q1LOXFAjwzfhPF1cEA=",
            "dtype": "f8"
           },
           "y": {
            "bdata": "AAAAAAAAJMBneqsCGvQlwM/0VgU06CfANm8CCE7cKcA=",
            "dtype": "f8"
           },
           "z": {
            "bdata": "AAAAAADgdUC+8hfmTM11QPnKX5gzlXVAsYjXFrQ3dUA=",
            "dtype": "f8"
           }
          },
          {
           "line": {
            "color": "blue",
            "dash": "dash",
            "width": 5
           },
           "marker": {
            "color": "blue",
            "size": 4,
            "symbol": "diamond"
           },
           "mode": "lines+markers",
           "name": "🛡️ 알파→H4",
           "type": "scatter3d",
           "x": {
            "bdata": "AAAAAAAASUDLeIwZ1rxVQJbxGDOs+V5AMLVSJkEbZEA=",
            "dtype": "f8"
           },
           "y": {
            "bdata": "AAAAAAAANEBTm1HMgD8qQExtRjED/hhAQOCysNkX5L8=",
            "dtype": "f8"
           },
           "z": {
            "bdata": "AAAAAAAAAACFgoTXuHBPQIWChNe4cF9A42GjoYqUZ0A=",
            "dtype": "f8"
           }
          },
          {
           "line": {
            "color": "brown",
            "width": 4
           },
           "marker": {
            "color": "brown",
            "size": 3
           },
           "mode": "lines+markers",
           "name": "🚀 H5",
           "type": "scatter3d",
           "x": {
            "bdata": "AAAAAAAAacCgnr/OkxVowD89f50nK2fA39s+bLtAZsA=",
            "dtype": "f8"
           },
           "y": {
            "bdata": "AAAAAABAb8B/01S+bwduwP+mqXzfzmzAfnr+Ok+Wa8A=",
            "dtype": "f8"
           },
           "z": {
            "bdata": "AAAAAAAgfEC+8hfmTA18QPnKX5gz1XtAsYjXFrR3e0A=",
            "dtype": "f8"
           }
          },
          {
           "line": {
            "color": "cyan",
            "dash": "dash",
            "width": 5
           },
           "marker": {
            "color": "cyan",
            "size": 4,
            "symbol": "diamond"
           },
           "mode": "lines+markers",
           "name": "🛡️ 브라보→H5",
           "type": "scatter3d",
           "x": {
            "bdata": "AAAAAAAARMDs+Q21OlVNwOz5DbU6VVPA4vaUD9j/V8A=",
            "dtype": "f8"
           },
           "y": {
            "bdata": "AAAAAAAAPsDInijBQvxLwMieKMFCfFTALO68IWT6WsA=",
            "dtype": "f8"
           },
           "z": {
            "bdata": "AAAAAAAAAAAUfCWLCHpQQBR8JYsIemBAHTq40Ay3aEA=",
            "dtype": "f8"
           }
          }
         ],
         "layout": {
          "title": {
           "text": "🚀 다중 위협 분산 대응 시스템 - 시간: 1.47초"
          }
         },
         "name": "35"
        },
        {
         "data": [
          {
           "marker": {
            "color": "red",
            "size": 20,
            "symbol": "diamond"
           },
           "mode": "markers",
           "name": "🏙️ 도시",
           "type": "scatter3d",
           "x": [
            0
           ],
           "y": [
            0
           ],
           "z": [
            0
           ]
          },
          {
           "marker": {
            "color": "blue",
            "size": 15,
            "symbol": "square"
           },
           "mode": "markers",
           "name": "🏭 알파 기지",
           "type": "scatter3d",
           "x": [
            50
           ],
           "y": [
            20
           ],
           "z": [
            0
           ]
          },
          {
           "marker": {
            "color": "cyan",
            "size": 15,
            "symbol": "square"
           },
           "mode": "markers",
           "name": "🏭 브라보 기지",
           "type": "scatter3d",
           "x": [
            -40
           ],
           "y": [
            -30
           ],
           "z": [
            0
           ]
          },
          {
           "line": {
            "color": "red",
            "width": 4
           },
           "marker": {
            "color": "red",
            "size": 3
           },
           "mode": "lines+markers",
           "name": "🚀 H1",
           "type": "scatter3d",
           "x": {
            "bdata": "AAAAAABAb0CZw5GQgf5tQDKHIyEDvWxAy0q1sYR7a0A=",
            "dtype": "f8"
           },
           "y": {
            "bdata": "AAAAAADAckBAGlv6EPdxQH80tvQhLnFAv04R7zJlcEA=",
            "dtype": "f8"
           },
           "z": {
            "bdata": "AAAAAAAAeUBfPDxxN+x4QH3x8MTdsHhAWB8e+/JNeEA=",
            "dtype": "f8"
           }
          },
          {
           "line": {
            "color": "blue",
            "dash": "dash",
            "width": 5
           },
           "marker": {
            "color": "blue",
            "size": 4,
            "symbol": "diamond"
           },
           "mode": "lines+markers",
           "name": "🛡️ 알파→H1",
           "type": "scatter3d",
           "x": {
            "bdata": "AAAAAAAASUAj749S05lSQEbeH6Wms1hAaM2v93nNXkA=",
            "dtype": "f8"
           },
           "y": {
            "bdata": "AAAAAAAANEBtJdX2AdZLQG0l1fYB1lZAJLg/8gLBX0A=",
            "dtype": "f8"
           },
           "z": {
            "bdata": "AAAAAAAAAABTho1Ab9xOQFOGjUBv3F5AvyRqcFMlZ0A=",
            "dtype": "f8"
           }
          },
          {
           "line": {
            "color": "orange",
            "width": 4
           },
           "marker": {
            "color": "orange",
            "size": 3
           },
           "mode": "lines+markers",
           "name": "🚀 H2",
           "type": "scatter3d",
           "x": {
            "bdata": "AAAAAACAccBh+BypLc9wwMLwOVJbHnDARtKt9hHbbsA=",
            "dtype": "f8"
           },
           "y": {
            "bdata": "AAAAAABAb0CZw5GQgf5tQDKHIyEDvWxAy0q1sYR7a0A=",
            "dtype": "f8"
           },
           "z": {
            "bdata": "AAAAAADAd0BfPDxxN6x3QH3x8MTdcHdAWB8e+/INd0A=",
            "dtype": "f8"
           }
          },
          {
           "line": {
            "color": "cyan",
            "dash": "dash",
            "width": 5
           },
           "marker": {
            "color": "cyan",
            "size": 4,
            "symbol": "diamond"
           },
           "mode": "lines+markers",
           "name": "🛡️ 브라보→H2",
           "type": "scatter3d",
           "x": {
            "bdata": "AAAAAAAARMAGe6C2dIFRwAv2QG3pAlnAiLjwES9CYMA=",
            "dtype": "f8"
           },
           "y": {
            "bdata": "AAAAAAAAPsB4riMQDn4fQJ7rCISD30ZAt7AGo6LnVEA=",
            "dtype": "f8"
           },
           "z": {
            "bdata": "AAAAAAAAAACi/QM8lOdMQKL9AzyU51xAOv4CLa+tZUA=",
            "dtype": "f8"
           }
          },
          {
           "line": {
            "color": "green",
            "width": 4
           },
           "marker": {
            "color": "green",
            "size": 3
           },
           "mode": "lines+markers",
           "name": "🚀 H3",
           "type": "scatter3d",
           "x": {
            "bdata": "AAAAAAAAJEDIHI6EDPQdQJA5HAkZ6BNArqxUG0u4A0A=",
            "dtype": "f8"
           },
           "y": {
            "bdata": "AAAAAADgdcCzUm0s4e50wGal2ljC/XPAGPhHhaMMc8A=",
            "dtype": "f8"
           },
           "z": {
            "bdata": "AAAAAABAekBfPDxxNyx6QH3x8MTd8HlAWB8e+/KNeUA=",
            "dtype": "f8"
           }
          },
          {
           "line": {
            "color": "cyan",
            "dash": "dash",
            "width": 5
           },
           "marker": {
            "color": "cyan",
            "size": 4,
            "symbol": "diamond"
           },
           "mode": "lines+markers",
           "name": "🛡️ 브라보→H3",
           "type": "scatter3d",
           "x": {
            "bdata": "AAAAAAAARMCjfr+QywJBwIz6/UIuCzzA0/d8ZMUQNsA=",
            "dtype": "f8"
           },
           "y": {
            "bdata": "AAAAAAAAPsBirRdH9FBRwMNaL47oIVvAEoSjam55YsA=",
            "dtype": "f8"
           },
           "z": {
            "bdata": "AAAAAAAAAAC/B0+xFQJQQL8HT7EVAmBAn4v2iSADaEA=",
            "dtype": "f8"
           }
          },
          {
           "line": {
            "color": "purple",
            "width": 4
           },
           "marker": {
            "color": "purple",
            "size": 3
           },
           "mode": "lines+markers",
           "name": "🚀 H4",
           "type": "scatter3d",
           "x": {
            "bdata": "AAAAAADAckBAGlv6EPdxQH80tvQhLnFAv04R7zJlcEA=",
            "dtype": "f8"
           },
           "y": {
            "bdata": "AAAAAAAAJMByLX3lYwImwONa+srHBCjAVYh3sCsHKsA=",
            "dtype": "f8"
           },
           "z": {
            "bdata": "AAAAAADgdUBfPDxxN8x1QH3x8MTdkHVAWB8e+/ItdUA=",
            "dtype": "f8"
           }
          },
          {
           "line": {
            "color": "blue",
            "dash": "dash",
            "width": 5
           },
           "marker": {
            "color": "blue",
            "size": 4,
            "symbol": "diamond"
           },
           "mode": "lines+markers",
           "name": "🛡️ 알파→H4",
           "type": "scatter3d",
           "x": {
            "bdata": "AAAAAAAASUDCtjgwZwBWQINtcWDOgF9AIhJVyJqAZEA=",
            "dtype": "f8"
           },
           "y": {
            "bdata": "AAAAAAAANECK98jg6topQCjeI4OraxdAIMso7fp5878=",
            "dtype": "f8"
           },
           "z": {
            "bdata": "AAAAAAAAAABSdku/VytQQFJ2S79XK2BAezHxngNBaEA=",
            "dtype": "f8"
           }
          },
          {
           "line": {
            "color": "brown",
            "width": 4
           },
           "marker": {
            "color": "brown",
            "size": 3
           },
           "mode": "lines+markers",
           "name": "🚀 H5",
           "type": "scatter3d",
           "x": {
            "bdata": "AAAAAAAAacCzUm0s4Q5owGal2ljCHWfAGPhHhaMsZsA=",
            "dtype": "f8"
           },
           "y": {
            "bdata": "AAAAAABAb8CZw5GQgf5twDKHIyEDvWzAy0q1sYR7a8A=",
            "dtype": "f8"
           },
           "z": {
            "bdata": "AAAAAAAgfEBfPDxxNwx8QH3x8MTd0HtAWB8e+/Jte0A=",
            "dtype": "f8"
           }
          },
          {
           "line": {
            "color": "cyan",
            "dash": "dash",
            "width": 5
           },
           "marker": {
            "color": "cyan",
            "size": 4,
            "symbol": "diamond"
           },
           "mode": "lines+markers",
           "name": "🛡️ 브라보→H5",
           "type": "scatter3d",
           "x": {
            "bdata": "AAAAAAAARMBgCJI2fplNwGAIkjZ+mVPAkQzbUT1mWMA=",
            "dtype": "f8"
           },
           "y": {
            "bdata": "AAAAAAAAPsCwlPZYPVtMwLCU9lg921TACN9xBdyIW8A=",
            "dtype": "f8"
           },
           "z": {
            "bdata": "AAAAAAAAAACtad1xjPJQQK1p3XGM8mBAhB7MqtJraUA=",
            "dtype": "f8"
           }
          }
         ],
         "layout": {
          "title": {
           "text": "🚀 다중 위협 분산 대응 시스템 - 시간: 1.51초"
          }
         },
         "name": "36"
        },
        {
         "data": [
          {
           "marker": {
            "color": "red",
            "size": 20,
            "symbol": "diamond"
           },
           "mode": "markers",
           "name": "🏙️ 도시",
           "type": "scatter3d",
           "x": [
            0
           ],
           "y": [
            0
           ],
           "z": [
            0
           ]
          },
          {
           "marker": {
            "color": "blue",
            "size": 15,
            "symbol": "square"
           },
           "mode": "markers",
           "name": "🏭 알파 기지",
           "type": "scatter3d",
           "x": [
            50
           ],
           "y": [
            20
           ],
           "z": [
            0
           ]
          },
          {
           "marker": {
            "color": "cyan",
            "size": 15,
            "symbol": "square"
           },
           "mode": "markers",
           "name": "🏭 브라보 기지",
           "type": "scatter3d",
           "x": [
            -40
           ],
           "y": [
            -30
           ],
           "z": [
            0
           ]
          },
          {
           "line": {
            "color": "red",
            "width": 4
           },
           "marker": {
            "color": "red",
            "size": 3
           },
           "mode": "lines+markers",
           "name": "🚀 H1",
           "type": "scatter3d",
           "x": {
            "bdata": "AAAAAABAb0Czs85ik/VtQGVnncUmq2xAGBtsKLpga0A=",
            "dtype": "f8"
           },
           "y": {
            "bdata": "AAAAAADAckBQMMEdfPFxQJ9ggjv4InFA75BDWXRUcEA=",
            "dtype": "f8"
           },
           "z": {
            "bdata": "AAAAAAAAeUA7a5ArGut4QOusQa5orHhAEMUTiOtDeEA=",
            "dtype": "f8"
           }
          },
          {
           "line": {
            "color": "blue",
            "dash": "dash",
            "width": 5
           },
           "marker": {
            "color": "blue",
            "size": 4,
            "symbol": "diamond"
           },
           "mode": "lines+markers",
           "name": "🛡️ 알파→H1",
           "type": "scatter3d",
           "x": {
            "bdata": "AAAAAAAASUCr7hOjNcVSQFbdJ0ZrCllAAcw76aBPX0A=",
            "dtype": "f8"
           },
           "y": {
            "bdata": "AAAAAAAANECULSJa11RMQJQtIlrXVFdAMKKZg6E/YEA=",
            "dtype": "f8"
           },
           "z": {
            "bdata": "AAAAAAAAAABGWMoe5LdPQEZYyh7kt19ANsIXF+vJZ0A=",
            "dtype": "f8"
           }
          },
          {
           "line": {
            "color": "orange",
            "width": 4
           },
           "marker": {
            "color": "orange",
            "size": 3
           },
           "mode": "lines+markers",
           "name": "🚀 H2",
           "type": "scatter3d",
           "x": {
            "bdata": "AAAAAACAccDV4iRDRMpwwKvFSYaIFHDAAFHdkpm9bsA=",
            "dtype": "f8"
           },
           "y": {
            "bdata": "AAAAAABAb0Czs85ik/VtQGVnncUmq2xAGBtsKLpga0A=",
            "dtype": "f8"
           },
           "z": {
            "bdata": "AAAAAADAd0A7a5ArGqt3QOusQa5obHdAEMUTiOsDd0A=",
            "dtype": "f8"
           }
          },
          {
           "line": {
            "color": "cyan",
            "dash": "dash",
            "width": 5
           },
           "marker": {
            "color": "cyan",
            "size": 4,
            "symbol": "diamond"
           },
           "mode": "lines+markers",
           "name": "🛡️ 브라보→H2",
           "type": "scatter3d",
           "x": {
            "bdata": "AAAAAAAARMDG011m1LZRwIunu8yobVnAqb2MmT6SYMA=",
            "dtype": "f8"
           },
           "y": {
            "bdata": "AAAAAAAAPsCoOUvIqtkhQNScJWTV7EdAoDUcC6CxVUA=",
            "dtype": "f8"
           },
           "z": {
            "bdata": "AAAAAAAAAADmUpJ2H7VNQOZSknYftV1ALr7tmNdHZkA=",
            "dtype": "f8"
           }
          },
          {
           "line": {
            "color": "green",
            "width": 4
           },
           "marker": {
            "color": "green",
            "size": 3
           },
           "mode": "lines+markers",
           "name": "🚀 H3",
           "type": "scatter3d",
           "x": {
            "bdata": "AAAAAAAAJECUnXUWm6wdQCk76yw2WRNAerHBhqILAkA=",
            "dtype": "f8"
           },
           "y": {
            "bdata": "AAAAAADgdcDGBhuKLuh0wIwNNhRd8HPAUhRRnov4csA=",
            "dtype": "f8"
           },
           "z": {
            "bdata": "AAAAAABAekA7a5ArGit6QOusQa5o7HlAEMUTiOuDeUA=",
            "dtype": "f8"
           }
          },
          {
           "line": {
            "color": "cyan",
            "dash": "dash",
            "width": 5
           },
           "marker": {
            "color": "cyan",
            "size": 4,
            "symbol": "diamond"
           },
           "mode": "lines+markers",
           "name": "🛡️ 브라보→H3",
           "type": "scatter3d",
           "x": {
            "bdata": "AAAAAAAARMAoQuEbiu1AwJ8IhW8otjvA7oxHpzyRNcA=",
            "dtype": "f8"
           },
           "y": {
            "bdata": "AAAAAAAAPsAycp8swpZRwGTkPlmErVvATCvvQiPiYsA=",
            "dtype": "f8"
           },
           "z": {
            "bdata": "AAAAAAAAAAASj+ag63NQQBKP5qDrc2BAndZZceGtaEA=",
            "dtype": "f8"
           }
          },
          {
           "line": {
            "color": "purple",
            "width": 4
           },
           "marker": {
            "color": "purple",
            "size": 3
           },
           "mode": "lines+markers",
           "name": "🚀 H4",
           "type": "scatter3d",
           "x": {
            "bdata": "AAAAAADAckBQMMEdfPFxQJ9ggjv4InFA75BDWXRUcEA=",
            "dtype": "f8"
           },
           "y": {
            "bdata": "AAAAAAAAJMB84E7IrRAmwPjAnZBbISjAdKHsWAkyKsA=",
            "dtype": "f8"
           },
           "z": {
            "bdata": "AAAAAADgdUA7a5ArGst1QOusQa5ojHVAEMUTiOsjdUA=",
            "dtype": "f8"
           }
          },
          {
           "line": {
            "color": "blue",
            "dash": "dash",
            "width": 5
           },
           "marker": {
            "color": "blue",
            "size": 4,
            "symbol": "diamond"
           },
           "mode": "lines+markers",
           "name": "🛡️ 알파→H4",
           "type": "scatter3d",
           "x": {
            "bdata": "AAAAAAAASUC49ORG+ENWQLj05Eb4A2BAFm9XavTlZEA=",
            "dtype": "f8"
           },
           "y": {
            "bdata": "AAAAAAAANEDAU0D1VHYpQP5OAdVT2RVAICb4AQno/L8=",
            "dtype": "f8"
           },
           "z": {
            "bdata": "AAAAAAAAAABiq9QSU55QQGKr1BJTnmBAFAE/nHztaEA=",
            "dtype": "f8"
           }
          },
          {
           "line": {
            "color": "brown",
            "width": 4
           },
           "marker": {
            "color": "brown",
            "size": 3
           },
           "mode": "lines+markers",
           "name": "🚀 H5",
           "type": "scatter3d",
           "x": {
            "bdata": "AAAAAAAAacDGBhuKLghowIwNNhRdEGfAUhRRnosYZsA=",
            "dtype": "f8"
           },
           "y": {
            "bdata": "AAAAAABAb8Czs85ik/VtwGVnncUmq2zAGBtsKLpga8A=",
            "dtype": "f8"
           },
           "z": {
            "bdata": "AAAAAAAgfEA7a5ArGgt8QOusQa5ozHtAEMUTiOtje0A=",
            "dtype": "f8"
           }
          },
          {
           "line": {
            "color": "cyan",
            "dash": "dash",
            "width": 5
           },
           "marker": {
            "color": "cyan",
            "size": 4,
            "symbol": "diamond"
           },
           "mode": "lines+markers",
           "name": "🛡️ 브라보→H5",
           "type": "scatter3d",
           "x": {
            "bdata": "AAAAAAAARMDVFha4wd1NwNUWFrjB3VPAQCIhlKLMWMA=",
            "dtype": "f8"
           },
           "y": {
            "bdata": "AAAAAAAAPsCYisTwN7pMwJiKxPA3OlXA5c8m6VMXXMA=",
            "dtype": "f8"
           },
           "z": {
            "bdata": "AAAAAAAAAABHV5VYEGtRQEdXlVgQa2FA7ALghJggakA=",
            "dtype": "f8"
           }
          }
         ],
         "layout": {
          "title": {
           "text": "🚀 다중 위협 분산 대응 시스템 - 시간: 1.55초"
          }
         },
         "name": "37"
        },
        {
         "data": [
          {
           "marker": {
            "color": "red",
            "size": 20,
            "symbol": "diamond"
           },
           "mode": "markers",
           "name": "🏙️ 도시",
           "type": "scatter3d",
           "x": [
            0
           ],
           "y": [
            0
           ],
           "z": [
            0
           ]
          },
          {
           "marker": {
            "color": "blue",
            "size": 15,
            "symbol": "square"
           },
           "mode": "markers",
           "name": "🏭 알파 기지",
           "type": "scatter3d",
           "x": [
            50
           ],
           "y": [
            20
           ],
           "z": [
            0
           ]
          },
          {
           "marker": {
            "color": "cyan",
            "size": 15,
            "symbol": "square"
           },
           "mode": "markers",
           "name": "🏭 브라보 기지",
           "type": "scatter3d",
           "x": [
            -40
           ],
           "y": [
            -30
           ],
           "z": [
            0
           ]
          },
          {
           "line": {
            "color": "red",
            "width": 4
           },
           "marker": {
            "color": "red",
            "size": 3
           },
           "mode": "lines+markers",
           "name": "🚀 H1",
           "type": "scatter3d",
           "x": {
            "bdata": "AAAAAABAb0DMows1pextQJhHF2pKmWxAZOsin+9Fa0A=",
            "dtype": "f8"
           },
           "y": {
            "bdata": "AAAAAADAckBgRidB5+txQL+MToLOF3FAH9N1w7VDcEA=",
            "dtype": "f8"
           },
           "z": {
            "bdata": "AAAAAAAAeUBRfxQV9el4QEP9UVTUp3hA13m4vZ05eEA=",
            "dtype": "f8"
           }
          },
          {
           "line": {
            "color": "blue",
            "dash": "dash",
            "width": 5
           },
           "marker": {
            "color": "blue",
            "size": 4,
            "symbol": "diamond"
           },
           "mode": "lines+markers",
           "name": "🛡️ 알파→H1",
           "type": "scatter3d",
           "x": {
            "bdata": "AAAAAAAASUAz7pfzl/BSQGbcL+cvYVlAmcrH2sfRX0A=",
            "dtype": "f8"
           },
           "y": {
            "bdata": "AAAAAAAANEC6NW+9rNNMQLo1b72s01dATGgTjsGeYEA=",
            "dtype": "f8"
           },
           "z": {
            "bdata": "AAAAAAAAAAAdlYN+rElQQB2Vg36sSWBArV/FvYJuaEA=",
            "dtype": "f8"
           }
          },
          {
           "line": {
            "color": "orange",
            "width": 4
           },
           "marker": {
            "color": "orange",
            "size": 3
           },
           "mode": "lines+markers",
           "name": "🚀 H2",
           "type": "scatter3d",
           "x": {
            "bdata": "AAAAAACAccBKzSzdWsVwwJSaWbq1CnDAu88MLyGgbsA=",
            "dtype": "f8"
           },
           "y": {
            "bdata": "AAAAAABAb0DMows1pextQJhHF2pKmWxAZOsin+9Fa0A=",
            "dtype": "f8"
           },
           "z": {
            "bdata": "AAAAAADAd0BRfxQV9al3QEP9UVTUZ3dA13m4vZ35dkA=",
            "dtype": "f8"
           }
          },
          {
           "line": {
            "color": "cyan",
            "dash": "dash",
            "width": 5
           },
           "marker": {
            "color": "cyan",
            "size": 4,
            "symbol": "diamond"
           },
           "mode": "lines+markers",
           "name": "🛡️ 브라보→H2",
           "type": "scatter3d",
           "x": {
            "bdata": "AAAAAAAARMCGLBsWNOxRwAxZNixo2FnAycIoIU7iYMA=",
            "dtype": "f8"
           },
           "y": {
            "bdata": "AAAAAAAAPsAQnISITvQjQAhOQkQn+khAiLoxc517VkA=",
            "dtype": "f8"
           },
           "z": {
            "bdata": "AAAAAAAAAAAqqCCxqoJOQCqoILGqgl5AIX7YBADiZkA=",
            "dtype": "f8"
           }
          },
          {
           "line": {
            "color": "green",
            "width": 4
           },
           "marker": {
            "color": "green",
            "size": 3
           },
           "mode": "lines+markers",
           "name": "🚀 H3",
           "type": "scatter3d",
           "x": {
            "bdata": "AAAAAAAAJEBiHl2oKWUdQMM8ulBTyhJASLYu8vleAEA=",
            "dtype": "f8"
           },
           "y": {
            "bdata": "AAAAAADgdcDZusjne+F0wLJ1kc/34nPAizBat3PkcsA=",
            "dtype": "f8"
           },
           "z": {
            "bdata": "AAAAAABAekBRfxQV9Sl6QEP9UVTU53lA13m4vZ15eUA=",
            "dtype": "f8"
           }
          },
          {
           "line": {
            "color": "cyan",
            "dash": "dash",
            "width": 5
           },
           "marker": {
            "color": "cyan",
            "size": 4,
            "symbol": "diamond"
           },
           "mode": "lines+markers",
           "name": "🛡️ 브라보→H3",
           "type": "scatter3d",
           "x": {
            "bdata": "AAAAAAAARMCsBQOnSNhAwLIWDJwiYTvACSIS6rMRNcA=",
            "dtype": "f8"
           },
           "y": {
            "bdata": "AAAAAAAAPsADNycSkNxRwAZuTiQgOVzAhdI6G9hKY8A=",
            "dtype": "f8"
           },
           "z": {
            "bdata": "AAAAAAAAAABlFn6QweVQQGUWfpDB5WBAmSG9WKJYaUA=",
            "dtype": "f8"
           }
          },
          {
           "line": {
            "color": "purple",
            "width": 4
           },
           "marker": {
            "color": "purple",
            "size": 3
           },
           "mode": "lines+markers",
           "name": "🚀 H4",
           "type": "scatter3d",
           "x": {
            "bdata": "AAAAAADAckBgRidB5+txQL+MToLOF3FAH9N1w7VDcEA=",
            "dtype": "f8"
           },
           "y": {
            "bdata": "AAAAAAAAJMCGkyCr9x4mwAwnQVbvPSjAkrphAedcKsA=",
            "dtype": "f8"
           },
           "z": {
            "bdata": "AAAAAADgdUBRfxQV9cl1QEP9UVTUh3VA13m4vZ0ZdUA=",
            "dtype": "f8"
           }
          },
          {
           "line": {
            "color": "blue",
            "dash": "dash",
            "width": 5
           },
           "marker": {
            "color": "blue",
            "size": 4,
            "symbol": "diamond"
           },
           "mode": "lines+markers",
           "name": "🛡️ 알파→H4",
           "type": "scatter3d",
           "x": {
            "bdata": "AAAAAAAASUCwMpFdiYdWQLAykV2JR2BACMxZDE5LZUA=",
            "dtype": "f8"
           },
           "y": {
            "bdata": "AAAAAAAANED2r7cJvxEpQNa/3ib8RhRAiMBjiwsrA8A=",
            "dtype": "f8"
           },
           "z": {
            "bdata": "AAAAAAAAAABy4F1mThFRQHLgXWZOEWFArdCMmfWZaUA=",
            "dtype": "f8"
           }
          },
          {
           "line": {
            "color": "brown",
            "width": 4
           },
           "marker": {
            "color": "brown",
            "size": 3
           },
           "mode": "lines+markers",
           "name": "🚀 H5",
           "type": "scatter3d",
           "x": {
            "bdata": "AAAAAAAAacDZusjnewFowLJ1kc/3AmfAizBat3MEZsA=",
            "dtype": "f8"
           },
           "y": {
            "bdata": "AAAAAABAb8DMows1pextwJhHF2pKmWzAZOsin+9Fa8A=",
            "dtype": "f8"
           },
           "z": {
            "bdata": "AAAAAAAgfEBRfxQV9Ql8QEP9UVTUx3tA13m4vZ1Ze0A=",
            "dtype": "f8"
           }
          },
          {
           "line": {
            "color": "cyan",
            "dash": "dash",
            "width": 5
           },
           "marker": {
            "color": "cyan",
            "size": 4,
            "symbol": "diamond"
           },
           "mode": "lines+markers",
           "name": "🛡️ 브라보→H5",
           "type": "scatter3d",
           "x": {
            "bdata": "AAAAAAAARMBJJZo5BSJOwEklmjkFIlTA7jdn1gczWcA=",
            "dtype": "f8"
           },
           "y": {
            "bdata": "AAAAAAAAPsCAgJKIMhlNwICAkogymVXAwsDbzMulXMA=",
            "dtype": "f8"
           },
           "z": {
            "bdata": "AAAAAAAAAADhRE0/lONRQOFETT+U42FAUufzXl7VakA=",
            "dtype": "f8"
           }
          }
         ],
         "layout": {
          "title": {
           "text": "🚀 다중 위협 분산 대응 시스템 - 시간: 1.59초"
          }
         },
         "name": "38"
        },
        {
         "data": [
          {
           "marker": {
            "color": "red",
            "size": 20,
            "symbol": "diamond"
           },
           "mode": "markers",
           "name": "🏙️ 도시",
           "type": "scatter3d",
           "x": [
            0
           ],
           "y": [
            0
           ],
           "z": [
            0
           ]
          },
          {
           "marker": {
            "color": "blue",
            "size": 15,
            "symbol": "square"
           },
           "mode": "markers",
           "name": "🏭 알파 기지",
           "type": "scatter3d",
           "x": [
            50
           ],
           "y": [
            20
           ],
           "z": [
            0
           ]
          },
          {
           "marker": {
            "color": "cyan",
            "size": 15,
            "symbol": "square"
           },
           "mode": "markers",
           "name": "🏭 브라보 기지",
           "type": "scatter3d",
           "x": [
            -40
           ],
           "y": [
            -30
           ],
           "z": [
            0
           ]
          },
          {
           "line": {
            "color": "red",
            "width": 4
           },
           "marker": {
            "color": "red",
            "size": 3
           },
           "mode": "lines+markers",
           "name": "🚀 H1",
           "type": "scatter3d",
           "x": {
            "bdata": "AAAAAABAb0Dmk0gHt+NtQMsnkQ5uh2xAsbvZFSUra0A=",
            "dtype": "f8"
           },
           "y": {
            "bdata": "AAAAAADAckBwXI1kUuZxQN+4GsmkDHFATxWoLfcycEA=",
            "dtype": "f8"
           },
           "z": {
            "bdata": "AAAAAAAAeUCheMgtyOh4QIbiIbcgo3hArT0MnAkveEA=",
            "dtype": "f8"
           }
          },
          {
           "line": {
            "color": "blue",
            "dash": "dash",
            "width": 5
           },
           "marker": {
            "color": "blue",
            "size": 4,
            "symbol": "diamond"
           },
           "mode": "lines+markers",
           "name": "🛡️ 알파→H1",
           "type": "scatter3d",
           "x": {
            "bdata": "AAAAAAAASUC77RtE+htTQHbbN4j0t1lAmeQpZvcpYEA=",
            "dtype": "f8"
           },
           "y": {
            "bdata": "AAAAAAAANEDiPbwgglJNQOI9vCCCUlhAai6NmOH9YEA=",
            "dtype": "f8"
           },
           "z": {
            "bdata": "AAAAAAAAAAAZ/qHtZrdQQBn+oe1mt2BAJP1yZBoTaUA=",
            "dtype": "f8"
           }
          },
          {
           "line": {
            "color": "orange",
            "width": 4
           },
           "marker": {
            "color": "orange",
            "size": 3
           },
           "mode": "lines+markers",
           "name": "🚀 H2",
           "type": "scatter3d",
           "x": {
            "bdata": "AAAAAACAccC+tzR3ccBwwH1vae7iAHDAdk48y6iCbsA=",
            "dtype": "f8"
           },
           "y": {
            "bdata": "AAAAAABAb0Dmk0gHt+NtQMsnkQ5uh2xAsbvZFSUra0A=",
            "dtype": "f8"
           },
           "z": {
            "bdata": "AAAAAADAd0CheMgtyKh3QIbiIbcgY3dArT0MnAnvdkA=",
            "dtype": "f8"
           }
          },
          {
           "line": {
            "color": "cyan",
            "dash": "dash",
            "width": 5
           },
           "marker": {
            "color": "cyan",
            "size": 4,
            "symbol": "diamond"
           },
           "mode": "lines+markers",
           "name": "🛡️ 브라보→H2",
           "type": "scatter3d",
           "x": {
            "bdata": "AAAAAAAARMBGhdjFkyFSwI0KsYsnQ1rA6sfEqF0yYcA=",
            "dtype": "f8"
           },
           "y": {
            "bdata": "AAAAAAAAPsCE/r1I8g4mQEL/XiR5B0pAcT9H25pFV0A=",
            "dtype": "f8"
           },
           "z": {
            "bdata": "AAAAAAAAAABy/a7rNVBPQHL9rus1UF9AFT7DcCh8Z0A=",
            "dtype": "f8"
           }
          },
          {
           "line": {
            "color": "green",
            "width": 4
           },
           "marker": {
            "color": "green",
            "size": 3
           },
           "mode": "lines+markers",
           "name": "🚀 H3",
           "type": "scatter3d",
           "x": {
            "bdata": "AAAAAAAAJEAun0Q6uB0dQFs+iXRwOxJAIHY3u6Jk/T8=",
            "dtype": "f8"
           },
           "y": {
            "bdata": "AAAAAADgdcDsbnZFydp0wNjd7IqS1XPAxUxj0FvQcsA=",
            "dtype": "f8"
           },
           "z": {
            "bdata": "AAAAAABAekCheMgtyCh6QIbiIbcg43lArT0MnAlveUA=",
            "dtype": "f8"
           }
          },
          {
           "line": {
            "color": "cyan",
            "dash": "dash",
            "width": 5
           },
           "marker": {
            "color": "cyan",
            "size": 4,
            "symbol": "diamond"
           },
           "mode": "lines+markers",
           "name": "🛡️ 브라보→H3",
           "type": "scatter3d",
           "x": {
            "bdata": "AAAAAAAARMAxySQyB8NAwMIkk8gcDDvAJLfcLCuSNMA=",
            "dtype": "f8"
           },
           "y": {
            "bdata": "AAAAAAAAPsDV+673XSJSwKr3Xe+7xFzAv3mG84yzY8A=",
            "dtype": "f8"
           },
           "z": {
            "bdata": "AAAAAAAAAAC6nRWAl1dRQLqdFYCXV2FAl2wgQGMDakA=",
            "dtype": "f8"
           }
          },
          {
           "line": {
            "color": "purple",
            "width": 4
           },
           "marker": {
            "color": "purple",
            "size": 3
           },
           "mode": "lines+markers",
           "name": "🚀 H4",
           "type": "scatter3d",
           "x": {
            "bdata": "AAAAAADAckBwXI1kUuZxQN+4GsmkDHFATxWoLfcycEA=",
            "dtype": "f8"
           },
           "y": {
            "bdata": "AAAAAAAAJMCQRvKNQS0mwCGN5BuDWijAstPWqcSHKsA=",
            "dtype": "f8"
           },
           "z": {
            "bdata": "AAAAAADgdUCheMgtyMh1QIbiIbcgg3VArT0MnAkPdUA=",
            "dtype": "f8"
           }
          },
          {
           "line": {
            "color": "blue",
            "dash": "dash",
            "width": 5
           },
           "marker": {
            "color": "blue",
            "size": 4,
            "symbol": "diamond"
           },
           "mode": "lines+markers",
           "name": "🛡️ 알파→H4",
           "type": "scatter3d",
           "x": {
            "bdata": "AAAAAAAASUCocD10GstWQKhwPXQai2BA+yhcrqewZUA=",
            "dtype": "f8"
           },
           "y": {
            "bdata": "AAAAAAAANEAqDC8eKa0oQKYwvHiktBJACG7LlRLiB8A=",
            "dtype": "f8"
           },
           "z": {
            "bdata": "AAAAAAAAAACEFee5SYRRQIQV57lJhGFARqDalm5GakA=",
            "dtype": "f8"
           }
          },
          {
           "line": {
            "color": "brown",
            "width": 4
           },
           "marker": {
            "color": "brown",
            "size": 3
           },
           "mode": "lines+markers",
           "name": "🚀 H5",
           "type": "scatter3d",
           "x": {
            "bdata": "AAAAAAAAacDsbnZFyfpnwNjd7IqS9WbAxUxj0FvwZcA=",
            "dtype": "f8"
           },
           "y": {
            "bdata": "AAAAAABAb8Dmk0gHt+NtwMsnkQ5uh2zAsbvZFSUra8A=",
            "dtype": "f8"
           },
           "z": {
            "bdata": "AAAAAAAgfECheMgtyAh8QIbiIbcgw3tArT0MnAlPe0A=",
            "dtype": "f8"
           }
          },
          {
           "line": {
            "color": "cyan",
            "dash": "dash",
            "width": 5
           },
           "marker": {
            "color": "cyan",
            "size": 4,
            "symbol": "diamond"
           },
           "mode": "lines+markers",
           "name": "🛡️ 브라보→H5",
           "type": "scatter3d",
           "x": {
            "bdata": "AAAAAAAARMC+Mx67SGZOwL4zHrtIZlTAnk2tGG2ZWcA=",
            "dtype": "f8"
           },
           "y": {
            "bdata": "AAAAAAAAPsBqdmAgLXhNwGp2YCAt+FXAn7GQsEM0XcA=",
            "dtype": "f8"
           },
           "z": {
            "bdata": "AAAAAAAAAAB8MgUmGFxSQHwyBSYYXGJAussHOSSKa0A=",
            "dtype": "f8"
           }
          }
         ],
         "layout": {
          "title": {
           "text": "🚀 다중 위협 분산 대응 시스템 - 시간: 1.63초"
          }
         },
         "name": "39"
        },
        {
         "data": [
          {
           "marker": {
            "color": "red",
            "size": 20,
            "symbol": "diamond"
           },
           "mode": "markers",
           "name": "🏙️ 도시",
           "type": "scatter3d",
           "x": [
            0
           ],
           "y": [
            0
           ],
           "z": [
            0
           ]
          },
          {
           "marker": {
            "color": "blue",
            "size": 15,
            "symbol": "square"
           },
           "mode": "markers",
           "name": "🏭 알파 기지",
           "type": "scatter3d",
           "x": [
            50
           ],
           "y": [
            20
           ],
           "z": [
            0
           ]
          },
          {
           "marker": {
            "color": "cyan",
            "size": 15,
            "symbol": "square"
           },
           "mode": "markers",
           "name": "🏭 브라보 기지",
           "type": "scatter3d",
           "x": [
            -40
           ],
           "y": [
            -30
           ],
           "z": [
            0
           ]
          },
          {
           "line": {
            "color": "red",
            "width": 4
           },
           "marker": {
            "color": "red",
            "size": 3
           },
           "mode": "lines+markers",
           "name": "🚀 H1",
           "type": "scatter3d",
           "x": {
            "bdata": "AAAAAABAb0D/IiSjFjRuQP9FSEYtKG1A/mhs6UMcbED+i5CMWhBrQA==",
            "dtype": "f8"
           },
           "y": {
            "bdata": "AAAAAADAckDglfYljhhyQL8r7UsccXFAn8HjcarJcEB/V9qXOCJwQA==",
            "dtype": "f8"
           },
           "z": {
            "bdata": "AAAAAAAAeUAJ8TDyQvJ4QCXEw8gLyXhAU3m4g1qEeECTEA8jLyR4QA==",
            "dtype": "f8"
           }
          },
          {
           "line": {
            "color": "blue",
            "dash": "dash",
            "width": 5
           },
           "marker": {
            "color": "blue",
            "size": 4,
            "symbol": "diamond"
           },
           "mode": "lines+markers",
           "name": "🛡️ 알파→H1",
           "type": "scatter3d",
           "x": {
            "bdata": "AAAAAAAASUDy8XdvhZVRQOXj794Kq1ZA2NVnTpDAW0Dl4+/eCmtgQA==",
            "dtype": "f8"
           },
           "y": {
            "bdata": "AAAAAAAANECG9AajAd1IQIb0BqMB3VNAyW6KdIJLW0CG9AajAV1hQA==",
            "dtype": "f8"
           },
           "z": {
            "bdata": "AAAAAAAAAACbmiALsrdJQJuaIAuyt1lA9HNYiMVJY0CbmiALsrdpQA==",
            "dtype": "f8"
           }
          },
          {
           "line": {
            "color": "orange",
            "width": 4
           },
           "marker": {
            "color": "orange",
            "size": 3
           },
           "mode": "lines+markers",
           "name": "🚀 H2",
           "type": "scatter3d",
           "x": {
            "bdata": "AAAAAACAccCmee0MpuxwwEzz2hlMWXDA5dmQTeSLb8AxzWtnMGVuwA==",
            "dtype": "f8"
           },
           "y": {
            "bdata": "AAAAAABAb0D/IiSjFjRuQP9FSEYtKG1A/mhs6UMcbED+i5CMWhBrQA==",
            "dtype": "f8"
           },
           "z": {
            "bdata": "AAAAAADAd0AJ8TDyQrJ3QCXEw8gLiXdAU3m4g1pEd0CTEA8jL+R2QA==",
            "dtype": "f8"
           }
          },
          {
           "line": {
            "color": "cyan",
            "dash": "dash",
            "width": 5
           },
           "marker": {
            "color": "cyan",
            "size": 4,
            "symbol": "diamond"
           },
           "mode": "lines+markers",
           "name": "🛡️ 브라보→H2",
           "type": "scatter3d",
           "x": {
            "bdata": "AAAAAAAARMCFZjCYNkFQwArNYDBtglbAjjORyKPDXMAKzWAwbYJhwA==",
            "dtype": "f8"
           },
           "y": {
            "bdata": "AAAAAAAAPsCgRcw1hPn4P1rEXEOYj0BAQ5OFMrIrUEBaxFxDmA9YQA==",
            "dtype": "f8"
           },
           "z": {
            "bdata": "AAAAAAAAAAAI/q3cUBZIQAj+rdxQFlhAhn6CpbwQYkAI/q3cUBZoQA==",
            "dtype": "f8"
           }
          },
          {
           "line": {
            "color": "green",
            "width": 4
           },
           "marker": {
            "color": "green",
            "size": 3
           },
           "mode": "lines+markers",
           "name": "🚀 H3",
           "type": "scatter3d",
           "x": {
            "bdata": "AAAAAAAAJED8FyEZtaAfQPcvQjJqQRdA5o/Glj7EDUC4fxGSUQv6Pw==",
            "dtype": "f8"
           },
           "y": {
            "bdata": "AAAAAADgdcBAGlv6EBd1wH80tvQhTnTAv04R7zKFc8D+aGzpQ7xywA==",
            "dtype": "f8"
           },
           "z": {
            "bdata": "AAAAAABAekAJ8TDyQjJ6QCXEw8gLCXpAU3m4g1rEeUCTEA8jL2R5QA==",
            "dtype": "f8"
           }
          },
          {
           "line": {
            "color": "cyan",
            "dash": "dash",
            "width": 5
           },
           "marker": {
            "color": "cyan",
            "size": 4,
            "symbol": "diamond"
           },
           "mode": "lines+markers",
           "name": "🛡️ 브라보→H3",
           "type": "scatter3d",
           "x": {
            "bdata": "AAAAAAAARMCI6fRNVIJBwCCm0zdRCT7AMHm90/kNOcA/TKdvohI0wA==",
            "dtype": "f8"
           },
           "y": {
            "bdata": "AAAAAAAAPsD4INLLQVxPwPgg0stB3FfAupjdWDEFYMD4INLLQRxkwA==",
            "dtype": "f8"
           },
           "z": {
            "bdata": "AAAAAAAAAACUt4MnJK5KQJS3gyckrlpAr8miHZsCZECUt4MnJK5qQA==",
            "dtype": "f8"
           }
          },
          {
           "line": {
            "color": "purple",
            "width": 4
           },
           "marker": {
            "color": "purple",
            "size": 3
           },
           "mode": "lines+markers",
           "name": "🚀 H4",
           "type": "scatter3d",
           "x": {
            "bdata": "AAAAAADAckDglfYljhhyQL8r7UsccXFAn8HjcarJcEB/V9qXOCJwQA==",
            "dtype": "f8"
           },
           "y": {
            "bdata": "AAAAAAAAJMA0+5KUqKwlwGj2JSlRWSfAnPG4vfkFKcDQ7EtSorIqwA==",
            "dtype": "f8"
           },
           "z": {
            "bdata": "AAAAAADgdUAJ8TDyQtJ1QCXEw8gLqXVAU3m4g1pkdUCTEA8jLwR1QA==",
            "dtype": "f8"
           }
          },
          {
           "line": {
            "color": "blue",
            "dash": "dash",
            "width": 5
           },
           "marker": {
            "color": "blue",
            "size": 4,
            "symbol": "diamond"
           },
           "mode": "lines+markers",
           "name": "🛡️ 알파→H4",
           "type": "scatter3d",
           "x": {
            "bdata": "AAAAAAAASUD3Qi+oAGtUQO6FXlABVlxAcuRG/IAgYkDuhV5QARZmQA==",
            "dtype": "f8"
           },
           "y": {
            "bdata": "AAAAAAAANEBIzvxlbjYsQJCc+cvcbCBAYKvZxyyNAkCAGzOgGZkMwA==",
            "dtype": "f8"
           },
           "z": {
            "bdata": "AAAAAAAAAADebyiU5/JKQN5vKJTn8lpA51Mery02ZEDebyiU5/JqQA==",
            "dtype": "f8"
           }
          },
          {
           "line": {
            "color": "brown",
            "width": 4
           },
           "marker": {
            "color": "brown",
            "size": 3
           },
           "mode": "lines+markers",
           "name": "🚀 H5",
           "type": "scatter3d",
           "x": {
            "bdata": "AAAAAAAAacBAGlv6EDdowH80tvQhbmfAv04R7zKlZsD+aGzpQ9xlwA==",
            "dtype": "f8"
           },
           "y": {
            "bdata": "AAAAAABAb8D/IiSjFjRuwP9FSEYtKG3A/mhs6UMcbMD+i5CMWhBrwA==",
            "dtype": "f8"
           },
           "z": {
            "bdata": "AAAAAAAgfEAJ8TDyQhJ8QCXEw8gL6XtAU3m4g1qke0CTEA8jL0R7QA==",
            "dtype": "f8"
           }
          },
          {
           "line": {
            "color": "cyan",
            "dash": "dash",
            "width": 5
           },
           "marker": {
            "color": "cyan",
            "size": 4,
            "symbol": "diamond"
           },
           "mode": "lines+markers",
           "name": "🛡️ 브라보→H5",
           "type": "scatter3d",
           "x": {
            "bdata": "AAAAAAAARMCmsXkt6f9LwKaxeS3p/1HAeYo2xN3/VcBMY/Na0v9ZwA==",
            "dtype": "f8"
           },
           "y": {
            "bdata": "AAAAAAAAPsA+0SLKXSFKwD7RIspdoVLA3Dk0rwwyWMB7okWUu8JdwA==",
            "dtype": "f8"
           },
           "z": {
            "bdata": "AAAAAAAAAAAhsBsT6j5MQCGwGxPqPlxAGcRUji8vZUAhsBsT6j5sQA==",
            "dtype": "f8"
           }
          }
         ],
         "layout": {
          "title": {
           "text": "🚀 다중 위협 분산 대응 시스템 - 시간: 1.67초"
          }
         },
         "name": "40"
        },
        {
         "data": [
          {
           "marker": {
            "color": "red",
            "size": 20,
            "symbol": "diamond"
           },
           "mode": "markers",
           "name": "🏙️ 도시",
           "type": "scatter3d",
           "x": [
            0
           ],
           "y": [
            0
           ],
           "z": [
            0
           ]
          },
          {
           "marker": {
            "color": "blue",
            "size": 15,
            "symbol": "square"
           },
           "mode": "markers",
           "name": "🏭 알파 기지",
           "type": "scatter3d",
           "x": [
            50
           ],
           "y": [
            20
           ],
           "z": [
            0
           ]
          },
          {
           "marker": {
            "color": "cyan",
            "size": 15,
            "symbol": "square"
           },
           "mode": "markers",
           "name": "🏭 브라보 기지",
           "type": "scatter3d",
           "x": [
            -40
           ],
           "y": [
            -30
           ],
           "z": [
            0
           ]
          },
          {
           "line": {
            "color": "red",
            "width": 4
           },
           "marker": {
            "color": "red",
            "size": 3
           },
           "mode": "lines+markers",
           "name": "🚀 H1",
           "type": "scatter3d",
           "x": {
            "bdata": "AAAAAABAb0AT19EAZC1uQCWuowHIGm1AOIV1AiwIbEBKXEcDkPVqQA==",
            "dtype": "f8"
           },
           "y": {
            "bdata": "AAAAAADAckBsJoOAXhRyQNdMBgG9aHFAQ3OJgRu9cECvmQwCehFwQA==",
            "dtype": "f8"
           },
           "z": {
            "bdata": "AAAAAAAAeUApDyzlkPF4QKI8sJRDxnhAbYiMDhh+eECJ8sBSDhl4QA==",
            "dtype": "f8"
           }
          },
          {
           "line": {
            "color": "blue",
            "dash": "dash",
            "width": 5
           },
           "marker": {
            "color": "blue",
            "size": 4,
            "symbol": "diamond"
           },
           "mode": "lines+markers",
           "name": "🛡️ 알파→H1",
           "type": "scatter3d",
           "x": {
            "bdata": "AAAAAAAASUCY8dorD7ZRQDHjtVce7FZAytSQgy0iXEAx47VXHqxgQA==",
            "dtype": "f8"
           },
           "y": {
            "bdata": "AAAAAAAANECjuoCtITxJQKO6gK0hPFRA9RdBhDLaW0CjuoCtIbxhQA==",
            "dtype": "f8"
           },
           "z": {
            "bdata": "AAAAAAAAAAASOM6xSVxKQBI4zrFJXFpADapaRTfFY0ASOM6xSVxqQA==",
            "dtype": "f8"
           }
          },
          {
           "line": {
            "color": "orange",
            "width": 4
           },
           "marker": {
            "color": "orange",
            "size": 3
           },
           "mode": "lines+markers",
           "name": "🚀 H2",
           "type": "scatter3d",
           "x": {
            "bdata": "AAAAAACAccB9aXMA9+hwwPvS5gDuUXDA8Xi0Asp1b8DsS5sDuEduwA==",
            "dtype": "f8"
           },
           "y": {
            "bdata": "AAAAAABAb0AT19EAZC1uQCWuowHIGm1AOIV1AiwIbEBKXEcDkPVqQA==",
            "dtype": "f8"
           },
           "z": {
            "bdata": "AAAAAADAd0ApDyzlkLF3QKI8sJRDhndAbYiMDhg+d0CJ8sBSDtl2QA==",
            "dtype": "f8"
           }
          },
          {
           "line": {
            "color": "cyan",
            "dash": "dash",
            "width": 5
           },
           "marker": {
            "color": "cyan",
            "size": 4,
            "symbol": "diamond"
           },
           "mode": "lines+markers",
           "name": "🛡️ 브라보→H2",
           "type": "scatter3d",
           "x": {
            "bdata": "AAAAAAAARMAVaf5bPmlQwCrS/Ld80lbAPzv7E7s7XcAq0vy3fNJhwA==",
            "dtype": "f8"
           },
           "y": {
            "bdata": "AAAAAAAAPsAQSpJbrcwCQEJJcquVWUFA8baVQDDDUEBCSXKrldlYQA==",
            "dtype": "f8"
           },
           "z": {
            "bdata": "AAAAAAAAAAD7vZhIebBIQPu9mEh5sFhAfI5y9lqEYkD7vZhIebBoQA==",
            "dtype": "f8"
           }
          },
          {
           "line": {
            "color": "green",
            "width": 4
           },
           "marker": {
            "color": "green",
            "size": 3
           },
           "mode": "lines+markers",
           "name": "🚀 H3",
           "type": "scatter3d",
           "x": {
            "bdata": "AAAAAAAAJECVuI4GIGsfQCpxHQ1A1hZAgFNYJ8CCDEBQietoALL2Pw==",
            "dtype": "f8"
           },
           "y": {
            "bdata": "AAAAAADgdcBOYZ0ACxJ1wJzCOgEWRHTA6iPYASF2c8A4hXUCLKhywA==",
            "dtype": "f8"
           },
           "z": {
            "bdata": "AAAAAABAekApDyzlkDF6QKI8sJRDBnpAbYiMDhi+eUCJ8sBSDll5QA==",
            "dtype": "f8"
           }
          },
          {
           "line": {
            "color": "cyan",
            "dash": "dash",
            "width": 5
           },
           "marker": {
            "color": "cyan",
            "size": 4,
            "symbol": "diamond"
           },
           "mode": "lines+markers",
           "name": "🛡️ 브라보→H3",
           "type": "scatter3d",
           "x": {
            "bdata": "AAAAAAAARMArPE42Y3JBwK7wONmMyT3ABGnVRVOuOMBb4XGyGZMzwA==",
            "dtype": "f8"
           },
           "y": {
            "bdata": "AAAAAAAAPsAxyB2k9sRPwDHIHaT2RFjAJVYW+7hTYMAxyB2k9oRkwA==",
            "dtype": "f8"
           },
           "z": {
            "bdata": "AAAAAAAAAACRAucO5VhLQJEC5w7lWFtA7UEty6uCZECRAucO5VhrQA==",
            "dtype": "f8"
           }
          },
          {
           "line": {
            "color": "purple",
            "width": 4
           },
           "marker": {
            "color": "purple",
            "size": 3
           },
           "mode": "lines+markers",
           "name": "🚀 H4",
           "type": "scatter3d",
           "x": {
            "bdata": "AAAAAADAckBsJoOAXhRyQNdMBgG9aHFAQ3OJgRu9cECvmQwCehFwQA==",
            "dtype": "f8"
           },
           "y": {
            "bdata": "AAAAAAAAJMB8QbD+X7clwPiCYP2/bifAc8QQ/B8mKcDvBcH6f90qwA==",
            "dtype": "f8"
           },
           "z": {
            "bdata": "AAAAAADgdUApDyzlkNF1QKI8sJRDpnVAbYiMDhhedUCJ8sBSDvl0QA==",
            "dtype": "f8"
           }
          },
          {
           "line": {
            "color": "blue",
            "dash": "dash",
            "width": 5
           },
           "marker": {
            "color": "blue",
            "size": 4,
            "symbol": "diamond"
           },
           "mode": "lines+markers",
           "name": "🛡️ 알파→H4",
           "type": "scatter3d",
           "x": {
            "bdata": "AAAAAAAASUBwcTB5rZ1UQODiYPJau1xAKKrINYRsYkDg4mDyWntmQA==",
            "dtype": "f8"
           },
           "y": {
            "bdata": "AAAAAAAANEBwU1b1/eorQMBNWdX3qx9AgNIXAM8H/j+AZE1VEKgQwA==",
            "dtype": "f8"
           },
           "z": {
            "bdata": "AAAAAAAAAAB3P3aRYJ9LQHc/dpFgn1tAma8YbYi3ZEB3P3aRYJ9rQA==",
            "dtype": "f8"
           }
          },
          {
           "line": {
            "color": "brown",
            "width": 4
           },
           "marker": {
            "color": "brown",
            "size": 3
           },
           "mode": "lines+markers",
           "name": "🚀 H5",
           "type": "scatter3d",
           "x": {
            "bdata": "AAAAAAAAacBOYZ0ACzJowJzCOgEWZGfA6iPYASGWZsA4hXUCLMhlwA==",
            "dtype": "f8"
           },
           "y": {
            "bdata": "AAAAAABAb8AT19EAZC1uwCWuowHIGm3AOIV1AiwIbMBKXEcDkPVqwA==",
            "dtype": "f8"
           },
           "z": {
            "bdata": "AAAAAAAgfEApDyzlkBF8QKI8sJRD5ntAbYiMDhiee0CJ8sBSDjl7QA==",
            "dtype": "f8"
           }
          },
          {
           "line": {
            "color": "cyan",
            "dash": "dash",
            "width": 5
           },
           "marker": {
            "color": "cyan",
            "size": 4,
            "symbol": "diamond"
           },
           "mode": "lines+markers",
           "name": "🛡️ 브라보→H5",
           "type": "scatter3d",
           "x": {
            "bdata": "AAAAAAAARMB+vJzOGzNMwH68nM4bM1LAvBrrtalMVsD7eDmdN2ZawA==",
            "dtype": "f8"
           },
           "y": {
            "bdata": "AAAAAAAAPsCsSf27mWhKwKxJ/buZ6FLAgu77meacWMBYk/p3M1FewA==",
            "dtype": "f8"
           },
           "z": {
            "bdata": "AAAAAAAAAACIlC/tr/NMQIiUL+2v81xAZq/j8cO2ZUCIlC/tr/NsQA==",
            "dtype": "f8"
           }
          }
         ],
         "layout": {
          "title": {
           "text": "🚀 다중 위협 분산 대응 시스템 - 시간: 1.72초"
          }
         },
         "name": "41"
        },
        {
         "data": [
          {
           "marker": {
            "color": "red",
            "size": 20,
            "symbol": "diamond"
           },
           "mode": "markers",
           "name": "🏙️ 도시",
           "type": "scatter3d",
           "x": [
            0
           ],
           "y": [
            0
           ],
           "z": [
            0
           ]
          },
          {
           "marker": {
            "color": "blue",
            "size": 15,
            "symbol": "square"
           },
           "mode": "markers",
           "name": "🏭 알파 기지",
           "type": "scatter3d",
           "x": [
            50
           ],
           "y": [
            20
           ],
           "z": [
            0
           ]
          },
          {
           "marker": {
            "color": "cyan",
            "size": 15,
            "symbol": "square"
           },
           "mode": "markers",
           "name": "🏭 브라보 기지",
           "type": "scatter3d",
           "x": [
            -40
           ],
           "y": [
            -30
           ],
           "z": [
            0
           ]
          },
          {
           "line": {
            "color": "red",
            "width": 4
           },
           "marker": {
            "color": "red",
            "size": 3
           },
           "mode": "lines+markers",
           "name": "🚀 H1",
           "type": "scatter3d",
           "x": {
            "bdata": "AAAAAABAb0Ami39esSZuQEwW/7xiDW1AcqF+GxT0a0CYLP55xdpqQA==",
            "dtype": "f8"
           },
           "y": {
            "bdata": "AAAAAADAckD4tg/bLhByQO9tH7ZdYHFA5yQvkYywcEDf2z5suwBwQA==",
            "dtype": "f8"
           },
           "z": {
            "bdata": "AAAAAAAAeUA5HrJy2vB4QON4yMppw3hAABBDCK53eECO4yErpw14QA==",
            "dtype": "f8"
           }
          },
          {
           "line": {
            "color": "blue",
            "dash": "dash",
            "width": 5
           },
           "marker": {
            "color": "blue",
            "size": 4,
            "symbol": "diamond"
           },
           "mode": "lines+markers",
           "name": "🛡️ 알파→H1",
           "type": "scatter3d",
           "x": {
            "bdata": "AAAAAAAASUA+8T3omNZRQH3ie9AxLVdAu9O5uMqDXEB94nvQMe1gQA==",
            "dtype": "f8"
           },
           "y": {
            "bdata": "AAAAAAAANEDAgPq3QZtJQMCA+rdBm1RAIMH3k+JoXEDAgPq3QRtiQA==",
            "dtype": "f8"
           },
           "z": {
            "bdata": "AAAAAAAAAACJ1XtY4QBLQInVe1jhAFtAJ+BcAqlAZECJ1XtY4QBrQA==",
            "dtype": "f8"
           }
          },
          {
           "line": {
            "color": "orange",
            "width": 4
           },
           "marker": {
            "color": "orange",
            "size": 3
           },
           "mode": "lines+markers",
           "name": "🚀 H2",
           "type": "scatter3d",
           "x": {
            "bdata": "AAAAAACAccBVWfnzR+VwwKqy8uePSnDA/RfYt69fb8CmysqfPypuwA==",
            "dtype": "f8"
           },
           "y": {
            "bdata": "AAAAAABAb0Ami39esSZuQEwW/7xiDW1AcqF+GxT0a0CYLP55xdpqQA==",
            "dtype": "f8"
           },
           "z": {
            "bdata": "AAAAAADAd0A5HrJy2rB3QON4yMppg3dAABBDCK43d0CO4yErp812QA==",
            "dtype": "f8"
           }
          },
          {
           "line": {
            "color": "cyan",
            "dash": "dash",
            "width": 5
           },
           "marker": {
            "color": "cyan",
            "size": 4,
            "symbol": "diamond"
           },
           "mode": "lines+markers",
           "name": "🛡️ 브라보→H2",
           "type": "scatter3d",
           "x": {
            "bdata": "AAAAAAAARMCla8wfRpFQwErXmD+MIlfA70JlX9KzXcBK15g/jCJiwA==",
            "dtype": "f8"
           },
           "y": {
            "bdata": "AAAAAAAAPsBQcT6cmBwJQCrOhxOTI0JAoNqlTq5aUUAqzocTk6NZQA==",
            "dtype": "f8"
           },
           "z": {
            "bdata": "AAAAAAAAAADufYO0oUpJQO59g7ShSllAc55iR/n3YkDufYO0oUppQA==",
            "dtype": "f8"
           }
          },
          {
           "line": {
            "color": "green",
            "width": 4
           },
           "marker": {
            "color": "green",
            "size": 3
           },
           "mode": "lines+markers",
           "name": "🚀 H3",
           "type": "scatter3d",
           "x": {
            "bdata": "AAAAAAAAJEAvWfzzijUfQF6y+OcVaxZAGhfqt0FBC0DwksU/r1jzPw==",
            "dtype": "f8"
           },
           "y": {
            "bdata": "AAAAAADgdcBcqN8GBQ11wLlQvw0KOnTAFfmeFA9nc8ByoX4bFJRywA==",
            "dtype": "f8"
           },
           "z": {
            "bdata": "AAAAAABAekA5HrJy2jB6QON4yMppA3pAABBDCK63eUCO4yErp015QA==",
            "dtype": "f8"
           }
          },
          {
           "line": {
            "color": "cyan",
            "dash": "dash",
            "width": 5
           },
           "marker": {
            "color": "cyan",
            "size": 4,
            "symbol": "diamond"
           },
           "mode": "lines+markers",
           "name": "🛡️ 브라보→H3",
           "type": "scatter3d",
           "x": {
            "bdata": "AAAAAAAARMDPjqcecmJBwDs7nnrIiT3A2Fjtt6xOOMB2djz1kBMzwA==",
            "dtype": "f8"
           },
           "y": {
            "bdata": "AAAAAAAAPsC2tzS+1RZQwGtvaXyrrVjAkBNPnUCiYMBrb2l8q+1kwA==",
            "dtype": "f8"
           },
           "z": {
            "bdata": "AAAAAAAAAACOTUr2pQNMQI5NSvalA1xAK7q3eLwCZUCOTUr2pQNsQA==",
            "dtype": "f8"
           }
          },
          {
           "line": {
            "color": "purple",
            "width": 4
           },
           "marker": {
            "color": "purple",
            "size": 3
           },
           "mode": "lines+markers",
           "name": "🚀 H4",
           "type": "scatter3d",
           "x": {
            "bdata": "AAAAAADAckD4tg/bLhByQO9tH7ZdYHFA5yQvkYywcEDf2z5suwBwQA==",
            "dtype": "f8"
           },
           "y": {
            "bdata": "AAAAAAAAJMDDh81oF8IlwIcPm9EuhCfASpdoOkZGKcAOHzajXQgrwA==",
            "dtype": "f8"
           },
           "z": {
            "bdata": "AAAAAADgdUA5HrJy2tB1QON4yMppo3VAABBDCK5XdUCO4yErp+10QA==",
            "dtype": "f8"
           }
          },
          {
           "line": {
            "color": "blue",
            "dash": "dash",
            "width": 5
           },
           "marker": {
            "color": "blue",
            "size": 4,
            "symbol": "diamond"
           },
           "mode": "lines+markers",
           "name": "🛡️ 알파→H4",
           "type": "scatter3d",
           "x": {
            "bdata": "AAAAAAAASUDqnzFKWtBUQNM/Y5S0IF1A3m9Kb4e4YkDTP2OUtOBmQA==",
            "dtype": "f8"
           },
           "y": {
            "bdata": "AAAAAAAANECY2K+EjZ8rQGJivxI2fh5AUE58cET19j88O4HakwMTwA==",
            "dtype": "f8"
           },
           "z": {
            "bdata": "AAAAAAAAAAAPD8SO2UtMQA8PxI7ZS1xASwsTK+M4ZUAPD8SO2UtsQA==",
            "dtype": "f8"
           }
          },
          {
           "line": {
            "color": "brown",
            "width": 4
           },
           "marker": {
            "color": "brown",
            "size": 3
           },
           "mode": "lines+markers",
           "name": "🚀 H5",
           "type": "scatter3d",
           "x": {
            "bdata": "AAAAAAAAacBcqN8GBS1owLlQvw0KWmfAFfmeFA+HZsByoX4bFLRlwA==",
            "dtype": "f8"
           },
           "y": {
            "bdata": "AAAAAABAb8Ami39esSZuwEwW/7xiDW3AcqF+GxT0a8CYLP55xdpqwA==",
            "dtype": "f8"
           },
           "z": {
            "bdata": "AAAAAAAgfEA5HrJy2hB8QON4yMpp43tAABBDCK6Xe0CO4yErpy17QA==",
            "dtype": "f8"
           }
          },
          {
           "line": {
            "color": "cyan",
            "dash": "dash",
            "width": 5
           },
           "marker": {
            "color": "cyan",
            "size": 4,
            "symbol": "diamond"
           },
           "mode": "lines+markers",
           "name": "🛡️ 브라보→H5",
           "type": "scatter3d",
           "x": {
            "bdata": "AAAAAAAARMBUx79vTmZMwFTHv29OZlLA/qqfp3WZVsCpjn/fnMxawA==",
            "dtype": "f8"
           },
           "y": {
            "bdata": "AAAAAAAAPsAawtet1a9KwBrC163VL1PAJ6PDhMAHWcA0hK9bq99ewA==",
            "dtype": "f8"
           },
           "z": {
            "bdata": "AAAAAAAAAADveEPHdahNQO94Q8d1qF1As5pyVVg+ZkDveEPHdahtQA==",
            "dtype": "f8"
           }
          }
         ],
         "layout": {
          "title": {
           "text": "🚀 다중 위협 분산 대응 시스템 - 시간: 1.76초"
          }
         },
         "name": "42"
        },
        {
         "data": [
          {
           "marker": {
            "color": "red",
            "size": 20,
            "symbol": "diamond"
           },
           "mode": "markers",
           "name": "🏙️ 도시",
           "type": "scatter3d",
           "x": [
            0
           ],
           "y": [
            0
           ],
           "z": [
            0
           ]
          },
          {
           "marker": {
            "color": "blue",
            "size": 15,
            "symbol": "square"
           },
           "mode": "markers",
           "name": "🏭 알파 기지",
           "type": "scatter3d",
           "x": [
            50
           ],
           "y": [
            20
           ],
           "z": [
            0
           ]
          },
          {
           "marker": {
            "color": "cyan",
            "size": 15,
            "symbol": "square"
           },
           "mode": "markers",
           "name": "🏭 브라보 기지",
           "type": "scatter3d",
           "x": [
            -40
           ],
           "y": [
            -30
           ],
           "z": [
            0
           ]
          },
          {
           "line": {
            "color": "red",
            "width": 4
           },
           "marker": {
            "color": "red",
            "size": 3
           },
           "mode": "lines+markers",
           "name": "🚀 H1",
           "type": "scatter3d",
           "x": {
            "bdata": "AAAAAABAb0A5Py28/h9uQHJ+Wnj9/2xAq72HNPzfa0Dk/LTw+r9qQA==",
            "dtype": "f8"
           },
           "y": {
            "bdata": "AAAAAADAckCER5w1/wtyQAePOGv+V3FAi9bUoP2jcEAdPOKs+d9vQA==",
            "dtype": "f8"
           },
           "z": {
            "bdata": "AAAAAAAAeUA6HsOaH/B4QOl4DGt+wHhACxDccBxxeECi4zGs+QF4QA==",
            "dtype": "f8"
           }
          },
          {
           "line": {
            "color": "blue",
            "dash": "dash",
            "width": 5
           },
           "marker": {
            "color": "blue",
            "size": 4,
            "symbol": "diamond"
           },
           "mode": "lines+markers",
           "name": "🛡️ 알파→H1",
           "type": "scatter3d",
           "x": {
            "bdata": "AAAAAAAASUDk8KCkIvdRQMnhQUlFbldArtLi7WflXEDJ4UFJRS5hQA==",
            "dtype": "f8"
           },
           "y": {
            "bdata": "AAAAAAAANEDcRnTCYfpJQNxGdMJh+lRATGquo5L3XEDcRnTCYXpiQA==",
            "dtype": "f8"
           },
           "z": {
            "bdata": "AAAAAAAAAAD/cin/eKVLQP9yKf94pVtAQBZfvxq8ZED/cin/eKVrQA==",
            "dtype": "f8"
           }
          },
          {
           "line": {
            "color": "orange",
            "width": 4
           },
           "marker": {
            "color": "orange",
            "size": 3
           },
           "mode": "lines+markers",
           "name": "🚀 H2",
           "type": "scatter3d",
           "x": {
            "bdata": "AAAAAACAccAsSX/nmOFwwFiS/s4xQ3DACbf7bJVJb8BiSfo7xwxuwA==",
            "dtype": "f8"
           },
           "y": {
            "bdata": "AAAAAABAb0A5Py28/h9uQHJ+Wnj9/2xAq72HNPzfa0Dk/LTw+r9qQA==",
            "dtype": "f8"
           },
           "z": {
            "bdata": "AAAAAADAd0A6HsOaH7B3QOl4DGt+gHdACxDccBwxd0Ci4zGs+cF2QA==",
            "dtype": "f8"
           }
          },
          {
           "line": {
            "color": "cyan",
            "dash": "dash",
            "width": 5
           },
           "marker": {
            "color": "cyan",
            "size": 4,
            "symbol": "diamond"
           },
           "mode": "lines+markers",
           "name": "🛡️ 브라보→H2",
           "type": "scatter3d",
           "x": {
            "bdata": "AAAAAAAARMA1bprjTblQwGrcNMebclfAoErPqukrXsBq3DTHm3JiwA==",
            "dtype": "f8"
           },
           "y": {
            "bdata": "AAAAAAAAPsCQmOrcg2wPQBJTnXuQ7UJAT/61XCzyUUASU517kG1aQA==",
            "dtype": "f8"
           },
           "z": {
            "bdata": "AAAAAAAAAADhPW4gyuRJQOE9biDK5FlAaq5SmJdrY0DhPW4gyuRpQA==",
            "dtype": "f8"
           }
          },
          {
           "line": {
            "color": "green",
            "width": 4
           },
           "marker": {
            "color": "green",
            "size": 3
           },
           "mode": "lines+markers",
           "name": "🚀 H3",
           "type": "scatter3d",
           "x": {
            "bdata": "AAAAAAAAJEDI+Wnh9f8eQJHz08Lr/xVAsNp7SMP/CUAQOT8tvP7vPw==",
            "dtype": "f8"
           },
           "y": {
            "bdata": "AAAAAADgdcBr7yEN/wd1wNbeQxr+L3TAQM5lJ/1Xc8CrvYc0/H9ywA==",
            "dtype": "f8"
           },
           "z": {
            "bdata": "AAAAAABAekA6HsOaHzB6QOl4DGt+AHpACxDccByxeUCi4zGs+UF5QA==",
            "dtype": "f8"
           }
          },
          {
           "line": {
            "color": "cyan",
            "dash": "dash",
            "width": 5
           },
           "marker": {
            "color": "cyan",
            "size": 4,
            "symbol": "diamond"
           },
           "mode": "lines+markers",
           "name": "🛡️ 브라보→H3",
           "type": "scatter3d",
           "x": {
            "bdata": "AAAAAAAARMBy4QAHgVJBwMmFAxwESj3ArUgFKgbvN8CSCwc4CJQywA==",
            "dtype": "f8"
           },
           "y": {
            "bdata": "AAAAAAAAPsBSi1oqMEtQwKQWtVRgFlnA/NCHP8jwYMCkFrVUYFZlwA==",
            "dtype": "f8"
           },
           "z": {
            "bdata": "AAAAAAAAAACLmK3dZq5MQIuYrd1mrlxAaTJCJs2CZUCLmK3dZq5sQA==",
            "dtype": "f8"
           }
          },
          {
           "line": {
            "color": "purple",
            "width": 4
           },
           "marker": {
            "color": "purple",
            "size": 3
           },
           "mode": "lines+markers",
           "name": "🚀 H4",
           "type": "scatter3d",
           "x": {
            "bdata": "AAAAAADAckCER5w1/wtyQAePOGv+V3FAi9bUoP2jcEAdPOKs+d9vQA==",
            "dtype": "f8"
           },
           "y": {
            "bdata": "AAAAAAAAJMALzurSzswlwBac1aWdmSfAImrAeGxmKcAsOKtLOzMrwA==",
            "dtype": "f8"
           },
           "z": {
            "bdata": "AAAAAADgdUA6HsOaH9B1QOl4DGt+oHVACxDccBxRdUCi4zGs+eF0QA==",
            "dtype": "f8"
           }
          },
          {
           "line": {
            "color": "blue",
            "dash": "dash",
            "width": 5
           },
           "marker": {
            "color": "blue",
            "size": 4,
            "symbol": "diamond"
           },
           "mode": "lines+markers",
           "name": "🛡️ 알파→H4",
           "type": "scatter3d",
           "x": {
            "bdata": "AAAAAAAASUBizjIbBwNVQMWcZTYOhl1AlDXMqIoEY0DFnGU2DkZnQA==",
            "dtype": "f8"
           },
           "y": {
            "bdata": "AAAAAAAANEDBXQkUHVQrQAR3JVB0UB1AAJTBwXPF7z/4EbVfF18VwA==",
            "dtype": "f8"
           },
           "z": {
            "bdata": "AAAAAAAAAACo3hGMUvhMQKjeEYxS+FxA/2YN6T26ZUCo3hGMUvhsQA==",
            "dtype": "f8"
           }
          },
          {
           "line": {
            "color": "brown",
            "width": 4
           },
           "marker": {
            "color": "brown",
            "size": 3
           },
           "mode": "lines+markers",
           "name": "🚀 H5",
           "type": "scatter3d",
           "x": {
            "bdata": "AAAAAAAAacBr7yEN/ydowNbeQxr+T2fAQM5lJ/13ZsCrvYc0/J9lwA==",
            "dtype": "f8"
           },
           "y": {
            "bdata": "AAAAAABAb8A5Py28/h9uwHJ+Wnj9/2zAq72HNPzfa8Dk/LTw+r9qwA==",
            "dtype": "f8"
           },
           "z": {
            "bdata": "AAAAAAAgfEA6HsOaHxB8QOl4DGt+4HtACxDccByRe0Ci4zGs+SF7QA==",
            "dtype": "f8"
           }
          },
          {
           "line": {
            "color": "cyan",
            "dash": "dash",
            "width": 5
           },
           "marker": {
            "color": "cyan",
            "size": 4,
            "symbol": "diamond"
           },
           "mode": "lines+markers",
           "name": "🛡️ 브라보→H5",
           "type": "scatter3d",
           "x": {
            "bdata": "AAAAAAAARMAs0uIQgZlMwCzS4hCBmVLAQjtUmUHmVsBXpMUhAjNbwA==",
            "dtype": "f8"
           },
           "y": {
            "bdata": "AAAAAAAAPsCIOrKfEfdKwIg6sp8Rd1PAzVeLb5pyWcAQdWQ/I25fwA==",
            "dtype": "f8"
           },
           "z": {
            "bdata": "AAAAAAAAAABWXVehO11OQFZdV6E7XV5AAYYBuezFZkBWXVehO11uQA==",
            "dtype": "f8"
           }
          }
         ],
         "layout": {
          "title": {
           "text": "🚀 다중 위협 분산 대응 시스템 - 시간: 1.80초"
          }
         },
         "name": "43"
        },
        {
         "data": [
          {
           "marker": {
            "color": "red",
            "size": 20,
            "symbol": "diamond"
           },
           "mode": "markers",
           "name": "🏙️ 도시",
           "type": "scatter3d",
           "x": [
            0
           ],
           "y": [
            0
           ],
           "z": [
            0
           ]
          },
          {
           "marker": {
            "color": "blue",
            "size": 15,
            "symbol": "square"
           },
           "mode": "markers",
           "name": "🏭 알파 기지",
           "type": "scatter3d",
           "x": [
            50
           ],
           "y": [
            20
           ],
           "z": [
            0
           ]
          },
          {
           "marker": {
            "color": "cyan",
            "size": 15,
            "symbol": "square"
           },
           "mode": "markers",
           "name": "🏭 브라보 기지",
           "type": "scatter3d",
           "x": [
            -40
           ],
           "y": [
            -30
           ],
           "z": [
            0
           ]
          },
          {
           "line": {
            "color": "red",
            "width": 4
           },
           "marker": {
            "color": "red",
            "size": 3
           },
           "mode": "lines+markers",
           "name": "🚀 H1",
           "type": "scatter3d",
           "x": {
            "bdata": "AAAAAABAb0BM89oZTBluQJjmtTOY8mxA5dmQTeTLa0AxzWtnMKVqQA==",
            "dtype": "f8"
           },
           "y": {
            "bdata": "AAAAAADAckAQ2CiQzwdyQB+wUSCfT3FAL4h6sG6XcEB9wEaBfL5vQA==",
            "dtype": "f8"
           },
           "z": {
            "bdata": "AAAAAAAAeUAsD19dYO94QLI8fHWBvXhAkIhXSGNqeEDH8vDVBfZ3QA==",
            "dtype": "f8"
           }
          },
          {
           "line": {
            "color": "blue",
            "dash": "dash",
            "width": 5
           },
           "marker": {
            "color": "blue",
            "size": 4,
            "symbol": "diamond"
           },
           "mode": "lines+markers",
           "name": "🛡️ 알파→H1",
           "type": "scatter3d",
           "x": {
            "bdata": "AAAAAAAASUCL8ANhrBdSQBbhB8JYr1dAoNELIwVHXUAW4QfCWG9hQA==",
            "dtype": "f8"
           },
           "y": {
            "bdata": "AAAAAAAANED6DO7MgVlKQPoM7syBWVVAdxNls0KGXUD6DO7MgdliQA==",
            "dtype": "f8"
           },
           "z": {
            "bdata": "AAAAAAAAAAB4ENelEEpMQHgQ16UQSlxAWUxhfIw3ZUB4ENelEEpsQA==",
            "dtype": "f8"
           }
          },
          {
           "line": {
            "color": "orange",
            "width": 4
           },
           "marker": {
            "color": "orange",
            "size": 3
           },
           "mode": "lines+markers",
           "name": "🚀 H2",
           "type": "scatter3d",
           "x": {
            "bdata": "AAAAAACAccAEOQXb6d1wwAdyCrbTO3DAFVYfInszb8AcyCnYTu9twA==",
            "dtype": "f8"
           },
           "y": {
            "bdata": "AAAAAABAb0BM89oZTBluQJjmtTOY8mxA5dmQTeTLa0AxzWtnMKVqQA==",
            "dtype": "f8"
           },
           "z": {
            "bdata": "AAAAAADAd0AsD19dYK93QLI8fHWBfXdAkIhXSGMqd0DH8vDVBbZ2QA==",
            "dtype": "f8"
           }
          },
          {
           "line": {
            "color": "cyan",
            "dash": "dash",
            "width": 5
           },
           "marker": {
            "color": "cyan",
            "size": 4,
            "symbol": "diamond"
           },
           "mode": "lines+markers",
           "name": "🛡️ 브라보→H2",
           "type": "scatter3d",
           "x": {
            "bdata": "AAAAAAAARMDFcGinVeFQwIrh0E6rwlfAUFI59gCkXsCK4dBOq8JiwA==",
            "dtype": "f8"
           },
           "y": {
            "bdata": "AAAAAAAAPsDwX8uON94SQPzXsuONt0NA/SHGaqqJUkD817LjjTdbQA==",
            "dtype": "f8"
           },
           "z": {
            "bdata": "AAAAAAAAAADW/ViM8n5KQNb9WIzyflpAYL5C6TXfY0DW/ViM8n5qQA==",
            "dtype": "f8"
           }
          },
          {
           "line": {
            "color": "green",
            "width": 4
           },
           "marker": {
            "color": "green",
            "size": 3
           },
           "mode": "lines+markers",
           "name": "🚀 H3",
           "type": "scatter3d",
           "x": {
            "bdata": "AAAAAAAAJEBimtfOYMoeQMM0r53BlBVATJ4N2US+CEAwTPPaGUzpPw==",
            "dtype": "f8"
           },
           "y": {
            "bdata": "AAAAAADgdcB5NmQT+QJ1wPJsyCbyJXTAbKMsOutIc8Dl2ZBN5GtywA==",
            "dtype": "f8"
           },
           "z": {
            "bdata": "AAAAAABAekAsD19dYC96QLI8fHWB/XlAkIhXSGOqeUDH8vDVBTZ5QA==",
            "dtype": "f8"
           }
          },
          {
           "line": {
            "color": "cyan",
            "dash": "dash",
            "width": 5
           },
           "marker": {
            "color": "cyan",
            "size": 4,
            "symbol": "diamond"
           },
           "mode": "lines+markers",
           "name": "🛡️ 브라보→H3",
           "type": "scatter3d",
           "x": {
            "bdata": "AAAAAAAARMAWNFrvj0JBwFbQaL0/Cj3AgTgdnF+PN8CsoNF6fxQywA==",
            "dtype": "f8"
           },
           "y": {
            "bdata": "AAAAAAAAPsDvXoCWin9QwN69AC0Vf1nAZo7A4U8/YcDevQAtFb9lwA==",
            "dtype": "f8"
           },
           "z": {
            "bdata": "AAAAAAAAAACK4xDFJ1lNQIrjEMUnWV1Ap6rM090CZkCK4xDFJ1ltQA==",
            "dtype": "f8"
           }
          },
          {
           "line": {
            "color": "purple",
            "width": 4
           },
           "marker": {
            "color": "purple",
            "size": 3
           },
           "mode": "lines+markers",
           "name": "🚀 H4",
           "type": "scatter3d",
           "x": {
            "bdata": "AAAAAADAckAQ2CiQzwdyQB+wUSCfT3FAL4h6sG6XcEB9wEaBfL5vQA==",
            "dtype": "f8"
           },
           "y": {
            "bdata": "AAAAAAAAJMBTFAg9htclwKYoEHoMryfA+DwYt5KGKcBMUSD0GF4rwA==",
            "dtype": "f8"
           },
           "z": {
            "bdata": "AAAAAADgdUAsD19dYM91QLI8fHWBnXVAkIhXSGNKdUDH8vDVBdZ0QA==",
            "dtype": "f8"
           }
          },
          {
           "line": {
            "color": "blue",
            "dash": "dash",
            "width": 5
           },
           "marker": {
            "color": "blue",
            "size": 4,
            "symbol": "diamond"
           },
           "mode": "lines+markers",
           "name": "🛡️ 알파→H4",
           "type": "scatter3d",
           "x": {
            "bdata": "AAAAAAAASUDc/DPsszVVQLn5Z9hn611ASvtN4o1QY0C5+WfYZ6tnQA==",
            "dtype": "f8"
           },
           "y": {
            "bdata": "AAAAAAAANEDo4mKjrAgrQKKLi42yIhxAoIuKol6g4T+86OjkmroXwA==",
            "dtype": "f8"
           },
           "z": {
            "bdata": "AAAAAAAAAABCrl+Jy6RNQEKuX4nLpF1AscIHp5g7ZkBCrl+Jy6RtQA==",
            "dtype": "f8"
           }
          },
          {
           "line": {
            "color": "brown",
            "width": 4
           },
           "marker": {
            "color": "brown",
            "size": 3
           },
           "mode": "lines+markers",
           "name": "🚀 H5",
           "type": "scatter3d",
           "x": {
            "bdata": "AAAAAAAAacB5NmQT+SJowPJsyCbyRWfAbKMsOutoZsDl2ZBN5ItlwA==",
            "dtype": "f8"
           },
           "y": {
            "bdata": "AAAAAABAb8BM89oZTBluwJjmtTOY8mzA5dmQTeTLa8AxzWtnMKVqwA==",
            "dtype": "f8"
           },
           "z": {
            "bdata": "AAAAAAAgfEAsD19dYA98QLI8fHWB3XtAkIhXSGOKe0DH8vDVBRZ7QA==",
            "dtype": "f8"
           }
          },
          {
           "line": {
            "color": "cyan",
            "dash": "dash",
            "width": 5
           },
           "marker": {
            "color": "cyan",
            "size": 4,
            "symbol": "diamond"
           },
           "mode": "lines+markers",
           "name": "🛡️ 브라보→H5",
           "type": "scatter3d",
           "x": {
            "bdata": "AAAAAAAARMAE3QWys8xMwATdBbKzzFLAhcsIiw0zV8AHugtkZ5lbwA==",
            "dtype": "f8"
           },
           "y": {
            "bdata": "AAAAAAAAPsD3soyRTT5LwPeyjJFNvlPAcgxTWnTdWcDuZRkjm/xfwA==",
            "dtype": "f8"
           },
           "z": {
            "bdata": "AAAAAAAAAAC+QWt7ARJPQL5Ba3sBEl9ATnGQHIFNZ0C+QWt7ARJvQA==",
            "dtype": "f8"
           }
          }
         ],
         "layout": {
          "title": {
           "text": "🚀 다중 위협 분산 대응 시스템 - 시간: 1.84초"
          }
         },
         "name": "44"
        },
        {
         "data": [
          {
           "marker": {
            "color": "red",
            "size": 20,
            "symbol": "diamond"
           },
           "mode": "markers",
           "name": "🏙️ 도시",
           "type": "scatter3d",
           "x": [
            0
           ],
           "y": [
            0
           ],
           "z": [
            0
           ]
          },
          {
           "marker": {
            "color": "blue",
            "size": 15,
            "symbol": "square"
           },
           "mode": "markers",
           "name": "🏭 알파 기지",
           "type": "scatter3d",
           "x": [
            50
           ],
           "y": [
            20
           ],
           "z": [
            0
           ]
          },
          {
           "marker": {
            "color": "cyan",
            "size": 15,
            "symbol": "square"
           },
           "mode": "markers",
           "name": "🏭 브라보 기지",
           "type": "scatter3d",
           "x": [
            -40
           ],
           "y": [
            -30
           ],
           "z": [
            0
           ]
          },
          {
           "line": {
            "color": "red",
            "width": 4
           },
           "marker": {
            "color": "red",
            "size": 3
           },
           "mode": "lines+markers",
           "name": "🚀 H1",
           "type": "scatter3d",
           "x": {
            "bdata": "AAAAAABAb0Bfp4h3mRJuQL9OEe8y5WxAHvaZZsy3a0B+nSLeZYpqQA==",
            "dtype": "f8"
           },
           "y": {
            "bdata": "AAAAAADAckCcaLXqnwNyQDfRatU/R3FA0zkgwN+KcEDdRKtV/5xvQA==",
            "dtype": "f8"
           },
           "z": {
            "bdata": "AAAAAAAAeUAQ8YW6nO54QD/EF+pyunhAjXm1joJjeED6EF+oy+l3QA==",
            "dtype": "f8"
           }
          },
          {
           "line": {
            "color": "blue",
            "dash": "dash",
            "width": 5
           },
           "marker": {
            "color": "blue",
            "size": 4,
            "symbol": "diamond"
           },
           "mode": "lines+markers",
           "name": "🛡️ 알파→H1",
           "type": "scatter3d",
           "x": {
            "bdata": "AAAAAAAASUAx8GYdNjhSQGLgzTps8FdAk9A0WKKoXUBi4M06bLBhQA==",
            "dtype": "f8"
           },
           "y": {
            "bdata": "AAAAAAAANEAX02fXobhKQBfTZ9ehuFVAo7wbw/IUXkAX02fXoThjQA==",
            "dtype": "f8"
           },
           "z": {
            "bdata": "AAAAAAAAAADvrYRMqO5MQO+thEyo7lxAc4JjOf6yZUDvrYRMqO5sQA==",
            "dtype": "f8"
           }
          },
          {
           "line": {
            "color": "orange",
            "width": 4
           },
           "marker": {
            "color": "orange",
            "size": 3
           },
           "mode": "lines+markers",
           "name": "🚀 H2",
           "type": "scatter3d",
           "x": {
            "bdata": "AAAAAACAccDbKIvOOtpwwLZRFp11NHDAIfVC12Adb8DXRll01tFtwA==",
            "dtype": "f8"
           },
           "y": {
            "bdata": "AAAAAABAb0Bfp4h3mRJuQL9OEe8y5WxAHvaZZsy3a0B+nSLeZYpqQA==",
            "dtype": "f8"
           },
           "z": {
            "bdata": "AAAAAADAd0AQ8YW6nK53QD/EF+pyendAjXm1joIjd0D6EF+oy6l2QA==",
            "dtype": "f8"
           }
          },
          {
           "line": {
            "color": "cyan",
            "dash": "dash",
            "width": 5
           },
           "marker": {
            "color": "cyan",
            "size": 4,
            "symbol": "diamond"
           },
           "mode": "lines+markers",
           "name": "🛡️ 브라보→H2",
           "type": "scatter3d",
           "x": {
            "bdata": "AAAAAAAARMBWczZrXQlRwKvmbNa6EljAAVqjQRgcX8Cr5mzWuhJjwA==",
            "dtype": "f8"
           },
           "y": {
            "bdata": "AAAAAAAAPsCQcyEvLQYWQORcyEuLgURArEXWeCghU0DkXMhLiwFcQA==",
            "dtype": "f8"
           },
           "z": {
            "bdata": "AAAAAAAAAADJvUP4GhlLQMm9Q/gaGVtAV84yOtRSZEDJvUP4GhlrQA==",
            "dtype": "f8"
           }
          },
          {
           "line": {
            "color": "green",
            "width": 4
           },
           "marker": {
            "color": "green",
            "size": 3
           },
           "mode": "lines+markers",
           "name": "🚀 H3",
           "type": "scatter3d",
           "x": {
            "bdata": "AAAAAAAAJED7OkW8y5QeQPZ1iniXKRVA4mGfacZ8B0BgX6eId5niPw==",
            "dtype": "f8"
           },
           "y": {
            "bdata": "AAAAAADgdcCIfaYZ8/10wA/7TDPmG3TAl3jzTNk5c8Ae9plmzFdywA==",
            "dtype": "f8"
           },
           "z": {
            "bdata": "AAAAAABAekAQ8YW6nC56QD/EF+py+nlAjXm1joKjeUD6EF+oyyl5QA==",
            "dtype": "f8"
           }
          },
          {
           "line": {
            "color": "cyan",
            "dash": "dash",
            "width": 5
           },
           "marker": {
            "color": "cyan",
            "size": 4,
            "symbol": "diamond"
           },
           "mode": "lines+markers",
           "name": "🛡️ 브라보→H3",
           "type": "scatter3d",
           "x": {
            "bdata": "AAAAAAAARMC5hrPXnjJBwOQazl57yjzAVSg1DrkvN8DHNZy99pQxwA==",
            "dtype": "f8"
           },
           "y": {
            "bdata": "AAAAAAAAPsCMMqYC5bNQwBdlTAXK51nA0kv5g9eNYcAXZUwFyidmwA==",
            "dtype": "f8"
           },
           "z": {
            "bdata": "AAAAAAAAAACHLnSs6ANOQIcudKzoA15A5iJXge6CZkCHLnSs6ANuQA==",
            "dtype": "f8"
           }
          },
          {
           "line": {
            "color": "purple",
            "width": 4
           },
           "marker": {
            "color": "purple",
            "size": 3
           },
           "mode": "lines+markers",
           "name": "🚀 H4",
           "type": "scatter3d",
           "x": {
            "bdata": "AAAAAADAckCcaLXqnwNyQDfRatU/R3FA0zkgwN+KcEDdRKtV/5xvQA==",
            "dtype": "f8"
           },
           "y": {
            "bdata": "AAAAAAAAJMCbWiWnPeIlwDW1Sk57xCfA0A9w9bimKcBqapWc9ogrwA==",
            "dtype": "f8"
           },
           "z": {
            "bdata": "AAAAAADgdUAQ8YW6nM51QD/EF+pymnVAjXm1joJDdUD6EF+oy8l0QA==",
            "dtype": "f8"
           }
          },
          {
           "line": {
            "color": "blue",
            "dash": "dash",
            "width": 5
           },
           "marker": {
            "color": "blue",
            "size": 4,
            "symbol": "diamond"
           },
           "mode": "lines+markers",
           "name": "🛡️ 알파→H4",
           "type": "scatter3d",
           "x": {
            "bdata": "AAAAAAAASUBWKzW9YGhVQKtWanrBUF5AAMHPG5GcY0CrVmp6wRBoQA==",
            "dtype": "f8"
           },
           "y": {
            "bdata": "AAAAAAAANEAQaLwyPL0qQEKg8crw9BpAABmcGkzauz98vxxqHhYawA==",
            "dtype": "f8"
           },
           "z": {
            "bdata": "AAAAAAAAAADafa2GRFFOQNp9rYZEUV5AZB4CZfO8ZkDafa2GRFFuQA==",
            "dtype": "f8"
           }
          },
          {
           "line": {
            "color": "brown",
            "width": 4
           },
           "marker": {
            "color": "brown",
            "size": 3
           },
           "mode": "lines+markers",
           "name": "🚀 H5",
           "type": "scatter3d",
           "x": {
            "bdata": "AAAAAAAAacCIfaYZ8x1owA/7TDPmO2fAl3jzTNlZZsAe9plmzHdlwA==",
            "dtype": "f8"
           },
           "y": {
            "bdata": "AAAAAABAb8Bfp4h3mRJuwL9OEe8y5WzAHvaZZsy3a8B+nSLeZYpqwA==",
            "dtype": "f8"
           },
           "z": {
            "bdata": "AAAAAAAgfEAQ8YW6nA58QD/EF+py2ntAjXm1joKDe0D6EF+oywl7QA==",
            "dtype": "f8"
           }
          },
          {
           "line": {
            "color": "cyan",
            "dash": "dash",
            "width": 5
           },
           "marker": {
            "color": "cyan",
            "size": 4,
            "symbol": "diamond"
           },
           "mode": "lines+markers",
           "name": "🛡️ 브라보→H5",
           "type": "scatter3d",
           "x": {
            "bdata": "AAAAAAAARMDb5yhT5v9MwNvnKFPm/1LAyFu9fNl/V8C2z1GmzP9bwA==",
            "dtype": "f8"
           },
           "y": {
            "bdata": "AAAAAAAAPsBmK2eDiYVLwGYrZ4OJBVTAGMEaRU5IWsBmK2eDiUVgwA==",
            "dtype": "f8"
           },
           "z": {
            "bdata": "AAAAAAAAAAAlJn9Vx8ZPQCUmf1XHxl9AnFwfgBXVZ0AlJn9Vx8ZvQA==",
            "dtype": "f8"
           }
          }
         ],
         "layout": {
          "title": {
           "text": "🚀 다중 위협 분산 대응 시스템 - 시간: 1.88초"
          }
         },
         "name": "45"
        },
        {
         "data": [
          {
           "marker": {
            "color": "red",
            "size": 20,
            "symbol": "diamond"
           },
           "mode": "markers",
           "name": "🏙️ 도시",
           "type": "scatter3d",
           "x": [
            0
           ],
           "y": [
            0
           ],
           "z": [
            0
           ]
          },
          {
           "marker": {
            "color": "blue",
            "size": 15,
            "symbol": "square"
           },
           "mode": "markers",
           "name": "🏭 알파 기지",
           "type": "scatter3d",
           "x": [
            50
           ],
           "y": [
            20
           ],
           "z": [
            0
           ]
          },
          {
           "marker": {
            "color": "cyan",
            "size": 15,
            "symbol": "square"
           },
           "mode": "markers",
           "name": "🏭 브라보 기지",
           "type": "scatter3d",
           "x": [
            -40
           ],
           "y": [
            -30
           ],
           "z": [
            0
           ]
          },
          {
           "line": {
            "color": "red",
            "width": 4
           },
           "marker": {
            "color": "red",
            "size": 3
           },
           "mode": "lines+markers",
           "name": "🚀 H1",
           "type": "scatter3d",
           "x": {
            "bdata": "AAAAAABAb0BzWzbV5gtuQOW2bKrN12xAWBKjf7Sja0DKbdlUm29qQA==",
            "dtype": "f8"
           },
           "y": {
            "bdata": "AAAAAADAckAo+UFFcP9xQE/yg4rgPnFAd+vFz1B+cEA9yQ8qgntvQA==",
            "dtype": "f8"
           },
           "z": {
            "bdata": "AAAAAAAAeUDkwzey1O14QI8P38hSt3hAA+P1Q3pceEA+PnwjS913QA==",
            "dtype": "f8"
           }
          },
          {
           "line": {
            "color": "blue",
            "dash": "dash",
            "width": 5
           },
           "marker": {
            "color": "blue",
            "size": 4,
            "symbol": "diamond"
           },
           "mode": "lines+markers",
           "name": "🛡️ 알파→H1",
           "type": "scatter3d",
           "x": {
            "bdata": "AAAAAAAASUDX78nZv1hSQK7fk7N/MVhAhM9djT8KXkCu35Ozf/FhQA==",
            "dtype": "f8"
           },
           "y": {
            "bdata": "AAAAAAAANEA0meHhwRdLQDSZ4eHBF1ZAzmXS0qKjXkA0meHhwZdjQA==",
            "dtype": "f8"
           },
           "z": {
            "bdata": "AAAAAAAAAABlSzLzP5NNQGVLMvM/k11AjLhl9m8uZkBlSzLzP5NtQA==",
            "dtype": "f8"
           }
          },
          {
           "line": {
            "color": "orange",
            "width": 4
           },
           "marker": {
            "color": "orange",
            "size": 3
           },
           "mode": "lines+markers",
           "name": "🚀 H2",
           "type": "scatter3d",
           "x": {
            "bdata": "AAAAAACAccCyGBHCi9ZwwGQxIoQXLXDALZRmjEYHb8CSxYgQXrRtwA==",
            "dtype": "f8"
           },
           "y": {
            "bdata": "AAAAAABAb0BzWzbV5gtuQOW2bKrN12xAWBKjf7Sja0DKbdlUm29qQA==",
            "dtype": "f8"
           },
           "z": {
            "bdata": "AAAAAADAd0Dkwzey1K13QI8P38hSd3dAA+P1Q3ocd0A+PnwjS512QA==",
            "dtype": "f8"
           }
          },
          {
           "line": {
            "color": "cyan",
            "dash": "dash",
            "width": 5
           },
           "marker": {
            "color": "cyan",
            "size": 4,
            "symbol": "diamond"
           },
           "mode": "lines+markers",
           "name": "🛡️ 브라보→H2",
           "type": "scatter3d",
           "x": {
            "bdata": "AAAAAAAARMDmdQQvZTFRwMvrCF7KYljAsWENjS+UX8DL6wheymJjwA==",
            "dtype": "f8"
           },
           "y": {
            "bdata": "AAAAAAAAPsA4h3fPIi4ZQM7h3bOIS0VAWmnmhqa4U0DO4d2ziMtcQA==",
            "dtype": "f8"
           },
           "z": {
            "bdata": "AAAAAAAAAAC8fS5kQ7NLQLx9LmRDs1tATd4ii3LGZEC8fS5kQ7NrQA==",
            "dtype": "f8"
           }
          },
          {
           "line": {
            "color": "green",
            "width": 4
           },
           "marker": {
            "color": "green",
            "size": 3
           },
           "mode": "lines+markers",
           "name": "🚀 H3",
           "type": "scatter3d",
           "x": {
            "bdata": "AAAAAAAAJECV27KpNl8eQCq3ZVNtvhRAfCUx+kc7BkBA5bZsqs3XPw==",
            "dtype": "f8"
           },
           "y": {
            "bdata": "AAAAAADgdcCWxOgf7fh0wCyJ0T/aEXTAwk26X8cqc8BYEqN/tENywA==",
            "dtype": "f8"
           },
           "z": {
            "bdata": "AAAAAABAekDkwzey1C16QI8P38hS93lAA+P1Q3qceUA+PnwjSx15QA==",
            "dtype": "f8"
           }
          },
          {
           "line": {
            "color": "cyan",
            "dash": "dash",
            "width": 5
           },
           "marker": {
            "color": "cyan",
            "size": 4,
            "symbol": "diamond"
           },
           "mode": "lines+markers",
           "name": "🛡️ 브라보→H3",
           "type": "scatter3d",
           "x": {
            "bdata": "AAAAAAAARMBc2QzArSJBwHJlMwC3ijzAKhhNgBLQNsDjymYAbhUxwA==",
            "dtype": "f8"
           },
           "y": {
            "bdata": "AAAAAAAAPsAoBsxuP+hQwFAMmN1+UFrAPAkyJl/cYcBQDJjdfpBmwA==",
            "dtype": "f8"
           },
           "z": {
            "bdata": "AAAAAAAAAACEedeTqa5OQIR515Oprl5AI5vhLv8CZ0CEedeTqa5uQA==",
            "dtype": "f8"
           }
          },
          {
           "line": {
            "color": "purple",
            "width": 4
           },
           "marker": {
            "color": "purple",
            "size": 3
           },
           "mode": "lines+markers",
           "name": "🚀 H4",
           "type": "scatter3d",
           "x": {
            "bdata": "AAAAAADAckAo+UFFcP9xQE/yg4rgPnFAd+vFz1B+cEA9yQ8qgntvQA==",
            "dtype": "f8"
           },
           "y": {
            "bdata": "AAAAAAAAJMDioEIR9ewlwMRBhSLq2SfAp+LHM9/GKcCJgwpF1LMrwA==",
            "dtype": "f8"
           },
           "z": {
            "bdata": "AAAAAADgdUDkwzey1M11QI8P38hSl3VAA+P1Q3o8dUA+PnwjS710QA==",
            "dtype": "f8"
           }
          },
          {
           "line": {
            "color": "blue",
            "dash": "dash",
            "width": 5
           },
           "marker": {
            "color": "blue",
            "size": 4,
            "symbol": "diamond"
           },
           "mode": "lines+markers",
           "name": "🛡️ 알파→H4",
           "type": "scatter3d",
           "x": {
            "bdata": "AAAAAAAASUDPWTaODZtVQJ6zbBwbtl5AtoZRVZToY0Ces2wcG3ZoQA==",
            "dtype": "f8"
           },
           "y": {
            "bdata": "AAAAAAAANEA57RXCy3EqQOS0VwgvxxlAwArHN5dT1b84llDvoXEcwA==",
            "dtype": "f8"
           },
           "z": {
            "bdata": "AAAAAAAAAABzTfuDvf1OQHNN+4O9/V5AFnr8Ik4+Z0BzTfuDvf1uQA==",
            "dtype": "f8"
           }
          },
          {
           "line": {
            "color": "brown",
            "width": 4
           },
           "marker": {
            "color": "brown",
            "size": 3
           },
           "mode": "lines+markers",
           "name": "🚀 H5",
           "type": "scatter3d",
           "x": {
            "bdata": "AAAAAAAAacCWxOgf7RhowCyJ0T/aMWfAwk26X8dKZsBYEqN/tGNlwA==",
            "dtype": "f8"
           },
           "y": {
            "bdata": "AAAAAABAb8BzWzbV5gtuwOW2bKrN12zAWBKjf7Sja8DKbdlUm29qwA==",
            "dtype": "f8"
           },
           "z": {
            "bdata": "AAAAAAAgfEDkwzey1A18QI8P38hS13tAA+P1Q3p8e0A+PnwjS/16QA==",
            "dtype": "f8"
           }
          },
          {
           "line": {
            "color": "cyan",
            "dash": "dash",
            "width": 5
           },
           "marker": {
            "color": "cyan",
            "size": 4,
            "symbol": "diamond"
           },
           "mode": "lines+markers",
           "name": "🛡️ 브라보→H5",
           "type": "scatter3d",
           "x": {
            "bdata": "AAAAAAAARMCy8kv0GDNNwLLyS/QYM1PADOxxbqXMV8Bk5ZfoMWZcwA==",
            "dtype": "f8"
           },
           "y": {
            "bdata": "AAAAAAAAPsDUo0F1xcxLwNSjQXXFTFTAvnXiLyizWsDUo0F1xYxgwA==",
            "dtype": "f8"
           },
           "z": {
            "bdata": "AAAAAAAAAABGhcmXxj1QQEaFyZfGPWBA6keu46lcaEBGhcmXxj1wQA==",
            "dtype": "f8"
           }
          }
         ],
         "layout": {
          "title": {
           "text": "🚀 다중 위협 분산 대응 시스템 - 시간: 1.93초"
          }
         },
         "name": "46"
        },
        {
         "data": [
          {
           "marker": {
            "color": "red",
            "size": 20,
            "symbol": "diamond"
           },
           "mode": "markers",
           "name": "🏙️ 도시",
           "type": "scatter3d",
           "x": [
            0
           ],
           "y": [
            0
           ],
           "z": [
            0
           ]
          },
          {
           "marker": {
            "color": "blue",
            "size": 15,
            "symbol": "square"
           },
           "mode": "markers",
           "name": "🏭 알파 기지",
           "type": "scatter3d",
           "x": [
            50
           ],
           "y": [
            20
           ],
           "z": [
            0
           ]
          },
          {
           "marker": {
            "color": "cyan",
            "size": 15,
            "symbol": "square"
           },
           "mode": "markers",
           "name": "🏭 브라보 기지",
           "type": "scatter3d",
           "x": [
            -40
           ],
           "y": [
            -30
           ],
           "z": [
            0
           ]
          },
          {
           "line": {
            "color": "red",
            "width": 4
           },
           "marker": {
            "color": "red",
            "size": 3
           },
           "mode": "lines+markers",
           "name": "🚀 H1",
           "type": "scatter3d",
           "x": {
            "bdata": "AAAAAABAb0CGD+QyNAVuQAwfyGVoymxAkS6smJyPa0AXPpDL0FRqQA==",
            "dtype": "f8"
           },
           "y": {
            "bdata": "AAAAAADAckC0ic6fQPtxQGcTnT+BNnFAG51r38FxcECdTXT+BFpvQA==",
            "dtype": "f8"
           },
           "z": {
            "bdata": "AAAAAAAAeUCph3RECO14QKQe0hEhtHhA8cQYaEpVeECQekhHhNB3QA==",
            "dtype": "f8"
           }
          },
          {
           "line": {
            "color": "blue",
            "dash": "dash",
            "width": 5
           },
           "marker": {
            "color": "blue",
            "size": 4,
            "symbol": "diamond"
           },
           "mode": "lines+markers",
           "name": "🛡️ 알파→H1",
           "type": "scatter3d",
           "x": {
            "bdata": "AAAAAAAASUB97yyWSXlSQPreWSyTclhAds6GwtxrXkD63lkskzJiQA==",
            "dtype": "f8"
           },
           "y": {
            "bdata": "AAAAAAAANEBRX1vs4XZLQFFfW+zhdlZA+A6J4lIyX0BRX1vs4fZjQA==",
            "dtype": "f8"
           },
           "z": {
            "bdata": "AAAAAAAAAADc6N+Z1zdOQNzo35nXN15Ape5ns+GpZkDc6N+Z1zduQA==",
            "dtype": "f8"
           }
          },
          {
           "line": {
            "color": "orange",
            "width": 4
           },
           "marker": {
            "color": "orange",
            "size": 3
           },
           "mode": "lines+markers",
           "name": "🚀 H2",
           "type": "scatter3d",
           "x": {
            "bdata": "AAAAAACAccCKCJe13NJwwBMRLmu5JXDAOjOKQSzxbsBNRLis5ZZtwA==",
            "dtype": "f8"
           },
           "y": {
            "bdata": "AAAAAABAb0CGD+QyNAVuQAwfyGVoymxAkS6smJyPa0AXPpDL0FRqQA==",
            "dtype": "f8"
           },
           "z": {
            "bdata": "AAAAAADAd0Cph3RECK13QKQe0hEhdHdA8cQYaEoVd0CQekhHhJB2QA==",
            "dtype": "f8"
           }
          },
          {
           "line": {
            "color": "cyan",
            "dash": "dash",
            "width": 5
           },
           "marker": {
            "color": "cyan",
            "size": 4,
            "symbol": "diamond"
           },
           "mode": "lines+markers",
           "name": "🛡️ 브라보→H2",
           "type": "scatter3d",
           "x": {
            "bdata": "AAAAAAAARMB2eNLybFlRwOvwpOXZsljAsLQ7bCMGYMDr8KTl2bJjwA==",
            "dtype": "f8"
           },
           "y": {
            "bdata": "AAAAAAAAPsDYms1vGFYcQLZm8xuGFUZAB432lCRQVEC2ZvMbhpVdQA==",
            "dtype": "f8"
           },
           "z": {
            "bdata": "AAAAAAAAAACvPRnQa01MQK89GdBrTVxAQ+4S3BA6ZUCvPRnQa01sQA==",
            "dtype": "f8"
           }
          },
          {
           "line": {
            "color": "green",
            "width": 4
           },
           "marker": {
            "color": "green",
            "size": 3
           },
           "mode": "lines+markers",
           "name": "🚀 H3",
           "type": "scatter3d",
           "x": {
            "bdata": "AAAAAAAAJEAufCCXoSkeQF34QC5DUxRAFunCisn5BEBAFz6Qy9DEPw==",
            "dtype": "f8"
           },
           "y": {
            "bdata": "AAAAAADgdcCkCysm5/N0wEkXVkzOB3TA7SKBcrUbc8CRLqyYnC9ywA==",
            "dtype": "f8"
           },
           "z": {
            "bdata": "AAAAAABAekCph3RECC16QKQe0hEh9HlA8cQYaEqVeUCQekhHhBB5QA==",
            "dtype": "f8"
           }
          },
          {
           "line": {
            "color": "cyan",
            "dash": "dash",
            "width": 5
           },
           "marker": {
            "color": "cyan",
            "size": 4,
            "symbol": "diamond"
           },
           "mode": "lines+markers",
           "name": "🛡️ 브라보→H3",
           "type": "scatter3d",
           "x": {
            "bdata": "AAAAAAAARMAALGaovBJBwP+vmKHySjzA/wdl8mtwNsD+XzFD5ZUwwA==",
            "dtype": "f8"
           },
           "y": {
            "bdata": "AAAAAAAAPsDF2fHamRxRwIqz47UzuVrAp8ZqyOYqYsCKs+O1M/lmwA==",
            "dtype": "f8"
           },
           "z": {
            "bdata": "AAAAAAAAAACBxDp7allPQIHEOntqWV9AYBNs3A+DZ0CBxDp7allvQA==",
            "dtype": "f8"
           }
          },
          {
           "line": {
            "color": "purple",
            "width": 4
           },
           "marker": {
            "color": "purple",
            "size": 3
           },
           "mode": "lines+markers",
           "name": "🚀 H4",
           "type": "scatter3d",
           "x": {
            "bdata": "AAAAAADAckC0ic6fQPtxQGcTnT+BNnFAG51r38FxcECdTXT+BFpvQA==",
            "dtype": "f8"
           },
           "y": {
            "bdata": "AAAAAAAAJMAq5197rPclwFTOv/ZY7yfAfrUfcgXnKcConH/tsd4rwA==",
            "dtype": "f8"
           },
           "z": {
            "bdata": "AAAAAADgdUCph3RECM11QKQe0hEhlHVA8cQYaEo1dUCQekhHhLB0QA==",
            "dtype": "f8"
           }
          },
          {
           "line": {
            "color": "blue",
            "dash": "dash",
            "width": 5
           },
           "marker": {
            "color": "blue",
            "size": 4,
            "symbol": "diamond"
           },
           "mode": "lines+markers",
           "name": "🛡️ 알파→H4",
           "type": "scatter3d",
           "x": {
            "bdata": "AAAAAAAASUBIiDdfus1VQJAQb750G19AbEzTjpc0ZECQEG++dNtoQA==",
            "dtype": "f8"
           },
           "y": {
            "bdata": "AAAAAAAANEBicm9RWyYqQIbJvUVtmRhAoI0au+DO6L/0bIR0Jc0ewA==",
            "dtype": "f8"
           },
           "z": {
            "bdata": "AAAAAAAAAAALHUmBNqpPQAsdSYE2ql9AyNX24Ki/Z0ALHUmBNqpvQA==",
            "dtype": "f8"
           }
          },
          {
           "line": {
            "color": "brown",
            "width": 4
           },
           "marker": {
            "color": "brown",
            "size": 3
           },
           "mode": "lines+markers",
           "name": "🚀 H5",
           "type": "scatter3d",
           "x": {
            "bdata": "AAAAAAAAacCkCysm5xNowEkXVkzOJ2fA7SKBcrU7ZsCRLqyYnE9lwA==",
            "dtype": "f8"
           },
           "y": {
            "bdata": "AAAAAABAb8CGD+QyNAVuwAwfyGVoymzAkS6smJyPa8AXPpDL0FRqwA==",
            "dtype": "f8"
           },
           "z": {
            "bdata": "AAAAAAAgfECph3RECA18QKQe0hEh1HtA8cQYaEp1e0CQekhHhPB6QA==",
            "dtype": "f8"
           }
          },
          {
           "line": {
            "color": "cyan",
            "dash": "dash",
            "width": 5
           },
           "marker": {
            "color": "cyan",
            "size": 4,
            "symbol": "diamond"
           },
           "mode": "lines+markers",
           "name": "🛡️ 브라보→H5",
           "type": "scatter3d",
           "x": {
            "bdata": "AAAAAAAARMCJ/W6VS2ZNwIn9bpVLZlPATnwmYHEZWMAS+90ql8xcwA==",
            "dtype": "f8"
           },
           "y": {
            "bdata": "AAAAAAAAPsBCHBxnARRMwEIcHGcBlFTAYiqqGgIeW8BCHBxnAdRgwA==",
            "dtype": "f8"
           },
           "z": {
            "bdata": "AAAAAAAAAAB6d9OEKZhQQHp304QpmGBANjM9Rz7kaEB6d9OEKZhwQA==",
            "dtype": "f8"
           }
          }
         ],
         "layout": {
          "title": {
           "text": "🚀 다중 위협 분산 대응 시스템 - 시간: 1.97초"
          }
         },
         "name": "47"
        },
        {
         "data": [
          {
           "marker": {
            "color": "red",
            "size": 20,
            "symbol": "diamond"
           },
           "mode": "markers",
           "name": "🏙️ 도시",
           "type": "scatter3d",
           "x": [
            0
           ],
           "y": [
            0
           ],
           "z": [
            0
           ]
          },
          {
           "marker": {
            "color": "blue",
            "size": 15,
            "symbol": "square"
           },
           "mode": "markers",
           "name": "🏭 알파 기지",
           "type": "scatter3d",
           "x": [
            50
           ],
           "y": [
            20
           ],
           "z": [
            0
           ]
          },
          {
           "marker": {
            "color": "cyan",
            "size": 15,
            "symbol": "square"
           },
           "mode": "markers",
           "name": "🏭 브라보 기지",
           "type": "scatter3d",
           "x": [
            -40
           ],
           "y": [
            -30
           ],
           "z": [
            0
           ]
          },
          {
           "line": {
            "color": "red",
            "width": 4
           },
           "marker": {
            "color": "red",
            "size": 3
           },
           "mode": "lines+markers",
           "name": "🚀 H1",
           "type": "scatter3d",
           "x": {
            "bdata": "AAAAAABAb0BHaUENzj5uQI7SghqcPW1A1jvEJ2o8bEAdpQU1ODtrQGQOR0IGOmpA",
            "dtype": "f8"
           },
           "y": {
            "bdata": "AAAAAADAckDM4UjIQB9yQJnDkZCBfnFAZqXaWMLdcEAyhyMhAz1wQP3R2NKHOG9A",
            "dtype": "f8"
           },
           "z": {
            "bdata": "AAAAAAAAeUD13t6uVvN4QNV7e7tazXhAn9bVJQyOeEBU7+3tajV4QPPFwxN3w3dA",
            "dtype": "f8"
           }
          },
          {
           "line": {
            "color": "blue",
            "dash": "dash",
            "width": 5
           },
           "marker": {
            "color": "blue",
            "size": 4,
            "symbol": "diamond"
           },
           "mode": "lines+markers",
           "name": "🛡️ 알파→H1",
           "type": "scatter3d",
           "x": {
            "bdata": "AAAAAAAASUDoWKbbdWFRQNGxTLfrQlZAugrzkmEkW0DRsUy36wJgQEbeH6Wmc2JA",
            "dtype": "f8"
           },
           "y": {
            "bdata": "AAAAAAAANEC+6hBfzkRIQL7qEF/ORFNAHWCZjjVnWkC+6hBfzsRgQG0l1fYBVmRA",
            "dtype": "f8"
           },
           "z": {
            "bdata": "AAAAAAAAAABCOHEAWbBIQEI4cQBZsFhAMupUwEKEYkBCOHEAWbBoQFOGjUBv3G5A",
            "dtype": "f8"
           }
          },
          {
           "line": {
            "color": "orange",
            "width": 4
           },
           "marker": {
            "color": "orange",
            "size": 3
           },
           "mode": "lines+markers",
           "name": "🚀 H2",
           "type": "scatter3d",
           "x": {
            "bdata": "AAAAAACAccC0xrDtivJwwGiNYdsVZXDAOKgkkkGvb8CgNYZtV5RuwAjD50hteW3A",
            "dtype": "f8"
           },
           "y": {
            "bdata": "AAAAAABAb0BHaUENzj5uQI7SghqcPW1A1jvEJ2o8bEAdpQU1ODtrQGQOR0IGOmpA",
            "dtype": "f8"
           },
           "z": {
            "bdata": "AAAAAADAd0D13t6uVrN3QNV7e7tajXdAn9bVJQxOd0BU7+3tavV2QPPFwxN3g3ZA",
            "dtype": "f8"
           }
          },
          {
           "line": {
            "color": "cyan",
            "dash": "dash",
            "width": 5
           },
           "marker": {
            "color": "cyan",
            "size": 4,
            "symbol": "diamond"
           },
           "mode": "lines+markers",
           "name": "🛡️ 브라보→H2",
           "type": "scatter3d",
           "x": {
            "bdata": "AAAAAAAARMCelbMrKgFQwDwrZ1dUAlbA2sAag34DXMA8K2dXVAJhwAv2QG3pAmTA",
            "dtype": "f8"
           },
           "y": {
            "bdata": "AAAAAAAAPsDAUmKbTRrTP5YS22zSmD5A8E2k0Z1yTkBLiW02acxWQJ7rCISDX15A",
            "dtype": "f8"
           },
           "z": {
            "bdata": "AAAAAAAAAADoypzJqR9HQOjKnMmpH1dALpg1V79XYUDoypzJqR9nQKL9AzyU52xA",
            "dtype": "f8"
           }
          },
          {
           "line": {
            "color": "green",
            "width": 4
           },
           "marker": {
            "color": "green",
            "size": 3
           },
           "mode": "lines+markers",
           "name": "🚀 H3",
           "type": "scatter3d",
           "x": {
            "bdata": "AAAAAAAAJEA6SgtqcPYfQHOUFtTg7BdAWL1DfKLGD0CYo7SgBmf/PwBwxuP25qe/",
            "dtype": "f8"
           },
           "y": {
            "bdata": "AAAAAADgdcD1DvGJGh91wOsd4hM1XnTA4CzTnU+dc8DWO8QnatxywMtKtbGEG3LA",
            "dtype": "f8"
           },
           "z": {
            "bdata": "AAAAAABAekD13t6uVjN6QNV7e7taDXpAn9bVJQzOeUBU7+3tanV5QPPFwxN3A3lA",
            "dtype": "f8"
           }
          },
          {
           "line": {
            "color": "cyan",
            "dash": "dash",
            "width": 5
           },
           "marker": {
            "color": "cyan",
            "size": 4,
            "symbol": "diamond"
           },
           "mode": "lines+markers",
           "name": "🛡️ 브라보→H3",
           "type": "scatter3d",
           "x": {
            "bdata": "AAAAAAAARMDp/mUN1ptBwKT7lzVYbz7AdvljUASnOcBI9y9rsN40wBn1+4VcFjDA",
            "dtype": "f8"
           },
           "y": {
            "bdata": "AAAAAAAAPsBoFVkLurROwGgVWQu6NFfAHaAFERcPX8BoFVkLunRjwMNaL47oYWfA",
            "dtype": "f8"
           },
           "z": {
            "bdata": "AAAAAAAAAABlDBiC75xJQGUMGILvnFlASwmSobM1Y0BlDBiC75xpQL8HT7EVAnBA",
            "dtype": "f8"
           }
          },
          {
           "line": {
            "color": "purple",
            "width": 4
           },
           "marker": {
            "color": "purple",
            "size": 3
           },
           "mode": "lines+markers",
           "name": "🚀 H4",
           "type": "scatter3d",
           "x": {
            "bdata": "AAAAAADAckDM4UjIQB9yQJnDkZCBfnFAZqXaWMLdcEAyhyMhAz1wQP3R2NKHOG9A",
            "dtype": "f8"
           },
           "y": {
            "bdata": "AAAAAAAAJMD0vf0dg5slwOl7+zsGNyfA3jn5WYnSKMDS9/Z3DG4qwMa19JWPCSzA",
            "dtype": "f8"
           },
           "z": {
            "bdata": "AAAAAADgdUD13t6uVtN1QNV7e7tarXVAn9bVJQxudUBU7+3tahV1QPPFwxN3o3RA",
            "dtype": "f8"
           }
          },
          {
           "line": {
            "color": "blue",
            "dash": "dash",
            "width": 5
           },
           "marker": {
            "color": "blue",
            "size": 4,
            "symbol": "diamond"
           },
           "mode": "lines+markers",
           "name": "🛡️ 알파→H4",
           "type": "scatter3d",
           "x": {
            "bdata": "AAAAAAAASUBoxZMm7BlUQM+KJ03Ys1tAHKjdOeKmYUDPiidN2HNlQINtcWDOQGlA",
            "dtype": "f8"
           },
           "y": {
            "bdata": "AAAAAAAANEDUkm1NIq8sQKkl25pEXiFA+OEioZs1CEC40iYp2w0FwNgh3HxUlCDA",
            "dtype": "f8"
           },
           "z": {
            "bdata": "AAAAAAAAAACD8KvL8t5JQIPwq8vy3llAYvTAGDZnY0CD8KvL8t5pQFJ2S79XK3BA",
            "dtype": "f8"
           }
          },
          {
           "line": {
            "color": "brown",
            "width": 4
           },
           "marker": {
            "color": "brown",
            "size": 3
           },
           "mode": "lines+markers",
           "name": "🚀 H5",
           "type": "scatter3d",
           "x": {
            "bdata": "AAAAAAAAacD1DvGJGj9owOsd4hM1fmfA4CzTnU+9ZsDWO8QnavxlwMtKtbGEO2XA",
            "dtype": "f8"
           },
           "y": {
            "bdata": "AAAAAABAb8BHaUENzj5uwI7SghqcPW3A1jvEJ2o8bMAdpQU1ODtrwGQOR0IGOmrA",
            "dtype": "f8"
           },
           "z": {
            "bdata": "AAAAAAAgfED13t6uVhN8QNV7e7ta7XtAn9bVJQyue0BU7+3talV7QPPFwxN343pA",
            "dtype": "f8"
           }
          },
          {
           "line": {
            "color": "cyan",
            "dash": "dash",
            "width": 5
           },
           "marker": {
            "color": "cyan",
            "size": 4,
            "symbol": "diamond"
           },
           "mode": "lines+markers",
           "name": "🛡️ 브라보→H5",
           "type": "scatter3d",
           "x": {
            "bdata": "AAAAAAAARMAabQ6S/q1LwBptDpL+rVHAp6MV2/2EVcA02hwk/VtZwMEQJG38Ml3A",
            "dtype": "f8"
           },
           "y": {
            "bdata": "AAAAAAAAPsAmqitHZK9JwCaqK0dkL1LAOX/BahaHV8BNVFeOyN5cwLCU9lg9G2HA",
            "dtype": "f8"
           },
           "z": {
            "bdata": "AAAAAAAAAABI3PuCrR1LQEjc+4KtHVtANuU8IkJWZEBI3PuCrR1rQK1p3XGM8nBA",
            "dtype": "f8"
           }
          }
         ],
         "layout": {
          "title": {
           "text": "🚀 다중 위협 분산 대응 시스템 - 시간: 2.01초"
          }
         },
         "name": "48"
        },
        {
         "data": [
          {
           "marker": {
            "color": "red",
            "size": 20,
            "symbol": "diamond"
           },
           "mode": "markers",
           "name": "🏙️ 도시",
           "type": "scatter3d",
           "x": [
            0
           ],
           "y": [
            0
           ],
           "z": [
            0
           ]
          },
          {
           "marker": {
            "color": "blue",
            "size": 15,
            "symbol": "square"
           },
           "mode": "markers",
           "name": "🏭 알파 기지",
           "type": "scatter3d",
           "x": [
            50
           ],
           "y": [
            20
           ],
           "z": [
            0
           ]
          },
          {
           "marker": {
            "color": "cyan",
            "size": 15,
            "symbol": "square"
           },
           "mode": "markers",
           "name": "🏭 브라보 기지",
           "type": "scatter3d",
           "x": [
            -40
           ],
           "y": [
            -30
           ],
           "z": [
            0
           ]
          },
          {
           "line": {
            "color": "red",
            "width": 4
           },
           "marker": {
            "color": "red",
            "size": 3
           },
           "mode": "lines+markers",
           "name": "🚀 H1",
           "type": "scatter3d",
           "x": {
            "bdata": "AAAAAABAb0AjxjJYcjluQEeMZbDkMm1AalKYCFcsbECNGMtgySVrQLDe/bg7H2pA",
            "dtype": "f8"
           },
           "y": {
            "bdata": "AAAAAADAckDWux935xtyQKx3P+7Od3FAgjNfZbbTcEBY737cnS9wQF1WPacKF29A",
            "dtype": "f8"
           },
           "z": {
            "bdata": "AAAAAAAAeUB1Xa04zvJ4QNN1teI4y3hAGkkY/j+JeEBL19WK4yx4QGUg7ogjtndA",
            "dtype": "f8"
           }
          },
          {
           "line": {
            "color": "blue",
            "dash": "dash",
            "width": 5
           },
           "marker": {
            "color": "blue",
            "size": 4,
            "symbol": "diamond"
           },
           "mode": "lines+markers",
           "name": "🛡️ 알파→H1",
           "type": "scatter3d",
           "x": {
            "bdata": "AAAAAAAASUBuJY+lfXtRQNxKHkv7dlZASXCt8HhyW0DcSh5L+zZgQJLd5R26tGJA",
            "dtype": "f8"
           },
           "y": {
            "bdata": "AAAAAAAANECi7wsB6JBIQKLvCwHokFNAdOeRAVzZWkCi7wsB6BBhQIvrTgEitWRA",
            "dtype": "f8"
           },
           "z": {
            "bdata": "AAAAAAAAAABw6ciFBTRJQHDpyIUFNFlAFK9WJATnYkBw6ciFBTRpQMsjO+cGgW9A",
            "dtype": "f8"
           }
          },
          {
           "line": {
            "color": "orange",
            "width": 4
           },
           "marker": {
            "color": "orange",
            "size": 3
           },
           "mode": "lines+markers",
           "name": "🚀 H2",
           "type": "scatter3d",
           "x": {
            "bdata": "AAAAAACAccAtIE99mO9wwFpAnvowX3DADsHa75Kdb8BoAXnqw3xuwMJBF+X0W23A",
            "dtype": "f8"
           },
           "y": {
            "bdata": "AAAAAABAb0AjxjJYcjluQEeMZbDkMm1AalKYCFcsbECNGMtgySVrQLDe/bg7H2pA",
            "dtype": "f8"
           },
           "z": {
            "bdata": "AAAAAADAd0B1Xa04zrJ3QNN1teI4i3dAGkkY/j9Jd0BL19WK4+x2QGUg7ogjdnZA",
            "dtype": "f8"
           }
          },
          {
           "line": {
            "color": "cyan",
            "dash": "dash",
            "width": 5
           },
           "marker": {
            "color": "cyan",
            "size": 4,
            "symbol": "diamond"
           },
           "mode": "lines+markers",
           "name": "🛡️ 브라보→H2",
           "type": "scatter3d",
           "x": {
            "bdata": "AAAAAAAARMAS/vFhMCFQwCP848NgQlbANfrVJZFjXMAj/OPDYEJhwCz73PT4UmTA",
            "dtype": "f8"
           },
           "y": {
            "bdata": "AAAAAAAAPsBg2qScF8DtP6ZNynkB3D9APrpXGwFlT0DTJuW8AG5XQIhwHuyAKV9A",
            "dtype": "f8"
           },
           "z": {
            "bdata": "AAAAAAAAAAB5ZCVT/ZpHQHlkJVP9mldAWwtc/j20YUB5ZCVT/ZpnQJe97qe8gW1A",
            "dtype": "f8"
           }
          },
          {
           "line": {
            "color": "green",
            "width": 4
           },
           "marker": {
            "color": "green",
            "size": 3
           },
           "mode": "lines+markers",
           "name": "🚀 H3",
           "type": "scatter3d",
           "x": {
            "bdata": "AAAAAAAAJEAaMZbBkssfQDViLIMllxdAniaFiXDFDkCoEWMZLLn8P8CnEIEjYtC/",
            "dtype": "f8"
           },
           "y": {
            "bdata": "AAAAAADgdcCaFCbCFRt1wDUpTIQrVnTAzz1yRkGRc8BqUpgIV8xywARnvspsB3LA",
            "dtype": "f8"
           },
           "z": {
            "bdata": "AAAAAABAekB1Xa04zjJ6QNN1teI4C3pAGkkY/j/JeUBL19WK42x5QGUg7ogj9nhA",
            "dtype": "f8"
           }
          },
          {
           "line": {
            "color": "cyan",
            "dash": "dash",
            "width": 5
           },
           "marker": {
            "color": "cyan",
            "size": 4,
            "symbol": "diamond"
           },
           "mode": "lines+markers",
           "name": "🛡️ 브라보→H3",
           "type": "scatter3d",
           "x": {
            "bdata": "AAAAAAAARMA4dK0tFY9BwOLQtbZUPD7AUrkQEn9aOcDDoWttqXg0wGgUjZGnLS/A",
            "dtype": "f8"
           },
           "y": {
            "bdata": "AAAAAAAAPsAxm5XrfQhPwDGblet9iFfAymhg4byMX8Axm5XrfchjwP0Be2adymfA",
            "dtype": "f8"
           },
           "z": {
            "bdata": "AAAAAAAAAAD94c3UiSVKQP3hzdSJJVpAfmmaXyecY0D94c3UiSVqQD6tACV2V3BA",
            "dtype": "f8"
           }
          },
          {
           "line": {
            "color": "purple",
            "width": 4
           },
           "marker": {
            "color": "purple",
            "size": 3
           },
           "mode": "lines+markers",
           "name": "🚀 H4",
           "type": "scatter3d",
           "x": {
            "bdata": "AAAAAADAckDWux935xtyQKx3P+7Od3FAgjNfZbbTcEBY737cnS9wQF1WPacKF29A",
            "dtype": "f8"
           },
           "y": {
            "bdata": "AAAAAAAAJMCUXEjZFaQlwCm5kLIrSCfAvRXZi0HsKMBRciFlV5AqwObOaT5tNCzA",
            "dtype": "f8"
           },
           "z": {
            "bdata": "AAAAAADgdUB1Xa04ztJ1QNN1teI4q3VAGkkY/j9pdUBL19WK4wx1QGUg7ogjlnRA",
            "dtype": "f8"
           }
          },
          {
           "line": {
            "color": "blue",
            "dash": "dash",
            "width": 5
           },
           "marker": {
            "color": "blue",
            "size": 4,
            "symbol": "diamond"
           },
           "mode": "lines+markers",
           "name": "🛡️ 알파→H4",
           "type": "scatter3d",
           "x": {
            "bdata": "AAAAAAAASUAwhGFndkJUQF8Iw87sBFxAR0YSm7HjYUBfCMPO7MRlQHbKcwIopmlA",
            "dtype": "f8"
           },
           "y": {
            "bdata": "AAAAAAAANECOMLVZyHIsQBxharOQ5SBAqEZ+NGRhBUAg96xketMIwDoNdj8WwiHA",
            "dtype": "f8"
           },
           "z": {
            "bdata": "AAAAAAAAAAAxMOov7WhKQDEw6i/taFpAJaTv47HOY0AxMOov7WhqQB9e8j2UgXBA",
            "dtype": "f8"
           }
          },
          {
           "line": {
            "color": "brown",
            "width": 4
           },
           "marker": {
            "color": "brown",
            "size": 3
           },
           "mode": "lines+markers",
           "name": "🚀 H5",
           "type": "scatter3d",
           "x": {
            "bdata": "AAAAAAAAacCaFCbCFTtowDUpTIQrdmfAzz1yRkGxZsBqUpgIV+xlwARnvspsJ2XA",
            "dtype": "f8"
           },
           "y": {
            "bdata": "AAAAAABAb8AjxjJYcjluwEeMZbDkMm3AalKYCFcsbMCNGMtgySVrwLDe/bg7H2rA",
            "dtype": "f8"
           },
           "z": {
            "bdata": "AAAAAAAgfEB1Xa04zhJ8QNN1teI463tAGkkY/j+pe0BL19WK40x7QGUg7ogj1npA",
            "dtype": "f8"
           }
          },
          {
           "line": {
            "color": "cyan",
            "dash": "dash",
            "width": 5
           },
           "marker": {
            "color": "cyan",
            "size": 4,
            "symbol": "diamond"
           },
           "mode": "lines+markers",
           "name": "🛡️ 브라보→H5",
           "type": "scatter3d",
           "x": {
            "bdata": "AAAAAAAARMBgD8Tf89ZLwGAPxN/z1lHAEBemz23CVcDAHoi/561ZwHEmaq9hmV3A",
            "dtype": "f8"
           },
           "y": {
            "bdata": "AAAAAAAAPsCyPacIYehJwLI9pwhhaFLAjNz6jJHcV8Ble04RwlBdwB8N0Up5YmHA",
            "dtype": "f8"
           },
           "z": {
            "bdata": "AAAAAAAAAAA1xgvLS65LQDXGC8tLrltAqNRI2LjCZEA1xgvLS65rQOFb517vTHFA",
            "dtype": "f8"
           }
          }
         ],
         "layout": {
          "title": {
           "text": "🚀 다중 위협 분산 대응 시스템 - 시간: 2.05초"
          }
         },
         "name": "49"
        },
        {
         "data": [
          {
           "marker": {
            "color": "red",
            "size": 20,
            "symbol": "diamond"
           },
           "mode": "markers",
           "name": "🏙️ 도시",
           "type": "scatter3d",
           "x": [
            0
           ],
           "y": [
            0
           ],
           "z": [
            0
           ]
          },
          {
           "marker": {
            "color": "blue",
            "size": 15,
            "symbol": "square"
           },
           "mode": "markers",
           "name": "🏭 알파 기지",
           "type": "scatter3d",
           "x": [
            50
           ],
           "y": [
            20
           ],
           "z": [
            0
           ]
          },
          {
           "marker": {
            "color": "cyan",
            "size": 15,
            "symbol": "square"
           },
           "mode": "markers",
           "name": "🏭 브라보 기지",
           "type": "scatter3d",
           "x": [
            -40
           ],
           "y": [
            -30
           ],
           "z": [
            0
           ]
          },
          {
           "line": {
            "color": "red",
            "width": 4
           },
           "marker": {
            "color": "red",
            "size": 3
           },
           "mode": "lines+markers",
           "name": "🚀 H1",
           "type": "scatter3d",
           "x": {
            "bdata": "AAAAAABAb0AAIySjFjRuQP9FSEYtKG1A/mhs6UMcbED+i5CMWhBrQP6utC9xBGpA",
            "dtype": "f8"
           },
           "y": {
            "bdata": "AAAAAADAckDglfYljhhyQL8r7UsccXFAn8HjcarJcEB/V9qXOCJwQL3aoXuN9W5A",
            "dtype": "f8"
           },
           "z": {
            "bdata": "AAAAAAAAeUAJ8TDyQvJ4QCXEw8gLyXhAU3m4g1qEeECTEA8jLyR4QOaJx6aJqHdA",
            "dtype": "f8"
           }
          },
          {
           "line": {
            "color": "blue",
            "dash": "dash",
            "width": 5
           },
           "marker": {
            "color": "blue",
            "size": 4,
            "symbol": "diamond"
           },
           "mode": "lines+markers",
           "name": "🛡️ 알파→H1",
           "type": "scatter3d",
           "x": {
            "bdata": "AAAAAAAASUDy8XdvhZVRQOTj794Kq1ZA1tVnTpDAW0Dk4+/eCmtgQN7cq5bN9WJA",
            "dtype": "f8"
           },
           "y": {
            "bdata": "AAAAAAAANECG9AajAd1IQIb0BqMB3VNAyG6KdIJLW0CG9AajAV1hQKexyAtCFGVA",
            "dtype": "f8"
           },
           "z": {
            "bdata": "AAAAAAAAAACamiALsrdJQJqaIAuyt1lA9HNYiMVJY0CamiALsrdpQKBg9EbPEnBA",
            "dtype": "f8"
           }
          },
          {
           "line": {
            "color": "orange",
            "width": 4
           },
           "marker": {
            "color": "orange",
            "size": 3
           },
           "mode": "lines+markers",
           "name": "🚀 H2",
           "type": "scatter3d",
           "x": {
            "bdata": "AAAAAACAccCmee0MpuxwwEzz2hlMWXDA5dmQTeSLb8AxzWtnMGVuwH3ARoF8Pm3A",
            "dtype": "f8"
           },
           "y": {
            "bdata": "AAAAAABAb0AAIySjFjRuQP9FSEYtKG1A/mhs6UMcbED+i5CMWhBrQP6utC9xBGpA",
            "dtype": "f8"
           },
           "z": {
            "bdata": "AAAAAADAd0AJ8TDyQrJ3QCXEw8gLiXdAU3m4g1pEd0CTEA8jL+R2QOaJx6aJaHZA",
            "dtype": "f8"
           }
          },
          {
           "line": {
            "color": "cyan",
            "dash": "dash",
            "width": 5
           },
           "marker": {
            "color": "cyan",
            "size": 4,
            "symbol": "diamond"
           },
           "mode": "lines+markers",
           "name": "🛡️ 브라보→H2",
           "type": "scatter3d",
           "x": {
            "bdata": "AAAAAAAARMCEZjCYNkFQwAnNYDBtglbAjjORyKPDXMAJzWAwbYJhwEsAeXwIo2TA",
            "dtype": "f8"
           },
           "y": {
            "bdata": "AAAAAAAAPsCQRcw1hPn4P1nEXEOYj0BAQpOFMrIrUEBZxFxDmA9YQG71M1R+819A",
            "dtype": "f8"
           },
           "z": {
            "bdata": "AAAAAAAAAAAH/q3cUBZIQAf+rdxQFlhAhX6CpbwQYkAH/q3cUBZoQIh92RPlG25A",
            "dtype": "f8"
           }
          },
          {
           "line": {
            "color": "green",
            "width": 4
           },
           "marker": {
            "color": "green",
            "size": 3
           },
           "mode": "lines+markers",
           "name": "🚀 H3",
           "type": "scatter3d",
           "x": {
            "bdata": "AAAAAAAAJED8FyEZtaAfQPgvQjJqQRdA6I/Glj7EDUDAfxGSUQv6P0CBqCVox92/",
            "dtype": "f8"
           },
           "y": {
            "bdata": "AAAAAADgdcBAGlv6EBd1wH80tvQhTnTAv04R7zKFc8D+aGzpQ7xywD6Dx+NU83HA",
            "dtype": "f8"
           },
           "z": {
            "bdata": "AAAAAABAekAJ8TDyQjJ6QCXEw8gLCXpAU3m4g1rEeUCTEA8jL2R5QOaJx6aJ6HhA",
            "dtype": "f8"
           }
          },
          {
           "line": {
            "color": "cyan",
            "dash": "dash",
            "width": 5
           },
           "marker": {
            "color": "cyan",
            "size": 4,
            "symbol": "diamond"
           },
           "mode": "lines+markers",
           "name": "🛡️ 브라보→H3",
           "type": "scatter3d",
           "x": {
            "bdata": "AAAAAAAARMCI6fRNVIJBwCCm0zdRCT7AMHm90/kNOcBATKdvohI0wKA+IheWLi7A",
            "dtype": "f8"
           },
           "y": {
            "bdata": "AAAAAAAAPsD4INLLQVxPwPgg0stB3FfAupjdWDEFYMD4INLLQRxkwDWpxj5SM2jA",
            "dtype": "f8"
           },
           "z": {
            "bdata": "AAAAAAAAAACTt4MnJK5KQJO3gyckrlpArsmiHZsCZECTt4MnJK5qQLxSspjWrHBA",
            "dtype": "f8"
           }
          },
          {
           "line": {
            "color": "purple",
            "width": 4
           },
           "marker": {
            "color": "purple",
            "size": 3
           },
           "mode": "lines+markers",
           "name": "🚀 H4",
           "type": "scatter3d",
           "x": {
            "bdata": "AAAAAADAckDglfYljhhyQL8r7UsccXFAn8HjcarJcEB/V9qXOCJwQL3aoXuN9W5A",
            "dtype": "f8"
           },
           "y": {
            "bdata": "AAAAAAAAJMA0+5KUqKwlwGj2JSlRWSfAnPG4vfkFKcDQ7EtSorIqwATo3uZKXyzA",
            "dtype": "f8"
           },
           "z": {
            "bdata": "AAAAAADgdUAJ8TDyQtJ1QCXEw8gLqXVAU3m4g1pkdUCTEA8jLwR1QOaJx6aJiHRA",
            "dtype": "f8"
           }
          },
          {
           "line": {
            "color": "blue",
            "dash": "dash",
            "width": 5
           },
           "marker": {
            "color": "blue",
            "size": 4,
            "symbol": "diamond"
           },
           "mode": "lines+markers",
           "name": "🛡️ 알파→H4",
           "type": "scatter3d",
           "x": {
            "bdata": "AAAAAAAASUD2Qi+oAGtUQO2FXlABVlxAcuRG/IAgYkDthV5QARZmQGgndqSBC2pA",
            "dtype": "f8"
           },
           "y": {
            "bdata": "AAAAAAAANEBIzvxlbjYsQJCc+cvcbCBAYKvZxyyNAkCAGzOgGZkMwJb4DwLY7yLA",
            "dtype": "f8"
           },
           "z": {
            "bdata": "AAAAAAAAAADebyiU5/JKQN5vKJTn8lpA5lMery02ZEDebyiU5/JqQOpFmbzQ13BA",
            "dtype": "f8"
           }
          },
          {
           "line": {
            "color": "brown",
            "width": 4
           },
           "marker": {
            "color": "brown",
            "size": 3
           },
           "mode": "lines+markers",
           "name": "🚀 H5",
           "type": "scatter3d",
           "x": {
            "bdata": "AAAAAAAAacBAGlv6EDdowH80tvQhbmfAv04R7zKlZsD+aGzpQ9xlwD6Dx+NUE2XA",
            "dtype": "f8"
           },
           "y": {
            "bdata": "AAAAAABAb8AAIySjFjRuwP9FSEYtKG3A/mhs6UMcbMD+i5CMWhBrwP6utC9xBGrA",
            "dtype": "f8"
           },
           "z": {
            "bdata": "AAAAAAAgfEAJ8TDyQhJ8QCXEw8gL6XtAU3m4g1qke0CTEA8jL0R7QOaJx6aJyHpA",
            "dtype": "f8"
           }
          },
          {
           "line": {
            "color": "cyan",
            "dash": "dash",
            "width": 5
           },
           "marker": {
            "color": "cyan",
            "size": 4,
            "symbol": "diamond"
           },
           "mode": "lines+markers",
           "name": "🛡️ 브라보→H5",
           "type": "scatter3d",
           "x": {
            "bdata": "AAAAAAAARMCmsXkt6f9LwKaxeS3p/1HAeIo2xN3/VcBMY/Na0v9ZwB48sPHG/13A",
            "dtype": "f8"
           },
           "y": {
            "bdata": "AAAAAAAAPsA+0SLKXSFKwD7RIspdoVLA3Dk0rwwyWMB7okWUu8JdwIyFqzy1qWHA",
            "dtype": "f8"
           },
           "z": {
            "bdata": "AAAAAAAAAAAgsBsT6j5MQCCwGxPqPlxAGMRUji8vZUAgsBsT6j5sQBRO8UtSp3FA",
            "dtype": "f8"
           }
          }
         ],
         "layout": {
          "title": {
           "text": "🚀 다중 위협 분산 대응 시스템 - 시간: 2.09초"
          }
         },
         "name": "50"
        },
        {
         "data": [
          {
           "marker": {
            "color": "red",
            "size": 20,
            "symbol": "diamond"
           },
           "mode": "markers",
           "name": "🏙️ 도시",
           "type": "scatter3d",
           "x": [
            0
           ],
           "y": [
            0
           ],
           "z": [
            0
           ]
          },
          {
           "marker": {
            "color": "blue",
            "size": 15,
            "symbol": "square"
           },
           "mode": "markers",
           "name": "🏭 알파 기지",
           "type": "scatter3d",
           "x": [
            50
           ],
           "y": [
            20
           ],
           "z": [
            0
           ]
          },
          {
           "marker": {
            "color": "cyan",
            "size": 15,
            "symbol": "square"
           },
           "mode": "markers",
           "name": "🏭 브라보 기지",
           "type": "scatter3d",
           "x": [
            -40
           ],
           "y": [
            -30
           ],
           "z": [
            0
           ]
          },
          {
           "line": {
            "color": "red",
            "width": 4
           },
           "marker": {
            "color": "red",
            "size": 3
           },
           "mode": "lines+markers",
           "name": "🚀 H1",
           "type": "scatter3d",
           "x": {
            "bdata": "AAAAAABAb0DcfxXuui5uQLf/Ktx1HW1Ak39AyjAMbEBu/1W46/pqQEp/a6am6WlA",
            "dtype": "f8"
           },
           "y": {
            "bdata": "AAAAAADAckDpb83UNBVyQNLfmqlpanFAvE9ofp6/cEClvzVT0xRwQB1fBlAQ1G5A",
            "dtype": "f8"
           },
           "z": {
            "bdata": "AAAAAAAAeUCzmWnbtPF4QMtmpm3TxnhASme2tlt/eEAtm5m2TRt4QHcCUG2pmndA",
            "dtype": "f8"
           }
          },
          {
           "line": {
            "color": "blue",
            "dash": "dash",
            "width": 5
           },
           "marker": {
            "color": "blue",
            "size": 4,
            "symbol": "diamond"
           },
           "mode": "lines+markers",
           "name": "🛡️ 알파→H1",
           "type": "scatter3d",
           "x": {
            "bdata": "AAAAAAAASUB3vmA5ja9RQO58wXIa31ZAZjsirKcOXEDufMFyGp9gQCrccQ/hNmNA",
            "dtype": "f8"
           },
           "y": {
            "bdata": "AAAAAAAANEBq+QFFGylJQGr5AUUbKVRAIPaC56i9W0Bq+QFFG6lhQMV3QhZic2VA",
            "dtype": "f8"
           },
           "z": {
            "bdata": "AAAAAAAAAADIS3iQXjtKQMhLeJBeO1pA1jha7IasY0DIS3iQXjtqQFwvSxobZXBA",
            "dtype": "f8"
           }
          },
          {
           "line": {
            "color": "orange",
            "width": 4
           },
           "marker": {
            "color": "orange",
            "size": 3
           },
           "mode": "lines+markers",
           "name": "🚀 H2",
           "type": "scatter3d",
           "x": {
            "bdata": "AAAAAACAccAf04ucs+lwwD6mFzlnU3DAu/JGqzV6b8D6mF7knE1uwDg/dh0EIW3A",
            "dtype": "f8"
           },
           "y": {
            "bdata": "AAAAAABAb0DcfxXuui5uQLf/Ktx1HW1Ak39AyjAMbEBu/1W46/pqQEp/a6am6WlA",
            "dtype": "f8"
           },
           "z": {
            "bdata": "AAAAAADAd0CzmWnbtLF3QMtmpm3ThndASme2tls/d0Atm5m2Tdt2QHcCUG2pWnZA",
            "dtype": "f8"
           }
          },
          {
           "line": {
            "color": "cyan",
            "dash": "dash",
            "width": 5
           },
           "marker": {
            "color": "cyan",
            "size": 4,
            "symbol": "diamond"
           },
           "mode": "lines+markers",
           "name": "🛡️ 브라보→H2",
           "type": "scatter3d",
           "x": {
            "bdata": "AAAAAAAARMD4zm7OPGFQwPCd3Zx5wlbA6WxMa7YjXcDwnd2cecJhwGwFFQQY82TA",
            "dtype": "f8"
           },
           "y": {
            "bdata": "AAAAAAAAPsAAD6NOfokBQOBh1MkvMUFAaUlf1+OkUEDgYdTJL7FYQCy9JN69XmBA",
            "dtype": "f8"
           },
           "z": {
            "bdata": "AAAAAAAAAACYlzZmpJFIQJiXNmakkVhAsvGoTDttYkCYlzZmpJFoQH09xH8Ntm5A",
            "dtype": "f8"
           }
          },
          {
           "line": {
            "color": "green",
            "width": 4
           },
           "marker": {
            "color": "green",
            "size": 3
           },
           "mode": "lines+markers",
           "name": "🚀 H3",
           "type": "scatter3d",
           "x": {
            "bdata": "AAAAAAAAJEDd/qtw13UfQLr9V+Gu6xZALPkHpAzDDEDQ7b8Kd133P4AtIGVWluW/",
            "dtype": "f8"
           },
           "y": {
            "bdata": "AAAAAADgdcDlH5AyDBN1wMk/IGUYRnTArl+wlyR5c8CTf0DKMKxywHif0Pw833HA",
            "dtype": "f8"
           },
           "z": {
            "bdata": "AAAAAABAekCzmWnbtDF6QMtmpm3TBnpASme2tlu/eUAtm5m2TVt5QHcCUG2p2nhA",
            "dtype": "f8"
           }
          },
          {
           "line": {
            "color": "cyan",
            "dash": "dash",
            "width": 5
           },
           "marker": {
            "color": "cyan",
            "size": 4,
            "symbol": "diamond"
           },
           "mode": "lines+markers",
           "name": "🛡️ 브라보→H3",
           "type": "scatter3d",
           "x": {
            "bdata": "AAAAAAAARMDXXjxuk3VBwF578bhN1j3ADDlqlXTBOMC79uJxm6wzwNZot5yELy3A",
            "dtype": "f8"
           },
           "y": {
            "bdata": "AAAAAAAAPsDApg6sBbBPwMCmDqwFMFjAEP0KQQREYMDApg6sBXBkwG9QEhcHnGjA",
            "dtype": "f8"
           },
           "z": {
            "bdata": "AAAAAAAAAAAsjTl6vjZLQCyNOXq+NltA4Smr2w5pZEAsjTl6vjZrQDv4Yww3AnFA",
            "dtype": "f8"
           }
          },
          {
           "line": {
            "color": "purple",
            "width": 4
           },
           "marker": {
            "color": "purple",
            "size": 3
           },
           "mode": "lines+markers",
           "name": "🚀 H4",
           "type": "scatter3d",
           "x": {
            "bdata": "AAAAAADAckDpb83UNBVyQNLfmqlpanFAvE9ofp6/cEClvzVT0xRwQB1fBlAQ1G5A",
            "dtype": "f8"
           },
           "y": {
            "bdata": "AAAAAAAAJMDUmd1PO7UlwKgzu592aifAfM2Y77EfKcBPZ3Y/7dQqwCMBVI8oiizA",
            "dtype": "f8"
           },
           "z": {
            "bdata": "AAAAAADgdUCzmWnbtNF1QMtmpm3TpnVASme2tltfdUAtm5m2Tft0QHcCUG2penRA",
            "dtype": "f8"
           }
          },
          {
           "line": {
            "color": "blue",
            "dash": "dash",
            "width": 5
           },
           "marker": {
            "color": "blue",
            "size": 4,
            "symbol": "diamond"
           },
           "mode": "lines+markers",
           "name": "🛡️ 알파→H4",
           "type": "scatter3d",
           "x": {
            "bdata": "AAAAAAAASUC+Af3oipNUQH0D+tEVp1xAnoJ7XVBdYkB9A/rRFWdmQFuEeEbbcGpA",
            "dtype": "f8"
           },
           "y": {
            "bdata": "AAAAAAAANEACbERyFPorQAawEclR6B9AICBqtupx/z/0n9xtXC8QwPjjqcSZHSTA",
            "dtype": "f8"
           },
           "z": {
            "bdata": "AAAAAAAAAACMr2b44XxLQIyvZvjhfFtAqQNNeqmdZECMr2b44XxrQLctQDsNLnFA",
            "dtype": "f8"
           }
          },
          {
           "line": {
            "color": "brown",
            "width": 4
           },
           "marker": {
            "color": "brown",
            "size": 3
           },
           "mode": "lines+markers",
           "name": "🚀 H5",
           "type": "scatter3d",
           "x": {
            "bdata": "AAAAAAAAacDlH5AyDDNowMk/IGUYZmfArl+wlySZZsCTf0DKMMxlwHif0Pw8/2TA",
            "dtype": "f8"
           },
           "y": {
            "bdata": "AAAAAABAb8DcfxXuui5uwLf/Ktx1HW3Ak39AyjAMbMBu/1W46/pqwEp/a6am6WnA",
            "dtype": "f8"
           },
           "z": {
            "bdata": "AAAAAAAgfECzmWnbtBF8QMtmpm3T5ntASme2tlufe0Atm5m2TTt7QHcCUG2punpA",
            "dtype": "f8"
           }
          },
          {
           "line": {
            "color": "cyan",
            "dash": "dash",
            "width": 5
           },
           "marker": {
            "color": "cyan",
            "size": 4,
            "symbol": "diamond"
           },
           "mode": "lines+markers",
           "name": "🛡️ 브라보→H5",
           "type": "scatter3d",
           "x": {
            "bdata": "AAAAAAAARMDsUy973ihMwOxTL3veKFLA4v3GuE09VsDYp172vFFawM5R9jMsZl7A",
            "dtype": "f8"
           },
           "y": {
            "bdata": "AAAAAAAAPsDJZJ6LWlpKwMlknota2lLALpdt0YeHWMCSyTwXtTRewPv9hS7x8GHA",
            "dtype": "f8"
           },
           "z": {
            "bdata": "AAAAAAAAAAAOmitbiM9MQA6aK1uIz1xAirNgRKabZUAOmitbiM9sQEhA+zi1AXJA",
            "dtype": "f8"
           }
          }
         ],
         "layout": {
          "title": {
           "text": "🚀 다중 위협 분산 대응 시스템 - 시간: 2.13초"
          }
         },
         "name": "51"
        },
        {
         "data": [
          {
           "marker": {
            "color": "red",
            "size": 20,
            "symbol": "diamond"
           },
           "mode": "markers",
           "name": "🏙️ 도시",
           "type": "scatter3d",
           "x": [
            0
           ],
           "y": [
            0
           ],
           "z": [
            0
           ]
          },
          {
           "marker": {
            "color": "blue",
            "size": 15,
            "symbol": "square"
           },
           "mode": "markers",
           "name": "🏭 알파 기지",
           "type": "scatter3d",
           "x": [
            50
           ],
           "y": [
            20
           ],
           "z": [
            0
           ]
          },
          {
           "marker": {
            "color": "cyan",
            "size": 15,
            "symbol": "square"
           },
           "mode": "markers",
           "name": "🏭 브라보 기지",
           "type": "scatter3d",
           "x": [
            -40
           ],
           "y": [
            -30
           ],
           "z": [
            0
           ]
          },
          {
           "line": {
            "color": "red",
            "width": 4
           },
           "marker": {
            "color": "red",
            "size": 3
           },
           "mode": "lines+markers",
           "name": "🚀 H1",
           "type": "scatter3d",
           "x": {
            "bdata": "AAAAAABAb0C43AY5XyluQHC5DXK+Em1AJ5YUqx38a0DfchvkfOVqQJdPIh3czmlA",
            "dtype": "f8"
           },
           "y": {
            "bdata": "AAAAAADAckDzSaSD2xFyQOaTSAe3Y3FA2N3sipK1cEDLJ5EObgdwQHzjaiSTsm5A",
            "dtype": "f8"
           },
           "z": {
            "bdata": "AAAAAAAAeUByV1f0I/F4QMZdXdGPxHhA/hISl0N6eEAZd3VFPxJ4QBeKh9yCjHdA",
            "dtype": "f8"
           }
          },
          {
           "line": {
            "color": "blue",
            "dash": "dash",
            "width": 5
           },
           "marker": {
            "color": "blue",
            "size": 4,
            "symbol": "diamond"
           },
           "mode": "lines+markers",
           "name": "🛡️ 알파→H1",
           "type": "scatter3d",
           "x": {
            "bdata": "AAAAAAAASUD8ikkDlclRQPgVkwYqE1dA9qDcCb9cXED4FZMGKtNgQHbbN4j0d2NA",
            "dtype": "f8"
           },
           "y": {
            "bdata": "AAAAAAAANEBO/vzmNHVJQE7+/OY0dVRAd317Ws8vXEBO/vzmNPVhQOI9vCCC0mVA",
            "dtype": "f8"
           },
           "z": {
            "bdata": "AAAAAAAAAAD0/M8VC79KQPT8zxULv1pAuP1bUEgPZED0/M8VC79qQBn+oe1mt3BA",
            "dtype": "f8"
           }
          },
          {
           "line": {
            "color": "orange",
            "width": 4
           },
           "marker": {
            "color": "orange",
            "size": 3
           },
           "mode": "lines+markers",
           "name": "🚀 H2",
           "type": "scatter3d",
           "x": {
            "bdata": "AAAAAACAccCYLCosweZwwDBZVFiCTXDAkgv9CIdob8DCZFFhCTZuwPK9pbmLA23A",
            "dtype": "f8"
           },
           "y": {
            "bdata": "AAAAAABAb0C43AY5XyluQHC5DXK+Em1AJ5YUqx38a0DfchvkfOVqQJdPIh3czmlA",
            "dtype": "f8"
           },
           "z": {
            "bdata": "AAAAAADAd0ByV1f0I7F3QMZdXdGPhHdA/hISl0M6d0AZd3VFP9J2QBeKh9yCTHZA",
            "dtype": "f8"
           }
          },
          {
           "line": {
            "color": "cyan",
            "dash": "dash",
            "width": 5
           },
           "marker": {
            "color": "cyan",
            "size": 4,
            "symbol": "diamond"
           },
           "mode": "lines+markers",
           "name": "🛡️ 브라보→H2",
           "type": "scatter3d",
           "x": {
            "bdata": "AAAAAAAARMBsN60EQ4FQwNduWgmGAlfARKYHDsmDXcDXbloJhgJiwI0KsYsnQ2XA",
            "dtype": "f8"
           },
           "y": {
            "bdata": "AAAAAAAAPsBA+1+COpYGQGj/S1DH0kFAj/84fBUeUUBo/0tQx1JZQKF/L5K8w2BA",
            "dtype": "f8"
           },
           "z": {
            "bdata": "AAAAAAAAAAAoMb/v9wxJQCgxv+/3DFlA32TP87nJYkAoMb/v9wxpQHL9rus1UG9A",
            "dtype": "f8"
           }
          },
          {
           "line": {
            "color": "green",
            "width": 4
           },
           "marker": {
            "color": "green",
            "size": 3
           },
           "mode": "lines+markers",
           "name": "🚀 H3",
           "type": "scatter3d",
           "x": {
            "bdata": "AAAAAAAAJEC+5TbI+UofQHzLbZDzlRZAcmJJsdrBC0DgW26DnK/0P1AabLf4SOy/",
            "dtype": "f8"
           },
           "y": {
            "bdata": "AAAAAADgdcCKJcVqBw91wBRLitUOPnTAnXBPQBZtc8AnlhSrHZxywLG72RUly3HA",
            "dtype": "f8"
           },
           "z": {
            "bdata": "AAAAAABAekByV1f0IzF6QMZdXdGPBHpA/hISl0O6eUAZd3VFP1J5QBeKh9yCzHhA",
            "dtype": "f8"
           }
          },
          {
           "line": {
            "color": "cyan",
            "dash": "dash",
            "width": 5
           },
           "marker": {
            "color": "cyan",
            "size": 4,
            "symbol": "diamond"
           },
           "mode": "lines+markers",
           "name": "🛡️ 브라보→H3",
           "type": "scatter3d",
           "x": {
            "bdata": "AAAAAAAARMAn1IOO0mhBwJxQDzpKoz3A6PgWV+90OMA3oR50lEYzwAqTTCJzMCzA",
            "dtype": "f8"
           },
           "y": {
            "bdata": "AAAAAAAAPsBEliXG5AFQwIgsS4zJg1jAZmE4KdeCYMCILEuMycNkwKr3Xe+7BGnA",
            "dtype": "f8"
           },
           "z": {
            "bdata": "AAAAAAAAAADEYu/MWL9LQMRi78xYv1tAFIqzmYLPZEDEYu/MWL9rQLqdFYCXV3FA",
            "dtype": "f8"
           }
          },
          {
           "line": {
            "color": "purple",
            "width": 4
           },
           "marker": {
            "color": "purple",
            "size": 3
           },
           "mode": "lines+markers",
           "name": "🚀 H4",
           "type": "scatter3d",
           "x": {
            "bdata": "AAAAAADAckDzSaSD2xFyQOaTSAe3Y3FA2N3sipK1cEDLJ5EObgdwQHzjaiSTsm5A",
            "dtype": "f8"
           },
           "y": {
            "bdata": "AAAAAAAAJMB0OCgLzr0lwOdwUBaceyfAW6l4IWo5KcDO4aAsOPcqwEIayTcGtSzA",
            "dtype": "f8"
           },
           "z": {
            "bdata": "AAAAAADgdUByV1f0I9F1QMZdXdGPpHVA/hISl0NadUAZd3VFP/J0QBeKh9yCbHRA",
            "dtype": "f8"
           }
          },
          {
           "line": {
            "color": "blue",
            "dash": "dash",
            "width": 5
           },
           "marker": {
            "color": "blue",
            "size": 4,
            "symbol": "diamond"
           },
           "mode": "lines+markers",
           "name": "🛡️ 알파→H4",
           "type": "scatter3d",
           "x": {
            "bdata": "AAAAAAAASUCGwMopFbxUQAyBlVMq+FxAyiCwvh+aYkAMgZVTKrhmQE/heug01mpA",
            "dtype": "f8"
           },
           "y": {
            "bdata": "AAAAAAAANEC7CYx+ur0rQOwmMPrp9h5AgOkg3XvJ+T8osp8LLBISwFrPQ4dbSyXA",
            "dtype": "f8"
           },
           "z": {
            "bdata": "AAAAAAAAAAA676Rc3AZMQDrvpFzcBlxAbLN7RSUFZUA676Rc3AZsQIQV57lJhHFA",
            "dtype": "f8"
           }
          },
          {
           "line": {
            "color": "brown",
            "width": 4
           },
           "marker": {
            "color": "brown",
            "size": 3
           },
           "mode": "lines+markers",
           "name": "🚀 H5",
           "type": "scatter3d",
           "x": {
            "bdata": "AAAAAAAAacCKJcVqBy9owBRLitUOXmfAnXBPQBaNZsAnlhSrHbxlwLG72RUl62TA",
            "dtype": "f8"
           },
           "y": {
            "bdata": "AAAAAABAb8C43AY5XyluwHC5DXK+Em3AJ5YUqx38a8DfchvkfOVqwJdPIh3czmnA",
            "dtype": "f8"
           },
           "z": {
            "bdata": "AAAAAAAgfEByV1f0IxF8QMZdXdGP5HtA/hISl0Oae0AZd3VFPzJ7QBeKh9yCrHpA",
            "dtype": "f8"
           }
          },
          {
           "line": {
            "color": "cyan",
            "dash": "dash",
            "width": 5
           },
           "marker": {
            "color": "cyan",
            "size": 4,
            "symbol": "diamond"
           },
           "mode": "lines+markers",
           "name": "🛡️ 브라보→H5",
           "type": "scatter3d",
           "x": {
            "bdata": "AAAAAAAARMAy9uTI01FMwDL25MjTUVLATHFXrb16VsBk7MmRp6NawH1nPHaRzF7A",
            "dtype": "f8"
           },
           "y": {
            "bdata": "AAAAAAAAPsBV+BlNV5NKwFX4GU1XE1PAgPSm8wLdWMCq8DOarqZewGp2YCAtOGLA",
            "dtype": "f8"
           },
           "z": {
            "bdata": "AAAAAAAAAAD6gzujJmBNQPqDO6MmYF1A/aJs+hwIZkD6gzujJmBtQHwyBSYYXHJA",
            "dtype": "f8"
           }
          }
         ],
         "layout": {
          "title": {
           "text": "🚀 다중 위협 분산 대응 시스템 - 시간: 2.18초"
          }
         },
         "name": "52"
        },
        {
         "data": [
          {
           "marker": {
            "color": "red",
            "size": 20,
            "symbol": "diamond"
           },
           "mode": "markers",
           "name": "🏙️ 도시",
           "type": "scatter3d",
           "x": [
            0
           ],
           "y": [
            0
           ],
           "z": [
            0
           ]
          },
          {
           "marker": {
            "color": "blue",
            "size": 15,
            "symbol": "square"
           },
           "mode": "markers",
           "name": "🏭 알파 기지",
           "type": "scatter3d",
           "x": [
            50
           ],
           "y": [
            20
           ],
           "z": [
            0
           ]
          },
          {
           "marker": {
            "color": "cyan",
            "size": 15,
            "symbol": "square"
           },
           "mode": "markers",
           "name": "🏭 브라보 기지",
           "type": "scatter3d",
           "x": [
            -40
           ],
           "y": [
            -30
           ],
           "z": [
            0
           ]
          },
          {
           "line": {
            "color": "red",
            "width": 4
           },
           "marker": {
            "color": "red",
            "size": 3
           },
           "mode": "lines+markers",
           "name": "🚀 H1",
           "type": "scatter3d",
           "x": {
            "bdata": "AAAAAABAb0CUOfiDAyRuQChz8AcHCG1AvKzoiwrsa0BQ5uAPDtBqQOQf2ZMRtGlA",
            "dtype": "f8"
           },
           "y": {
            "bdata": "AAAAAADAckD8I3sygg5yQPlH9mQEXXFA9Wtxl4arcEDkH9mTEfRvQNxnz/gVkW5A",
            "dtype": "f8"
           },
           "z": {
            "bdata": "AAAAAAAAeUBFKvo8kPB4QBap6PNAwnhAcXzLJBJ1eEBXpKLPAwl4QMggbvQVfndA",
            "dtype": "f8"
           }
          },
          {
           "line": {
            "color": "blue",
            "dash": "dash",
            "width": 5
           },
           "marker": {
            "color": "blue",
            "size": 4,
            "symbol": "diamond"
           },
           "mode": "lines+markers",
           "name": "🛡️ 알파→H1",
           "type": "scatter3d",
           "x": {
            "bdata": "AAAAAAAASUCBVzLNnONRQAKvZJo5R1dAgwaXZ9aqXEACr2SaOQdhQMLa/QAIuWNA",
            "dtype": "f8"
           },
           "y": {
            "bdata": "AAAAAAAANEAyA/iITsFJQDID+IhOwVRAywR0zfWhXEAyA/iITkFiQP4DNiuiMWZA",
            "dtype": "f8"
           },
           "z": {
            "bdata": "AAAAAAAAAAAfriebt0JLQB+uJ5u3QltAmMJdtAlyZEAfriebt0JrQNPM+MCyCXFA",
            "dtype": "f8"
           }
          },
          {
           "line": {
            "color": "orange",
            "width": 4
           },
           "marker": {
            "color": "orange",
            "size": 3
           },
           "mode": "lines+markers",
           "name": "🚀 H2",
           "type": "scatter3d",
           "x": {
            "bdata": "AAAAAACAccARhsi7zuNwwCMMkXedR3DAaCSzZthWb8CLMETedR5uwK481VUT5mzA",
            "dtype": "f8"
           },
           "y": {
            "bdata": "AAAAAABAb0CUOfiDAyRuQChz8AcHCG1AvKzoiwrsa0BQ5uAPDtBqQOQf2ZMRtGlA",
            "dtype": "f8"
           },
           "z": {
            "bdata": "AAAAAADAd0BFKvo8kLB3QBap6PNAgndAcXzLJBI1d0BXpKLPA8l2QMggbvQVPnZA",
            "dtype": "f8"
           }
          },
          {
           "line": {
            "color": "cyan",
            "dash": "dash",
            "width": 5
           },
           "marker": {
            "color": "cyan",
            "size": 4,
            "symbol": "diamond"
           },
           "mode": "lines+markers",
           "name": "🛡️ 브라보→H2",
           "type": "scatter3d",
           "x": {
            "bdata": "AAAAAAAARMDen+s6SaFQwL0/13WSQlfAnN/CsNvjXcC9P9d1kkJiwKwPTRM3k2XA",
            "dtype": "f8"
           },
           "y": {
            "bdata": "AAAAAAAAPsBw5xy29qILQO6cw9ZedEJAs7USIUeXUUDunMPWXvRZQBRCOka7KGFA",
            "dtype": "f8"
           },
           "z": {
            "bdata": "AAAAAAAAAAC2ykd5S4hJQLbKR3lLiFlACdj1mjgmY0C2ykd5S4hpQGO9mVde6m9A",
            "dtype": "f8"
           }
          },
          {
           "line": {
            "color": "green",
            "width": 4
           },
           "marker": {
            "color": "green",
            "size": 3
           },
           "mode": "lines+markers",
           "name": "🚀 H3",
           "type": "scatter3d",
           "x": {
            "bdata": "AAAAAAAAJECgzMEfHCAfQD+Zgz84QBZAvMuKvqjACkD4yRz8wQHyP4gD3ITNffG/",
            "dtype": "f8"
           },
           "y": {
            "bdata": "AAAAAADgdcAvK/qiAgt1wF5W9EUFNnTAjYHu6Adhc8C8rOiLCoxywOvX4i4Nt3HA",
            "dtype": "f8"
           },
           "z": {
            "bdata": "AAAAAABAekBFKvo8kDB6QBap6PNAAnpAcXzLJBK1eUBXpKLPA0l5QMggbvQVvnhA",
            "dtype": "f8"
           }
          },
          {
           "line": {
            "color": "cyan",
            "dash": "dash",
            "width": 5
           },
           "marker": {
            "color": "cyan",
            "size": 4,
            "symbol": "diamond"
           },
           "mode": "lines+markers",
           "name": "🛡️ 브라보→H3",
           "type": "scatter3d",
           "x": {
            "bdata": "AAAAAAAARMB2ScuuEVxBwNolLbtGcD3AxrjDGGooOMC0S1p2jeAywEK94adhMSvA",
            "dtype": "f8"
           },
           "y": {
            "bdata": "AAAAAAAAPsAn2UO2xitQwE6yh2yN11jAu8VlEarBYMBOsodsjRdlwOKeqcdwbWnA",
            "dtype": "f8"
           },
           "z": {
            "bdata": "AAAAAAAAAABaOKUf80dMQFo4pR/zR1xAROq7V/Y1ZUBaOKUf80dsQDhDx/P3rHFA",
            "dtype": "f8"
           }
          },
          {
           "line": {
            "color": "purple",
            "width": 4
           },
           "marker": {
            "color": "purple",
            "size": 3
           },
           "mode": "lines+markers",
           "name": "🚀 H4",
           "type": "scatter3d",
           "x": {
            "bdata": "AAAAAADAckD8I3sygg5yQPlH9mQEXXFA9Wtxl4arcEDkH9mTEfRvQNxnz/gVkW5A",
            "dtype": "f8"
           },
           "y": {
            "bdata": "AAAAAAAAJMAT13LGYMYlwCeu5YzBjCfAOoVYUyJTKcBNXMsZgxkrwGAzPuDj3yzA",
            "dtype": "f8"
           },
           "z": {
            "bdata": "AAAAAADgdUBFKvo8kNB1QBap6PNAonVAcXzLJBJVdUBXpKLPA+l0QMggbvQVXnRA",
            "dtype": "f8"
           }
          },
          {
           "line": {
            "color": "blue",
            "dash": "dash",
            "width": 5
           },
           "marker": {
            "color": "blue",
            "size": 4,
            "symbol": "diamond"
           },
           "mode": "lines+markers",
           "name": "🛡️ 알파→H4",
           "type": "scatter3d",
           "x": {
            "bdata": "AAAAAAAASUBNf5hqn+RUQJr+MNU+SV1A9L7kH+/WYkCa/jDVPglnQEE+fYqOO2tA",
            "dtype": "f8"
           },
           "y": {
            "bdata": "AAAAAAAANEB1p9OKYIErQNSdTiuCBR5A8LLXAw0h9D9YxGKp+/QTwLa63UkdeSbA",
            "dtype": "f8"
           },
           "z": {
            "bdata": "AAAAAAAAAADmLuPA1pBMQOYu48DWkFxALWOqEKFsZUDmLuPA1pBsQFD9jTiG2nFA",
            "dtype": "f8"
           }
          },
          {
           "line": {
            "color": "brown",
            "width": 4
           },
           "marker": {
            "color": "brown",
            "size": 3
           },
           "mode": "lines+markers",
           "name": "🚀 H5",
           "type": "scatter3d",
           "x": {
            "bdata": "AAAAAAAAacAvK/qiAitowF5W9EUFVmfAjYHu6AeBZsC8rOiLCqxlwOvX4i4N12TA",
            "dtype": "f8"
           },
           "y": {
            "bdata": "AAAAAABAb8CUOfiDAyRuwChz8AcHCG3AvKzoiwrsa8BQ5uAPDtBqwOQf2ZMRtGnA",
            "dtype": "f8"
           },
           "z": {
            "bdata": "AAAAAAAgfEBFKvo8kBB8QBap6PNA4ntAcXzLJBKVe0BXpKLPAyl7QMggbvQVnnpA",
            "dtype": "f8"
           }
          },
          {
           "line": {
            "color": "cyan",
            "dash": "dash",
            "width": 5
           },
           "marker": {
            "color": "cyan",
            "size": 4,
            "symbol": "diamond"
           },
           "mode": "lines+markers",
           "name": "🛡️ 브라보→H5",
           "type": "scatter3d",
           "x": {
            "bdata": "AAAAAAAARMB4mJoWyXpMwHiYmhbJelLAtOTnoS24VsDvMDUtkvVawCp9grj2Ml/A",
            "dtype": "f8"
           },
           "y": {
            "bdata": "AAAAAAAAPsDgi5UOVMxKwOCLlQ5UTFPA0FHgFX4yWcDAFysdqBhfwNjuOhJpf2LA",
            "dtype": "f8"
           },
           "z": {
            "bdata": "AAAAAAAAAADlbUvrxPBNQOVtS+vE8F1AbJJ4sJN0ZkDlbUvrxPBtQK8kDxN7tnJA",
            "dtype": "f8"
           }
          }
         ],
         "layout": {
          "title": {
           "text": "🚀 다중 위협 분산 대응 시스템 - 시간: 2.22초"
          }
         },
         "name": "53"
        },
        {
         "data": [
          {
           "marker": {
            "color": "red",
            "size": 20,
            "symbol": "diamond"
           },
           "mode": "markers",
           "name": "🏙️ 도시",
           "type": "scatter3d",
           "x": [
            0
           ],
           "y": [
            0
           ],
           "z": [
            0
           ]
          },
          {
           "marker": {
            "color": "blue",
            "size": 15,
            "symbol": "square"
           },
           "mode": "markers",
           "name": "🏭 알파 기지",
           "type": "scatter3d",
           "x": [
            50
           ],
           "y": [
            20
           ],
           "z": [
            0
           ]
          },
          {
           "marker": {
            "color": "cyan",
            "size": 15,
            "symbol": "square"
           },
           "mode": "markers",
           "name": "🏭 브라보 기지",
           "type": "scatter3d",
           "x": [
            -40
           ],
           "y": [
            -30
           ],
           "z": [
            0
           ]
          },
          {
           "line": {
            "color": "red",
            "width": 4
           },
           "marker": {
            "color": "red",
            "size": 3
           },
           "mode": "lines+markers",
           "name": "🚀 H1",
           "type": "scatter3d",
           "x": {
            "bdata": "AAAAAABAb0BwlunOpx5uQOAs051P/WxAUMO8bPfba0DAWaY7n7pqQDDwjwpHmWlA",
            "dtype": "f8"
           },
           "y": {
            "bdata": "AAAAAADAckAG/lHhKAtyQAz8o8JRVnFAEvr1o3qhcEAw8I8KR9lvQDzsM82Yb25A",
            "dtype": "f8"
           },
           "z": {
            "bdata": "AAAAAAAAeUAuElK1+e94QLlISNXmv3hAoaPiX8dveEDmIiFVm/93QIfGA7Vib3dA",
            "dtype": "f8"
           }
          },
          {
           "line": {
            "color": "blue",
            "dash": "dash",
            "width": 5
           },
           "marker": {
            "color": "blue",
            "size": 4,
            "symbol": "diamond"
           },
           "mode": "lines+markers",
           "name": "🛡️ 알파→H1",
           "type": "scatter3d",
           "x": {
            "bdata": "AAAAAAAASUAGJBuXpP1RQAxINi5Je1dAEmxRxe34XEAMSDYuSTthQA7aw3kb+mNA",
            "dtype": "f8"
           },
           "y": {
            "bdata": "AAAAAAAANEAWCPMqaA1KQBYI8ypoDVVAI4xsQBwUXUAWCPMqaI1iQBzKrzXCkGZA",
            "dtype": "f8"
           },
           "z": {
            "bdata": "AAAAAAAAAABLX38gZMZLQEtffyBkxltAeodfGMvUZEBLX38gZMZrQI+bT5T+W3FA",
            "dtype": "f8"
           }
          },
          {
           "line": {
            "color": "orange",
            "width": 4
           },
           "marker": {
            "color": "orange",
            "size": 3
           },
           "mode": "lines+markers",
           "name": "🚀 H2",
           "type": "scatter3d",
           "x": {
            "bdata": "AAAAAACAccCK32ZL3OBwwBW/zZa4QXDAPj1pxClFb8BU/DZb4gZuwGi7BPKayGzA",
            "dtype": "f8"
           },
           "y": {
            "bdata": "AAAAAABAb0BwlunOpx5uQOAs051P/WxAUMO8bPfba0DAWaY7n7pqQDDwjwpHmWlA",
            "dtype": "f8"
           },
           "z": {
            "bdata": "AAAAAADAd0AuElK1+a93QLlISNXmf3dAoaPiX8cvd0DmIiFVm792QIfGA7ViL3ZA",
            "dtype": "f8"
           }
          },
          {
           "line": {
            "color": "cyan",
            "dash": "dash",
            "width": 5
           },
           "marker": {
            "color": "cyan",
            "size": 4,
            "symbol": "diamond"
           },
           "mode": "lines+markers",
           "name": "🛡️ 브라보→H2",
           "type": "scatter3d",
           "x": {
            "bdata": "AAAAAAAARMBSCCpxT8FQwKQQVOKeglfA9xh+U+5DXsCkEFTinoJiwM0U6ZpG42XA",
            "dtype": "f8"
           },
           "y": {
            "bdata": "AAAAAAAAPsDY6ex02VcQQHY6O132FUNA2WvsxXgQUkB2Ojtd9pVaQIkERfq5jWFA",
            "dtype": "f8"
           },
           "z": {
            "bdata": "AAAAAAAAAABGZNACnwNKQEZk0AKfA1pANkscQreCY0BGZNACnwNqQKw+wmFDQnBA",
            "dtype": "f8"
           }
          },
          {
           "line": {
            "color": "green",
            "width": 4
           },
           "marker": {
            "color": "green",
            "size": 3
           },
           "mode": "lines+markers",
           "name": "🚀 H3",
           "type": "scatter3d",
           "x": {
            "bdata": "AAAAAAAAJECAs0x3PvUeQAFnme586hVAADXMy3a/CUAQcJbpzqfuP/j5Aa4e1/S/",
            "dtype": "f8"
           },
           "y": {
            "bdata": "AAAAAADgdcDUMC/b/QZ1wKhhXrb7LXTAfJKNkflUc8BQw7xs93tywCT060f1onHA",
            "dtype": "f8"
           },
           "z": {
            "bdata": "AAAAAABAekAuElK1+S96QLlISNXm/3lAoaPiX8eveUDmIiFVmz95QIfGA7Vir3hA",
            "dtype": "f8"
           }
          },
          {
           "line": {
            "color": "cyan",
            "dash": "dash",
            "width": 5
           },
           "marker": {
            "color": "cyan",
            "size": 4,
            "symbol": "diamond"
           },
           "mode": "lines+markers",
           "name": "🛡️ 브라보→H3",
           "type": "scatter3d",
           "x": {
            "bdata": "AAAAAAAARMDGvhLPUE9BwBj7SjxDPT3Ao3hw2uTbN8Aw9pV4hnoywHjndi1QMirA",
            "dtype": "f8"
           },
           "y": {
            "bdata": "AAAAAAAAPsALHGKmqFVQwBY4xExRK1nAEiqT+XwAYcAWOMRMUWtlwBxG9Z8l1mnA",
            "dtype": "f8"
           },
           "z": {
            "bdata": "AAAAAAAAAADyDVtyjdBMQPINW3KN0FxAd0rEFWqcZUDyDVtyjdBsQLfoeGdYAnJA",
            "dtype": "f8"
           }
          },
          {
           "line": {
            "color": "purple",
            "width": 4
           },
           "marker": {
            "color": "purple",
            "size": 3
           },
           "mode": "lines+markers",
           "name": "🚀 H4",
           "type": "scatter3d",
           "x": {
            "bdata": "AAAAAADAckAG/lHhKAtyQAz8o8JRVnFAEvr1o3qhcEAw8I8KR9lvQDzsM82Yb25A",
            "dtype": "f8"
           },
           "y": {
            "bdata": "AAAAAAAAJMCzdb2B884lwGbregPnnSfAGmE4hdpsKcDM1vUGzjsrwIBMs4jBCi3A",
            "dtype": "f8"
           },
           "z": {
            "bdata": "AAAAAADgdUAuElK1+c91QLlISNXmn3VAoaPiX8dPdUDmIiFVm990QIfGA7ViT3RA",
            "dtype": "f8"
           }
          },
          {
           "line": {
            "color": "blue",
            "dash": "dash",
            "width": 5
           },
           "marker": {
            "color": "blue",
            "size": 4,
            "symbol": "diamond"
           },
           "mode": "lines+markers",
           "name": "🛡️ 알파→H4",
           "type": "scatter3d",
           "x": {
            "bdata": "AAAAAAAASUAUPmarKQ1VQCl8zFZTml1AIF0Zgb4TY0ApfMxWU1pnQDSbfyzooGtA",
            "dtype": "f8"
           },
           "y": {
            "bdata": "AAAAAAAANEAvRRuXBkUrQLwUbVwaFB1AoPgcVTzx7D+I1iVHy9cVwBamdwzfpifA",
            "dtype": "f8"
           },
           "z": {
            "bdata": "AAAAAAAAAACUbiEl0RpNQJRuISXRGl1A8BLZ2xzUZUCUbiEl0RptQB3lNLfCMHJA",
            "dtype": "f8"
           }
          },
          {
           "line": {
            "color": "brown",
            "width": 4
           },
           "marker": {
            "color": "brown",
            "size": 3
           },
           "mode": "lines+markers",
           "name": "🚀 H5",
           "type": "scatter3d",
           "x": {
            "bdata": "AAAAAAAAacDUMC/b/SZowKhhXrb7TWfAfJKNkfl0ZsBQw7xs95tlwCT060f1wmTA",
            "dtype": "f8"
           },
           "y": {
            "bdata": "AAAAAABAb8BwlunOpx5uwOAs051P/WzAUMO8bPfba8DAWaY7n7pqwDDwjwpHmWnA",
            "dtype": "f8"
           },
           "z": {
            "bdata": "AAAAAAAgfEAuElK1+Q98QLlISNXm33tAoaPiX8ePe0DmIiFVmx97QIfGA7Vij3pA",
            "dtype": "f8"
           }
          },
          {
           "line": {
            "color": "cyan",
            "dash": "dash",
            "width": 5
           },
           "marker": {
            "color": "cyan",
            "size": 4,
            "symbol": "diamond"
           },
           "mode": "lines+markers",
           "name": "🛡️ 브라보→H5",
           "type": "scatter3d",
           "x": {
            "bdata": "AAAAAAAARMC+OlBkvqNMwL46UGS+o1LAHVh4lp31VsB7daDIfEdbwNqSyPpbmV/A",
            "dtype": "f8"
           },
           "y": {
            "bdata": "AAAAAAAAPsBsHxHQUAVLwGwfEdBQhVPAIq8ZOPmHWcDXPiKgoYpfwEZnFQSlxmLA",
            "dtype": "f8"
           },
           "z": {
            "bdata": "AAAAAAAAAADSV1szY4FOQNJXWzNjgV5A34GEZgrhZkDSV1szY4FuQOMWGQDeEHNA",
            "dtype": "f8"
           }
          }
         ],
         "layout": {
          "title": {
           "text": "🚀 다중 위협 분산 대응 시스템 - 시간: 2.26초"
          }
         },
         "name": "54"
        },
        {
         "data": [
          {
           "marker": {
            "color": "red",
            "size": 20,
            "symbol": "diamond"
           },
           "mode": "markers",
           "name": "🏙️ 도시",
           "type": "scatter3d",
           "x": [
            0
           ],
           "y": [
            0
           ],
           "z": [
            0
           ]
          },
          {
           "marker": {
            "color": "blue",
            "size": 15,
            "symbol": "square"
           },
           "mode": "markers",
           "name": "🏭 알파 기지",
           "type": "scatter3d",
           "x": [
            50
           ],
           "y": [
            20
           ],
           "z": [
            0
           ]
          },
          {
           "marker": {
            "color": "cyan",
            "size": 15,
            "symbol": "square"
           },
           "mode": "markers",
           "name": "🏭 브라보 기지",
           "type": "scatter3d",
           "x": [
            -40
           ],
           "y": [
            -30
           ],
           "z": [
            0
           ]
          },
          {
           "line": {
            "color": "red",
            "width": 4
           },
           "marker": {
            "color": "red",
            "size": 3
           },
           "mode": "lines+markers",
           "name": "🚀 H1",
           "type": "scatter3d",
           "x": {
            "bdata": "AAAAAABAb0BM89oZTBluQJjmtTOY8mxA5dmQTeTLa0AxzWtnMKVqQH3ARoF8fmlA",
            "dtype": "f8"
           },
           "y": {
            "bdata": "AAAAAADAckAQ2CiQzwdyQB+wUSCfT3FAL4h6sG6XcEB9wEaBfL5vQJxwmKEbTm5A",
            "dtype": "f8"
           },
           "z": {
            "bdata": "AAAAAAAAeUAsD19dYO94QLI8fHWBvXhAkIhXSGNqeEDH8vDVBfZ3QFZ7SB5pYHdA",
            "dtype": "f8"
           }
          },
          {
           "line": {
            "color": "blue",
            "dash": "dash",
            "width": 5
           },
           "marker": {
            "color": "blue",
            "size": 4,
            "symbol": "diamond"
           },
           "mode": "lines+markers",
           "name": "🛡️ 알파→H1",
           "type": "scatter3d",
           "x": {
            "bdata": "AAAAAAAASUCL8ANhrBdSQBbhB8JYr1dAoNELIwVHXUAW4QfCWG9hQFrZifIuO2RA",
            "dtype": "f8"
           },
           "y": {
            "bdata": "AAAAAAAANED6DO7MgVlKQPoM7syBWVVAdxNls0KGXUD6DO7MgdliQDmQKUDi72ZA",
            "dtype": "f8"
           },
           "z": {
            "bdata": "AAAAAAAAAAB4ENelEEpMQHgQ16UQSlxAWUxhfIw3ZUB4ENelEEpsQEtqpmdKrnFA",
            "dtype": "f8"
           }
          },
          {
           "line": {
            "color": "orange",
            "width": 4
           },
           "marker": {
            "color": "orange",
            "size": 3
           },
           "mode": "lines+markers",
           "name": "🚀 H2",
           "type": "scatter3d",
           "x": {
            "bdata": "AAAAAACAccAEOQXb6d1wwAdyCrbTO3DAFVYfInszb8AcyCnYTu9twCM6NI4iq2zA",
            "dtype": "f8"
           },
           "y": {
            "bdata": "AAAAAABAb0BM89oZTBluQJjmtTOY8mxA5dmQTeTLa0AxzWtnMKVqQH3ARoF8fmlA",
            "dtype": "f8"
           },
           "z": {
            "bdata": "AAAAAADAd0AsD19dYK93QLI8fHWBfXdAkIhXSGMqd0DH8vDVBbZ2QFZ7SB5pIHZA",
            "dtype": "f8"
           }
          },
          {
           "line": {
            "color": "cyan",
            "dash": "dash",
            "width": 5
           },
           "marker": {
            "color": "cyan",
            "size": 4,
            "symbol": "diamond"
           },
           "mode": "lines+markers",
           "name": "🛡️ 브라보→H2",
           "type": "scatter3d",
           "x": {
            "bdata": "AAAAAAAARMDFcGinVeFQwIrh0E6rwlfAUFI59gCkXsCK4dBOq8JiwO0ZhSJWM2bA",
            "dtype": "f8"
           },
           "y": {
            "bdata": "AAAAAAAAPsDwX8uON94SQPzXsuONt0NA/SHGaqqJUkD817LjjTdbQP7GT6648mFA",
            "dtype": "f8"
           },
           "z": {
            "bdata": "AAAAAAAAAADW/ViM8n5KQNb9WIzyflpAYL5C6TXfY0DW/ViM8n5qQKWet5dXj3BA",
            "dtype": "f8"
           }
          },
          {
           "line": {
            "color": "green",
            "width": 4
           },
           "marker": {
            "color": "green",
            "size": 3
           },
           "mode": "lines+markers",
           "name": "🚀 H3",
           "type": "scatter3d",
           "x": {
            "bdata": "AAAAAAAAJEBimtfOYMoeQMM0r53BlBVATJ4N2US+CEAwTPPaGUzpP2DwJ9dvMPi/",
            "dtype": "f8"
           },
           "y": {
            "bdata": "AAAAAADgdcB5NmQT+QJ1wPJsyCbyJXTAbKMsOutIc8Dl2ZBN5GtywF4Q9WDdjnHA",
            "dtype": "f8"
           },
           "z": {
            "bdata": "AAAAAABAekAsD19dYC96QLI8fHWB/XlAkIhXSGOqeUDH8vDVBTZ5QFZ7SB5poHhA",
            "dtype": "f8"
           }
          },
          {
           "line": {
            "color": "cyan",
            "dash": "dash",
            "width": 5
           },
           "marker": {
            "color": "cyan",
            "size": 4,
            "symbol": "diamond"
           },
           "mode": "lines+markers",
           "name": "🛡️ 브라보→H3",
           "type": "scatter3d",
           "x": {
            "bdata": "AAAAAAAARMAWNFrvj0JBwFbQaL0/Cj3AgTgdnF+PN8CsoNF6fxQywK4RDLM+MynA",
            "dtype": "f8"
           },
           "y": {
            "bdata": "AAAAAAAAPsDvXoCWin9QwN69AC0Vf1nAZo7A4U8/YcDevQAtFb9lwFXtQHjaPmrA",
            "dtype": "f8"
           },
           "z": {
            "bdata": "AAAAAAAAAACK4xDFJ1lNQIrjEMUnWV1Ap6rM090CZkCK4xDFJ1ltQDaOKtu4V3JA",
            "dtype": "f8"
           }
          },
          {
           "line": {
            "color": "purple",
            "width": 4
           },
           "marker": {
            "color": "purple",
            "size": 3
           },
           "mode": "lines+markers",
           "name": "🚀 H4",
           "type": "scatter3d",
           "x": {
            "bdata": "AAAAAADAckAQ2CiQzwdyQB+wUSCfT3FAL4h6sG6XcEB9wEaBfL5vQJxwmKEbTm5A",
            "dtype": "f8"
           },
           "y": {
            "bdata": "AAAAAAAAJMBTFAg9htclwKYoEHoMryfA+DwYt5KGKcBMUSD0GF4rwJ5lKDGfNS3A",
            "dtype": "f8"
           },
           "z": {
            "bdata": "AAAAAADgdUAsD19dYM91QLI8fHWBnXVAkIhXSGNKdUDH8vDVBdZ0QFZ7SB5pQHRA",
            "dtype": "f8"
           }
          },
          {
           "line": {
            "color": "blue",
            "dash": "dash",
            "width": 5
           },
           "marker": {
            "color": "blue",
            "size": 4,
            "symbol": "diamond"
           },
           "mode": "lines+markers",
           "name": "🛡️ 알파→H4",
           "type": "scatter3d",
           "x": {
            "bdata": "AAAAAAAASUDc/DPsszVVQLn5Z9hn611ASvtN4o1QY0C5+WfYZ6tnQCf4gc5BBmxA",
            "dtype": "f8"
           },
           "y": {
            "bdata": "AAAAAAAANEDo4mKjrAgrQKKLi42yIhxAoIuKol6g4T+86OjkmroXwHSREc+g1CjA",
            "dtype": "f8"
           },
           "z": {
            "bdata": "AAAAAAAAAABCrl+Jy6RNQEKuX4nLpF1AscIHp5g7ZkBCrl+Jy6RtQOnM2zX/hnJA",
            "dtype": "f8"
           }
          },
          {
           "line": {
            "color": "brown",
            "width": 4
           },
           "marker": {
            "color": "brown",
            "size": 3
           },
           "mode": "lines+markers",
           "name": "🚀 H5",
           "type": "scatter3d",
           "x": {
            "bdata": "AAAAAAAAacB5NmQT+SJowPJsyCbyRWfAbKMsOutoZsDl2ZBN5ItlwF4Q9WDdrmTA",
            "dtype": "f8"
           },
           "y": {
            "bdata": "AAAAAABAb8BM89oZTBluwJjmtTOY8mzA5dmQTeTLa8AxzWtnMKVqwH3ARoF8fmnA",
            "dtype": "f8"
           },
           "z": {
            "bdata": "AAAAAAAgfEAsD19dYA98QLI8fHWB3XtAkIhXSGOKe0DH8vDVBRZ7QFZ7SB5pgHpA",
            "dtype": "f8"
           }
          },
          {
           "line": {
            "color": "cyan",
            "dash": "dash",
            "width": 5
           },
           "marker": {
            "color": "cyan",
            "size": 4,
            "symbol": "diamond"
           },
           "mode": "lines+markers",
           "name": "🛡️ 브라보→H5",
           "type": "scatter3d",
           "x": {
            "bdata": "AAAAAAAARMAE3QWys8xMwATdBbKzzFLAhcsIiw0zV8AHugtkZ5lbwImoDj3B/1/A",
            "dtype": "f8"
           },
           "y": {
            "bdata": "AAAAAAAAPsD3soyRTT5LwPeyjJFNvlPAcgxTWnTdWcDuZRkjm/xfwLTf7/XgDWPA",
            "dtype": "f8"
           },
           "z": {
            "bdata": "AAAAAAAAAAC+QWt7ARJPQL5Ba3sBEl9ATnGQHIFNZ0C+QWt7ARJvQBcJI+1Aa3NA",
            "dtype": "f8"
           }
          }
         ],
         "layout": {
          "title": {
           "text": "🚀 다중 위협 분산 대응 시스템 - 시간: 2.30초"
          }
         },
         "name": "55"
        },
        {
         "data": [
          {
           "marker": {
            "color": "red",
            "size": 20,
            "symbol": "diamond"
           },
           "mode": "markers",
           "name": "🏙️ 도시",
           "type": "scatter3d",
           "x": [
            0
           ],
           "y": [
            0
           ],
           "z": [
            0
           ]
          },
          {
           "marker": {
            "color": "blue",
            "size": 15,
            "symbol": "square"
           },
           "mode": "markers",
           "name": "🏭 알파 기지",
           "type": "scatter3d",
           "x": [
            50
           ],
           "y": [
            20
           ],
           "z": [
            0
           ]
          },
          {
           "marker": {
            "color": "cyan",
            "size": 15,
            "symbol": "square"
           },
           "mode": "markers",
           "name": "🏭 브라보 기지",
           "type": "scatter3d",
           "x": [
            -40
           ],
           "y": [
            -30
           ],
           "z": [
            0
           ]
          },
          {
           "line": {
            "color": "red",
            "width": 4
           },
           "marker": {
            "color": "red",
            "size": 3
           },
           "mode": "lines+markers",
           "name": "🚀 H1",
           "type": "scatter3d",
           "x": {
            "bdata": "AAAAAABAb0DMQqr+8kVuQJmFVP3lS21AZcj++9hRbEAxC6n6y1drQP5NU/m+XWpAypD997FjaUA=",
            "dtype": "f8"
           },
           "y": {
            "bdata": "AAAAAADAckDAaSrftyNyQH/TVL5vh3FAPz1/nSfrcED/pql8305wQH0hqLcuZW9A/PT8dZ4sbkA=",
            "dtype": "f8"
           },
           "z": {
            "bdata": "AAAAAAAAeUDBAVdBCPR4QAYHXAUh0HhAzQ8PTEqUeEAYHHAVhEB4QOUrf2HO1HdANT88MClRd0A=",
            "dtype": "f8"
           }
          },
          {
           "line": {
            "color": "blue",
            "dash": "dash",
            "width": 5
           },
           "marker": {
            "color": "blue",
            "size": 4,
            "symbol": "diamond"
           },
           "mode": "lines+markers",
           "name": "🛡️ 알파→H1",
           "type": "scatter3d",
           "x": {
            "bdata": "AAAAAAAASUDi8m/OwD5RQMTl35yB/VVApthPa0K8WkCJy785A3tfQDbfFwTiHGJApthPa0J8ZEA=",
            "dtype": "f8"
           },
           "y": {
            "bdata": "AAAAAAAANEA55GzcVt9HQDnkbNxW31JAVVajSgLPWUA55GzcVl9gQEcdiJMs12NAVVajSgJPZ0A=",
            "dtype": "f8"
           },
           "z": {
            "bdata": "AAAAAAAAAACz9qZOyABIQLP2pk7IAFhABjn9OpYAYkCz9qZOyABoQF+0UGL6AG5ABjn9OpYAckA=",
            "dtype": "f8"
           }
          },
          {
           "line": {
            "color": "orange",
            "width": 4
           },
           "marker": {
            "color": "orange",
            "size": 3
           },
           "mode": "lines+markers",
           "name": "🚀 H2",
           "type": "scatter3d",
           "x": {
            "bdata": "AAAAAACAccC9pN3YePZwwHpJu7HxbHDAb9wxFdXGb8DqJe3GxrNuwGRvqHi4oG3A3rhjKqqNbMA=",
            "dtype": "f8"
           },
           "y": {
            "bdata": "AAAAAABAb0DMQqr+8kVuQJmFVP3lS21AZcj++9hRbEAxC6n6y1drQP5NU/m+XWpAypD997FjaUA=",
            "dtype": "f8"
           },
           "z": {
            "bdata": "AAAAAADAd0DBAVdBCLR3QAYHXAUhkHdAzQ8PTEpUd0AYHHAVhAB3QOUrf2HOlHZANT88MCkRdkA=",
            "dtype": "f8"
           }
          },
          {
           "line": {
            "color": "cyan",
            "dash": "dash",
            "width": 5
           },
           "marker": {
            "color": "cyan",
            "size": 4,
            "symbol": "diamond"
           },
           "mode": "lines+markers",
           "name": "🛡️ 브라보→H2",
           "type": "scatter3d",
           "x": {
            "bdata": "AAAAAAAARMAJamtx7qxPwAlqa3HurFXADR8hqmWDW8AJamtx7qxgwItExg0qmGPADR8hqmWDZsA=",
            "dtype": "f8"
           },
           "y": {
            "bdata": "AAAAAAAAPsBgwpObb2Hhv9rDRgbp6TxA5BK1xG4vTUDtYSOD9PRVQGg67KMxUl1AcolaYrdXYkA=",
            "dtype": "f8"
           },
           "z": {
            "bdata": "AAAAAAAAAAB/U5FnOntGQH9TkWc6e1ZAn/6szWvcYEB/U5FnOntmQF6odQEJGmxAn/6szWvccEA=",
            "dtype": "f8"
           }
          },
          {
           "line": {
            "color": "green",
            "width": 4
           },
           "marker": {
            "color": "green",
            "size": 3
           },
           "mode": "lines+markers",
           "name": "🚀 H3",
           "type": "scatter3d",
           "x": {
            "bdata": "AAAAAAAAJEAxC6n6yxcgQMUspOovXxhAKEP238eOEEAUs5Cqv3wBQID9TVP5vs0/wOZNAMGJ+78=",
            "dtype": "f8"
           },
           "y": {
            "bdata": "AAAAAADgdcAZsv8+diR1wDJk/33saHTATBb/vGKtc8BlyP772PFywH56/jpPNnLAmCz+ecV6ccA=",
            "dtype": "f8"
           },
           "z": {
            "bdata": "AAAAAABAekDBAVdBCDR6QAYHXAUhEHpAzQ8PTErUeUAYHHAVhIB5QOUrf2HOFHlANT88MCmReEA=",
            "dtype": "f8"
           }
          },
          {
           "line": {
            "color": "cyan",
            "dash": "dash",
            "width": 5
           },
           "marker": {
            "color": "cyan",
            "size": 4,
            "symbol": "diamond"
           },
           "mode": "lines+markers",
           "name": "🛡️ 브라보→H3",
           "type": "scatter3d",
           "x": {
            "bdata": "AAAAAAAARMB/YrE316xBwPyJxd5csz7A+U4oTgsNOsD3E4u9uWY1wPXY7SxowDDA5DuhOC00KMA=",
            "dtype": "f8"
           },
           "y": {
            "bdata": "AAAAAAAAPsC0DbM1CkVOwLQNszUKxVbAjpSMUI9nXsC0DbM1CgVjwCHRH8NM1mbAjpSMUI+nasA=",
            "dtype": "f8"
           },
           "z": {
            "bdata": "AAAAAAAAAABGmiVpzOZIQEaaJWnM5lhAtDPcThmtYkBGmiVpzOZoQNcAb4N/IG9AtDPcThmtckA=",
            "dtype": "f8"
           }
          },
          {
           "line": {
            "color": "purple",
            "width": 4
           },
           "marker": {
            "color": "purple",
            "size": 3
           },
           "mode": "lines+markers",
           "name": "🚀 H4",
           "type": "scatter3d",
           "x": {
            "bdata": "AAAAAADAckDAaSrftyNyQH/TVL5vh3FAPz1/nSfrcED/pql8305wQH0hqLcuZW9A/PT8dZ4sbkA=",
            "dtype": "f8"
           },
           "y": {
            "bdata": "AAAAAAAAJMAgle/OFJAlwD8q350pICfAXr/ObD6wKMB+VL47U0AqwJ7prQpo0CvAvX6d2XxgLcA=",
            "dtype": "f8"
           },
           "z": {
            "bdata": "AAAAAADgdUDBAVdBCNR1QAYHXAUhsHVAzQ8PTEp0dUAYHHAVhCB1QOUrf2HOtHRANT88MCkxdEA=",
            "dtype": "f8"
           }
          },
          {
           "line": {
            "color": "blue",
            "dash": "dash",
            "width": 5
           },
           "marker": {
            "color": "blue",
            "size": 4,
            "symbol": "diamond"
           },
           "mode": "lines+markers",
           "name": "🛡️ 알파→H4",
           "type": "scatter3d",
           "x": {
            "bdata": "AAAAAAAASUAIx9Z63uNTQBGOrfW8R1tAjCpCuM1VYUARjq31vAdlQJXxGDOsuWhAGVWEcJtrbEA=",
            "dtype": "f8"
           },
           "y": {
            "bdata": "AAAAAAAANEDcFQ49mv8sQLkrHHo0/yFAWAap3Dr7C0A4oh4vXAYAwGAlc535Ax7A1HyrkWICKsA=",
            "dtype": "f8"
           },
           "z": {
            "bdata": "AAAAAAAAAACcmwNG+iZJQJybA0b6JllAtbSCtDvdYkCcmwNG+iZpQIOChNe4cG9AtbSCtDvdckA=",
            "dtype": "f8"
           }
          },
          {
           "line": {
            "color": "brown",
            "width": 4
           },
           "marker": {
            "color": "brown",
            "size": 3
           },
           "mode": "lines+markers",
           "name": "🚀 H5",
           "type": "scatter3d",
           "x": {
            "bdata": "AAAAAAAAacAZsv8+dkRowDJk/33siGfATBb/vGLNZsBlyP772BFmwH56/jpPVmXAmCz+ecWaZMA=",
            "dtype": "f8"
           },
           "y": {
            "bdata": "AAAAAABAb8DMQqr+8kVuwJmFVP3lS23AZcj++9hRbMAxC6n6y1drwP5NU/m+XWrAypD997FjacA=",
            "dtype": "f8"
           },
           "z": {
            "bdata": "AAAAAAAgfEDBAVdBCBR8QAYHXAUh8HtAzQ8PTEq0e0AYHHAVhGB7QOUrf2HO9HpANT88MClxekA=",
            "dtype": "f8"
           }
          },
          {
           "line": {
            "color": "cyan",
            "dash": "dash",
            "width": 5
           },
           "marker": {
            "color": "cyan",
            "size": 4,
            "symbol": "diamond"
           },
           "mode": "lines+markers",
           "name": "🛡️ 브라보→H5",
           "type": "scatter3d",
           "x": {
            "bdata": "AAAAAAAARMC9lHEqYndLwL2UcSpid1HAHF+qPxMzVcB6KeNUxO5YwNjzG2p1qlzAHF+qPxMzYMA=",
            "dtype": "f8"
           },
           "y": {
            "bdata": "AAAAAAAAPsBs5YaaaGNJwGzlhppo41HAI1jK5xwVV8DZyg010UZcwMieKMFCvGDAI1jK5xxVY8A=",
            "dtype": "f8"
           },
           "z": {
            "bdata": "AAAAAAAAAAC5+Tt42lxKQLn5O3jaXFpASvss2qPFY0C5+Tt42lxqQBN8JYsIenBASvss2qPFc0A=",
            "dtype": "f8"
           }
          }
         ],
         "layout": {
          "title": {
           "text": "🚀 다중 위협 분산 대응 시스템 - 시간: 2.34초"
          }
         },
         "name": "56"
        },
        {
         "data": [
          {
           "marker": {
            "color": "red",
            "size": 20,
            "symbol": "diamond"
           },
           "mode": "markers",
           "name": "🏙️ 도시",
           "type": "scatter3d",
           "x": [
            0
           ],
           "y": [
            0
           ],
           "z": [
            0
           ]
          },
          {
           "marker": {
            "color": "blue",
            "size": 15,
            "symbol": "square"
           },
           "mode": "markers",
           "name": "🏭 알파 기지",
           "type": "scatter3d",
           "x": [
            50
           ],
           "y": [
            20
           ],
           "z": [
            0
           ]
          },
          {
           "marker": {
            "color": "cyan",
            "size": 15,
            "symbol": "square"
           },
           "mode": "markers",
           "name": "🏭 브라보 기지",
           "type": "scatter3d",
           "x": [
            -40
           ],
           "y": [
            -30
           ],
           "z": [
            0
           ]
          },
          {
           "line": {
            "color": "red",
            "width": 4
           },
           "marker": {
            "color": "red",
            "size": 3
           },
           "mode": "lines+markers",
           "name": "🚀 H1",
           "type": "scatter3d",
           "x": {
            "bdata": "AAAAAABAb0DZusjne0FuQLJ1kc/3Qm1AizBat3NEbEBk6yKf70VrQD2m64ZrR2pAFmG0budIaUA=",
            "dtype": "f8"
           },
           "y": {
            "bdata": "AAAAAADAckDIdN1w7SByQI/puuHagXFAV16YUsjicEAf03XDtUNwQM2PpmhGSW9AXHlhSiELbkA=",
            "dtype": "f8"
           },
           "z": {
            "bdata": "AAAAAAAAeUCdh9vbmfN4QHYebm9nznhAicS3umiQeEDXebi9nTl4QGA+cHgGyndAIxLf6qJBd0A=",
            "dtype": "f8"
           }
          },
          {
           "line": {
            "color": "blue",
            "dash": "dash",
            "width": 5
           },
           "marker": {
            "color": "blue",
            "size": 4,
            "symbol": "diamond"
           },
           "mode": "lines+markers",
           "name": "🛡️ 알파→H1",
           "type": "scatter3d",
           "x": {
            "bdata": "AAAAAAAASUCm8rH2cVRRQE3lY+3jKFZA9NcV5FX9WkCaysfax9FfQKDevOgcU2JA9NcV5FW9ZEA=",
            "dtype": "f8"
           },
           "y": {
            "bdata": "AAAAAAAANEBMaBOOwR5IQExoE47BHlNAcxwdVSIuWkBMaBOOwZ5gQGBCmPFxJmRAcxwdVSKuZ0A=",
            "dtype": "f8"
           },
           "z": {
            "bdata": "AAAAAAAAAACuX8W9gm5IQK5fxb2CblhAwgdUDuJSYkCuX8W9gm5oQJm3Nm0jim5AwgdUDuJSckA=",
            "dtype": "f8"
           }
          },
          {
           "line": {
            "color": "orange",
            "width": 4
           },
           "marker": {
            "color": "orange",
            "size": 3
           },
           "mode": "lines+markers",
           "name": "🚀 H2",
           "type": "scatter3d",
           "x": {
            "bdata": "AAAAAACAccD3meElBPRwwO8zw0sIaHDAzJtJ4xi4b8C7zwwvIaBuwKoD0HopiG3AmTeTxjFwbMA=",
            "dtype": "f8"
           },
           "y": {
            "bdata": "AAAAAABAb0DZusjne0FuQLJ1kc/3Qm1AizBat3NEbEBk6yKf70VrQD2m64ZrR2pAFmG0budIaUA=",
            "dtype": "f8"
           },
           "z": {
            "bdata": "AAAAAADAd0Cdh9vbmbN3QHYebm9njndAicS3umhQd0DXebi9nfl2QGA+cHgGinZAIxLf6qIBdkA=",
            "dtype": "f8"
           }
          },
          {
           "line": {
            "color": "cyan",
            "dash": "dash",
            "width": 5
           },
           "marker": {
            "color": "cyan",
            "size": 4,
            "symbol": "diamond"
           },
           "mode": "lines+markers",
           "name": "🛡️ 브라보→H2",
           "type": "scatter3d",
           "x": {
            "bdata": "AAAAAAAARMDKwighTuJPwMrCKCFO4lXALiS9MXXTW8DKwighTuJgwHzzcqnh2mPALiS9MXXTZsA=",
            "dtype": "f8"
           },
           "y": {
            "bdata": "AAAAAAAAPsAA3BU5M4qRvxJ1Y+Y69z1AzpfKLGz5TUCJujFznXtWQCwp/s+E+l1A50tlFra8YkA=",
            "dtype": "f8"
           },
           "z": {
            "bdata": "AAAAAAAAAAAiftgEAOJGQCJ+2AQA4lZAmV6iA4ApYUAiftgEAOJmQKqdDgaAmmxAmV6iA4ApcUA=",
            "dtype": "f8"
           }
          },
          {
           "line": {
            "color": "green",
            "width": 4
           },
           "marker": {
            "color": "green",
            "size": 3
           },
           "mode": "lines+markers",
           "name": "🚀 H3",
           "type": "scatter3d",
           "x": {
            "bdata": "AAAAAAAAJEBk6yKf7wUgQJGti3y+FxhAWoTRup0jEEBEti7y+V4AQAD1mK4brq0/MN1zKRLj/r8=",
            "dtype": "f8"
           },
           "y": {
            "bdata": "AAAAAADgdcAjjNbtHCF1wEYYrds5YnTAaKSDyVajc8CLMFq3c+RywK68MKWQJXLA0UgHk61mccA=",
            "dtype": "f8"
           },
           "z": {
            "bdata": "AAAAAABAekCdh9vbmTN6QHYebm9nDnpAicS3umjQeUDXebi9nXl5QGA+cHgGCnlAIxLf6qKBeEA=",
            "dtype": "f8"
           }
          },
          {
           "line": {
            "color": "cyan",
            "dash": "dash",
            "width": 5
           },
           "marker": {
            "color": "cyan",
            "size": 4,
            "symbol": "diamond"
           },
           "mode": "lines+markers",
           "name": "🛡️ 브라보→H3",
           "type": "scatter3d",
           "x": {
            "bdata": "AAAAAAAARMBBREJ9NqJBwAQRCfXZiD7AhpmN70bNOcAIIhLqsxE1wIuqluQgVjDAGmY2vhs1J8A=",
            "dtype": "f8"
           },
           "y": {
            "bdata": "AAAAAAAAPsCG0job2IpOwIbSOhvYClfAyTvYKETQXsCG0job2EpjwCeHCSKOLWfAyTvYKEQQa8A=",
            "dtype": "f8"
           },
           "z": {
            "bdata": "AAAAAAAAAACaIb1YolhJQJohvViiWFlANNmNwnkCY0CaIb1YolhpQAFq7O7Krm9ANNmNwnkCc0A=",
            "dtype": "f8"
           }
          },
          {
           "line": {
            "color": "purple",
            "width": 4
           },
           "marker": {
            "color": "purple",
            "size": 3
           },
           "mode": "lines+markers",
           "name": "🚀 H4",
           "type": "scatter3d",
           "x": {
            "bdata": "AAAAAADAckDIdN1w7SByQI/puuHagXFAV16YUsjicEAf03XDtUNwQM2PpmhGSW9AXHlhSiELbkA=",
            "dtype": "f8"
           },
           "y": {
            "bdata": "AAAAAAAAJMClbljAOZclwEndsIBzLifA7ksJQa3FKMCTumEB51wqwDgpusEg9CvA3JcSglqLLcA=",
            "dtype": "f8"
           },
           "z": {
            "bdata": "AAAAAADgdUCdh9vbmdN1QHYebm9nrnVAicS3umhwdUDXebi9nRl1QGA+cHgGqnRAIxLf6qIhdEA=",
            "dtype": "f8"
           }
          },
          {
           "line": {
            "color": "blue",
            "dash": "dash",
            "width": 5
           },
           "marker": {
            "color": "blue",
            "size": 4,
            "symbol": "diamond"
           },
           "mode": "lines+markers",
           "name": "🛡️ 알파→H4",
           "type": "scatter3d",
           "x": {
            "bdata": "AAAAAAAASUAE5iwGpwVUQAjMWQxOi1tABllDiXqIYUAIzFkMTktlQAs/cI8hDmlADbKGEvXQbEA=",
            "dtype": "f8"
           },
           "y": {
            "bdata": "AAAAAAAANED3w0lHT80sQO6Hk46emiFAmC91V7efCUCQwGOLCysDwFhYHjfn+h/ANGhFVCQwK8A=",
            "dtype": "f8"
           },
           "z": {
            "bdata": "AAAAAAAAAACu0IyZ9ZlJQK7QjJn1mVlAgpwpM3gzY0Cu0IyZ9ZlpQG0C+H85AHBAgpwpM3gzc0A=",
            "dtype": "f8"
           }
          },
          {
           "line": {
            "color": "brown",
            "width": 4
           },
           "marker": {
            "color": "brown",
            "size": 3
           },
           "mode": "lines+markers",
           "name": "🚀 H5",
           "type": "scatter3d",
           "x": {
            "bdata": "AAAAAAAAacAjjNbtHEFowEYYrds5gmfAaKSDyVbDZsCLMFq3cwRmwK68MKWQRWXA0UgHk62GZMA=",
            "dtype": "f8"
           },
           "y": {
            "bdata": "AAAAAABAb8DZusjne0FuwLJ1kc/3Qm3AizBat3NEbMBk6yKf70VrwD2m64ZrR2rAFmG0budIacA=",
            "dtype": "f8"
           },
           "z": {
            "bdata": "AAAAAAAgfECdh9vbmRN8QHYebm9n7ntAicS3umiwe0DXebi9nVl7QGA+cHgG6npAIxLf6qJhekA=",
            "dtype": "f8"
           }
          },
          {
           "line": {
            "color": "cyan",
            "dash": "dash",
            "width": 5
           },
           "marker": {
            "color": "cyan",
            "size": 4,
            "symbol": "diamond"
           },
           "mode": "lines+markers",
           "name": "🛡️ 브라보→H5",
           "type": "scatter3d",
           "x": {
            "bdata": "AAAAAAAARMD4mzPrg5lLwPibM+uDmVHA9GnN4EVmVcDvN2fWBzNZwOsFAczJ/1zA9GnN4EVmYMA=",
            "dtype": "f8"
           },
           "y": {
            "bdata": "AAAAAAAAPsBh4G3m5ZJJwGHgbeblElLAktCk2VhcV8DCwNvMy6VcwHpYCWCf92DAktCk2VicY8A=",
            "dtype": "f8"
           },
           "z": {
            "bdata": "AAAAAAAAAABT5/NeXtVKQFPn815e1VpAf+02xwYgZEBT5/NeXtVqQJRwWPtaxXBAf+02xwYgdEA=",
            "dtype": "f8"
           }
          }
         ],
         "layout": {
          "title": {
           "text": "🚀 다중 위협 분산 대응 시스템 - 시간: 2.39초"
          }
         },
         "name": "57"
        },
        {
         "data": [
          {
           "marker": {
            "color": "red",
            "size": 20,
            "symbol": "diamond"
           },
           "mode": "markers",
           "name": "🏙️ 도시",
           "type": "scatter3d",
           "x": [
            0
           ],
           "y": [
            0
           ],
           "z": [
            0
           ]
          },
          {
           "marker": {
            "color": "blue",
            "size": 15,
            "symbol": "square"
           },
           "mode": "markers",
           "name": "🏭 알파 기지",
           "type": "scatter3d",
           "x": [
            50
           ],
           "y": [
            20
           ],
           "z": [
            0
           ]
          },
          {
           "marker": {
            "color": "cyan",
            "size": 15,
            "symbol": "square"
           },
           "mode": "markers",
           "name": "🏭 브라보 기지",
           "type": "scatter3d",
           "x": [
            -40
           ],
           "y": [
            -30
           ],
           "z": [
            0
           ]
          },
          {
           "line": {
            "color": "red",
            "width": 4
           },
           "marker": {
            "color": "red",
            "size": 3
           },
           "mode": "lines+markers",
           "name": "🚀 H1",
           "type": "scatter3d",
           "x": {
            "bdata": "AAAAAABAb0DmMufQBD1uQMxlzqEJOm1Aspi1cg43bECYy5xDEzRrQH7+gxQYMWpAZDFr5RwuaUA=",
            "dtype": "f8"
           },
           "y": {
            "bdata": "AAAAAADAckDQf5ACIx5yQJ//IAVGfHFAb3+xB2nacEA//0EKjDhwQB3+pBleLW9AvP3FHqTpbUA=",
            "dtype": "f8"
           },
           "z": {
            "bdata": "AAAAAAAAeUDIBiyCKfN4QCAbsAimzHhACD2Mk3WMeECAbMAimDJ4QImpTLYNv3dAIfQwTtYxd0A=",
            "dtype": "f8"
           }
          },
          {
           "line": {
            "color": "blue",
            "dash": "dash",
            "width": 5
           },
           "marker": {
            "color": "blue",
            "size": 4,
            "symbol": "diamond"
           },
           "mode": "lines+markers",
           "name": "🛡️ 알파→H1",
           "type": "scatter3d",
           "x": {
            "bdata": "AAAAAAAASUBq8vMeI2pRQNTk5z1GVFZAPtfbXGk+W0DU5Oc9RhRgQAreYc1XiWJAPtfbXGn+ZEA=",
            "dtype": "f8"
           },
           "y": {
            "bdata": "AAAAAAAANEBg7Lk/LF5IQGDsuT8sXlNAj+KWX0KNWkBg7Lk/LN5gQHhnqE+3dWRAj+KWX0INaEA=",
            "dtype": "f8"
           },
           "z": {
            "bdata": "AAAAAAAAAACnyOMsPdxIQKfI4yw93FhAfdaq4S2lYkCnyOMsPdxoQNG6HHhME29Afdaq4S2lckA=",
            "dtype": "f8"
           }
          },
          {
           "line": {
            "color": "orange",
            "width": 4
           },
           "marker": {
            "color": "orange",
            "size": 3
           },
           "mode": "lines+markers",
           "name": "🚀 H2",
           "type": "scatter3d",
           "x": {
            "bdata": "AAAAAACAccAyj+Vyj/FwwGMey+UeY3DAKlthsVypb8CNeSyXe4xuwPCX93yab23AVLbCYrlSbMA=",
            "dtype": "f8"
           },
           "y": {
            "bdata": "AAAAAABAb0DmMufQBD1uQMxlzqEJOm1Aspi1cg43bECYy5xDEzRrQH7+gxQYMWpAZDFr5RwuaUA=",
            "dtype": "f8"
           },
           "z": {
            "bdata": "AAAAAADAd0DIBiyCKbN3QCAbsAimjHdACD2Mk3VMd0CAbMAimPJ2QImpTLYNf3ZAIfQwTtbxdUA=",
            "dtype": "f8"
           }
          },
          {
           "line": {
            "color": "cyan",
            "dash": "dash",
            "width": 5
           },
           "marker": {
            "color": "cyan",
            "size": 4,
            "symbol": "diamond"
           },
           "mode": "lines+markers",
           "name": "🛡️ 브라보→H2",
           "type": "scatter3d",
           "x": {
            "bdata": "AAAAAAAARMDEDXPo1gtQwIkb5tCtF1bATSlZuYQjXMCJG+bQrRdhwGyiH0WZHWTATSlZuYQjZ8A=",
            "dtype": "f8"
           },
           "y": {
            "bdata": "AAAAAAAAPsBgZAJozEjgP0YmgMaMBD9AtBzglGnDTkAjE0BjRgJXQOwXEPzXol5AWg5wyrQhY0A=",
            "dtype": "f8"
           },
           "z": {
            "bdata": "AAAAAAAAAADDqB+ixUhHQMOoH6LFSFdAkr6XOZR2YUDDqB+ixUhnQPWSpwr3Gm1Akr6XOZR2cUA=",
            "dtype": "f8"
           }
          },
          {
           "line": {
            "color": "green",
            "width": 4
           },
           "marker": {
            "color": "green",
            "size": 3
           },
           "mode": "lines+markers",
           "name": "🚀 H3",
           "type": "scatter3d",
           "x": {
            "bdata": "AAAAAAAAJEAvlzmHJugfQF4ucw5N0BdAHItZK+dwD0DwcplzaIL+PwAFA/jWz72/yOlMqTEeAcA=",
            "dtype": "f8"
           },
           "y": {
            "bdata": "AAAAAADgdcAsZq2cwx11wFnMWjmHW3TAhTII1kqZc8CymLVyDtdywN7+Yg/SFHLACmUQrJVSccA=",
            "dtype": "f8"
           },
           "z": {
            "bdata": "AAAAAABAekDIBiyCKTN6QCAbsAimDHpACD2Mk3XMeUCAbMAimHJ5QImpTLYN/3hAIfQwTtZxeEA=",
            "dtype": "f8"
           }
          },
          {
           "line": {
            "color": "cyan",
            "dash": "dash",
            "width": 5
           },
           "marker": {
            "color": "cyan",
            "size": 4,
            "symbol": "diamond"
           },
           "mode": "lines+markers",
           "name": "🛡️ 브라보→H3",
           "type": "scatter3d",
           "x": {
            "bdata": "AAAAAAAARMADJtPClZdBwA6YTAtXXj7AFOTykIKNOcAbMJkWrrw0wEL4fjiz1y/AUpDLQwo2JsA=",
            "dtype": "f8"
           },
           "y": {
            "bdata": "AAAAAAAAPsBWl8IAptBOwFaXwgCmUFfAAeMjAfk4X8BWl8IAppBjwCw984DPhGfAAeMjAfl4a8A=",
            "dtype": "f8"
           },
           "z": {
            "bdata": "AAAAAAAAAADtqFRIeMpJQO2oVEh4yllAsX4/NtpXY0DtqFRIeMppQJXpNC2LHnBAsX4/NtpXc0A=",
            "dtype": "f8"
           }
          },
          {
           "line": {
            "color": "purple",
            "width": 4
           },
           "marker": {
            "color": "purple",
            "size": 3
           },
           "mode": "lines+markers",
           "name": "🚀 H4",
           "type": "scatter3d",
           "x": {
            "bdata": "AAAAAADAckDQf5ACIx5yQJ//IAVGfHFAb3+xB2nacEA//0EKjDhwQB3+pBleLW9AvP3FHqTpbUA=",
            "dtype": "f8"
           },
           "y": {
            "bdata": "AAAAAAAAJMAqSMGxXp4lwFSQgmO9PCfAfdhDFRzbKMCnIAXHenkqwNFoxnjZFyzA+rCHKji2LcA=",
            "dtype": "f8"
           },
           "z": {
            "bdata": "AAAAAADgdUDIBiyCKdN1QCAbsAimrHVACD2Mk3VsdUCAbMAimBJ1QImpTLYNn3RAIfQwTtYRdEA=",
            "dtype": "f8"
           }
          },
          {
           "line": {
            "color": "blue",
            "dash": "dash",
            "width": 5
           },
           "marker": {
            "color": "blue",
            "size": 4,
            "symbol": "diamond"
           },
           "mode": "lines+markers",
           "name": "🛡️ 알파→H4",
           "type": "scatter3d",
           "x": {
            "bdata": "AAAAAAAASUAABYORbydUQP8JBiPfzltAf4dEWie7YUD/CQYj345lQH+Mx+uWYmlA/g6JtE42bUA=",
            "dtype": "f8"
           },
           "y": {
            "bdata": "AAAAAAAANEAScoVRBJssQCXkCqMINiFA4FhB0jNEB0DY3qjnuk8GwKbFZGjq+CDAkFPfFuZdLMA=",
            "dtype": "f8"
           },
           "z": {
            "bdata": "AAAAAAAAAAC9BRbt8AxKQL0FFu3wDFpAToTQsbSJY0C9BRbt8AxqQJfDLZQWSHBAToTQsbSJc0A=",
            "dtype": "f8"
           }
          },
          {
           "line": {
            "color": "brown",
            "width": 4
           },
           "marker": {
            "color": "brown",
            "size": 3
           },
           "mode": "lines+markers",
           "name": "🚀 H5",
           "type": "scatter3d",
           "x": {
            "bdata": "AAAAAAAAacAsZq2cwz1owFnMWjmHe2fAhTII1kq5ZsCymLVyDvdlwN7+Yg/SNGXACmUQrJVyZMA=",
            "dtype": "f8"
           },
           "y": {
            "bdata": "AAAAAABAb8DmMufQBD1uwMxlzqEJOm3Aspi1cg43bMCYy5xDEzRrwH7+gxQYMWrAZDFr5RwuacA=",
            "dtype": "f8"
           },
           "z": {
            "bdata": "AAAAAAAgfEDIBiyCKRN8QCAbsAim7HtACD2Mk3Wse0CAbMAimFJ7QImpTLYN33pAIfQwTtZRekA=",
            "dtype": "f8"
           }
          },
          {
           "line": {
            "color": "cyan",
            "dash": "dash",
            "width": 5
           },
           "marker": {
            "color": "cyan",
            "size": 4,
            "symbol": "diamond"
           },
           "mode": "lines+markers",
           "name": "🛡️ 브라보→H5",
           "type": "scatter3d",
           "x": {
            "bdata": "AAAAAAAARMAyo/WrpbtLwDKj9aulu1HAynTwgXiZVcBjRutXS3dZwPwX5i0eVV3AynTwgXiZYMA=",
            "dtype": "f8"
           },
           "y": {
            "bdata": "AAAAAAAAPsBV21QyY8JJwFXbVDJjQlLA/0h/y5SjV8CqtqlkxgRdwCoS6v77MmHA/0h/y5TjY8A=",
            "dtype": "f8"
           },
           "z": {
            "bdata": "AAAAAAAAAADs1KtF4k1LQOzUq0XiTVtAsd9AtGl6ZEDs1KtF4k1rQBRli2utEHFAsd9AtGl6dEA=",
            "dtype": "f8"
           }
          }
         ],
         "layout": {
          "title": {
           "text": "🚀 다중 위협 분산 대응 시스템 - 시간: 2.43초"
          }
         },
         "name": "58"
        },
        {
         "data": [
          {
           "marker": {
            "color": "red",
            "size": 20,
            "symbol": "diamond"
           },
           "mode": "markers",
           "name": "🏙️ 도시",
           "type": "scatter3d",
           "x": [
            0
           ],
           "y": [
            0
           ],
           "z": [
            0
           ]
          },
          {
           "marker": {
            "color": "blue",
            "size": 15,
            "symbol": "square"
           },
           "mode": "markers",
           "name": "🏭 알파 기지",
           "type": "scatter3d",
           "x": [
            50
           ],
           "y": [
            20
           ],
           "z": [
            0
           ]
          },
          {
           "marker": {
            "color": "cyan",
            "size": 15,
            "symbol": "square"
           },
           "mode": "markers",
           "name": "🏭 브라보 기지",
           "type": "scatter3d",
           "x": [
            -40
           ],
           "y": [
            -30
           ],
           "z": [
            0
           ]
          },
          {
           "line": {
            "color": "red",
            "width": 4
           },
           "marker": {
            "color": "red",
            "size": 3
           },
           "mode": "lines+markers",
           "name": "🚀 H1",
           "type": "scatter3d",
           "x": {
            "bdata": "AAAAAABAb0DzqgW6jThuQOVVC3QbMW1A2AARLqkpbEDLqxboNiJrQL5WHKLEGmpAsAEiXFITaUA=",
            "dtype": "f8"
           },
           "y": {
            "bdata": "AAAAAADAckDYikOUWBtyQK8VhyixdnFAh6DKvAnScEBfKw5RYi1wQG1so8p1EW9AHIIq8ybIbUA=",
            "dtype": "f8"
           },
           "z": {
            "bdata": "AAAAAAAAeUBBf0g0t/J4QAX9IdHcynhATHmM1nCIeEAV9IdEcyt4QGBtFBvks3dALuUxWsMhd0A=",
            "dtype": "f8"
           }
          },
          {
           "line": {
            "color": "blue",
            "dash": "dash",
            "width": 5
           },
           "marker": {
            "color": "blue",
            "size": 4,
            "symbol": "diamond"
           },
           "mode": "lines+markers",
           "name": "🛡️ 알파→H1",
           "type": "scatter3d",
           "x": {
            "bdata": "AAAAAAAASUAu8jVH1H9RQF3ka46of1ZAjNah1Xx/W0Bd5GuOqD9gQHTdBrKSv2JAjNah1Xw/ZUA=",
            "dtype": "f8"
           },
           "y": {
            "bdata": "AAAAAAAANEBzcGDxlp1IQHNwYPGWnVNAragQamLsWkBzcGDxlh1hQJCMuK38xGRAragQamJsaEA=",
            "dtype": "f8"
           },
           "z": {
            "bdata": "AAAAAAAAAAChMQKc90lJQKExApz3SVlAOaUBtXn3YkChMQKc90lpQAq+AoN1nG9AOaUBtXn3ckA=",
            "dtype": "f8"
           }
          },
          {
           "line": {
            "color": "orange",
            "width": 4
           },
           "marker": {
            "color": "orange",
            "size": 3
           },
           "mode": "lines+markers",
           "name": "🚀 H2",
           "type": "scatter3d",
           "x": {
            "bdata": "AAAAAACAccBshOm/Gu9wwNgI0381XnDAhxp5f6Cab8BfI0z/1XhuwDcsH38LV23ADjXy/kA1bMA=",
            "dtype": "f8"
           },
           "y": {
            "bdata": "AAAAAABAb0DzqgW6jThuQOVVC3QbMW1A2AARLqkpbEDLqxboNiJrQL5WHKLEGmpAsAEiXFITaUA=",
            "dtype": "f8"
           },
           "z": {
            "bdata": "AAAAAADAd0BBf0g0t7J3QAX9IdHcindATHmM1nBId0AV9IdEc+t2QGBtFBvkc3ZALuUxWsPhdUA=",
            "dtype": "f8"
           }
          },
          {
           "line": {
            "color": "cyan",
            "dash": "dash",
            "width": 5
           },
           "marker": {
            "color": "cyan",
            "size": 4,
            "symbol": "diamond"
           },
           "mode": "lines+markers",
           "name": "🛡️ 브라보→H2",
           "type": "scatter3d",
           "x": {
            "bdata": "AAAAAAAARMAlulHAhiZQwEp0o4ANTVbAbi71QJRzXMBKdKOADU1hwFxRzOBQYGTAbi71QJRzZ8A=",
            "dtype": "f8"
           },
           "y": {
            "bdata": "AAAAAAAAPsDwu+Y09Y7wP79rTlPvCEBAnqH1/GaNT0C/a05T74hXQK4GIigrS19Az9B6frOGY0A=",
            "dtype": "f8"
           },
           "z": {
            "bdata": "AAAAAAAAAABm02Y/i69HQGbTZj+Lr1dAjB6Nb6jDYUBm02Y/i69nQD+IQA9um21AjB6Nb6jDcUA=",
            "dtype": "f8"
           }
          },
          {
           "line": {
            "color": "green",
            "width": 4
           },
           "marker": {
            "color": "green",
            "size": 3
           },
           "mode": "lines+markers",
           "name": "🚀 H3",
           "type": "scatter3d",
           "x": {
            "bdata": "AAAAAAAAJECWVy3QbcQfQCuvWqDbiBdAgA0Q4ZKaDkBYedUC3Ub8P0Ch1PGundK/AOXfPdrKAsA=",
            "dtype": "f8"
           },
           "y": {
            "bdata": "AAAAAADgdcA2QIRLahp1wGyACJfUVHTAosCM4j6Pc8DYABEuqclywA5BlXkTBHLARIEZxX0+ccA=",
            "dtype": "f8"
           },
           "z": {
            "bdata": "AAAAAABAekBBf0g0tzJ6QAX9IdHcCnpATHmM1nDIeUAV9IdEc2t5QGBtFBvk83hALuUxWsNheEA=",
            "dtype": "f8"
           }
          },
          {
           "line": {
            "color": "cyan",
            "dash": "dash",
            "width": 5
           },
           "marker": {
            "color": "cyan",
            "size": 4,
            "symbol": "diamond"
           },
           "mode": "lines+markers",
           "name": "🛡️ 브라보→H3",
           "type": "scatter3d",
           "x": {
            "bdata": "AAAAAAAARMDGB2QI9YxBwBYfkCHUMz7Aoi5YMr5NOcAtPiBDqGc0wHCb0KckAy/Ahrpgyfg2JcA=",
            "dtype": "f8"
           },
           "y": {
            "bdata": "AAAAAAAAPsAnXErmcxZPwCdcSuZzllfAO4pv2a2hX8AnXErmc9ZjwDHz3N8Q3GfAO4pv2a3ha8A=",
            "dtype": "f8"
           },
           "z": {
            "bdata": "AAAAAAAAAABBMOw3TjxKQEEw7DdOPFpAMSTxqTqtY0BBMOw3TjxqQCme8+KwZXBAMSTxqTqtc0A=",
            "dtype": "f8"
           }
          },
          {
           "line": {
            "color": "purple",
            "width": 4
           },
           "marker": {
            "color": "purple",
            "size": 3
           },
           "mode": "lines+markers",
           "name": "🚀 H4",
           "type": "scatter3d",
           "x": {
            "bdata": "AAAAAADAckDYikOUWBtyQK8VhyixdnFAh6DKvAnScEBfKw5RYi1wQG1so8p1EW9AHIIq8ybIbUA=",
            "dtype": "f8"
           },
           "y": {
            "bdata": "AAAAAAAAJMCvISqjg6UlwF5DVEYHSyfADWV+6YrwKMC8hqiMDpYqwGqo0i+SOyzAGsr80hXhLcA=",
            "dtype": "f8"
           },
           "z": {
            "bdata": "AAAAAADgdUBBf0g0t9J1QAX9IdHcqnVATHmM1nBodUAV9IdEcwt1QGBtFBvkk3RALuUxWsMBdEA=",
            "dtype": "f8"
           }
          },
          {
           "line": {
            "color": "blue",
            "dash": "dash",
            "width": 5
           },
           "marker": {
            "color": "blue",
            "size": 4,
            "symbol": "diamond"
           },
           "mode": "lines+markers",
           "name": "🛡️ 알파→H4",
           "type": "scatter3d",
           "x": {
            "bdata": "AAAAAAAASUD7I9kcOElUQPZHsjlwElxA+bVFK9TtYUD2R7I5cNJlQPTZHkgMt2lA8muLVqibbUA=",
            "dtype": "f8"
           },
           "y": {
            "bdata": "AAAAAAAANEAtIMFbuWgsQFpAgrdy0SBAGIINTbDoBEAw/e1DanQJwCBfOjVh9CHA9D552aeLLcA=",
            "dtype": "f8"
           },
           "z": {
            "bdata": "AAAAAAAAAADOOp9A7H9KQM46n0Dsf1pAG2x3MPHfY0DOOp9A7H9qQMGEY6jzj3BAG2x3MPHfc0A=",
            "dtype": "f8"
           }
          },
          {
           "line": {
            "color": "brown",
            "width": 4
           },
           "marker": {
            "color": "brown",
            "size": 3
           },
           "mode": "lines+markers",
           "name": "🚀 H5",
           "type": "scatter3d",
           "x": {
            "bdata": "AAAAAAAAacA2QIRLajpowGyACJfUdGfAosCM4j6vZsDYABEuqellwA5BlXkTJGXARIEZxX1eZMA=",
            "dtype": "f8"
           },
           "y": {
            "bdata": "AAAAAABAb8DzqgW6jThuwOVVC3QbMW3A2AARLqkpbMDLqxboNiJrwL5WHKLEGmrAsAEiXFITacA=",
            "dtype": "f8"
           },
           "z": {
            "bdata": "AAAAAAAgfEBBf0g0txJ8QAX9IdHc6ntATHmM1nCoe0AV9IdEc0t7QGBtFBvk03pALuUxWsNBekA=",
            "dtype": "f8"
           }
          },
          {
           "line": {
            "color": "cyan",
            "dash": "dash",
            "width": 5
           },
           "marker": {
            "color": "cyan",
            "size": 4,
            "symbol": "diamond"
           },
           "mode": "lines+markers",
           "name": "🛡️ 브라보→H5",
           "type": "scatter3d",
           "x": {
            "bdata": "AAAAAAAARMBsqrdsx91LwGyqt2zH3VHAon8TI6vMVcDYVG/ZjrtZwA4qy49yql3Aon8TI6vMYMA=",
            "dtype": "f8"
           },
           "y": {
            "bdata": "AAAAAAAAPsBK1jt+4PFJwErWO37gcVLAbsFZvdDqV8CTrHf8wGNdwNzLyp1YbmHAbsFZvdAqZMA=",
            "dtype": "f8"
           },
           "z": {
            "bdata": "AAAAAAAAAACHwmMsZsZLQIfCYyxmxltA5dFKoczUZECHwmMsZsZrQJVZvtv/W3FA5dFKoczUdEA=",
            "dtype": "f8"
           }
          }
         ],
         "layout": {
          "title": {
           "text": "🚀 다중 위협 분산 대응 시스템 - 시간: 2.47초"
          }
         },
         "name": "59"
        },
        {
         "data": [
          {
           "marker": {
            "color": "red",
            "size": 20,
            "symbol": "diamond"
           },
           "mode": "markers",
           "name": "🏙️ 도시",
           "type": "scatter3d",
           "x": [
            0
           ],
           "y": [
            0
           ],
           "z": [
            0
           ]
          },
          {
           "marker": {
            "color": "blue",
            "size": 15,
            "symbol": "square"
           },
           "mode": "markers",
           "name": "🏭 알파 기지",
           "type": "scatter3d",
           "x": [
            50
           ],
           "y": [
            20
           ],
           "z": [
            0
           ]
          },
          {
           "marker": {
            "color": "cyan",
            "size": 15,
            "symbol": "square"
           },
           "mode": "markers",
           "name": "🏭 브라보 기지",
           "type": "scatter3d",
           "x": [
            -40
           ],
           "y": [
            -30
           ],
           "z": [
            0
           ]
          },
          {
           "line": {
            "color": "red",
            "width": 4
           },
           "marker": {
            "color": "red",
            "size": 3
           },
           "mode": "lines+markers",
           "name": "🚀 H1",
           "type": "scatter3d",
           "x": {
            "bdata": "AAAAAABAb0D/IiSjFjRuQP9FSEYtKG1A/mhs6UMcbED+i5CMWhBrQP2utC9xBGpA/dHY0of4aEA=",
            "dtype": "f8"
           },
           "y": {
            "bdata": "AAAAAADAckDglfYljhhyQL8r7UsccXFAn8HjcarJcEB/V9qXOCJwQLzaoXuN9W5AfAaPx6mmbUA=",
            "dtype": "f8"
           },
           "z": {
            "bdata": "AAAAAAAAeUAJ8TDyQvJ4QCXEw8gLyXhAU3m4g1qEeECTEA8jLyR4QOaJx6aJqHdAS+XhDmoRd0A=",
            "dtype": "f8"
           }
          },
          {
           "line": {
            "color": "blue",
            "dash": "dash",
            "width": 5
           },
           "marker": {
            "color": "blue",
            "size": 4,
            "symbol": "diamond"
           },
           "mode": "lines+markers",
           "name": "🛡️ 알파→H1",
           "type": "scatter3d",
           "x": {
            "bdata": "AAAAAAAASUDy8XdvhZVRQOXj794Kq1ZA2NVnTpDAW0Dl4+/eCmtgQN7cq5bN9WJA2NVnTpCAZUA=",
            "dtype": "f8"
           },
           "y": {
            "bdata": "AAAAAAAANECG9AajAd1IQIb0BqMB3VNAyW6KdIJLW0CG9AajAV1hQKmxyAtCFGVAyW6KdILLaEA=",
            "dtype": "f8"
           },
           "z": {
            "bdata": "AAAAAAAAAACbmiALsrdJQJuaIAuyt1lA9HNYiMVJY0CbmiALsrdpQKJg9EbPEnBA9HNYiMVJc0A=",
            "dtype": "f8"
           }
          },
          {
           "line": {
            "color": "orange",
            "width": 4
           },
           "marker": {
            "color": "orange",
            "size": 3
           },
           "mode": "lines+markers",
           "name": "🚀 H2",
           "type": "scatter3d",
           "x": {
            "bdata": "AAAAAACAccCmee0MpuxwwEzz2hlMWXDA5dmQTeSLb8AxzWtnMGVuwH3ARoF8Pm3AybMhm8gXbMA=",
            "dtype": "f8"
           },
           "y": {
            "bdata": "AAAAAABAb0D/IiSjFjRuQP9FSEYtKG1A/mhs6UMcbED+i5CMWhBrQP2utC9xBGpA/dHY0of4aEA=",
            "dtype": "f8"
           },
           "z": {
            "bdata": "AAAAAADAd0AJ8TDyQrJ3QCXEw8gLiXdAU3m4g1pEd0CTEA8jL+R2QOaJx6aJaHZAS+XhDmrRdUA=",
            "dtype": "f8"
           }
          },
          {
           "line": {
            "color": "cyan",
            "dash": "dash",
            "width": 5
           },
           "marker": {
            "color": "cyan",
            "size": 4,
            "symbol": "diamond"
           },
           "mode": "lines+markers",
           "name": "🛡️ 브라보→H2",
           "type": "scatter3d",
           "x": {
            "bdata": "AAAAAAAARMCFZjCYNkFQwArNYDBtglbAjjORyKPDXMAKzWAwbYJhwE0AeXwIo2TAjjORyKPDZ8A=",
            "dtype": "f8"
           },
           "y": {
            "bdata": "AAAAAAAAPsCgRcw1hPn4P1rEXEOYj0BAQ5OFMrIrUEBaxFxDmA9YQHL1M1R+819AQ5OFMrLrY0A=",
            "dtype": "f8"
           },
           "z": {
            "bdata": "AAAAAAAAAAAI/q3cUBZIQAj+rdxQFlhAhn6CpbwQYkAI/q3cUBZoQIt92RPlG25Ahn6CpbwQckA=",
            "dtype": "f8"
           }
          },
          {
           "line": {
            "color": "green",
            "width": 4
           },
           "marker": {
            "color": "green",
            "size": 3
           },
           "mode": "lines+markers",
           "name": "🚀 H3",
           "type": "scatter3d",
           "x": {
            "bdata": "AAAAAAAAJED8FyEZtaAfQPcvQjJqQRdA5o/Glj7EDUC4fxGSUQv6P2CBqCVox92/NOBy0oJ3BMA=",
            "dtype": "f8"
           },
           "y": {
            "bdata": "AAAAAADgdcBAGlv6EBd1wH80tvQhTnTAv04R7zKFc8D+aGzpQ7xywD6Dx+NU83HAfp0i3mUqccA=",
            "dtype": "f8"
           },
           "z": {
            "bdata": "AAAAAABAekAJ8TDyQjJ6QCXEw8gLCXpAU3m4g1rEeUCTEA8jL2R5QOaJx6aJ6HhAS+XhDmpReEA=",
            "dtype": "f8"
           }
          },
          {
           "line": {
            "color": "cyan",
            "dash": "dash",
            "width": 5
           },
           "marker": {
            "color": "cyan",
            "size": 4,
            "symbol": "diamond"
           },
           "mode": "lines+markers",
           "name": "🛡️ 브라보→H3",
           "type": "scatter3d",
           "x": {
            "bdata": "AAAAAAAARMCI6fRNVIJBwCCm0zdRCT7AMHm90/kNOcA/TKdvohI0wJw+IheWLi7AvuT1Tuc3JMA=",
            "dtype": "f8"
           },
           "y": {
            "bdata": "AAAAAAAAPsD4INLLQVxPwPgg0stB3FfAupjdWDEFYMD4INLLQRxkwDepxj5SM2jAdDG7sWJKbMA=",
            "dtype": "f8"
           },
           "z": {
            "bdata": "AAAAAAAAAACUt4MnJK5KQJS3gyckrlpAr8miHZsCZECUt4MnJK5qQL5SspjWrHBAr8miHZsCdEA=",
            "dtype": "f8"
           }
          },
          {
           "marker": {
            "color": "gold",
            "size": 20,
            "symbol": "x"
           },
           "mode": "markers",
           "name": "💥 H4 요격완료",
           "type": "scatter3d",
           "x": [
            237.9094178462401
           ],
           "y": [
            -14.967246572300791
           ],
           "z": [
            319.7749153252084
           ]
          },
          {
           "line": {
            "color": "brown",
            "width": 4
           },
           "marker": {
            "color": "brown",
            "size": 3
           },
           "mode": "lines+markers",
           "name": "🚀 H5",
           "type": "scatter3d",
           "x": {
            "bdata": "AAAAAAAAacBAGlv6EDdowH80tvQhbmfAv04R7zKlZsD+aGzpQ9xlwD6Dx+NUE2XAfp0i3mVKZMA=",
            "dtype": "f8"
           },
           "y": {
            "bdata": "AAAAAABAb8D/IiSjFjRuwP9FSEYtKG3A/mhs6UMcbMD+i5CMWhBrwP2utC9xBGrA/dHY0of4aMA=",
            "dtype": "f8"
           },
           "z": {
            "bdata": "AAAAAAAgfEAJ8TDyQhJ8QCXEw8gL6XtAU3m4g1qke0CTEA8jL0R7QOaJx6aJyHpAS+XhDmoxekA=",
            "dtype": "f8"
           }
          },
          {
           "line": {
            "color": "cyan",
            "dash": "dash",
            "width": 5
           },
           "marker": {
            "color": "cyan",
            "size": 4,
            "symbol": "diamond"
           },
           "mode": "lines+markers",
           "name": "🛡️ 브라보→H5",
           "type": "scatter3d",
           "x": {
            "bdata": "AAAAAAAARMCmsXkt6f9LwKaxeS3p/1HAeYo2xN3/VcBMY/Na0v9ZwCA8sPHG/13AeYo2xN3/YMA=",
            "dtype": "f8"
           },
           "y": {
            "bdata": "AAAAAAAAPsA+0SLKXSFKwD7RIspdoVLA3Dk0rwwyWMB7okWUu8JdwI6Fqzy1qWHA3Dk0rwxyZMA=",
            "dtype": "f8"
           },
           "z": {
            "bdata": "AAAAAAAAAAAhsBsT6j5MQCGwGxPqPlxAGcRUji8vZUAhsBsT6j5sQBZO8UtSp3FAGcRUji8vdUA=",
            "dtype": "f8"
           }
          }
         ],
         "layout": {
          "title": {
           "text": "🚀 다중 위협 분산 대응 시스템 - 시간: 2.51초"
          }
         },
         "name": "60"
        },
        {
         "data": [
          {
           "marker": {
            "color": "red",
            "size": 20,
            "symbol": "diamond"
           },
           "mode": "markers",
           "name": "🏙️ 도시",
           "type": "scatter3d",
           "x": [
            0
           ],
           "y": [
            0
           ],
           "z": [
            0
           ]
          },
          {
           "marker": {
            "color": "blue",
            "size": 15,
            "symbol": "square"
           },
           "mode": "markers",
           "name": "🏭 알파 기지",
           "type": "scatter3d",
           "x": [
            50
           ],
           "y": [
            20
           ],
           "z": [
            0
           ]
          },
          {
           "marker": {
            "color": "cyan",
            "size": 15,
            "symbol": "square"
           },
           "mode": "markers",
           "name": "🏭 브라보 기지",
           "type": "scatter3d",
           "x": [
            -40
           ],
           "y": [
            -30
           ],
           "z": [
            0
           ]
          },
          {
           "line": {
            "color": "red",
            "width": 4
           },
           "marker": {
            "color": "red",
            "size": 3
           },
           "mode": "lines+markers",
           "name": "🚀 H1",
           "type": "scatter3d",
           "x": {
            "bdata": "AAAAAABAb0AMm0KMny9uQBg2hRg/H21AJdHHpN4ObEAxbAoxfv5qQD0HTb0d7mlASqKPSb3daEA=",
            "dtype": "f8"
           },
           "y": {
            "bdata": "AAAAAADAckDooKm3wxVyQM9BU2+Ha3FAt+L8JkvBcECfg6beDhdwQAxJoCyl2W5A3IrzmyyFbUA=",
            "dtype": "f8"
           },
           "z": {
            "bdata": "AAAAAAAAeUAgXOW7zPF4QH9wle8yx3hAHj0QmzKAeED8wVW+yxx4QBr/ZVn+nHdAePRAbMoAd0A=",
            "dtype": "f8"
           }
          },
          {
           "line": {
            "color": "blue",
            "dash": "dash",
            "width": 5
           },
           "marker": {
            "color": "blue",
            "size": 4,
            "symbol": "diamond"
           },
           "mode": "lines+markers",
           "name": "🛡️ 알파→H1",
           "type": "scatter3d",
           "x": {
            "bdata": "AAAAAAAASUC28bmXNqtRQG3jcy9t1lZAJNUtx6MBXEBt43MvbZZgQEjcUHsILGNAJNUtx6PBZUA=",
            "dtype": "f8"
           },
           "y": {
            "bdata": "AAAAAAAANECaeK1UbBxJQJp4rVRsHFRA5jQEf6KqW0CaeK1UbJxhQMDW2GmHY2VA5jQEf6IqaUA=",
            "dtype": "f8"
           },
           "z": {
            "bdata": "AAAAAAAAAACVAz96bCVKQJUDP3psJVpAsEKvWxGcY0CVAz96bCVqQD1iZ8xjV3BAsEKvWxGcc0A=",
            "dtype": "f8"
           }
          },
          {
           "line": {
            "color": "orange",
            "width": 4
           },
           "marker": {
            "color": "orange",
            "size": 3
           },
           "mode": "lines+markers",
           "name": "🚀 H2",
           "type": "scatter3d",
           "x": {
            "bdata": "AAAAAACAccDgbvFZMepwwMHd4rNiVHDAQpmoGyh9b8ADd4vPilFuwMRUboPtJW3AhDJRN1D6a8A=",
            "dtype": "f8"
           },
           "y": {
            "bdata": "AAAAAABAb0AMm0KMny9uQBg2hRg/H21AJdHHpN4ObEAxbAoxfv5qQD0HTb0d7mlASqKPSb3daEA=",
            "dtype": "f8"
           },
           "z": {
            "bdata": "AAAAAADAd0AgXOW7zLF3QH9wle8yh3dAHj0QmzJAd0D8wVW+y9x2QBr/ZVn+XHZAePRAbMrAdUA=",
            "dtype": "f8"
           }
          },
          {
           "line": {
            "color": "cyan",
            "dash": "dash",
            "width": 5
           },
           "marker": {
            "color": "cyan",
            "size": 4,
            "symbol": "diamond"
           },
           "mode": "lines+markers",
           "name": "🛡️ 브라보→H2",
           "type": "scatter3d",
           "x": {
            "bdata": "AAAAAAAARMDlEg9w5ltQwMolHuDMt1bArzgtULMTXcDKJR7gzLdhwDyvJRjA5WTArzgtULMTaMA=",
            "dtype": "f8"
           },
           "y": {
            "bdata": "AAAAAAAAPsCg51ibCbIAQPQcazNBFkFAt1WQ5rCQUED0HGszQZZYQBnyIsDoTWBAt1WQ5rBQZEA=",
            "dtype": "f8"
           },
           "z": {
            "bdata": "AAAAAAAAAACqKPV5Fn1IQKoo9XkWfVhAf95329BdYkCqKPV5Fn1oQNRychhcnG5Af95329BdckA=",
            "dtype": "f8"
           }
          },
          {
           "line": {
            "color": "green",
            "width": 4
           },
           "marker": {
            "color": "green",
            "size": 3
           },
           "mode": "lines+markers",
           "name": "🚀 H3",
           "type": "scatter3d",
           "x": {
            "bdata": "AAAAAAAAJEBi2BRi/HwfQMSwKcT4+RZATBJ9TOrtDEAghk0hxs/3P7AwvqyQeOS/aNsFZyskBsA=",
            "dtype": "f8"
           },
           "y": {
            "bdata": "AAAAAADgdcBJ9DGptxN1wJLoY1JvR3TA3NyV+yZ7c8Al0cek3q5ywG7F+U2W4nHAt7kr900WccA=",
            "dtype": "f8"
           },
           "z": {
            "bdata": "AAAAAABAekAgXOW7zDF6QH9wle8yB3pAHj0QmzLAeUD8wVW+y1x5QBr/ZVn+3HhAePRAbMpAeEA=",
            "dtype": "f8"
           }
          },
          {
           "line": {
            "color": "cyan",
            "dash": "dash",
            "width": 5
           },
           "marker": {
            "color": "cyan",
            "size": 4,
            "symbol": "diamond"
           },
           "mode": "lines+markers",
           "name": "🛡️ 브라보→H3",
           "type": "scatter3d",
           "x": {
            "bdata": "AAAAAAAARMBKy4WTs3dBwCktF07O3j3AvcMidTXOOMBSWi6cnL0zwMzhc4YHWi3A9A6L1NU4I8A=",
            "dtype": "f8"
           },
           "y": {
            "bdata": "AAAAAAAAPsDJ5VmxD6JPwMnlWbEPIljAVmwDxYs5YMDJ5VmxD2JkwDtfsJ2TimjArdgGihezbMA=",
            "dtype": "f8"
           },
           "z": {
            "bdata": "AAAAAAAAAADoPhsX+h9LQOg+Gxf6H1tALm9UkftXZEDoPhsX+h9rQFEHcU7883BALm9UkftXdEA=",
            "dtype": "f8"
           }
          },
          {
           "marker": {
            "color": "gold",
            "size": 20,
            "symbol": "x"
           },
           "mode": "markers",
           "name": "💥 H4 요격완료",
           "type": "scatter3d",
           "x": [
            237.9094178462401
           ],
           "y": [
            -14.967246572300791
           ],
           "z": [
            319.7749153252084
           ]
          },
          {
           "line": {
            "color": "brown",
            "width": 4
           },
           "marker": {
            "color": "brown",
            "size": 3
           },
           "mode": "lines+markers",
           "name": "🚀 H5",
           "type": "scatter3d",
           "x": {
            "bdata": "AAAAAAAAacBJ9DGptzNowJLoY1JvZ2fA3NyV+yabZsAl0cek3s5lwG7F+U2WAmXAt7kr9002ZMA=",
            "dtype": "f8"
           },
           "y": {
            "bdata": "AAAAAABAb8AMm0KMny9uwBg2hRg/H23AJdHHpN4ObMAxbAoxfv5qwD0HTb0d7mnASqKPSb3daMA=",
            "dtype": "f8"
           },
           "z": {
            "bdata": "AAAAAAAgfEAgXOW7zBF8QH9wle8y53tAHj0QmzKge0D8wVW+yzx7QBr/ZVn+vHpAePRAbMogekA=",
            "dtype": "f8"
           }
          },
          {
           "line": {
            "color": "cyan",
            "dash": "dash",
            "width": 5
           },
           "marker": {
            "color": "cyan",
            "size": 4,
            "symbol": "diamond"
           },
           "mode": "lines+markers",
           "name": "🛡️ 브라보→H5",
           "type": "scatter3d",
           "x": {
            "bdata": "AAAAAAAARMDguDvuCiJMwOC4O+4KIlLAUJVZZRAzVsDAcXfcFURawDBOlVMbVV7AUJVZZRAzYcA=",
            "dtype": "f8"
           },
           "y": {
            "bdata": "AAAAAAAAPsAyzAkW21BKwDLMCRbb0FLAS7IOoUh5WMBjmBMstiFewD4/jNsR5WHAS7IOoUi5ZMA=",
            "dtype": "f8"
           },
           "z": {
            "bdata": "AAAAAAAAAAC7ndP5bbdMQLud0/ltt1xATLZee5KJZUC7ndP5bbdsQJVCJLyk8nFATLZee5KJdUA=",
            "dtype": "f8"
           }
          }
         ],
         "layout": {
          "title": {
           "text": "🚀 다중 위협 분산 대응 시스템 - 시간: 2.55초"
          }
         },
         "name": "61"
        },
        {
         "data": [
          {
           "marker": {
            "color": "red",
            "size": 20,
            "symbol": "diamond"
           },
           "mode": "markers",
           "name": "🏙️ 도시",
           "type": "scatter3d",
           "x": [
            0
           ],
           "y": [
            0
           ],
           "z": [
            0
           ]
          },
          {
           "marker": {
            "color": "blue",
            "size": 15,
            "symbol": "square"
           },
           "mode": "markers",
           "name": "🏭 알파 기지",
           "type": "scatter3d",
           "x": [
            50
           ],
           "y": [
            20
           ],
           "z": [
            0
           ]
          },
          {
           "marker": {
            "color": "cyan",
            "size": 15,
            "symbol": "square"
           },
           "mode": "markers",
           "name": "🏭 브라보 기지",
           "type": "scatter3d",
           "x": [
            -40
           ],
           "y": [
            -30
           ],
           "z": [
            0
           ]
          },
          {
           "line": {
            "color": "red",
            "width": 4
           },
           "marker": {
            "color": "red",
            "size": 3
           },
           "mode": "lines+markers",
           "name": "🚀 H1",
           "type": "scatter3d",
           "x": {
            "bdata": "AAAAAABAb0AZE2F1KCtuQDImwupQFm1ASzkjYHkBbEBkTITVoexqQH1f5UrK12lAlnJGwPLCaEA=",
            "dtype": "f8"
           },
           "y": {
            "bdata": "AAAAAADAckDwq1xJ+RJyQN9XuZLyZXFAzwMW3Ou4cEC/r3Il5QtwQF23nt28vW5APA9YcK9jbUA=",
            "dtype": "f8"
           },
           "z": {
            "bdata": "AAAAAAAAeUCFwGWRVPF4QBQCl0VSxXhArcSTHPl7eEBQCFwWSRV4QP3M7zJCkXdAtBJPcuTvdkA=",
            "dtype": "f8"
           }
          },
          {
           "line": {
            "color": "blue",
            "dash": "dash",
            "width": 5
           },
           "marker": {
            "color": "blue",
            "size": 4,
            "symbol": "diamond"
           },
           "mode": "lines+markers",
           "name": "🛡️ 알파→H1",
           "type": "scatter3d",
           "x": {
            "bdata": "AAAAAAAASUB68fu/58BRQPXi93/PAVdAcNTzP7dCXED14vd/z8FgQLLb9V9DYmNAcNTzP7cCZkA=",
            "dtype": "f8"
           },
           "y": {
            "bdata": "AAAAAAAANECs/FMG11tJQKz8UwbXW1RABPt9icIJXECs/FMG19thQNj76MfMsmVABPt9icKJaUA=",
            "dtype": "f8"
           },
           "z": {
            "bdata": "AAAAAAAAAACPbF3pJpNKQI9sXekmk1pAbBEGL13uY0CPbF3pJpNqQNlj2lH4m3BAbBEGL13uc0A=",
            "dtype": "f8"
           }
          },
          {
           "line": {
            "color": "orange",
            "width": 4
           },
           "marker": {
            "color": "orange",
            "size": 3
           },
           "mode": "lines+markers",
           "name": "🚀 H2",
           "type": "scatter3d",
           "x": {
            "bdata": "AAAAAACAccAbZPWmvOdwwDXI6k15T3DAoFjA6Wtub8DVIKs35T1uwArplYVeDW3AP7GA09fca8A=",
            "dtype": "f8"
           },
           "y": {
            "bdata": "AAAAAABAb0AZE2F1KCtuQDImwupQFm1ASzkjYHkBbEBkTITVoexqQH1f5UrK12lAlnJGwPLCaEA=",
            "dtype": "f8"
           },
           "z": {
            "bdata": "AAAAAADAd0CFwGWRVLF3QBQCl0VShXdArcSTHPk7d0BQCFwWSdV2QP3M7zJCUXZAtBJPcuSvdUA=",
            "dtype": "f8"
           }
          },
          {
           "line": {
            "color": "cyan",
            "dash": "dash",
            "width": 5
           },
           "marker": {
            "color": "cyan",
            "size": 4,
            "symbol": "diamond"
           },
           "mode": "lines+markers",
           "name": "🛡️ 브라보→H2",
           "type": "scatter3d",
           "x": {
            "bdata": "AAAAAAAARMBFv+1HlnZQwIp+248s7VbAzz3J18JjXcCKftuPLO1hwCxe0rN3KGXAzz3J18JjaMA=",
            "dtype": "f8"
           },
           "y": {
            "bdata": "AAAAAAAAPsCArMsbUecEQJB1eSPqnEFALBibmq/1UECQdXkj6hxZQHrpK1YSomBALBibmq+1ZEA=",
            "dtype": "f8"
           },
           "z": {
            "bdata": "AAAAAAAAAABMUzwX3ONIQExTPBfc41hAej5tEeWqYkBMUzwX3ONoQB9oCx3THG9Aej5tEeWqckA=",
            "dtype": "f8"
           }
          },
          {
           "line": {
            "color": "green",
            "width": 4
           },
           "marker": {
            "color": "green",
            "size": 3
           },
           "mode": "lines+markers",
           "name": "🚀 H3",
           "type": "scatter3d",
           "x": {
            "bdata": "AAAAAAAAJEDImAirQ1kfQJExEVaHshZAspQzApYXDECIjImwOpT1P7AgqEZtDeq/nNaY+9PQB8A=",
            "dtype": "f8"
           },
           "y": {
            "bdata": "AAAAAADgdcBTzghYXhB1wKacEbC8QHTA+GoaCBtxc8BLOSNgeaFywJ4HLLjX0XHA8dU0EDYCccA=",
            "dtype": "f8"
           },
           "z": {
            "bdata": "AAAAAABAekCFwGWRVDF6QBQCl0VSBXpArcSTHPm7eUBQCFwWSVV5QP3M7zJC0XhAtBJPcuQveEA=",
            "dtype": "f8"
           }
          },
          {
           "line": {
            "color": "cyan",
            "dash": "dash",
            "width": 5
           },
           "marker": {
            "color": "cyan",
            "size": 4,
            "symbol": "diamond"
           },
           "mode": "lines+markers",
           "name": "🛡️ 브라보→H3",
           "type": "scatter3d",
           "x": {
            "bdata": "AAAAAAAARMAMrRbZEm1BwDK0WmRLtD3ASg6IFnGOOMBkaLXIlmgzwPqExfV4hSzAKjkgWsQ5IsA=",
            "dtype": "f8"
           },
           "y": {
            "bdata": "AAAAAAAAPsCaquGW3edPwJqq4ZbdZ1jA9D8pMeZtYMCaquGW3adkwEAVmvzU4WjA6H9SYswbbcA=",
            "dtype": "f8"
           },
           "z": {
            "bdata": "AAAAAAAAAAA7xrIG0JFLQDvGsgbQkVtArRQGBVytZEA7xrIG0JFrQOW7LwQiO3FArRQGBVytdEA=",
            "dtype": "f8"
           }
          },
          {
           "marker": {
            "color": "gold",
            "size": 20,
            "symbol": "x"
           },
           "mode": "markers",
           "name": "💥 H4 요격완료",
           "type": "scatter3d",
           "x": [
            237.9094178462401
           ],
           "y": [
            -14.967246572300791
           ],
           "z": [
            319.7749153252084
           ]
          },
          {
           "line": {
            "color": "brown",
            "width": 4
           },
           "marker": {
            "color": "brown",
            "size": 3
           },
           "mode": "lines+markers",
           "name": "🚀 H5",
           "type": "scatter3d",
           "x": {
            "bdata": "AAAAAAAAacBTzghYXjBowKacEbC8YGfA+GoaCBuRZsBLOSNgecFlwJ4HLLjX8WTA8dU0EDYiZMA=",
            "dtype": "f8"
           },
           "y": {
            "bdata": "AAAAAABAb8AZE2F1KCtuwDImwupQFm3ASzkjYHkBbMBkTITVoexqwH1f5UrK12nAlnJGwPLCaMA=",
            "dtype": "f8"
           },
           "z": {
            "bdata": "AAAAAAAgfECFwGWRVBF8QBQCl0VS5XtArcSTHPmbe0BQCFwWSTV7QP3M7zJCsXpAtBJPcuQPekA=",
            "dtype": "f8"
           }
          },
          {
           "line": {
            "color": "cyan",
            "dash": "dash",
            "width": 5
           },
           "marker": {
            "color": "cyan",
            "size": 4,
            "symbol": "diamond"
           },
           "mode": "lines+markers",
           "name": "🛡️ 브라보→H5",
           "type": "scatter3d",
           "x": {
            "bdata": "AAAAAAAARMAawP2uLERMwBrA/a4sRFLAKKB8BkNmVsA1gPtdWYhawEJgerVvql7AKKB8BkNmYcA=",
            "dtype": "f8"
           },
           "y": {
            "bdata": "AAAAAAAAPsAmx/BhWIBKwCbH8GFYAFPAuirpkoTAWMBMjuHDsIBewPD4bHpuIGLAuirpkoQAZcA=",
            "dtype": "f8"
           },
           "z": {
            "bdata": "AAAAAAAAAABVi4vg8S9NQFWLi+DxL11AgahoaPXjZUBVi4vg8S9tQBU3Vyz3PXJAgahoaPXjdUA=",
            "dtype": "f8"
           }
          }
         ],
         "layout": {
          "title": {
           "text": "🚀 다중 위협 분산 대응 시스템 - 시간: 2.60초"
          }
         },
         "name": "62"
        },
        {
         "data": [
          {
           "marker": {
            "color": "red",
            "size": 20,
            "symbol": "diamond"
           },
           "mode": "markers",
           "name": "🏙️ 도시",
           "type": "scatter3d",
           "x": [
            0
           ],
           "y": [
            0
           ],
           "z": [
            0
           ]
          },
          {
           "marker": {
            "color": "blue",
            "size": 15,
            "symbol": "square"
           },
           "mode": "markers",
           "name": "🏭 알파 기지",
           "type": "scatter3d",
           "x": [
            50
           ],
           "y": [
            20
           ],
           "z": [
            0
           ]
          },
          {
           "marker": {
            "color": "cyan",
            "size": 15,
            "symbol": "square"
           },
           "mode": "markers",
           "name": "🏭 브라보 기지",
           "type": "scatter3d",
           "x": [
            -40
           ],
           "y": [
            -30
           ],
           "z": [
            0
           ]
          },
          {
           "line": {
            "color": "red",
            "width": 4
           },
           "marker": {
            "color": "red",
            "size": 3
           },
           "mode": "lines+markers",
           "name": "🚀 H1",
           "type": "scatter3d",
           "x": {
            "bdata": "AAAAAABAb0Ami39esSZuQEwW/7xiDW1AcqF+GxT0a0CYLP55xdpqQL63fdh2wWlA40L9NiioaEA=",
            "dtype": "f8"
           },
           "y": {
            "bdata": "AAAAAADAckD4tg/bLhByQO9tH7ZdYHFA5yQvkYywcEDf2z5suwBwQK0lnY7UoW5AnJO8RDJCbUA=",
            "dtype": "f8"
           },
           "z": {
            "bdata": "AAAAAAAAeUA5HrJy2vB4QON4yMppw3hAABBDCK53eECO4yErpw14QI7zZDNVhXdA/z8MIbjedkA=",
            "dtype": "f8"
           }
          },
          {
           "line": {
            "color": "blue",
            "dash": "dash",
            "width": 5
           },
           "marker": {
            "color": "blue",
            "size": 4,
            "symbol": "diamond"
           },
           "mode": "lines+markers",
           "name": "🛡️ 알파→H1",
           "type": "scatter3d",
           "x": {
            "bdata": "AAAAAAAASUA+8T3omNZRQH3ie9AxLVdAu9O5uMqDXEB94nvQMe1gQBzbmkR+mGNAu9O5uMpDZkA=",
            "dtype": "f8"
           },
           "y": {
            "bdata": "AAAAAAAANEDAgPq3QZtJQMCA+rdBm1RAIMH3k+JoXEDAgPq3QRtiQPAg+SUSAmZAIMH3k+LoaUA=",
            "dtype": "f8"
           },
           "z": {
            "bdata": "AAAAAAAAAACJ1XtY4QBLQInVe1jhAFtAJ+BcAqlAZECJ1XtY4QBrQHVlTdeM4HBAJ+BcAqlAdEA=",
            "dtype": "f8"
           }
          },
          {
           "line": {
            "color": "orange",
            "width": 4
           },
           "marker": {
            "color": "orange",
            "size": 3
           },
           "mode": "lines+markers",
           "name": "🚀 H2",
           "type": "scatter3d",
           "x": {
            "bdata": "AAAAAACAccBVWfnzR+VwwKqy8uePSnDA/RfYt69fb8CmysqfPypuwFB9vYfP9GzA+i+wb1+/a8A=",
            "dtype": "f8"
           },
           "y": {
            "bdata": "AAAAAABAb0Ami39esSZuQEwW/7xiDW1AcqF+GxT0a0CYLP55xdpqQL63fdh2wWlA40L9NiioaEA=",
            "dtype": "f8"
           },
           "z": {
            "bdata": "AAAAAADAd0A5HrJy2rB3QON4yMppg3dAABBDCK43d0CO4yErp812QI7zZDNVRXZA/z8MIbiedUA=",
            "dtype": "f8"
           }
          },
          {
           "line": {
            "color": "cyan",
            "dash": "dash",
            "width": 5
           },
           "marker": {
            "color": "cyan",
            "size": 4,
            "symbol": "diamond"
           },
           "mode": "lines+markers",
           "name": "🛡️ 브라보→H2",
           "type": "scatter3d",
           "x": {
            "bdata": "AAAAAAAARMCla8wfRpFQwErXmD+MIlfA70JlX9KzXcBK15g/jCJiwBwNf08va2XA70JlX9KzaMA=",
            "dtype": "f8"
           },
           "y": {
            "bdata": "AAAAAAAAPsBQcT6cmBwJQCrOhxOTI0JAoNqlTq5aUUAqzocTk6NZQNrgNOw79mBAoNqlTq4aZUA=",
            "dtype": "f8"
           },
           "z": {
            "bdata": "AAAAAAAAAADufYO0oUpJQO59g7ShSllAc55iR/n3YkDufYO0oUppQGpdpCFKnW9Ac55iR/n3ckA=",
            "dtype": "f8"
           }
          },
          {
           "line": {
            "color": "green",
            "width": 4
           },
           "marker": {
            "color": "green",
            "size": 3
           },
           "mode": "lines+markers",
           "name": "🚀 H3",
           "type": "scatter3d",
           "x": {
            "bdata": "AAAAAAAAJEAvWfzzijUfQF6y+OcVaxZAGhfqt0FBC0DwksU/r1jzP6AQkuBJou+/zNErkHx9CcA=",
            "dtype": "f8"
           },
           "y": {
            "bdata": "AAAAAADgdcBcqN8GBQ11wLlQvw0KOnTAFfmeFA9nc8ByoX4bFJRywM5JXiIZwXHAKvI9KR7ucMA=",
            "dtype": "f8"
           },
           "z": {
            "bdata": "AAAAAABAekA5HrJy2jB6QON4yMppA3pAABBDCK63eUCO4yErp015QI7zZDNVxXhA/z8MIbgeeEA=",
            "dtype": "f8"
           }
          },
          {
           "line": {
            "color": "cyan",
            "dash": "dash",
            "width": 5
           },
           "marker": {
            "color": "cyan",
            "size": 4,
            "symbol": "diamond"
           },
           "mode": "lines+markers",
           "name": "🛡️ 브라보→H3",
           "type": "scatter3d",
           "x": {
            "bdata": "AAAAAAAARMDPjqcecmJBwDs7nnrIiT3A2Fjtt6xOOMB2djz1kBMzwCgoF2XqsCvAYmO137I6IcA=",
            "dtype": "f8"
           },
           "y": {
            "bdata": "AAAAAAAAPsC2tzS+1RZQwGtvaXyrrVjAkBNPnUCiYMBrb2l8q+1kwEXLg1sWOWnAICeeOoGEbcA=",
            "dtype": "f8"
           },
           "z": {
            "bdata": "AAAAAAAAAACOTUr2pQNMQI5NSvalA1xAK7q3eLwCZUCOTUr2pQNsQHlw7rlHgnFAK7q3eLwCdUA=",
            "dtype": "f8"
           }
          },
          {
           "marker": {
            "color": "gold",
            "size": 20,
            "symbol": "x"
           },
           "mode": "markers",
           "name": "💥 H4 요격완료",
           "type": "scatter3d",
           "x": [
            237.9094178462401
           ],
           "y": [
            -14.967246572300791
           ],
           "z": [
            319.7749153252084
           ]
          },
          {
           "line": {
            "color": "brown",
            "width": 4
           },
           "marker": {
            "color": "brown",
            "size": 3
           },
           "mode": "lines+markers",
           "name": "🚀 H5",
           "type": "scatter3d",
           "x": {
            "bdata": "AAAAAAAAacBcqN8GBS1owLlQvw0KWmfAFfmeFA+HZsByoX4bFLRlwM5JXiIZ4WTAKvI9KR4OZMA=",
            "dtype": "f8"
           },
           "y": {
            "bdata": "AAAAAABAb8Ami39esSZuwEwW/7xiDW3AcqF+GxT0a8CYLP55xdpqwL63fdh2wWnA40L9NiioaMA=",
            "dtype": "f8"
           },
           "z": {
            "bdata": "AAAAAAAgfEA5HrJy2hB8QON4yMpp43tAABBDCK6Xe0CO4yErpy17QI7zZDNVpXpA/z8MIbj+eUA=",
            "dtype": "f8"
           }
          },
          {
           "line": {
            "color": "cyan",
            "dash": "dash",
            "width": 5
           },
           "marker": {
            "color": "cyan",
            "size": 4,
            "symbol": "diamond"
           },
           "mode": "lines+markers",
           "name": "🛡️ 브라보→H5",
           "type": "scatter3d",
           "x": {
            "bdata": "AAAAAAAARMBUx79vTmZMwFTHv29OZlLA/qqfp3WZVsCpjn/fnMxawFNyXxfE/17A/qqfp3WZYcA=",
            "dtype": "f8"
           },
           "y": {
            "bdata": "AAAAAAAAPsAawtet1a9KwBrC163VL1PAJ6PDhMAHWcA0hK9bq99ewKCyTRnLW2LAJ6PDhMBHZcA=",
            "dtype": "f8"
           },
           "z": {
            "bdata": "AAAAAAAAAADveEPHdahNQO94Q8d1qF1As5pyVVg+ZkDveEPHdahtQJUripxJiXJAs5pyVVg+dkA=",
            "dtype": "f8"
           }
          }
         ],
         "layout": {
          "title": {
           "text": "🚀 다중 위협 분산 대응 시스템 - 시간: 2.64초"
          }
         },
         "name": "63"
        },
        {
         "data": [
          {
           "marker": {
            "color": "red",
            "size": 20,
            "symbol": "diamond"
           },
           "mode": "markers",
           "name": "🏙️ 도시",
           "type": "scatter3d",
           "x": [
            0
           ],
           "y": [
            0
           ],
           "z": [
            0
           ]
          },
          {
           "marker": {
            "color": "blue",
            "size": 15,
            "symbol": "square"
           },
           "mode": "markers",
           "name": "🏭 알파 기지",
           "type": "scatter3d",
           "x": [
            50
           ],
           "y": [
            20
           ],
           "z": [
            0
           ]
          },
          {
           "marker": {
            "color": "cyan",
            "size": 15,
            "symbol": "square"
           },
           "mode": "markers",
           "name": "🏭 브라보 기지",
           "type": "scatter3d",
           "x": [
            -40
           ],
           "y": [
            -30
           ],
           "z": [
            0
           ]
          },
          {
           "line": {
            "color": "red",
            "width": 4
           },
           "marker": {
            "color": "red",
            "size": 3
           },
           "mode": "lines+markers",
           "name": "🚀 H1",
           "type": "scatter3d",
           "x": {
            "bdata": "AAAAAABAb0BQJ/VhDUtuQKBO6sMaVm1A8HXfJShhbEBAndSHNWxrQJDEyelCd2pA4Ou+S1CCaUAwE7StXY1oQA==",
            "dtype": "f8"
           },
           "y": {
            "bdata": "AAAAAADAckCSODld6CZyQCRxcrrQjXFAtqmrF7n0cEBI4uR0oVtwQLQ1PKQThW9A2KauXuRSbkD8FyEZtSBtQA==",
            "dtype": "f8"
           },
           "z": {
            "bdata": "AAAAAAAAeUD33a4HhPR4QN53ux4Q0nhAss0lRaSYeEB23+16QEh4QCmtE8Dk4HdAyjaXFJFid0BafHh4Rc12QA==",
            "dtype": "f8"
           }
          },
          {
           "line": {
            "color": "blue",
            "dash": "dash",
            "width": 5
           },
           "marker": {
            "color": "blue",
            "size": 4,
            "symbol": "diamond"
           },
           "mode": "lines+markers",
           "name": "🛡️ 알파→H1",
           "type": "scatter3d",
           "x": {
            "bdata": "AAAAAAAASUC5F0lX9iVRQHIvkq7sy1VALEfbBeNxWkDkXiRd2RdfQE67Ntrn3mFALEfbBeMxZEAI038x3oRmQA==",
            "dtype": "f8"
           },
           "y": {
            "bdata": "AAAAAAAANEC1KNPs3JZHQLUo0+zcllJAEL08Y0tiWUC1KNPs3BZgQOLyByiUfGNAEL08Y0viZkA9h3GeAkhqQA==",
            "dtype": "f8"
           },
           "z": {
            "bdata": "AAAAAAAAAAACETv0YINHQAIRO/Rgg1dAwkwst4iiYUACETv0YINnQEPVSTE5ZG1Awkwst4iicUDjrrPV9JJ0QA==",
            "dtype": "f8"
           }
          },
          {
           "line": {
            "color": "orange",
            "width": 4
           },
           "marker": {
            "color": "orange",
            "size": 3
           },
           "mode": "lines+markers",
           "name": "🚀 H2",
           "type": "scatter3d",
           "x": {
            "bdata": "AAAAAACAccCf1UZcR/lwwD6rjbiOcnDAuwGpKazXb8D6rDbiOspuwDhYxJrJvG3AdgNSU1ivbMC0rt8L56FrwA==",
            "dtype": "f8"
           },
           "y": {
            "bdata": "AAAAAABAb0BQJ/VhDUtuQKBO6sMaVm1A8HXfJShhbEBAndSHNWxrQJDEyelCd2pA4Ou+S1CCaUAwE7StXY1oQA==",
            "dtype": "f8"
           },
           "z": {
            "bdata": "AAAAAADAd0D33a4HhLR3QN53ux4QkndAss0lRaRYd0B23+16QAh3QCmtE8DkoHZAyjaXFJEidkBafHh4RY11QA==",
            "dtype": "f8"
           }
          },
          {
           "line": {
            "color": "cyan",
            "dash": "dash",
            "width": 5
           },
           "marker": {
            "color": "cyan",
            "size": 4,
            "symbol": "diamond"
           },
           "mode": "lines+markers",
           "name": "🛡️ 브라보→H2",
           "type": "scatter3d",
           "x": {
            "bdata": "AAAAAAAARMDATSXN7m9PwMBNJc3ub1XAoPS3M+YnW8DATSXN7m9gwC+hboDqS2PAoPS3M+YnZsAQSAHn4QNpwA==",
            "dtype": "f8"
           },
           "y": {
            "bdata": "AAAAAAAAPsDAx/QXEk/yvwhnAb0dtjtASA3BTZZITECEs4DeDltVQGbgIJbSkVxApIbgJkvkYUAVnbACrX9lQA==",
            "dtype": "f8"
           },
           "z": {
            "bdata": "AAAAAAAAAADpaxtGxgVGQOlrG0bGBVZA8JCUtFSEYEDpaxtGxgVmQORGotc3h2tA8JCUtFSEcEBt/ld9DUVzQA==",
            "dtype": "f8"
           }
          },
          {
           "line": {
            "color": "green",
            "width": 4
           },
           "marker": {
            "color": "green",
            "size": 3
           },
           "mode": "lines+markers",
           "name": "🚀 H3",
           "type": "scatter3d",
           "x": {
            "bdata": "AAAAAAAAJEBAndSHNSwgQAB1Uh/WsBhAf6/7LkEJEUAA1El9WMMCQABI4uR0ods/CIQiiPa1978Ezb4kJSoLwA==",
            "dtype": "f8"
           },
           "y": {
            "bdata": "AAAAAADgdcB83XcJSih1wPi67xKUcHTAdJhnHN64c8Dwdd8lKAFzwGxTVy9ySXLA6DDPOLyRccBkDkdCBtpwwA==",
            "dtype": "f8"
           },
           "z": {
            "bdata": "AAAAAABAekD33a4HhDR6QN53ux4QEnpAss0lRaTYeUB23+16QIh5QCmtE8DkIHlAyjaXFJGieEBafHh4RQ14QA==",
            "dtype": "f8"
           }
          },
          {
           "line": {
            "color": "cyan",
            "dash": "dash",
            "width": 5
           },
           "marker": {
            "color": "cyan",
            "size": 4,
            "symbol": "diamond"
           },
           "mode": "lines+markers",
           "name": "🛡️ 브라보→H3",
           "type": "scatter3d",
           "x": {
            "bdata": "AAAAAAAARMAzzguf/LhBwM04L3zy4z7AMtVGuutVOsCacV745Mc1wAAOdjbeOTHAylQb6a5XKcCWjUploTsgwA==",
            "dtype": "f8"
           },
           "y": {
            "bdata": "AAAAAAAAPsB8moV4Q/VNwHyahXhDdVbAu2fINOXvXcB8moV4Q7ViwBsBp1aUcmbAu2fINOUvasBazukSNu1twA==",
            "dtype": "f8"
           },
           "z": {
            "bdata": "AAAAAAAAAAAK21NXs2RIQArbU1ezZFhASeR+gYZLYkAK21NXs2RoQM3RKC3gfW5ASeR+gYZLckCqX2nsHFh1QA==",
            "dtype": "f8"
           }
          },
          {
           "marker": {
            "color": "gold",
            "size": 20,
            "symbol": "x"
           },
           "mode": "markers",
           "name": "💥 H4 요격완료",
           "type": "scatter3d",
           "x": [
            237.9094178462401
           ],
           "y": [
            -14.967246572300791
           ],
           "z": [
            319.7749153252084
           ]
          },
          {
           "line": {
            "color": "brown",
            "width": 4
           },
           "marker": {
            "color": "brown",
            "size": 3
           },
           "mode": "lines+markers",
           "name": "🚀 H5",
           "type": "scatter3d",
           "x": {
            "bdata": "AAAAAAAAacB83XcJSkhowPi67xKUkGfAdJhnHN7YZsDwdd8lKCFmwGxTVy9yaWXA6DDPOLyxZMBkDkdCBvpjwA==",
            "dtype": "f8"
           },
           "y": {
            "bdata": "AAAAAABAb8BQJ/VhDUtuwKBO6sMaVm3A8HXfJShhbMBAndSHNWxrwJDEyelCd2rA4Ou+S1CCacAwE7StXY1owA==",
            "dtype": "f8"
           },
           "z": {
            "bdata": "AAAAAAAgfED33a4HhBR8QN53ux4Q8ntAss0lRaS4e0B23+16QGh7QCmtE8DkAHtAyjaXFJGCekBafHh4Re15QA==",
            "dtype": "f8"
           }
          },
          {
           "line": {
            "color": "cyan",
            "dash": "dash",
            "width": 5
           },
           "marker": {
            "color": "cyan",
            "size": 4,
            "symbol": "diamond"
           },
           "mode": "lines+markers",
           "name": "🛡️ 브라보→H5",
           "type": "scatter3d",
           "x": {
            "bdata": "AAAAAAAARMCf1ZMpYFBLwJ/VkylgUFHAb8BdPpD4VMA+qydTwKBYwA2W8WfwSFzA3oC7fCDxX8DWtcJIqMxhwA==",
            "dtype": "f8"
           },
           "y": {
            "bdata": "AAAAAAAAPsAMouyMIi1JwAyi7IwirVHAE/Ni07PDVsAYRNkZRdpbwI/KJzBreGDAE/Ni07MDY8CWG552/I5lwA==",
            "dtype": "f8"
           },
           "z": {
            "bdata": "AAAAAAAAAACaxWknH9NJQJrFaScf01lANFSPXVdeY0CaxWknH9NpQIAbonjzI3BANFSPXVdec0DnjHxCu5h2QA==",
            "dtype": "f8"
           }
          }
         ],
         "layout": {
          "title": {
           "text": "🚀 다중 위협 분산 대응 시스템 - 시간: 2.68초"
          }
         },
         "name": "64"
        },
        {
         "data": [
          {
           "marker": {
            "color": "red",
            "size": 20,
            "symbol": "diamond"
           },
           "mode": "markers",
           "name": "🏙️ 도시",
           "type": "scatter3d",
           "x": [
            0
           ],
           "y": [
            0
           ],
           "z": [
            0
           ]
          },
          {
           "marker": {
            "color": "blue",
            "size": 15,
            "symbol": "square"
           },
           "mode": "markers",
           "name": "🏭 알파 기지",
           "type": "scatter3d",
           "x": [
            50
           ],
           "y": [
            20
           ],
           "z": [
            0
           ]
          },
          {
           "marker": {
            "color": "cyan",
            "size": 15,
            "symbol": "square"
           },
           "mode": "markers",
           "name": "🏭 브라보 기지",
           "type": "scatter3d",
           "x": [
            -40
           ],
           "y": [
            -30
           ],
           "z": [
            0
           ]
          },
          {
           "line": {
            "color": "red",
            "width": 4
           },
           "marker": {
            "color": "red",
            "size": 3
           },
           "mode": "lines+markers",
           "name": "🚀 H1",
           "type": "scatter3d",
           "x": {
            "bdata": "AAAAAABAb0Dt+3yXOUduQNr3+S5zTm1AyPN2xqxVbEC17/Nd5lxrQKLrcPUfZGpAj+ftjFlraUB842okk3JoQA==",
            "dtype": "f8"
           },
           "y": {
            "bdata": "AAAAAADAckB0Ha7+gyRyQOg6XP0HiXFAXVgK/IvtcEDRdbj6D1JwQIomzfInbW9Ac2Ep8C82bkBcnIXtN/9sQA==",
            "dtype": "f8"
           },
           "z": {
            "bdata": "AAAAAAAAeUDVzyxwJ/R4QFQ/s8Cd0HhAfU6T8WKVeEBQ/cwCd0J4QM1LYPTZ13dA9DlNxotVd0DFx5N4jLt2QA==",
            "dtype": "f8"
           }
          },
          {
           "line": {
            "color": "blue",
            "dash": "dash",
            "width": 5
           },
           "marker": {
            "color": "blue",
            "size": 4,
            "symbol": "diamond"
           },
           "mode": "lines+markers",
           "name": "🛡️ 알파→H1",
           "type": "scatter3d",
           "x": {
            "bdata": "AAAAAAAASUAYPKYwjjhRQDB4TGEc8VVASLTykaqpWkBg8JjCOGJfQDyWn3ljDWJASLTykappZEBU0kWq8cVmQA==",
            "dtype": "f8"
           },
           "y": {
            "bdata": "AAAAAAAANEBYdYZgOM1HQFh1hmA4zVJABbDJkNSzWUBYdYZgOE1gQK4SqHiGwGNABbDJkNQzZ0BaTeuoIqdqQA==",
            "dtype": "f8"
           },
           "z": {
            "bdata": "AAAAAAAAAABH/Qt4buFHQEf9C3hu4VdA9v0I2hLpYUBH/Qt4buFnQJj8DhbK2W1A9v0I2hLpcUCefQqpQOV0QA==",
            "dtype": "f8"
           }
          },
          {
           "line": {
            "color": "orange",
            "width": 4
           },
           "marker": {
            "color": "orange",
            "size": 3
           },
           "mode": "lines+markers",
           "name": "🚀 H2",
           "type": "scatter3d",
           "x": {
            "bdata": "AAAAAACAccD28Ld5LPdwwOvhb/NYbnDAwqVP2grLb8Cth7/NY7luwJlpL8G8p23AhEuftBWWbMBvLQ+oboRrwA==",
            "dtype": "f8"
           },
           "y": {
            "bdata": "AAAAAABAb0Dt+3yXOUduQNr3+S5zTm1AyPN2xqxVbEC17/Nd5lxrQKLrcPUfZGpAj+ftjFlraUB842okk3JoQA==",
            "dtype": "f8"
           },
           "z": {
            "bdata": "AAAAAADAd0DVzyxwJ7R3QFQ/s8CdkHdAfU6T8WJVd0BQ/cwCdwJ3QM1LYPTZl3ZA9DlNxosVdkDFx5N4jHt1QA==",
            "dtype": "f8"
           }
          },
          {
           "line": {
            "color": "cyan",
            "dash": "dash",
            "width": 5
           },
           "marker": {
            "color": "cyan",
            "size": 4,
            "symbol": "diamond"
           },
           "mode": "lines+markers",
           "name": "🛡️ 브라보→H2",
           "type": "scatter3d",
           "x": {
            "bdata": "AAAAAAAARMD34lmIrp1PwPfiWYiunVXActSGzIVsW8D34lmIrp1gwLRbcCoahWPActSGzIVsZsAwTZ1u8VNpwA==",
            "dtype": "f8"
           },
           "y": {
            "bdata": "AAAAAAAAPsCANanAnDDmv6hs9TP2nDxAfhH4prj1TEBUtvoZe85VQOhjeeAZIl1Avwh8U9w6YkCJX7u2q+RlQA==",
            "dtype": "f8"
           },
           "z": {
            "bdata": "AAAAAAAAAACa2TNf3V1GQJrZM1/dXVZANONmB2bGYECa2TNf3V1mQADQALdU9WtANONmB2bGcEBmXk2zIZJzQA==",
            "dtype": "f8"
           }
          },
          {
           "line": {
            "color": "green",
            "width": 4
           },
           "marker": {
            "color": "green",
            "size": 3
           },
           "mode": "lines+markers",
           "name": "🚀 H3",
           "type": "scatter3d",
           "x": {
            "bdata": "AAAAAAAAJEC17/Nd5hwgQNS+z3eZcxhAPZ63M2atEEBO+z7fZc4BQADRdbj6D9I/GA5DYs6U+r84yFG5zdYMwA==",
            "dtype": "f8"
           },
           "y": {
            "bdata": "AAAAAADgdcDyvJ0xayV1wOR5O2PWanTA1jbZlEGwc8DI83bGrPVywLqwFPgXO3LArG2yKYOAccCdKlBb7sVwwA==",
            "dtype": "f8"
           },
           "z": {
            "bdata": "AAAAAABAekDVzyxwJzR6QFQ/s8CdEHpAfU6T8WLVeUBQ/cwCd4J5QM1LYPTZF3lA9DlNxouVeEDFx5N4jPt3QA==",
            "dtype": "f8"
           }
          },
          {
           "line": {
            "color": "cyan",
            "dash": "dash",
            "width": 5
           },
           "marker": {
            "color": "cyan",
            "size": 4,
            "symbol": "diamond"
           },
           "mode": "lines+markers",
           "name": "🛡️ 브라보→H3",
           "type": "scatter3d",
           "x": {
            "bdata": "AAAAAAAARMBs/YeR4K9BwLD1H0aCvz7Ah/AvaUMfOsBf6z+MBH81wDfmT6/F3jDAHMK/pA19KMCYb7/VH3kewA==",
            "dtype": "f8"
           },
           "y": {
            "bdata": "AAAAAAAAPsDmsGeGGDFOwOawZ4YYsVbAWombyaRJXsDmsGeGGPFiwCCdAahevWbAWombyaSJasCTdTXr6lVuwA==",
            "dtype": "f8"
           },
           "z": {
            "bdata": "AAAAAAAAAAB4KrEkRsZIQHgqsSRGxlhA2t+Em7SUYkB4KrEkRsZoQBV13a3X925A2t+Em7SUckAoBRtgfa11QA==",
            "dtype": "f8"
           }
          },
          {
           "marker": {
            "color": "gold",
            "size": 20,
            "symbol": "x"
           },
           "mode": "markers",
           "name": "💥 H4 요격완료",
           "type": "scatter3d",
           "x": [
            237.9094178462401
           ],
           "y": [
            -14.967246572300791
           ],
           "z": [
            319.7749153252084
           ]
          },
          {
           "line": {
            "color": "brown",
            "width": 4
           },
           "marker": {
            "color": "brown",
            "size": 3
           },
           "mode": "lines+markers",
           "name": "🚀 H5",
           "type": "scatter3d",
           "x": {
            "bdata": "AAAAAAAAacDyvJ0xa0VowOR5O2PWimfA1jbZlEHQZsDI83bGrBVmwLqwFPgXW2XArG2yKYOgZMCdKlBb7uVjwA==",
            "dtype": "f8"
           },
           "y": {
            "bdata": "AAAAAABAb8Dt+3yXOUduwNr3+S5zTm3AyPN2xqxVbMC17/Nd5lxrwKLrcPUfZGrAj+ftjFlracB842okk3JowA==",
            "dtype": "f8"
           },
           "z": {
            "bdata": "AAAAAAAgfEDVzyxwJxR8QFQ/s8Cd8HtAfU6T8WK1e0BQ/cwCd2J7QM1LYPTZ93pA9DlNxot1ekDFx5N4jNt5QA==",
            "dtype": "f8"
           }
          },
          {
           "line": {
            "color": "cyan",
            "dash": "dash",
            "width": 5
           },
           "marker": {
            "color": "cyan",
            "size": 4,
            "symbol": "diamond"
           },
           "mode": "lines+markers",
           "name": "🛡️ 브라보→H5",
           "type": "scatter3d",
           "x": {
            "bdata": "AAAAAAAARMD2JDqqoW1LwPYkOqqhbVHAcDdXf3IkVcDsSXRUQ9tYwGZckSkUklzAcDdXf3IkYMCuwOXp2v9hwA==",
            "dtype": "f8"
           },
           "y": {
            "bdata": "AAAAAAAAPsCVVCAX11VJwJVUIBfX1VHA4H6wosIAV8AqqUAuritcwLpp6NxMq2DA4H6wosJAY8AElHhoONZlwA==",
            "dtype": "f8"
           },
           "z": {
            "bdata": "AAAAAAAAAACybAekazpKQLJsB6RrOlpAhZEFu9CrY0CybAekazpqQO+jhEaDZHBAhZEFu9Crc0Abf4YvHvN2QA==",
            "dtype": "f8"
           }
          }
         ],
         "layout": {
          "title": {
           "text": "🚀 다중 위협 분산 대응 시스템 - 시간: 2.72초"
          }
         },
         "name": "65"
        },
        {
         "data": [
          {
           "marker": {
            "color": "red",
            "size": 20,
            "symbol": "diamond"
           },
           "mode": "markers",
           "name": "🏙️ 도시",
           "type": "scatter3d",
           "x": [
            0
           ],
           "y": [
            0
           ],
           "z": [
            0
           ]
          },
          {
           "marker": {
            "color": "blue",
            "size": 15,
            "symbol": "square"
           },
           "mode": "markers",
           "name": "🏭 알파 기지",
           "type": "scatter3d",
           "x": [
            50
           ],
           "y": [
            20
           ],
           "z": [
            0
           ]
          },
          {
           "marker": {
            "color": "cyan",
            "size": 15,
            "symbol": "square"
           },
           "mode": "markers",
           "name": "🏭 브라보 기지",
           "type": "scatter3d",
           "x": [
            -40
           ],
           "y": [
            -30
           ],
           "z": [
            0
           ]
          },
          {
           "line": {
            "color": "red",
            "width": 4
           },
           "marker": {
            "color": "red",
            "size": 3
           },
           "mode": "lines+markers",
           "name": "🚀 H1",
           "type": "scatter3d",
           "x": {
            "bdata": "AAAAAABAb0CK0ATNZUNuQBWhCZrLRm1AoHEOZzFKbEAqQhM0l01rQLQSGAH9UGpAP+MczmJUaUDKsyGbyFdoQA==",
            "dtype": "f8"
           },
           "y": {
            "bdata": "AAAAAADAckBXAiOgHyJyQK0ERkA/hHFABAdp4F7mcEBaCYyAfkhwQGIXXkE8VW9ADxykgXsZbkC8IOrBut1sQA==",
            "dtype": "f8"
           },
           "z": {
            "bdata": "AAAAAAAAeUCOtytpyfN4QDnerqQlz3hAAXSJshSSeEDmeLuSljx4QOfsREWrzndABNAlylJId0A/Il4hjal2QA==",
            "dtype": "f8"
           }
          },
          {
           "line": {
            "color": "blue",
            "dash": "dash",
            "width": 5
           },
           "marker": {
            "color": "blue",
            "size": 4,
            "symbol": "diamond"
           },
           "mode": "lines+markers",
           "name": "🛡️ 알파→H1",
           "type": "scatter3d",
           "x": {
            "bdata": "AAAAAAAASUB3YAMKJktRQO7ABhRMFlZAZCEKHnLhWkDbgQ0omKxfQCpxCBnfO2JAZCEKHnKhZECg0QsjBQdnQA==",
            "dtype": "f8"
           },
           "y": {
            "bdata": "AAAAAAAANED7wTnUkwNIQPvBOdSTA1NA+KJWvl0FWkD7wTnUk4NgQHoySMl4BGRA+KJWvl2FZ0B3E2WzQgZrQA==",
            "dtype": "f8"
           },
           "z": {
            "bdata": "AAAAAAAAAACL6dz7ez9IQIvp3Pt7P1hAKK/l/JwvYkCL6dz7ez9oQO4j1PpaT25AKK/l/JwvckBZTGF8jDd1QA==",
            "dtype": "f8"
           }
          },
          {
           "line": {
            "color": "orange",
            "width": 4
           },
           "marker": {
            "color": "orange",
            "size": 3
           },
           "mode": "lines+markers",
           "name": "🚀 H2",
           "type": "scatter3d",
           "x": {
            "bdata": "AAAAAACAccBMDCmXEfVwwJgYUi4janDAyUn2imm+b8BhYki5jKhuwPp6muevkm3AkpPsFdN8bMAqrD5E9mZrwA==",
            "dtype": "f8"
           },
           "y": {
            "bdata": "AAAAAABAb0CK0ATNZUNuQBWhCZrLRm1AoHEOZzFKbEAqQhM0l01rQLQSGAH9UGpAP+MczmJUaUDKsyGbyFdoQA==",
            "dtype": "f8"
           },
           "z": {
            "bdata": "AAAAAADAd0COtytpybN3QDnerqQlj3dAAXSJshRSd0DmeLuSlvx2QOfsREWrjnZABNAlylIIdkA/Il4hjWl1QA==",
            "dtype": "f8"
           }
          },
          {
           "line": {
            "color": "cyan",
            "dash": "dash",
            "width": 5
           },
           "marker": {
            "color": "cyan",
            "size": 4,
            "symbol": "diamond"
           },
           "mode": "lines+markers",
           "name": "🛡️ 브라보→H2",
           "type": "scatter3d",
           "x": {
            "bdata": "AAAAAAAARMAueI5DbstPwC54jkNuy1XARLRVZSWxW8AueI5DbstgwDoWctRJvmPARLRVZSWxZsBQUjn2AKRpwA==",
            "dtype": "f8"
           },
           "y": {
            "bdata": "AAAAAAAAPsCAb6NFVQzPv0Jy6arOgz1AsBUvANuiTUAhuXRV50FWQGrn0Sphsl1A2IoXgG2RYkD9IcZqqklmQA==",
            "dtype": "f8"
           },
           "z": {
            "bdata": "AAAAAAAAAABJR0x49LVGQElHTHj0tVZAdzU5WncIYUBJR0x49LVmQBxZX5ZxY2xAdzU5WncIcUBgvkLpNd9zQA==",
            "dtype": "f8"
           }
          },
          {
           "line": {
            "color": "green",
            "width": 4
           },
           "marker": {
            "color": "green",
            "size": 3
           },
           "mode": "lines+markers",
           "name": "🚀 H3",
           "type": "scatter3d",
           "x": {
            "bdata": "AAAAAAAAJEAqQhM0lw0gQKgITdBcNhhA/IxzOItREECeIjRBc9kAQEC0EhgB/cA/IJhjPKZz/b9ow+RNdoMOwA==",
            "dtype": "f8"
           },
           "y": {
            "bdata": "AAAAAADgdcBonMNZjCJ1wNA4h7MYZXTAONVKDaWnc8CfcQ5nMepywAcO0sC9LHLAb6qVGkpvccDXRll01rFwwA==",
            "dtype": "f8"
           },
           "z": {
            "bdata": "AAAAAABAekCOtytpyTN6QDnerqQlD3pAAXSJshTSeUDmeLuSlnx5QOfsREWrDnlABNAlylKIeEA/Il4hjel3QA==",
            "dtype": "f8"
           }
          },
          {
           "line": {
            "color": "cyan",
            "dash": "dash",
            "width": 5
           },
           "marker": {
            "color": "cyan",
            "size": 4,
            "symbol": "diamond"
           },
           "mode": "lines+markers",
           "name": "🛡️ 브라보→H3",
           "type": "scatter3d",
           "x": {
            "bdata": "AAAAAAAARMClLASExKZBwJOyEBASmz7A3AsZGJvoOcAmZSEgJDY1wG++KSitgzDAci9kYGyiJ8AIxOng/HocwA==",
            "dtype": "f8"
           },
           "y": {
            "bdata": "AAAAAAAAPsBQx0mU7WxOwFDHSZTt7FbA+KpuXmSjXsBQx0mU7SxjwCU5XPkoCGfA+KpuXmTjasDMHIHDn75uwA==",
            "dtype": "f8"
           },
           "z": {
            "bdata": "AAAAAAAAAADkeQ7y2CdJQOR5DvLYJ1lAatuKteLdYkDkeQ7y2CdpQF0Yki7PcW9AatuKteLdckCnqszT3QJ2QA==",
            "dtype": "f8"
           }
          },
          {
           "marker": {
            "color": "gold",
            "size": 20,
            "symbol": "x"
           },
           "mode": "markers",
           "name": "💥 H4 요격완료",
           "type": "scatter3d",
           "x": [
            237.9094178462401
           ],
           "y": [
            -14.967246572300791
           ],
           "z": [
            319.7749153252084
           ]
          },
          {
           "line": {
            "color": "brown",
            "width": 4
           },
           "marker": {
            "color": "brown",
            "size": 3
           },
           "mode": "lines+markers",
           "name": "🚀 H5",
           "type": "scatter3d",
           "x": {
            "bdata": "AAAAAAAAacBonMNZjEJowNA4h7MYhWfAONVKDaXHZsCfcQ5nMQpmwAcO0sC9TGXAb6qVGkqPZMDXRll01tFjwA==",
            "dtype": "f8"
           },
           "y": {
            "bdata": "AAAAAABAb8CK0ATNZUNuwBWhCZrLRm3AoHEOZzFKbMAqQhM0l01rwLQSGAH9UGrAP+MczmJUacDKsyGbyFdowA==",
            "dtype": "f8"
           },
           "z": {
            "bdata": "AAAAAAAgfECOtytpyRN8QDnerqQl73tAAXSJshSye0DmeLuSllx7QOfsREWr7npABNAlylJoekA/Il4hjcl5QA==",
            "dtype": "f8"
           }
          },
          {
           "line": {
            "color": "cyan",
            "dash": "dash",
            "width": 5
           },
           "marker": {
            "color": "cyan",
            "size": 4,
            "symbol": "diamond"
           },
           "mode": "lines+markers",
           "name": "🛡️ 브라보→H5",
           "type": "scatter3d",
           "x": {
            "bdata": "AAAAAAAARMBMdOAq44pLwEx04CrjilHAcq5QwFRQVcCY6MBVxhVZwL4iMes321zAcq5QwFRQYMCFywiLDTNiwA==",
            "dtype": "f8"
           },
           "y": {
            "bdata": "AAAAAAAAPsAdB1Shi35JwB0HVKGL/lHAqwr+cdE9V8A6DqhCF31cwOQIqYku3mDAqwr+cdF9Y8ByDFNadB1mwA==",
            "dtype": "f8"
           },
           "z": {
            "bdata": "AAAAAAAAAADIE6UguKFKQMgTpSC4oVpA1c57GEr5Y0DIE6UguKFqQF0sZxQTpXBA1c57GEr5c0BOcZAcgU13QA==",
            "dtype": "f8"
           }
          }
         ],
         "layout": {
          "title": {
           "text": "🚀 다중 위협 분산 대응 시스템 - 시간: 2.76초"
          }
         },
         "name": "66"
        },
        {
         "data": [
          {
           "marker": {
            "color": "red",
            "size": 20,
            "symbol": "diamond"
           },
           "mode": "markers",
           "name": "🏙️ 도시",
           "type": "scatter3d",
           "x": [
            0
           ],
           "y": [
            0
           ],
           "z": [
            0
           ]
          },
          {
           "marker": {
            "color": "blue",
            "size": 15,
            "symbol": "square"
           },
           "mode": "markers",
           "name": "🏭 알파 기지",
           "type": "scatter3d",
           "x": [
            50
           ],
           "y": [
            20
           ],
           "z": [
            0
           ]
          },
          {
           "marker": {
            "color": "cyan",
            "size": 15,
            "symbol": "square"
           },
           "mode": "markers",
           "name": "🏭 브라보 기지",
           "type": "scatter3d",
           "x": [
            -40
           ],
           "y": [
            -30
           ],
           "z": [
            0
           ]
          },
          {
           "line": {
            "color": "red",
            "width": 4
           },
           "marker": {
            "color": "red",
            "size": 3
           },
           "mode": "lines+markers",
           "name": "🚀 H1",
           "type": "scatter3d",
           "x": {
            "bdata": "AAAAAABAb0AopYwCkj9uQE9KGQUkP21Ad++lB7Y+bECflDIKSD5rQMY5vwzaPWpA7t5LD2w9aUAWhNgR/jxoQA==",
            "dtype": "f8"
           },
           "y": {
            "bdata": "AAAAAADAckA555dBux9yQHLOL4N2f3FAqrXHxDHfcEDjnF8G7T5wQDgI749QPW9AqtYeE8f8bUAcpU6WPbxsQA==",
            "dtype": "f8"
           },
           "z": {
            "bdata": "AAAAAAAAeUAjlavyafN4QI5UrsqnzXhAPz4IiLmOeEA3UrkqnzZ4QHaQwbJYxXdA/PggIOY6d0DIi9dyR5d2QA==",
            "dtype": "f8"
           }
          },
          {
           "line": {
            "color": "blue",
            "dash": "dash",
            "width": 5
           },
           "marker": {
            "color": "blue",
            "size": 4,
            "symbol": "diamond"
           },
           "mode": "lines+markers",
           "name": "🛡️ 알파→H1",
           "type": "scatter3d",
           "x": {
            "bdata": "AAAAAAAASUDWhGDjvV1RQKwJwcZ7O1ZAgY4hqjkZW0BXE4KN9/ZfQBdMcbhaamJAgY4hqjnZZEDt0NGbGEhnQA==",
            "dtype": "f8"
           },
           "y": {
            "bdata": "AAAAAAAANECeDu1H7zlIQJ4O7UfvOVNA7JXj6+ZWWkCeDu1H77lgQEZS6BlrSGRA7JXj6+bWZ0CV2d69YmVrQA==",
            "dtype": "f8"
           },
           "z": {
            "bdata": "AAAAAAAAAADP1a1/iZ1IQM/VrX+JnVhAW2DCHyd2YkDP1a1/iZ1oQERLmd/rxG5AW2DCHyd2ckAWG7hP2Il1QA==",
            "dtype": "f8"
           }
          },
          {
           "line": {
            "color": "orange",
            "width": 4
           },
           "marker": {
            "color": "orange",
            "size": 3
           },
           "mode": "lines+markers",
           "name": "🚀 H2",
           "type": "scatter3d",
           "x": {
            "bdata": "AAAAAACAccCjJ5q09vJwwEVPNGntZXDA0O2cO8ixb8AVPdGktZduwFqMBQ6jfW3AoNs5d5BjbMDlKm7gfUlrwA==",
            "dtype": "f8"
           },
           "y": {
            "bdata": "AAAAAABAb0AopYwCkj9uQE9KGQUkP21Ad++lB7Y+bECflDIKSD5rQMY5vwzaPWpA7t5LD2w9aUAWhNgR/jxoQA==",
            "dtype": "f8"
           },
           "z": {
            "bdata": "AAAAAADAd0AjlavyabN3QI5UrsqnjXdAPz4IiLlOd0A3Urkqn/Z2QHaQwbJYhXZA/PggIOb6dUDIi9dyR1d1QA==",
            "dtype": "f8"
           }
          },
          {
           "line": {
            "color": "cyan",
            "dash": "dash",
            "width": 5
           },
           "marker": {
            "color": "cyan",
            "size": 4,
            "symbol": "diamond"
           },
           "mode": "lines+markers",
           "name": "🛡️ 브라보→H2",
           "type": "scatter3d",
           "x": {
            "bdata": "AAAAAAAARMBlDcP+LflPwGUNw/4t+VXAF5Qk/sT1W8BlDcP+LflgwL7Qc35592PAF5Qk/sT1ZsBxV9V9EPRpwA==",
            "dtype": "f8"
           },
           "y": {
            "bdata": "AAAAAAAAPsAA+F13yKnKP+B33SGnaj5A5hlmWf1PTkDwu+6QU7VWQOxqKnWoQl5A8wyzrP7nYkBy5NAeqa5mQA==",
            "dtype": "f8"
           },
           "z": {
            "bdata": "AAAAAAAAAAD5tGSRCw5HQPm0ZJELDldAuocLrYhKYUD5tGSRCw5nQDjivXWO0WxAuocLrYhKcUBaHjgfSix0QA==",
            "dtype": "f8"
           }
          },
          {
           "line": {
            "color": "green",
            "width": 4
           },
           "marker": {
            "color": "green",
            "size": 3
           },
           "mode": "lines+markers",
           "name": "🚀 H3",
           "type": "scatter3d",
           "x": {
            "bdata": "AAAAAAAAJEA+KWUUkPwfQHtSyigg+RdAdPdeemDrD0DYk1JGAcn/PwDMMQaaL5G/GBFCCz8pAMBQ3ztxDxgQwA==",
            "dtype": "f8"
           },
           "y": {
            "bdata": "AAAAAADgdcDee+mBrR91wLz30gNbX3TAmXO8hQifc8B376UHtt5ywFVrj4ljHnLAM+d4CxFeccAQY2KNvp1wwA==",
            "dtype": "f8"
           },
           "z": {
            "bdata": "AAAAAABAekAjlavyaTN6QI5UrsqnDXpAPz4IiLnOeUA3Urkqn3Z5QHaQwbJYBXlA/PggIOZ6eEDIi9dyR9d3QA==",
            "dtype": "f8"
           }
          },
          {
           "line": {
            "color": "cyan",
            "dash": "dash",
            "width": 5
           },
           "marker": {
            "color": "cyan",
            "size": 4,
            "symbol": "diamond"
           },
           "mode": "lines+markers",
           "name": "🛡️ 브라보→H3",
           "type": "scatter3d",
           "x": {
            "bdata": "AAAAAAAARMDeW4B2qJ1BwHZvAdqhdj7AMicCx/KxOcDs3gK0Q+00wKaWA6GUKDDAxpwIHMvHJsBwGBTs2XwawA==",
            "dtype": "f8"
           },
           "y": {
            "bdata": "AAAAAAAAPsC63SuiwqhOwLrdK6LCKFfAl8xB8yP9XsC63SuiwmhjwCrVtkrzUmfAl8xB8yM9a8AHxMybVCdvwA==",
            "dtype": "f8"
           },
           "z": {
            "bdata": "AAAAAAAAAABQyWu/a4lJQFDJa79riVlA/NaQzxAnY0BQyWu/a4lpQKW7Rq/G629A/NaQzxAnc0AmUH5HPlh2QA==",
            "dtype": "f8"
           }
          },
          {
           "marker": {
            "color": "gold",
            "size": 20,
            "symbol": "x"
           },
           "mode": "markers",
           "name": "💥 H4 요격완료",
           "type": "scatter3d",
           "x": [
            237.9094178462401
           ],
           "y": [
            -14.967246572300791
           ],
           "z": [
            319.7749153252084
           ]
          },
          {
           "line": {
            "color": "brown",
            "width": 4
           },
           "marker": {
            "color": "brown",
            "size": 3
           },
           "mode": "lines+markers",
           "name": "🚀 H5",
           "type": "scatter3d",
           "x": {
            "bdata": "AAAAAAAAacDee+mBrT9owLz30gNbf2fAmXO8hQi/ZsB376UHtv5lwFVrj4ljPmXAM+d4CxF+ZMAQY2KNvr1jwA==",
            "dtype": "f8"
           },
           "y": {
            "bdata": "AAAAAABAb8AopYwCkj9uwE9KGQUkP23Ad++lB7Y+bMCflDIKSD5rwMY5vwzaPWrA7t5LD2w9acAWhNgR/jxowA==",
            "dtype": "f8"
           },
           "z": {
            "bdata": "AAAAAAAgfEAjlavyaRN8QI5Ursqn7XtAPz4IiLmue0A3Urkqn1Z7QHaQwbJY5XpA/PggIOZaekDIi9dyR7d5QA==",
            "dtype": "f8"
           }
          },
          {
           "line": {
            "color": "cyan",
            "dash": "dash",
            "width": 5
           },
           "marker": {
            "color": "cyan",
            "size": 4,
            "symbol": "diamond"
           },
           "mode": "lines+markers",
           "name": "🛡️ 브라보→H5",
           "type": "scatter3d",
           "x": {
            "bdata": "AAAAAAAARMCjw4arJKhLwKPDhqskqFHAdCVKATd8VcBGhw1XSVBZwBfp0KxbJF3AdCVKATd8YMBd1issQGZiwA==",
            "dtype": "f8"
           },
           "y": {
            "bdata": "AAAAAAAAPsCluYcrQKdJwKW5hytAJ1LAeJZLQeB6V8BKcw9XgM5cwA+oaTYQEWHAeJZLQeC6Y8DhhC1MsGRmwA==",
            "dtype": "f8"
           },
           "z": {
            "bdata": "AAAAAAAAAADeukKdBAlLQN66Qp0ECVtAJgzydcNGZEDeukKdBAlrQMu0SeKi5XBAJgzydcNGdECDY5oJ5Kd3QA==",
            "dtype": "f8"
           }
          }
         ],
         "layout": {
          "title": {
           "text": "🚀 다중 위협 분산 대응 시스템 - 시간: 2.80초"
          }
         },
         "name": "67"
        },
        {
         "data": [
          {
           "marker": {
            "color": "red",
            "size": 20,
            "symbol": "diamond"
           },
           "mode": "markers",
           "name": "🏙️ 도시",
           "type": "scatter3d",
           "x": [
            0
           ],
           "y": [
            0
           ],
           "z": [
            0
           ]
          },
          {
           "marker": {
            "color": "blue",
            "size": 15,
            "symbol": "square"
           },
           "mode": "markers",
           "name": "🏭 알파 기지",
           "type": "scatter3d",
           "x": [
            50
           ],
           "y": [
            20
           ],
           "z": [
            0
           ]
          },
          {
           "marker": {
            "color": "cyan",
            "size": 15,
            "symbol": "square"
           },
           "mode": "markers",
           "name": "🏭 브라보 기지",
           "type": "scatter3d",
           "x": [
            -40
           ],
           "y": [
            -30
           ],
           "z": [
            0
           ]
          },
          {
           "line": {
            "color": "red",
            "width": 4
           },
           "marker": {
            "color": "red",
            "size": 3
           },
           "mode": "lines+markers",
           "name": "🚀 H1",
           "type": "scatter3d",
           "x": {
            "bdata": "AAAAAABAb0DFeRQ4vjtuQIrzKHB8N21AT209qDozbEAU51Hg+C5rQNlgZhi3KmpAntp6UHUmaUBjVI+IMyJoQA==",
            "dtype": "f8"
           },
           "y": {
            "bdata": "AAAAAADAckAbzAzjVh1yQDaYGcatenFAUWQmqQTYcEBsMDOMWzVwQA/5f95kJW9ARpGZpBLgbUB8KbNqwJpsQA==",
            "dtype": "f8"
           },
           "z": {
            "bdata": "AAAAAAAAeUCUaKwMCfN4QFGisTIkzHhAN60PclGLeEBFicbKkDB4QHs21jziu3dA2rQ+yEUtd0BiBABtu4R2QA==",
            "dtype": "f8"
           }
          },
          {
           "line": {
            "color": "blue",
            "dash": "dash",
            "width": 5
           },
           "marker": {
            "color": "blue",
            "size": 4,
            "symbol": "diamond"
           },
           "mode": "lines+markers",
           "name": "🛡️ 알파→H1",
           "type": "scatter3d",
           "x": {
            "bdata": "AAAAAAAASUA0qb28VXBRQGlSe3mrYFZAnfs4NgFRW0BpUnt5qyBgQAMn2lfWmGJAnfs4NgERZUA40JcULIlnQA==",
            "dtype": "f8"
           },
           "y": {
            "bdata": "AAAAAAAANEBAW6C7SnBIQEBboLtKcFNA4IhwGXCoWkBAW6C7SvBgQBByiGpdjGRA4IhwGXAoaECwn1jIgsRrQA==",
            "dtype": "f8"
           },
           "z": {
            "bdata": "AAAAAAAAAAASwn4Dl/tIQBLCfgOX+1hAjRGfQrG8YkASwn4Dl/toQJZyXsR8Om9AjRGfQrG8ckDQ6Q4jJNx1QA==",
            "dtype": "f8"
           }
          },
          {
           "line": {
            "color": "orange",
            "width": 4
           },
           "marker": {
            "color": "orange",
            "size": 3
           },
           "mode": "lines+markers",
           "name": "🚀 H2",
           "type": "scatter3d",
           "x": {
            "bdata": "AAAAAACAccD5QgvS2/BwwPKFFqS3YXDA15FD7Calb8DJF1qQ3oZuwLydcDSWaG3AriOH2E1KbMCgqZ18BSxrwA==",
            "dtype": "f8"
           },
           "y": {
            "bdata": "AAAAAABAb0DFeRQ4vjtuQIrzKHB8N21AT209qDozbEAU51Hg+C5rQNlgZhi3KmpAntp6UHUmaUBjVI+IMyJoQA==",
            "dtype": "f8"
           },
           "z": {
            "bdata": "AAAAAADAd0CUaKwMCbN3QFGisTIkjHdAN60PclFLd0BFicbKkPB2QHs21jzie3ZA2rQ+yEXtdUBiBABtu0R1QA==",
            "dtype": "f8"
           }
          },
          {
           "line": {
            "color": "cyan",
            "dash": "dash",
            "width": 5
           },
           "marker": {
            "color": "cyan",
            "size": 4,
            "symbol": "diamond"
           },
           "mode": "lines+markers",
           "name": "🛡️ 브라보→H2",
           "type": "scatter3d",
           "x": {
            "bdata": "AAAAAAAARMBO0fvcdhNQwJui97ntJlbA6HPzlmQ6XMCbove57SZhwEKLdSipMGTA6HPzlmQ6Z8CQXHEFIERqwA==",
            "dtype": "f8"
           },
           "y": {
            "bdata": "AAAAAAAAPsCA1xeN+RflP3h90Zh/UT9AGh6dsh/9TkC8vmjMvyhXQGzugr/v0l5ADY9O2Y8+Y0DlptvSpxNnQA==",
            "dtype": "f8"
           },
           "z": {
            "bdata": "AAAAAAAAAACoIn2qImZHQKgifaoiZldA/tnd/5mMYUCoIn2qImZnQFFrHFWrP21A/tnd/5mMcUBTfi1VXnl0QA==",
            "dtype": "f8"
           }
          },
          {
           "line": {
            "color": "green",
            "width": 4
           },
           "marker": {
            "color": "green",
            "size": 3
           },
           "mode": "lines+markers",
           "name": "🚀 H3",
           "type": "scatter3d",
           "x": {
            "bdata": "AAAAAAAAJEAozqPA8d0fQFCcR4HjuxdA8NTWg6ozD0CA4jwKHN/9PwAnn5nnSMW/IFZS+KqYAcDoXIW7Y+4QwA==",
            "dtype": "f8"
           },
           "y": {
            "bdata": "AAAAAADgdcBUWw+qzhx1wKi2HlSdWXTA+xEu/muWc8BPbT2oOtNywKPITFIJEHLA9iNc/NdMccBKf2umpolwwA==",
            "dtype": "f8"
           },
           "z": {
            "bdata": "AAAAAABAekCUaKwMCTN6QFGisTIkDHpAN60PclHLeUBFicbKkHB5QHs21jzi+3hA2rQ+yEVteEBiBABtu8R3QA==",
            "dtype": "f8"
           }
          },
          {
           "line": {
            "color": "cyan",
            "dash": "dash",
            "width": 5
           },
           "marker": {
            "color": "cyan",
            "size": 4,
            "symbol": "diamond"
           },
           "mode": "lines+markers",
           "name": "🛡️ 브라보→H3",
           "type": "scatter3d",
           "x": {
            "bdata": "AAAAAAAARMAWi/xojJRBwFos8qMxUj7AhkLrdUp7OcCzWORHY6Q0wMDdujP4mi/AGgqt1yntJcDobD73tn4YwA==",
            "dtype": "f8"
           },
           "y": {
            "bdata": "AAAAAAAAPsAk9A2wl+ROwCT0DbCXZFfANe4UiONWX8Ak9A2wl6RjwCxxEZy9nWfANe4UiOOWa8A/axh0CZBvwA==",
            "dtype": "f8"
           },
           "z": {
            "bdata": "AAAAAAAAAAC7GMmM/upJQLsYyYz+6llAjNKW6T5wY0C7GMmM/uppQHWv/RffMnBAjNKW6T5wc0Ck9S+7nq12QA==",
            "dtype": "f8"
           }
          },
          {
           "marker": {
            "color": "gold",
            "size": 20,
            "symbol": "x"
           },
           "mode": "markers",
           "name": "💥 H4 요격완료",
           "type": "scatter3d",
           "x": [
            237.9094178462401
           ],
           "y": [
            -14.967246572300791
           ],
           "z": [
            319.7749153252084
           ]
          },
          {
           "line": {
            "color": "brown",
            "width": 4
           },
           "marker": {
            "color": "brown",
            "size": 3
           },
           "mode": "lines+markers",
           "name": "🚀 H5",
           "type": "scatter3d",
           "x": {
            "bdata": "AAAAAAAAacBUWw+qzjxowKi2HlSdeWfA+xEu/mu2ZsBPbT2oOvNlwKPITFIJMGXA9iNc/NdsZMBKf2umpqljwA==",
            "dtype": "f8"
           },
           "y": {
            "bdata": "AAAAAABAb8DFeRQ4vjtuwIrzKHB8N23AT209qDozbMAU51Hg+C5rwNlgZhi3KmrAntp6UHUmacBjVI+IMyJowA==",
            "dtype": "f8"
           },
           "z": {
            "bdata": "AAAAAAAgfECUaKwMCRN8QFGisTIk7HtAN60PclGre0BFicbKkFB7QHs21jzi23pA2rQ+yEVNekBiBABtu6R5QA==",
            "dtype": "f8"
           }
          },
          {
           "line": {
            "color": "cyan",
            "dash": "dash",
            "width": 5
           },
           "marker": {
            "color": "cyan",
            "size": 4,
            "symbol": "diamond"
           },
           "mode": "lines+markers",
           "name": "🛡️ 브라보→H5",
           "type": "scatter3d",
           "x": {
            "bdata": "AAAAAAAARMD5Ei0sZsVLwPkSLSxmxVHAdZxDQhmoVcDyJVpYzIpZwG6vcG5/bV3AdZxDQhmoYMA04U7NcpliwA==",
            "dtype": "f8"
           },
           "y": {
            "bdata": "AAAAAAAAPsAtbLu19M9JwC1su7X0T1LAQyKZEO+3V8Ba2HZr6R9dwDhHKuPxQ2HAQyKZEO/3Y8BP/Qc+7KtmwA==",
            "dtype": "f8"
           },
           "z": {
            "bdata": "AAAAAAAAAADzYeAZUXBLQPNh4BlRcFtAdklo0zyUZEDzYeAZUXBrQDg9LLAyJnFAdklo0zyUdEC1VaT2RgJ4QA==",
            "dtype": "f8"
           }
          }
         ],
         "layout": {
          "title": {
           "text": "🚀 다중 위협 분산 대응 시스템 - 시간: 2.85초"
          }
         },
         "name": "68"
        },
        {
         "data": [
          {
           "marker": {
            "color": "red",
            "size": 20,
            "symbol": "diamond"
           },
           "mode": "markers",
           "name": "🏙️ 도시",
           "type": "scatter3d",
           "x": [
            0
           ],
           "y": [
            0
           ],
           "z": [
            0
           ]
          },
          {
           "marker": {
            "color": "blue",
            "size": 15,
            "symbol": "square"
           },
           "mode": "markers",
           "name": "🏭 알파 기지",
           "type": "scatter3d",
           "x": [
            50
           ],
           "y": [
            20
           ],
           "z": [
            0
           ]
          },
          {
           "marker": {
            "color": "cyan",
            "size": 15,
            "symbol": "square"
           },
           "mode": "markers",
           "name": "🏭 브라보 기지",
           "type": "scatter3d",
           "x": [
            -40
           ],
           "y": [
            -30
           ],
           "z": [
            0
           ]
          },
          {
           "line": {
            "color": "red",
            "width": 4
           },
           "marker": {
            "color": "red",
            "size": 3
           },
           "mode": "lines+markers",
           "name": "🚀 H1",
           "type": "scatter3d",
           "x": {
            "bdata": "AAAAAABAb0BiTpxt6jduQMScONvUL21AJ+vUSL8nbECJOXG2qR9rQOuHDSSUF2pATdapkX4PaUCwJEb/aAdoQA==",
            "dtype": "f8"
           },
           "y": {
            "bdata": "AAAAAADAckD9sIGE8hpyQPthAwnldXFA+BKFjdfQcED2wwYSyitwQObpEC15DW9A4EsUNl7DbUDcrRc/Q3lsQA==",
            "dtype": "f8"
           },
           "z": {
            "bdata": "AAAAAAAAeUDhMS63pvJ4QIPHuNyaynhA6MCfcNyHeEAOHuNyayp4QPbeguNHsndAnwN/wnEfd0AKjNcP6XF2QA==",
            "dtype": "f8"
           }
          },
          {
           "line": {
            "color": "blue",
            "dash": "dash",
            "width": 5
           },
           "marker": {
            "color": "blue",
            "size": 4,
            "symbol": "diamond"
           },
           "mode": "lines+markers",
           "name": "🛡️ 알파→H1",
           "type": "scatter3d",
           "x": {
            "bdata": "AAAAAAAASUCUzRqW7YJRQCebNSzbhVZAumhQwsiIW0AnmzUs20VgQPABQ/dRx2JAumhQwshIZUCEz12NP8pnQA==",
            "dtype": "f8"
           },
           "y": {
            "bdata": "AAAAAAAANEDjp1MvpqZIQOOnUy+mplNA1Xv9Rvn5WkDjp1MvpiZhQNyRKLtP0GRA1Xv9Rvl5aEDOZdLSoiNsQA==",
            "dtype": "f8"
           },
           "z": {
            "bdata": "AAAAAAAAAABXrk+HpFlJQFeuT4ekWVlAwcJ7ZTsDY0BXrk+HpFlpQOyZI6kNsG9AwcJ7ZTsDc0CMuGX2by52QA==",
            "dtype": "f8"
           }
          },
          {
           "line": {
            "color": "orange",
            "width": 4
           },
           "marker": {
            "color": "orange",
            "size": 3
           },
           "mode": "lines+markers",
           "name": "🚀 H2",
           "type": "scatter3d",
           "x": {
            "bdata": "AAAAAACAccBQXnzvwO5wwJ+8+N6BXXDA3jXqnIWYb8B98uJ7B3ZuwByv21qJU23AvGvUOQsxbMBbKM0YjQ5rwA==",
            "dtype": "f8"
           },
           "y": {
            "bdata": "AAAAAABAb0BiTpxt6jduQMScONvUL21AJ+vUSL8nbECJOXG2qR9rQOuHDSSUF2pATdapkX4PaUCwJEb/aAdoQA==",
            "dtype": "f8"
           },
           "z": {
            "bdata": "AAAAAADAd0DhMS63prJ3QIPHuNyaindA6MCfcNxHd0AOHuNya+p2QPbeguNHcnZAnwN/wnHfdUAKjNcP6TF1QA==",
            "dtype": "f8"
           }
          },
          {
           "line": {
            "color": "cyan",
            "dash": "dash",
            "width": 5
           },
           "marker": {
            "color": "cyan",
            "size": 4,
            "symbol": "diamond"
           },
           "mode": "lines+markers",
           "name": "🛡️ 브라보→H2",
           "type": "scatter3d",
           "x": {
            "bdata": "AAAAAAAARMDpG5a6VipQwNI3LHWtVFbAvFPCLwR/XMDSNyx1rVRhwMdFd9LYaWTAvFPCLwR/Z8CxYQ2NL5RqwA==",
            "dtype": "f8"
           },
           "y": {
            "bdata": "AAAAAAAAPsCwGCx+wMLxP4vB4gcsHEBAUiLUC0KqT0CLweIHLJxXQO5x2wk3Y19AKRHqBSGVY0BaaeaGpnhnQA==",
            "dtype": "f8"
           },
           "z": {
            "bdata": "AAAAAAAAAABYkJXDOb5HQFiQlcM5vldAQiywUqvOYUBYkJXDOb5nQG70ejTIrW1AQiywUqvOcUBN3iKLcsZ0QA==",
            "dtype": "f8"
           }
          },
          {
           "line": {
            "color": "green",
            "width": 4
           },
           "marker": {
            "color": "green",
            "size": 3
           },
           "mode": "lines+markers",
           "name": "🚀 H3",
           "type": "scatter3d",
           "x": {
            "bdata": "AAAAAAAAJEASc+JsU78fQCTmxNmmfhdAarJOjfR7DkAgMSfONvX7P2AKPPntNdS/LJti5RYIA8CE2s4FuMQRwA==",
            "dtype": "f8"
           },
           "y": {
            "bdata": "AAAAAADgdcDKOjXS7xl1wJN1aqTfU3TAXbCfds+Nc8An69RIv8dywPAlChuvAXLAumA/7Z47ccCEm3S/jnVwwA==",
            "dtype": "f8"
           },
           "z": {
            "bdata": "AAAAAABAekDhMS63pjJ6QIPHuNyaCnpA6MCfcNzHeUAOHuNya2p5QPbeguNH8nhAnwN/wnFfeEAKjNcP6bF3QA==",
            "dtype": "f8"
           }
          },
          {
           "line": {
            "color": "cyan",
            "dash": "dash",
            "width": 5
           },
           "marker": {
            "color": "cyan",
            "size": 4,
            "symbol": "diamond"
           },
           "mode": "lines+markers",
           "name": "🛡️ 브라보→H3",
           "type": "scatter3d",
           "x": {
            "bdata": "AAAAAAAARMBPunhbcItBwDzp4m3BLT7A2l3UJKJEOcB50sXbgls0wDCObiXH5C7AandRk4gSJcBQwWgClIAWwA==",
            "dtype": "f8"
           },
           "y": {
            "bdata": "AAAAAAAAPsCOCvC9bCBPwI4K8L1soFfA1Q/oHKOwX8COCvC9bOBjwDENbO2H6GfA1Q/oHKPwa8B5EmRMvvhvwA==",
            "dtype": "f8"
           },
           "z": {
            "bdata": "AAAAAAAAAAAoaCZakUxKQChoJlqRTFpAHs6cA225Y0AoaCZakUxqQBkBWNjab3BAHs6cA225c0Ajm+Eu/wJ3QA==",
            "dtype": "f8"
           }
          },
          {
           "marker": {
            "color": "gold",
            "size": 20,
            "symbol": "x"
           },
           "mode": "markers",
           "name": "💥 H4 요격완료",
           "type": "scatter3d",
           "x": [
            237.9094178462401
           ],
           "y": [
            -14.967246572300791
           ],
           "z": [
            319.7749153252084
           ]
          },
          {
           "line": {
            "color": "brown",
            "width": 4
           },
           "marker": {
            "color": "brown",
            "size": 3
           },
           "mode": "lines+markers",
           "name": "🚀 H5",
           "type": "scatter3d",
           "x": {
            "bdata": "AAAAAAAAacDKOjXS7zlowJN1aqTfc2fAXbCfds+tZsAn69RIv+dlwPAlChuvIWXAumA/7Z5bZMCEm3S/jpVjwA==",
            "dtype": "f8"
           },
           "y": {
            "bdata": "AAAAAABAb8BiTpxt6jduwMScONvUL23AJ+vUSL8nbMCJOXG2qR9rwOuHDSSUF2rATdapkX4PacCwJEb/aAdowA==",
            "dtype": "f8"
           },
           "z": {
            "bdata": "AAAAAAAgfEDhMS63phJ8QIPHuNya6ntA6MCfcNyne0AOHuNya0p7QPbeguNH0npAnwN/wnE/ekAKjNcP6ZF5QA==",
            "dtype": "f8"
           }
          },
          {
           "line": {
            "color": "cyan",
            "dash": "dash",
            "width": 5
           },
           "marker": {
            "color": "cyan",
            "size": 4,
            "symbol": "diamond"
           },
           "mode": "lines+markers",
           "name": "🛡️ 브라보→H5",
           "type": "scatter3d",
           "x": {
            "bdata": "AAAAAAAARMBQYtOsp+JLwFBi06yn4lHAdxM9g/vTVcCfxKZZT8VZwMZ1EDCjtl3AdxM9g/vTYMAM7HFupcxiwA==",
            "dtype": "f8"
           },
           "y": {
            "bdata": "AAAAAAAAPsC1Hu8/qfhJwLUe7z+peFLAEK7m3/30V8BqPd5/UnFdwGLm6o/TdmHAEK7m3/00ZMC+deIvKPNmwA==",
            "dtype": "f8"
           },
           "z": {
            "bdata": "AAAAAAAAAAAKCX6WnddLQAoJfpad11tAyIbeMLbhZEAKCX6WnddrQKbFDn7CZnFAyIbeMLbhdEDqR67jqVx4QA==",
            "dtype": "f8"
           }
          }
         ],
         "layout": {
          "title": {
           "text": "🚀 다중 위협 분산 대응 시스템 - 시간: 2.89초"
          }
         },
         "name": "69"
        },
        {
         "data": [
          {
           "marker": {
            "color": "red",
            "size": 20,
            "symbol": "diamond"
           },
           "mode": "markers",
           "name": "🏙️ 도시",
           "type": "scatter3d",
           "x": [
            0
           ],
           "y": [
            0
           ],
           "z": [
            0
           ]
          },
          {
           "marker": {
            "color": "blue",
            "size": 15,
            "symbol": "square"
           },
           "mode": "markers",
           "name": "🏭 알파 기지",
           "type": "scatter3d",
           "x": [
            50
           ],
           "y": [
            20
           ],
           "z": [
            0
           ]
          },
          {
           "marker": {
            "color": "cyan",
            "size": 15,
            "symbol": "square"
           },
           "mode": "markers",
           "name": "🏭 브라보 기지",
           "type": "scatter3d",
           "x": [
            -40
           ],
           "y": [
            -30
           ],
           "z": [
            0
           ]
          },
          {
           "marker": {
            "color": "gold",
            "size": 20,
            "symbol": "x"
           },
           "mode": "markers",
           "name": "💥 H1 요격완료",
           "type": "scatter3d",
           "x": [
            191.6741735942662
           ],
           "y": [
            227.09271699283272
           ],
           "z": [
            358.3267001825805
           ]
          },
          {
           "line": {
            "color": "orange",
            "width": 4
           },
           "marker": {
            "color": "orange",
            "size": 3
           },
           "mode": "lines+markers",
           "name": "🚀 H2",
           "type": "scatter3d",
           "x": {
            "bdata": "AAAAAACAccCmee0MpuxwwEzz2hlMWXDA5dmQTeSLb8AxzWtnMGVuwH3ARoF8Pm3AybMhm8gXbMAWp/y0FPFqwA==",
            "dtype": "f8"
           },
           "y": {
            "bdata": "AAAAAABAb0D/IiSjFjRuQP9FSEYtKG1A/mhs6UMcbED+i5CMWhBrQP2utC9xBGpA/dHY0of4aED89Px1nuxnQA==",
            "dtype": "f8"
           },
           "z": {
            "bdata": "AAAAAADAd0AJ8TDyQrJ3QCXEw8gLiXdAU3m4g1pEd0CTEA8jL+R2QOaJx6aJaHZAS+XhDmrRdUDDIl5b0B51QA==",
            "dtype": "f8"
           }
          },
          {
           "line": {
            "color": "cyan",
            "dash": "dash",
            "width": 5
           },
           "marker": {
            "color": "cyan",
            "size": 4,
            "symbol": "diamond"
           },
           "mode": "lines+markers",
           "name": "🛡️ 브라보→H2",
           "type": "scatter3d",
           "x": {
            "bdata": "AAAAAAAARMCFZjCYNkFQwArNYDBtglbAjjORyKPDXMAKzWAwbYJhwE0AeXwIo2TAjjORyKPDZ8DRZqkUP+RqwA==",
            "dtype": "f8"
           },
           "y": {
            "bdata": "AAAAAAAAPsCgRcw1hPn4P1rEXEOYj0BAQ5OFMrIrUEBaxFxDmA9YQHL1M1R+819AQ5OFMrLrY0DOK/E6pd1nQA==",
            "dtype": "f8"
           },
           "z": {
            "bdata": "AAAAAAAAAAAI/q3cUBZIQAj+rdxQFlhAhn6CpbwQYkAI/q3cUBZoQIt92RPlG25Ahn6CpbwQckBHPhjBhhN1QA==",
            "dtype": "f8"
           }
          },
          {
           "line": {
            "color": "green",
            "width": 4
           },
           "marker": {
            "color": "green",
            "size": 3
           },
           "mode": "lines+markers",
           "name": "🚀 H3",
           "type": "scatter3d",
           "x": {
            "bdata": "AAAAAAAAJED8FyEZtaAfQPcvQjJqQRdA5o/Glj7EDUC4fxGSUQv6P2CBqCVox92/NOBy0oJ3BMAeWBhQDJsSwA==",
            "dtype": "f8"
           },
           "y": {
            "bdata": "AAAAAADgdcBAGlv6EBd1wH80tvQhTnTAv04R7zKFc8D+aGzpQ7xywD6Dx+NU83HAfp0i3mUqccC9t33YdmFwwA==",
            "dtype": "f8"
           },
           "z": {
            "bdata": "AAAAAABAekAJ8TDyQjJ6QCXEw8gLCXpAU3m4g1rEeUCTEA8jL2R5QOaJx6aJ6HhAS+XhDmpReEDDIl5b0J53QA==",
            "dtype": "f8"
           }
          },
          {
           "line": {
            "color": "cyan",
            "dash": "dash",
            "width": 5
           },
           "marker": {
            "color": "cyan",
            "size": 4,
            "symbol": "diamond"
           },
           "mode": "lines+markers",
           "name": "🛡️ 브라보→H3",
           "type": "scatter3d",
           "x": {
            "bdata": "AAAAAAAARMCI6fRNVIJBwCCm0zdRCT7AMHm90/kNOcA/TKdvohI0wJw+IheWLi7AvuT1Tuc3JMC4FZMNcYIUwA==",
            "dtype": "f8"
           },
           "y": {
            "bdata": "AAAAAAAAPsD4INLLQVxPwPgg0stB3FfAupjdWDEFYMD4INLLQRxkwDepxj5SM2jAdDG7sWJKbMDZ3FeSuTBwwA==",
            "dtype": "f8"
           },
           "z": {
            "bdata": "AAAAAAAAAACUt4MnJK5KQJS3gyckrlpAr8miHZsCZECUt4MnJK5qQL5SspjWrHBAr8miHZsCdECiQJOiX1h3QA==",
            "dtype": "f8"
           }
          },
          {
           "marker": {
            "color": "gold",
            "size": 20,
            "symbol": "x"
           },
           "mode": "markers",
           "name": "💥 H4 요격완료",
           "type": "scatter3d",
           "x": [
            237.9094178462401
           ],
           "y": [
            -14.967246572300791
           ],
           "z": [
            319.7749153252084
           ]
          },
          {
           "line": {
            "color": "brown",
            "width": 4
           },
           "marker": {
            "color": "brown",
            "size": 3
           },
           "mode": "lines+markers",
           "name": "🚀 H5",
           "type": "scatter3d",
           "x": {
            "bdata": "AAAAAAAAacBAGlv6EDdowH80tvQhbmfAv04R7zKlZsD+aGzpQ9xlwD6Dx+NUE2XAfp0i3mVKZMC9t33YdoFjwA==",
            "dtype": "f8"
           },
           "y": {
            "bdata": "AAAAAABAb8D/IiSjFjRuwP9FSEYtKG3A/mhs6UMcbMD+i5CMWhBrwP2utC9xBGrA/dHY0of4aMD89Px1nuxnwA==",
            "dtype": "f8"
           },
           "z": {
            "bdata": "AAAAAAAgfEAJ8TDyQhJ8QCXEw8gL6XtAU3m4g1qke0CTEA8jL0R7QOaJx6aJyHpAS+XhDmoxekDDIl5b0H55QA==",
            "dtype": "f8"
           }
          },
          {
           "line": {
            "color": "cyan",
            "dash": "dash",
            "width": 5
           },
           "marker": {
            "color": "cyan",
            "size": 4,
            "symbol": "diamond"
           },
           "mode": "lines+markers",
           "name": "🛡️ 브라보→H5",
           "type": "scatter3d",
           "x": {
            "bdata": "AAAAAAAARMCmsXkt6f9LwKaxeS3p/1HAeYo2xN3/VcBMY/Na0v9ZwCA8sPHG/13AeYo2xN3/YMDi9pQP2P9iwA==",
            "dtype": "f8"
           },
           "y": {
            "bdata": "AAAAAAAAPsA+0SLKXSFKwD7RIspdoVLA3Dk0rwwyWMB7okWUu8JdwI6Fqzy1qWHA3Dk0rwxyZMAs7rwhZDpnwA==",
            "dtype": "f8"
           },
           "z": {
            "bdata": "AAAAAAAAAAAhsBsT6j5MQCGwGxPqPlxAGcRUji8vZUAhsBsT6j5sQBZO8UtSp3FAGcRUji8vdUAdOrjQDLd4QA==",
            "dtype": "f8"
           }
          }
         ],
         "layout": {
          "title": {
           "text": "🚀 다중 위협 분산 대응 시스템 - 시간: 2.93초"
          }
         },
         "name": "70"
        },
        {
         "data": [
          {
           "marker": {
            "color": "red",
            "size": 20,
            "symbol": "diamond"
           },
           "mode": "markers",
           "name": "🏙️ 도시",
           "type": "scatter3d",
           "x": [
            0
           ],
           "y": [
            0
           ],
           "z": [
            0
           ]
          },
          {
           "marker": {
            "color": "blue",
            "size": 15,
            "symbol": "square"
           },
           "mode": "markers",
           "name": "🏭 알파 기지",
           "type": "scatter3d",
           "x": [
            50
           ],
           "y": [
            20
           ],
           "z": [
            0
           ]
          },
          {
           "marker": {
            "color": "cyan",
            "size": 15,
            "symbol": "square"
           },
           "mode": "markers",
           "name": "🏭 브라보 기지",
           "type": "scatter3d",
           "x": [
            -40
           ],
           "y": [
            -30
           ],
           "z": [
            0
           ]
          },
          {
           "marker": {
            "color": "gold",
            "size": 20,
            "symbol": "x"
           },
           "mode": "markers",
           "name": "💥 H1 요격완료",
           "type": "scatter3d",
           "x": [
            191.6741735942662
           ],
           "y": [
            227.09271699283272
           ],
           "z": [
            358.3267001825805
           ]
          },
          {
           "marker": {
            "color": "gold",
            "size": 20,
            "symbol": "x"
           },
           "mode": "markers",
           "name": "💥 H2 요격완료",
           "type": "scatter3d",
           "x": [
            -215.42586425699295
           ],
           "y": [
            191.29624023362993
           ],
           "z": [
            337.7848902188308
           ]
          },
          {
           "marker": {
            "color": "gold",
            "size": 20,
            "symbol": "x"
           },
           "mode": "markers",
           "name": "💥 H3 요격완료",
           "type": "scatter3d",
           "x": [
            -4.792227354831994
           ],
           "y": [
            -261.24663587100804
           ],
           "z": [
            377.1132419370602
           ]
          },
          {
           "marker": {
            "color": "gold",
            "size": 20,
            "symbol": "x"
           },
           "mode": "markers",
           "name": "💥 H4 요격완료",
           "type": "scatter3d",
           "x": [
            237.9094178462401
           ],
           "y": [
            -14.967246572300791
           ],
           "z": [
            319.7749153252084
           ]
          },
          {
           "line": {
            "color": "brown",
            "width": 4
           },
           "marker": {
            "color": "brown",
            "size": 3
           },
           "mode": "lines+markers",
           "name": "🚀 H5",
           "type": "scatter3d",
           "x": {
            "bdata": "AAAAAAAAacC2+YAiMjRowGvzAUVkaGfAIe2CZ5acZsDW5gOKyNBlwIzghKz6BGXAQdoFzyw5ZMD304bxXm1jwA==",
            "dtype": "f8"
           },
           "y": {
            "bdata": "AAAAAABAb8Cd96vYQjBuwDrvV7GFIG3A1uYDisgQbMBz3q9iCwFrwBDWWztO8WnArM0HFJHhaMBJxbPs09FnwA==",
            "dtype": "f8"
           },
           "z": {
            "bdata": "AAAAAAAgfEANprS93RF8QDWY0vZ253tAeNZZq8uge0DUYErb2z17QEw3pIanvnpA3llnrS4jekCLyJNPcWt5QA==",
            "dtype": "f8"
           }
          },
          {
           "line": {
            "color": "cyan",
            "dash": "dash",
            "width": 5
           },
           "marker": {
            "color": "cyan",
            "size": 4,
            "symbol": "diamond"
           },
           "mode": "lines+markers",
           "name": "🛡️ 브라보→H5",
           "type": "scatter3d",
           "x": {
            "bdata": "AAAAAAAARMD8ACCuKh1MwPwAIK4qHVLAegEwBcArVsD5AUBcVTpawHcCULPqSF7AegEwBcArYcC6AbiwCjNjwA==",
            "dtype": "f8"
           },
           "y": {
            "bdata": "AAAAAAAAPsDGg1ZUEkpKwMaDVlQSylLAqMWBfhtvWMCLB62oJBRewLckbOmW3GHAqMWBfhuvZMCaZpcToIFnwA==",
            "dtype": "f8"
           },
           "z": {
            "bdata": "AAAAAAAAAAA3V7mPNqZMQDdXuY82plxAaQHL66h8ZUA3V7mPNqZsQILW0xni53FAaQHL66h8dUBQLMK9bxF5QA==",
            "dtype": "f8"
           }
          }
         ],
         "layout": {
          "title": {
           "text": "🚀 다중 위협 분산 대응 시스템 - 시간: 2.97초"
          }
         },
         "name": "71"
        },
        {
         "data": [
          {
           "marker": {
            "color": "red",
            "size": 20,
            "symbol": "diamond"
           },
           "mode": "markers",
           "name": "🏙️ 도시",
           "type": "scatter3d",
           "x": [
            0
           ],
           "y": [
            0
           ],
           "z": [
            0
           ]
          },
          {
           "marker": {
            "color": "blue",
            "size": 15,
            "symbol": "square"
           },
           "mode": "markers",
           "name": "🏭 알파 기지",
           "type": "scatter3d",
           "x": [
            50
           ],
           "y": [
            20
           ],
           "z": [
            0
           ]
          },
          {
           "marker": {
            "color": "cyan",
            "size": 15,
            "symbol": "square"
           },
           "mode": "markers",
           "name": "🏭 브라보 기지",
           "type": "scatter3d",
           "x": [
            -40
           ],
           "y": [
            -30
           ],
           "z": [
            0
           ]
          },
          {
           "marker": {
            "color": "gold",
            "size": 20,
            "symbol": "x"
           },
           "mode": "markers",
           "name": "💥 H1 요격완료",
           "type": "scatter3d",
           "x": [
            191.6741735942662
           ],
           "y": [
            227.09271699283272
           ],
           "z": [
            358.3267001825805
           ]
          },
          {
           "marker": {
            "color": "gold",
            "size": 20,
            "symbol": "x"
           },
           "mode": "markers",
           "name": "💥 H2 요격완료",
           "type": "scatter3d",
           "x": [
            -215.42586425699295
           ],
           "y": [
            191.29624023362993
           ],
           "z": [
            337.7848902188308
           ]
          },
          {
           "marker": {
            "color": "gold",
            "size": 20,
            "symbol": "x"
           },
           "mode": "markers",
           "name": "💥 H3 요격완료",
           "type": "scatter3d",
           "x": [
            -4.792227354831994
           ],
           "y": [
            -261.24663587100804
           ],
           "z": [
            377.1132419370602
           ]
          },
          {
           "marker": {
            "color": "gold",
            "size": 20,
            "symbol": "x"
           },
           "mode": "markers",
           "name": "💥 H4 요격완료",
           "type": "scatter3d",
           "x": [
            237.9094178462401
           ],
           "y": [
            -14.967246572300791
           ],
           "z": [
            319.7749153252084
           ]
          },
          {
           "marker": {
            "color": "gold",
            "size": 20,
            "symbol": "x"
           },
           "mode": "markers",
           "name": "💥 H5 요격완료",
           "type": "scatter3d",
           "x": [
            -154.9040888922289
           ],
           "y": [
            -189.8721185229719
           ],
           "z": [
            405.71181389628464
           ]
          }
         ],
         "layout": {
          "title": {
           "text": "🚀 다중 위협 분산 대응 시스템 - 시간: 3.01초"
          }
         },
         "name": "72"
        },
        {
         "data": [
          {
           "marker": {
            "color": "red",
            "size": 20,
            "symbol": "diamond"
           },
           "mode": "markers",
           "name": "🏙️ 도시",
           "type": "scatter3d",
           "x": [
            0
           ],
           "y": [
            0
           ],
           "z": [
            0
           ]
          },
          {
           "marker": {
            "color": "blue",
            "size": 15,
            "symbol": "square"
           },
           "mode": "markers",
           "name": "🏭 알파 기지",
           "type": "scatter3d",
           "x": [
            50
           ],
           "y": [
            20
           ],
           "z": [
            0
           ]
          },
          {
           "marker": {
            "color": "cyan",
            "size": 15,
            "symbol": "square"
           },
           "mode": "markers",
           "name": "🏭 브라보 기지",
           "type": "scatter3d",
           "x": [
            -40
           ],
           "y": [
            -30
           ],
           "z": [
            0
           ]
          },
          {
           "marker": {
            "color": "gold",
            "size": 20,
            "symbol": "x"
           },
           "mode": "markers",
           "name": "💥 H1 요격완료",
           "type": "scatter3d",
           "x": [
            191.6741735942662
           ],
           "y": [
            227.09271699283272
           ],
           "z": [
            358.3267001825805
           ]
          },
          {
           "marker": {
            "color": "gold",
            "size": 20,
            "symbol": "x"
           },
           "mode": "markers",
           "name": "💥 H2 요격완료",
           "type": "scatter3d",
           "x": [
            -215.42586425699295
           ],
           "y": [
            191.29624023362993
           ],
           "z": [
            337.7848902188308
           ]
          },
          {
           "marker": {
            "color": "gold",
            "size": 20,
            "symbol": "x"
           },
           "mode": "markers",
           "name": "💥 H3 요격완료",
           "type": "scatter3d",
           "x": [
            -4.792227354831994
           ],
           "y": [
            -261.24663587100804
           ],
           "z": [
            377.1132419370602
           ]
          },
          {
           "marker": {
            "color": "gold",
            "size": 20,
            "symbol": "x"
           },
           "mode": "markers",
           "name": "💥 H4 요격완료",
           "type": "scatter3d",
           "x": [
            237.9094178462401
           ],
           "y": [
            -14.967246572300791
           ],
           "z": [
            319.7749153252084
           ]
          },
          {
           "marker": {
            "color": "gold",
            "size": 20,
            "symbol": "x"
           },
           "mode": "markers",
           "name": "💥 H5 요격완료",
           "type": "scatter3d",
           "x": [
            -154.9040888922289
           ],
           "y": [
            -189.8721185229719
           ],
           "z": [
            405.71181389628464
           ]
          }
         ],
         "layout": {
          "title": {
           "text": "🚀 다중 위협 분산 대응 시스템 - 시간: 3.06초"
          }
         },
         "name": "73"
        },
        {
         "data": [
          {
           "marker": {
            "color": "red",
            "size": 20,
            "symbol": "diamond"
           },
           "mode": "markers",
           "name": "🏙️ 도시",
           "type": "scatter3d",
           "x": [
            0
           ],
           "y": [
            0
           ],
           "z": [
            0
           ]
          },
          {
           "marker": {
            "color": "blue",
            "size": 15,
            "symbol": "square"
           },
           "mode": "markers",
           "name": "🏭 알파 기지",
           "type": "scatter3d",
           "x": [
            50
           ],
           "y": [
            20
           ],
           "z": [
            0
           ]
          },
          {
           "marker": {
            "color": "cyan",
            "size": 15,
            "symbol": "square"
           },
           "mode": "markers",
           "name": "🏭 브라보 기지",
           "type": "scatter3d",
           "x": [
            -40
           ],
           "y": [
            -30
           ],
           "z": [
            0
           ]
          },
          {
           "marker": {
            "color": "gold",
            "size": 20,
            "symbol": "x"
           },
           "mode": "markers",
           "name": "💥 H1 요격완료",
           "type": "scatter3d",
           "x": [
            191.6741735942662
           ],
           "y": [
            227.09271699283272
           ],
           "z": [
            358.3267001825805
           ]
          },
          {
           "marker": {
            "color": "gold",
            "size": 20,
            "symbol": "x"
           },
           "mode": "markers",
           "name": "💥 H2 요격완료",
           "type": "scatter3d",
           "x": [
            -215.42586425699295
           ],
           "y": [
            191.29624023362993
           ],
           "z": [
            337.7848902188308
           ]
          },
          {
           "marker": {
            "color": "gold",
            "size": 20,
            "symbol": "x"
           },
           "mode": "markers",
           "name": "💥 H3 요격완료",
           "type": "scatter3d",
           "x": [
            -4.792227354831994
           ],
           "y": [
            -261.24663587100804
           ],
           "z": [
            377.1132419370602
           ]
          },
          {
           "marker": {
            "color": "gold",
            "size": 20,
            "symbol": "x"
           },
           "mode": "markers",
           "name": "💥 H4 요격완료",
           "type": "scatter3d",
           "x": [
            237.9094178462401
           ],
           "y": [
            -14.967246572300791
           ],
           "z": [
            319.7749153252084
           ]
          },
          {
           "marker": {
            "color": "gold",
            "size": 20,
            "symbol": "x"
           },
           "mode": "markers",
           "name": "💥 H5 요격완료",
           "type": "scatter3d",
           "x": [
            -154.9040888922289
           ],
           "y": [
            -189.8721185229719
           ],
           "z": [
            405.71181389628464
           ]
          }
         ],
         "layout": {
          "title": {
           "text": "🚀 다중 위협 분산 대응 시스템 - 시간: 3.10초"
          }
         },
         "name": "74"
        },
        {
         "data": [
          {
           "marker": {
            "color": "red",
            "size": 20,
            "symbol": "diamond"
           },
           "mode": "markers",
           "name": "🏙️ 도시",
           "type": "scatter3d",
           "x": [
            0
           ],
           "y": [
            0
           ],
           "z": [
            0
           ]
          },
          {
           "marker": {
            "color": "blue",
            "size": 15,
            "symbol": "square"
           },
           "mode": "markers",
           "name": "🏭 알파 기지",
           "type": "scatter3d",
           "x": [
            50
           ],
           "y": [
            20
           ],
           "z": [
            0
           ]
          },
          {
           "marker": {
            "color": "cyan",
            "size": 15,
            "symbol": "square"
           },
           "mode": "markers",
           "name": "🏭 브라보 기지",
           "type": "scatter3d",
           "x": [
            -40
           ],
           "y": [
            -30
           ],
           "z": [
            0
           ]
          },
          {
           "marker": {
            "color": "gold",
            "size": 20,
            "symbol": "x"
           },
           "mode": "markers",
           "name": "💥 H1 요격완료",
           "type": "scatter3d",
           "x": [
            191.6741735942662
           ],
           "y": [
            227.09271699283272
           ],
           "z": [
            358.3267001825805
           ]
          },
          {
           "marker": {
            "color": "gold",
            "size": 20,
            "symbol": "x"
           },
           "mode": "markers",
           "name": "💥 H2 요격완료",
           "type": "scatter3d",
           "x": [
            -215.42586425699295
           ],
           "y": [
            191.29624023362993
           ],
           "z": [
            337.7848902188308
           ]
          },
          {
           "marker": {
            "color": "gold",
            "size": 20,
            "symbol": "x"
           },
           "mode": "markers",
           "name": "💥 H3 요격완료",
           "type": "scatter3d",
           "x": [
            -4.792227354831994
           ],
           "y": [
            -261.24663587100804
           ],
           "z": [
            377.1132419370602
           ]
          },
          {
           "marker": {
            "color": "gold",
            "size": 20,
            "symbol": "x"
           },
           "mode": "markers",
           "name": "💥 H4 요격완료",
           "type": "scatter3d",
           "x": [
            237.9094178462401
           ],
           "y": [
            -14.967246572300791
           ],
           "z": [
            319.7749153252084
           ]
          },
          {
           "marker": {
            "color": "gold",
            "size": 20,
            "symbol": "x"
           },
           "mode": "markers",
           "name": "💥 H5 요격완료",
           "type": "scatter3d",
           "x": [
            -154.9040888922289
           ],
           "y": [
            -189.8721185229719
           ],
           "z": [
            405.71181389628464
           ]
          }
         ],
         "layout": {
          "title": {
           "text": "🚀 다중 위협 분산 대응 시스템 - 시간: 3.14초"
          }
         },
         "name": "75"
        },
        {
         "data": [
          {
           "marker": {
            "color": "red",
            "size": 20,
            "symbol": "diamond"
           },
           "mode": "markers",
           "name": "🏙️ 도시",
           "type": "scatter3d",
           "x": [
            0
           ],
           "y": [
            0
           ],
           "z": [
            0
           ]
          },
          {
           "marker": {
            "color": "blue",
            "size": 15,
            "symbol": "square"
           },
           "mode": "markers",
           "name": "🏭 알파 기지",
           "type": "scatter3d",
           "x": [
            50
           ],
           "y": [
            20
           ],
           "z": [
            0
           ]
          },
          {
           "marker": {
            "color": "cyan",
            "size": 15,
            "symbol": "square"
           },
           "mode": "markers",
           "name": "🏭 브라보 기지",
           "type": "scatter3d",
           "x": [
            -40
           ],
           "y": [
            -30
           ],
           "z": [
            0
           ]
          },
          {
           "marker": {
            "color": "gold",
            "size": 20,
            "symbol": "x"
           },
           "mode": "markers",
           "name": "💥 H1 요격완료",
           "type": "scatter3d",
           "x": [
            191.6741735942662
           ],
           "y": [
            227.09271699283272
           ],
           "z": [
            358.3267001825805
           ]
          },
          {
           "marker": {
            "color": "gold",
            "size": 20,
            "symbol": "x"
           },
           "mode": "markers",
           "name": "💥 H2 요격완료",
           "type": "scatter3d",
           "x": [
            -215.42586425699295
           ],
           "y": [
            191.29624023362993
           ],
           "z": [
            337.7848902188308
           ]
          },
          {
           "marker": {
            "color": "gold",
            "size": 20,
            "symbol": "x"
           },
           "mode": "markers",
           "name": "💥 H3 요격완료",
           "type": "scatter3d",
           "x": [
            -4.792227354831994
           ],
           "y": [
            -261.24663587100804
           ],
           "z": [
            377.1132419370602
           ]
          },
          {
           "marker": {
            "color": "gold",
            "size": 20,
            "symbol": "x"
           },
           "mode": "markers",
           "name": "💥 H4 요격완료",
           "type": "scatter3d",
           "x": [
            237.9094178462401
           ],
           "y": [
            -14.967246572300791
           ],
           "z": [
            319.7749153252084
           ]
          },
          {
           "marker": {
            "color": "gold",
            "size": 20,
            "symbol": "x"
           },
           "mode": "markers",
           "name": "💥 H5 요격완료",
           "type": "scatter3d",
           "x": [
            -154.9040888922289
           ],
           "y": [
            -189.8721185229719
           ],
           "z": [
            405.71181389628464
           ]
          }
         ],
         "layout": {
          "title": {
           "text": "🚀 다중 위협 분산 대응 시스템 - 시간: 3.18초"
          }
         },
         "name": "76"
        },
        {
         "data": [
          {
           "marker": {
            "color": "red",
            "size": 20,
            "symbol": "diamond"
           },
           "mode": "markers",
           "name": "🏙️ 도시",
           "type": "scatter3d",
           "x": [
            0
           ],
           "y": [
            0
           ],
           "z": [
            0
           ]
          },
          {
           "marker": {
            "color": "blue",
            "size": 15,
            "symbol": "square"
           },
           "mode": "markers",
           "name": "🏭 알파 기지",
           "type": "scatter3d",
           "x": [
            50
           ],
           "y": [
            20
           ],
           "z": [
            0
           ]
          },
          {
           "marker": {
            "color": "cyan",
            "size": 15,
            "symbol": "square"
           },
           "mode": "markers",
           "name": "🏭 브라보 기지",
           "type": "scatter3d",
           "x": [
            -40
           ],
           "y": [
            -30
           ],
           "z": [
            0
           ]
          },
          {
           "marker": {
            "color": "gold",
            "size": 20,
            "symbol": "x"
           },
           "mode": "markers",
           "name": "💥 H1 요격완료",
           "type": "scatter3d",
           "x": [
            191.6741735942662
           ],
           "y": [
            227.09271699283272
           ],
           "z": [
            358.3267001825805
           ]
          },
          {
           "marker": {
            "color": "gold",
            "size": 20,
            "symbol": "x"
           },
           "mode": "markers",
           "name": "💥 H2 요격완료",
           "type": "scatter3d",
           "x": [
            -215.42586425699295
           ],
           "y": [
            191.29624023362993
           ],
           "z": [
            337.7848902188308
           ]
          },
          {
           "marker": {
            "color": "gold",
            "size": 20,
            "symbol": "x"
           },
           "mode": "markers",
           "name": "💥 H3 요격완료",
           "type": "scatter3d",
           "x": [
            -4.792227354831994
           ],
           "y": [
            -261.24663587100804
           ],
           "z": [
            377.1132419370602
           ]
          },
          {
           "marker": {
            "color": "gold",
            "size": 20,
            "symbol": "x"
           },
           "mode": "markers",
           "name": "💥 H4 요격완료",
           "type": "scatter3d",
           "x": [
            237.9094178462401
           ],
           "y": [
            -14.967246572300791
           ],
           "z": [
            319.7749153252084
           ]
          },
          {
           "marker": {
            "color": "gold",
            "size": 20,
            "symbol": "x"
           },
           "mode": "markers",
           "name": "💥 H5 요격완료",
           "type": "scatter3d",
           "x": [
            -154.9040888922289
           ],
           "y": [
            -189.8721185229719
           ],
           "z": [
            405.71181389628464
           ]
          }
         ],
         "layout": {
          "title": {
           "text": "🚀 다중 위협 분산 대응 시스템 - 시간: 3.22초"
          }
         },
         "name": "77"
        },
        {
         "data": [
          {
           "marker": {
            "color": "red",
            "size": 20,
            "symbol": "diamond"
           },
           "mode": "markers",
           "name": "🏙️ 도시",
           "type": "scatter3d",
           "x": [
            0
           ],
           "y": [
            0
           ],
           "z": [
            0
           ]
          },
          {
           "marker": {
            "color": "blue",
            "size": 15,
            "symbol": "square"
           },
           "mode": "markers",
           "name": "🏭 알파 기지",
           "type": "scatter3d",
           "x": [
            50
           ],
           "y": [
            20
           ],
           "z": [
            0
           ]
          },
          {
           "marker": {
            "color": "cyan",
            "size": 15,
            "symbol": "square"
           },
           "mode": "markers",
           "name": "🏭 브라보 기지",
           "type": "scatter3d",
           "x": [
            -40
           ],
           "y": [
            -30
           ],
           "z": [
            0
           ]
          },
          {
           "marker": {
            "color": "gold",
            "size": 20,
            "symbol": "x"
           },
           "mode": "markers",
           "name": "💥 H1 요격완료",
           "type": "scatter3d",
           "x": [
            191.6741735942662
           ],
           "y": [
            227.09271699283272
           ],
           "z": [
            358.3267001825805
           ]
          },
          {
           "marker": {
            "color": "gold",
            "size": 20,
            "symbol": "x"
           },
           "mode": "markers",
           "name": "💥 H2 요격완료",
           "type": "scatter3d",
           "x": [
            -215.42586425699295
           ],
           "y": [
            191.29624023362993
           ],
           "z": [
            337.7848902188308
           ]
          },
          {
           "marker": {
            "color": "gold",
            "size": 20,
            "symbol": "x"
           },
           "mode": "markers",
           "name": "💥 H3 요격완료",
           "type": "scatter3d",
           "x": [
            -4.792227354831994
           ],
           "y": [
            -261.24663587100804
           ],
           "z": [
            377.1132419370602
           ]
          },
          {
           "marker": {
            "color": "gold",
            "size": 20,
            "symbol": "x"
           },
           "mode": "markers",
           "name": "💥 H4 요격완료",
           "type": "scatter3d",
           "x": [
            237.9094178462401
           ],
           "y": [
            -14.967246572300791
           ],
           "z": [
            319.7749153252084
           ]
          },
          {
           "marker": {
            "color": "gold",
            "size": 20,
            "symbol": "x"
           },
           "mode": "markers",
           "name": "💥 H5 요격완료",
           "type": "scatter3d",
           "x": [
            -154.9040888922289
           ],
           "y": [
            -189.8721185229719
           ],
           "z": [
            405.71181389628464
           ]
          }
         ],
         "layout": {
          "title": {
           "text": "🚀 다중 위협 분산 대응 시스템 - 시간: 3.27초"
          }
         },
         "name": "78"
        },
        {
         "data": [
          {
           "marker": {
            "color": "red",
            "size": 20,
            "symbol": "diamond"
           },
           "mode": "markers",
           "name": "🏙️ 도시",
           "type": "scatter3d",
           "x": [
            0
           ],
           "y": [
            0
           ],
           "z": [
            0
           ]
          },
          {
           "marker": {
            "color": "blue",
            "size": 15,
            "symbol": "square"
           },
           "mode": "markers",
           "name": "🏭 알파 기지",
           "type": "scatter3d",
           "x": [
            50
           ],
           "y": [
            20
           ],
           "z": [
            0
           ]
          },
          {
           "marker": {
            "color": "cyan",
            "size": 15,
            "symbol": "square"
           },
           "mode": "markers",
           "name": "🏭 브라보 기지",
           "type": "scatter3d",
           "x": [
            -40
           ],
           "y": [
            -30
           ],
           "z": [
            0
           ]
          },
          {
           "marker": {
            "color": "gold",
            "size": 20,
            "symbol": "x"
           },
           "mode": "markers",
           "name": "💥 H1 요격완료",
           "type": "scatter3d",
           "x": [
            191.6741735942662
           ],
           "y": [
            227.09271699283272
           ],
           "z": [
            358.3267001825805
           ]
          },
          {
           "marker": {
            "color": "gold",
            "size": 20,
            "symbol": "x"
           },
           "mode": "markers",
           "name": "💥 H2 요격완료",
           "type": "scatter3d",
           "x": [
            -215.42586425699295
           ],
           "y": [
            191.29624023362993
           ],
           "z": [
            337.7848902188308
           ]
          },
          {
           "marker": {
            "color": "gold",
            "size": 20,
            "symbol": "x"
           },
           "mode": "markers",
           "name": "💥 H3 요격완료",
           "type": "scatter3d",
           "x": [
            -4.792227354831994
           ],
           "y": [
            -261.24663587100804
           ],
           "z": [
            377.1132419370602
           ]
          },
          {
           "marker": {
            "color": "gold",
            "size": 20,
            "symbol": "x"
           },
           "mode": "markers",
           "name": "💥 H4 요격완료",
           "type": "scatter3d",
           "x": [
            237.9094178462401
           ],
           "y": [
            -14.967246572300791
           ],
           "z": [
            319.7749153252084
           ]
          },
          {
           "marker": {
            "color": "gold",
            "size": 20,
            "symbol": "x"
           },
           "mode": "markers",
           "name": "💥 H5 요격완료",
           "type": "scatter3d",
           "x": [
            -154.9040888922289
           ],
           "y": [
            -189.8721185229719
           ],
           "z": [
            405.71181389628464
           ]
          }
         ],
         "layout": {
          "title": {
           "text": "🚀 다중 위협 분산 대응 시스템 - 시간: 3.31초"
          }
         },
         "name": "79"
        }
       ],
       "layout": {
        "height": 800,
        "legend": {
         "bgcolor": "rgba(255,255,255,0.8)",
         "x": 0.02,
         "y": 0.98
        },
        "scene": {
         "aspectmode": "cube",
         "camera": {
          "eye": {
           "x": 1.5,
           "y": 1.5,
           "z": 1.2
          }
         },
         "xaxis": {
          "range": [
           -400,
           400
          ],
          "title": {
           "text": "X (m)"
          }
         },
         "yaxis": {
          "range": [
           -400,
           400
          ],
          "title": {
           "text": "Y (m)"
          }
         },
         "zaxis": {
          "range": [
           0,
           500
          ],
          "title": {
           "text": "Z (m)"
          }
         }
        },
        "showlegend": true,
        "sliders": [
         {
          "active": 0,
          "currentvalue": {
           "font": {
            "size": 12
           },
           "prefix": "시간: ",
           "visible": true,
           "xanchor": "right"
          },
          "len": 0.9,
          "pad": {
           "b": 10,
           "t": 50
          },
          "steps": [
           {
            "args": [
             [
              "0"
             ],
             {
              "frame": {
               "duration": 100,
               "redraw": true
              },
              "mode": "immediate",
              "transition": {
               "duration": 100
              }
             }
            ],
            "label": "0.0s",
            "method": "animate"
           },
           {
            "args": [
             [
              "1"
             ],
             {
              "frame": {
               "duration": 100,
               "redraw": true
              },
              "mode": "immediate",
              "transition": {
               "duration": 100
              }
             }
            ],
            "label": "0.0s",
            "method": "animate"
           },
           {
            "args": [
             [
              "2"
             ],
             {
              "frame": {
               "duration": 100,
               "redraw": true
              },
              "mode": "immediate",
              "transition": {
               "duration": 100
              }
             }
            ],
            "label": "0.1s",
            "method": "animate"
           },
           {
            "args": [
             [
              "3"
             ],
             {
              "frame": {
               "duration": 100,
               "redraw": true
              },
              "mode": "immediate",
              "transition": {
               "duration": 100
              }
             }
            ],
            "label": "0.1s",
            "method": "animate"
           },
           {
            "args": [
             [
              "4"
             ],
             {
              "frame": {
               "duration": 100,
               "redraw": true
              },
              "mode": "immediate",
              "transition": {
               "duration": 100
              }
             }
            ],
            "label": "0.2s",
            "method": "animate"
           },
           {
            "args": [
             [
              "5"
             ],
             {
              "frame": {
               "duration": 100,
               "redraw": true
              },
              "mode": "immediate",
              "transition": {
               "duration": 100
              }
             }
            ],
            "label": "0.2s",
            "method": "animate"
           },
           {
            "args": [
             [
              "6"
             ],
             {
              "frame": {
               "duration": 100,
               "redraw": true
              },
              "mode": "immediate",
              "transition": {
               "duration": 100
              }
             }
            ],
            "label": "0.3s",
            "method": "animate"
           },
           {
            "args": [
             [
              "7"
             ],
             {
              "frame": {
               "duration": 100,
               "redraw": true
              },
              "mode": "immediate",
              "transition": {
               "duration": 100
              }
             }
            ],
            "label": "0.3s",
            "method": "animate"
           },
           {
            "args": [
             [
              "8"
             ],
             {
              "frame": {
               "duration": 100,
               "redraw": true
              },
              "mode": "immediate",
              "transition": {
               "duration": 100
              }
             }
            ],
            "label": "0.3s",
            "method": "animate"
           },
           {
            "args": [
             [
              "9"
             ],
             {
              "frame": {
               "duration": 100,
               "redraw": true
              },
              "mode": "immediate",
              "transition": {
               "duration": 100
              }
             }
            ],
            "label": "0.4s",
            "method": "animate"
           },
           {
            "args": [
             [
              "10"
             ],
             {
              "frame": {
               "duration": 100,
               "redraw": true
              },
              "mode": "immediate",
              "transition": {
               "duration": 100
              }
             }
            ],
            "label": "0.4s",
            "method": "animate"
           },
           {
            "args": [
             [
              "11"
             ],
             {
              "frame": {
               "duration": 100,
               "redraw": true
              },
              "mode": "immediate",
              "transition": {
               "duration": 100
              }
             }
            ],
            "label": "0.5s",
            "method": "animate"
           },
           {
            "args": [
             [
              "12"
             ],
             {
              "frame": {
               "duration": 100,
               "redraw": true
              },
              "mode": "immediate",
              "transition": {
               "duration": 100
              }
             }
            ],
            "label": "0.5s",
            "method": "animate"
           },
           {
            "args": [
             [
              "13"
             ],
             {
              "frame": {
               "duration": 100,
               "redraw": true
              },
              "mode": "immediate",
              "transition": {
               "duration": 100
              }
             }
            ],
            "label": "0.5s",
            "method": "animate"
           },
           {
            "args": [
             [
              "14"
             ],
             {
              "frame": {
               "duration": 100,
               "redraw": true
              },
              "mode": "immediate",
              "transition": {
               "duration": 100
              }
             }
            ],
            "label": "0.6s",
            "method": "animate"
           },
           {
            "args": [
             [
              "15"
             ],
             {
              "frame": {
               "duration": 100,
               "redraw": true
              },
              "mode": "immediate",
              "transition": {
               "duration": 100
              }
             }
            ],
            "label": "0.6s",
            "method": "animate"
           },
           {
            "args": [
             [
              "16"
             ],
             {
              "frame": {
               "duration": 100,
               "redraw": true
              },
              "mode": "immediate",
              "transition": {
               "duration": 100
              }
             }
            ],
            "label": "0.7s",
            "method": "animate"
           },
           {
            "args": [
             [
              "17"
             ],
             {
              "frame": {
               "duration": 100,
               "redraw": true
              },
              "mode": "immediate",
              "transition": {
               "duration": 100
              }
             }
            ],
            "label": "0.7s",
            "method": "animate"
           },
           {
            "args": [
             [
              "18"
             ],
             {
              "frame": {
               "duration": 100,
               "redraw": true
              },
              "mode": "immediate",
              "transition": {
               "duration": 100
              }
             }
            ],
            "label": "0.8s",
            "method": "animate"
           },
           {
            "args": [
             [
              "19"
             ],
             {
              "frame": {
               "duration": 100,
               "redraw": true
              },
              "mode": "immediate",
              "transition": {
               "duration": 100
              }
             }
            ],
            "label": "0.8s",
            "method": "animate"
           },
           {
            "args": [
             [
              "20"
             ],
             {
              "frame": {
               "duration": 100,
               "redraw": true
              },
              "mode": "immediate",
              "transition": {
               "duration": 100
              }
             }
            ],
            "label": "0.8s",
            "method": "animate"
           },
           {
            "args": [
             [
              "21"
             ],
             {
              "frame": {
               "duration": 100,
               "redraw": true
              },
              "mode": "immediate",
              "transition": {
               "duration": 100
              }
             }
            ],
            "label": "0.9s",
            "method": "animate"
           },
           {
            "args": [
             [
              "22"
             ],
             {
              "frame": {
               "duration": 100,
               "redraw": true
              },
              "mode": "immediate",
              "transition": {
               "duration": 100
              }
             }
            ],
            "label": "0.9s",
            "method": "animate"
           },
           {
            "args": [
             [
              "23"
             ],
             {
              "frame": {
               "duration": 100,
               "redraw": true
              },
              "mode": "immediate",
              "transition": {
               "duration": 100
              }
             }
            ],
            "label": "1.0s",
            "method": "animate"
           },
           {
            "args": [
             [
              "24"
             ],
             {
              "frame": {
               "duration": 100,
               "redraw": true
              },
              "mode": "immediate",
              "transition": {
               "duration": 100
              }
             }
            ],
            "label": "1.0s",
            "method": "animate"
           },
           {
            "args": [
             [
              "25"
             ],
             {
              "frame": {
               "duration": 100,
               "redraw": true
              },
              "mode": "immediate",
              "transition": {
               "duration": 100
              }
             }
            ],
            "label": "1.0s",
            "method": "animate"
           },
           {
            "args": [
             [
              "26"
             ],
             {
              "frame": {
               "duration": 100,
               "redraw": true
              },
              "mode": "immediate",
              "transition": {
               "duration": 100
              }
             }
            ],
            "label": "1.1s",
            "method": "animate"
           },
           {
            "args": [
             [
              "27"
             ],
             {
              "frame": {
               "duration": 100,
               "redraw": true
              },
              "mode": "immediate",
              "transition": {
               "duration": 100
              }
             }
            ],
            "label": "1.1s",
            "method": "animate"
           },
           {
            "args": [
             [
              "28"
             ],
             {
              "frame": {
               "duration": 100,
               "redraw": true
              },
              "mode": "immediate",
              "transition": {
               "duration": 100
              }
             }
            ],
            "label": "1.2s",
            "method": "animate"
           },
           {
            "args": [
             [
              "29"
             ],
             {
              "frame": {
               "duration": 100,
               "redraw": true
              },
              "mode": "immediate",
              "transition": {
               "duration": 100
              }
             }
            ],
            "label": "1.2s",
            "method": "animate"
           },
           {
            "args": [
             [
              "30"
             ],
             {
              "frame": {
               "duration": 100,
               "redraw": true
              },
              "mode": "immediate",
              "transition": {
               "duration": 100
              }
             }
            ],
            "label": "1.3s",
            "method": "animate"
           },
           {
            "args": [
             [
              "31"
             ],
             {
              "frame": {
               "duration": 100,
               "redraw": true
              },
              "mode": "immediate",
              "transition": {
               "duration": 100
              }
             }
            ],
            "label": "1.3s",
            "method": "animate"
           },
           {
            "args": [
             [
              "32"
             ],
             {
              "frame": {
               "duration": 100,
               "redraw": true
              },
              "mode": "immediate",
              "transition": {
               "duration": 100
              }
             }
            ],
            "label": "1.3s",
            "method": "animate"
           },
           {
            "args": [
             [
              "33"
             ],
             {
              "frame": {
               "duration": 100,
               "redraw": true
              },
              "mode": "immediate",
              "transition": {
               "duration": 100
              }
             }
            ],
            "label": "1.4s",
            "method": "animate"
           },
           {
            "args": [
             [
              "34"
             ],
             {
              "frame": {
               "duration": 100,
               "redraw": true
              },
              "mode": "immediate",
              "transition": {
               "duration": 100
              }
             }
            ],
            "label": "1.4s",
            "method": "animate"
           },
           {
            "args": [
             [
              "35"
             ],
             {
              "frame": {
               "duration": 100,
               "redraw": true
              },
              "mode": "immediate",
              "transition": {
               "duration": 100
              }
             }
            ],
            "label": "1.5s",
            "method": "animate"
           },
           {
            "args": [
             [
              "36"
             ],
             {
              "frame": {
               "duration": 100,
               "redraw": true
              },
              "mode": "immediate",
              "transition": {
               "duration": 100
              }
             }
            ],
            "label": "1.5s",
            "method": "animate"
           },
           {
            "args": [
             [
              "37"
             ],
             {
              "frame": {
               "duration": 100,
               "redraw": true
              },
              "mode": "immediate",
              "transition": {
               "duration": 100
              }
             }
            ],
            "label": "1.5s",
            "method": "animate"
           },
           {
            "args": [
             [
              "38"
             ],
             {
              "frame": {
               "duration": 100,
               "redraw": true
              },
              "mode": "immediate",
              "transition": {
               "duration": 100
              }
             }
            ],
            "label": "1.6s",
            "method": "animate"
           },
           {
            "args": [
             [
              "39"
             ],
             {
              "frame": {
               "duration": 100,
               "redraw": true
              },
              "mode": "immediate",
              "transition": {
               "duration": 100
              }
             }
            ],
            "label": "1.6s",
            "method": "animate"
           },
           {
            "args": [
             [
              "40"
             ],
             {
              "frame": {
               "duration": 100,
               "redraw": true
              },
              "mode": "immediate",
              "transition": {
               "duration": 100
              }
             }
            ],
            "label": "1.7s",
            "method": "animate"
           },
           {
            "args": [
             [
              "41"
             ],
             {
              "frame": {
               "duration": 100,
               "redraw": true
              },
              "mode": "immediate",
              "transition": {
               "duration": 100
              }
             }
            ],
            "label": "1.7s",
            "method": "animate"
           },
           {
            "args": [
             [
              "42"
             ],
             {
              "frame": {
               "duration": 100,
               "redraw": true
              },
              "mode": "immediate",
              "transition": {
               "duration": 100
              }
             }
            ],
            "label": "1.8s",
            "method": "animate"
           },
           {
            "args": [
             [
              "43"
             ],
             {
              "frame": {
               "duration": 100,
               "redraw": true
              },
              "mode": "immediate",
              "transition": {
               "duration": 100
              }
             }
            ],
            "label": "1.8s",
            "method": "animate"
           },
           {
            "args": [
             [
              "44"
             ],
             {
              "frame": {
               "duration": 100,
               "redraw": true
              },
              "mode": "immediate",
              "transition": {
               "duration": 100
              }
             }
            ],
            "label": "1.8s",
            "method": "animate"
           },
           {
            "args": [
             [
              "45"
             ],
             {
              "frame": {
               "duration": 100,
               "redraw": true
              },
              "mode": "immediate",
              "transition": {
               "duration": 100
              }
             }
            ],
            "label": "1.9s",
            "method": "animate"
           },
           {
            "args": [
             [
              "46"
             ],
             {
              "frame": {
               "duration": 100,
               "redraw": true
              },
              "mode": "immediate",
              "transition": {
               "duration": 100
              }
             }
            ],
            "label": "1.9s",
            "method": "animate"
           },
           {
            "args": [
             [
              "47"
             ],
             {
              "frame": {
               "duration": 100,
               "redraw": true
              },
              "mode": "immediate",
              "transition": {
               "duration": 100
              }
             }
            ],
            "label": "2.0s",
            "method": "animate"
           },
           {
            "args": [
             [
              "48"
             ],
             {
              "frame": {
               "duration": 100,
               "redraw": true
              },
              "mode": "immediate",
              "transition": {
               "duration": 100
              }
             }
            ],
            "label": "2.0s",
            "method": "animate"
           },
           {
            "args": [
             [
              "49"
             ],
             {
              "frame": {
               "duration": 100,
               "redraw": true
              },
              "mode": "immediate",
              "transition": {
               "duration": 100
              }
             }
            ],
            "label": "2.1s",
            "method": "animate"
           },
           {
            "args": [
             [
              "50"
             ],
             {
              "frame": {
               "duration": 100,
               "redraw": true
              },
              "mode": "immediate",
              "transition": {
               "duration": 100
              }
             }
            ],
            "label": "2.1s",
            "method": "animate"
           },
           {
            "args": [
             [
              "51"
             ],
             {
              "frame": {
               "duration": 100,
               "redraw": true
              },
              "mode": "immediate",
              "transition": {
               "duration": 100
              }
             }
            ],
            "label": "2.1s",
            "method": "animate"
           },
           {
            "args": [
             [
              "52"
             ],
             {
              "frame": {
               "duration": 100,
               "redraw": true
              },
              "mode": "immediate",
              "transition": {
               "duration": 100
              }
             }
            ],
            "label": "2.2s",
            "method": "animate"
           },
           {
            "args": [
             [
              "53"
             ],
             {
              "frame": {
               "duration": 100,
               "redraw": true
              },
              "mode": "immediate",
              "transition": {
               "duration": 100
              }
             }
            ],
            "label": "2.2s",
            "method": "animate"
           },
           {
            "args": [
             [
              "54"
             ],
             {
              "frame": {
               "duration": 100,
               "redraw": true
              },
              "mode": "immediate",
              "transition": {
               "duration": 100
              }
             }
            ],
            "label": "2.3s",
            "method": "animate"
           },
           {
            "args": [
             [
              "55"
             ],
             {
              "frame": {
               "duration": 100,
               "redraw": true
              },
              "mode": "immediate",
              "transition": {
               "duration": 100
              }
             }
            ],
            "label": "2.3s",
            "method": "animate"
           },
           {
            "args": [
             [
              "56"
             ],
             {
              "frame": {
               "duration": 100,
               "redraw": true
              },
              "mode": "immediate",
              "transition": {
               "duration": 100
              }
             }
            ],
            "label": "2.3s",
            "method": "animate"
           },
           {
            "args": [
             [
              "57"
             ],
             {
              "frame": {
               "duration": 100,
               "redraw": true
              },
              "mode": "immediate",
              "transition": {
               "duration": 100
              }
             }
            ],
            "label": "2.4s",
            "method": "animate"
           },
           {
            "args": [
             [
              "58"
             ],
             {
              "frame": {
               "duration": 100,
               "redraw": true
              },
              "mode": "immediate",
              "transition": {
               "duration": 100
              }
             }
            ],
            "label": "2.4s",
            "method": "animate"
           },
           {
            "args": [
             [
              "59"
             ],
             {
              "frame": {
               "duration": 100,
               "redraw": true
              },
              "mode": "immediate",
              "transition": {
               "duration": 100
              }
             }
            ],
            "label": "2.5s",
            "method": "animate"
           },
           {
            "args": [
             [
              "60"
             ],
             {
              "frame": {
               "duration": 100,
               "redraw": true
              },
              "mode": "immediate",
              "transition": {
               "duration": 100
              }
             }
            ],
            "label": "2.5s",
            "method": "animate"
           },
           {
            "args": [
             [
              "61"
             ],
             {
              "frame": {
               "duration": 100,
               "redraw": true
              },
              "mode": "immediate",
              "transition": {
               "duration": 100
              }
             }
            ],
            "label": "2.6s",
            "method": "animate"
           },
           {
            "args": [
             [
              "62"
             ],
             {
              "frame": {
               "duration": 100,
               "redraw": true
              },
              "mode": "immediate",
              "transition": {
               "duration": 100
              }
             }
            ],
            "label": "2.6s",
            "method": "animate"
           },
           {
            "args": [
             [
              "63"
             ],
             {
              "frame": {
               "duration": 100,
               "redraw": true
              },
              "mode": "immediate",
              "transition": {
               "duration": 100
              }
             }
            ],
            "label": "2.6s",
            "method": "animate"
           },
           {
            "args": [
             [
              "64"
             ],
             {
              "frame": {
               "duration": 100,
               "redraw": true
              },
              "mode": "immediate",
              "transition": {
               "duration": 100
              }
             }
            ],
            "label": "2.7s",
            "method": "animate"
           },
           {
            "args": [
             [
              "65"
             ],
             {
              "frame": {
               "duration": 100,
               "redraw": true
              },
              "mode": "immediate",
              "transition": {
               "duration": 100
              }
             }
            ],
            "label": "2.7s",
            "method": "animate"
           },
           {
            "args": [
             [
              "66"
             ],
             {
              "frame": {
               "duration": 100,
               "redraw": true
              },
              "mode": "immediate",
              "transition": {
               "duration": 100
              }
             }
            ],
            "label": "2.8s",
            "method": "animate"
           },
           {
            "args": [
             [
              "67"
             ],
             {
              "frame": {
               "duration": 100,
               "redraw": true
              },
              "mode": "immediate",
              "transition": {
               "duration": 100
              }
             }
            ],
            "label": "2.8s",
            "method": "animate"
           },
           {
            "args": [
             [
              "68"
             ],
             {
              "frame": {
               "duration": 100,
               "redraw": true
              },
              "mode": "immediate",
              "transition": {
               "duration": 100
              }
             }
            ],
            "label": "2.8s",
            "method": "animate"
           },
           {
            "args": [
             [
              "69"
             ],
             {
              "frame": {
               "duration": 100,
               "redraw": true
              },
              "mode": "immediate",
              "transition": {
               "duration": 100
              }
             }
            ],
            "label": "2.9s",
            "method": "animate"
           },
           {
            "args": [
             [
              "70"
             ],
             {
              "frame": {
               "duration": 100,
               "redraw": true
              },
              "mode": "immediate",
              "transition": {
               "duration": 100
              }
             }
            ],
            "label": "2.9s",
            "method": "animate"
           },
           {
            "args": [
             [
              "71"
             ],
             {
              "frame": {
               "duration": 100,
               "redraw": true
              },
              "mode": "immediate",
              "transition": {
               "duration": 100
              }
             }
            ],
            "label": "3.0s",
            "method": "animate"
           },
           {
            "args": [
             [
              "72"
             ],
             {
              "frame": {
               "duration": 100,
               "redraw": true
              },
              "mode": "immediate",
              "transition": {
               "duration": 100
              }
             }
            ],
            "label": "3.0s",
            "method": "animate"
           },
           {
            "args": [
             [
              "73"
             ],
             {
              "frame": {
               "duration": 100,
               "redraw": true
              },
              "mode": "immediate",
              "transition": {
               "duration": 100
              }
             }
            ],
            "label": "3.1s",
            "method": "animate"
           },
           {
            "args": [
             [
              "74"
             ],
             {
              "frame": {
               "duration": 100,
               "redraw": true
              },
              "mode": "immediate",
              "transition": {
               "duration": 100
              }
             }
            ],
            "label": "3.1s",
            "method": "animate"
           },
           {
            "args": [
             [
              "75"
             ],
             {
              "frame": {
               "duration": 100,
               "redraw": true
              },
              "mode": "immediate",
              "transition": {
               "duration": 100
              }
             }
            ],
            "label": "3.1s",
            "method": "animate"
           },
           {
            "args": [
             [
              "76"
             ],
             {
              "frame": {
               "duration": 100,
               "redraw": true
              },
              "mode": "immediate",
              "transition": {
               "duration": 100
              }
             }
            ],
            "label": "3.2s",
            "method": "animate"
           },
           {
            "args": [
             [
              "77"
             ],
             {
              "frame": {
               "duration": 100,
               "redraw": true
              },
              "mode": "immediate",
              "transition": {
               "duration": 100
              }
             }
            ],
            "label": "3.2s",
            "method": "animate"
           },
           {
            "args": [
             [
              "78"
             ],
             {
              "frame": {
               "duration": 100,
               "redraw": true
              },
              "mode": "immediate",
              "transition": {
               "duration": 100
              }
             }
            ],
            "label": "3.3s",
            "method": "animate"
           },
           {
            "args": [
             [
              "79"
             ],
             {
              "frame": {
               "duration": 100,
               "redraw": true
              },
              "mode": "immediate",
              "transition": {
               "duration": 100
              }
             }
            ],
            "label": "3.3s",
            "method": "animate"
           }
          ],
          "transition": {
           "duration": 100,
           "easing": "cubic-in-out"
          },
          "x": 0.1,
          "xanchor": "left",
          "y": 0,
          "yanchor": "top"
         }
        ],
        "template": {
         "data": {
          "bar": [
           {
            "error_x": {
             "color": "#2a3f5f"
            },
            "error_y": {
             "color": "#2a3f5f"
            },
            "marker": {
             "line": {
              "color": "#E5ECF6",
              "width": 0.5
             },
             "pattern": {
              "fillmode": "overlay",
              "size": 10,
              "solidity": 0.2
             }
            },
            "type": "bar"
           }
          ],
          "barpolar": [
           {
            "marker": {
             "line": {
              "color": "#E5ECF6",
              "width": 0.5
             },
             "pattern": {
              "fillmode": "overlay",
              "size": 10,
              "solidity": 0.2
             }
            },
            "type": "barpolar"
           }
          ],
          "carpet": [
           {
            "aaxis": {
             "endlinecolor": "#2a3f5f",
             "gridcolor": "white",
             "linecolor": "white",
             "minorgridcolor": "white",
             "startlinecolor": "#2a3f5f"
            },
            "baxis": {
             "endlinecolor": "#2a3f5f",
             "gridcolor": "white",
             "linecolor": "white",
             "minorgridcolor": "white",
             "startlinecolor": "#2a3f5f"
            },
            "type": "carpet"
           }
          ],
          "choropleth": [
           {
            "colorbar": {
             "outlinewidth": 0,
             "ticks": ""
            },
            "type": "choropleth"
           }
          ],
          "contour": [
           {
            "colorbar": {
             "outlinewidth": 0,
             "ticks": ""
            },
            "colorscale": [
             [
              0,
              "#0d0887"
             ],
             [
              0.1111111111111111,
              "#46039f"
             ],
             [
              0.2222222222222222,
              "#7201a8"
             ],
             [
              0.3333333333333333,
              "#9c179e"
             ],
             [
              0.4444444444444444,
              "#bd3786"
             ],
             [
              0.5555555555555556,
              "#d8576b"
             ],
             [
              0.6666666666666666,
              "#ed7953"
             ],
             [
              0.7777777777777778,
              "#fb9f3a"
             ],
             [
              0.8888888888888888,
              "#fdca26"
             ],
             [
              1,
              "#f0f921"
             ]
            ],
            "type": "contour"
           }
          ],
          "contourcarpet": [
           {
            "colorbar": {
             "outlinewidth": 0,
             "ticks": ""
            },
            "type": "contourcarpet"
           }
          ],
          "heatmap": [
           {
            "colorbar": {
             "outlinewidth": 0,
             "ticks": ""
            },
            "colorscale": [
             [
              0,
              "#0d0887"
             ],
             [
              0.1111111111111111,
              "#46039f"
             ],
             [
              0.2222222222222222,
              "#7201a8"
             ],
             [
              0.3333333333333333,
              "#9c179e"
             ],
             [
              0.4444444444444444,
              "#bd3786"
             ],
             [
              0.5555555555555556,
              "#d8576b"
             ],
             [
              0.6666666666666666,
              "#ed7953"
             ],
             [
              0.7777777777777778,
              "#fb9f3a"
             ],
             [
              0.8888888888888888,
              "#fdca26"
             ],
             [
              1,
              "#f0f921"
             ]
            ],
            "type": "heatmap"
           }
          ],
          "histogram": [
           {
            "marker": {
             "pattern": {
              "fillmode": "overlay",
              "size": 10,
              "solidity": 0.2
             }
            },
            "type": "histogram"
           }
          ],
          "histogram2d": [
           {
            "colorbar": {
             "outlinewidth": 0,
             "ticks": ""
            },
            "colorscale": [
             [
              0,
              "#0d0887"
             ],
             [
              0.1111111111111111,
              "#46039f"
             ],
             [
              0.2222222222222222,
              "#7201a8"
             ],
             [
              0.3333333333333333,
              "#9c179e"
             ],
             [
              0.4444444444444444,
              "#bd3786"
             ],
             [
              0.5555555555555556,
              "#d8576b"
             ],
             [
              0.6666666666666666,
              "#ed7953"
             ],
             [
              0.7777777777777778,
              "#fb9f3a"
             ],
             [
              0.8888888888888888,
              "#fdca26"
             ],
             [
              1,
              "#f0f921"
             ]
            ],
            "type": "histogram2d"
           }
          ],
          "histogram2dcontour": [
           {
            "colorbar": {
             "outlinewidth": 0,
             "ticks": ""
            },
            "colorscale": [
             [
              0,
              "#0d0887"
             ],
             [
              0.1111111111111111,
              "#46039f"
             ],
             [
              0.2222222222222222,
              "#7201a8"
             ],
             [
              0.3333333333333333,
              "#9c179e"
             ],
             [
              0.4444444444444444,
              "#bd3786"
             ],
             [
              0.5555555555555556,
              "#d8576b"
             ],
             [
              0.6666666666666666,
              "#ed7953"
             ],
             [
              0.7777777777777778,
              "#fb9f3a"
             ],
             [
              0.8888888888888888,
              "#fdca26"
             ],
             [
              1,
              "#f0f921"
             ]
            ],
            "type": "histogram2dcontour"
           }
          ],
          "mesh3d": [
           {
            "colorbar": {
             "outlinewidth": 0,
             "ticks": ""
            },
            "type": "mesh3d"
           }
          ],
          "parcoords": [
           {
            "line": {
             "colorbar": {
              "outlinewidth": 0,
              "ticks": ""
             }
            },
            "type": "parcoords"
           }
          ],
          "pie": [
           {
            "automargin": true,
            "type": "pie"
           }
          ],
          "scatter": [
           {
            "fillpattern": {
             "fillmode": "overlay",
             "size": 10,
             "solidity": 0.2
            },
            "type": "scatter"
           }
          ],
          "scatter3d": [
           {
            "line": {
             "colorbar": {
              "outlinewidth": 0,
              "ticks": ""
             }
            },
            "marker": {
             "colorbar": {
              "outlinewidth": 0,
              "ticks": ""
             }
            },
            "type": "scatter3d"
           }
          ],
          "scattercarpet": [
           {
            "marker": {
             "colorbar": {
              "outlinewidth": 0,
              "ticks": ""
             }
            },
            "type": "scattercarpet"
           }
          ],
          "scattergeo": [
           {
            "marker": {
             "colorbar": {
              "outlinewidth": 0,
              "ticks": ""
             }
            },
            "type": "scattergeo"
           }
          ],
          "scattergl": [
           {
            "marker": {
             "colorbar": {
              "outlinewidth": 0,
              "ticks": ""
             }
            },
            "type": "scattergl"
           }
          ],
          "scattermap": [
           {
            "marker": {
             "colorbar": {
              "outlinewidth": 0,
              "ticks": ""
             }
            },
            "type": "scattermap"
           }
          ],
          "scattermapbox": [
           {
            "marker": {
             "colorbar": {
              "outlinewidth": 0,
              "ticks": ""
             }
            },
            "type": "scattermapbox"
           }
          ],
          "scatterpolar": [
           {
            "marker": {
             "colorbar": {
              "outlinewidth": 0,
              "ticks": ""
             }
            },
            "type": "scatterpolar"
           }
          ],
          "scatterpolargl": [
           {
            "marker": {
             "colorbar": {
              "outlinewidth": 0,
              "ticks": ""
             }
            },
            "type": "scatterpolargl"
           }
          ],
          "scatterternary": [
           {
            "marker": {
             "colorbar": {
              "outlinewidth": 0,
              "ticks": ""
             }
            },
            "type": "scatterternary"
           }
          ],
          "surface": [
           {
            "colorbar": {
             "outlinewidth": 0,
             "ticks": ""
            },
            "colorscale": [
             [
              0,
              "#0d0887"
             ],
             [
              0.1111111111111111,
              "#46039f"
             ],
             [
              0.2222222222222222,
              "#7201a8"
             ],
             [
              0.3333333333333333,
              "#9c179e"
             ],
             [
              0.4444444444444444,
              "#bd3786"
             ],
             [
              0.5555555555555556,
              "#d8576b"
             ],
             [
              0.6666666666666666,
              "#ed7953"
             ],
             [
              0.7777777777777778,
              "#fb9f3a"
             ],
             [
              0.8888888888888888,
              "#fdca26"
             ],
             [
              1,
              "#f0f921"
             ]
            ],
            "type": "surface"
           }
          ],
          "table": [
           {
            "cells": {
             "fill": {
              "color": "#EBF0F8"
             },
             "line": {
              "color": "white"
             }
            },
            "header": {
             "fill": {
              "color": "#C8D4E3"
             },
             "line": {
              "color": "white"
             }
            },
            "type": "table"
           }
          ]
         },
         "layout": {
          "annotationdefaults": {
           "arrowcolor": "#2a3f5f",
           "arrowhead": 0,
           "arrowwidth": 1
          },
          "autotypenumbers": "strict",
          "coloraxis": {
           "colorbar": {
            "outlinewidth": 0,
            "ticks": ""
           }
          },
          "colorscale": {
           "diverging": [
            [
             0,
             "#8e0152"
            ],
            [
             0.1,
             "#c51b7d"
            ],
            [
             0.2,
             "#de77ae"
            ],
            [
             0.3,
             "#f1b6da"
            ],
            [
             0.4,
             "#fde0ef"
            ],
            [
             0.5,
             "#f7f7f7"
            ],
            [
             0.6,
             "#e6f5d0"
            ],
            [
             0.7,
             "#b8e186"
            ],
            [
             0.8,
             "#7fbc41"
            ],
            [
             0.9,
             "#4d9221"
            ],
            [
             1,
             "#276419"
            ]
           ],
           "sequential": [
            [
             0,
             "#0d0887"
            ],
            [
             0.1111111111111111,
             "#46039f"
            ],
            [
             0.2222222222222222,
             "#7201a8"
            ],
            [
             0.3333333333333333,
             "#9c179e"
            ],
            [
             0.4444444444444444,
             "#bd3786"
            ],
            [
             0.5555555555555556,
             "#d8576b"
            ],
            [
             0.6666666666666666,
             "#ed7953"
            ],
            [
             0.7777777777777778,
             "#fb9f3a"
            ],
            [
             0.8888888888888888,
             "#fdca26"
            ],
            [
             1,
             "#f0f921"
            ]
           ],
           "sequentialminus": [
            [
             0,
             "#0d0887"
            ],
            [
             0.1111111111111111,
             "#46039f"
            ],
            [
             0.2222222222222222,
             "#7201a8"
            ],
            [
             0.3333333333333333,
             "#9c179e"
            ],
            [
             0.4444444444444444,
             "#bd3786"
            ],
            [
             0.5555555555555556,
             "#d8576b"
            ],
            [
             0.6666666666666666,
             "#ed7953"
            ],
            [
             0.7777777777777778,
             "#fb9f3a"
            ],
            [
             0.8888888888888888,
             "#fdca26"
            ],
            [
             1,
             "#f0f921"
            ]
           ]
          },
          "colorway": [
           "#636efa",
           "#EF553B",
           "#00cc96",
           "#ab63fa",
           "#FFA15A",
           "#19d3f3",
           "#FF6692",
           "#B6E880",
           "#FF97FF",
           "#FECB52"
          ],
          "font": {
           "color": "#2a3f5f"
          },
          "geo": {
           "bgcolor": "white",
           "lakecolor": "white",
           "landcolor": "#E5ECF6",
           "showlakes": true,
           "showland": true,
           "subunitcolor": "white"
          },
          "hoverlabel": {
           "align": "left"
          },
          "hovermode": "closest",
          "mapbox": {
           "style": "light"
          },
          "paper_bgcolor": "white",
          "plot_bgcolor": "#E5ECF6",
          "polar": {
           "angularaxis": {
            "gridcolor": "white",
            "linecolor": "white",
            "ticks": ""
           },
           "bgcolor": "#E5ECF6",
           "radialaxis": {
            "gridcolor": "white",
            "linecolor": "white",
            "ticks": ""
           }
          },
          "scene": {
           "xaxis": {
            "backgroundcolor": "#E5ECF6",
            "gridcolor": "white",
            "gridwidth": 2,
            "linecolor": "white",
            "showbackground": true,
            "ticks": "",
            "zerolinecolor": "white"
           },
           "yaxis": {
            "backgroundcolor": "#E5ECF6",
            "gridcolor": "white",
            "gridwidth": 2,
            "linecolor": "white",
            "showbackground": true,
            "ticks": "",
            "zerolinecolor": "white"
           },
           "zaxis": {
            "backgroundcolor": "#E5ECF6",
            "gridcolor": "white",
            "gridwidth": 2,
            "linecolor": "white",
            "showbackground": true,
            "ticks": "",
            "zerolinecolor": "white"
           }
          },
          "shapedefaults": {
           "line": {
            "color": "#2a3f5f"
           }
          },
          "ternary": {
           "aaxis": {
            "gridcolor": "white",
            "linecolor": "white",
            "ticks": ""
           },
           "baxis": {
            "gridcolor": "white",
            "linecolor": "white",
            "ticks": ""
           },
           "bgcolor": "#E5ECF6",
           "caxis": {
            "gridcolor": "white",
            "linecolor": "white",
            "ticks": ""
           }
          },
          "title": {
           "x": 0.05
          },
          "xaxis": {
           "automargin": true,
           "gridcolor": "white",
           "linecolor": "white",
           "ticks": "",
           "title": {
            "standoff": 15
           },
           "zerolinecolor": "white",
           "zerolinewidth": 2
          },
          "yaxis": {
           "automargin": true,
           "gridcolor": "white",
           "linecolor": "white",
           "ticks": "",
           "title": {
            "standoff": 15
           },
           "zerolinecolor": "white",
           "zerolinewidth": 2
          }
         }
        },
        "title": {
         "font": {
          "color": "darkblue",
          "size": 18
         },
         "text": "🚀 다중 위협 분산 대응 시스템 - 자동 재생 애니메이션",
         "x": 0.5
        },
        "updatemenus": [
         {
          "buttons": [
           {
            "args": [
             null,
             {
              "frame": {
               "duration": 200,
               "redraw": true
              },
              "fromcurrent": true,
              "transition": {
               "duration": 100
              }
             }
            ],
            "label": "▶️ 재생",
            "method": "animate"
           },
           {
            "args": [
             [
              null
             ],
             {
              "frame": {
               "duration": 0,
               "redraw": false
              },
              "mode": "immediate",
              "transition": {
               "duration": 0
              }
             }
            ],
            "label": "⏸️ 정지",
            "method": "animate"
           },
           {
            "args": [
             null,
             {
              "frame": {
               "duration": 100,
               "redraw": true
              },
              "fromcurrent": true,
              "transition": {
               "duration": 50
              }
             }
            ],
            "label": "⚡ 빠르게",
            "method": "animate"
           }
          ],
          "direction": "left",
          "pad": {
           "r": 10,
           "t": 87
          },
          "showactive": false,
          "type": "buttons",
          "x": 0.011,
          "xanchor": "right",
          "y": 0.02,
          "yanchor": "top"
         }
        ],
        "width": 1200
       }
      }
     },
     "metadata": {},
     "output_type": "display_data"
    },
    {
     "name": "stdout",
     "output_type": "stream",
     "text": [
      "\n",
      "🎉 자동 재생 애니메이션 완료!\n",
      "   • ▶️ 재생 버튼을 클릭하면 자동 재생 시작\n",
      "   • ⏸️ 정지 버튼으로 일시정지 가능\n",
      "   • ⚡ 빠르게 버튼으로 고속 재생\n",
      "   • 슬라이더로 특정 시점 이동 가능\n",
      "   • 3D 회전, 확대/축소 가능\n",
      "   • 브라우저에서 바로 재생!\n"
     ]
    }
   ],
   "source": [
    "# 3. 자동 재생 Plotly 애니메이션\n",
    "print(\"\\n\" + \"=\"*70)\n",
    "print(\"🎬 3단계: 자동 재생 Plotly 애니메이션\")\n",
    "print(\"=\"*70)\n",
    "\n",
    "def create_auto_play_animation():\n",
    "    \"\"\"자동 재생되는 Plotly 애니메이션\"\"\"\n",
    "    \n",
    "    # 애니메이션 설정\n",
    "    max_intercept_time = max([r['final_time'] for r in allocation_results if r['final_time']])\n",
    "    num_frames = 80\n",
    "    time_frames = np.linspace(0, max_intercept_time * 1.1, num_frames)\n",
    "    \n",
    "    # 색상 설정\n",
    "    colors = ['red', 'orange', 'green', 'purple', 'brown']\n",
    "    \n",
    "    # 모든 프레임 데이터 준비\n",
    "    frames_data = []\n",
    "    \n",
    "    for frame_idx, current_time in enumerate(time_frames):\n",
    "        frame_traces = []\n",
    "        \n",
    "        # 고정 요소들 (도시, 기지)\n",
    "        frame_traces.append(go.Scatter3d(\n",
    "            x=[0], y=[0], z=[0],\n",
    "            mode='markers',\n",
    "            marker=dict(size=20, color='red', symbol='diamond'),\n",
    "            name='🏙️ 도시'\n",
    "        ))\n",
    "        \n",
    "        frame_traces.append(go.Scatter3d(\n",
    "            x=[S_A[0]], y=[S_A[1]], z=[S_A[2]],\n",
    "            mode='markers',\n",
    "            marker=dict(size=15, color='blue', symbol='square'),\n",
    "            name='🏭 알파 기지'\n",
    "        ))\n",
    "        \n",
    "        frame_traces.append(go.Scatter3d(\n",
    "            x=[S_B[0]], y=[S_B[1]], z=[S_B[2]],\n",
    "            mode='markers',\n",
    "            marker=dict(size=15, color='cyan', symbol='square'),\n",
    "            name='🏭 브라보 기지'\n",
    "        ))\n",
    "        \n",
    "        # 각 미사일에 대한 애니메이션\n",
    "        for i, result in enumerate(allocation_results):\n",
    "            if result['final_time']:\n",
    "                missile_func = result['missile_func']\n",
    "                missile_name = result['missile']\n",
    "                final_time = result['final_time']\n",
    "                assigned_base = result['assigned_base']\n",
    "                intercept_point = result['intercept_point']\n",
    "                \n",
    "                if current_time <= final_time:\n",
    "                    # 현재까지의 미사일 궤적\n",
    "                    t_current = np.linspace(0, current_time, max(2, int(current_time*3)))\n",
    "                    current_trajectory = np.array([missile_func(t) for t in t_current])\n",
    "                    valid_current = current_trajectory[current_trajectory[:, 2] >= 0]\n",
    "                    \n",
    "                    if len(valid_current) > 0:\n",
    "                        frame_traces.append(go.Scatter3d(\n",
    "                            x=valid_current[:, 0], y=valid_current[:, 1], z=valid_current[:, 2],\n",
    "                            mode='lines+markers',\n",
    "                            line=dict(color=colors[i], width=4),\n",
    "                            marker=dict(size=3, color=colors[i]),\n",
    "                            name=f'🚀 {missile_name}'\n",
    "                        ))\n",
    "                    \n",
    "                    # 요격 미사일 궤적\n",
    "                    base_pos = S_A if assigned_base == \"알파\" else S_B\n",
    "                    intercept_color = 'blue' if assigned_base == \"알파\" else 'cyan'\n",
    "                    \n",
    "                    direction = (intercept_point - base_pos) / np.linalg.norm(intercept_point - base_pos)\n",
    "                    \n",
    "                    if current_time > 0:\n",
    "                        intercept_current = np.linspace(0, current_time, max(2, int(current_time*3)))\n",
    "                        intercept_trajectory = np.array([base_pos + v_I * t * direction for t in intercept_current])\n",
    "                        \n",
    "                        frame_traces.append(go.Scatter3d(\n",
    "                            x=intercept_trajectory[:, 0], y=intercept_trajectory[:, 1], z=intercept_trajectory[:, 2],\n",
    "                            mode='lines+markers',\n",
    "                            line=dict(color=intercept_color, width=5, dash='dash'),\n",
    "                            marker=dict(size=4, color=intercept_color, symbol='diamond'),\n",
    "                            name=f'🛡️ {assigned_base}→{missile_name}'\n",
    "                        ))\n",
    "                \n",
    "                # 요격 완료 표시\n",
    "                elif current_time > final_time:\n",
    "                    frame_traces.append(go.Scatter3d(\n",
    "                        x=[intercept_point[0]], y=[intercept_point[1]], z=[intercept_point[2]],\n",
    "                        mode='markers',\n",
    "                        marker=dict(size=20, color='gold', symbol='x'),\n",
    "                        name=f'💥 {missile_name} 요격완료'\n",
    "                    ))\n",
    "        \n",
    "        frames_data.append(frame_traces)\n",
    "    \n",
    "    # Figure 생성 (첫 번째 프레임으로)\n",
    "    fig = go.Figure(data=frames_data[0])\n",
    "    \n",
    "    # 프레임 생성\n",
    "    frames = []\n",
    "    for i, frame_data in enumerate(frames_data):\n",
    "        frames.append(go.Frame(\n",
    "            data=frame_data,\n",
    "            name=str(i),\n",
    "            layout=go.Layout(\n",
    "                title=f'🚀 다중 위협 분산 대응 시스템 - 시간: {time_frames[i]:.2f}초'\n",
    "            )\n",
    "        ))\n",
    "    \n",
    "    fig.frames = frames\n",
    "    \n",
    "    # 레이아웃 설정\n",
    "    fig.update_layout(\n",
    "        title=dict(\n",
    "            text='🚀 다중 위협 분산 대응 시스템 - 자동 재생 애니메이션',\n",
    "            x=0.5,\n",
    "            font=dict(size=18, color='darkblue')\n",
    "        ),\n",
    "        scene=dict(\n",
    "            xaxis_title='X (m)',\n",
    "            yaxis_title='Y (m)',\n",
    "            zaxis_title='Z (m)',\n",
    "            camera=dict(eye=dict(x=1.5, y=1.5, z=1.2)),\n",
    "            aspectmode='cube',\n",
    "            xaxis=dict(range=[-400, 400]),\n",
    "            yaxis=dict(range=[-400, 400]),\n",
    "            zaxis=dict(range=[0, 500])\n",
    "        ),\n",
    "        width=1200,\n",
    "        height=800,\n",
    "        showlegend=True,\n",
    "        legend=dict(x=0.02, y=0.98, bgcolor='rgba(255,255,255,0.8)'),\n",
    "        # 자동 재생 컨트롤\n",
    "        updatemenus=[dict(\n",
    "            type=\"buttons\",\n",
    "            direction=\"left\",\n",
    "            buttons=list([\n",
    "                dict(\n",
    "                    args=[None, {\"frame\": {\"duration\": 200, \"redraw\": True},\n",
    "                                \"fromcurrent\": True, \n",
    "                                \"transition\": {\"duration\": 100}}],\n",
    "                    label=\"▶️ 재생\",\n",
    "                    method=\"animate\"\n",
    "                ),\n",
    "                dict(\n",
    "                    args=[[None], {\"frame\": {\"duration\": 0, \"redraw\": False},\n",
    "                                  \"mode\": \"immediate\",\n",
    "                                  \"transition\": {\"duration\": 0}}],\n",
    "                    label=\"⏸️ 정지\",\n",
    "                    method=\"animate\"\n",
    "                ),\n",
    "                dict(\n",
    "                    args=[None, {\"frame\": {\"duration\": 100, \"redraw\": True},\n",
    "                                \"fromcurrent\": True, \n",
    "                                \"transition\": {\"duration\": 50}}],\n",
    "                    label=\"⚡ 빠르게\",\n",
    "                    method=\"animate\"\n",
    "                )\n",
    "            ]),\n",
    "            pad={\"r\": 10, \"t\": 87},\n",
    "            showactive=False,\n",
    "            x=0.011,\n",
    "            xanchor=\"right\",\n",
    "            y=0.02,\n",
    "            yanchor=\"top\"\n",
    "        )],\n",
    "        # 슬라이더\n",
    "        sliders=[dict(\n",
    "            active=0,\n",
    "            yanchor=\"top\",\n",
    "            xanchor=\"left\",\n",
    "            currentvalue={\n",
    "                \"font\": {\"size\": 12},\n",
    "                \"prefix\": \"시간: \",\n",
    "                \"visible\": True,\n",
    "                \"xanchor\": \"right\"\n",
    "            },\n",
    "            transition={\"duration\": 100, \"easing\": \"cubic-in-out\"},\n",
    "            pad={\"b\": 10, \"t\": 50},\n",
    "            len=0.9,\n",
    "            x=0.1,\n",
    "            y=0,\n",
    "            steps=[dict(\n",
    "                args=[[str(k)],\n",
    "                     {\"frame\": {\"duration\": 100, \"redraw\": True},\n",
    "                      \"mode\": \"immediate\",\n",
    "                      \"transition\": {\"duration\": 100}}],\n",
    "                label=f\"{time_frames[k]:.1f}s\",\n",
    "                method=\"animate\") for k in range(len(frames))]\n",
    "        )]\n",
    "    )\n",
    "    \n",
    "    return fig\n",
    "\n",
    "# 자동 재생 애니메이션 생성\n",
    "print(\"🎬 자동 재생 애니메이션 생성 중...\")\n",
    "auto_fig = create_auto_play_animation()\n",
    "\n",
    "# 자동 재생 시작 설정\n",
    "auto_fig.show()\n",
    "\n",
    "print(f\"\\n🎉 자동 재생 애니메이션 완료!\")\n",
    "print(f\"   • ▶️ 재생 버튼을 클릭하면 자동 재생 시작\")\n",
    "print(f\"   • ⏸️ 정지 버튼으로 일시정지 가능\")\n",
    "print(f\"   • ⚡ 빠르게 버튼으로 고속 재생\")\n",
    "print(f\"   • 슬라이더로 특정 시점 이동 가능\")\n",
    "print(f\"   • 3D 회전, 확대/축소 가능\")\n",
    "print(f\"   • 브라우저에서 바로 재생!\")"
   ]
  },
  {
   "cell_type": "code",
   "execution_count": 11,
   "id": "586a4f56",
   "metadata": {},
   "outputs": [
    {
     "name": "stdout",
     "output_type": "stream",
     "text": [
      "\n",
      "======================================================================\n",
      "📈 4단계: 성능 분석 및 결론\n",
      "======================================================================\n",
      "\n",
      "📊 성능 통계:\n",
      "   • 총 미사일 수: 5개\n",
      "   • 성공적 요격: 5개\n",
      "   • 요격 실패: 0개\n",
      "   • 성공률: 100.0%\n",
      "\n",
      "⏱️ 요격 시간 분석:\n",
      "   • 평균 요격 시간: 2.860 초\n",
      "   • 최단 요격 시간: 2.484 초\n",
      "   • 최장 요격 시간: 3.006 초\n",
      "\n",
      "🏔️ 요격 고도 분석:\n",
      "   • 평균 요격 고도: 359.7 m\n",
      "   • 최저 요격 고도: 319.8 m\n",
      "   • 최고 요격 고도: 405.7 m\n",
      "\n",
      "🏭 기지별 분담:\n",
      "   • 알파 기지: 2개 미사일 (40.0%)\n",
      "   • 브라보 기지: 3개 미사일 (60.0%)\n",
      "\n",
      "⚡ 기지 효율성:\n",
      "   • 알파 기지 평균 시간: 2.700 초\n",
      "   • 브라보 기지 평균 시간: 2.967 초\n",
      "\n",
      "🎯 결론:\n",
      "   ✅ 다중 위협 분산 대응 시스템 구축 성공\n",
      "   ✅ 최적 할당 알고리즘으로 효율적 방어\n",
      "   ✅ 3D 시각화로 직관적 상황 파악\n",
      "   ✅ 통합 애니메이션으로 실시간 추적\n",
      "\n",
      "🏆 핵심 성과:\n",
      "   • 5개 미사일 중 5개 성공적 요격\n",
      "   • 2개 기지 최적 협력 체계 구축\n",
      "   • 평균 2.86초 만에 신속 대응\n",
      "   • 평균 고도 360m에서 안전한 요격\n",
      "\n",
      "======================================================================\n",
      "🚀 바이브코딩 3일차 문제 2 - 다중 위협 분산 대응 완료!\n",
      "======================================================================\n"
     ]
    }
   ],
   "source": [
    "# 4. 성능 분석 및 결론\n",
    "print(\"\\n\" + \"=\"*70)\n",
    "print(\"📈 4단계: 성능 분석 및 결론\")\n",
    "print(\"=\"*70)\n",
    "\n",
    "# 성능 통계 계산\n",
    "successful_intercepts = [r for r in allocation_results if r['final_time']]\n",
    "failed_intercepts = [r for r in allocation_results if r['final_time'] is None]\n",
    "\n",
    "if successful_intercepts:\n",
    "    intercept_times = [r['final_time'] for r in successful_intercepts]\n",
    "    avg_intercept_time = np.mean(intercept_times)\n",
    "    min_intercept_time = min(intercept_times)\n",
    "    max_intercept_time = max(intercept_times)\n",
    "    \n",
    "    intercept_heights = [r['intercept_point'][2] for r in successful_intercepts]\n",
    "    avg_intercept_height = np.mean(intercept_heights)\n",
    "    min_intercept_height = min(intercept_heights)\n",
    "    max_intercept_height = max(intercept_heights)\n",
    "\n",
    "print(f\"\\n📊 성능 통계:\")\n",
    "print(f\"   • 총 미사일 수: {len(allocation_results)}개\")\n",
    "print(f\"   • 성공적 요격: {len(successful_intercepts)}개\")\n",
    "print(f\"   • 요격 실패: {len(failed_intercepts)}개\")\n",
    "print(f\"   • 성공률: {len(successful_intercepts)/len(allocation_results)*100:.1f}%\")\n",
    "\n",
    "if successful_intercepts:\n",
    "    print(f\"\\n⏱️ 요격 시간 분석:\")\n",
    "    print(f\"   • 평균 요격 시간: {avg_intercept_time:.3f} 초\")\n",
    "    print(f\"   • 최단 요격 시간: {min_intercept_time:.3f} 초\")\n",
    "    print(f\"   • 최장 요격 시간: {max_intercept_time:.3f} 초\")\n",
    "    \n",
    "    print(f\"\\n🏔️ 요격 고도 분석:\")\n",
    "    print(f\"   • 평균 요격 고도: {avg_intercept_height:.1f} m\")\n",
    "    print(f\"   • 최저 요격 고도: {min_intercept_height:.1f} m\")\n",
    "    print(f\"   • 최고 요격 고도: {max_intercept_height:.1f} m\")\n",
    "\n",
    "# 기지별 분담 분석\n",
    "alpha_assigned = len([r for r in allocation_results if r['assigned_base'] == '알파'])\n",
    "bravo_assigned = len([r for r in allocation_results if r['assigned_base'] == '브라보'])\n",
    "\n",
    "print(f\"\\n🏭 기지별 분담:\")\n",
    "print(f\"   • 알파 기지: {alpha_assigned}개 미사일 ({alpha_assigned/len(successful_intercepts)*100:.1f}%)\")\n",
    "print(f\"   • 브라보 기지: {bravo_assigned}개 미사일 ({bravo_assigned/len(successful_intercepts)*100:.1f}%)\")\n",
    "\n",
    "# 기지 효율성 비교\n",
    "if successful_intercepts:\n",
    "    alpha_times = [r['final_time'] for r in allocation_results if r['assigned_base'] == '알파']\n",
    "    bravo_times = [r['final_time'] for r in allocation_results if r['assigned_base'] == '브라보']\n",
    "    \n",
    "    if alpha_times and bravo_times:\n",
    "        print(f\"\\n⚡ 기지 효율성:\")\n",
    "        print(f\"   • 알파 기지 평균 시간: {np.mean(alpha_times):.3f} 초\")\n",
    "        print(f\"   • 브라보 기지 평균 시간: {np.mean(bravo_times):.3f} 초\")\n",
    "\n",
    "print(f\"\\n🎯 결론:\")\n",
    "print(f\"   ✅ 다중 위협 분산 대응 시스템 구축 성공\")\n",
    "print(f\"   ✅ 최적 할당 알고리즘으로 효율적 방어\")\n",
    "print(f\"   ✅ 3D 시각화로 직관적 상황 파악\")\n",
    "print(f\"   ✅ 통합 애니메이션으로 실시간 추적\")\n",
    "\n",
    "print(f\"\\n🏆 핵심 성과:\")\n",
    "print(f\"   • 5개 미사일 중 {len(successful_intercepts)}개 성공적 요격\")\n",
    "print(f\"   • 2개 기지 최적 협력 체계 구축\")\n",
    "print(f\"   • 평균 {avg_intercept_time:.2f}초 만에 신속 대응\")\n",
    "print(f\"   • 평균 고도 {avg_intercept_height:.0f}m에서 안전한 요격\")\n",
    "\n",
    "print(f\"\\n\" + \"=\"*70)\n",
    "print(\"🚀 바이브코딩 3일차 문제 2 - 다중 위협 분산 대응 완료!\")\n",
    "print(\"=\"*70)"
   ]
  },
  {
   "cell_type": "code",
   "execution_count": 13,
   "id": "d3384d76",
   "metadata": {},
   "outputs": [
    {
     "name": "stdout",
     "output_type": "stream",
     "text": [
      "\n",
      "======================================================================\n",
      "🎥 5단계: 동영상 애니메이션 생성\n",
      "======================================================================\n",
      "🎬 애니메이션 생성 중...\n"
     ]
    },
    {
     "data": {
      "image/png": "[encoded data removed]",
      "text/plain": [
       "<Figure size 1200x900 with 1 Axes>"
      ]
     },
     "metadata": {},
     "output_type": "display_data"
    },
    {
     "name": "stdout",
     "output_type": "stream",
     "text": [
      "\n",
      "🎥 동영상 애니메이션 생성 완료!\n",
      "   • 120프레임 고해상도 애니메이션\n",
      "   • 실시간 궤적 추적\n",
      "   • 동적 카메라 뷰\n",
      "\n",
      "✅ 동영상 애니메이션 단계 완료!\n"
     ]
    },
    {
     "name": "stderr",
     "output_type": "stream",
     "text": [
      "c:\\Users\\eys63\\AppData\\Local\\Programs\\Python\\Python310\\lib\\site-packages\\matplotlib\\animation.py:908: UserWarning:\n",
      "\n",
      "Animation was deleted without rendering anything. This is most likely not intended. To prevent deletion, assign the Animation to a variable, e.g. `anim`, that exists until you output the Animation using `plt.show()` or `anim.save()`.\n",
      "\n"
     ]
    }
   ],
   "source": [
    "# 5. 동영상 애니메이션 생성 (matplotlib)\n",
    "print(\"\\n\" + \"=\"*70)\n",
    "print(\"🎥 5단계: 동영상 애니메이션 생성\")\n",
    "print(\"=\"*70)\n",
    "\n",
    "import matplotlib.animation as animation\n",
    "from mpl_toolkits.mplot3d import Axes3D\n",
    "\n",
    "def create_video_animation():\n",
    "    \"\"\"matplotlib를 사용한 동영상 애니메이션\"\"\"\n",
    "    \n",
    "    # 애니메이션 설정\n",
    "    max_intercept_time = max([r['final_time'] for r in allocation_results if r['final_time']])\n",
    "    animation_frames = 120  # 더 부드러운 애니메이션을 위해 프레임 수 증가\n",
    "    time_frames = np.linspace(0, max_intercept_time, animation_frames)\n",
    "    \n",
    "    # 플롯 설정\n",
    "    fig = plt.figure(figsize=(12, 9))\n",
    "    ax = fig.add_subplot(111, projection='3d')\n",
    "    \n",
    "    # 색상 설정\n",
    "    colors = ['red', 'orange', 'green', 'purple', 'brown']\n",
    "    \n",
    "    def animate(frame):\n",
    "        ax.clear()\n",
    "        current_time = time_frames[frame]\n",
    "        \n",
    "        # 축 설정\n",
    "        ax.set_xlim([-400, 400])\n",
    "        ax.set_ylim([-400, 400])\n",
    "        ax.set_zlim([0, 500])\n",
    "        ax.set_xlabel('X (m)')\n",
    "        ax.set_ylabel('Y (m)')\n",
    "        ax.set_zlabel('Z (m)')\n",
    "        \n",
    "        # 제목 설정\n",
    "        ax.set_title(f'🚀 다중 위협 분산 대응 시스템 - 시간: {current_time:.2f}초', \n",
    "                    fontsize=14, pad=20)\n",
    "        \n",
    "        # 도시 표시\n",
    "        ax.scatter([0], [0], [0], c='red', s=200, marker='D', \n",
    "                  label='🏙️ 도시', alpha=0.8)\n",
    "        \n",
    "        # 기지 표시\n",
    "        ax.scatter([S_A[0]], [S_A[1]], [S_A[2]], c='blue', s=150, marker='s',\n",
    "                  label='🏭 알파 기지', alpha=0.8)\n",
    "        ax.scatter([S_B[0]], [S_B[1]], [S_B[2]], c='cyan', s=150, marker='s',\n",
    "                  label='🏭 브라보 기지', alpha=0.8)\n",
    "        \n",
    "        # 각 미사일과 요격 미사일\n",
    "        for i, result in enumerate(allocation_results):\n",
    "            if result['final_time'] and current_time <= result['final_time']:\n",
    "                missile_func = result['missile_func']\n",
    "                missile_name = result['missile']\n",
    "                assigned_base = result['assigned_base']\n",
    "                intercept_point = result['intercept_point']\n",
    "                final_time = result['final_time']\n",
    "                \n",
    "                # 미사일 궤적 (전체 - 반투명)\n",
    "                t_full = np.linspace(0, final_time*1.1, 100)\n",
    "                full_traj = np.array([missile_func(t) for t in t_full])\n",
    "                valid_traj = full_traj[full_traj[:, 2] >= 0]\n",
    "                \n",
    "                if len(valid_traj) > 0:\n",
    "                    ax.plot(valid_traj[:, 0], valid_traj[:, 1], valid_traj[:, 2],\n",
    "                           color=colors[i], alpha=0.3, linewidth=2, linestyle='--')\n",
    "                \n",
    "                # 현재 미사일 위치\n",
    "                current_missile_pos = missile_func(current_time)\n",
    "                if current_missile_pos[2] >= 0:\n",
    "                    ax.scatter([current_missile_pos[0]], [current_missile_pos[1]], [current_missile_pos[2]],\n",
    "                             c=colors[i], s=100, marker='o', alpha=0.9,\n",
    "                             label=f'🚀 {missile_name}' if frame == 0 else \"\")\n",
    "                \n",
    "                # 요격 미사일\n",
    "                if assigned_base == \"알파\":\n",
    "                    base_pos = S_A\n",
    "                    intercept_color = 'blue'\n",
    "                else:\n",
    "                    base_pos = S_B\n",
    "                    intercept_color = 'cyan'\n",
    "                \n",
    "                # 요격 미사일 현재 위치\n",
    "                direction = (intercept_point - base_pos) / np.linalg.norm(intercept_point - base_pos)\n",
    "                current_intercept_pos = base_pos + v_I * current_time * direction\n",
    "                \n",
    "                ax.scatter([current_intercept_pos[0]], [current_intercept_pos[1]], [current_intercept_pos[2]],\n",
    "                         c=intercept_color, s=80, marker='^', alpha=0.9,\n",
    "                         label=f'🛡️ {assigned_base}→{missile_name}' if frame == 0 else \"\")\n",
    "                \n",
    "                # 요격 미사일 궤적 (현재까지)\n",
    "                if current_time > 0:\n",
    "                    trail_times = np.linspace(0, current_time, max(2, int(current_time*10)))\n",
    "                    trail_pos = np.array([base_pos + v_I * t * direction for t in trail_times])\n",
    "                    \n",
    "                    ax.plot(trail_pos[:, 0], trail_pos[:, 1], trail_pos[:, 2],\n",
    "                           color=intercept_color, linewidth=3, alpha=0.8)\n",
    "                \n",
    "                # 요격 지점 표시 (요격 시간에 도달했을 때)\n",
    "                if abs(current_time - final_time) < 0.1:\n",
    "                    ax.scatter([intercept_point[0]], [intercept_point[1]], [intercept_point[2]],\n",
    "                             c='gold', s=200, marker='*', alpha=1.0,\n",
    "                             label=f'💥 요격!' if frame == 0 else \"\")\n",
    "        \n",
    "        # 범례 설정 (첫 번째 프레임에만)\n",
    "        if frame == 0:\n",
    "            ax.legend(loc='upper left', bbox_to_anchor=(0, 1))\n",
    "        \n",
    "        # 시간 표시\n",
    "        ax.text2D(0.02, 0.98, f'시간: {current_time:.2f}초', \n",
    "                 transform=ax.transAxes, fontsize=12, \n",
    "                 bbox=dict(boxstyle=\"round,pad=0.3\", facecolor=\"yellow\", alpha=0.7))\n",
    "        \n",
    "        # 카메라 각도 설정\n",
    "        ax.view_init(elev=20, azim=45)\n",
    "        \n",
    "        return ax.collections + ax.texts\n",
    "    \n",
    "    # 애니메이션 생성\n",
    "    print(\"🎬 애니메이션 생성 중...\")\n",
    "    anim = animation.FuncAnimation(fig, animate, frames=animation_frames, \n",
    "                                  interval=100, blit=False, repeat=True)\n",
    "    \n",
    "    # 애니메이션 표시\n",
    "    plt.tight_layout()\n",
    "    plt.show()\n",
    "    \n",
    "    return anim, fig\n",
    "\n",
    "# 동영상 애니메이션 생성\n",
    "try:\n",
    "    video_anim, video_fig = create_video_animation()\n",
    "    print(f\"\\n🎥 동영상 애니메이션 생성 완료!\")\n",
    "    print(f\"   • {120}프레임 고해상도 애니메이션\")\n",
    "    print(f\"   • 실시간 궤적 추적\")\n",
    "    print(f\"   • 동적 카메라 뷰\")\n",
    "    \n",
    "except Exception as e:\n",
    "    print(f\"⚠️ 애니메이션 생성 중 오류: {e}\")\n",
    "\n",
    "print(f\"\\n✅ 동영상 애니메이션 단계 완료!\")"
   ]
  },
  {
   "cell_type": "code",
   "execution_count": null,
   "id": "d333b62d",
   "metadata": {},
   "outputs": [],
   "source": [
    "# 6. 동영상 파일 저장\n",
    "print(\"\\n\" + \"=\"*70)\n",
    "print(\"💾 6단계: 동영상 파일 저장\")\n",
    "print(\"=\"*70)\n",
    "\n",
    "def save_animation_video():\n",
    "    \"\"\"애니메이션을 MP4 동영상 파일로 저장\"\"\"\n",
    "    \n",
    "    try:\n",
    "        # 동영상 저장을 위한 writer 설정\n",
    "        print(\"🎬 고품질 동영상 생성 중...\")\n",
    "        \n",
    "        # 애니메이션 설정\n",
    "        max_intercept_time = max([r['final_time'] for r in allocation_results if r['final_time']])\n",
    "        save_frames = 150  # 저장용 고품질 프레임\n",
    "        time_frames = np.linspace(0, max_intercept_time, save_frames)\n",
    "        \n",
    "        # 고해상도 플롯 설정\n",
    "        fig = plt.figure(figsize=(16, 12), dpi=100)\n",
    "        ax = fig.add_subplot(111, projection='3d')\n",
    "        \n",
    "        colors = ['red', 'orange', 'green', 'purple', 'brown']\n",
    "        \n",
    "        def animate_save(frame):\n",
    "            ax.clear()\n",
    "            current_time = time_frames[frame]\n",
    "            \n",
    "            # 고품질 축 설정\n",
    "            ax.set_xlim([-400, 400])\n",
    "            ax.set_ylim([-400, 400])\n",
    "            ax.set_zlim([0, 500])\n",
    "            ax.set_xlabel('X (m)', fontsize=12)\n",
    "            ax.set_ylabel('Y (m)', fontsize=12)\n",
    "            ax.set_zlabel('Z (m)', fontsize=12)\n",
    "            \n",
    "            # 제목\n",
    "            ax.set_title(f'🚀 다중 위협 분산 대응 시스템\\\\n시간: {current_time:.2f}초', \n",
    "                        fontsize=16, pad=30)\n",
    "            \n",
    "            # 도시\n",
    "            ax.scatter([0], [0], [0], c='red', s=300, marker='D', \n",
    "                      label='🏙️ 도시', alpha=0.9, edgecolor='darkred', linewidth=2)\n",
    "            \n",
    "            # 기지들\n",
    "            ax.scatter([S_A[0]], [S_A[1]], [S_A[2]], c='blue', s=200, marker='s',\n",
    "                      label='🏭 알파 기지', alpha=0.9, edgecolor='darkblue', linewidth=2)\n",
    "            ax.scatter([S_B[0]], [S_B[1]], [S_B[2]], c='cyan', s=200, marker='s',\n",
    "                      label='🏭 브라보 기지', alpha=0.9, edgecolor='darkcyan', linewidth=2)\n",
    "            \n",
    "            # 미사일들과 요격 과정\n",
    "            active_missiles = 0\n",
    "            for i, result in enumerate(allocation_results):\n",
    "                if result['final_time']:\n",
    "                    missile_func = result['missile_func']\n",
    "                    missile_name = result['missile']\n",
    "                    assigned_base = result['assigned_base']\n",
    "                    intercept_point = result['intercept_point']\n",
    "                    final_time = result['final_time']\n",
    "                    \n",
    "                    # 전체 궤적 (반투명)\n",
    "                    t_full = np.linspace(0, final_time*1.1, 80)\n",
    "                    full_traj = np.array([missile_func(t) for t in t_full])\n",
    "                    valid_traj = full_traj[full_traj[:, 2] >= 0]\n",
    "                    \n",
    "                    if len(valid_traj) > 0:\n",
    "                        ax.plot(valid_traj[:, 0], valid_traj[:, 1], valid_traj[:, 2],\n",
    "                               color=colors[i], alpha=0.4, linewidth=3, linestyle='--')\n",
    "                    \n",
    "                    if current_time <= final_time:\n",
    "                        active_missiles += 1\n",
    "                        \n",
    "                        # 현재 미사일 위치\n",
    "                        current_missile_pos = missile_func(current_time)\n",
    "                        if current_missile_pos[2] >= 0:\n",
    "                            ax.scatter([current_missile_pos[0]], [current_missile_pos[1]], [current_missile_pos[2]],\n",
    "                                     c=colors[i], s=120, marker='o', alpha=1.0,\n",
    "                                     edgecolor='black', linewidth=1,\n",
    "                                     label=f'🚀 {missile_name}')\n",
    "                        \n",
    "                        # 요격 미사일\n",
    "                        base_pos = S_A if assigned_base == \"알파\" else S_B\n",
    "                        intercept_color = 'blue' if assigned_base == \"알파\" else 'cyan'\n",
    "                        \n",
    "                        direction = (intercept_point - base_pos) / np.linalg.norm(intercept_point - base_pos)\n",
    "                        current_intercept_pos = base_pos + v_I * current_time * direction\n",
    "                        \n",
    "                        ax.scatter([current_intercept_pos[0]], [current_intercept_pos[1]], [current_intercept_pos[2]],\n",
    "                                 c=intercept_color, s=100, marker='^', alpha=1.0,\n",
    "                                 edgecolor='black', linewidth=1,\n",
    "                                 label=f'🛡️ {assigned_base}→{missile_name}')\n",
    "                        \n",
    "                        # 요격 미사일 궤적\n",
    "                        if current_time > 0:\n",
    "                            trail_times = np.linspace(0, current_time, max(2, int(current_time*8)))\n",
    "                            trail_pos = np.array([base_pos + v_I * t * direction for t in trail_times])\n",
    "                            ax.plot(trail_pos[:, 0], trail_pos[:, 1], trail_pos[:, 2],\n",
    "                                   color=intercept_color, linewidth=4, alpha=0.9)\n",
    "                    \n",
    "                    # 요격 완료 표시\n",
    "                    elif current_time > final_time:\n",
    "                        ax.scatter([intercept_point[0]], [intercept_point[1]], [intercept_point[2]],\n",
    "                                 c='gold', s=250, marker='*', alpha=0.8,\n",
    "                                 edgecolor='orange', linewidth=2,\n",
    "                                 label=f'💥 {missile_name} 요격완료')\n",
    "            \n",
    "            # 상태 정보 표시\n",
    "            completed = len([r for r in allocation_results if r['final_time'] and current_time > r['final_time']])\n",
    "            total = len([r for r in allocation_results if r['final_time']])\n",
    "            \n",
    "            status_text = f\"진행상황: {completed}/{total} 요격완료\\\\n활성미사일: {active_missiles}개\"\n",
    "            ax.text2D(0.02, 0.95, status_text, transform=ax.transAxes, fontsize=11,\n",
    "                     bbox=dict(boxstyle=\"round,pad=0.5\", facecolor=\"lightblue\", alpha=0.8))\n",
    "            \n",
    "            # 시간 표시\n",
    "            ax.text2D(0.02, 0.02, f'시간: {current_time:.2f}초', \n",
    "                     transform=ax.transAxes, fontsize=14, weight='bold',\n",
    "                     bbox=dict(boxstyle=\"round,pad=0.3\", facecolor=\"yellow\", alpha=0.9))\n",
    "            \n",
    "            # 범례 (선택적)\n",
    "            if frame < 10 or frame % 30 == 0:  # 일부 프레임에만 범례 표시\n",
    "                ax.legend(loc='upper right', bbox_to_anchor=(1, 1), fontsize=8)\n",
    "            \n",
    "            # 동적 카메라 각도 (부드러운 회전)\n",
    "            azim = 45 + (frame * 0.5) % 360\n",
    "            ax.view_init(elev=25, azim=azim)\n",
    "            \n",
    "            # 프로그레스 표시\n",
    "            if frame % 10 == 0:\n",
    "                progress = (frame / save_frames) * 100\n",
    "                print(f\"   진행률: {progress:.1f}%\")\n",
    "        \n",
    "        # 애니메이션 생성\n",
    "        save_anim = animation.FuncAnimation(fig, animate_save, frames=save_frames,\n",
    "                                          interval=67, blit=False, repeat=False)  # ~15fps\n",
    "        \n",
    "        # 동영상 저장 시도\n",
    "        try:\n",
    "            # FFmpeg writer 사용 (고품질)\n",
    "            Writer = animation.writers['ffmpeg']\n",
    "            writer = Writer(fps=15, metadata=dict(artist='MissileDefenseSystem'), bitrate=1800)\n",
    "            \n",
    "            filename = 'missile_defense_animation.mp4'\n",
    "            save_anim.save(filename, writer=writer, dpi=100)\n",
    "            print(f\"\\\\n🎉 동영상 저장 성공: {filename}\")\n",
    "            print(f\"   • 해상도: 1600x1200 (100 DPI)\")\n",
    "            print(f\"   • 프레임률: 15 FPS\")\n",
    "            print(f\"   • 총 길이: {save_frames/15:.1f}초\")\n",
    "            \n",
    "        except Exception as save_error:\n",
    "            # Pillow writer로 대체 시도 (GIF)\n",
    "            try:\n",
    "                filename = 'missile_defense_animation.gif'\n",
    "                save_anim.save(filename, writer='pillow', fps=10)\n",
    "                print(f\"\\\\n🎉 GIF 저장 성공: {filename}\")\n",
    "                print(f\"   • MP4 저장 실패로 GIF로 대체\")\n",
    "                \n",
    "            except Exception as gif_error:\n",
    "                print(f\"\\\\n⚠️ 파일 저장 실패:\")\n",
    "                print(f\"   MP4 오류: {save_error}\")\n",
    "                print(f\"   GIF 오류: {gif_error}\")\n",
    "                print(f\"   화면 표시만 진행합니다.\")\n",
    "        \n",
    "        # 메모리 정리\n",
    "        plt.close(fig)\n",
    "        \n",
    "        return save_anim\n",
    "        \n",
    "    except Exception as e:\n",
    "        print(f\"⚠️ 동영상 생성 오류: {e}\")\n",
    "        return None\n",
    "\n",
    "# 동영상 저장 실행\n",
    "print(\"🎥 고품질 동영상 생성을 시작합니다...\")\n",
    "print(\"   (시간이 다소 걸릴 수 있습니다)\")\n",
    "\n",
    "saved_animation = save_animation_video()\n",
    "\n",
    "if saved_animation:\n",
    "    print(f\"\\\\n✅ 동영상 저장 단계 완료!\")\n",
    "else:\n",
    "    print(f\"\\\\n⚠️ 동영상 저장 실패 - 실시간 애니메이션은 정상 작동\")"
   ]
  },
  {
   "cell_type": "code",
   "execution_count": 14,
   "id": "eb1ed621",
   "metadata": {},
   "outputs": [
    {
     "name": "stdout",
     "output_type": "stream",
     "text": [
      "\n",
      "======================================================================\n",
      "⚡ 7단계: 간단한 실시간 애니메이션\n",
      "======================================================================\n",
      "실시간 텍스트 애니메이션을 시작하시겠습니까? (y/n)\n",
      "자동 실행 중...\n",
      "🎬 실시간 애니메이션 시작 (총 3.0초)\n",
      "==================================================\n",
      "🚀 다중 위협 분산 대응 시스템\n",
      "⏰ 현재 시간: 0.00초\n",
      "==================================================\n",
      "🚀 H1: [░░░░░░░░░░░░░░░░░░░░] 0.0%\n",
      "   └─ 알파 기지가 담당, 요격까지 2.9초\n",
      "🚀 H2: [░░░░░░░░░░░░░░░░░░░░] 0.0%\n",
      "   └─ 브라보 기지가 담당, 요격까지 2.9초\n",
      "🚀 H3: [░░░░░░░░░░░░░░░░░░░░] 0.0%\n",
      "   └─ 브라보 기지가 담당, 요격까지 3.0초\n",
      "🚀 H4: [░░░░░░░░░░░░░░░░░░░░] 0.0%\n",
      "   └─ 알파 기지가 담당, 요격까지 2.5초\n",
      "🚀 H5: [░░░░░░░░░░░░░░░░░░░░] 0.0%\n",
      "   └─ 브라보 기지가 담당, 요격까지 3.0초\n",
      "==================================================\n",
      "📊 현재 상황: 진행중 5개, 완료 0개\n",
      "🚀 다중 위협 분산 대응 시스템\n",
      "⏰ 현재 시간: 0.06초\n",
      "==================================================\n",
      "🚀 H1: [░░░░░░░░░░░░░░░░░░░░] 2.1%\n",
      "   └─ 알파 기지가 담당, 요격까지 2.9초\n",
      "🚀 H2: [░░░░░░░░░░░░░░░░░░░░] 2.0%\n",
      "   └─ 브라보 기지가 담당, 요격까지 2.9초\n",
      "🚀 H3: [░░░░░░░░░░░░░░░░░░░░] 2.0%\n",
      "   └─ 브라보 기지가 담당, 요격까지 2.9초\n",
      "🚀 H4: [░░░░░░░░░░░░░░░░░░░░] 2.4%\n",
      "   └─ 알파 기지가 담당, 요격까지 2.4초\n",
      "🚀 H5: [░░░░░░░░░░░░░░░░░░░░] 2.0%\n",
      "   └─ 브라보 기지가 담당, 요격까지 2.9초\n",
      "==================================================\n",
      "📊 현재 상황: 진행중 5개, 완료 0개\n",
      "🚀 다중 위협 분산 대응 시스템\n",
      "⏰ 현재 시간: 0.12초\n",
      "==================================================\n",
      "🚀 H1: [░░░░░░░░░░░░░░░░░░░░] 4.1%\n",
      "   └─ 알파 기지가 담당, 요격까지 2.8초\n",
      "🚀 H2: [░░░░░░░░░░░░░░░░░░░░] 4.1%\n",
      "   └─ 브라보 기지가 담당, 요격까지 2.8초\n",
      "🚀 H3: [░░░░░░░░░░░░░░░░░░░░] 4.1%\n",
      "   └─ 브라보 기지가 담당, 요격까지 2.8초\n",
      "🚀 H4: [░░░░░░░░░░░░░░░░░░░░] 4.8%\n",
      "   └─ 알파 기지가 담당, 요격까지 2.4초\n",
      "🚀 H5: [░░░░░░░░░░░░░░░░░░░░] 4.0%\n",
      "   └─ 브라보 기지가 담당, 요격까지 2.9초\n",
      "==================================================\n",
      "📊 현재 상황: 진행중 5개, 완료 0개\n",
      "🚀 다중 위협 분산 대응 시스템\n",
      "⏰ 현재 시간: 0.18초\n",
      "==================================================\n",
      "🚀 H1: [█░░░░░░░░░░░░░░░░░░░] 6.2%\n",
      "   └─ 알파 기지가 담당, 요격까지 2.7초\n",
      "🚀 H2: [█░░░░░░░░░░░░░░░░░░░] 6.1%\n",
      "   └─ 브라보 기지가 담당, 요격까지 2.8초\n",
      "🚀 H3: [█░░░░░░░░░░░░░░░░░░░] 6.1%\n",
      "   └─ 브라보 기지가 담당, 요격까지 2.8초\n",
      "🚀 H4: [█░░░░░░░░░░░░░░░░░░░] 7.3%\n",
      "   └─ 알파 기지가 담당, 요격까지 2.3초\n",
      "🚀 H5: [█░░░░░░░░░░░░░░░░░░░] 6.0%\n",
      "   └─ 브라보 기지가 담당, 요격까지 2.8초\n",
      "==================================================\n",
      "📊 현재 상황: 진행중 5개, 완료 0개\n",
      "🚀 다중 위협 분산 대응 시스템\n",
      "⏰ 현재 시간: 0.24초\n",
      "==================================================\n",
      "🚀 H1: [█░░░░░░░░░░░░░░░░░░░] 8.2%\n",
      "   └─ 알파 기지가 담당, 요격까지 2.7초\n",
      "🚀 H2: [█░░░░░░░░░░░░░░░░░░░] 8.2%\n",
      "   └─ 브라보 기지가 담당, 요격까지 2.7초\n",
      "🚀 H3: [█░░░░░░░░░░░░░░░░░░░] 8.1%\n",
      "   └─ 브라보 기지가 담당, 요격까지 2.7초\n",
      "🚀 H4: [█░░░░░░░░░░░░░░░░░░░] 9.7%\n",
      "   └─ 알파 기지가 담당, 요격까지 2.2초\n",
      "🚀 H5: [█░░░░░░░░░░░░░░░░░░░] 8.0%\n",
      "   └─ 브라보 기지가 담당, 요격까지 2.8초\n",
      "==================================================\n",
      "📊 현재 상황: 진행중 5개, 완료 0개\n",
      "🚀 다중 위협 분산 대응 시스템\n",
      "⏰ 현재 시간: 0.30초\n",
      "==================================================\n",
      "🚀 H1: [██░░░░░░░░░░░░░░░░░░] 10.3%\n",
      "   └─ 알파 기지가 담당, 요격까지 2.6초\n",
      "🚀 H2: [██░░░░░░░░░░░░░░░░░░] 10.2%\n",
      "   └─ 브라보 기지가 담당, 요격까지 2.6초\n",
      "🚀 H3: [██░░░░░░░░░░░░░░░░░░] 10.2%\n",
      "   └─ 브라보 기지가 담당, 요격까지 2.7초\n",
      "🚀 H4: [██░░░░░░░░░░░░░░░░░░] 12.1%\n",
      "   └─ 알파 기지가 담당, 요격까지 2.2초\n",
      "🚀 H5: [██░░░░░░░░░░░░░░░░░░] 10.0%\n",
      "   └─ 브라보 기지가 담당, 요격까지 2.7초\n",
      "==================================================\n",
      "📊 현재 상황: 진행중 5개, 완료 0개\n",
      "🚀 다중 위협 분산 대응 시스템\n",
      "⏰ 현재 시간: 0.36초\n",
      "==================================================\n",
      "🚀 H1: [██░░░░░░░░░░░░░░░░░░] 12.4%\n",
      "   └─ 알파 기지가 담당, 요격까지 2.6초\n",
      "🚀 H2: [██░░░░░░░░░░░░░░░░░░] 12.3%\n",
      "   └─ 브라보 기지가 담당, 요격까지 2.6초\n",
      "🚀 H3: [██░░░░░░░░░░░░░░░░░░] 12.2%\n",
      "   └─ 브라보 기지가 담당, 요격까지 2.6초\n",
      "🚀 H4: [██░░░░░░░░░░░░░░░░░░] 14.5%\n",
      "   └─ 알파 기지가 담당, 요격까지 2.1초\n",
      "🚀 H5: [██░░░░░░░░░░░░░░░░░░] 12.0%\n",
      "   └─ 브라보 기지가 담당, 요격까지 2.6초\n",
      "==================================================\n",
      "📊 현재 상황: 진행중 5개, 완료 0개\n",
      "🚀 다중 위협 분산 대응 시스템\n",
      "⏰ 현재 시간: 0.42초\n",
      "==================================================\n",
      "🚀 H1: [██░░░░░░░░░░░░░░░░░░] 14.4%\n",
      "   └─ 알파 기지가 담당, 요격까지 2.5초\n",
      "🚀 H2: [██░░░░░░░░░░░░░░░░░░] 14.3%\n",
      "   └─ 브라보 기지가 담당, 요격까지 2.5초\n",
      "🚀 H3: [██░░░░░░░░░░░░░░░░░░] 14.2%\n",
      "   └─ 브라보 기지가 담당, 요격까지 2.5초\n",
      "🚀 H4: [███░░░░░░░░░░░░░░░░░] 16.9%\n",
      "   └─ 알파 기지가 담당, 요격까지 2.1초\n",
      "🚀 H5: [██░░░░░░░░░░░░░░░░░░] 14.0%\n",
      "   └─ 브라보 기지가 담당, 요격까지 2.6초\n",
      "==================================================\n",
      "📊 현재 상황: 진행중 5개, 완료 0개\n",
      "🚀 다중 위협 분산 대응 시스템\n",
      "⏰ 현재 시간: 0.48초\n",
      "==================================================\n",
      "🚀 H1: [███░░░░░░░░░░░░░░░░░] 16.5%\n",
      "   └─ 알파 기지가 담당, 요격까지 2.4초\n",
      "🚀 H2: [███░░░░░░░░░░░░░░░░░] 16.4%\n",
      "   └─ 브라보 기지가 담당, 요격까지 2.5초\n",
      "🚀 H3: [███░░░░░░░░░░░░░░░░░] 16.3%\n",
      "   └─ 브라보 기지가 담당, 요격까지 2.5초\n",
      "🚀 H4: [███░░░░░░░░░░░░░░░░░] 19.4%\n",
      "   └─ 알파 기지가 담당, 요격까지 2.0초\n",
      "🚀 H5: [███░░░░░░░░░░░░░░░░░] 16.0%\n",
      "   └─ 브라보 기지가 담당, 요격까지 2.5초\n",
      "==================================================\n",
      "📊 현재 상황: 진행중 5개, 완료 0개\n",
      "🚀 다중 위협 분산 대응 시스템\n",
      "⏰ 현재 시간: 0.54초\n",
      "==================================================\n",
      "🚀 H1: [███░░░░░░░░░░░░░░░░░] 18.6%\n",
      "   └─ 알파 기지가 담당, 요격까지 2.4초\n",
      "🚀 H2: [███░░░░░░░░░░░░░░░░░] 18.4%\n",
      "   └─ 브라보 기지가 담당, 요격까지 2.4초\n",
      "🚀 H3: [███░░░░░░░░░░░░░░░░░] 18.3%\n",
      "   └─ 브라보 기지가 담당, 요격까지 2.4초\n",
      "🚀 H4: [████░░░░░░░░░░░░░░░░] 21.8%\n",
      "   └─ 알파 기지가 담당, 요격까지 1.9초\n",
      "🚀 H5: [███░░░░░░░░░░░░░░░░░] 18.0%\n",
      "   └─ 브라보 기지가 담당, 요격까지 2.5초\n",
      "==================================================\n",
      "📊 현재 상황: 진행중 5개, 완료 0개\n",
      "🚀 다중 위협 분산 대응 시스템\n",
      "⏰ 현재 시간: 0.60초\n",
      "==================================================\n",
      "🚀 H1: [████░░░░░░░░░░░░░░░░] 20.6%\n",
      "   └─ 알파 기지가 담당, 요격까지 2.3초\n",
      "🚀 H2: [████░░░░░░░░░░░░░░░░] 20.5%\n",
      "   └─ 브라보 기지가 담당, 요격까지 2.3초\n",
      "🚀 H3: [████░░░░░░░░░░░░░░░░] 20.3%\n",
      "   └─ 브라보 기지가 담당, 요격까지 2.4초\n",
      "🚀 H4: [████░░░░░░░░░░░░░░░░] 24.2%\n",
      "   └─ 알파 기지가 담당, 요격까지 1.9초\n",
      "🚀 H5: [████░░░░░░░░░░░░░░░░] 20.0%\n",
      "   └─ 브라보 기지가 담당, 요격까지 2.4초\n",
      "==================================================\n",
      "📊 현재 상황: 진행중 5개, 완료 0개\n",
      "🚀 다중 위협 분산 대응 시스템\n",
      "⏰ 현재 시간: 0.66초\n",
      "==================================================\n",
      "🚀 H1: [████░░░░░░░░░░░░░░░░] 22.7%\n",
      "   └─ 알파 기지가 담당, 요격까지 2.3초\n",
      "🚀 H2: [████░░░░░░░░░░░░░░░░] 22.5%\n",
      "   └─ 브라보 기지가 담당, 요격까지 2.3초\n",
      "🚀 H3: [████░░░░░░░░░░░░░░░░] 22.4%\n",
      "   └─ 브라보 기지가 담당, 요격까지 2.3초\n",
      "🚀 H4: [█████░░░░░░░░░░░░░░░] 26.6%\n",
      "   └─ 알파 기지가 담당, 요격까지 1.8초\n",
      "🚀 H5: [████░░░░░░░░░░░░░░░░] 22.0%\n",
      "   └─ 브라보 기지가 담당, 요격까지 2.3초\n",
      "==================================================\n",
      "📊 현재 상황: 진행중 5개, 완료 0개\n",
      "🚀 다중 위협 분산 대응 시스템\n",
      "⏰ 현재 시간: 0.72초\n",
      "==================================================\n",
      "🚀 H1: [████░░░░░░░░░░░░░░░░] 24.7%\n",
      "   └─ 알파 기지가 담당, 요격까지 2.2초\n",
      "🚀 H2: [████░░░░░░░░░░░░░░░░] 24.6%\n",
      "   └─ 브라보 기지가 담당, 요격까지 2.2초\n",
      "🚀 H3: [████░░░░░░░░░░░░░░░░] 24.4%\n",
      "   └─ 브라보 기지가 담당, 요격까지 2.2초\n",
      "🚀 H4: [█████░░░░░░░░░░░░░░░] 29.1%\n",
      "   └─ 알파 기지가 담당, 요격까지 1.8초\n",
      "🚀 H5: [████░░░░░░░░░░░░░░░░] 24.0%\n",
      "   └─ 브라보 기지가 담당, 요격까지 2.3초\n",
      "==================================================\n",
      "📊 현재 상황: 진행중 5개, 완료 0개\n",
      "🚀 다중 위협 분산 대응 시스템\n",
      "⏰ 현재 시간: 0.78초\n",
      "==================================================\n",
      "🚀 H1: [█████░░░░░░░░░░░░░░░] 26.8%\n",
      "   └─ 알파 기지가 담당, 요격까지 2.1초\n",
      "🚀 H2: [█████░░░░░░░░░░░░░░░] 26.6%\n",
      "   └─ 브라보 기지가 담당, 요격까지 2.2초\n",
      "🚀 H3: [█████░░░░░░░░░░░░░░░] 26.4%\n",
      "   └─ 브라보 기지가 담당, 요격까지 2.2초\n",
      "🚀 H4: [██████░░░░░░░░░░░░░░] 31.5%\n",
      "   └─ 알파 기지가 담당, 요격까지 1.7초\n",
      "🚀 H5: [█████░░░░░░░░░░░░░░░] 26.0%\n",
      "   └─ 브라보 기지가 담당, 요격까지 2.2초\n",
      "==================================================\n",
      "📊 현재 상황: 진행중 5개, 완료 0개\n",
      "🚀 다중 위협 분산 대응 시스템\n",
      "⏰ 현재 시간: 0.84초\n",
      "==================================================\n",
      "🚀 H1: [█████░░░░░░░░░░░░░░░] 28.9%\n",
      "   └─ 알파 기지가 담당, 요격까지 2.1초\n",
      "🚀 H2: [█████░░░░░░░░░░░░░░░] 28.7%\n",
      "   └─ 브라보 기지가 담당, 요격까지 2.1초\n",
      "🚀 H3: [█████░░░░░░░░░░░░░░░] 28.5%\n",
      "   └─ 브라보 기지가 담당, 요격까지 2.1초\n",
      "🚀 H4: [██████░░░░░░░░░░░░░░] 33.9%\n",
      "   └─ 알파 기지가 담당, 요격까지 1.6초\n",
      "🚀 H5: [█████░░░░░░░░░░░░░░░] 28.0%\n",
      "   └─ 브라보 기지가 담당, 요격까지 2.2초\n",
      "==================================================\n",
      "📊 현재 상황: 진행중 5개, 완료 0개\n",
      "🚀 다중 위협 분산 대응 시스템\n",
      "⏰ 현재 시간: 0.90초\n",
      "==================================================\n",
      "🚀 H1: [██████░░░░░░░░░░░░░░] 30.9%\n",
      "   └─ 알파 기지가 담당, 요격까지 2.0초\n",
      "🚀 H2: [██████░░░░░░░░░░░░░░] 30.7%\n",
      "   └─ 브라보 기지가 담당, 요격까지 2.0초\n",
      "🚀 H3: [██████░░░░░░░░░░░░░░] 30.5%\n",
      "   └─ 브라보 기지가 담당, 요격까지 2.1초\n",
      "🚀 H4: [███████░░░░░░░░░░░░░] 36.3%\n",
      "   └─ 알파 기지가 담당, 요격까지 1.6초\n",
      "🚀 H5: [██████░░░░░░░░░░░░░░] 30.0%\n",
      "   └─ 브라보 기지가 담당, 요격까지 2.1초\n",
      "==================================================\n",
      "📊 현재 상황: 진행중 5개, 완료 0개\n",
      "🚀 다중 위협 분산 대응 시스템\n",
      "⏰ 현재 시간: 0.96초\n",
      "==================================================\n",
      "🚀 H1: [██████░░░░░░░░░░░░░░] 33.0%\n",
      "   └─ 알파 기지가 담당, 요격까지 2.0초\n",
      "🚀 H2: [██████░░░░░░░░░░░░░░] 32.8%\n",
      "   └─ 브라보 기지가 담당, 요격까지 2.0초\n",
      "🚀 H3: [██████░░░░░░░░░░░░░░] 32.5%\n",
      "   └─ 브라보 기지가 담당, 요격까지 2.0초\n",
      "🚀 H4: [███████░░░░░░░░░░░░░] 38.7%\n",
      "   └─ 알파 기지가 담당, 요격까지 1.5초\n",
      "🚀 H5: [██████░░░░░░░░░░░░░░] 32.0%\n",
      "   └─ 브라보 기지가 담당, 요격까지 2.0초\n",
      "==================================================\n",
      "📊 현재 상황: 진행중 5개, 완료 0개\n",
      "🚀 다중 위협 분산 대응 시스템\n",
      "⏰ 현재 시간: 1.02초\n",
      "==================================================\n",
      "🚀 H1: [███████░░░░░░░░░░░░░] 35.1%\n",
      "   └─ 알파 기지가 담당, 요격까지 1.9초\n",
      "🚀 H2: [██████░░░░░░░░░░░░░░] 34.8%\n",
      "   └─ 브라보 기지가 담당, 요격까지 1.9초\n",
      "🚀 H3: [██████░░░░░░░░░░░░░░] 34.6%\n",
      "   └─ 브라보 기지가 담당, 요격까지 1.9초\n",
      "🚀 H4: [████████░░░░░░░░░░░░] 41.2%\n",
      "   └─ 알파 기지가 담당, 요격까지 1.5초\n",
      "🚀 H5: [██████░░░░░░░░░░░░░░] 34.0%\n",
      "   └─ 브라보 기지가 담당, 요격까지 2.0초\n",
      "==================================================\n",
      "📊 현재 상황: 진행중 5개, 완료 0개\n",
      "🚀 다중 위협 분산 대응 시스템\n",
      "⏰ 현재 시간: 1.08초\n",
      "==================================================\n",
      "🚀 H1: [███████░░░░░░░░░░░░░] 37.1%\n",
      "   └─ 알파 기지가 담당, 요격까지 1.8초\n",
      "🚀 H2: [███████░░░░░░░░░░░░░] 36.9%\n",
      "   └─ 브라보 기지가 담당, 요격까지 1.9초\n",
      "🚀 H3: [███████░░░░░░░░░░░░░] 36.6%\n",
      "   └─ 브라보 기지가 담당, 요격까지 1.9초\n",
      "🚀 H4: [████████░░░░░░░░░░░░] 43.6%\n",
      "   └─ 알파 기지가 담당, 요격까지 1.4초\n",
      "🚀 H5: [███████░░░░░░░░░░░░░] 36.0%\n",
      "   └─ 브라보 기지가 담당, 요격까지 1.9초\n",
      "==================================================\n",
      "📊 현재 상황: 진행중 5개, 완료 0개\n",
      "🚀 다중 위협 분산 대응 시스템\n",
      "⏰ 현재 시간: 1.14초\n",
      "==================================================\n",
      "🚀 H1: [███████░░░░░░░░░░░░░] 39.2%\n",
      "   └─ 알파 기지가 담당, 요격까지 1.8초\n",
      "🚀 H2: [███████░░░░░░░░░░░░░] 38.9%\n",
      "   └─ 브라보 기지가 담당, 요격까지 1.8초\n",
      "🚀 H3: [███████░░░░░░░░░░░░░] 38.6%\n",
      "   └─ 브라보 기지가 담당, 요격까지 1.8초\n",
      "🚀 H4: [█████████░░░░░░░░░░░] 46.0%\n",
      "   └─ 알파 기지가 담당, 요격까지 1.3초\n",
      "🚀 H5: [███████░░░░░░░░░░░░░] 38.0%\n",
      "   └─ 브라보 기지가 담당, 요격까지 1.9초\n",
      "==================================================\n",
      "📊 현재 상황: 진행중 5개, 완료 0개\n",
      "🚀 다중 위협 분산 대응 시스템\n",
      "⏰ 현재 시간: 1.20초\n",
      "==================================================\n",
      "🚀 H1: [████████░░░░░░░░░░░░] 41.2%\n",
      "   └─ 알파 기지가 담당, 요격까지 1.7초\n",
      "🚀 H2: [████████░░░░░░░░░░░░] 41.0%\n",
      "   └─ 브라보 기지가 담당, 요격까지 1.7초\n",
      "🚀 H3: [████████░░░░░░░░░░░░] 40.6%\n",
      "   └─ 브라보 기지가 담당, 요격까지 1.8초\n",
      "🚀 H4: [█████████░░░░░░░░░░░] 48.4%\n",
      "   └─ 알파 기지가 담당, 요격까지 1.3초\n",
      "🚀 H5: [████████░░░░░░░░░░░░] 40.0%\n",
      "   └─ 브라보 기지가 담당, 요격까지 1.8초\n",
      "==================================================\n",
      "📊 현재 상황: 진행중 5개, 완료 0개\n",
      "🚀 다중 위협 분산 대응 시스템\n",
      "⏰ 현재 시간: 1.26초\n",
      "==================================================\n",
      "🚀 H1: [████████░░░░░░░░░░░░] 43.3%\n",
      "   └─ 알파 기지가 담당, 요격까지 1.7초\n",
      "🚀 H2: [████████░░░░░░░░░░░░] 43.0%\n",
      "   └─ 브라보 기지가 담당, 요격까지 1.7초\n",
      "🚀 H3: [████████░░░░░░░░░░░░] 42.7%\n",
      "   └─ 브라보 기지가 담당, 요격까지 1.7초\n",
      "🚀 H4: [██████████░░░░░░░░░░] 50.8%\n",
      "   └─ 알파 기지가 담당, 요격까지 1.2초\n",
      "🚀 H5: [████████░░░░░░░░░░░░] 42.0%\n",
      "   └─ 브라보 기지가 담당, 요격까지 1.7초\n",
      "==================================================\n",
      "📊 현재 상황: 진행중 5개, 완료 0개\n",
      "🚀 다중 위협 분산 대응 시스템\n",
      "⏰ 현재 시간: 1.32초\n",
      "==================================================\n",
      "🚀 H1: [█████████░░░░░░░░░░░] 45.4%\n",
      "   └─ 알파 기지가 담당, 요격까지 1.6초\n",
      "🚀 H2: [█████████░░░░░░░░░░░] 45.1%\n",
      "   └─ 브라보 기지가 담당, 요격까지 1.6초\n",
      "🚀 H3: [████████░░░░░░░░░░░░] 44.7%\n",
      "   └─ 브라보 기지가 담당, 요격까지 1.6초\n",
      "🚀 H4: [██████████░░░░░░░░░░] 53.3%\n",
      "   └─ 알파 기지가 담당, 요격까지 1.2초\n",
      "🚀 H5: [████████░░░░░░░░░░░░] 44.0%\n",
      "   └─ 브라보 기지가 담당, 요격까지 1.7초\n",
      "==================================================\n",
      "📊 현재 상황: 진행중 5개, 완료 0개\n",
      "🚀 다중 위협 분산 대응 시스템\n",
      "⏰ 현재 시간: 1.38초\n",
      "==================================================\n",
      "🚀 H1: [█████████░░░░░░░░░░░] 47.4%\n",
      "   └─ 알파 기지가 담당, 요격까지 1.5초\n",
      "🚀 H2: [█████████░░░░░░░░░░░] 47.1%\n",
      "   └─ 브라보 기지가 담당, 요격까지 1.6초\n",
      "🚀 H3: [█████████░░░░░░░░░░░] 46.7%\n",
      "   └─ 브라보 기지가 담당, 요격까지 1.6초\n",
      "🚀 H4: [███████████░░░░░░░░░] 55.7%\n",
      "   └─ 알파 기지가 담당, 요격까지 1.1초\n",
      "🚀 H5: [█████████░░░░░░░░░░░] 46.0%\n",
      "   └─ 브라보 기지가 담당, 요격까지 1.6초\n",
      "==================================================\n",
      "📊 현재 상황: 진행중 5개, 완료 0개\n",
      "🚀 다중 위협 분산 대응 시스템\n",
      "⏰ 현재 시간: 1.44초\n",
      "==================================================\n",
      "🚀 H1: [█████████░░░░░░░░░░░] 49.5%\n",
      "   └─ 알파 기지가 담당, 요격까지 1.5초\n",
      "🚀 H2: [█████████░░░░░░░░░░░] 49.2%\n",
      "   └─ 브라보 기지가 담당, 요격까지 1.5초\n",
      "🚀 H3: [█████████░░░░░░░░░░░] 48.8%\n",
      "   └─ 브라보 기지가 담당, 요격까지 1.5초\n",
      "🚀 H4: [███████████░░░░░░░░░] 58.1%\n",
      "   └─ 알파 기지가 담당, 요격까지 1.0초\n",
      "🚀 H5: [█████████░░░░░░░░░░░] 48.0%\n",
      "   └─ 브라보 기지가 담당, 요격까지 1.6초\n",
      "==================================================\n",
      "📊 현재 상황: 진행중 5개, 완료 0개\n",
      "🚀 다중 위협 분산 대응 시스템\n",
      "⏰ 현재 시간: 1.50초\n",
      "==================================================\n",
      "🚀 H1: [██████████░░░░░░░░░░] 51.5%\n",
      "   └─ 알파 기지가 담당, 요격까지 1.4초\n",
      "🚀 H2: [██████████░░░░░░░░░░] 51.2%\n",
      "   └─ 브라보 기지가 담당, 요격까지 1.4초\n",
      "🚀 H3: [██████████░░░░░░░░░░] 50.8%\n",
      "   └─ 브라보 기지가 담당, 요격까지 1.5초\n",
      "🚀 H4: [████████████░░░░░░░░] 60.5%\n",
      "   └─ 알파 기지가 담당, 요격까지 1.0초\n",
      "🚀 H5: [██████████░░░░░░░░░░] 50.0%\n",
      "   └─ 브라보 기지가 담당, 요격까지 1.5초\n",
      "==================================================\n",
      "📊 현재 상황: 진행중 5개, 완료 0개\n",
      "🚀 다중 위협 분산 대응 시스템\n",
      "⏰ 현재 시간: 1.56초\n",
      "==================================================\n",
      "🚀 H1: [██████████░░░░░░░░░░] 53.6%\n",
      "   └─ 알파 기지가 담당, 요격까지 1.4초\n",
      "🚀 H2: [██████████░░░░░░░░░░] 53.3%\n",
      "   └─ 브라보 기지가 담당, 요격까지 1.4초\n",
      "🚀 H3: [██████████░░░░░░░░░░] 52.8%\n",
      "   └─ 브라보 기지가 담당, 요격까지 1.4초\n",
      "🚀 H4: [████████████░░░░░░░░] 62.9%\n",
      "   └─ 알파 기지가 담당, 요격까지 0.9초\n",
      "🚀 H5: [██████████░░░░░░░░░░] 52.0%\n",
      "   └─ 브라보 기지가 담당, 요격까지 1.4초\n",
      "==================================================\n",
      "📊 현재 상황: 진행중 5개, 완료 0개\n",
      "🚀 다중 위협 분산 대응 시스템\n",
      "⏰ 현재 시간: 1.62초\n",
      "==================================================\n",
      "🚀 H1: [███████████░░░░░░░░░] 55.7%\n",
      "   └─ 알파 기지가 담당, 요격까지 1.3초\n",
      "🚀 H2: [███████████░░░░░░░░░] 55.3%\n",
      "   └─ 브라보 기지가 담당, 요격까지 1.3초\n",
      "🚀 H3: [██████████░░░░░░░░░░] 54.9%\n",
      "   └─ 브라보 기지가 담당, 요격까지 1.3초\n",
      "🚀 H4: [█████████████░░░░░░░] 65.4%\n",
      "   └─ 알파 기지가 담당, 요격까지 0.9초\n",
      "🚀 H5: [██████████░░░░░░░░░░] 54.0%\n",
      "   └─ 브라보 기지가 담당, 요격까지 1.4초\n",
      "==================================================\n",
      "📊 현재 상황: 진행중 5개, 완료 0개\n",
      "🚀 다중 위협 분산 대응 시스템\n",
      "⏰ 현재 시간: 1.68초\n",
      "==================================================\n",
      "🚀 H1: [███████████░░░░░░░░░] 57.7%\n",
      "   └─ 알파 기지가 담당, 요격까지 1.2초\n",
      "🚀 H2: [███████████░░░░░░░░░] 57.4%\n",
      "   └─ 브라보 기지가 담당, 요격까지 1.3초\n",
      "🚀 H3: [███████████░░░░░░░░░] 56.9%\n",
      "   └─ 브라보 기지가 담당, 요격까지 1.3초\n",
      "🚀 H4: [█████████████░░░░░░░] 67.8%\n",
      "   └─ 알파 기지가 담당, 요격까지 0.8초\n",
      "🚀 H5: [███████████░░░░░░░░░] 56.0%\n",
      "   └─ 브라보 기지가 담당, 요격까지 1.3초\n",
      "==================================================\n",
      "📊 현재 상황: 진행중 5개, 완료 0개\n",
      "🚀 다중 위협 분산 대응 시스템\n",
      "⏰ 현재 시간: 1.74초\n",
      "==================================================\n",
      "🚀 H1: [███████████░░░░░░░░░] 59.8%\n",
      "   └─ 알파 기지가 담당, 요격까지 1.2초\n",
      "🚀 H2: [███████████░░░░░░░░░] 59.4%\n",
      "   └─ 브라보 기지가 담당, 요격까지 1.2초\n",
      "🚀 H3: [███████████░░░░░░░░░] 58.9%\n",
      "   └─ 브라보 기지가 담당, 요격까지 1.2초\n",
      "🚀 H4: [██████████████░░░░░░] 70.2%\n",
      "   └─ 알파 기지가 담당, 요격까지 0.7초\n",
      "🚀 H5: [███████████░░░░░░░░░] 58.0%\n",
      "   └─ 브라보 기지가 담당, 요격까지 1.3초\n",
      "==================================================\n",
      "📊 현재 상황: 진행중 5개, 완료 0개\n",
      "🚀 다중 위협 분산 대응 시스템\n",
      "⏰ 현재 시간: 1.80초\n",
      "==================================================\n",
      "🚀 H1: [████████████░░░░░░░░] 61.9%\n",
      "   └─ 알파 기지가 담당, 요격까지 1.1초\n",
      "🚀 H2: [████████████░░░░░░░░] 61.5%\n",
      "   └─ 브라보 기지가 담당, 요격까지 1.1초\n",
      "🚀 H3: [████████████░░░░░░░░] 61.0%\n",
      "   └─ 브라보 기지가 담당, 요격까지 1.2초\n",
      "🚀 H4: [██████████████░░░░░░] 72.6%\n",
      "   └─ 알파 기지가 담당, 요격까지 0.7초\n",
      "🚀 H5: [████████████░░░░░░░░] 60.0%\n",
      "   └─ 브라보 기지가 담당, 요격까지 1.2초\n",
      "==================================================\n",
      "📊 현재 상황: 진행중 5개, 완료 0개\n",
      "🚀 다중 위협 분산 대응 시스템\n",
      "⏰ 현재 시간: 1.86초\n",
      "==================================================\n",
      "🚀 H1: [████████████░░░░░░░░] 63.9%\n",
      "   └─ 알파 기지가 담당, 요격까지 1.1초\n",
      "🚀 H2: [████████████░░░░░░░░] 63.5%\n",
      "   └─ 브라보 기지가 담당, 요격까지 1.1초\n",
      "🚀 H3: [████████████░░░░░░░░] 63.0%\n",
      "   └─ 브라보 기지가 담당, 요격까지 1.1초\n",
      "🚀 H4: [███████████████░░░░░] 75.1%\n",
      "   └─ 알파 기지가 담당, 요격까지 0.6초\n",
      "🚀 H5: [████████████░░░░░░░░] 62.0%\n",
      "   └─ 브라보 기지가 담당, 요격까지 1.1초\n",
      "==================================================\n",
      "📊 현재 상황: 진행중 5개, 완료 0개\n",
      "🚀 다중 위협 분산 대응 시스템\n",
      "⏰ 현재 시간: 1.92초\n",
      "==================================================\n",
      "🚀 H1: [█████████████░░░░░░░] 66.0%\n",
      "   └─ 알파 기지가 담당, 요격까지 1.0초\n",
      "🚀 H2: [█████████████░░░░░░░] 65.6%\n",
      "   └─ 브라보 기지가 담당, 요격까지 1.0초\n",
      "🚀 H3: [█████████████░░░░░░░] 65.0%\n",
      "   └─ 브라보 기지가 담당, 요격까지 1.0초\n",
      "🚀 H4: [███████████████░░░░░] 77.5%\n",
      "   └─ 알파 기지가 담당, 요격까지 0.6초\n",
      "🚀 H5: [████████████░░░░░░░░] 64.0%\n",
      "   └─ 브라보 기지가 담당, 요격까지 1.1초\n",
      "==================================================\n",
      "📊 현재 상황: 진행중 5개, 완료 0개\n",
      "🚀 다중 위협 분산 대응 시스템\n",
      "⏰ 현재 시간: 1.98초\n",
      "==================================================\n",
      "🚀 H1: [█████████████░░░░░░░] 68.0%\n",
      "   └─ 알파 기지가 담당, 요격까지 0.9초\n",
      "🚀 H2: [█████████████░░░░░░░] 67.6%\n",
      "   └─ 브라보 기지가 담당, 요격까지 1.0초\n",
      "🚀 H3: [█████████████░░░░░░░] 67.1%\n",
      "   └─ 브라보 기지가 담당, 요격까지 1.0초\n",
      "🚀 H4: [███████████████░░░░░] 79.9%\n",
      "   └─ 알파 기지가 담당, 요격까지 0.5초\n",
      "🚀 H5: [█████████████░░░░░░░] 66.0%\n",
      "   └─ 브라보 기지가 담당, 요격까지 1.0초\n",
      "==================================================\n",
      "📊 현재 상황: 진행중 5개, 완료 0개\n",
      "🚀 다중 위협 분산 대응 시스템\n",
      "⏰ 현재 시간: 2.04초\n",
      "==================================================\n",
      "🚀 H1: [██████████████░░░░░░] 70.1%\n",
      "   └─ 알파 기지가 담당, 요격까지 0.9초\n",
      "🚀 H2: [█████████████░░░░░░░] 69.6%\n",
      "   └─ 브라보 기지가 담당, 요격까지 0.9초\n",
      "🚀 H3: [█████████████░░░░░░░] 69.1%\n",
      "   └─ 브라보 기지가 담당, 요격까지 0.9초\n",
      "🚀 H4: [████████████████░░░░] 82.3%\n",
      "   └─ 알파 기지가 담당, 요격까지 0.4초\n",
      "🚀 H5: [█████████████░░░░░░░] 68.0%\n",
      "   └─ 브라보 기지가 담당, 요격까지 1.0초\n",
      "==================================================\n",
      "📊 현재 상황: 진행중 5개, 완료 0개\n",
      "🚀 다중 위협 분산 대응 시스템\n",
      "⏰ 현재 시간: 2.10초\n",
      "==================================================\n",
      "🚀 H1: [██████████████░░░░░░] 72.2%\n",
      "   └─ 알파 기지가 담당, 요격까지 0.8초\n",
      "🚀 H2: [██████████████░░░░░░] 71.7%\n",
      "   └─ 브라보 기지가 담당, 요격까지 0.8초\n",
      "🚀 H3: [██████████████░░░░░░] 71.1%\n",
      "   └─ 브라보 기지가 담당, 요격까지 0.9초\n",
      "🚀 H4: [████████████████░░░░] 84.7%\n",
      "   └─ 알파 기지가 담당, 요격까지 0.4초\n",
      "🚀 H5: [██████████████░░░░░░] 70.0%\n",
      "   └─ 브라보 기지가 담당, 요격까지 0.9초\n",
      "==================================================\n",
      "📊 현재 상황: 진행중 5개, 완료 0개\n",
      "🚀 다중 위협 분산 대응 시스템\n",
      "⏰ 현재 시간: 2.16초\n",
      "==================================================\n",
      "🚀 H1: [██████████████░░░░░░] 74.2%\n",
      "   └─ 알파 기지가 담당, 요격까지 0.8초\n",
      "🚀 H2: [██████████████░░░░░░] 73.7%\n",
      "   └─ 브라보 기지가 담당, 요격까지 0.8초\n",
      "🚀 H3: [██████████████░░░░░░] 73.2%\n",
      "   └─ 브라보 기지가 담당, 요격까지 0.8초\n",
      "🚀 H4: [█████████████████░░░] 87.2%\n",
      "   └─ 알파 기지가 담당, 요격까지 0.3초\n",
      "🚀 H5: [██████████████░░░░░░] 72.0%\n",
      "   └─ 브라보 기지가 담당, 요격까지 0.8초\n",
      "==================================================\n",
      "📊 현재 상황: 진행중 5개, 완료 0개\n",
      "🚀 다중 위협 분산 대응 시스템\n",
      "⏰ 현재 시간: 2.22초\n",
      "==================================================\n",
      "🚀 H1: [███████████████░░░░░] 76.3%\n",
      "   └─ 알파 기지가 담당, 요격까지 0.7초\n",
      "🚀 H2: [███████████████░░░░░] 75.8%\n",
      "   └─ 브라보 기지가 담당, 요격까지 0.7초\n",
      "🚀 H3: [███████████████░░░░░] 75.2%\n",
      "   └─ 브라보 기지가 담당, 요격까지 0.7초\n",
      "🚀 H4: [█████████████████░░░] 89.6%\n",
      "   └─ 알파 기지가 담당, 요격까지 0.3초\n",
      "🚀 H5: [██████████████░░░░░░] 74.0%\n",
      "   └─ 브라보 기지가 담당, 요격까지 0.8초\n",
      "==================================================\n",
      "📊 현재 상황: 진행중 5개, 완료 0개\n",
      "🚀 다중 위협 분산 대응 시스템\n",
      "⏰ 현재 시간: 2.28초\n",
      "==================================================\n",
      "🚀 H1: [███████████████░░░░░] 78.3%\n",
      "   └─ 알파 기지가 담당, 요격까지 0.6초\n",
      "🚀 H2: [███████████████░░░░░] 77.8%\n",
      "   └─ 브라보 기지가 담당, 요격까지 0.7초\n",
      "🚀 H3: [███████████████░░░░░] 77.2%\n",
      "   └─ 브라보 기지가 담당, 요격까지 0.7초\n",
      "🚀 H4: [██████████████████░░] 92.0%\n",
      "   └─ 알파 기지가 담당, 요격까지 0.2초\n",
      "🚀 H5: [███████████████░░░░░] 76.0%\n",
      "   └─ 브라보 기지가 담당, 요격까지 0.7초\n",
      "==================================================\n",
      "📊 현재 상황: 진행중 5개, 완료 0개\n",
      "🚀 다중 위협 분산 대응 시스템\n",
      "⏰ 현재 시간: 2.34초\n",
      "==================================================\n",
      "🚀 H1: [████████████████░░░░] 80.4%\n",
      "   └─ 알파 기지가 담당, 요격까지 0.6초\n",
      "🚀 H2: [███████████████░░░░░] 79.9%\n",
      "   └─ 브라보 기지가 담당, 요격까지 0.6초\n",
      "🚀 H3: [███████████████░░░░░] 79.3%\n",
      "   └─ 브라보 기지가 담당, 요격까지 0.6초\n",
      "🚀 H4: [██████████████████░░] 94.4%\n",
      "   └─ 알파 기지가 담당, 요격까지 0.1초\n",
      "🚀 H5: [███████████████░░░░░] 78.0%\n",
      "   └─ 브라보 기지가 담당, 요격까지 0.7초\n",
      "==================================================\n",
      "📊 현재 상황: 진행중 5개, 완료 0개\n",
      "🚀 다중 위협 분산 대응 시스템\n",
      "⏰ 현재 시간: 2.41초\n",
      "==================================================\n",
      "🚀 H1: [████████████████░░░░] 82.5%\n",
      "   └─ 알파 기지가 담당, 요격까지 0.5초\n",
      "🚀 H2: [████████████████░░░░] 81.9%\n",
      "   └─ 브라보 기지가 담당, 요격까지 0.5초\n",
      "🚀 H3: [████████████████░░░░] 81.3%\n",
      "   └─ 브라보 기지가 담당, 요격까지 0.6초\n",
      "🚀 H4: [███████████████████░] 96.8%\n",
      "   └─ 알파 기지가 담당, 요격까지 0.1초\n",
      "🚀 H5: [████████████████░░░░] 80.0%\n",
      "   └─ 브라보 기지가 담당, 요격까지 0.6초\n",
      "==================================================\n",
      "📊 현재 상황: 진행중 5개, 완료 0개\n",
      "🚀 다중 위협 분산 대응 시스템\n",
      "⏰ 현재 시간: 2.47초\n",
      "==================================================\n",
      "🚀 H1: [████████████████░░░░] 84.5%\n",
      "   └─ 알파 기지가 담당, 요격까지 0.5초\n",
      "🚀 H2: [████████████████░░░░] 84.0%\n",
      "   └─ 브라보 기지가 담당, 요격까지 0.5초\n",
      "🚀 H3: [████████████████░░░░] 83.3%\n",
      "   └─ 브라보 기지가 담당, 요격까지 0.5초\n",
      "🚀 H4: [███████████████████░] 99.3%\n",
      "   └─ 알파 기지가 담당, 요격까지 0.0초\n",
      "🚀 H5: [████████████████░░░░] 82.0%\n",
      "   └─ 브라보 기지가 담당, 요격까지 0.5초\n",
      "==================================================\n",
      "📊 현재 상황: 진행중 5개, 완료 0개\n",
      "🚀 다중 위협 분산 대응 시스템\n",
      "⏰ 현재 시간: 2.53초\n",
      "==================================================\n",
      "🚀 H1: [█████████████████░░░] 86.6%\n",
      "   └─ 알파 기지가 담당, 요격까지 0.4초\n",
      "🚀 H2: [█████████████████░░░] 86.0%\n",
      "   └─ 브라보 기지가 담당, 요격까지 0.4초\n",
      "🚀 H3: [█████████████████░░░] 85.4%\n",
      "   └─ 브라보 기지가 담당, 요격까지 0.4초\n",
      "💥 H4: [████████████████████] 요격완료!\n",
      "   └─ 알파 기지가 2.48초에 성공적으로 요격\n",
      "🚀 H5: [████████████████░░░░] 84.0%\n",
      "   └─ 브라보 기지가 담당, 요격까지 0.5초\n",
      "==================================================\n",
      "📊 현재 상황: 진행중 4개, 완료 1개\n",
      "🚀 다중 위협 분산 대응 시스템\n",
      "⏰ 현재 시간: 2.59초\n",
      "==================================================\n",
      "🚀 H1: [█████████████████░░░] 88.7%\n",
      "   └─ 알파 기지가 담당, 요격까지 0.3초\n",
      "🚀 H2: [█████████████████░░░] 88.1%\n",
      "   └─ 브라보 기지가 담당, 요격까지 0.3초\n",
      "🚀 H3: [█████████████████░░░] 87.4%\n",
      "   └─ 브라보 기지가 담당, 요격까지 0.4초\n",
      "💥 H4: [████████████████████] 요격완료!\n",
      "   └─ 알파 기지가 2.48초에 성공적으로 요격\n",
      "🚀 H5: [█████████████████░░░] 86.0%\n",
      "   └─ 브라보 기지가 담당, 요격까지 0.4초\n",
      "==================================================\n",
      "📊 현재 상황: 진행중 4개, 완료 1개\n",
      "🚀 다중 위협 분산 대응 시스템\n",
      "⏰ 현재 시간: 2.65초\n",
      "==================================================\n",
      "🚀 H1: [██████████████████░░] 90.7%\n",
      "   └─ 알파 기지가 담당, 요격까지 0.3초\n",
      "🚀 H2: [██████████████████░░] 90.1%\n",
      "   └─ 브라보 기지가 담당, 요격까지 0.3초\n",
      "🚀 H3: [█████████████████░░░] 89.4%\n",
      "   └─ 브라보 기지가 담당, 요격까지 0.3초\n",
      "💥 H4: [████████████████████] 요격완료!\n",
      "   └─ 알파 기지가 2.48초에 성공적으로 요격\n",
      "🚀 H5: [█████████████████░░░] 88.0%\n",
      "   └─ 브라보 기지가 담당, 요격까지 0.4초\n",
      "==================================================\n",
      "📊 현재 상황: 진행중 4개, 완료 1개\n",
      "🚀 다중 위협 분산 대응 시스템\n",
      "⏰ 현재 시간: 2.71초\n",
      "==================================================\n",
      "🚀 H1: [██████████████████░░] 92.8%\n",
      "   └─ 알파 기지가 담당, 요격까지 0.2초\n",
      "🚀 H2: [██████████████████░░] 92.2%\n",
      "   └─ 브라보 기지가 담당, 요격까지 0.2초\n",
      "🚀 H3: [██████████████████░░] 91.5%\n",
      "   └─ 브라보 기지가 담당, 요격까지 0.3초\n",
      "💥 H4: [████████████████████] 요격완료!\n",
      "   └─ 알파 기지가 2.48초에 성공적으로 요격\n",
      "🚀 H5: [██████████████████░░] 90.0%\n",
      "   └─ 브라보 기지가 담당, 요격까지 0.3초\n",
      "==================================================\n",
      "📊 현재 상황: 진행중 4개, 완료 1개\n",
      "🚀 다중 위협 분산 대응 시스템\n",
      "⏰ 현재 시간: 2.77초\n",
      "==================================================\n",
      "🚀 H1: [██████████████████░░] 94.8%\n",
      "   └─ 알파 기지가 담당, 요격까지 0.2초\n",
      "🚀 H2: [██████████████████░░] 94.2%\n",
      "   └─ 브라보 기지가 담당, 요격까지 0.2초\n",
      "🚀 H3: [██████████████████░░] 93.5%\n",
      "   └─ 브라보 기지가 담당, 요격까지 0.2초\n",
      "💥 H4: [████████████████████] 요격완료!\n",
      "   └─ 알파 기지가 2.48초에 성공적으로 요격\n",
      "🚀 H5: [██████████████████░░] 92.0%\n",
      "   └─ 브라보 기지가 담당, 요격까지 0.2초\n",
      "==================================================\n",
      "📊 현재 상황: 진행중 4개, 완료 1개\n",
      "🚀 다중 위협 분산 대응 시스템\n",
      "⏰ 현재 시간: 2.83초\n",
      "==================================================\n",
      "🚀 H1: [███████████████████░] 96.9%\n",
      "   └─ 알파 기지가 담당, 요격까지 0.1초\n",
      "🚀 H2: [███████████████████░] 96.3%\n",
      "   └─ 브라보 기지가 담당, 요격까지 0.1초\n",
      "🚀 H3: [███████████████████░] 95.5%\n",
      "   └─ 브라보 기지가 담당, 요격까지 0.1초\n",
      "💥 H4: [████████████████████] 요격완료!\n",
      "   └─ 알파 기지가 2.48초에 성공적으로 요격\n",
      "🚀 H5: [██████████████████░░] 94.0%\n",
      "   └─ 브라보 기지가 담당, 요격까지 0.2초\n",
      "==================================================\n",
      "📊 현재 상황: 진행중 4개, 완료 1개\n",
      "🚀 다중 위협 분산 대응 시스템\n",
      "⏰ 현재 시간: 2.89초\n",
      "==================================================\n",
      "🚀 H1: [███████████████████░] 99.0%\n",
      "   └─ 알파 기지가 담당, 요격까지 0.0초\n",
      "🚀 H2: [███████████████████░] 98.3%\n",
      "   └─ 브라보 기지가 담당, 요격까지 0.0초\n",
      "🚀 H3: [███████████████████░] 97.6%\n",
      "   └─ 브라보 기지가 담당, 요격까지 0.1초\n",
      "💥 H4: [████████████████████] 요격완료!\n",
      "   └─ 알파 기지가 2.48초에 성공적으로 요격\n",
      "🚀 H5: [███████████████████░] 96.0%\n",
      "   └─ 브라보 기지가 담당, 요격까지 0.1초\n",
      "==================================================\n",
      "📊 현재 상황: 진행중 4개, 완료 1개\n",
      "🚀 다중 위협 분산 대응 시스템\n",
      "⏰ 현재 시간: 2.95초\n",
      "==================================================\n",
      "💥 H1: [████████████████████] 요격완료!\n",
      "   └─ 알파 기지가 2.92초에 성공적으로 요격\n",
      "💥 H2: [████████████████████] 요격완료!\n",
      "   └─ 브라보 기지가 2.94초에 성공적으로 요격\n",
      "🚀 H3: [███████████████████░] 99.6%\n",
      "   └─ 브라보 기지가 담당, 요격까지 0.0초\n",
      "💥 H4: [████████████████████] 요격완료!\n",
      "   └─ 알파 기지가 2.48초에 성공적으로 요격\n",
      "🚀 H5: [███████████████████░] 98.0%\n",
      "   └─ 브라보 기지가 담당, 요격까지 0.1초\n",
      "==================================================\n",
      "📊 현재 상황: 진행중 2개, 완료 3개\n",
      "🚀 다중 위협 분산 대응 시스템\n",
      "⏰ 현재 시간: 3.01초\n",
      "==================================================\n",
      "💥 H1: [████████████████████] 요격완료!\n",
      "   └─ 알파 기지가 2.92초에 성공적으로 요격\n",
      "💥 H2: [████████████████████] 요격완료!\n",
      "   └─ 브라보 기지가 2.94초에 성공적으로 요격\n",
      "💥 H3: [████████████████████] 요격완료!\n",
      "   └─ 브라보 기지가 2.96초에 성공적으로 요격\n",
      "💥 H4: [████████████████████] 요격완료!\n",
      "   └─ 알파 기지가 2.48초에 성공적으로 요격\n",
      "🚀 H5: [████████████████████] 100.0%\n",
      "   └─ 브라보 기지가 담당, 요격까지 0.0초\n",
      "==================================================\n",
      "📊 현재 상황: 진행중 1개, 완료 4개\n",
      "\\n✅ 실시간 애니메이션 완료!\n"
     ]
    }
   ],
   "source": [
    "# 7. 간단한 실시간 애니메이션\n",
    "print(\"\\n\" + \"=\"*70)\n",
    "print(\"⚡ 7단계: 간단한 실시간 애니메이션\")\n",
    "print(\"=\"*70)\n",
    "\n",
    "def create_simple_realtime_animation():\n",
    "    \"\"\"간단하고 빠른 실시간 애니메이션\"\"\"\n",
    "    \n",
    "    max_intercept_time = max([r['final_time'] for r in allocation_results if r['final_time']])\n",
    "    num_steps = 50\n",
    "    time_step = max_intercept_time / num_steps\n",
    "    \n",
    "    colors = ['red', 'orange', 'green', 'purple', 'brown']\n",
    "    \n",
    "    print(f\"🎬 실시간 애니메이션 시작 (총 {max_intercept_time:.1f}초)\")\n",
    "    print(\"=\"*50)\n",
    "    \n",
    "    for step in range(num_steps + 1):\n",
    "        current_time = step * time_step\n",
    "        \n",
    "        # 화면 지우기 (간단한 방법)\n",
    "        import os\n",
    "        if os.name == 'nt':  # Windows\n",
    "            os.system('cls')\n",
    "        else:  # Unix/Linux/Mac\n",
    "            os.system('clear')\n",
    "        \n",
    "        print(f\"🚀 다중 위협 분산 대응 시스템\")\n",
    "        print(f\"⏰ 현재 시간: {current_time:.2f}초\")\n",
    "        print(\"=\"*50)\n",
    "        \n",
    "        active_count = 0\n",
    "        completed_count = 0\n",
    "        \n",
    "        for i, result in enumerate(allocation_results):\n",
    "            if result['final_time']:\n",
    "                missile_name = result['missile']\n",
    "                assigned_base = result['assigned_base']\n",
    "                final_time = result['final_time']\n",
    "                intercept_point = result['intercept_point']\n",
    "                \n",
    "                if current_time <= final_time:\n",
    "                    # 진행 중\n",
    "                    progress = (current_time / final_time) * 100\n",
    "                    status_bar = \"█\" * int(progress // 5) + \"░\" * (20 - int(progress // 5))\n",
    "                    \n",
    "                    print(f\"🚀 {missile_name}: [{status_bar}] {progress:.1f}%\")\n",
    "                    print(f\"   └─ {assigned_base} 기지가 담당, 요격까지 {final_time-current_time:.1f}초\")\n",
    "                    active_count += 1\n",
    "                    \n",
    "                else:\n",
    "                    # 완료\n",
    "                    print(f\"💥 {missile_name}: [████████████████████] 요격완료!\")\n",
    "                    print(f\"   └─ {assigned_base} 기지가 {final_time:.2f}초에 성공적으로 요격\")\n",
    "                    completed_count += 1\n",
    "        \n",
    "        print(\"=\"*50)\n",
    "        print(f\"📊 현재 상황: 진행중 {active_count}개, 완료 {completed_count}개\")\n",
    "        \n",
    "        if active_count == 0:\n",
    "            print(\"🎉 모든 미사일 요격 완료!\")\n",
    "            break\n",
    "            \n",
    "        # 잠시 대기\n",
    "        import time\n",
    "        time.sleep(0.2)\n",
    "    \n",
    "    print(\"\\\\n✅ 실시간 애니메이션 완료!\")\n",
    "\n",
    "# 간단한 애니메이션 실행\n",
    "print(\"실시간 텍스트 애니메이션을 시작하시겠습니까? (y/n)\")\n",
    "# 자동으로 실행\n",
    "import time\n",
    "time.sleep(1)\n",
    "print(\"자동 실행 중...\")\n",
    "\n",
    "create_simple_realtime_animation()"
   ]
  },
  {
   "cell_type": "markdown",
   "id": "23578f77",
   "metadata": {},
   "source": [
    "# 🎬 동영상 애니메이션 완성!\n",
    "\n",
    "## 📋 구현된 애니메이션 종류:\n",
    "\n",
    "### 1. **🌐 Plotly 인터랙티브 애니메이션**\n",
    "- 재생/정지 컨트롤 제공\n",
    "- 3D 회전 및 확대/축소 가능\n",
    "- 실시간 궤적 추적\n",
    "- 웹 브라우저에서 부드러운 재생\n",
    "\n",
    "### 2. **🎥 Matplotlib 동영상 애니메이션** \n",
    "- 고해상도 3D 시각화\n",
    "- 120프레임 부드러운 애니메이션\n",
    "- 동적 카메라 회전\n",
    "- 실시간 미사일 및 요격 과정 표시\n",
    "\n",
    "### 3. **💾 동영상 파일 저장 기능**\n",
    "- MP4 고품질 동영상 출력\n",
    "- GIF 애니메이션 대체 저장\n",
    "- 1600x1200 해상도 지원\n",
    "- 15 FPS 부드러운 재생\n",
    "\n",
    "### 4. **⚡ 실시간 텍스트 애니메이션**\n",
    "- 콘솔 기반 진행상황 표시\n",
    "- 실시간 프로그레스 바\n",
    "- 미사일별 상태 추적\n",
    "- 빠른 개요 확인용\n",
    "\n",
    "## 🎯 동영상 애니메이션의 특징:\n",
    "\n",
    "- **실감나는 3D 시각화**: 5개 미사일이 동시에 날아오는 모습을 생생하게 표현\n",
    "- **전략적 시점**: 다양한 각도에서 전투 상황을 관찰 가능\n",
    "- **실시간 추적**: 각 미사일과 요격미사일의 실시간 위치 표시\n",
    "- **완전한 시나리오**: 탐지부터 요격 완료까지 전 과정 애니메이션\n",
    "\n",
    "## 🏆 최종 성과:\n",
    "\n",
    "✅ **다중 위협 분산 대응 시스템 완전 구현**  \n",
    "✅ **4가지 종류의 애니메이션 제공**  \n",
    "✅ **동영상 파일 저장 기능**  \n",
    "✅ **실시간 상황 모니터링**  \n",
    "\n",
    "---\n",
    "\n",
    "**🚀 바이브코딩 3일차 문제 2 + 동영상 애니메이션 완성! 🎉**"
   ]
  }
 ],
 "metadata": {
  "kernelspec": {
   "display_name": "Python 3",
   "language": "python",
   "name": "python3"
  },
  "language_info": {
   "codemirror_mode": {
    "name": "ipython",
    "version": 3
   },
   "file_extension": ".py",
   "mimetype": "text/x-python",
   "name": "python",
   "nbconvert_exporter": "python",
   "pygments_lexer": "ipython3",
   "version": "3.10.9"
  }
 },
 "nbformat": 4,
 "nbformat_minor": 5
}
